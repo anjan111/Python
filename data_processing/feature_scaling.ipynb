{
 "cells": [
  {
   "cell_type": "markdown",
   "metadata": {},
   "source": [
    " http://benalexkeen.com/feature-scaling-with-scikit-learn/\n",
    " \n",
    " https://machinelearningmastery.com/prepare-data-machine-learning-python-scikit-learn/\n",
    "\n",
    "\n",
    "Min Max scalar\n",
    "\n",
    "    x_std =(x-x.min(axis=0))/(x.max(axis=0)-x.min(axis=0)\n",
    "    x_scaled =x_std*(max-min)+min"
   ]
  }
 ],
 "metadata": {
  "kernelspec": {
   "display_name": "Python 2",
   "language": "python",
   "name": "python2"
  },
  "language_info": {
   "codemirror_mode": {
    "name": "ipython",
    "version": 2
   },
   "file_extension": ".py",
   "mimetype": "text/x-python",
   "name": "python",
   "nbconvert_exporter": "python",
   "pygments_lexer": "ipython2",
   "version": "2.7.16"
  }
 },
 "nbformat": 4,
 "nbformat_minor": 2
}
