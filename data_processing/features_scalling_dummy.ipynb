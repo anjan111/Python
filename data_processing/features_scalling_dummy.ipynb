{
 "cells": [
  {
   "cell_type": "code",
   "execution_count": 2,
   "metadata": {},
   "outputs": [
    {
     "name": "stdout",
     "output_type": "stream",
     "text": [
      "66406.14285714286\n",
      "[4396504580.591837, 3770714380.5918365, 3908518186.3061223, 151522457864.16327, 4399422534.877551, 4406721655.591837, 4397963436.734694]\n"
     ]
    }
   ],
   "source": [
    "x = [100,5000,3888,455665,78,23,89]\n",
    "x_m = sum(x)/len(x)\n",
    "print(x_m)\n",
    "x_df =[(i-x_m)**2  for i in x]\n",
    "print(x_df)"
   ]
  },
  {
   "cell_type": "code",
   "execution_count": 4,
   "metadata": {},
   "outputs": [
    {
     "name": "stdout",
     "output_type": "stream",
     "text": [
      "25257471805.55102\n",
      "158925.9947445698\n"
     ]
    }
   ],
   "source": [
    "x_v = sum(x_df)/len(x_df)\n",
    "print(x_v)\n",
    "x_std =x_v ** 0.5\n",
    "print(x_std)"
   ]
  },
  {
   "cell_type": "code",
   "execution_count": 5,
   "metadata": {},
   "outputs": [
    {
     "name": "stdout",
     "output_type": "stream",
     "text": [
      "[-0.41721395523565485, -0.38638199468775697, -0.3933789620610758, 2.449308923744568, -0.41735238444627804, -0.41769845747283607, -0.4172831698409664]\n"
     ]
    }
   ],
   "source": [
    "x_n = [(i - x_m)/x_std  for i in x]\n",
    "print(x_n)"
   ]
  },
  {
   "cell_type": "code",
   "execution_count": 13,
   "metadata": {},
   "outputs": [
    {
     "name": "stdout",
     "output_type": "stream",
     "text": [
      "[0.00016899232292018733, 0.010923049236023018, 0.008482536728396417, 1.0, 0.0001207088020858481, 0.0, 0.0001448505625030177]\n"
     ]
    }
   ],
   "source": [
    "x_min_max = [(i - min(x))/(max(x)-min(x))  for i in x]\n",
    "print(x_min_max)"
   ]
  }
 ],
 "metadata": {
  "kernelspec": {
   "display_name": "Python 2",
   "language": "python",
   "name": "python2"
  },
  "language_info": {
   "codemirror_mode": {
    "name": "ipython",
    "version": 2
   },
   "file_extension": ".py",
   "mimetype": "text/x-python",
   "name": "python",
   "nbconvert_exporter": "python",
   "pygments_lexer": "ipython2",
   "version": "2.7.16"
  }
 },
 "nbformat": 4,
 "nbformat_minor": 2
}
