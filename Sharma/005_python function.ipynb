{
 "cells": [
  {
   "cell_type": "code",
   "execution_count": 2,
   "metadata": {},
   "outputs": [
    {
     "name": "stdout",
     "output_type": "stream",
     "text": [
      "*******\n",
      "********\n",
      "I am From Fun2\n",
      "*********\n"
     ]
    }
   ],
   "source": [
    "# independed Functions\n",
    "def fun1(): # function defination\n",
    "    print(\"i am fun1\")\n",
    "def fun2():\n",
    "    print(\"I am From Fun2\")\n",
    "def  fun3():\n",
    "    print(\"I am from fun3\")\n",
    "def main():\n",
    "    fun1()  # function call\n",
    "    print('*******')\n",
    "    fun3()  # dunction call\n",
    "    print(\"********\")\n",
    "    fun2()  # function call\n",
    "    print(\"*********\")\n",
    "if __name__ == \"__main__\":  # file class having __name__ i always __main__\n",
    "    main() # main function call"
   ]
  },
  {
   "cell_type": "code",
   "execution_count": 8,
   "metadata": {},
   "outputs": [
    {
     "name": "stdout",
     "output_type": "stream",
     "text": [
      "i am fun1\n",
      "*******\n",
      "I am from fun3\n",
      "I am From Fun2\n",
      "*********\n",
      "********\n"
     ]
    }
   ],
   "source": [
    "# depended Functions\n",
    "def fun1(): # function defination\n",
    "    print(\"i am fun1\")\n",
    "    print('*******')\n",
    "    fun3()  # dunction call\n",
    "    print(\"********\")\n",
    "def fun2():\n",
    "    print(\"I am From Fun2\") \n",
    "def  fun3():\n",
    "    print(\"I am from fun3\")\n",
    "    fun2()  # function call\n",
    "    print(\"*********\")\n",
    "def main():\n",
    "    fun1()  # function call\n",
    "\n",
    "if __name__ == \"__main__\":  # file class having __name__ i always __main__\n",
    "    main() # main function call"
   ]
  },
  {
   "cell_type": "code",
   "execution_count": 12,
   "metadata": {},
   "outputs": [
    {
     "name": "stdout",
     "output_type": "stream",
     "text": [
      "enter num : -12\n",
      "factorial is not possible \n"
     ]
    }
   ],
   "source": [
    "# wap find factorial of a number\n",
    "def factorial():\n",
    "    num = int(input(\"enter num : \"))\n",
    "    if(num < 0):\n",
    "        print(\"factorial is not possible \")\n",
    "    elif(num == 0 or num ==1):\n",
    "        print(\"%d! =  %d\"%(num,1))\n",
    "    else:\n",
    "        fact =1\n",
    "        for i  in range(2,num+1):\n",
    "            fact = fact*i\n",
    "        print(\"%d! =  %d\"%(num,fact))\n",
    "        \n",
    "def main():\n",
    "    factorial()\n",
    "if(__name__ == \"__main__\"):\n",
    "    main()"
   ]
  },
  {
   "cell_type": "code",
   "execution_count": 20,
   "metadata": {},
   "outputs": [
    {
     "name": "stdout",
     "output_type": "stream",
     "text": [
      "enter num : 9\n",
      "9 ! =  362880\n"
     ]
    }
   ],
   "source": [
    "# wap find factorial of a number\n",
    "def factorial(num):\n",
    "    if(num < 0):\n",
    "        print(\"factorial is not possible \")\n",
    "        return None\n",
    "    elif(num == 0 or num ==1):\n",
    "        return 1\n",
    "    else:\n",
    "        fact =1\n",
    "        for i  in range(2,num+1):\n",
    "            fact = fact*i\n",
    "        return fact\n",
    "        \n",
    "def main():\n",
    "    n = int(input(\"enter num : \"))\n",
    "    fact =factorial(n)\n",
    "    print(n,\"! = \",fact)\n",
    "if(__name__ == \"__main__\"):\n",
    "    main()"
   ]
  },
  {
   "cell_type": "code",
   "execution_count": 1,
   "metadata": {},
   "outputs": [
    {
     "ename": "TypeError",
     "evalue": "fun() missing 2 required positional arguments: 'a' and 'b'",
     "output_type": "error",
     "traceback": [
      "\u001b[1;31m---------------------------------------------------------------------------\u001b[0m",
      "\u001b[1;31mTypeError\u001b[0m                                 Traceback (most recent call last)",
      "\u001b[1;32m<ipython-input-1-ba62a019b907>\u001b[0m in \u001b[0;36m<module>\u001b[1;34m()\u001b[0m\n\u001b[0;32m      6\u001b[0m     \u001b[0mfun\u001b[0m\u001b[1;33m(\u001b[0m\u001b[1;33m)\u001b[0m\u001b[1;33m\u001b[0m\u001b[0m\n\u001b[0;32m      7\u001b[0m \u001b[1;32mif\u001b[0m\u001b[1;33m(\u001b[0m\u001b[0m__name__\u001b[0m \u001b[1;33m==\u001b[0m \u001b[1;34m\"__main__\"\u001b[0m\u001b[1;33m)\u001b[0m\u001b[1;33m:\u001b[0m\u001b[1;33m\u001b[0m\u001b[0m\n\u001b[1;32m----> 8\u001b[1;33m     \u001b[0mmain\u001b[0m\u001b[1;33m(\u001b[0m\u001b[1;33m)\u001b[0m\u001b[1;33m\u001b[0m\u001b[0m\n\u001b[0m",
      "\u001b[1;32m<ipython-input-1-ba62a019b907>\u001b[0m in \u001b[0;36mmain\u001b[1;34m()\u001b[0m\n\u001b[0;32m      4\u001b[0m     \u001b[0mprint\u001b[0m\u001b[1;33m(\u001b[0m\u001b[1;34m\"b = \"\u001b[0m\u001b[1;33m,\u001b[0m\u001b[0mb\u001b[0m\u001b[1;33m)\u001b[0m\u001b[1;33m\u001b[0m\u001b[0m\n\u001b[0;32m      5\u001b[0m \u001b[1;32mdef\u001b[0m \u001b[0mmain\u001b[0m\u001b[1;33m(\u001b[0m\u001b[1;33m)\u001b[0m\u001b[1;33m:\u001b[0m\u001b[1;33m\u001b[0m\u001b[0m\n\u001b[1;32m----> 6\u001b[1;33m     \u001b[0mfun\u001b[0m\u001b[1;33m(\u001b[0m\u001b[1;33m)\u001b[0m\u001b[1;33m\u001b[0m\u001b[0m\n\u001b[0m\u001b[0;32m      7\u001b[0m \u001b[1;32mif\u001b[0m\u001b[1;33m(\u001b[0m\u001b[0m__name__\u001b[0m \u001b[1;33m==\u001b[0m \u001b[1;34m\"__main__\"\u001b[0m\u001b[1;33m)\u001b[0m\u001b[1;33m:\u001b[0m\u001b[1;33m\u001b[0m\u001b[0m\n\u001b[0;32m      8\u001b[0m     \u001b[0mmain\u001b[0m\u001b[1;33m(\u001b[0m\u001b[1;33m)\u001b[0m\u001b[1;33m\u001b[0m\u001b[0m\n",
      "\u001b[1;31mTypeError\u001b[0m: fun() missing 2 required positional arguments: 'a' and 'b'"
     ]
    }
   ],
   "source": [
    "# default of arguments \n",
    "def fun(a,b):\n",
    "    print(\"a = \",a)\n",
    "    print(\"b = \",b)\n",
    "def main():\n",
    "    fun()\n",
    "if(__name__ == \"__main__\"):\n",
    "    main()"
   ]
  },
  {
   "cell_type": "code",
   "execution_count": 2,
   "metadata": {},
   "outputs": [
    {
     "name": "stdout",
     "output_type": "stream",
     "text": [
      "a =  10\n",
      "b =  10\n"
     ]
    }
   ],
   "source": [
    "# default of arguments \n",
    "'''\n",
    "even if nt providing argumrnd from function call to function definnation\n",
    "\n",
    "'''\n",
    "def fun(a=10,b=10):\n",
    "    print(\"a = \",a)\n",
    "    print(\"b = \",b)\n",
    "def main():\n",
    "    fun()\n",
    "if(__name__ == \"__main__\"):\n",
    "    main()"
   ]
  },
  {
   "cell_type": "code",
   "execution_count": 3,
   "metadata": {},
   "outputs": [
    {
     "name": "stdout",
     "output_type": "stream",
     "text": [
      "a =  20\n",
      "b =  30\n"
     ]
    }
   ],
   "source": [
    "# default of arguments \n",
    "'''\n",
    "even if nt providing argumrnd from function call to function definnation\n",
    "\n",
    "'''\n",
    "def fun(a=10,b=10):\n",
    "    print(\"a = \",a)\n",
    "    print(\"b = \",b)\n",
    "def main():\n",
    "    fun(20,30)\n",
    "if(__name__ == \"__main__\"):\n",
    "    main()"
   ]
  },
  {
   "cell_type": "code",
   "execution_count": 6,
   "metadata": {},
   "outputs": [
    {
     "name": "stdout",
     "output_type": "stream",
     "text": [
      "(12, 45, 9, 199)\n"
     ]
    }
   ],
   "source": [
    "# packing & unpacking \n",
    "def pack(*a):\n",
    "    print(a)\n",
    "\n",
    "\n",
    "pack(12,45,9,199)"
   ]
  },
  {
   "cell_type": "code",
   "execution_count": 8,
   "metadata": {},
   "outputs": [
    {
     "name": "stdout",
     "output_type": "stream",
     "text": [
      "12 45 9 199\n"
     ]
    }
   ],
   "source": [
    "#  unpacking \n",
    "def pack(x,y,z,w):\n",
    "    print(x,y,z,w)\n",
    "\n",
    "a = [12,45,9,199]\n",
    "pack(*a)"
   ]
  },
  {
   "cell_type": "code",
   "execution_count": 9,
   "metadata": {},
   "outputs": [
    {
     "name": "stdout",
     "output_type": "stream",
     "text": [
      "hello\n",
      "hello\n",
      "hello\n",
      "hello\n",
      "hello\n",
      "hello\n",
      "hai\n",
      "hai\n",
      "hai\n",
      "hai\n",
      "hai\n",
      "hai\n"
     ]
    }
   ],
   "source": [
    "# recursive function\n",
    "def rec(a=1):\n",
    "    print(\"hello\")\n",
    "    if(a <=5):\n",
    "        rec(a+1)\n",
    "    print(\"hai\")\n",
    "rec()"
   ]
  }
 ],
 "metadata": {
  "kernelspec": {
   "display_name": "Python 3",
   "language": "python",
   "name": "python3"
  },
  "language_info": {
   "codemirror_mode": {
    "name": "ipython",
    "version": 3
   },
   "file_extension": ".py",
   "mimetype": "text/x-python",
   "name": "python",
   "nbconvert_exporter": "python",
   "pygments_lexer": "ipython3",
   "version": "3.7.0"
  }
 },
 "nbformat": 4,
 "nbformat_minor": 2
}
