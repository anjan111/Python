{
 "cells": [
  {
   "cell_type": "markdown",
   "metadata": {},
   "source": [
    "# Based operands \n",
    "\n",
    "1. Unary Operators\n",
    "\n",
    "2. Binary Operators"
   ]
  },
  {
   "cell_type": "code",
   "execution_count": 1,
   "metadata": {},
   "outputs": [
    {
     "name": "stdout",
     "output_type": "stream",
     "text": [
      "False\n",
      "-35\n",
      "123\n",
      "-12\n"
     ]
    }
   ],
   "source": [
    "# Unary Operator\n",
    "print(not 567)  # False   ---> logical not\n",
    "print(~ 34)     # -35   ------> Bitwise not\n",
    "print(+ 123)    # unary plus\n",
    "print(-12)      # unary minus"
   ]
  },
  {
   "cell_type": "code",
   "execution_count": 2,
   "metadata": {},
   "outputs": [
    {
     "name": "stdout",
     "output_type": "stream",
     "text": [
      "50\n",
      "3\n",
      "True\n",
      "True\n"
     ]
    }
   ],
   "source": [
    "# Binary Operator\n",
    "print(20+30) #50 ---> 20+30 ---> 50\n",
    "print(50 -47)\n",
    "print( 10 < 30)\n",
    "print( 10 in [10,20,30])\n"
   ]
  },
  {
   "cell_type": "markdown",
   "metadata": {},
   "source": [
    "# based on Operations \n",
    "\n",
    "1. Arithmetic Operator \n",
    "    a. addition ( binary plus)  +\n",
    "    \n",
    "    b. subtraction(  binary minus ) -\n",
    "    \n",
    "    c. multiplication (* )\n",
    "    \n",
    "    d. Division   --> quocent (/) ---> float ---> python3\n",
    "    \n",
    "    e. floor  ( // ) ---> flooring the data\n",
    "    \n",
    "    d. modulus ( % ) --> reminder\n",
    "    \n",
    "    e. exponant (**) ---> a ** b ---> a power of b\n",
    "    "
   ]
  },
  {
   "cell_type": "code",
   "execution_count": 3,
   "metadata": {},
   "outputs": [
    {
     "name": "stdout",
     "output_type": "stream",
     "text": [
      "enter int : 23\n",
      "enter int2\n",
      "23  +  2  =  25\n",
      "23  -  2  =  21\n",
      "23  *  2  =  46\n",
      "23  /  2  =  11.5\n",
      "23  //  2  =  11\n",
      "23  %  2  =  1\n",
      "23  **  2  =  529\n"
     ]
    }
   ],
   "source": [
    "a = int(input(\"enter int : \"))\n",
    "b = int(input(\"enter int\"))\n",
    "print(a,\" + \",b ,\" = \",a+b)\n",
    "print(a,\" - \",b ,\" = \",a-b)\n",
    "print(a,\" * \",b ,\" = \",a*b)\n",
    "print(a,\" / \",b ,\" = \",a/b)\n",
    "print(a,\" // \",b ,\" = \",a//b)\n",
    "print(a,\" % \",b ,\" = \",a%b)\n",
    "print(a,\" ** \",b ,\" = \",a**b)"
   ]
  },
  {
   "cell_type": "code",
   "execution_count": 4,
   "metadata": {},
   "outputs": [
    {
     "name": "stdout",
     "output_type": "stream",
     "text": [
      "enter float : 23.0\n",
      "enter float2.0\n",
      "23.0  +  2.0  =  25.0\n",
      "23.0  -  2.0  =  21.0\n",
      "23.0  *  2.0  =  46.0\n",
      "23.0  /  2.0  =  11.5\n",
      "23.0  //  2.0  =  11.0\n",
      "23.0  %  2.0  =  1.0\n",
      "23.0  **  2.0  =  529.0\n"
     ]
    }
   ],
   "source": [
    "a = float(input(\"enter float : \"))\n",
    "b = float(input(\"enter float\"))\n",
    "print(a,\" + \",b ,\" = \",a+b)\n",
    "print(a,\" - \",b ,\" = \",a-b)\n",
    "print(a,\" * \",b ,\" = \",a*b)\n",
    "print(a,\" / \",b ,\" = \",a/b)\n",
    "print(a,\" // \",b ,\" = \",a//b)\n",
    "print(a,\" % \",b ,\" = \",a%b)\n",
    "print(a,\" ** \",b ,\" = \",a**b)"
   ]
  },
  {
   "cell_type": "code",
   "execution_count": 11,
   "metadata": {},
   "outputs": [
    {
     "name": "stdout",
     "output_type": "stream",
     "text": [
      "7.5\n",
      "7.5\n",
      "19.5\n"
     ]
    }
   ],
   "source": [
    "print(3*5/2) #25\n",
    "print(3*(5/2))\n",
    "print(3*5/2+6*2) # 15/2+12  # 7.5 +12 ---> 19.5"
   ]
  },
  {
   "cell_type": "code",
   "execution_count": 12,
   "metadata": {},
   "outputs": [
    {
     "name": "stdout",
     "output_type": "stream",
     "text": [
      "enter radius in meters : 12\n",
      "area of circle  452.3893421169302  sq.m\n",
      "perimter of circle  75.39822368615503  meters\n"
     ]
    }
   ],
   "source": [
    "# wap find area of circle and perimter \n",
    "import math\n",
    "r = float(input(\"enter radius in meters : \"))\n",
    "area = math.pi * (r**2)\n",
    "peri = 2*math.pi*r\n",
    "print(\"area of circle \",area,\" sq.m\")\n",
    "print(\"perimter of circle \",peri,\" meters\")\n",
    "\n"
   ]
  },
  {
   "cell_type": "code",
   "execution_count": null,
   "metadata": {},
   "outputs": [],
   "source": [
    "# wap find the area and perimter of the square \n"
   ]
  },
  {
   "cell_type": "code",
   "execution_count": null,
   "metadata": {},
   "outputs": [],
   "source": [
    "# wap find the area and perimter of the rectangle"
   ]
  },
  {
   "cell_type": "code",
   "execution_count": null,
   "metadata": {},
   "outputs": [],
   "source": [
    "# wap find the area and perimter of the triangle"
   ]
  },
  {
   "cell_type": "code",
   "execution_count": null,
   "metadata": {},
   "outputs": [],
   "source": [
    "# wap find the simple intrest \n"
   ]
  },
  {
   "cell_type": "code",
   "execution_count": null,
   "metadata": {},
   "outputs": [],
   "source": [
    "# wap find sum of the 1st N natural number"
   ]
  },
  {
   "cell_type": "code",
   "execution_count": null,
   "metadata": {},
   "outputs": [],
   "source": [
    "# wap find the sum of the squares of the 1st Natural"
   ]
  },
  {
   "cell_type": "code",
   "execution_count": null,
   "metadata": {},
   "outputs": [],
   "source": [
    "# wap find the sum of the cubes of the 1st Natural"
   ]
  },
  {
   "cell_type": "markdown",
   "metadata": {},
   "source": [
    "# Assignment Operator  ( = )\n",
    "\n",
    "\n",
    "----> A assign the data to right side to left side\n"
   ]
  },
  {
   "cell_type": "code",
   "execution_count": 4,
   "metadata": {},
   "outputs": [
    {
     "name": "stdout",
     "output_type": "stream",
     "text": [
      "10\n",
      "10\n",
      "30\n"
     ]
    }
   ],
   "source": [
    "a =  10# constant to varibale assignment \n",
    "print(a)\n",
    "\n",
    "b = a     # variable to varibale \n",
    "print(b)\n",
    "\n",
    "c = a+2 * b  #expression to variable \n",
    "print(c)"
   ]
  },
  {
   "cell_type": "markdown",
   "metadata": {},
   "source": [
    "#  operation then assignment    // compound assignment"
   ]
  },
  {
   "cell_type": "code",
   "execution_count": 7,
   "metadata": {},
   "outputs": [
    {
     "data": {
      "text/plain": [
       "50"
      ]
     },
     "execution_count": 7,
     "metadata": {},
     "output_type": "execute_result"
    }
   ],
   "source": [
    "a = 10\n",
    "b = 20\n",
    "#c =a+b*2\n",
    "#print(c)\n",
    "a = a+b*2\n",
    "a"
   ]
  },
  {
   "cell_type": "code",
   "execution_count": 8,
   "metadata": {},
   "outputs": [
    {
     "data": {
      "text/plain": [
       "50"
      ]
     },
     "execution_count": 8,
     "metadata": {},
     "output_type": "execute_result"
    }
   ],
   "source": [
    "\n",
    "a = 10\n",
    "b = 20\n",
    "#c =a+b*2\n",
    "#print(c)\n",
    "a += b*2  #   a = a+b*2\n",
    "a"
   ]
  },
  {
   "cell_type": "code",
   "execution_count": 9,
   "metadata": {},
   "outputs": [
    {
     "data": {
      "text/plain": [
       "-10"
      ]
     },
     "execution_count": 9,
     "metadata": {},
     "output_type": "execute_result"
    }
   ],
   "source": [
    "a = 10\n",
    "b =20\n",
    "a -= b  #a= a-b\n",
    "a"
   ]
  },
  {
   "cell_type": "code",
   "execution_count": 11,
   "metadata": {},
   "outputs": [
    {
     "data": {
      "text/plain": [
       "8"
      ]
     },
     "execution_count": 11,
     "metadata": {},
     "output_type": "execute_result"
    }
   ],
   "source": [
    "a = 2\n",
    "b =4\n",
    "a *= b    #a = a*b\n",
    "a"
   ]
  },
  {
   "cell_type": "code",
   "execution_count": 65,
   "metadata": {},
   "outputs": [
    {
     "data": {
      "text/plain": [
       "1"
      ]
     },
     "execution_count": 65,
     "metadata": {},
     "output_type": "execute_result"
    }
   ],
   "source": [
    "a **= b\n",
    "a"
   ]
  },
  {
   "cell_type": "markdown",
   "metadata": {},
   "source": [
    "# relational Operators\n",
    "\n",
    "---> to check the status of the relation of any two operands \n",
    "\n",
    "---> to check the conditions  / we can use in with in conditonal statement (conditional operator)\n",
    "\n",
    "--->The result of relational operators are True / false so that its boolean Operators\n",
    "\n",
    "There are following operators \n",
    "\n",
    "    1. Less than                < \n",
    "    2. Greaterthan              >\n",
    "    3. Equal too                == \n",
    "    4. Not Equal too            !=\n",
    "    5. Lessthan or equal        <=\n",
    "    6.greaterthan or equalto    >=\n",
    "    "
   ]
  },
  {
   "cell_type": "code",
   "execution_count": 66,
   "metadata": {},
   "outputs": [
    {
     "name": "stdout",
     "output_type": "stream",
     "text": [
      "10  <  20   =  True\n",
      "10  >  20   =  False\n",
      "10  ==  20  =  False\n",
      "10  !=  20  =  True\n",
      "10  <=  20  =  True\n",
      "10  >=  20  =  False\n"
     ]
    }
   ],
   "source": [
    "a = 10\n",
    "b = 20\n",
    "print(a,\" < \",b,\"  = \",a<b)\n",
    "print(a,\" > \",b,\"  = \",a>b)\n",
    "print(a,\" == \",b,\" = \",a==b)\n",
    "print(a,\" != \",b,\" = \",a!=b)\n",
    "print(a,\" <= \",b,\" = \",a<=b)\n",
    "print(a,\" >= \",b,\" = \",a>=b)"
   ]
  },
  {
   "cell_type": "code",
   "execution_count": 67,
   "metadata": {},
   "outputs": [
    {
     "name": "stdout",
     "output_type": "stream",
     "text": [
      "11.0  <  20.7   =  True\n",
      "11.0  >  20.7   =  False\n",
      "11.0  ==  20.7  =  False\n",
      "11.0  !=  20.7  =  True\n",
      "11.0  <=  20.7  =  True\n",
      "11.0  >=  20.7  =  False\n"
     ]
    }
   ],
   "source": [
    "a = 11.0\n",
    "b = 20.7\n",
    "print(a,\" < \",b,\"  = \",a<b)\n",
    "print(a,\" > \",b,\"  = \",a>b)\n",
    "print(a,\" == \",b,\" = \",a==b)\n",
    "print(a,\" != \",b,\" = \",a!=b)\n",
    "print(a,\" <= \",b,\" = \",a<=b)\n",
    "print(a,\" >= \",b,\" = \",a>=b)"
   ]
  },
  {
   "cell_type": "code",
   "execution_count": 68,
   "metadata": {},
   "outputs": [
    {
     "name": "stdout",
     "output_type": "stream",
     "text": [
      "True  <  False   =  False\n",
      "True  >  False   =  True\n",
      "True  ==  False  =  False\n",
      "True  !=  False  =  True\n",
      "True  <=  False  =  False\n",
      "True  >=  False  =  True\n"
     ]
    }
   ],
   "source": [
    "a = True\n",
    "b = False\n",
    "print(a,\" < \",b,\"  = \",a<b)\n",
    "print(a,\" > \",b,\"  = \",a>b)\n",
    "print(a,\" == \",b,\" = \",a==b)\n",
    "print(a,\" != \",b,\" = \",a!=b)\n",
    "print(a,\" <= \",b,\" = \",a<=b)\n",
    "print(a,\" >= \",b,\" = \",a>=b)"
   ]
  },
  {
   "cell_type": "code",
   "execution_count": 69,
   "metadata": {},
   "outputs": [
    {
     "ename": "TypeError",
     "evalue": "'<' not supported between instances of 'complex' and 'complex'",
     "output_type": "error",
     "traceback": [
      "\u001b[1;31m---------------------------------------------------------------------------\u001b[0m",
      "\u001b[1;31mTypeError\u001b[0m                                 Traceback (most recent call last)",
      "\u001b[1;32m<ipython-input-69-83f12d6ea4a3>\u001b[0m in \u001b[0;36m<module>\u001b[1;34m()\u001b[0m\n\u001b[0;32m      1\u001b[0m \u001b[0ma\u001b[0m \u001b[1;33m=\u001b[0m \u001b[1;36m10\u001b[0m\u001b[1;33m+\u001b[0m\u001b[1;36m6j\u001b[0m\u001b[1;33m\u001b[0m\u001b[0m\n\u001b[0;32m      2\u001b[0m \u001b[0mb\u001b[0m \u001b[1;33m=\u001b[0m \u001b[1;36m20\u001b[0m\u001b[1;33m+\u001b[0m\u001b[1;36m3j\u001b[0m\u001b[1;33m\u001b[0m\u001b[0m\n\u001b[1;32m----> 3\u001b[1;33m \u001b[0mprint\u001b[0m\u001b[1;33m(\u001b[0m\u001b[0ma\u001b[0m\u001b[1;33m,\u001b[0m\u001b[1;34m\" < \"\u001b[0m\u001b[1;33m,\u001b[0m\u001b[0mb\u001b[0m\u001b[1;33m,\u001b[0m\u001b[1;34m\"  = \"\u001b[0m\u001b[1;33m,\u001b[0m\u001b[0ma\u001b[0m\u001b[1;33m<\u001b[0m\u001b[0mb\u001b[0m\u001b[1;33m)\u001b[0m\u001b[1;33m\u001b[0m\u001b[0m\n\u001b[0m\u001b[0;32m      4\u001b[0m \u001b[0mprint\u001b[0m\u001b[1;33m(\u001b[0m\u001b[0ma\u001b[0m\u001b[1;33m,\u001b[0m\u001b[1;34m\" > \"\u001b[0m\u001b[1;33m,\u001b[0m\u001b[0mb\u001b[0m\u001b[1;33m,\u001b[0m\u001b[1;34m\"  = \"\u001b[0m\u001b[1;33m,\u001b[0m\u001b[0ma\u001b[0m\u001b[1;33m>\u001b[0m\u001b[0mb\u001b[0m\u001b[1;33m)\u001b[0m\u001b[1;33m\u001b[0m\u001b[0m\n\u001b[0;32m      5\u001b[0m \u001b[0mprint\u001b[0m\u001b[1;33m(\u001b[0m\u001b[0ma\u001b[0m\u001b[1;33m,\u001b[0m\u001b[1;34m\" == \"\u001b[0m\u001b[1;33m,\u001b[0m\u001b[0mb\u001b[0m\u001b[1;33m,\u001b[0m\u001b[1;34m\" = \"\u001b[0m\u001b[1;33m,\u001b[0m\u001b[0ma\u001b[0m\u001b[1;33m==\u001b[0m\u001b[0mb\u001b[0m\u001b[1;33m)\u001b[0m\u001b[1;33m\u001b[0m\u001b[0m\n",
      "\u001b[1;31mTypeError\u001b[0m: '<' not supported between instances of 'complex' and 'complex'"
     ]
    }
   ],
   "source": [
    "# complex is not possible to compare\n",
    "a = 10+6j\n",
    "b = 20+3j\n",
    "print(a,\" < \",b,\"  = \",a<b)\n",
    "print(a,\" > \",b,\"  = \",a>b)\n",
    "print(a,\" == \",b,\" = \",a==b)\n",
    "print(a,\" != \",b,\" = \",a!=b)\n",
    "print(a,\" <= \",b,\" = \",a<=b)\n",
    "print(a,\" >= \",b,\" = \",a>=b)"
   ]
  },
  {
   "cell_type": "code",
   "execution_count": 72,
   "metadata": {},
   "outputs": [
    {
     "name": "stdout",
     "output_type": "stream",
     "text": [
      "ass  <  jggjf   =  True\n",
      "ass  >  jggjf   =  False\n",
      "ass  ==  jggjf  =  False\n",
      "ass  !=  jggjf  =  True\n",
      "ass  <=  jggjf  =  True\n",
      "ass  >=  jggjf  =  False\n"
     ]
    }
   ],
   "source": [
    "a = \"ass\"\n",
    "b = 'jggjf'\n",
    "print(a,\" < \",b,\"  = \",a<b)\n",
    "print(a,\" > \",b,\"  = \",a>b)\n",
    "print(a,\" == \",b,\" = \",a==b)\n",
    "print(a,\" != \",b,\" = \",a!=b)\n",
    "print(a,\" <= \",b,\" = \",a<=b)\n",
    "print(a,\" >= \",b,\" = \",a>=b)"
   ]
  },
  {
   "cell_type": "code",
   "execution_count": 75,
   "metadata": {},
   "outputs": [
    {
     "name": "stdout",
     "output_type": "stream",
     "text": [
      "enter a num : 10\n",
      "10  is even  True\n"
     ]
    }
   ],
   "source": [
    "# wap find given number is even or not \n",
    "\n",
    "num = input(\"enter a num : \")\n",
    "num = int(num)\n",
    "print(num,\" is even \",(num %2 == 0))"
   ]
  },
  {
   "cell_type": "code",
   "execution_count": 77,
   "metadata": {},
   "outputs": [
    {
     "name": "stdout",
     "output_type": "stream",
     "text": [
      "enter num1 : 11\n",
      "enter num2 : 5\n",
      "5  is the factor to  11   =  False\n"
     ]
    }
   ],
   "source": [
    "# wap given number is a factor of the another \n",
    "#10 ---2--->   10 %2 == 0\n",
    "num1 = int(input(\"enter num1 : \"))\n",
    "num2 = int(input(\"enter num2 : \"))\n",
    "res = num1%num2 \n",
    "print(num2,\" is the factor to \",num1, \"  = \",res==0)"
   ]
  },
  {
   "cell_type": "markdown",
   "metadata": {},
   "source": [
    "# special Operator\n",
    "\n",
    "1. membership Operators\n",
    "    \n",
    "    ----> to check the availabilty of one operand to another seq operand \n",
    "    \n",
    "    1.  in   ( True /Fasle\n",
    "    \n",
    "        True-----> left side operand is available in right side seq\n",
    "        \n",
    "        False --->other wise\n",
    "      \n",
    "    2. not in\n",
    "    \n",
    "        \n",
    "        True-----> Otherwise\n",
    "        \n",
    "        False ---> left side operand is available in right side seq\n",
    "        \n",
    "2. identity operator\n",
    "\n",
    "    ---> to chek the memory location / identity of any two operands\n",
    "    \n",
    "    1. is \n",
    "    \n",
    "        True : ---> both operands are share same memory \n",
    "        \n",
    "        False :---> other case\n",
    "    \n",
    "    \n",
    "    2. is not\n",
    "    \n",
    "        False : ---> both operands are share same memory \n",
    "        \n",
    "        True  :---> other case\n",
    "    "
   ]
  },
  {
   "cell_type": "code",
   "execution_count": 78,
   "metadata": {},
   "outputs": [
    {
     "name": "stdout",
     "output_type": "stream",
     "text": [
      "False\n",
      "True\n",
      "True\n",
      "False\n"
     ]
    }
   ],
   "source": [
    "a =10\n",
    "b = [1,3,2,90,3,7]\n",
    "c = 90\n",
    "print(a in b)  # False\n",
    "print(a not in b)  #True\n",
    "\n",
    "print(c in b)  # True\n",
    "print(c not in b)# False"
   ]
  },
  {
   "cell_type": "code",
   "execution_count": null,
   "metadata": {},
   "outputs": [],
   "source": [
    "#wap find given charactr is vowel or not "
   ]
  },
  {
   "cell_type": "code",
   "execution_count": 79,
   "metadata": {},
   "outputs": [
    {
     "name": "stdout",
     "output_type": "stream",
     "text": [
      "223448868552\n",
      "223461639432\n",
      "False\n",
      "True\n"
     ]
    }
   ],
   "source": [
    "a = [10,34,67,90]\n",
    "b = [10,34,67,90]\n",
    "print(id(a))\n",
    "print(id(b))\n",
    "print(a is b)\n",
    "print(a is not b)"
   ]
  },
  {
   "cell_type": "code",
   "execution_count": 80,
   "metadata": {},
   "outputs": [
    {
     "name": "stdout",
     "output_type": "stream",
     "text": [
      "223448869896\n",
      "223448869896\n",
      "True\n",
      "False\n"
     ]
    }
   ],
   "source": [
    "a = [10,34,67,90]\n",
    "b = a\n",
    "print(id(a))\n",
    "print(id(b))\n",
    "print(a is b)\n",
    "print(a is not b)"
   ]
  },
  {
   "cell_type": "code",
   "execution_count": 82,
   "metadata": {},
   "outputs": [
    {
     "name": "stdout",
     "output_type": "stream",
     "text": [
      "140718910009376\n",
      "140718910009376\n",
      "140718910009696\n",
      "True\n",
      "False\n",
      "False\n",
      "True\n"
     ]
    }
   ],
   "source": [
    "# check the shared  memory \n",
    "a =10\n",
    "b = 10\n",
    "c =20\n",
    "print(id(a)) ; print(id(b)) ;print(id(c))\n",
    "print(a is b)\n",
    "print(a is not b)\n",
    "print(a is c)\n",
    "print(a is not c)"
   ]
  },
  {
   "cell_type": "code",
   "execution_count": null,
   "metadata": {},
   "outputs": [],
   "source": [
    "# logical operator\n"
   ]
  },
  {
   "cell_type": "code",
   "execution_count": null,
   "metadata": {},
   "outputs": [],
   "source": [
    "# bitwise "
   ]
  },
  {
   "cell_type": "code",
   "execution_count": null,
   "metadata": {},
   "outputs": [],
   "source": [
    "#number system \n",
    "---> binary\n",
    "---> octal \n",
    "---> decimal \n",
    "---> hexa decimal \n",
    "# number ststem conversion"
   ]
  }
 ],
 "metadata": {
  "kernelspec": {
   "display_name": "Python 3",
   "language": "python",
   "name": "python3"
  },
  "language_info": {
   "codemirror_mode": {
    "name": "ipython",
    "version": 3
   },
   "file_extension": ".py",
   "mimetype": "text/x-python",
   "name": "python",
   "nbconvert_exporter": "python",
   "pygments_lexer": "ipython3",
   "version": "3.7.0"
  }
 },
 "nbformat": 4,
 "nbformat_minor": 2
}
