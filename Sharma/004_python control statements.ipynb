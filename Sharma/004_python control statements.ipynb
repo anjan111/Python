{
 "cells": [
  {
   "cell_type": "code",
   "execution_count": null,
   "metadata": {},
   "outputs": [],
   "source": [
    "# simple if \n",
    "# wap find area of triangle when all sides are equal\n",
    "\n",
    "s1=int(input(\"enter s1 : \"))\n",
    "s2=int(input(\"enter s2 : \"))\n",
    "s3=int(input(\"enter s3 : \"))\n",
    "\n",
    "if(s1 == s2 and s2 == s3):\n",
    "    h = ((s1**2) -(s2/2)**2)**0.5\n",
    "    area =0.5*s1*h\n",
    "    print(\"area = \",area, \"sq .m\")\n",
    "\n"
   ]
  },
  {
   "cell_type": "code",
   "execution_count": null,
   "metadata": {},
   "outputs": [],
   "source": [
    "# wap print your full details when  your age is even\n",
    "\n",
    "name= input(\"enter your name : \")\n",
    "age = int(input(\"enter age of you : \"))\n",
    "ph  = input(\"'enter your phone number : '\")\n",
    "if(age % 2 == 0):\n",
    "    print(\"name : \",name)\n",
    "    print(\"age  : \",age)\n",
    "    print(\"phone: \",ph)\n",
    "print(\"if is over \")"
   ]
  },
  {
   "cell_type": "code",
   "execution_count": null,
   "metadata": {},
   "outputs": [],
   "source": [
    "# wap print your full details when  your age is even\n",
    "\n",
    "name= input(\"enter your name : \")\n",
    "age = int(input(\"enter age of you : \"))\n",
    "ph  = input(\"'enter your phone number : '\")\n",
    "if(age % 2 == 0):\n",
    "    print(\"name : \",name)\n",
    "    print(\"age  : \",age)\n",
    "    print(\"phone: \",ph)\n",
    "print(\"if is over \")"
   ]
  },
  {
   "cell_type": "code",
   "execution_count": null,
   "metadata": {},
   "outputs": [],
   "source": [
    "# wap find sum of areas of sqaure and rectagle when the side of sqaure is same \n",
    "# as any one side of the rectangle"
   ]
  },
  {
   "cell_type": "code",
   "execution_count": null,
   "metadata": {},
   "outputs": [],
   "source": [
    "# wap find sum of areas of sqaure and rectagle when the side of sqaure is same \n",
    "# as any one side of the rectangle other wise sum of perimter "
   ]
  },
  {
   "cell_type": "code",
   "execution_count": null,
   "metadata": {},
   "outputs": [],
   "source": [
    "'''\n",
    "wap find sum of cubes of 1st natural number when the diffrence between \n",
    "sum of square of 1st natural and sum of 1st n natural numbers is odd\n",
    "'''"
   ]
  },
  {
   "cell_type": "code",
   "execution_count": null,
   "metadata": {},
   "outputs": [],
   "source": [
    "'''\n",
    "wap find sum of cubes of 1st natural number when the diffrence between \n",
    "sum of square of 1st natural and sum of 1st n natural numbers is odd other \n",
    "wise  find sum of square of 1st n natural numbers \n",
    "'''"
   ]
  },
  {
   "cell_type": "code",
   "execution_count": null,
   "metadata": {},
   "outputs": [],
   "source": [
    "#  if  and else\n",
    "# wap find area of triangle when all sides are equal other wise find perimter\n",
    "\n",
    "s1=int(input(\"enter s1 : \"))\n",
    "s2=int(input(\"enter s2 : \"))\n",
    "s3=int(input(\"enter s3 : \"))\n",
    "\n",
    "if(s1 == s2 and s2 == s3):\n",
    "    h = ((s1**2) -(s2/2)**2)**0.5\n",
    "    area =0.5*s1*h\n",
    "    print(\"area = \",area, \"sq .m\")\n",
    "else:\n",
    "    peri = s1+s2+s3\n",
    "    print(\"perimeter = \",peri,\" meter\")\n"
   ]
  },
  {
   "cell_type": "code",
   "execution_count": null,
   "metadata": {},
   "outputs": [],
   "source": [
    "'''\n",
    "wap take your details when your age more than 18 other yout father details \n",
    "'''\n",
    "name= input(\"enter your name : \")\n",
    "age = int(input(\"enter age of you : \"))\n",
    "ph  = input(\"'enter your phone number : '\")\n",
    "f_name = input(\"enter yout dad name : \")\n",
    "f_age  = input(\"enter age of your dad : \")\n",
    "f_ph   = input(\"enter phone number of your father : \")\n",
    "if(age >= 18):\n",
    "    print(\"name : \",name)\n",
    "    print(\"age  : \",age)\n",
    "    print(\"phone: \",ph)\n",
    "else:\n",
    "    print(\"father name : \",f_name)\n",
    "    print(\"father age  : \",f_age)\n",
    "    print(\"father phone: \",f_ph)\n",
    "print(\"if is over \")"
   ]
  },
  {
   "cell_type": "code",
   "execution_count": null,
   "metadata": {},
   "outputs": [],
   "source": [
    "# wap find the grading system based on student marks \n",
    "\n",
    "s1 = int(input(\"enter s1 marks : \"))\n",
    "s2 = int(input(\"enter s2 marks : \"))\n",
    "s3 = int(input(\"enter s3 marks : \"))\n",
    "s4 = int(input(\"enter s4 marks : \"))\n",
    "s5 = int(input(\"enter s5 marks : \"))\n",
    "g_m = s1+s2+s3+s4+s5\n",
    "avg = g_m/ 500\n",
    "per =avg*100\n",
    "if(per > 70):\n",
    "    print(\"A  Grade with Distinction\")\n",
    "elif(per > 60):\n",
    "    print(\"A Grade\")\n",
    "elif(per > 50):\n",
    "    print(\"B Grade\")\n",
    "elif(per > 40):\n",
    "    print(\"C Grade\")\n",
    "else:\n",
    "    print(\"Better Luck Next Time !\")"
   ]
  },
  {
   "cell_type": "code",
   "execution_count": null,
   "metadata": {},
   "outputs": [],
   "source": [
    "# Nested if\n",
    "'''\n",
    "Any conditional statements haing one more conditional statemeent\n",
    "\n",
    "'''\n",
    "# wap find the smallest number from 3 number \n",
    "\n",
    "a = int(input(\"enter a : \"))\n",
    "b = int(input(\"enter b : \"))\n",
    "c = int(input(\"enter c : \"))\n",
    "if(a < b):\n",
    "    small = a\n",
    "    if(a > c):\n",
    "        small =c\n",
    "else:\n",
    "    small =b\n",
    "    if(b > c):\n",
    "        small = c\n",
    "print(\"small = \",small)"
   ]
  },
  {
   "cell_type": "code",
   "execution_count": null,
   "metadata": {},
   "outputs": [],
   "source": [
    "# wap find biggest number from 3 numbers"
   ]
  },
  {
   "cell_type": "code",
   "execution_count": null,
   "metadata": {},
   "outputs": [],
   "source": [
    "# wap find the given year is leap year or not "
   ]
  },
  {
   "cell_type": "code",
   "execution_count": null,
   "metadata": {},
   "outputs": [],
   "source": [
    "# while\n",
    "'''\n",
    "while(cond):\n",
    "    task\n",
    "    ----\n",
    "    ----\n",
    "else:\n",
    "    task\n",
    "    ---\n",
    "    ----\n",
    "\n",
    "'''\n",
    "\n"
   ]
  },
  {
   "cell_type": "code",
   "execution_count": null,
   "metadata": {},
   "outputs": [],
   "source": [
    "# wap find the sum of 1st n natural number with out using formula\n",
    "N = int(input(\"enter N values : \"))\n",
    "sum =0\n",
    "i =1\n",
    "while(i <= N):\n",
    "    sum = sum +i\n",
    "    i = i+1\n",
    "else:\n",
    "    print(\"sum of 1st %d natural number is %d \"%(N,sum))\n",
    "\n"
   ]
  },
  {
   "cell_type": "code",
   "execution_count": null,
   "metadata": {},
   "outputs": [],
   "source": [
    "# wap find the sum of squares of 1st N Naatural numbers\n"
   ]
  },
  {
   "cell_type": "code",
   "execution_count": null,
   "metadata": {},
   "outputs": [],
   "source": [
    "# wap find the sum of cubes of 1st N Naatural numbers\n"
   ]
  },
  {
   "cell_type": "code",
   "execution_count": null,
   "metadata": {},
   "outputs": [],
   "source": [
    "# wap print all elements from any sequence\n",
    "\n",
    "seq = {12, 34, 67,90}\n",
    "i= 0\n",
    "for var in seq :\n",
    "    print(\"%d element is : %d\"%(i,var))\n",
    "    i = i +1\n",
    "else:\n",
    "    print(\"i am else optional block\")\n",
    "    print(\"i cam exceute when no more updataton\")\n",
    "# execute 5 time for each time new seq datatype"
   ]
  },
  {
   "cell_type": "code",
   "execution_count": null,
   "metadata": {},
   "outputs": [],
   "source": [
    "# wap find the len of any seq datatype\n",
    "seq = \"soc softech\"\n",
    "le=0\n",
    "for var in seq :\n",
    "    le = le +1\n",
    "else:\n",
    "    print(\"len of \",seq,\" is \",le)\n",
    "#print(len(seq))  "
   ]
  },
  {
   "cell_type": "code",
   "execution_count": null,
   "metadata": {},
   "outputs": [],
   "source": [
    "# wap find the sum of 1st N natural numbers \n",
    "N = int(input(\"enter N Value  : \"))\n",
    "sum =0\n",
    "for var in range(1,N+1):\n",
    "    sum = sum +var\n",
    "else:\n",
    "    print(\"sum of 1st %d Natural number is %d\"%(N,sum))"
   ]
  },
  {
   "cell_type": "code",
   "execution_count": null,
   "metadata": {},
   "outputs": [],
   "source": [
    "# wap find the sum of 1st N natural numbers \n",
    "N = int(input(\"enter N Value  : \"))\n",
    "seq =range(1,N+1)\n",
    "sum =0\n",
    "print(\"seq : \",seq)\n",
    "for var in seq:\n",
    "    sum = sum +var\n",
    "else:\n",
    "    print(\"sum of 1st %d Natural number is %d\"%(N,sum))"
   ]
  },
  {
   "cell_type": "code",
   "execution_count": null,
   "metadata": {
    "scrolled": true
   },
   "outputs": [],
   "source": [
    "# wap print multiplication table\n",
    "'''\n",
    "input 5\n",
    "\n",
    "5 * 1 = 5\n",
    "5 * 2 = 10\n",
    "---\n",
    "---\n",
    "5 * 10 = 50\n",
    "\n",
    "'''\n",
    "\n",
    "N = int(input(\"enter N Value  : \"))\n",
    "seq =range(1,11)\n",
    "\n",
    "for var in seq:\n",
    "    print(\"%d * %d = %d\"%(N,var,N*var))\n",
    "    \n"
   ]
  },
  {
   "cell_type": "code",
   "execution_count": null,
   "metadata": {},
   "outputs": [],
   "source": [
    "# wap find number of digits in a number\n",
    "# 3489   ---> 4\n"
   ]
  },
  {
   "cell_type": "code",
   "execution_count": null,
   "metadata": {},
   "outputs": [],
   "source": [
    "# wap find sum of the digits in a number\n",
    "# 3456  ---->  18\n"
   ]
  },
  {
   "cell_type": "code",
   "execution_count": null,
   "metadata": {},
   "outputs": [],
   "source": [
    "# wap find reverse of a number of a number \n",
    "# 236  ---> 632"
   ]
  },
  {
   "cell_type": "code",
   "execution_count": null,
   "metadata": {},
   "outputs": [],
   "source": [
    "# wap given number is palindrom or not "
   ]
  },
  {
   "cell_type": "code",
   "execution_count": null,
   "metadata": {},
   "outputs": [],
   "source": [
    "# control keywords :-\n",
    "--------------------\n",
    "\n",
    "---> by using conctrol keywords we can change the flow of execution\n",
    "of the control statements\n",
    "\n",
    "---> pass"
   ]
  },
  {
   "cell_type": "code",
   "execution_count": null,
   "metadata": {},
   "outputs": [],
   "source": [
    "# pass , a block is having 0 statemenets then we can use pass \n",
    "\n",
    "for var in range(10000000):\n",
    "    pass\n",
    "print(\"hello\")\n",
    "# time delay generation \n"
   ]
  },
  {
   "cell_type": "code",
   "execution_count": null,
   "metadata": {},
   "outputs": [],
   "source": [
    "# continue \n",
    "'''\n",
    "skip current execution and continue to next iteration\n",
    "'''\n",
    "# print 1 to 10 except 7\n",
    "for i in range(1,11):\n",
    "    if(i == 7):\n",
    "        continue\n",
    "    print(i)\n"
   ]
  },
  {
   "cell_type": "code",
   "execution_count": null,
   "metadata": {},
   "outputs": [],
   "source": [
    "# break \n",
    "'''\n",
    "it can be terminate the loop\n",
    "'''\n",
    "#print 1 to 10 but stop at 5\n",
    "for i in range(1,11):\n",
    "    print(i)\n",
    "else:\n",
    "    print(\"task over\")"
   ]
  },
  {
   "cell_type": "code",
   "execution_count": null,
   "metadata": {},
   "outputs": [],
   "source": [
    "# break \n",
    "'''\n",
    "it can be terminate the loop\n",
    "'''\n",
    "#print 1 to 10 but stop at 5\n",
    "for i in range(1,11):\n",
    "    if(i == 5):\n",
    "        break\n",
    "    print(i)\n",
    "else:\n",
    "    print(\"task over\")"
   ]
  },
  {
   "cell_type": "code",
   "execution_count": 2,
   "metadata": {},
   "outputs": [
    {
     "name": "stdout",
     "output_type": "stream",
     "text": [
      "enter num : 11\n",
      "11 is prime numer\n"
     ]
    }
   ],
   "source": [
    "# wrt find prime number number \n",
    "num = int(input(\"enter num : \"))\n",
    "for i in range(2,num):\n",
    "    if(num % i == 0):\n",
    "        print(\"%d is not a prime \"%num)\n",
    "        break\n",
    "else:\n",
    "    print(\"%d is prime numer\"%num)"
   ]
  },
  {
   "cell_type": "code",
   "execution_count": 4,
   "metadata": {},
   "outputs": [
    {
     "name": "stdout",
     "output_type": "stream",
     "text": [
      "11 is prime numer\n",
      "13 is prime numer\n",
      "17 is prime numer\n",
      "19 is prime numer\n",
      "23 is prime numer\n",
      "29 is prime numer\n",
      "31 is prime numer\n",
      "37 is prime numer\n",
      "41 is prime numer\n",
      "43 is prime numer\n",
      "47 is prime numer\n",
      "53 is prime numer\n",
      "59 is prime numer\n",
      "61 is prime numer\n",
      "67 is prime numer\n",
      "71 is prime numer\n",
      "73 is prime numer\n",
      "79 is prime numer\n",
      "83 is prime numer\n",
      "89 is prime numer\n",
      "97 is prime numer\n"
     ]
    }
   ],
   "source": [
    "# nested loops \n",
    "'''\n",
    "any looping statement it contains one more looping statements\n",
    "internally\n",
    "'''\n",
    "# wap print prime numbers in betwwen 10 to 100\n",
    "for num in range(10,101):\n",
    "    for i in range(2,num):\n",
    "        if(num % i == 0):\n",
    "            break\n",
    "    else:\n",
    "        print(\"%d is prime numer\"%num)"
   ]
  },
  {
   "cell_type": "code",
   "execution_count": 7,
   "metadata": {},
   "outputs": [
    {
     "name": "stdout",
     "output_type": "stream",
     "text": [
      "enter no of rows : 4\n",
      "enter no of cols : 4\n",
      "*  *  *  *  \n",
      "*  *  *  *  \n",
      "*  *  *  *  \n",
      "*  *  *  *  \n"
     ]
    }
   ],
   "source": [
    "'''\n",
    "*  *  *  *\n",
    "*  *  *  *\n",
    "*  *  *  *\n",
    "*  *  *  *\n",
    "'''\n",
    "row = int(input(\"enter no of rows : \"))\n",
    "col = int(input(\"enter no of cols : \"))\n",
    "for r in range(1, row+1):\n",
    "    for c in range(1, col+1):\n",
    "        print(\"*\",end=\"  \")\n",
    "    print(\"\")\n",
    "\n"
   ]
  },
  {
   "cell_type": "code",
   "execution_count": 8,
   "metadata": {},
   "outputs": [
    {
     "name": "stdout",
     "output_type": "stream",
     "text": [
      "enter no of rows : 4\n",
      "enter no of cols : 4\n",
      "1  2  3  4  \n",
      "1  2  3  4  \n",
      "1  2  3  4  \n",
      "1  2  3  4  \n"
     ]
    }
   ],
   "source": [
    "'''\n",
    "1 2 3 4\n",
    "1 2 3 4\n",
    "1 2 3 4\n",
    "1 2 3 4\n",
    "'''\n",
    "row = int(input(\"enter no of rows : \"))\n",
    "col = int(input(\"enter no of cols : \"))\n",
    "for r in range(1, row+1):\n",
    "    for c in range(1, col+1):\n",
    "        print(c,end=\"  \")\n",
    "    print(\"\")"
   ]
  },
  {
   "cell_type": "code",
   "execution_count": 9,
   "metadata": {},
   "outputs": [
    {
     "name": "stdout",
     "output_type": "stream",
     "text": [
      "enter no of rows : 4\n",
      "enter no of cols : 4\n",
      "1  1  1  1  \n",
      "2  2  2  2  \n",
      "3  3  3  3  \n",
      "4  4  4  4  \n"
     ]
    }
   ],
   "source": [
    "'''\n",
    "1 1 1 1\n",
    "2 2 2 2 \n",
    "3 3 3 3 \n",
    "4 4 4 4\n",
    "'''\n",
    "\n",
    "row = int(input(\"enter no of rows : \"))\n",
    "col = int(input(\"enter no of cols : \"))\n",
    "for r in range(1, row+1):\n",
    "    for c in range(1, col+1):\n",
    "        print(r,end=\"  \")\n",
    "    print(\"\")"
   ]
  },
  {
   "cell_type": "code",
   "execution_count": null,
   "metadata": {},
   "outputs": [],
   "source": [
    "'''\n",
    "*\n",
    "*  *\n",
    "*  *  *\n",
    "*  *  *  *\n",
    "'''"
   ]
  },
  {
   "cell_type": "code",
   "execution_count": null,
   "metadata": {},
   "outputs": [],
   "source": [
    "'''\n",
    "            *\n",
    "        *   *   *\n",
    "    *   *   *   *   *\n",
    "*   *   *   *   *   *   *\n",
    "'''"
   ]
  }
 ],
 "metadata": {
  "kernelspec": {
   "display_name": "Python 3",
   "language": "python",
   "name": "python3"
  },
  "language_info": {
   "codemirror_mode": {
    "name": "ipython",
    "version": 3
   },
   "file_extension": ".py",
   "mimetype": "text/x-python",
   "name": "python",
   "nbconvert_exporter": "python",
   "pygments_lexer": "ipython3",
   "version": "3.7.0"
  }
 },
 "nbformat": 4,
 "nbformat_minor": 2
}
