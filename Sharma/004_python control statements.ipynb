{
 "cells": [
  {
   "cell_type": "code",
   "execution_count": 2,
   "metadata": {},
   "outputs": [
    {
     "name": "stdout",
     "output_type": "stream",
     "text": [
      "enter s1 : 10\n",
      "enter s2 : 11\n",
      "enter s3 : 10\n"
     ]
    }
   ],
   "source": [
    "# simple if \n",
    "# wap find area of triangle when all sides are equal\n",
    "\n",
    "s1=int(input(\"enter s1 : \"))\n",
    "s2=int(input(\"enter s2 : \"))\n",
    "s3=int(input(\"enter s3 : \"))\n",
    "\n",
    "if(s1 == s2 and s2 == s3):\n",
    "    h = ((s1**2) -(s2/2)**2)**0.5\n",
    "    area =0.5*s1*h\n",
    "    print(\"area = \",area, \"sq .m\")\n",
    "\n"
   ]
  },
  {
   "cell_type": "code",
   "execution_count": 1,
   "metadata": {},
   "outputs": [
    {
     "name": "stdout",
     "output_type": "stream",
     "text": [
      "enter your name : anjan\n",
      "enter age of you : 28\n",
      "'enter your phone number : '9640 987 960\n",
      "name :  anjan\n",
      "age  :  28\n",
      "phone:  9640 987 960\n",
      "if is over \n"
     ]
    }
   ],
   "source": [
    "# wap print your full details when  your age is even\n",
    "\n",
    "name= input(\"enter your name : \")\n",
    "age = int(input(\"enter age of you : \"))\n",
    "ph  = input(\"'enter your phone number : '\")\n",
    "if(age % 2 == 0):\n",
    "    print(\"name : \",name)\n",
    "    print(\"age  : \",age)\n",
    "    print(\"phone: \",ph)\n",
    "print(\"if is over \")"
   ]
  },
  {
   "cell_type": "code",
   "execution_count": 3,
   "metadata": {},
   "outputs": [
    {
     "name": "stdout",
     "output_type": "stream",
     "text": [
      "enter your name : anjan\n",
      "enter age of you : 27\n",
      "'enter your phone number : '9640 987 960\n",
      "if is over \n"
     ]
    }
   ],
   "source": [
    "# wap print your full details when  your age is even\n",
    "\n",
    "name= input(\"enter your name : \")\n",
    "age = int(input(\"enter age of you : \"))\n",
    "ph  = input(\"'enter your phone number : '\")\n",
    "if(age % 2 == 0):\n",
    "    print(\"name : \",name)\n",
    "    print(\"age  : \",age)\n",
    "    print(\"phone: \",ph)\n",
    "print(\"if is over \")"
   ]
  },
  {
   "cell_type": "code",
   "execution_count": null,
   "metadata": {},
   "outputs": [],
   "source": [
    "# wap find sum of areas of sqaure and rectagle when the side of sqaure is same \n",
    "# as any one side of the rectangle"
   ]
  },
  {
   "cell_type": "code",
   "execution_count": null,
   "metadata": {},
   "outputs": [],
   "source": [
    "# wap find sum of areas of sqaure and rectagle when the side of sqaure is same \n",
    "# as any one side of the rectangle other wise sum of perimter "
   ]
  },
  {
   "cell_type": "code",
   "execution_count": null,
   "metadata": {},
   "outputs": [],
   "source": [
    "'''\n",
    "wap find sum of cubes of 1st natural number when the diffrence between \n",
    "sum of square of 1st natural and sum of 1st n natural numbers is odd\n",
    "'''"
   ]
  },
  {
   "cell_type": "code",
   "execution_count": null,
   "metadata": {},
   "outputs": [],
   "source": [
    "'''\n",
    "wap find sum of cubes of 1st natural number when the diffrence between \n",
    "sum of square of 1st natural and sum of 1st n natural numbers is odd other \n",
    "wise  find sum of square of 1st n natural numbers \n",
    "'''"
   ]
  },
  {
   "cell_type": "code",
   "execution_count": 5,
   "metadata": {},
   "outputs": [
    {
     "name": "stdout",
     "output_type": "stream",
     "text": [
      "enter s1 : 10\n",
      "enter s2 : 11\n",
      "enter s3 : 10\n",
      "perimeter =  31  meter\n"
     ]
    }
   ],
   "source": [
    "#  if  and else\n",
    "# wap find area of triangle when all sides are equal other wise find perimter\n",
    "\n",
    "s1=int(input(\"enter s1 : \"))\n",
    "s2=int(input(\"enter s2 : \"))\n",
    "s3=int(input(\"enter s3 : \"))\n",
    "\n",
    "if(s1 == s2 and s2 == s3):\n",
    "    h = ((s1**2) -(s2/2)**2)**0.5\n",
    "    area =0.5*s1*h\n",
    "    print(\"area = \",area, \"sq .m\")\n",
    "else:\n",
    "    peri = s1+s2+s3\n",
    "    print(\"perimeter = \",peri,\" meter\")\n"
   ]
  },
  {
   "cell_type": "code",
   "execution_count": 8,
   "metadata": {},
   "outputs": [
    {
     "name": "stdout",
     "output_type": "stream",
     "text": [
      "enter your name : anjan\n",
      "enter age of you : 27\n",
      "'enter your phone number : '9640 987960\n",
      "enter yout dad name : klddfkfdd\n",
      "enter age of your dad : lknkd\n",
      "enter phone number of your father : djndnfjkd\n",
      "name :  anjan\n",
      "age  :  27\n",
      "phone:  9640 987960\n",
      "if is over \n"
     ]
    }
   ],
   "source": [
    "'''\n",
    "wap take your details when your age more than 18 other yout father details \n",
    "'''\n",
    "name= input(\"enter your name : \")\n",
    "age = int(input(\"enter age of you : \"))\n",
    "ph  = input(\"'enter your phone number : '\")\n",
    "f_name = input(\"enter yout dad name : \")\n",
    "f_age  = input(\"enter age of your dad : \")\n",
    "f_ph   = input(\"enter phone number of your father : \")\n",
    "if(age >= 18):\n",
    "    print(\"name : \",name)\n",
    "    print(\"age  : \",age)\n",
    "    print(\"phone: \",ph)\n",
    "else:\n",
    "    print(\"father name : \",f_name)\n",
    "    print(\"father age  : \",f_age)\n",
    "    print(\"father phone: \",f_ph)\n",
    "print(\"if is over \")"
   ]
  },
  {
   "cell_type": "code",
   "execution_count": 3,
   "metadata": {},
   "outputs": [
    {
     "name": "stdout",
     "output_type": "stream",
     "text": [
      "enter s1 marks : 89\n",
      "enter s2 marks : 56\n",
      "enter s3 marks : 45\n",
      "enter s4 marks : 60\n",
      "enter s5 marks : 45\n",
      "B Grade\n"
     ]
    }
   ],
   "source": [
    "# wap find the grading system based on student marks \n",
    "\n",
    "s1 = int(input(\"enter s1 marks : \"))\n",
    "s2 = int(input(\"enter s2 marks : \"))\n",
    "s3 = int(input(\"enter s3 marks : \"))\n",
    "s4 = int(input(\"enter s4 marks : \"))\n",
    "s5 = int(input(\"enter s5 marks : \"))\n",
    "g_m = s1+s2+s3+s4+s5\n",
    "avg = g_m/ 500\n",
    "per =avg*100\n",
    "if(per > 70):\n",
    "    print(\"A  Grade with Distinction\")\n",
    "elif(per > 60):\n",
    "    print(\"A Grade\")\n",
    "elif(per > 50):\n",
    "    print(\"B Grade\")\n",
    "elif(per > 40):\n",
    "    print(\"C Grade\")\n",
    "else:\n",
    "    print(\"Better Luck Next Time !\")"
   ]
  },
  {
   "cell_type": "code",
   "execution_count": 6,
   "metadata": {},
   "outputs": [
    {
     "name": "stdout",
     "output_type": "stream",
     "text": [
      "enter a : 56\n",
      "enter b : 10\n",
      "enter c : 56\n",
      "small =  10\n"
     ]
    }
   ],
   "source": [
    "# Nested if\n",
    "'''\n",
    "Any conditional statements haing one more conditional statemeent\n",
    "\n",
    "'''\n",
    "# wap find the smallest number from 3 number \n",
    "\n",
    "a = int(input(\"enter a : \"))\n",
    "b = int(input(\"enter b : \"))\n",
    "c = int(input(\"enter c : \"))\n",
    "if(a < b):\n",
    "    small = a\n",
    "    if(a > c):\n",
    "        small =c\n",
    "else:\n",
    "    small =b\n",
    "    if(b > c):\n",
    "        small = c\n",
    "print(\"small = \",small)"
   ]
  },
  {
   "cell_type": "code",
   "execution_count": null,
   "metadata": {},
   "outputs": [],
   "source": [
    "# wap find biggest number from 3 numbers"
   ]
  },
  {
   "cell_type": "code",
   "execution_count": null,
   "metadata": {},
   "outputs": [],
   "source": [
    "# wap find the given year is leap year or not "
   ]
  }
 ],
 "metadata": {
  "kernelspec": {
   "display_name": "Python 3",
   "language": "python",
   "name": "python3"
  },
  "language_info": {
   "codemirror_mode": {
    "name": "ipython",
    "version": 3
   },
   "file_extension": ".py",
   "mimetype": "text/x-python",
   "name": "python",
   "nbconvert_exporter": "python",
   "pygments_lexer": "ipython3",
   "version": "3.7.0"
  }
 },
 "nbformat": 4,
 "nbformat_minor": 2
}
