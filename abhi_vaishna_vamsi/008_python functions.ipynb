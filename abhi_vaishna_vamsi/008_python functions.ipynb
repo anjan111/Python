{
 "cells": [
  {
   "cell_type": "code",
   "execution_count": 5,
   "metadata": {},
   "outputs": [
    {
     "name": "stdout",
     "output_type": "stream",
     "text": [
      "name :  anjan\n",
      "phone:  9640 987 960\n",
      "**********************\n",
      "name :  aishu\n",
      "phone:  8945 785 689\n"
     ]
    }
   ],
   "source": [
    "# waf print your details \n",
    "\n",
    "def  detials(name , ph ):\n",
    "    print(\"name : \",name)\n",
    "    print(\"phone: \",ph)\n",
    "    \n",
    "def main():\n",
    "    detials(\"anjan\",\"9640 987 960\") # function call\n",
    "    print(\"**********************\")\n",
    "    detials(\"aishu\",\"8945 785 689\")\n",
    "    \n",
    "if __name__ == \"__main__\" :\n",
    "    main()"
   ]
  },
  {
   "cell_type": "code",
   "execution_count": null,
   "metadata": {},
   "outputs": [],
   "source": [
    "# wap which contains 3 functions\n",
    "# reverse of a number \n",
    "# given number is palidrom or not \n",
    "# no of digits in a number"
   ]
  },
  {
   "cell_type": "code",
   "execution_count": 7,
   "metadata": {},
   "outputs": [
    {
     "name": "stdout",
     "output_type": "stream",
     "text": [
      "hello\n",
      "a =  500\n"
     ]
    }
   ],
   "source": [
    "# return keyword\n",
    "def fun():\n",
    "    print(\"hello\")\n",
    "    return 500\n",
    "    print(\"hai\")\n",
    "def main():\n",
    "    a = fun()\n",
    "    print('a = ',a)\n",
    "if __name__ == \"__main__\":\n",
    "    main()\n"
   ]
  }
 ],
 "metadata": {
  "kernelspec": {
   "display_name": "Python 3",
   "language": "python",
   "name": "python3"
  },
  "language_info": {
   "codemirror_mode": {
    "name": "ipython",
    "version": 3
   },
   "file_extension": ".py",
   "mimetype": "text/x-python",
   "name": "python",
   "nbconvert_exporter": "python",
   "pygments_lexer": "ipython3",
   "version": "3.7.0"
  }
 },
 "nbformat": 4,
 "nbformat_minor": 2
}
