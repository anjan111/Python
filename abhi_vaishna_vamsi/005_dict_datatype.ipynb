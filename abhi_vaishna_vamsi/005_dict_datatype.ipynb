{
 "cells": [
  {
   "cell_type": "code",
   "execution_count": null,
   "metadata": {},
   "outputs": [],
   "source": [
    "# dict datatype\n",
    "\n",
    "---> sequential datatype ( multiple elements )\n",
    "\n",
    "---> the all multiple elements it can store with { }"
   ]
  },
  {
   "cell_type": "code",
   "execution_count": 1,
   "metadata": {},
   "outputs": [
    {
     "name": "stdout",
     "output_type": "stream",
     "text": [
      "data :  {}\n",
      "id   :  545797586088\n",
      "<class 'dict'>\n",
      "memory :  216\n"
     ]
    }
   ],
   "source": [
    "# empty dict\n",
    "var = {}\n",
    "print(\"data : \",var)\n",
    "print(\"id   : \",id(var))\n",
    "print(type(var))\n",
    "print(\"memory : \",var.__sizeof__())\n",
    "\n"
   ]
  },
  {
   "cell_type": "code",
   "execution_count": null,
   "metadata": {},
   "outputs": [],
   "source": [
    "# dict is collection of items \n",
    "# item is a combination of key and value ( separated by : )\n",
    "\n",
    "var = { 12 : \"soc\" ,   24 : \"soft\" , 45 : \"hello\"   }\n",
    "print(\"data : \",var)\n",
    "print(\"id   : \",id(var))\n",
    "print(type(var))\n",
    "print(\"memory : \",var.__sizeof__())\n",
    "\n"
   ]
  },
  {
   "cell_type": "code",
   "execution_count": 5,
   "metadata": {},
   "outputs": [
    {
     "ename": "TypeError",
     "evalue": "unhashable type: 'list'",
     "output_type": "error",
     "traceback": [
      "\u001b[1;31m---------------------------------------------------------------------------\u001b[0m",
      "\u001b[1;31mTypeError\u001b[0m                                 Traceback (most recent call last)",
      "\u001b[1;32m<ipython-input-5-1411965ef0d9>\u001b[0m in \u001b[0;36m<module>\u001b[1;34m()\u001b[0m\n\u001b[0;32m      2\u001b[0m \u001b[1;31m# item is a combination of key and value ( separated by : )\u001b[0m\u001b[1;33m\u001b[0m\u001b[1;33m\u001b[0m\u001b[0m\n\u001b[0;32m      3\u001b[0m \u001b[1;33m\u001b[0m\u001b[0m\n\u001b[1;32m----> 4\u001b[1;33m \u001b[0mvar\u001b[0m \u001b[1;33m=\u001b[0m \u001b[1;33m{\u001b[0m \u001b[1;34m'12'\u001b[0m\u001b[1;33m:\u001b[0m \u001b[1;34m\"soc\"\u001b[0m \u001b[1;33m,\u001b[0m   \u001b[1;33m[\u001b[0m\u001b[1;36m1\u001b[0m\u001b[1;33m,\u001b[0m\u001b[1;36m2\u001b[0m\u001b[1;33m]\u001b[0m \u001b[1;33m:\u001b[0m \u001b[1;34m\"soft\"\u001b[0m \u001b[1;33m,\u001b[0m \u001b[1;36m45\u001b[0m \u001b[1;33m:\u001b[0m \u001b[1;34m\"hello\"\u001b[0m   \u001b[1;33m}\u001b[0m\u001b[1;33m\u001b[0m\u001b[0m\n\u001b[0m\u001b[0;32m      5\u001b[0m \u001b[0mprint\u001b[0m\u001b[1;33m(\u001b[0m\u001b[1;34m\"data : \"\u001b[0m\u001b[1;33m,\u001b[0m\u001b[0mvar\u001b[0m\u001b[1;33m)\u001b[0m\u001b[1;33m\u001b[0m\u001b[0m\n\u001b[0;32m      6\u001b[0m \u001b[0mprint\u001b[0m\u001b[1;33m(\u001b[0m\u001b[1;34m\"id   : \"\u001b[0m\u001b[1;33m,\u001b[0m\u001b[0mid\u001b[0m\u001b[1;33m(\u001b[0m\u001b[0mvar\u001b[0m\u001b[1;33m)\u001b[0m\u001b[1;33m)\u001b[0m\u001b[1;33m\u001b[0m\u001b[0m\n",
      "\u001b[1;31mTypeError\u001b[0m: unhashable type: 'list'"
     ]
    }
   ],
   "source": [
    "# dict is collection of items \n",
    "# item is a combination of key and value ( separated by : )\n",
    "\n",
    "# dont use list , set ,dict as a key of the dict\n",
    "\n",
    "var = { '12': \"soc\" ,   [1,2] : \"soft\" , 45 : \"hello\"   }\n",
    "print(\"data : \",var)\n",
    "print(\"id   : \",id(var))\n",
    "print(type(var))\n",
    "print(\"memory : \",var.__sizeof__())\n",
    "\n"
   ]
  },
  {
   "cell_type": "code",
   "execution_count": 6,
   "metadata": {},
   "outputs": [
    {
     "name": "stdout",
     "output_type": "stream",
     "text": [
      "data :  {'12': 'soft', 45: 'hello'}\n",
      "id   :  545797643000\n",
      "<class 'dict'>\n",
      "memory :  216\n"
     ]
    }
   ],
   "source": [
    "# dict is collection of items \n",
    "# item is a combination of key and value ( separated by : )\n",
    "\n",
    "# dont use list , set ,dict as a key of the dict\n",
    "\n",
    "# dupliate keys its never support\n",
    "\n",
    "var = { '12': \"soc\" ,   '12' : \"soft\" , 45 : \"hello\"   }\n",
    "print(\"data : \",var)\n",
    "print(\"id   : \",id(var))\n",
    "print(type(var))\n",
    "print(\"memory : \",var.__sizeof__())\n",
    "\n"
   ]
  },
  {
   "cell_type": "code",
   "execution_count": 8,
   "metadata": {},
   "outputs": [
    {
     "name": "stdout",
     "output_type": "stream",
     "text": [
      "data :  {'12': 'soft', 56: 'soft', 45: 'hello'}\n",
      "id   :  545784698920\n",
      "<class 'dict'>\n",
      "memory :  216\n"
     ]
    },
    {
     "data": {
      "text/plain": [
       "{'12': 'soft', 56: 'soft', 45: 'hello'}"
      ]
     },
     "execution_count": 8,
     "metadata": {},
     "output_type": "execute_result"
    }
   ],
   "source": [
    "# dict is collection of items \n",
    "# item is a combination of key and value ( separated by : )\n",
    "\n",
    "# dont use list , set ,dict as a key of the dict\n",
    "\n",
    "# dupliate keys its never support\n",
    "# unorder daatatype\n",
    "var = { '12': \"soft\" ,   56 : \"soft\" , 45 : \"hello\"   }\n",
    "print(\"data : \",var)\n",
    "print(\"id   : \",id(var))\n",
    "print(type(var))\n",
    "print(\"memory : \",var.__sizeof__())\n",
    "var\n"
   ]
  },
  {
   "cell_type": "code",
   "execution_count": 13,
   "metadata": {},
   "outputs": [
    {
     "name": "stdout",
     "output_type": "stream",
     "text": [
      "data :  {'12': 'soc', 12: 'soft', 45: 'hello'}\n",
      "id   :  545784806496\n",
      "<class 'dict'>\n",
      "memory :  216\n",
      "soft\n",
      "{'12': 'soc', 12: 'soft', 45: 'hello', 123: 'soc'}\n",
      "soc\n",
      "{'12': 'soc', 12: 'soft', 45: 'hello'}\n"
     ]
    }
   ],
   "source": [
    "# indexing is not support \n",
    "# but key indexing is support \n",
    "'''\n",
    "we can access values by using keys same like indexinf \n",
    "'''\n",
    "# dict is collection of items \n",
    "# item is a combination of key and value ( separated by : )\n",
    "\n",
    "# dont use list , set ,dict as a key of the dict\n",
    "\n",
    "# dupliate keys its never support\n",
    "\n",
    "var = { '12': \"soc\" ,   12 : \"soft\" , 45 : \"hello\"   }\n",
    "print(\"data : \",var)\n",
    "print(\"id   : \",id(var))\n",
    "print(type(var))\n",
    "print(\"memory : \",var.__sizeof__())\n",
    "\n",
    "print(var[12])\n",
    "var[123] =  'soc'\n",
    "print(var)\n",
    "print(var[123])\n",
    "del var[123]\n",
    "print(var)"
   ]
  },
  {
   "cell_type": "code",
   "execution_count": 14,
   "metadata": {},
   "outputs": [
    {
     "name": "stdout",
     "output_type": "stream",
     "text": [
      "{12: 34, 34: 67}\n"
     ]
    }
   ],
   "source": [
    "var = dict([(12,34) , (34 ,67)])\n",
    "print(var)"
   ]
  },
  {
   "cell_type": "code",
   "execution_count": 21,
   "metadata": {},
   "outputs": [
    {
     "name": "stdout",
     "output_type": "stream",
     "text": [
      "dict_keys([12, 56, 23])\n",
      "dict_values(['34', '90', 's'])\n",
      "dict_items([(12, '34'), (56, '90'), (23, 's')])\n",
      "3\n",
      "56\n",
      "12\n",
      "91\n",
      "dict_items([(12, '34'), (56, '90'), (23, 's')])\n"
     ]
    }
   ],
   "source": [
    "var= {12: \"34\" , 56 :\"90\" ,23 : \"s\"}\n",
    "print(var.keys())\n",
    "print(var.values())\n",
    "print(var.items())\n",
    "print(len(var))\n",
    "print(max(var))\n",
    "print(min(var))\n",
    "print(sum(var))\n",
    "print(var.items())\n"
   ]
  },
  {
   "cell_type": "code",
   "execution_count": 22,
   "metadata": {},
   "outputs": [
    {
     "name": "stdout",
     "output_type": "stream",
     "text": [
      "{12: '34', 56: '90', 23: 's'}\n",
      "{12: '34', 56: '90', 23: 's'}\n"
     ]
    }
   ],
   "source": [
    "var= {12: \"34\" , 56 :\"90\" ,23 : \"s\"}\n",
    "a = {}\n",
    "a = var.copy()\n",
    "print(a)\n",
    "print(var)"
   ]
  },
  {
   "cell_type": "code",
   "execution_count": 23,
   "metadata": {},
   "outputs": [
    {
     "name": "stdout",
     "output_type": "stream",
     "text": [
      "{12: '34', 56: '90', 23: 's'}\n",
      "{12: '34', 56: '90', 23: 's'}\n",
      "{}\n",
      "{12: '34', 56: '90', 23: 's'}\n"
     ]
    }
   ],
   "source": [
    "var= {12: \"34\" , 56 :\"90\" ,23 : \"s\"}\n",
    "a= {}\n",
    "a = var.copy()\n",
    "print(a)\n",
    "print(var)\n",
    "a.clear()\n",
    "print(a)\n",
    "print(var)"
   ]
  },
  {
   "cell_type": "code",
   "execution_count": 24,
   "metadata": {},
   "outputs": [
    {
     "name": "stdout",
     "output_type": "stream",
     "text": [
      "{90: 'soc', 52: 'seo'}\n",
      "{12: '34', 56: '90', 23: 's'}\n",
      "{90: 'soc', 52: 'seo', 12: '34', 56: '90', 23: 's'}\n",
      "{12: '34', 56: '90', 23: 's'}\n"
     ]
    }
   ],
   "source": [
    "var= {12: \"34\" , 56 :\"90\" ,23 : \"s\"}\n",
    "a= {90:\"soc\" , 52 : \"seo\"}\n",
    "\n",
    "print(a)\n",
    "print(var)\n",
    "a.update(var)\n",
    "print(a)\n",
    "print(var)"
   ]
  },
  {
   "cell_type": "code",
   "execution_count": 25,
   "metadata": {},
   "outputs": [
    {
     "data": {
      "text/plain": [
       "['__class__',\n",
       " '__contains__',\n",
       " '__delattr__',\n",
       " '__delitem__',\n",
       " '__dir__',\n",
       " '__doc__',\n",
       " '__eq__',\n",
       " '__format__',\n",
       " '__ge__',\n",
       " '__getattribute__',\n",
       " '__getitem__',\n",
       " '__gt__',\n",
       " '__hash__',\n",
       " '__init__',\n",
       " '__init_subclass__',\n",
       " '__iter__',\n",
       " '__le__',\n",
       " '__len__',\n",
       " '__lt__',\n",
       " '__ne__',\n",
       " '__new__',\n",
       " '__reduce__',\n",
       " '__reduce_ex__',\n",
       " '__repr__',\n",
       " '__setattr__',\n",
       " '__setitem__',\n",
       " '__sizeof__',\n",
       " '__str__',\n",
       " '__subclasshook__',\n",
       " 'clear',\n",
       " 'copy',\n",
       " 'fromkeys',\n",
       " 'get',\n",
       " 'items',\n",
       " 'keys',\n",
       " 'pop',\n",
       " 'popitem',\n",
       " 'setdefault',\n",
       " 'update',\n",
       " 'values']"
      ]
     },
     "execution_count": 25,
     "metadata": {},
     "output_type": "execute_result"
    }
   ],
   "source": [
    "dir(dict)"
   ]
  },
  {
   "cell_type": "code",
   "execution_count": 26,
   "metadata": {},
   "outputs": [
    {
     "name": "stdout",
     "output_type": "stream",
     "text": [
      "34\n",
      "{56: '90', 23: 's'}\n"
     ]
    }
   ],
   "source": [
    "var= {12: \"34\" , 56 :\"90\" ,23 : \"s\"}\n",
    "print(var.pop(12))\n",
    "print(var)"
   ]
  },
  {
   "cell_type": "code",
   "execution_count": 28,
   "metadata": {},
   "outputs": [
    {
     "name": "stdout",
     "output_type": "stream",
     "text": [
      "(23, 's')\n",
      "{12: '34', 56: '90'}\n"
     ]
    }
   ],
   "source": [
    "var= {12: \"34\" , 56 :\"90\" ,23 : \"s\"}\n",
    "print(var.popitem())\n",
    "print(var)"
   ]
  },
  {
   "cell_type": "code",
   "execution_count": 29,
   "metadata": {},
   "outputs": [
    {
     "name": "stdout",
     "output_type": "stream",
     "text": [
      "90\n",
      "{12: '34', 56: '90', 23: 's'}\n"
     ]
    }
   ],
   "source": [
    "var= {12: \"34\" , 56 :\"90\" ,23 : \"s\"}\n",
    "print(var.get(56))\n",
    "print(var)"
   ]
  }
 ],
 "metadata": {
  "kernelspec": {
   "display_name": "Python 3",
   "language": "python",
   "name": "python3"
  },
  "language_info": {
   "codemirror_mode": {
    "name": "ipython",
    "version": 3
   },
   "file_extension": ".py",
   "mimetype": "text/x-python",
   "name": "python",
   "nbconvert_exporter": "python",
   "pygments_lexer": "ipython3",
   "version": "3.7.0"
  }
 },
 "nbformat": 4,
 "nbformat_minor": 2
}
