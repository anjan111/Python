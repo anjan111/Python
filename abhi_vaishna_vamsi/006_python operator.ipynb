{
 "cells": [
  {
   "cell_type": "code",
   "execution_count": 1,
   "metadata": {},
   "outputs": [
    {
     "name": "stdout",
     "output_type": "stream",
     "text": [
      "10\n",
      "-20\n",
      "False\n",
      "-21\n"
     ]
    }
   ],
   "source": [
    "# unary Operators\n",
    "print(+  10)\n",
    "print(- 20)\n",
    "print(not 20)\n",
    "print(~ 20)"
   ]
  },
  {
   "cell_type": "code",
   "execution_count": 2,
   "metadata": {},
   "outputs": [
    {
     "name": "stdout",
     "output_type": "stream",
     "text": [
      "30\n",
      "300\n",
      "False\n"
     ]
    }
   ],
   "source": [
    "# binary operator\n",
    "print( 10 +20)\n",
    "print(10  * 30)\n",
    "print(10 > 20)"
   ]
  },
  {
   "cell_type": "code",
   "execution_count": 3,
   "metadata": {},
   "outputs": [
    {
     "name": "stdout",
     "output_type": "stream",
     "text": [
      "enter diameter of circle in meter22\n",
      "area of cicle is :  380.2857142857143 sq. meter\n",
      "perimter of circle is :  69.14285714285714  meter\n"
     ]
    }
   ],
   "source": [
    "# wap find the area and perimeter of circle \n",
    "d = float(input(\"enter diameter of circle in meter\"))\n",
    "r = d/2\n",
    "area = (22.0/7)*(r**2)\n",
    "peri = 2* 22.0/7*r\n",
    "print(\"area of cicle is : \",area,\"sq. meter\")\n",
    "print(\"perimter of circle is : \",peri,\" meter\")\n"
   ]
  },
  {
   "cell_type": "code",
   "execution_count": null,
   "metadata": {},
   "outputs": [],
   "source": [
    "# wap find the area and perimter of the triangle\n",
    "# wap find the area and perimter of the square \n",
    "# wap find the area and perimter of  the reacttangle\n",
    "# wap find the volume and area of the cube \n",
    "# wap find the voume and area of the cylender \n",
    "# wap find the simple interest \n",
    "# wap convert O^o F to O^o  C\n",
    "\n",
    "# "
   ]
  },
  {
   "cell_type": "code",
   "execution_count": null,
   "metadata": {},
   "outputs": [],
   "source": [
    "# relational Operators\n",
    "\n",
    "----> comparision operator\n",
    "\n",
    "----> conditional Operator\n",
    "\n",
    "----> Boolean Operators\n",
    "\n",
    "there are 6 operator\n",
    "\n",
    "1. lessthan    < \n",
    "\n",
    "2. greater than    >\n",
    "\n",
    "3. equel too      ==\n",
    "\n",
    "4. not equal to   !=\n",
    "\n",
    "5. lessthan or equal   <=\n",
    "\n",
    "6. greaterthan or equal >=\n",
    "\n",
    "---> we can apply on int , float , complex "
   ]
  },
  {
   "cell_type": "code",
   "execution_count": 1,
   "metadata": {},
   "outputs": [
    {
     "name": "stdout",
     "output_type": "stream",
     "text": [
      "enter a : 78\n",
      "enter b : 89\n",
      "78  <  89  =  True\n",
      "78  >  89  =  False\n",
      "78  ==  89  =  False\n",
      "78  !=  89  =  True\n",
      "78  <=  89  =  True\n",
      "78  >=  89  =  False\n"
     ]
    }
   ],
   "source": [
    "a = int(input(\"enter a : \"))\n",
    "b = int(input(\"enter b : \"))\n",
    "print(a,\" < \",b, \" = \",a < b)\n",
    "print(a,\" > \",b, \" = \",a > b)\n",
    "print(a,\" == \",b, \" = \",a == b)\n",
    "print(a,\" != \",b, \" = \",a != b)\n",
    "print(a,\" <= \",b, \" = \",a <= b)\n",
    "print(a,\" >= \",b, \" = \",a >= b)"
   ]
  },
  {
   "cell_type": "code",
   "execution_count": 2,
   "metadata": {},
   "outputs": [
    {
     "name": "stdout",
     "output_type": "stream",
     "text": [
      "enter a : 12.34\n",
      "enter b : 12.35\n",
      "12.34  <  12.35  =  True\n",
      "12.34  >  12.35  =  False\n",
      "12.34  ==  12.35  =  False\n",
      "12.34  !=  12.35  =  True\n",
      "12.34  <=  12.35  =  True\n",
      "12.34  >=  12.35  =  False\n"
     ]
    }
   ],
   "source": [
    "a = float(input(\"enter a : \"))\n",
    "b = float(input(\"enter b : \"))\n",
    "print(a,\" < \",b, \" = \",a < b)\n",
    "print(a,\" > \",b, \" = \",a > b)\n",
    "print(a,\" == \",b, \" = \",a == b)\n",
    "print(a,\" != \",b, \" = \",a != b)\n",
    "print(a,\" <= \",b, \" = \",a <= b)\n",
    "print(a,\" >= \",b, \" = \",a >= b)"
   ]
  },
  {
   "cell_type": "code",
   "execution_count": 3,
   "metadata": {},
   "outputs": [
    {
     "name": "stdout",
     "output_type": "stream",
     "text": [
      "enter a : 12+34j\n",
      "enter b : 12+35j\n"
     ]
    },
    {
     "ename": "TypeError",
     "evalue": "'<' not supported between instances of 'complex' and 'complex'",
     "output_type": "error",
     "traceback": [
      "\u001b[1;31m---------------------------------------------------------------------------\u001b[0m",
      "\u001b[1;31mTypeError\u001b[0m                                 Traceback (most recent call last)",
      "\u001b[1;32m<ipython-input-3-3273885f7032>\u001b[0m in \u001b[0;36m<module>\u001b[1;34m()\u001b[0m\n\u001b[0;32m      1\u001b[0m \u001b[0ma\u001b[0m \u001b[1;33m=\u001b[0m \u001b[0mcomplex\u001b[0m\u001b[1;33m(\u001b[0m\u001b[0minput\u001b[0m\u001b[1;33m(\u001b[0m\u001b[1;34m\"enter a : \"\u001b[0m\u001b[1;33m)\u001b[0m\u001b[1;33m)\u001b[0m\u001b[1;33m\u001b[0m\u001b[0m\n\u001b[0;32m      2\u001b[0m \u001b[0mb\u001b[0m \u001b[1;33m=\u001b[0m \u001b[0mcomplex\u001b[0m\u001b[1;33m(\u001b[0m\u001b[0minput\u001b[0m\u001b[1;33m(\u001b[0m\u001b[1;34m\"enter b : \"\u001b[0m\u001b[1;33m)\u001b[0m\u001b[1;33m)\u001b[0m\u001b[1;33m\u001b[0m\u001b[0m\n\u001b[1;32m----> 3\u001b[1;33m \u001b[0mprint\u001b[0m\u001b[1;33m(\u001b[0m\u001b[0ma\u001b[0m\u001b[1;33m,\u001b[0m\u001b[1;34m\" < \"\u001b[0m\u001b[1;33m,\u001b[0m\u001b[0mb\u001b[0m\u001b[1;33m,\u001b[0m \u001b[1;34m\" = \"\u001b[0m\u001b[1;33m,\u001b[0m\u001b[0ma\u001b[0m \u001b[1;33m<\u001b[0m \u001b[0mb\u001b[0m\u001b[1;33m)\u001b[0m\u001b[1;33m\u001b[0m\u001b[0m\n\u001b[0m\u001b[0;32m      4\u001b[0m \u001b[0mprint\u001b[0m\u001b[1;33m(\u001b[0m\u001b[0ma\u001b[0m\u001b[1;33m,\u001b[0m\u001b[1;34m\" > \"\u001b[0m\u001b[1;33m,\u001b[0m\u001b[0mb\u001b[0m\u001b[1;33m,\u001b[0m \u001b[1;34m\" = \"\u001b[0m\u001b[1;33m,\u001b[0m\u001b[0ma\u001b[0m \u001b[1;33m>\u001b[0m \u001b[0mb\u001b[0m\u001b[1;33m)\u001b[0m\u001b[1;33m\u001b[0m\u001b[0m\n\u001b[0;32m      5\u001b[0m \u001b[0mprint\u001b[0m\u001b[1;33m(\u001b[0m\u001b[0ma\u001b[0m\u001b[1;33m,\u001b[0m\u001b[1;34m\" == \"\u001b[0m\u001b[1;33m,\u001b[0m\u001b[0mb\u001b[0m\u001b[1;33m,\u001b[0m \u001b[1;34m\" = \"\u001b[0m\u001b[1;33m,\u001b[0m\u001b[0ma\u001b[0m \u001b[1;33m==\u001b[0m \u001b[0mb\u001b[0m\u001b[1;33m)\u001b[0m\u001b[1;33m\u001b[0m\u001b[0m\n",
      "\u001b[1;31mTypeError\u001b[0m: '<' not supported between instances of 'complex' and 'complex'"
     ]
    }
   ],
   "source": [
    "a = complex(input(\"enter a : \"))\n",
    "b = complex(input(\"enter b : \"))\n",
    "print(a,\" < \",b, \" = \",a < b)\n",
    "print(a,\" > \",b, \" = \",a > b)\n",
    "print(a,\" == \",b, \" = \",a == b)\n",
    "print(a,\" != \",b, \" = \",a != b)\n",
    "print(a,\" <= \",b, \" = \",a <= b)\n",
    "print(a,\" >= \",b, \" = \",a >= b)"
   ]
  },
  {
   "cell_type": "code",
   "execution_count": 6,
   "metadata": {},
   "outputs": [
    {
     "name": "stdout",
     "output_type": "stream",
     "text": [
      "enter num1 : 3\n",
      "enter num2 : 10\n",
      "3 is the factoe of  10  =  False\n"
     ]
    }
   ],
   "source": [
    "#wap find given num1 is factor of num2\n",
    "num1 = int(input(\"enter num1 : \"))\n",
    "num2 = int(input(\"enter num2 : \"))\n",
    "print(num1,'is the factoe of ',num2,\" = \",(num2 %num1 == 0))"
   ]
  },
  {
   "cell_type": "code",
   "execution_count": 8,
   "metadata": {},
   "outputs": [
    {
     "name": "stdout",
     "output_type": "stream",
     "text": [
      "enter num1 : 16\n",
      "16 is odd   False\n"
     ]
    }
   ],
   "source": [
    "# wap find a number is odd or not\n",
    "num1 = int(input(\"enter num1 : \"))\n",
    "\n",
    "print(num1,'is odd  ',(num1 %2 != 0))"
   ]
  },
  {
   "cell_type": "code",
   "execution_count": 9,
   "metadata": {},
   "outputs": [
    {
     "name": "stdout",
     "output_type": "stream",
     "text": [
      "True\n",
      "False\n",
      "False\n",
      "True\n"
     ]
    }
   ],
   "source": [
    "# special Operator\n",
    "# membership\n",
    "a = [10,20,30,40]\n",
    "b = 20\n",
    "c = 100\n",
    "print(b in a)\n",
    "print(b not in a)\n",
    "print(c in a)\n",
    "print(c not in a)"
   ]
  },
  {
   "cell_type": "code",
   "execution_count": 10,
   "metadata": {},
   "outputs": [
    {
     "name": "stdout",
     "output_type": "stream",
     "text": [
      "140714793168928\n",
      "140714793168928\n",
      "140714793169248\n",
      "True\n",
      "False\n",
      "False\n",
      "True\n"
     ]
    }
   ],
   "source": [
    "#identity operator\n",
    "a = 10\n",
    "b = 10\n",
    "c = 20\n",
    "print(id(a)); print(id(b)) ; print(id(c))\n",
    "print(a is b)\n",
    "print(a is not b)\n",
    "print(a is c)\n",
    "print(a is not c)"
   ]
  },
  {
   "cell_type": "code",
   "execution_count": 11,
   "metadata": {},
   "outputs": [
    {
     "name": "stdout",
     "output_type": "stream",
     "text": [
      "10\n",
      "10\n",
      "20\n"
     ]
    }
   ],
   "source": [
    "# assignment operator    =\n",
    "a = 10  # constant to variable\n",
    "b = a   # variable to variable \n",
    "c = a+b # expression to variable\n",
    "print(a)\n",
    "print(b)\n",
    "print(c)\n"
   ]
  },
  {
   "cell_type": "code",
   "execution_count": 13,
   "metadata": {},
   "outputs": [
    {
     "name": "stdout",
     "output_type": "stream",
     "text": [
      "10\n",
      "11\n",
      "21\n"
     ]
    }
   ],
   "source": [
    "# compund assignment / operation then update\n",
    "a = 10\n",
    "b = 11\n",
    "print(a); print(b)\n",
    "a = a+b\n",
    "print(a)"
   ]
  },
  {
   "cell_type": "code",
   "execution_count": 14,
   "metadata": {},
   "outputs": [
    {
     "name": "stdout",
     "output_type": "stream",
     "text": [
      "10\n",
      "11\n",
      "21\n"
     ]
    }
   ],
   "source": [
    "# aadition then updaate\n",
    "a = 10\n",
    "b = 11\n",
    "print(a); print(b)\n",
    "a += b  #  a = a+b\n",
    "print(a)"
   ]
  },
  {
   "cell_type": "code",
   "execution_count": 15,
   "metadata": {},
   "outputs": [
    {
     "name": "stdout",
     "output_type": "stream",
     "text": [
      "10\n",
      "11\n",
      "-1\n"
     ]
    }
   ],
   "source": [
    "# subtraction then updaate\n",
    "a = 10\n",
    "b = 11\n",
    "print(a); print(b)\n",
    "a -= b  #  a = a-b\n",
    "print(a)"
   ]
  },
  {
   "cell_type": "code",
   "execution_count": null,
   "metadata": {},
   "outputs": [],
   "source": [
    "--> all operation with assigment operator\n",
    "\n",
    "---> compare all datatype elments \n"
   ]
  },
  {
   "cell_type": "code",
   "execution_count": 17,
   "metadata": {},
   "outputs": [
    {
     "name": "stdout",
     "output_type": "stream",
     "text": [
      "enter single characterW\n",
      "W  is vowel  False\n"
     ]
    }
   ],
   "source": [
    "# wap given character vowel or not \n",
    "ch = input(\"enter single character\")\n",
    "vowel = 'AEIOUaeiou'\n",
    "print(ch,\" is vowel \",ch in vowel)"
   ]
  }
 ],
 "metadata": {
  "kernelspec": {
   "display_name": "Python 3",
   "language": "python",
   "name": "python3"
  },
  "language_info": {
   "codemirror_mode": {
    "name": "ipython",
    "version": 3
   },
   "file_extension": ".py",
   "mimetype": "text/x-python",
   "name": "python",
   "nbconvert_exporter": "python",
   "pygments_lexer": "ipython3",
   "version": "3.7.0"
  }
 },
 "nbformat": 4,
 "nbformat_minor": 2
}
