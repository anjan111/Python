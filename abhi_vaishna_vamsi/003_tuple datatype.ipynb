{
 "cells": [
  {
   "cell_type": "code",
   "execution_count": null,
   "metadata": {},
   "outputs": [],
   "source": [
    "Tuple Datatype:-\n",
    "    ---------\n",
    "    \n",
    "    \n",
    "    ---> It is also Sequential Datatype ( with in the ( ), we can store \n",
    "                                        \n",
    "        Multiple data element)"
   ]
  },
  {
   "cell_type": "code",
   "execution_count": 1,
   "metadata": {},
   "outputs": [
    {
     "name": "stdout",
     "output_type": "stream",
     "text": [
      "var = ()\n",
      "<class 'tuple'>\n",
      "12808224840\n"
     ]
    }
   ],
   "source": [
    "# empty tuple datatype\n",
    "var = ()\n",
    "print(\"var =\" ,var)\n",
    "print(type(var))\n",
    "print(id(var))\n"
   ]
  },
  {
   "cell_type": "code",
   "execution_count": 1,
   "metadata": {},
   "outputs": [
    {
     "name": "stdout",
     "output_type": "stream",
     "text": [
      "(12, 34, 90)\n",
      "<class 'tuple'>\n",
      "64530833056\n"
     ]
    }
   ],
   "source": [
    "# homo tuple int data elemnt\n",
    "var =(12,34,90)\n",
    "print(var)\n",
    "print(type(var))\n",
    "print(id(var))"
   ]
  },
  {
   "cell_type": "code",
   "execution_count": 2,
   "metadata": {},
   "outputs": [
    {
     "name": "stdout",
     "output_type": "stream",
     "text": [
      "(12, 34.78, True, (7+6j))\n",
      "<class 'tuple'>\n",
      "64530713720\n"
     ]
    }
   ],
   "source": [
    "#Hetro Tuple \n",
    "var =(12, 34.78 , True ,7+6j)\n",
    "print(var)\n",
    "print(type(var))\n",
    "print(id(var))"
   ]
  },
  {
   "cell_type": "code",
   "execution_count": 3,
   "metadata": {},
   "outputs": [
    {
     "name": "stdout",
     "output_type": "stream",
     "text": [
      "('soc', [1, 2, 3], (4, 5, 6))\n",
      "<class 'tuple'>\n",
      "64530897800\n"
     ]
    }
   ],
   "source": [
    "# Nested Tuple \n",
    "var = ('soc' , [1,2,3],(4,5,6))\n",
    "print(var)\n",
    "print(type(var))\n",
    "print(id(var))"
   ]
  },
  {
   "cell_type": "markdown",
   "metadata": {},
   "source": [
    "# access the tuple daata elements from tuple variable\n",
    "\n",
    "\n",
    "1. Indexing \n",
    "\n",
    "2. slicing \n",
    "\n",
    "3. Dicing "
   ]
  },
  {
   "cell_type": "code",
   "execution_count": 4,
   "metadata": {},
   "outputs": [
    {
     "name": "stdout",
     "output_type": "stream",
     "text": [
      "23\n",
      "23\n",
      "(4, 3, 90)\n",
      "(45, 3, 23, 34)\n"
     ]
    }
   ],
   "source": [
    "var = (12,45,4,3,90,23,89,34,7,2)\n",
    "print(var[5])  #23\n",
    "print(var[-5]) # 23\n",
    "print(var[2:5]) # (4,3,90)\n",
    "# start ---> 0\n",
    "# stop ----> len of tuplle\n",
    "print(var[1:8:2]) # (45,3,23,34)\n",
    "# stop ---> 1"
   ]
  },
  {
   "cell_type": "code",
   "execution_count": 9,
   "metadata": {},
   "outputs": [
    {
     "name": "stdout",
     "output_type": "stream",
     "text": [
      "soc\n",
      "c\n",
      "[1, 2, 3]\n",
      "2\n",
      "(4, 5, 6)\n",
      "4\n",
      "5\n",
      "6\n"
     ]
    }
   ],
   "source": [
    "# nesteed indexing\n",
    "var = ('soc',[1,2,3],(4,5,6))\n",
    "print(var[0])\n",
    "print(var[0][2])\n",
    "print(var[1])\n",
    "print(var[1][1])\n",
    "print(var[2])\n",
    "print(var[2][0])\n",
    "print(var[2][1])\n",
    "print(var[2][2])"
   ]
  },
  {
   "cell_type": "markdown",
   "metadata": {},
   "source": [
    "# modify the tuple data element is not possible , because of tuplle is immutable \n",
    "\n",
    "\n",
    "---> we can't modify the existing data "
   ]
  },
  {
   "cell_type": "code",
   "execution_count": 5,
   "metadata": {},
   "outputs": [
    {
     "name": "stdout",
     "output_type": "stream",
     "text": [
      "(12, 34, 78)\n"
     ]
    },
    {
     "ename": "TypeError",
     "evalue": "'tuple' object does not support item assignment",
     "output_type": "error",
     "traceback": [
      "\u001b[1;31m---------------------------------------------------------------------------\u001b[0m",
      "\u001b[1;31mTypeError\u001b[0m                                 Traceback (most recent call last)",
      "\u001b[1;32m<ipython-input-5-38661fe5f500>\u001b[0m in \u001b[0;36m<module>\u001b[1;34m()\u001b[0m\n\u001b[0;32m      1\u001b[0m \u001b[0mvar\u001b[0m \u001b[1;33m=\u001b[0m \u001b[1;33m(\u001b[0m\u001b[1;36m12\u001b[0m\u001b[1;33m,\u001b[0m\u001b[1;36m34\u001b[0m\u001b[1;33m,\u001b[0m\u001b[1;36m78\u001b[0m\u001b[1;33m)\u001b[0m\u001b[1;33m\u001b[0m\u001b[0m\n\u001b[0;32m      2\u001b[0m \u001b[0mprint\u001b[0m\u001b[1;33m(\u001b[0m\u001b[0mvar\u001b[0m\u001b[1;33m)\u001b[0m\u001b[1;33m\u001b[0m\u001b[0m\n\u001b[1;32m----> 3\u001b[1;33m \u001b[0mvar\u001b[0m\u001b[1;33m[\u001b[0m\u001b[1;36m1\u001b[0m\u001b[1;33m]\u001b[0m \u001b[1;33m=\u001b[0m\u001b[1;36m340\u001b[0m\u001b[1;33m\u001b[0m\u001b[0m\n\u001b[0m",
      "\u001b[1;31mTypeError\u001b[0m: 'tuple' object does not support item assignment"
     ]
    }
   ],
   "source": [
    "var = (12,34,78)\n",
    "print(var)\n",
    "var[1] =340"
   ]
  },
  {
   "cell_type": "code",
   "execution_count": 10,
   "metadata": {},
   "outputs": [
    {
     "name": "stdout",
     "output_type": "stream",
     "text": [
      "6\n",
      "90\n",
      "-34\n",
      "180\n"
     ]
    }
   ],
   "source": [
    "var =(12,90,34,0,-34,78)\n",
    "print(len(var))\n",
    "print(max(var))\n",
    "print(min(var))\n",
    "print(sum(var))"
   ]
  },
  {
   "cell_type": "code",
   "execution_count": 14,
   "metadata": {},
   "outputs": [
    {
     "name": "stdout",
     "output_type": "stream",
     "text": [
      "(12, 90, 34, 0, -34, 78)\n",
      "(12, 90, 34, 0, -34, 78, 12, 90, 34, 0, -34, 78)\n",
      "(12, 90, 34, 0, -34, 78, 0, 0, 0)\n"
     ]
    }
   ],
   "source": [
    "print(var)\n",
    "print(var * 2)\n",
    "b = (0,0,0)\n",
    "print(var+b)"
   ]
  },
  {
   "cell_type": "code",
   "execution_count": 15,
   "metadata": {},
   "outputs": [
    {
     "data": {
      "text/plain": [
       "['__add__',\n",
       " '__class__',\n",
       " '__contains__',\n",
       " '__delattr__',\n",
       " '__dir__',\n",
       " '__doc__',\n",
       " '__eq__',\n",
       " '__format__',\n",
       " '__ge__',\n",
       " '__getattribute__',\n",
       " '__getitem__',\n",
       " '__getnewargs__',\n",
       " '__gt__',\n",
       " '__hash__',\n",
       " '__init__',\n",
       " '__init_subclass__',\n",
       " '__iter__',\n",
       " '__le__',\n",
       " '__len__',\n",
       " '__lt__',\n",
       " '__mul__',\n",
       " '__ne__',\n",
       " '__new__',\n",
       " '__reduce__',\n",
       " '__reduce_ex__',\n",
       " '__repr__',\n",
       " '__rmul__',\n",
       " '__setattr__',\n",
       " '__sizeof__',\n",
       " '__str__',\n",
       " '__subclasshook__',\n",
       " 'count',\n",
       " 'index']"
      ]
     },
     "execution_count": 15,
     "metadata": {},
     "output_type": "execute_result"
    }
   ],
   "source": [
    "dir(tuple)"
   ]
  },
  {
   "cell_type": "code",
   "execution_count": 17,
   "metadata": {},
   "outputs": [
    {
     "name": "stdout",
     "output_type": "stream",
     "text": [
      "4\n",
      "3\n"
     ]
    }
   ],
   "source": [
    "var = (12,45,12,89,12,90,12)\n",
    "print(var.count(12))\n",
    "print(var.index(89))"
   ]
  },
  {
   "cell_type": "code",
   "execution_count": 18,
   "metadata": {},
   "outputs": [
    {
     "name": "stdout",
     "output_type": "stream",
     "text": [
      "(12, 45, 12, 89, 12, 90, 12)\n",
      "<class 'tuple'>\n",
      "[12, 45, 12, 89, 12, 90, 12, 10, 10]\n",
      "<class 'list'>\n",
      "(12, 45, 12, 89, 12, 90, 12, 10, 10)\n",
      "<class 'tuple'>\n"
     ]
    }
   ],
   "source": [
    "# indirect operation on tuplle daata \n",
    "var = (12,45,12,89,12,90,12)\n",
    "print(var)\n",
    "print(type(var))\n",
    "var = list(var)\n",
    "var.append(10)\n",
    "var.append(10)\n",
    "print(var)\n",
    "print(type(var))\n",
    "var = tuple(var)\n",
    "print(var)\n",
    "print(type(var))"
   ]
  }
 ],
 "metadata": {
  "kernelspec": {
   "display_name": "Python 3",
   "language": "python",
   "name": "python3"
  },
  "language_info": {
   "codemirror_mode": {
    "name": "ipython",
    "version": 3
   },
   "file_extension": ".py",
   "mimetype": "text/x-python",
   "name": "python",
   "nbconvert_exporter": "python",
   "pygments_lexer": "ipython3",
   "version": "3.7.0"
  }
 },
 "nbformat": 4,
 "nbformat_minor": 2
}
