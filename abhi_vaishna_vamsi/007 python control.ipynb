{
 "cells": [
  {
   "cell_type": "code",
   "execution_count": 3,
   "metadata": {},
   "outputs": [
    {
     "name": "stdout",
     "output_type": "stream",
     "text": [
      "enter side of square  in meters: 41\n"
     ]
    }
   ],
   "source": [
    "# wap find area of square  when side is even \n",
    "side = int(input(\"enter side of square  in meters: \"))\n",
    "if(side %2  == 0):\n",
    "    area = side **2\n",
    "    print(\"area of square is : \",area,\" sq,m\")"
   ]
  },
  {
   "cell_type": "code",
   "execution_count": 7,
   "metadata": {},
   "outputs": [
    {
     "name": "stdout",
     "output_type": "stream",
     "text": [
      "enter name : abhi\n",
      "enter age : 14\n",
      "enter phone number : None\n"
     ]
    }
   ],
   "source": [
    "#3 wap print details when  your age is more than 18\n",
    "Name = input(\"enter name : \")\n",
    "age  = int(input(\"enter age : \"))\n",
    "ph   = input(\"enter phone number : \")\n",
    "if(age > 18):\n",
    "    print(\"Name  : \",Name)\n",
    "    print(\"phone : \",ph)\n",
    "    print(\"age   : \",age)"
   ]
  },
  {
   "cell_type": "code",
   "execution_count": 9,
   "metadata": {},
   "outputs": [
    {
     "name": "stdout",
     "output_type": "stream",
     "text": [
      "enter side of square  in meters: 41\n",
      "perimeter of square is  164  meters\n"
     ]
    }
   ],
   "source": [
    "# wap find area of square  when side is even other wise find perimeter \n",
    "side = int(input(\"enter side of square  in meters: \"))\n",
    "if(side %2  == 0):\n",
    "    area = side **2\n",
    "    print(\"area of square is : \",area,\" sq,m\")\n",
    "else:\n",
    "    peri = 4 *side\n",
    "    print(\"perimeter of square is \",peri,\" meters\")"
   ]
  },
  {
   "cell_type": "code",
   "execution_count": null,
   "metadata": {},
   "outputs": [],
   "source": [
    "# nested if \n",
    "'''\n",
    "Any one conditional statements which might have one more conditional \n",
    "statement\n",
    "'''\n"
   ]
  },
  {
   "cell_type": "code",
   "execution_count": 13,
   "metadata": {},
   "outputs": [
    {
     "name": "stdout",
     "output_type": "stream",
     "text": [
      "enter character : t\n",
      "Given character  t  is consonant\n"
     ]
    }
   ],
   "source": [
    "# wap find given character is vowel or not\n",
    "char = input(\"enter character : \")\n",
    "vowel = 'aeiouAEIOU'\n",
    "if(len(char)== 1):\n",
    "    if(char in vowel):\n",
    "        print(\"Given character \",char,\" is vowel\")\n",
    "    else:\n",
    "        print(\"Given character \",char,\" is consonant\")\n",
    "else:\n",
    "    print(\"enter single character only\")"
   ]
  },
  {
   "cell_type": "code",
   "execution_count": 24,
   "metadata": {},
   "outputs": [
    {
     "name": "stdout",
     "output_type": "stream",
     "text": [
      "enter character : 45\n",
      "enter single character only\n"
     ]
    }
   ],
   "source": [
    "# wap find given character is vowel or not\n",
    "char = input(\"enter character : \")\n",
    "vowel = 'aeiouAEIOU'\n",
    "if(len(char)== 1):\n",
    "    if(char in vowel):\n",
    "        print(\"Given character \",char,\" is vowel\")\n",
    "    elif(char.isdigit()):\n",
    "        print(\"Given character \",char,\" is  digit\")\n",
    "    elif(not char.isalnum()):\n",
    "        print(\"Given character \",char,\" is special character\")\n",
    "    else:\n",
    "        print(\"Given character \",char,\" is consonant\")\n",
    "else:\n",
    "    print(\"enter single character only\")"
   ]
  },
  {
   "cell_type": "code",
   "execution_count": null,
   "metadata": {},
   "outputs": [],
   "source": [
    "# loops \n",
    "\n",
    "---> to repeate the task\n",
    "\n",
    "---> easy to understand \n",
    "\n",
    "---> reduce the code size\n",
    "\n",
    "----> less complexity \n",
    "\n",
    "----------------\n",
    "\n",
    "1.  while loop\n",
    "\n",
    "2.  for loop"
   ]
  },
  {
   "cell_type": "code",
   "execution_count": null,
   "metadata": {},
   "outputs": [],
   "source": [
    "# wap find the no of vowels , consonnats , digits and special characte\n",
    "# from input strinfg"
   ]
  },
  {
   "cell_type": "code",
   "execution_count": 27,
   "metadata": {},
   "outputs": [
    {
     "name": "stdout",
     "output_type": "stream",
     "text": [
      "enter character : 234djhfjJHJFaugedvflklwekdkf$%$#%$%\n",
      "no of vowel :  4\n",
      "no of consonat : 21\n",
      "no of digits :  3\n",
      "no of special: 7\n"
     ]
    }
   ],
   "source": [
    "str1 = input(\"enter character : \")\n",
    "vowel = 'aeiouAEIOU'\n",
    "if(len(str1)>=1):\n",
    "    i = 0;v_c = 0; d_c =0;s_c =0;c_c =0\n",
    "    while(i< len(str1)):\n",
    "        char = str1[i]\n",
    "        if(char in vowel):\n",
    "            v_c +=1\n",
    "        elif(char.isdigit()):\n",
    "            d_c +=1\n",
    "        elif(not char.isalnum()):\n",
    "            s_c +=1\n",
    "        else:\n",
    "            c_c +=1\n",
    "        i +=1\n",
    "    else:\n",
    "        print(\"no of vowel : \",v_c)\n",
    "        print(\"no of consonat :\",c_c)\n",
    "        print(\"no of digits : \",d_c)\n",
    "        print(\"no of special:\",s_c)\n",
    "else:\n",
    "    print(\"enter single character atleast\")"
   ]
  },
  {
   "cell_type": "code",
   "execution_count": 28,
   "metadata": {},
   "outputs": [
    {
     "name": "stdout",
     "output_type": "stream",
     "text": [
      "enter character : 86387gdjsghsh^%^$^\n",
      "no of vowel :  0\n",
      "no of consonat : 8\n",
      "no of digits :  5\n",
      "no of special: 5\n"
     ]
    }
   ],
   "source": [
    "str1 = input(\"enter character : \")\n",
    "vowel = 'aeiouAEIOU'\n",
    "if(len(str1)>=1):\n",
    "    v_c = 0; d_c =0;s_c =0;c_c =0\n",
    "    for char in str1:\n",
    "\n",
    "        if(char in vowel):\n",
    "            v_c +=1\n",
    "        elif(char.isdigit()):\n",
    "            d_c +=1\n",
    "        elif(not char.isalnum()):\n",
    "            s_c +=1\n",
    "        else:\n",
    "            c_c +=1\n",
    "    else:\n",
    "        print(\"no of vowel : \",v_c)\n",
    "        print(\"no of consonat :\",c_c)\n",
    "        print(\"no of digits : \",d_c)\n",
    "        print(\"no of special:\",s_c)\n",
    "else:\n",
    "    print(\"enter single character atleast\")"
   ]
  },
  {
   "cell_type": "code",
   "execution_count": 2,
   "metadata": {},
   "outputs": [
    {
     "name": "stdout",
     "output_type": "stream",
     "text": [
      "enter any number : 10\n",
      "factor =  1\n",
      "factor =  2\n",
      "factor =  5\n",
      "factor =  10\n",
      "No of Factors are :  4\n"
     ]
    }
   ],
   "source": [
    "# wap find no of factors of any number as well print factor\n",
    "num = int(input(\"enter any number : \"))\n",
    "f_c = 0\n",
    "for i in range(1,num+1):\n",
    "    if(num % i == 0):\n",
    "        f_c += 1\n",
    "        print(\"factor = \",i)\n",
    "else:\n",
    "    print(\"No of Factors are : \",f_c)\n"
   ]
  },
  {
   "cell_type": "code",
   "execution_count": 9,
   "metadata": {},
   "outputs": [
    {
     "name": "stdout",
     "output_type": "stream",
     "text": [
      "enter any number : 1\n",
      "factor :  1\n",
      "not a prime number\n"
     ]
    }
   ],
   "source": [
    "# wap find the prime number or not\n",
    "num = int(input(\"enter any number : \"))\n",
    "f_c = 0\n",
    "for i in range(1,num+1):\n",
    "    if(num % i == 0):\n",
    "        f_c += 1\n",
    "        print(\"factor : \",i)\n",
    "        \n",
    "if(f_c == 2):\n",
    "    print(\"prime number\")\n",
    "else:\n",
    "    print(\"not a prime number\")"
   ]
  },
  {
   "cell_type": "code",
   "execution_count": 11,
   "metadata": {},
   "outputs": [
    {
     "name": "stdout",
     "output_type": "stream",
     "text": [
      "prime =  2\n",
      "prime =  3\n",
      "prime =  5\n",
      "prime =  7\n",
      "prime =  11\n",
      "prime =  13\n",
      "prime =  17\n",
      "prime =  19\n",
      "prime =  23\n",
      "prime =  29\n",
      "prime =  31\n",
      "prime =  37\n",
      "prime =  41\n",
      "prime =  43\n",
      "prime =  47\n",
      "prime =  53\n",
      "prime =  59\n",
      "prime =  61\n",
      "prime =  67\n",
      "prime =  71\n",
      "prime =  73\n",
      "prime =  79\n",
      "prime =  83\n",
      "prime =  89\n",
      "prime =  97\n"
     ]
    }
   ],
   "source": [
    "# print prime numbers in between 1 to 100\n",
    "for num in range(1,101):\n",
    "    f_c = 0\n",
    "    for i in range(1,num+1):\n",
    "        if(num % i == 0):\n",
    "            f_c += 1\n",
    "    if(f_c == 2):\n",
    "        print(\"prime = \",i)"
   ]
  },
  {
   "cell_type": "code",
   "execution_count": 14,
   "metadata": {},
   "outputs": [
    {
     "name": "stdout",
     "output_type": "stream",
     "text": [
      "enter any number : 7\n",
      "prime number\n"
     ]
    }
   ],
   "source": [
    "# wap find the prime number or not\n",
    "num = int(input(\"enter any number : \"))\n",
    "f_c = 0\n",
    "for i in range(2,num):\n",
    "    if(num % i == 0):\n",
    "        print(\"not a prime number\")\n",
    "        break\n",
    "        \n",
    "else:\n",
    "    print(\"prime number\")\n",
    "    "
   ]
  },
  {
   "cell_type": "code",
   "execution_count": 15,
   "metadata": {},
   "outputs": [
    {
     "name": "stdout",
     "output_type": "stream",
     "text": [
      "i =  1\n",
      "i =  2\n",
      "i =  3\n",
      "i =  4\n",
      "i =  6\n",
      "i =  7\n",
      "i =  8\n",
      "i =  9\n",
      "i =  10\n"
     ]
    }
   ],
   "source": [
    "#print 1 to 10 but skip 5\n",
    "for i in range(1,11):\n",
    "    if(i == 5):\n",
    "        continue\n",
    "    print(\"i = \",i)"
   ]
  },
  {
   "cell_type": "code",
   "execution_count": 20,
   "metadata": {},
   "outputs": [
    {
     "name": "stdout",
     "output_type": "stream",
     "text": [
      "hello\n"
     ]
    }
   ],
   "source": [
    "# print hello after some\n",
    "for i in range(100000000):\n",
    "    pass  # empty blocks \n",
    "\n",
    "print(\"hello\")"
   ]
  },
  {
   "cell_type": "code",
   "execution_count": null,
   "metadata": {},
   "outputs": [],
   "source": [
    "# wap reverse of a number\n",
    "# 345  ----> 543"
   ]
  },
  {
   "cell_type": "code",
   "execution_count": null,
   "metadata": {},
   "outputs": [],
   "source": [
    "# wap given number is palidrom or not\n",
    "# 121--> 121---> palidrom"
   ]
  },
  {
   "cell_type": "code",
   "execution_count": null,
   "metadata": {},
   "outputs": [],
   "source": [
    "#wap find a factorial of a number\n",
    "5! --> 120"
   ]
  },
  {
   "cell_type": "code",
   "execution_count": null,
   "metadata": {},
   "outputs": [],
   "source": [
    "*\n",
    "*  *\n",
    "*  *  *\n",
    "*  *  *  *\n",
    "*  *  *  *  *"
   ]
  }
 ],
 "metadata": {
  "kernelspec": {
   "display_name": "Python 3",
   "language": "python",
   "name": "python3"
  },
  "language_info": {
   "codemirror_mode": {
    "name": "ipython",
    "version": 3
   },
   "file_extension": ".py",
   "mimetype": "text/x-python",
   "name": "python",
   "nbconvert_exporter": "python",
   "pygments_lexer": "ipython3",
   "version": "3.7.0"
  }
 },
 "nbformat": 4,
 "nbformat_minor": 2
}
