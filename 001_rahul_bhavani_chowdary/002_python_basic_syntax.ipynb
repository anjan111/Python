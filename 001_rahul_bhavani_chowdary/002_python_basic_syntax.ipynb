{
 "cells": [
  {
   "cell_type": "markdown",
   "metadata": {},
   "source": [
    "#syntax : \n",
    "---------------\n",
    "\n",
    "---> The structure od writing an instructions  / rules for writing an instructions with in the program \n",
    "\n",
    "\n",
    "Program :-\n",
    "--------------\n",
    "\n",
    "---> COllection of instructions to do any one specific task\n",
    "\n",
    "\n",
    "Instruction :-\n",
    "--------------------\n",
    "\n",
    "---> A line of code with in the program \n",
    "\n",
    "\n",
    "Types Of Instructions :-\n",
    "----------------------------------\n",
    "\n",
    "---> Based on execution of instructions with in the programs we have 2 kind of instructions \n",
    "\n",
    "\n",
    "    1. comments  :-\n",
    "    -----------------\n",
    "            ====> What ever the instructions which can't be executbale by cpu\n",
    "            \n",
    "            ====> To give the brief explanation each abd every statements\n",
    "            \n",
    "            1. single line comment====>>>>    #\n",
    "            \n",
    "            2. Multiline commenet ====>>>  '''   '''\n",
    "    \n",
    "    2. statements  :-\n",
    "    -----------------\n",
    "    \n",
    "            ===>Whatever the instructions which can be executable by cpu\n",
    "            \n",
    "            1. single statement\n",
    "            \n",
    "            2. multiple statements\n",
    "            \n",
    "            3. Multiline statement\n",
    "            \n",
    "            4. compound statement\n",
    "\n",
    "\n",
    "\n"
   ]
  },
  {
   "cell_type": "code",
   "execution_count": 1,
   "metadata": {},
   "outputs": [
    {
     "name": "stdout",
     "output_type": "stream",
     "text": [
      "hello\n"
     ]
    }
   ],
   "source": [
    "# single statement\n",
    "print(\"hello\") # its prinnting hello\n",
    "\n"
   ]
  },
  {
   "cell_type": "code",
   "execution_count": 2,
   "metadata": {},
   "outputs": [
    {
     "name": "stdout",
     "output_type": "stream",
     "text": [
      "hello\n",
      "hai\n",
      "bye\n"
     ]
    }
   ],
   "source": [
    "# multiple statement\n",
    "'''\n",
    "This is printing \n",
    "hello\n",
    "hai\n",
    "bye\n",
    "with multiple print instructions\n",
    "'''\n",
    "print(\"hello\")  ; print(\"hai\") ; print(\"bye\") \n"
   ]
  },
  {
   "cell_type": "code",
   "execution_count": 4,
   "metadata": {},
   "outputs": [
    {
     "name": "stdout",
     "output_type": "stream",
     "text": [
      "hello \n",
      "hai  \n",
      "bye\n"
     ]
    }
   ],
   "source": [
    "# Multiline statement\n",
    "'''\n",
    "A single instructions it might be continue more than one line\n",
    "'''\n",
    "print(\"\"\"hello \n",
    "hai  \n",
    "bye\"\"\")"
   ]
  },
  {
   "cell_type": "markdown",
   "metadata": {},
   "source": [
    "# python names \n",
    "\n",
    "---> keywords :-\n",
    "---------------------\n",
    "\n",
    "---> its prdefined words (already defined inside of python interpreter)\n",
    "\n",
    "---> We can say its built-in words \n",
    "\n",
    "---> each and every keyword having its own functionality\n",
    "\n",
    "---> not fixed no of keywords "
   ]
  },
  {
   "cell_type": "code",
   "execution_count": 7,
   "metadata": {},
   "outputs": [
    {
     "name": "stdout",
     "output_type": "stream",
     "text": [
      "['False', 'None', 'True', 'and', 'as', 'assert', 'async', 'await', 'break', 'class', 'continue', 'def', 'del', 'elif', 'else', 'except', 'finally', 'for', 'from', 'global', 'if', 'import', 'in', 'is', 'lambda', 'nonlocal', 'not', 'or', 'pass', 'raise', 'return', 'try', 'while', 'with', 'yield']\n",
      " \n",
      "\n",
      "no of keywords :  35\n"
     ]
    }
   ],
   "source": [
    "import keyword\n",
    "print(keyword.kwlist)\n",
    "print(\" \\n\\nno of keywords : \",len(keyword.kwlist))"
   ]
  },
  {
   "cell_type": "markdown",
   "metadata": {},
   "source": [
    "# Identifier\n",
    "\n",
    "--->Which are user defined words , which can be used for ( to identify the \n",
    "variables , functions, classes ) with names .\n",
    "\n",
    "---> Rules for Identifier :-\n",
    "-----------------------------------\n",
    "\n",
    "---> we can use alphabet ( a-z / A- Z )\n",
    "\n",
    "---> we can use digits ( 0 - 9)\n",
    "\n",
    "---> we can use underscore ( _ )\n",
    "\n",
    "---> don't use keywords as an identiers\n",
    "\n",
    "---> Don't use special character @, #, - ,* ---------\n",
    "\n",
    "---> Don't use digit as a 1st letter\n",
    "\n"
   ]
  },
  {
   "cell_type": "code",
   "execution_count": 8,
   "metadata": {},
   "outputs": [],
   "source": [
    "var  = 123"
   ]
  },
  {
   "cell_type": "code",
   "execution_count": 9,
   "metadata": {},
   "outputs": [],
   "source": [
    "var12_  = 123"
   ]
  },
  {
   "cell_type": "code",
   "execution_count": 10,
   "metadata": {},
   "outputs": [],
   "source": [
    "_var12 =123"
   ]
  },
  {
   "cell_type": "code",
   "execution_count": 11,
   "metadata": {},
   "outputs": [
    {
     "ename": "SyntaxError",
     "evalue": "invalid syntax (<ipython-input-11-d5c9ec552113>, line 1)",
     "output_type": "error",
     "traceback": [
      "\u001b[1;36m  File \u001b[1;32m\"<ipython-input-11-d5c9ec552113>\"\u001b[1;36m, line \u001b[1;32m1\u001b[0m\n\u001b[1;33m    2var =1133\u001b[0m\n\u001b[1;37m       ^\u001b[0m\n\u001b[1;31mSyntaxError\u001b[0m\u001b[1;31m:\u001b[0m invalid syntax\n"
     ]
    }
   ],
   "source": [
    "2var =1133"
   ]
  },
  {
   "cell_type": "code",
   "execution_count": 12,
   "metadata": {},
   "outputs": [
    {
     "ename": "SyntaxError",
     "evalue": "can't assign to operator (<ipython-input-12-e8d01d0e4811>, line 1)",
     "output_type": "error",
     "traceback": [
      "\u001b[1;36m  File \u001b[1;32m\"<ipython-input-12-e8d01d0e4811>\"\u001b[1;36m, line \u001b[1;32m1\u001b[0m\n\u001b[1;33m    var@23 =  143\u001b[0m\n\u001b[1;37m                 ^\u001b[0m\n\u001b[1;31mSyntaxError\u001b[0m\u001b[1;31m:\u001b[0m can't assign to operator\n"
     ]
    }
   ],
   "source": [
    "var@23 =  143"
   ]
  },
  {
   "cell_type": "code",
   "execution_count": 13,
   "metadata": {},
   "outputs": [
    {
     "ename": "SyntaxError",
     "evalue": "invalid syntax (<ipython-input-13-787ed5ab092b>, line 1)",
     "output_type": "error",
     "traceback": [
      "\u001b[1;36m  File \u001b[1;32m\"<ipython-input-13-787ed5ab092b>\"\u001b[1;36m, line \u001b[1;32m1\u001b[0m\n\u001b[1;33m    while  =1233\u001b[0m\n\u001b[1;37m           ^\u001b[0m\n\u001b[1;31mSyntaxError\u001b[0m\u001b[1;31m:\u001b[0m invalid syntax\n"
     ]
    }
   ],
   "source": [
    "while  =1233"
   ]
  },
  {
   "cell_type": "code",
   "execution_count": 1,
   "metadata": {},
   "outputs": [
    {
     "name": "stdout",
     "output_type": "stream",
     "text": [
      "140720608810144\n"
     ]
    }
   ],
   "source": [
    "# python variable \n",
    "var =12\n",
    "print(id(var))"
   ]
  },
  {
   "cell_type": "code",
   "execution_count": null,
   "metadata": {},
   "outputs": [],
   "source": [
    "# python datatype\n",
    "# fundamental"
   ]
  },
  {
   "cell_type": "code",
   "execution_count": 3,
   "metadata": {},
   "outputs": [
    {
     "name": "stdout",
     "output_type": "stream",
     "text": [
      "enter some data = 789\n",
      "data in var :  789\n",
      "id of var   :  637658575288\n",
      "type of var :  <class 'str'>\n"
     ]
    }
   ],
   "source": [
    "# int \n",
    "var = input(\"enter some data = \")\n",
    "print(\"data in var : \",var)\n",
    "print(\"id of var   : \",id(var))\n",
    "print(\"type of var : \",type(var))\n"
   ]
  },
  {
   "cell_type": "code",
   "execution_count": 4,
   "metadata": {},
   "outputs": [
    {
     "name": "stdout",
     "output_type": "stream",
     "text": [
      "enter some data = 789\n",
      "data in var :  789\n",
      "id of var   :  637660685120\n",
      "type of var :  <class 'str'>\n",
      "data in var :  789\n",
      "id of var   :  637641115408\n",
      "type of var :  <class 'int'>\n"
     ]
    }
   ],
   "source": [
    "# int \n",
    "var = input(\"enter some data = \")\n",
    "print(\"data in var : \",var)\n",
    "print(\"id of var   : \",id(var))\n",
    "print(\"type of var : \",type(var))\n",
    "\n",
    "var = int(var)\n",
    "print(\"data in var : \",var)\n",
    "print(\"id of var   : \",id(var))\n",
    "print(\"type of var : \",type(var))"
   ]
  },
  {
   "cell_type": "code",
   "execution_count": 5,
   "metadata": {},
   "outputs": [
    {
     "name": "stdout",
     "output_type": "stream",
     "text": [
      "enter some data = 78.984\n",
      "data in var :  78.984\n",
      "id of var   :  637658578872\n",
      "type of var :  <class 'str'>\n"
     ]
    }
   ],
   "source": [
    "# float\n",
    "var = input(\"enter some data = \")\n",
    "print(\"data in var : \",var)\n",
    "print(\"id of var   : \",id(var))\n",
    "print(\"type of var : \",type(var))\n"
   ]
  },
  {
   "cell_type": "code",
   "execution_count": 6,
   "metadata": {},
   "outputs": [
    {
     "name": "stdout",
     "output_type": "stream",
     "text": [
      "enter some data = 78.89724\n",
      "data in var :  78.89724\n",
      "id of var   :  637660665072\n",
      "type of var :  <class 'str'>\n",
      "data in var :  78.89724\n",
      "id of var   :  637658043592\n",
      "type of var :  <class 'float'>\n"
     ]
    }
   ],
   "source": [
    "# float\n",
    "var = input(\"enter some data = \")\n",
    "print(\"data in var : \",var)\n",
    "print(\"id of var   : \",id(var))\n",
    "print(\"type of var : \",type(var))\n",
    "\n",
    "var = float(var)\n",
    "print(\"data in var : \",var)\n",
    "print(\"id of var   : \",id(var))\n",
    "print(\"type of var : \",type(var))"
   ]
  },
  {
   "cell_type": "code",
   "execution_count": 7,
   "metadata": {},
   "outputs": [
    {
     "name": "stdout",
     "output_type": "stream",
     "text": [
      "enter some data = 7+8j\n",
      "data in var :  7+8j\n",
      "id of var   :  637660690560\n",
      "type of var :  <class 'str'>\n",
      "data in var :  (7+8j)\n",
      "id of var   :  637658423696\n",
      "type of var :  <class 'complex'>\n"
     ]
    }
   ],
   "source": [
    "# complex\n",
    "var = input(\"enter some data = \")\n",
    "print(\"data in var : \",var)\n",
    "print(\"id of var   : \",id(var))\n",
    "print(\"type of var : \",type(var))\n",
    "\n",
    "var = complex(var)\n",
    "print(\"data in var : \",var)\n",
    "print(\"id of var   : \",id(var))\n",
    "print(\"type of var : \",type(var))"
   ]
  },
  {
   "cell_type": "code",
   "execution_count": 8,
   "metadata": {},
   "outputs": [
    {
     "name": "stdout",
     "output_type": "stream",
     "text": [
      "enter some data = None\n",
      "data in var :  None\n",
      "id of var   :  637660699256\n",
      "type of var :  <class 'str'>\n"
     ]
    },
    {
     "ename": "TypeError",
     "evalue": "'NoneType' object is not callable",
     "output_type": "error",
     "traceback": [
      "\u001b[1;31m---------------------------------------------------------------------------\u001b[0m",
      "\u001b[1;31mTypeError\u001b[0m                                 Traceback (most recent call last)",
      "\u001b[1;32m<ipython-input-8-3a8887f6f398>\u001b[0m in \u001b[0;36m<module>\u001b[1;34m\u001b[0m\n\u001b[0;32m      5\u001b[0m \u001b[0mprint\u001b[0m\u001b[1;33m(\u001b[0m\u001b[1;34m\"type of var : \"\u001b[0m\u001b[1;33m,\u001b[0m\u001b[0mtype\u001b[0m\u001b[1;33m(\u001b[0m\u001b[0mvar\u001b[0m\u001b[1;33m)\u001b[0m\u001b[1;33m)\u001b[0m\u001b[1;33m\u001b[0m\u001b[1;33m\u001b[0m\u001b[0m\n\u001b[0;32m      6\u001b[0m \u001b[1;33m\u001b[0m\u001b[0m\n\u001b[1;32m----> 7\u001b[1;33m \u001b[0mvar\u001b[0m \u001b[1;33m=\u001b[0m\u001b[1;32mNone\u001b[0m\u001b[1;33m(\u001b[0m\u001b[0mvar\u001b[0m\u001b[1;33m)\u001b[0m\u001b[1;33m\u001b[0m\u001b[1;33m\u001b[0m\u001b[0m\n\u001b[0m\u001b[0;32m      8\u001b[0m \u001b[0mprint\u001b[0m\u001b[1;33m(\u001b[0m\u001b[1;34m\"data in var : \"\u001b[0m\u001b[1;33m,\u001b[0m\u001b[0mvar\u001b[0m\u001b[1;33m)\u001b[0m\u001b[1;33m\u001b[0m\u001b[1;33m\u001b[0m\u001b[0m\n\u001b[0;32m      9\u001b[0m \u001b[0mprint\u001b[0m\u001b[1;33m(\u001b[0m\u001b[1;34m\"id of var   : \"\u001b[0m\u001b[1;33m,\u001b[0m\u001b[0mid\u001b[0m\u001b[1;33m(\u001b[0m\u001b[0mvar\u001b[0m\u001b[1;33m)\u001b[0m\u001b[1;33m)\u001b[0m\u001b[1;33m\u001b[0m\u001b[1;33m\u001b[0m\u001b[0m\n",
      "\u001b[1;31mTypeError\u001b[0m: 'NoneType' object is not callable"
     ]
    }
   ],
   "source": [
    "# None\n",
    "var = input(\"enter some data = \")\n",
    "print(\"data in var : \",var)\n",
    "print(\"id of var   : \",id(var))\n",
    "print(\"type of var : \",type(var))\n",
    "\n",
    "#There is no None type function\n",
    "var =None(var)\n",
    "print(\"data in var : \",var)\n",
    "print(\"id of var   : \",id(var))\n",
    "print(\"type of var : \",type(var))"
   ]
  },
  {
   "cell_type": "code",
   "execution_count": 9,
   "metadata": {},
   "outputs": [
    {
     "name": "stdout",
     "output_type": "stream",
     "text": [
      "enter some data = True\n",
      "data in var :  True\n",
      "id of var   :  637645464608\n",
      "type of var :  <class 'str'>\n",
      "data in var :  True\n",
      "id of var   :  140720608287056\n",
      "type of var :  <class 'bool'>\n"
     ]
    }
   ],
   "source": [
    "# bool\n",
    "var = input(\"enter some data = \")\n",
    "print(\"data in var : \",var)\n",
    "print(\"id of var   : \",id(var))\n",
    "print(\"type of var : \",type(var))\n",
    "\n",
    "var = bool(var)\n",
    "print(\"data in var : \",var)\n",
    "print(\"id of var   : \",id(var))\n",
    "print(\"type of var : \",type(var))"
   ]
  },
  {
   "cell_type": "code",
   "execution_count": 13,
   "metadata": {},
   "outputs": [
    {
     "name": "stdout",
     "output_type": "stream",
     "text": [
      "enter some data = False\n",
      "data in var :  False\n",
      "id of var   :  637645465616\n",
      "type of var :  <class 'str'>\n",
      "data in var :  True\n",
      "id of var   :  140720608287056\n",
      "type of var :  <class 'bool'>\n"
     ]
    }
   ],
   "source": [
    "# bool\n",
    "var = input(\"enter some data = \")\n",
    "print(\"data in var : \",var)\n",
    "print(\"id of var   : \",id(var))\n",
    "print(\"type of var : \",type(var))\n",
    "\n",
    "var = bool(var)\n",
    "print(\"data in var : \",var)\n",
    "print(\"id of var   : \",id(var))\n",
    "print(\"type of var : \",type(var))"
   ]
  },
  {
   "cell_type": "code",
   "execution_count": 14,
   "metadata": {},
   "outputs": [
    {
     "name": "stdout",
     "output_type": "stream",
     "text": [
      "data in var :  soc\n",
      "id of var   :  637660698640\n",
      "type of var :  <class 'str'>\n",
      "************************\n",
      "data in var :  soc\n",
      "id of var   :  637660698640\n",
      "type of var :  <class 'str'>\n",
      "************************\n",
      "data in var :  soc\n",
      "id of var   :  637660698640\n",
      "type of var :  <class 'str'>\n",
      "************************\n",
      "data in var :  soc\n",
      "id of var   :  637660698640\n",
      "type of var :  <class 'str'>\n",
      "************************\n"
     ]
    }
   ],
   "source": [
    "# str\n",
    "var ='soc'\n",
    "print(\"data in var : \",var)\n",
    "print(\"id of var   : \",id(var))\n",
    "print(\"type of var : \",type(var))\n",
    "print(\"************************\")\n",
    "var =\"soc\"\n",
    "print(\"data in var : \",var)\n",
    "print(\"id of var   : \",id(var))\n",
    "print(\"type of var : \",type(var))\n",
    "print(\"************************\")\n",
    "var ='''soc'''\n",
    "print(\"data in var : \",var)\n",
    "print(\"id of var   : \",id(var))\n",
    "print(\"type of var : \",type(var))\n",
    "print(\"************************\")\n",
    "var =\"\"\"soc\"\"\"\n",
    "print(\"data in var : \",var)\n",
    "print(\"id of var   : \",id(var))\n",
    "print(\"type of var : \",type(var))\n",
    "print(\"************************\")\n"
   ]
  },
  {
   "cell_type": "code",
   "execution_count": 15,
   "metadata": {},
   "outputs": [
    {
     "name": "stdout",
     "output_type": "stream",
     "text": [
      "data in var :  [1, 2, 3, 4]\n",
      "<class 'list'>\n",
      "id :  637658429256\n"
     ]
    }
   ],
   "source": [
    "var = [1,2,3,4]\n",
    "print(\"data in var : \",var)\n",
    "print(type(var))\n",
    "print(\"id : \",id(var))"
   ]
  },
  {
   "cell_type": "code",
   "execution_count": null,
   "metadata": {},
   "outputs": [],
   "source": [
    "var = (1,2,3,4)\n",
    "print(\"data in var : \",var)\n",
    "print(type(var))\n",
    "print(\"id : \",id(var))"
   ]
  }
 ],
 "metadata": {
  "kernelspec": {
   "display_name": "Python 3",
   "language": "python",
   "name": "python3"
  },
  "language_info": {
   "codemirror_mode": {
    "name": "ipython",
    "version": 3
   },
   "file_extension": ".py",
   "mimetype": "text/x-python",
   "name": "python",
   "nbconvert_exporter": "python",
   "pygments_lexer": "ipython3",
   "version": "3.7.3"
  }
 },
 "nbformat": 4,
 "nbformat_minor": 2
}
