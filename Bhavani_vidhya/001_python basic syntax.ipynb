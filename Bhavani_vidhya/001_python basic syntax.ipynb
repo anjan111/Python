{
 "cells": [
  {
   "cell_type": "markdown",
   "metadata": {},
   "source": [
    "===>>> syntax\n",
    "\n",
    "        1. The structure for writing a program \n",
    "\n",
    "===>>> program\n",
    "\n",
    "        1. Collection of instructions to do any one specific task\n",
    "\n",
    "===>>> instruction\n",
    "\n",
    "        1. The line of code with in the program\n",
    "        \n",
    "        2. There are 2 types \n",
    "                \n",
    "                   1. comments   --->>which can't be executable\n",
    "                   \n",
    "                                 --->> which are used for to give the brief explanation for each and every statement\n",
    "                                \n",
    "                                 --->> single line    #\n",
    "                                 \n",
    "                                 --->>  multiple line  ''' '''\n",
    "                          \n",
    "                   2. statements  --->> which are executable"
   ]
  },
  {
   "cell_type": "code",
   "execution_count": 1,
   "metadata": {},
   "outputs": [
    {
     "name": "stdout",
     "output_type": "stream",
     "text": [
      "hello\n",
      "hai\n"
     ]
    }
   ],
   "source": [
    "# single line comment\n",
    "'''\n",
    "this \n",
    "is\n",
    "multiline comment\n",
    "'''\n",
    "print \"hello\" # statement\n",
    "print \"hai\"   # statement"
   ]
  },
  {
   "cell_type": "markdown",
   "metadata": {},
   "source": [
    "===>> statments can implimentd with two names\n",
    "\n",
    "1. keywords\n",
    "\n",
    "    ===>>  which are predefined words\n",
    "    \n",
    "    ===>>  we have to use each and every keyword for some kind of specific tasks\n",
    "\n",
    "2. identifiers\n",
    "\n",
    "    ===>>  which are user / programmer defined words \n",
    "    \n",
    "    ===>>  to give the name entities for variables , classes and functions\n",
    "    \n",
    "Rules for identifiers\n",
    "\n",
    "    ===>>  we can use all alphabets    a -z / A -Z\n",
    "    \n",
    "    ===>>  we can use digits but don't start with digits   0 - 9\n",
    "    \n",
    "    ===>>  we can use underscore   _\n",
    "    \n",
    "    ===>>  don't use keywords \n",
    "    \n",
    "    ===>>  don't use special characters   !@#$%^&*(){}-=+/.,\"':;~`"
   ]
  },
  {
   "cell_type": "code",
   "execution_count": 2,
   "metadata": {},
   "outputs": [
    {
     "name": "stdout",
     "output_type": "stream",
     "text": [
      "['and', 'as', 'assert', 'break', 'class', 'continue', 'def', 'del', 'elif', 'else', 'except', 'exec', 'finally', 'for', 'from', 'global', 'if', 'import', 'in', 'is', 'lambda', 'not', 'or', 'pass', 'print', 'raise', 'return', 'try', 'while', 'with', 'yield']\n"
     ]
    }
   ],
   "source": [
    "#import --------->> keyword\n",
    "import keyword\n",
    "print keyword.kwlist"
   ]
  },
  {
   "cell_type": "markdown",
   "metadata": {},
   "source": [
    "variable \n",
    "\n",
    "===>> which are identifiers\n",
    "\n",
    "===>> which are used for to store the data with in memory loc\n",
    "\n",
    "===>> we can access the data from memory loc \n",
    "\n",
    "===>> we can directly  assign the data to variable"
   ]
  },
  {
   "cell_type": "code",
   "execution_count": 3,
   "metadata": {},
   "outputs": [
    {
     "name": "stdout",
     "output_type": "stream",
     "text": [
      "1123\n"
     ]
    }
   ],
   "source": [
    "var = 1123\n",
    "print var"
   ]
  },
  {
   "cell_type": "code",
   "execution_count": 4,
   "metadata": {},
   "outputs": [
    {
     "name": "stdout",
     "output_type": "stream",
     "text": [
      "123\n"
     ]
    }
   ],
   "source": [
    "va_34 =123\n",
    "print va_34"
   ]
  },
  {
   "cell_type": "code",
   "execution_count": 5,
   "metadata": {},
   "outputs": [
    {
     "ename": "SyntaxError",
     "evalue": "invalid syntax (<ipython-input-5-15aa292c3293>, line 1)",
     "output_type": "error",
     "traceback": [
      "\u001b[1;36m  File \u001b[1;32m\"<ipython-input-5-15aa292c3293>\"\u001b[1;36m, line \u001b[1;32m1\u001b[0m\n\u001b[1;33m    va@r = 123\u001b[0m\n\u001b[1;37m      ^\u001b[0m\n\u001b[1;31mSyntaxError\u001b[0m\u001b[1;31m:\u001b[0m invalid syntax\n"
     ]
    }
   ],
   "source": [
    "va@r = 123"
   ]
  },
  {
   "cell_type": "code",
   "execution_count": 6,
   "metadata": {},
   "outputs": [
    {
     "ename": "SyntaxError",
     "evalue": "invalid syntax (<ipython-input-6-1d33d7e05c41>, line 1)",
     "output_type": "error",
     "traceback": [
      "\u001b[1;36m  File \u001b[1;32m\"<ipython-input-6-1d33d7e05c41>\"\u001b[1;36m, line \u001b[1;32m1\u001b[0m\n\u001b[1;33m    while =123\u001b[0m\n\u001b[1;37m          ^\u001b[0m\n\u001b[1;31mSyntaxError\u001b[0m\u001b[1;31m:\u001b[0m invalid syntax\n"
     ]
    }
   ],
   "source": [
    "while =123"
   ]
  },
  {
   "cell_type": "code",
   "execution_count": 7,
   "metadata": {},
   "outputs": [
    {
     "ename": "SyntaxError",
     "evalue": "invalid syntax (<ipython-input-7-40d62130010c>, line 1)",
     "output_type": "error",
     "traceback": [
      "\u001b[1;36m  File \u001b[1;32m\"<ipython-input-7-40d62130010c>\"\u001b[1;36m, line \u001b[1;32m1\u001b[0m\n\u001b[1;33m    3var =123\u001b[0m\n\u001b[1;37m       ^\u001b[0m\n\u001b[1;31mSyntaxError\u001b[0m\u001b[1;31m:\u001b[0m invalid syntax\n"
     ]
    }
   ],
   "source": [
    "3var =123"
   ]
  },
  {
   "cell_type": "code",
   "execution_count": 6,
   "metadata": {},
   "outputs": [
    {
     "name": "stdout",
     "output_type": "stream",
     "text": [
      "<type 'int'>\n",
      "<type 'float'>\n",
      "<type 'bool'>\n",
      "<type 'bool'>\n",
      "<type 'NoneType'>\n",
      "<type 'complex'>\n"
     ]
    }
   ],
   "source": [
    "# datatypes & built- in functions\n",
    "'''\n",
    "==>> to specify what type of data has holded by variable\n",
    "'''\n",
    "# fundametal daatatype\n",
    "'''\n",
    "===>>> A single variable can hold single data element\n",
    "1. int\n",
    "2. float\n",
    "3. bool\n",
    "4. None\n",
    "5. complex\n",
    "'''\n",
    "var = 34  # int\n",
    "print type(var) # to know the datatype\n",
    "\n",
    "var = 23.5324 # float\n",
    "print type(var)\n",
    "\n",
    "a = True  # bool\n",
    "b = False\n",
    "print type(a)\n",
    "print type(b)\n",
    "\n",
    "var = None # Nonetype --->> nothing  ---> we are not storing any thing \n",
    "print type(var)\n",
    "\n",
    "var = 12 + 34j # real +img j  #   x+yj   --->> complex\n",
    "print type(var)"
   ]
  },
  {
   "cell_type": "code",
   "execution_count": 11,
   "metadata": {},
   "outputs": [
    {
     "name": "stdout",
     "output_type": "stream",
     "text": [
      "<type 'str'>\n",
      "<type 'list'>\n",
      "<type 'tuple'>\n",
      "<type 'set'>\n",
      "<type 'dict'>\n"
     ]
    }
   ],
   "source": [
    "# sequencial ddatatype\n",
    "'''\n",
    "===>> A single variable can hold multiple data elements\n",
    "\n",
    "1. str --->> group of characters   \"\"\n",
    "2. list --> collection of dissimilar data elements  []\n",
    "3. tuple --> collection of dissimilar data elements ()\n",
    "4. set   --> collection of dissimilar data elements {}\n",
    "5. dict  --> collection of dissimilar data items    {} ,   item  ---> key : values\n",
    "\n",
    "'''\n",
    "var= \"python\"\n",
    "print type(var)\n",
    "\n",
    "var = [12,4.2,True] \n",
    "print type(var)\n",
    "\n",
    "var = (12,4.2 ,True)\n",
    "print type(var)\n",
    "\n",
    "var = {12,4.2 ,True}\n",
    "print type(var)\n",
    "\n",
    "var = {12:\"123\"  ,4.2: 134    ,True : \"hello\" }\n",
    "print type(var)"
   ]
  },
  {
   "cell_type": "code",
   "execution_count": 12,
   "metadata": {},
   "outputs": [
    {
     "name": "stdout",
     "output_type": "stream",
     "text": [
      "enter int : 78\n",
      "78\n",
      "<type 'int'>\n",
      "memory :  20806864\n"
     ]
    }
   ],
   "source": [
    "# built-in function\n",
    "# input() --->> read the data from keyboard\n",
    "# print  ---->> to display the data\n",
    "# type() --->> to know datatype\n",
    "# id()  ---->> to know the memory loc\n",
    "\n",
    "'''\n",
    "wap read int data and disply memory and datatpe of it\n",
    "'''\n",
    "var = input(\"enter int : \")\n",
    "print var\n",
    "print type(var)\n",
    "print \"memory : \",id(var)"
   ]
  },
  {
   "cell_type": "code",
   "execution_count": 13,
   "metadata": {},
   "outputs": [
    {
     "name": "stdout",
     "output_type": "stream",
     "text": [
      "enter int : 78.5656\n",
      "78.5656\n",
      "<type 'float'>\n",
      "memory :  72442304\n"
     ]
    }
   ],
   "source": [
    "'''\n",
    "wap read float data and disply memory and datatpe of it\n",
    "'''\n",
    "var = input(\"enter int : \")\n",
    "print var\n",
    "print type(var)\n",
    "print \"memory : \",id(var)"
   ]
  },
  {
   "cell_type": "code",
   "execution_count": null,
   "metadata": {},
   "outputs": [],
   "source": [
    "'''\n",
    "wap read complex data and disply memory and datatpe of it\n",
    "'''"
   ]
  },
  {
   "cell_type": "code",
   "execution_count": null,
   "metadata": {},
   "outputs": [],
   "source": [
    "'''\n",
    "wap read bool data and disply memory and datatpe of it\n",
    "'''\n",
    "\n",
    "'''\n",
    "wap read Nonetype data and disply memory and datatpe of it\n",
    "'''"
   ]
  },
  {
   "cell_type": "code",
   "execution_count": null,
   "metadata": {},
   "outputs": [],
   "source": [
    "'''\n",
    "wap read all seq daatatype  and disply memory and datatpe of it\n",
    "'''"
   ]
  },
  {
   "cell_type": "code",
   "execution_count": null,
   "metadata": {},
   "outputs": [],
   "source": [
    "# python operators\n",
    "\n",
    "'''\n",
    "6:30am as per ist\n",
    "'''"
   ]
  }
 ],
 "metadata": {
  "kernelspec": {
   "display_name": "Python 2",
   "language": "python",
   "name": "python2"
  },
  "language_info": {
   "codemirror_mode": {
    "name": "ipython",
    "version": 2
   },
   "file_extension": ".py",
   "mimetype": "text/x-python",
   "name": "python",
   "nbconvert_exporter": "python",
   "pygments_lexer": "ipython2",
   "version": "2.7.16"
  }
 },
 "nbformat": 4,
 "nbformat_minor": 2
}
