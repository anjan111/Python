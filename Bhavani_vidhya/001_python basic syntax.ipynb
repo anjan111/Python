{
 "cells": [
  {
   "cell_type": "markdown",
   "metadata": {},
   "source": [
    "### Python Basic syntax\n",
    "\n",
    "--->> syntax , program , instruction, comment, statement, keyword, identifier,variable , datatypes\n",
    "\n",
    "\n",
    "##### Syntax\n",
    "\n",
    "=====>>>> The structure for writing a program\n",
    "\n",
    "\n",
    "##### Program\n",
    "\n",
    "=====>>>>  Collection of instructions  to do any one task\n",
    "\n",
    "##### instruction\n",
    "\n",
    "====>>>> A line of code with in the program\n",
    "\n",
    "##### Types of instructions\n",
    "\n",
    "\n",
    "===>>> there are 2 types of instructions\n",
    "\n",
    "1. Comment  \n",
    "\n",
    "====>>>> An instruction which can't be executable\n",
    "\n",
    "====>>>> To give the brief explanation for eacha nd every statement \n",
    "\n",
    "====>>>> Single line comment  ---->>>   #\n",
    "\n",
    "====>>>> Multiline comment   ----->>>>  '''  '''\n",
    "\n",
    "2. Statement\n",
    "\n",
    "===>>> An instruction which can be executable\n"
   ]
  },
  {
   "cell_type": "code",
   "execution_count": 1,
   "metadata": {},
   "outputs": [
    {
     "name": "stdout",
     "output_type": "stream",
     "text": [
      "hello\n",
      "hai\n",
      "bye\n"
     ]
    }
   ],
   "source": [
    "# single line comment\n",
    "'''\n",
    "===>>> this is multiline \n",
    "\n",
    "comment\n",
    "'''\n",
    "print \"hello\"\n",
    "print  \"hai\"\n",
    "print \"bye\""
   ]
  },
  {
   "cell_type": "markdown",
   "metadata": {},
   "source": [
    "##### Keyword\n",
    "\n",
    "===>>>> pre defined words  ---->> all ready defined it\n",
    "\n",
    "===>>>> Each and every keyword is used for to do specific task\n",
    "\n",
    "====>>> all keywords are available inside of the keyword  python file"
   ]
  },
  {
   "cell_type": "code",
   "execution_count": 3,
   "metadata": {},
   "outputs": [
    {
     "name": "stdout",
     "output_type": "stream",
     "text": [
      "['and', 'as', 'assert', 'break', 'class', 'continue', 'def', 'del', 'elif', 'else', 'except', 'exec', 'finally', 'for', 'from', 'global', 'if', 'import', 'in', 'is', 'lambda', 'not', 'or', 'pass', 'print', 'raise', 'return', 'try', 'while', 'with', 'yield']\n"
     ]
    }
   ],
   "source": [
    "import keyword\n",
    "'''\n",
    "it just for showing keywords \n",
    "'''\n",
    "print keyword.kwlist"
   ]
  },
  {
   "cell_type": "markdown",
   "metadata": {},
   "source": [
    "#####   Identifiers :\n",
    "\n",
    "===>>> programmer defined words\n",
    "\n",
    "===>>> to give the name entities for variables, functiond and classes\n",
    "\n",
    "##### Rules \n",
    "\n",
    "====> we can use alphabets    a-z / A-Z\n",
    "\n",
    "====> we can use digits / 0-9\n",
    "\n",
    "====> we can underscore  _\n",
    "\n",
    "====> don't start with digits\n",
    "\n",
    "===>>> don't use keywords\n",
    "\n",
    "===>>> don't use special characters\n",
    "\n"
   ]
  },
  {
   "cell_type": "markdown",
   "metadata": {},
   "source": [
    "#####  varaiable\n",
    "\n",
    "===>>> which are used for to store daata\n",
    "\n",
    "====>>> we can directly assign the data to the  variable"
   ]
  },
  {
   "cell_type": "code",
   "execution_count": 4,
   "metadata": {},
   "outputs": [
    {
     "name": "stdout",
     "output_type": "stream",
     "text": [
      "123\n"
     ]
    }
   ],
   "source": [
    "var  = 123\n",
    "print var"
   ]
  },
  {
   "cell_type": "code",
   "execution_count": 5,
   "metadata": {},
   "outputs": [
    {
     "name": "stdout",
     "output_type": "stream",
     "text": [
      "123\n"
     ]
    }
   ],
   "source": [
    "vaR_2 =123\n",
    "print vaR_2"
   ]
  },
  {
   "cell_type": "code",
   "execution_count": 6,
   "metadata": {},
   "outputs": [
    {
     "ename": "SyntaxError",
     "evalue": "invalid syntax (<ipython-input-6-2ef0d209ec5e>, line 1)",
     "output_type": "error",
     "traceback": [
      "\u001b[1;36m  File \u001b[1;32m\"<ipython-input-6-2ef0d209ec5e>\"\u001b[1;36m, line \u001b[1;32m1\u001b[0m\n\u001b[1;33m    4var =12\u001b[0m\n\u001b[1;37m       ^\u001b[0m\n\u001b[1;31mSyntaxError\u001b[0m\u001b[1;31m:\u001b[0m invalid syntax\n"
     ]
    }
   ],
   "source": [
    "4var =12"
   ]
  },
  {
   "cell_type": "code",
   "execution_count": 7,
   "metadata": {},
   "outputs": [
    {
     "ename": "SyntaxError",
     "evalue": "invalid syntax (<ipython-input-7-d1a32e74cb1a>, line 1)",
     "output_type": "error",
     "traceback": [
      "\u001b[1;36m  File \u001b[1;32m\"<ipython-input-7-d1a32e74cb1a>\"\u001b[1;36m, line \u001b[1;32m1\u001b[0m\n\u001b[1;33m    while =124\u001b[0m\n\u001b[1;37m          ^\u001b[0m\n\u001b[1;31mSyntaxError\u001b[0m\u001b[1;31m:\u001b[0m invalid syntax\n"
     ]
    }
   ],
   "source": [
    "while =124"
   ]
  },
  {
   "cell_type": "code",
   "execution_count": 8,
   "metadata": {},
   "outputs": [
    {
     "ename": "SyntaxError",
     "evalue": "invalid syntax (<ipython-input-8-ce01a7f3a51f>, line 1)",
     "output_type": "error",
     "traceback": [
      "\u001b[1;36m  File \u001b[1;32m\"<ipython-input-8-ce01a7f3a51f>\"\u001b[1;36m, line \u001b[1;32m1\u001b[0m\n\u001b[1;33m    v@34 =13\u001b[0m\n\u001b[1;37m     ^\u001b[0m\n\u001b[1;31mSyntaxError\u001b[0m\u001b[1;31m:\u001b[0m invalid syntax\n"
     ]
    }
   ],
   "source": [
    "v@34 =13"
   ]
  },
  {
   "cell_type": "markdown",
   "metadata": {},
   "source": [
    "#### data types \n",
    "\n",
    "===>>> To specify the what of data holded by variable\n",
    "\n",
    "######  1. fundametal daatatype\n",
    "\n",
    "====>>> A single variable can hold the single data\n",
    "\n",
    "1. int \n",
    "\n",
    "2. flaot\n",
    "\n",
    "3. complex\n",
    "\n",
    "4. bool\n",
    "\n",
    "5. None"
   ]
  },
  {
   "cell_type": "code",
   "execution_count": 9,
   "metadata": {},
   "outputs": [
    {
     "name": "stdout",
     "output_type": "stream",
     "text": [
      "<type 'int'>\n"
     ]
    }
   ],
   "source": [
    "var = 123\n",
    "print type(var)"
   ]
  },
  {
   "cell_type": "code",
   "execution_count": 10,
   "metadata": {},
   "outputs": [
    {
     "name": "stdout",
     "output_type": "stream",
     "text": [
      "<type 'float'>\n"
     ]
    }
   ],
   "source": [
    "var = 12.4553\n",
    "print type(var)"
   ]
  },
  {
   "cell_type": "code",
   "execution_count": 12,
   "metadata": {},
   "outputs": [
    {
     "name": "stdout",
     "output_type": "stream",
     "text": [
      "<type 'complex'>\n"
     ]
    }
   ],
   "source": [
    "var = 4+3j\n",
    "print type(var)"
   ]
  },
  {
   "cell_type": "code",
   "execution_count": 14,
   "metadata": {},
   "outputs": [
    {
     "name": "stdout",
     "output_type": "stream",
     "text": [
      "<type 'bool'>\n",
      "<type 'bool'>\n"
     ]
    }
   ],
   "source": [
    "var = True \n",
    "print type(var)\n",
    "var = False \n",
    "print type(var)"
   ]
  },
  {
   "cell_type": "code",
   "execution_count": 15,
   "metadata": {},
   "outputs": [
    {
     "name": "stdout",
     "output_type": "stream",
     "text": [
      "<type 'NoneType'>\n"
     ]
    }
   ],
   "source": [
    "var = None\n",
    "print type(var)"
   ]
  },
  {
   "cell_type": "markdown",
   "metadata": {},
   "source": [
    "#### sequencial Datatype\n",
    "\n",
    "===>> A single variable can hold multiple data elements\n",
    "\n",
    "1. str\n",
    "\n",
    "2. list\n",
    "\n",
    "3. tuple\n",
    "\n",
    "4. set\n",
    "\n",
    "5. dict"
   ]
  },
  {
   "cell_type": "code",
   "execution_count": 16,
   "metadata": {},
   "outputs": [
    {
     "name": "stdout",
     "output_type": "stream",
     "text": [
      "<type 'str'>\n"
     ]
    }
   ],
   "source": [
    "var = \"soc\"\n",
    "print type(var)"
   ]
  },
  {
   "cell_type": "code",
   "execution_count": 18,
   "metadata": {},
   "outputs": [
    {
     "name": "stdout",
     "output_type": "stream",
     "text": [
      "<type 'list'>\n"
     ]
    }
   ],
   "source": [
    "var = [12 , 56, 34]\n",
    "print type(var)"
   ]
  },
  {
   "cell_type": "code",
   "execution_count": 19,
   "metadata": {},
   "outputs": [
    {
     "name": "stdout",
     "output_type": "stream",
     "text": [
      "<type 'tuple'>\n"
     ]
    }
   ],
   "source": [
    "var = (12,45,90)\n",
    "print type(var)"
   ]
  },
  {
   "cell_type": "code",
   "execution_count": 20,
   "metadata": {},
   "outputs": [
    {
     "name": "stdout",
     "output_type": "stream",
     "text": [
      "<type 'set'>\n"
     ]
    }
   ],
   "source": [
    "var = {12,90,34}\n",
    "print type(var)"
   ]
  },
  {
   "cell_type": "code",
   "execution_count": 22,
   "metadata": {},
   "outputs": [
    {
     "name": "stdout",
     "output_type": "stream",
     "text": [
      "<type 'dict'>\n"
     ]
    }
   ],
   "source": [
    "var = {12 : \"soc\" , 90 : \"sdjs\"}\n",
    "print type(var)"
   ]
  },
  {
   "cell_type": "code",
   "execution_count": null,
   "metadata": {},
   "outputs": [],
   "source": [
    "# weekly one day also  --->> th\n",
    "\n",
    "# Thu  --->> \n"
   ]
  },
  {
   "cell_type": "code",
   "execution_count": null,
   "metadata": {},
   "outputs": [],
   "source": []
  },
  {
   "cell_type": "code",
   "execution_count": 1,
   "metadata": {},
   "outputs": [
    {
     "name": "stdout",
     "output_type": "stream",
     "text": [
      "enter radius in metre's5\n",
      "area: 78.5714285714 sq.m\n"
     ]
    }
   ],
   "source": [
    "#wap find area of circle\n",
    "r=input(\"enter radius in metre's\")\n",
    "pi=22.0/7\n",
    "area=pi*(r**2)\n",
    "print\"area:\",area,\"sq.m\""
   ]
  },
  {
   "cell_type": "code",
   "execution_count": 3,
   "metadata": {},
   "outputs": [
    {
     "name": "stdout",
     "output_type": "stream",
     "text": [
      "enter num7\n",
      "7 is even False\n"
     ]
    }
   ],
   "source": [
    "#wap find the given number is even or not\n",
    "num=input(\"enter num\")\n",
    "rem=num%2\n",
    "print num,\"is even\",rem==0\n"
   ]
  },
  {
   "cell_type": "code",
   "execution_count": null,
   "metadata": {},
   "outputs": [],
   "source": []
  }
 ],
 "metadata": {
  "kernelspec": {
   "display_name": "Python 2",
   "language": "python",
   "name": "python2"
  },
  "language_info": {
   "codemirror_mode": {
    "name": "ipython",
    "version": 2
   },
   "file_extension": ".py",
   "mimetype": "text/x-python",
   "name": "python",
   "nbconvert_exporter": "python",
   "pygments_lexer": "ipython2",
   "version": "2.7.16"
  }
 },
 "nbformat": 4,
 "nbformat_minor": 2
}
