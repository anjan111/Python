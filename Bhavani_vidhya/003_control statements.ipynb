{
 "cells": [
  {
   "cell_type": "markdown",
   "metadata": {},
   "source": [
    "# statement\n",
    "\n",
    "===>>> An instruction which can be executable with in the program\n",
    "\n",
    "# program\n",
    "\n",
    "===>> collection of statements to do any one specific task\n",
    "\n",
    "# the flow of the execution of the program\n",
    "\n",
    "===>> the flow of the execution of the program is line by line ( statement by statement )\n",
    "\n",
    "# control statements\n",
    "\n",
    "===>> we can change the flow of execution of the program\n",
    "\n",
    "# there are 3 types\n",
    "\n",
    "   1.  conditional statement\n",
    "   \n",
    "   2.  Looping statement\n",
    "   \n",
    "   3.  control keywords \n",
    "   \n",
    "# conditinal statement\n",
    "\n",
    "===>>> the execution of the statements which depends on condition\n",
    "\n",
    "    1.  simple if\n",
    "    \n",
    "    2.  if and else\n",
    "    \n",
    "    3.  elif ladder\n",
    "    \n",
    "    4.  nested if \n",
    "\n",
    "# simple if \n"
   ]
  },
  {
   "cell_type": "code",
   "execution_count": 3,
   "metadata": {},
   "outputs": [
    {
     "name": "stdout",
     "output_type": "stream",
     "text": [
      "enter num : 4\n",
      "4  is even \n",
      "task over\n"
     ]
    }
   ],
   "source": [
    "# wap print given number is even or not\n",
    "\n",
    "num = input(\"enter num : \")\n",
    "rem = num % 2\n",
    "if( rem == 0):\n",
    "    print num,\" is even \"\n",
    "    \n",
    "print \"task over\""
   ]
  },
  {
   "cell_type": "code",
   "execution_count": 1,
   "metadata": {},
   "outputs": [],
   "source": [
    "# wap find the area of circle when side of square is even\n",
    "# wap apply the voter id application based on age  > 18"
   ]
  },
  {
   "cell_type": "code",
   "execution_count": 4,
   "metadata": {},
   "outputs": [
    {
     "name": "stdout",
     "output_type": "stream",
     "text": [
      "enter num1 : 56\n",
      "enter num2 : 100\n",
      "num2 is big :  100\n",
      "Task over\n"
     ]
    }
   ],
   "source": [
    "#if and else\n",
    "'''\n",
    "if ( Condition):\n",
    "        Task1\n",
    "else:\n",
    "        Task2\n",
    "\n",
    "'''\n",
    "# wap find the biggest number from 2 numbers\n",
    "\n",
    "num1 = input(\"enter num1 : \")\n",
    "num2 = input(\"enter num2 : \")\n",
    "if(num1 < num2):\n",
    "    print \"num2 is big : \",num2\n",
    "else:\n",
    "    print \"num1 is big : \",num1\n",
    "print\"Task over\""
   ]
  },
  {
   "cell_type": "code",
   "execution_count": null,
   "metadata": {},
   "outputs": [],
   "source": [
    "# wap find the area of circle when rad is even other wise find the perimeter of circle\n",
    "\n"
   ]
  },
  {
   "cell_type": "code",
   "execution_count": 1,
   "metadata": {},
   "outputs": [
    {
     "name": "stdout",
     "output_type": "stream",
     "text": [
      "enter S1 marks : 89\n",
      "enter S2 marks : 99\n",
      "enter S3 marks : 56\n",
      "enter S4 marks : 70\n",
      "enter S5 marks : 60\n",
      "A Grade with distinction\n"
     ]
    }
   ],
   "source": [
    "# elif ladder \n",
    "'''\n",
    "if(C1):\n",
    "    Task1\n",
    "elif(C2):\n",
    "    Task2\n",
    "elif(C3):\n",
    "    Task3\n",
    "elif(C4):\n",
    "    Task4\n",
    "elif(C5):\n",
    "    Task5\n",
    "-----\n",
    "-----\n",
    "else:\n",
    "    Task\n",
    "'''\n",
    "# wap find the grading system based on student percentage\n",
    "S1 = input(\"enter S1 marks : \")\n",
    "S2 = input(\"enter S2 marks : \")\n",
    "S3 = input(\"enter S3 marks : \")\n",
    "S4 = input(\"enter S4 marks : \")\n",
    "S5 = input(\"enter S5 marks : \")\n",
    "total = float(S1+S2+S3+S4+S5)\n",
    "avg = total/500\n",
    "per = avg *100\n",
    "if( per >=70):\n",
    "    print \"A Grade with distinction\"\n",
    "elif(per >=60):\n",
    "    print \"B grade\"\n",
    "elif(per >= 50):\n",
    "    print \"C grade\"\n",
    "elif(per >=40):\n",
    "    print \"D grade\"\n",
    "else:\n",
    "    print \"better luck next time !\""
   ]
  },
  {
   "cell_type": "code",
   "execution_count": 7,
   "metadata": {},
   "outputs": [],
   "source": [
    "# wap print the salary based  on exp in years "
   ]
  },
  {
   "cell_type": "code",
   "execution_count": 8,
   "metadata": {},
   "outputs": [
    {
     "name": "stdout",
     "output_type": "stream",
     "text": [
      "enter a : 78\n",
      "enter b : 45\n",
      "enter c : 12\n",
      "small :  12\n"
     ]
    }
   ],
   "source": [
    "# nested if \n",
    "'''\n",
    "one block which contains another block\n",
    "'''\n",
    "# wap find the smallest numbers from 3 numbers\n",
    "a = input(\"enter a : \")\n",
    "b = input(\"enter b : \")\n",
    "c = input(\"enter c : \")\n",
    "if(a <b ):\n",
    "    small = a\n",
    "else:\n",
    "    small = b\n",
    "if(small > c):\n",
    "    small = c\n",
    "print \"small : \",small"
   ]
  },
  {
   "cell_type": "code",
   "execution_count": 9,
   "metadata": {},
   "outputs": [
    {
     "name": "stdout",
     "output_type": "stream",
     "text": [
      "enter a : 8\n",
      "enter b : 4\n",
      "enter c : 7\n",
      "small :  4\n"
     ]
    }
   ],
   "source": [
    "# wap find the smallest numbers from 3 numbers\n",
    "a = input(\"enter a : \")\n",
    "b = input(\"enter b : \")\n",
    "c = input(\"enter c : \")\n",
    "if(a <b ):\n",
    "    small = a\n",
    "    if(small > c):\n",
    "        small = c\n",
    "else:\n",
    "    small = b\n",
    "    if(small > c):\n",
    "        small = c\n",
    "\n",
    "print \"small : \",small"
   ]
  },
  {
   "cell_type": "code",
   "execution_count": 4,
   "metadata": {},
   "outputs": [
    {
     "name": "stdout",
     "output_type": "stream",
     "text": [
      "hello\n",
      "hello\n",
      "hello\n",
      "hello\n",
      "hello\n",
      "hello\n",
      "hello\n",
      "hello\n",
      "hello\n",
      "hello\n"
     ]
    }
   ],
   "source": [
    "# looping statements\n",
    "'''\n",
    "===>>> to repeate the task multiple times continusly\n",
    "===>>> we can reduce the size\n",
    "===>>> it makes easy to understand\n",
    "# while\n",
    "\n",
    "# for\n",
    "'''\n",
    "print \"hello\"\n",
    "print \"hello\"\n",
    "print \"hello\"\n",
    "print \"hello\"\n",
    "print \"hello\"\n",
    "print \"hello\"\n",
    "print \"hello\"\n",
    "print \"hello\"\n",
    "print \"hello\"\n",
    "print \"hello\""
   ]
  },
  {
   "cell_type": "code",
   "execution_count": 6,
   "metadata": {},
   "outputs": [
    {
     "name": "stdout",
     "output_type": "stream",
     "text": [
      "hello\n",
      "hello\n",
      "hello\n",
      "hello\n",
      "hello\n",
      "hello\n",
      "hello\n",
      "hello\n",
      "hello\n",
      "hello\n",
      "condition failed\n"
     ]
    }
   ],
   "source": [
    "# while loop\n",
    "'''\n",
    "while( condition ):\n",
    "\n",
    "    Task\n",
    "    repeates\n",
    "    untill condition fails\n",
    "else:\n",
    "    Task\n",
    "    execute \n",
    "    when condition has failed\n",
    "    \n",
    "'''\n",
    "# print hello 10 time \n",
    "\n",
    "i = 1\n",
    "while(i <= 10):\n",
    "    print \"hello\"\n",
    "    i = i +1\n",
    "else:\n",
    "    print \"condition failed\"\n",
    "    "
   ]
  },
  {
   "cell_type": "code",
   "execution_count": 8,
   "metadata": {},
   "outputs": [
    {
     "name": "stdout",
     "output_type": "stream",
     "text": [
      "i :  1\n",
      "i :  2\n",
      "i :  3\n",
      "i :  4\n",
      "i :  5\n",
      "i :  6\n",
      "i :  7\n",
      "i :  8\n",
      "i :  9\n",
      "i :  10\n",
      "condition failed\n"
     ]
    }
   ],
   "source": [
    "# wap prinnt the 1 to 10\n",
    "i = 1\n",
    "while(i <= 10):\n",
    "    print \"i : \",i\n",
    "    i = i +1\n",
    "else:\n",
    "    print \"condition failed\""
   ]
  },
  {
   "cell_type": "code",
   "execution_count": 14,
   "metadata": {},
   "outputs": [
    {
     "name": "stdout",
     "output_type": "stream",
     "text": [
      "enter N value : 5\n",
      "sum :  15\n"
     ]
    }
   ],
   "source": [
    "# wap print sum of 1st 10 number\n",
    "N = input(\"enter N value : \")\n",
    "sum = 0\n",
    "i = 1\n",
    "while(i <= N):\n",
    "    sum = sum +i\n",
    "    i = i +1\n",
    "else:\n",
    "    print \"sum : \",sum"
   ]
  },
  {
   "cell_type": "code",
   "execution_count": 16,
   "metadata": {},
   "outputs": [
    {
     "name": "stdout",
     "output_type": "stream",
     "text": [
      "enter N value : 6\n",
      "fact :  720\n"
     ]
    }
   ],
   "source": [
    "# wap find the factorial of a number  --->> 5 min\n",
    "N = input(\"enter N value : \")\n",
    "fact= 1\n",
    "i = 1\n",
    "while(i <= N):\n",
    "    fact = fact * i\n",
    "    i = i +1\n",
    "else:\n",
    "    print \"fact : \",fact"
   ]
  },
  {
   "cell_type": "code",
   "execution_count": 17,
   "metadata": {},
   "outputs": [
    {
     "name": "stdout",
     "output_type": "stream",
     "text": [
      "enter N : 5\n",
      "5   *   1   =  5\n",
      "5   *   2   =  10\n",
      "5   *   3   =  15\n",
      "5   *   4   =  20\n",
      "5   *   5   =  25\n",
      "5   *   6   =  30\n",
      "5   *   7   =  35\n",
      "5   *   8   =  40\n",
      "5   *   9   =  45\n",
      "5   *   10   =  50\n"
     ]
    }
   ],
   "source": [
    "# wap find the print the multiplication table for any number\n",
    "'''\n",
    "5\n",
    "\n",
    "5  * 1  = 5\n",
    "5  * 2  = 10\n",
    "5  * 3  = 15\n",
    "\n",
    "5  * 10 = 50\n",
    "'''\n",
    "N = input(\"enter N : \")\n",
    "i = 1\n",
    "while(i<= 10):\n",
    "    print N,\"  *  \",i,\"  = \", N*i\n",
    "    i = i+1\n",
    "    "
   ]
  },
  {
   "cell_type": "code",
   "execution_count": 1,
   "metadata": {},
   "outputs": [],
   "source": [
    "# wap find the no of factors of a number\n",
    "# 10 --->> 1,2,5,10--->> 4\n",
    "# wap sum of factors of a number\n",
    "#10 ---> 1+2+5+10 ---->> 18\n",
    "# wap given number is prime or not \n"
   ]
  },
  {
   "cell_type": "code",
   "execution_count": 3,
   "metadata": {},
   "outputs": [
    {
     "data": {
      "text/plain": [
       "[0, 1, 2, 3, 4, 5, 6, 7, 8, 9]"
      ]
     },
     "execution_count": 3,
     "metadata": {},
     "output_type": "execute_result"
    }
   ],
   "source": [
    "range(10)"
   ]
  },
  {
   "cell_type": "code",
   "execution_count": 6,
   "metadata": {},
   "outputs": [
    {
     "name": "stdout",
     "output_type": "stream",
     "text": [
      "[20, 21, 22, 23, 24, 25, 26, 27, 28, 29, 30, 31, 32, 33, 34, 35, 36, 37, 38, 39]\n"
     ]
    }
   ],
   "source": [
    "print range(20,40)"
   ]
  },
  {
   "cell_type": "code",
   "execution_count": 8,
   "metadata": {},
   "outputs": [
    {
     "name": "stdout",
     "output_type": "stream",
     "text": [
      "[20, 23, 26, 29, 32, 35, 38]\n"
     ]
    }
   ],
   "source": [
    "print range(20,40,3)"
   ]
  },
  {
   "cell_type": "code",
   "execution_count": 10,
   "metadata": {},
   "outputs": [
    {
     "name": "stdout",
     "output_type": "stream",
     "text": [
      "enter list : [12,78,23]\n",
      "sum of list of elements :  113\n"
     ]
    }
   ],
   "source": [
    "# wap find sum of elements in list\n",
    "seq = input(\"enter list : \")\n",
    "sum = 0\n",
    "for var in seq:\n",
    "    sum = sum + var\n",
    "else:\n",
    "    print \"sum of list of elements : \",sum"
   ]
  },
  {
   "cell_type": "code",
   "execution_count": 17,
   "metadata": {},
   "outputs": [
    {
     "name": "stdout",
     "output_type": "stream",
     "text": [
      "enter list : 78,89\n",
      "sum of list of elements :  167\n"
     ]
    }
   ],
   "source": [
    "# wap find sum of elements in list\n",
    "seq = input(\"enter list : \")\n",
    "sum = 0\n",
    "for var in seq:\n",
    "    if(isinstance(var,int) or isinstance(var,float)or isinstance(var,bool)or isinstance(var,complex)):\n",
    "        sum = sum + var\n",
    "else:\n",
    "    print \"sum of list of elements : \",sum"
   ]
  },
  {
   "cell_type": "code",
   "execution_count": 19,
   "metadata": {},
   "outputs": [
    {
     "name": "stdout",
     "output_type": "stream",
     "text": [
      "enter num : 8\n",
      "8   *   1  =  8\n",
      "8   *   2  =  16\n",
      "8   *   3  =  24\n",
      "8   *   4  =  32\n",
      "8   *   5  =  40\n",
      "8   *   6  =  48\n",
      "8   *   7  =  56\n",
      "8   *   8  =  64\n",
      "8   *   9  =  72\n",
      "8   *   10  =  80\n"
     ]
    }
   ],
   "source": [
    "# wap print the multiplication table\n",
    "num = input(\"enter num : \")\n",
    "for var in range(1,11):\n",
    "    print num,\"  *  \",var,\" = \",num*var"
   ]
  },
  {
   "cell_type": "code",
   "execution_count": 24,
   "metadata": {},
   "outputs": [
    {
     "name": "stdout",
     "output_type": "stream",
     "text": [
      "enter num :  78\n",
      "given number number is not a prime a number\n"
     ]
    }
   ],
   "source": [
    "# wap find the given number is prime number \n",
    "num =input(\"enter num :  \")\n",
    "f_c = 0\n",
    "for var in range(1,num+1):\n",
    "    if(num %var == 0):\n",
    "        f_c = f_c+1\n",
    "if(f_c == 2):\n",
    "    print \"given number is prime number\"\n",
    "else:\n",
    "    print \"given number number is not a prime a number\""
   ]
  },
  {
   "cell_type": "code",
   "execution_count": 25,
   "metadata": {},
   "outputs": [],
   "source": [
    "# wap print prime numbers from any seq "
   ]
  },
  {
   "cell_type": "code",
   "execution_count": 26,
   "metadata": {},
   "outputs": [],
   "source": [
    "# wap print prime factorials from any seq"
   ]
  },
  {
   "cell_type": "code",
   "execution_count": 27,
   "metadata": {},
   "outputs": [],
   "source": [
    "# wap find the no ofdigits in number   # 241 ---->> 3\n",
    "# wap find the reverse of a number      # 241 --->> 142\n",
    "# wap given number is palidrom or not   # 242 -->> 242 --->> palidrom"
   ]
  },
  {
   "cell_type": "code",
   "execution_count": 31,
   "metadata": {},
   "outputs": [
    {
     "name": "stdout",
     "output_type": "stream",
     "text": [
      "1\n",
      "2\n",
      "3\n",
      "4\n",
      "6\n",
      "7\n",
      "8\n",
      "9\n",
      "10\n"
     ]
    }
   ],
   "source": [
    "# control keywords \n",
    "'''\n",
    "===>> to change flow of execution of the control statements\n",
    "1. pass --->>> empty blocks , dummy blocks \n",
    "'''\n",
    "if ( True):\n",
    "    pass\n",
    "\n",
    "# continue --->> to skip the present iteration and continue next iteration\n",
    "'''\n",
    "# wap print 1 to 10 except 5\n",
    "\n",
    "'''\n",
    "for i in range(1,11):\n",
    "    if(i == 5):\n",
    "        continue\n",
    "    print i"
   ]
  },
  {
   "cell_type": "code",
   "execution_count": 32,
   "metadata": {},
   "outputs": [
    {
     "name": "stdout",
     "output_type": "stream",
     "text": [
      "1\n",
      "2\n",
      "3\n",
      "4\n"
     ]
    }
   ],
   "source": [
    "# break --->> terminates the loop\n",
    "for i in range(1,11):\n",
    "    if(i == 5):\n",
    "        break\n",
    "    print i"
   ]
  }
 ],
 "metadata": {
  "kernelspec": {
   "display_name": "Python 2",
   "language": "python",
   "name": "python2"
  },
  "language_info": {
   "codemirror_mode": {
    "name": "ipython",
    "version": 2
   },
   "file_extension": ".py",
   "mimetype": "text/x-python",
   "name": "python",
   "nbconvert_exporter": "python",
   "pygments_lexer": "ipython2",
   "version": "2.7.16"
  }
 },
 "nbformat": 4,
 "nbformat_minor": 2
}
