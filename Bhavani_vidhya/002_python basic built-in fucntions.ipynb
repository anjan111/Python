{
 "cells": [
  {
   "cell_type": "markdown",
   "metadata": {},
   "source": [
    "# function \n",
    "\n",
    "====>> collection of statements to do any one specific task with in the program\n",
    "\n",
    "====>>  There are 2 types \n",
    "\n",
    "        1. User defined functions \n",
    "        \n",
    "                ==>  whatever the functions which are defined by programmer \n",
    "                \n",
    "        2. Pre- defined functions\n",
    "        \n",
    "                ==> Whatever the functions which are defined in side python\n",
    "                \n",
    "                ===>>  input() <<---  To read the data from keyboard\n",
    "                \n",
    "                ===>>  raw_input() <<-- To read the data from keyboard\n",
    "                \n",
    "                ===>>  print statement  <<--- to display\n",
    "                \n",
    "                ===>>  print function   <<---- to display\n",
    "                \n",
    "                ===>>  id()  <<----------- memory loc\n",
    "                \n",
    "                ===>> type()  <<---------  datatype"
   ]
  },
  {
   "cell_type": "code",
   "execution_count": 1,
   "metadata": {},
   "outputs": [
    {
     "name": "stdout",
     "output_type": "stream",
     "text": [
      "enter some data : 789\n",
      "789\n",
      "<type 'int'>\n",
      "memory :  65170200\n"
     ]
    }
   ],
   "source": [
    "var = input(\"enter some data : \")\n",
    "print var  # print statement\n",
    "print(type(var))# print function\n",
    "print \"memory : \",id(var)"
   ]
  },
  {
   "cell_type": "code",
   "execution_count": 2,
   "metadata": {},
   "outputs": [
    {
     "name": "stdout",
     "output_type": "stream",
     "text": [
      "enter some data : 78.56\n",
      "78.56\n",
      "<type 'float'>\n",
      "memory :  65177832\n"
     ]
    }
   ],
   "source": [
    "var = input(\"enter some data : \")\n",
    "print var  # print statement\n",
    "print(type(var))# print function\n",
    "print \"memory : \",id(var)"
   ]
  },
  {
   "cell_type": "code",
   "execution_count": 3,
   "metadata": {},
   "outputs": [
    {
     "name": "stdout",
     "output_type": "stream",
     "text": [
      "enter some data : 7+8j\n",
      "(7+8j)\n",
      "<type 'complex'>\n",
      "memory :  66811888\n"
     ]
    }
   ],
   "source": [
    "var = input(\"enter some data : \")\n",
    "print var  # print statement\n",
    "print(type(var))# print function\n",
    "print \"memory : \",id(var)"
   ]
  },
  {
   "cell_type": "code",
   "execution_count": 4,
   "metadata": {},
   "outputs": [
    {
     "name": "stdout",
     "output_type": "stream",
     "text": [
      "enter some data : True\n",
      "True\n",
      "<type 'bool'>\n",
      "memory :  1364246248\n"
     ]
    }
   ],
   "source": [
    "var = input(\"enter some data : \")\n",
    "print var  # print statement\n",
    "print(type(var))# print function\n",
    "print \"memory : \",id(var)"
   ]
  },
  {
   "cell_type": "code",
   "execution_count": 5,
   "metadata": {},
   "outputs": [
    {
     "name": "stdout",
     "output_type": "stream",
     "text": [
      "enter some data : False\n",
      "False\n",
      "<type 'bool'>\n",
      "memory :  1364245832\n"
     ]
    }
   ],
   "source": [
    "var = input(\"enter some data : \")\n",
    "print var  # print statement\n",
    "print(type(var))# print function\n",
    "print \"memory : \",id(var)"
   ]
  },
  {
   "cell_type": "code",
   "execution_count": 6,
   "metadata": {},
   "outputs": [
    {
     "name": "stdout",
     "output_type": "stream",
     "text": [
      "enter some data : None\n",
      "None\n",
      "<type 'NoneType'>\n",
      "memory :  1364200568\n"
     ]
    }
   ],
   "source": [
    "var = input(\"enter some data : \")\n",
    "print var  # print statement\n",
    "print(type(var))# print function\n",
    "print \"memory : \",id(var)"
   ]
  },
  {
   "cell_type": "code",
   "execution_count": 7,
   "metadata": {},
   "outputs": [
    {
     "name": "stdout",
     "output_type": "stream",
     "text": [
      "enter some data : \"soc softech\"\n",
      "soc softech\n",
      "<type 'str'>\n",
      "memory :  66941504\n"
     ]
    }
   ],
   "source": [
    "var = input(\"enter some data : \")\n",
    "print var  # print statement\n",
    "print(type(var))# print function\n",
    "print \"memory : \",id(var)"
   ]
  },
  {
   "cell_type": "code",
   "execution_count": 8,
   "metadata": {},
   "outputs": [
    {
     "name": "stdout",
     "output_type": "stream",
     "text": [
      "enter some data : [12,45,89]\n",
      "[12, 45, 89]\n",
      "<type 'list'>\n",
      "memory :  69526472\n"
     ]
    }
   ],
   "source": [
    "var = input(\"enter some data : \")\n",
    "print var  # print statement\n",
    "print(type(var))# print function\n",
    "print \"memory : \",id(var)"
   ]
  },
  {
   "cell_type": "code",
   "execution_count": 9,
   "metadata": {},
   "outputs": [
    {
     "name": "stdout",
     "output_type": "stream",
     "text": [
      "enter some data : (12,45,5)\n",
      "(12, 45, 5)\n",
      "<type 'tuple'>\n",
      "memory :  71538368\n"
     ]
    }
   ],
   "source": [
    "var = input(\"enter some data : \")\n",
    "print var  # print statement\n",
    "print(type(var))# print function\n",
    "print \"memory : \",id(var)"
   ]
  },
  {
   "cell_type": "code",
   "execution_count": 10,
   "metadata": {},
   "outputs": [
    {
     "name": "stdout",
     "output_type": "stream",
     "text": [
      "enter some data : {12,45,3}\n",
      "set([3, 12, 45])\n",
      "<type 'set'>\n",
      "memory :  63532840\n"
     ]
    }
   ],
   "source": [
    "var = input(\"enter some data : \")\n",
    "print var  # print statement\n",
    "print(type(var))# print function\n",
    "print \"memory : \",id(var)"
   ]
  },
  {
   "cell_type": "code",
   "execution_count": 11,
   "metadata": {},
   "outputs": [
    {
     "name": "stdout",
     "output_type": "stream",
     "text": [
      "enter some data : {12 :45 , 67:\"56\"}\n",
      "{67: '56', 12: 45}\n",
      "<type 'dict'>\n",
      "memory :  67016360\n"
     ]
    }
   ],
   "source": [
    "var = input(\"enter some data : \")\n",
    "print var  # print statement\n",
    "print(type(var))# print function\n",
    "print \"memory : \",id(var)"
   ]
  },
  {
   "cell_type": "code",
   "execution_count": 12,
   "metadata": {},
   "outputs": [
    {
     "name": "stdout",
     "output_type": "stream",
     "text": [
      "enter some data : 78\n",
      "78\n",
      "<type 'str'>\n",
      "memory :  72867472\n"
     ]
    }
   ],
   "source": [
    "var = raw_input(\"enter some data : \")\n",
    "print var  # print statement\n",
    "print(type(var))# print function\n",
    "print \"memory : \",id(var)"
   ]
  },
  {
   "cell_type": "code",
   "execution_count": 13,
   "metadata": {},
   "outputs": [
    {
     "name": "stdout",
     "output_type": "stream",
     "text": [
      "enter some data : 78.56456\n",
      "78.56456\n",
      "<type 'str'>\n",
      "memory :  72984640\n"
     ]
    }
   ],
   "source": [
    "var = raw_input(\"enter some data : \")\n",
    "print var  # print statement\n",
    "print(type(var))# print function\n",
    "print \"memory : \",id(var)"
   ]
  },
  {
   "cell_type": "code",
   "execution_count": 14,
   "metadata": {},
   "outputs": [
    {
     "name": "stdout",
     "output_type": "stream",
     "text": [
      "enter some data : 7+6j\n",
      "7+6j\n",
      "<type 'str'>\n",
      "memory :  72866872\n"
     ]
    }
   ],
   "source": [
    "var = raw_input(\"enter some data : \")\n",
    "print var  # print statement\n",
    "print(type(var))# print function\n",
    "print \"memory : \",id(var)"
   ]
  },
  {
   "cell_type": "code",
   "execution_count": 15,
   "metadata": {},
   "outputs": [
    {
     "name": "stdout",
     "output_type": "stream",
     "text": [
      "enter some data : True\n",
      "True\n",
      "<type 'str'>\n",
      "memory :  66739976\n"
     ]
    }
   ],
   "source": [
    "var = raw_input(\"enter some data : \")\n",
    "print var  # print statement\n",
    "print(type(var))# print function\n",
    "print \"memory : \",id(var)"
   ]
  },
  {
   "cell_type": "code",
   "execution_count": 16,
   "metadata": {},
   "outputs": [
    {
     "name": "stdout",
     "output_type": "stream",
     "text": [
      "enter some data : [12,45,90]\n",
      "[12,45,90]\n",
      "<type 'str'>\n",
      "memory :  66752400\n"
     ]
    }
   ],
   "source": [
    "var = raw_input(\"enter some data : \")\n",
    "print var  # print statement\n",
    "print(type(var))# print function\n",
    "print \"memory : \",id(var)"
   ]
  },
  {
   "cell_type": "code",
   "execution_count": 17,
   "metadata": {},
   "outputs": [
    {
     "name": "stdout",
     "output_type": "stream",
     "text": [
      "enter some data : (12,34)\n",
      "(12,34)\n",
      "<type 'str'>\n",
      "memory :  66739136\n"
     ]
    }
   ],
   "source": [
    "var = raw_input(\"enter some data : \")\n",
    "print var  # print statement\n",
    "print(type(var))# print function\n",
    "print \"memory : \",id(var)"
   ]
  },
  {
   "cell_type": "code",
   "execution_count": 18,
   "metadata": {},
   "outputs": [
    {
     "name": "stdout",
     "output_type": "stream",
     "text": [
      "enter some data : {12,45,23}\n",
      "{12,45,23}\n",
      "<type 'str'>\n",
      "memory :  66941840\n"
     ]
    }
   ],
   "source": [
    "var = raw_input(\"enter some data : \")\n",
    "print var  # print statement\n",
    "print(type(var))# print function\n",
    "print \"memory : \",id(var)"
   ]
  },
  {
   "cell_type": "code",
   "execution_count": 19,
   "metadata": {},
   "outputs": [
    {
     "name": "stdout",
     "output_type": "stream",
     "text": [
      "enter some data : {12:\"rt\"}\n",
      "{12:\"rt\"}\n",
      "<type 'str'>\n",
      "memory :  73742256\n"
     ]
    }
   ],
   "source": [
    "var = raw_input(\"enter some data : \")\n",
    "print var  # print statement\n",
    "print(type(var))# print function\n",
    "print \"memory : \",id(var)"
   ]
  },
  {
   "cell_type": "code",
   "execution_count": 20,
   "metadata": {},
   "outputs": [
    {
     "name": "stdout",
     "output_type": "stream",
     "text": [
      "enter a : 78\n",
      "enter b : 22\n",
      "7822\n"
     ]
    }
   ],
   "source": [
    "# input , raw_input <<---- reading the data\n",
    "# input ----<<resultant datatype based input data with type\n",
    "# raw_input ===>>>  resultant datatype is str for any type of input data\n",
    "\n",
    "'''\n",
    "====>>> wap find the addition of 2 numbers using raw_input\n",
    "'''\n",
    "a = raw_input(\"enter a : \")\n",
    "b = raw_input(\"enter b : \")\n",
    "print a+b"
   ]
  },
  {
   "cell_type": "code",
   "execution_count": 22,
   "metadata": {},
   "outputs": [
    {
     "name": "stdout",
     "output_type": "stream",
     "text": [
      "enter int : 78\n",
      "<type 'str'>\n",
      "<type 'int'>\n"
     ]
    }
   ],
   "source": [
    "### datatype conversion functions ####\n",
    "'''\n",
    "===>> to convert one datatype to another datatype\n",
    "\n",
    "int() ---> int\n",
    "float() \n",
    "bool()\n",
    "complex()\n",
    "str()\n",
    "list()\n",
    "tuple()\n",
    "set()\n",
    "dict()\n",
    "'''\n",
    "var = raw_input(\"enter int : \")\n",
    "print type(var)\n",
    "var = int(var)\n",
    "print type(var)"
   ]
  },
  {
   "cell_type": "code",
   "execution_count": 23,
   "metadata": {},
   "outputs": [
    {
     "name": "stdout",
     "output_type": "stream",
     "text": [
      "enter float : 78.56\n",
      "<type 'str'>\n",
      "<type 'float'>\n"
     ]
    }
   ],
   "source": [
    "var = raw_input(\"enter float : \")\n",
    "print type(var)\n",
    "var = float(var)\n",
    "print type(var)"
   ]
  },
  {
   "cell_type": "code",
   "execution_count": 24,
   "metadata": {},
   "outputs": [
    {
     "name": "stdout",
     "output_type": "stream",
     "text": [
      "enter complex : 7+4j\n",
      "<type 'str'>\n",
      "<type 'complex'>\n"
     ]
    }
   ],
   "source": [
    "var = raw_input(\"enter complex : \")\n",
    "print type(var)\n",
    "var = complex(var)\n",
    "print type(var)"
   ]
  },
  {
   "cell_type": "code",
   "execution_count": 26,
   "metadata": {},
   "outputs": [
    {
     "name": "stdout",
     "output_type": "stream",
     "text": [
      "enter a : 78\n",
      "enter b : 55\n",
      "133\n"
     ]
    }
   ],
   "source": [
    "a = raw_input(\"enter a : \")\n",
    "b = raw_input(\"enter b : \")\n",
    "a = int(a)\n",
    "b = int(b)\n",
    "print a+b"
   ]
  },
  {
   "cell_type": "code",
   "execution_count": 29,
   "metadata": {},
   "outputs": [
    {
     "name": "stdout",
     "output_type": "stream",
     "text": [
      "enter bool : True\n",
      "<type 'str'>\n",
      "<type 'bool'>\n"
     ]
    }
   ],
   "source": [
    "var = raw_input(\"enter bool : \")\n",
    "print type(var)\n",
    "var = bool(var)\n",
    "print type(var)"
   ]
  },
  {
   "cell_type": "code",
   "execution_count": null,
   "metadata": {},
   "outputs": [],
   "source": [
    "var = raw_input(\"enter list : \")\n",
    "print type(var)\n",
    "var = complex(var)\n",
    "print type(var)"
   ]
  },
  {
   "cell_type": "code",
   "execution_count": null,
   "metadata": {},
   "outputs": [],
   "source": [
    "var = raw_input(\"enter tuple : \")\n",
    "print type(var)\n",
    "var = complex(var)\n",
    "print type(var)"
   ]
  }
 ],
 "metadata": {
  "kernelspec": {
   "display_name": "Python 2",
   "language": "python",
   "name": "python2"
  },
  "language_info": {
   "codemirror_mode": {
    "name": "ipython",
    "version": 2
   },
   "file_extension": ".py",
   "mimetype": "text/x-python",
   "name": "python",
   "nbconvert_exporter": "python",
   "pygments_lexer": "ipython2",
   "version": "2.7.16"
  }
 },
 "nbformat": 4,
 "nbformat_minor": 2
}
