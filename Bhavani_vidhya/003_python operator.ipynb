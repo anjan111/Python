{
 "cells": [
  {
   "cell_type": "code",
   "execution_count": 4,
   "metadata": {},
   "outputs": [
    {
     "name": "stdout",
     "output_type": "stream",
     "text": [
      "123\n",
      "-45\n",
      "False\n",
      "-13\n",
      "46\n",
      "33\n"
     ]
    }
   ],
   "source": [
    "# operator \n",
    "\n",
    "'''\n",
    "===>> The symbols are used for to do the operations on operands \n",
    "'''\n",
    "\n",
    "# operation\n",
    "'''\n",
    "===>>> Giving the solutions for problams \n",
    "'''\n",
    "# operand \n",
    "'''\n",
    "===>> the data with in the operations \n",
    "'''\n",
    "# The operators are classified based on 2 ways \n",
    "'''\n",
    "1. based on operands \n",
    "\n",
    "----->>> based on no of operands with in the operations\n",
    "\n",
    "        a. unary operator\n",
    "             ---->> operator operating on single operand\n",
    "             \n",
    "        b. binary operator\n",
    "            ---->> operator operating on 2 operands \n",
    "            \n",
    "\n",
    "2. Based on operations\n",
    "\n",
    "    a. arithmetic operator\n",
    "    b. relational operator\n",
    "    c. logical operator\n",
    "    d. assignment operator\n",
    "    e. special operator\n",
    "    d. bitwise operator\n",
    "\n",
    "'''\n",
    "# unary operator\n",
    "\n",
    "print   +123  # 123 --->> operand   , unary plus + ---->> operator\n",
    "print   -45   # unary minus\n",
    "print  not 123# logical not # False\n",
    "print ~12     # bitwise not   --->>   -13\n",
    "\n",
    "# binary operator\n",
    "print 12+34  #  46\n",
    "print 45-12  # 33"
   ]
  },
  {
   "cell_type": "code",
   "execution_count": 6,
   "metadata": {},
   "outputs": [
    {
     "name": "stdout",
     "output_type": "stream",
     "text": [
      "enter int : 47\n",
      "enter int : 3\n",
      "50\n",
      "44\n",
      "141\n",
      "15\n",
      "2\n"
     ]
    }
   ],
   "source": [
    "# arithmetic operator\n",
    "'''\n",
    "--->   + \n",
    "--->   -\n",
    "--->   *\n",
    "--->   /\n",
    "--->   %\n",
    "\n",
    "'''\n",
    "a = input(\"enter int : \")\n",
    "b = input(\"enter int : \")\n",
    "print a+b\n",
    "print a-b\n",
    "print a*b\n",
    "print a/b\n",
    "print a%b"
   ]
  },
  {
   "cell_type": "code",
   "execution_count": 8,
   "metadata": {},
   "outputs": [
    {
     "name": "stdout",
     "output_type": "stream",
     "text": [
      "1000\n"
     ]
    }
   ],
   "source": [
    "# arithmetic operator\n",
    "'''\n",
    "**  --->> power \n",
    "//  --->> floor devision\n",
    "'''\n",
    "print 10**3"
   ]
  },
  {
   "cell_type": "code",
   "execution_count": 9,
   "metadata": {},
   "outputs": [
    {
     "name": "stdout",
     "output_type": "stream",
     "text": [
      "6\n",
      "6\n"
     ]
    }
   ],
   "source": [
    "a = 13\n",
    "b = 2\n",
    "print a/b\n",
    "print a//b"
   ]
  },
  {
   "cell_type": "code",
   "execution_count": 11,
   "metadata": {},
   "outputs": [
    {
     "name": "stdout",
     "output_type": "stream",
     "text": [
      "6.5\n",
      "6.0\n"
     ]
    }
   ],
   "source": [
    "a = 13.0\n",
    "b = 2\n",
    "print a/b\n",
    "print a//b"
   ]
  },
  {
   "cell_type": "code",
   "execution_count": 13,
   "metadata": {},
   "outputs": [
    {
     "name": "stdout",
     "output_type": "stream",
     "text": [
      "False\n",
      "True\n",
      "False\n",
      "True\n",
      "False\n",
      "True\n"
     ]
    }
   ],
   "source": [
    "# relational operators\n",
    "'''\n",
    "===>>compare any two operands\n",
    "\n",
    "< \n",
    ">\n",
    "==\n",
    "!=\n",
    "<=\n",
    ">=\n",
    "'''\n",
    "a =12\n",
    "b =5\n",
    "print a < b  # False\n",
    "print a> b   # True\n",
    "print a == b # False\n",
    "print a !=b  # True\n",
    "print a <= b # False\n",
    "print a >= b # True"
   ]
  },
  {
   "cell_type": "code",
   "execution_count": 15,
   "metadata": {},
   "outputs": [
    {
     "name": "stdout",
     "output_type": "stream",
     "text": [
      "45\n",
      "0\n",
      "[]\n",
      "0\n"
     ]
    }
   ],
   "source": [
    "# boolean data\n",
    "'''\n",
    "True / False\n",
    "'''\n",
    "# int   ---->>    0 ---> False  ,   +ve/-ve  ---> True\n",
    "# float ---->>    0.0 --> False ,  +ve/-ve   ---> True\n",
    "# complex -->     0+0j --> False , oW  ----> True\n",
    "# None   -->> False\n",
    "\n",
    "#str,list,tuple,set,dict  ---> len --> 0  --> false  , ow --> True\n",
    "\n",
    "# logical operator\n",
    "'''\n",
    "==>>> Logical AND    and\n",
    "==>>> LOgical OR     or\n",
    "==>>> Logical NOT    not\n",
    "'''\n",
    "# and \n",
    "\n",
    "'''\n",
    "op1   and op2\n",
    "\n",
    "res ===>>> op1  --->>   when  op1 is False case\n",
    "\n",
    "res ===>>> op2 ---->    when  op1 is True case\n",
    "'''\n",
    "print 10   and 45 #45\n",
    "print  0  and 23  #0\n",
    "print [] and 12   #[]\n",
    "print (12,34) and 0 #0"
   ]
  },
  {
   "cell_type": "code",
   "execution_count": 16,
   "metadata": {},
   "outputs": [
    {
     "name": "stdout",
     "output_type": "stream",
     "text": [
      "10\n",
      "23\n",
      "12\n",
      "(12, 34)\n"
     ]
    }
   ],
   "source": [
    "# or \n",
    "\n",
    "'''\n",
    "op1   or op2\n",
    "\n",
    "res ===>>> op2  --->>   when  op1 is False case\n",
    "\n",
    "res ===>>> op1 ---->    when  op1 is True case\n",
    "'''\n",
    "print 10   or 45 #10\n",
    "print  0  or 23  #23\n",
    "print [] or 12   #12\n",
    "print (12,34) or 0 #(12,34)"
   ]
  },
  {
   "cell_type": "code",
   "execution_count": 18,
   "metadata": {},
   "outputs": [
    {
     "name": "stdout",
     "output_type": "stream",
     "text": [
      "False\n",
      "True\n"
     ]
    }
   ],
   "source": [
    "# logical not \n",
    "'''\n",
    "not   ip1  \n",
    "\n",
    "res ---> True   ,  ip1 ---> False case\n",
    "\n",
    "res ---> False ,   ip1 ---> True case\n",
    "'''\n",
    "print   not 12\n",
    "print  not []"
   ]
  },
  {
   "cell_type": "code",
   "execution_count": null,
   "metadata": {},
   "outputs": [],
   "source": [
    "#  7pm as per ist "
   ]
  }
 ],
 "metadata": {
  "kernelspec": {
   "display_name": "Python 2",
   "language": "python",
   "name": "python2"
  },
  "language_info": {
   "codemirror_mode": {
    "name": "ipython",
    "version": 2
   },
   "file_extension": ".py",
   "mimetype": "text/x-python",
   "name": "python",
   "nbconvert_exporter": "python",
   "pygments_lexer": "ipython2",
   "version": "2.7.16"
  }
 },
 "nbformat": 4,
 "nbformat_minor": 2
}
