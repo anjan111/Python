{
 "cells": [
  {
   "cell_type": "code",
   "execution_count": 4,
   "metadata": {},
   "outputs": [
    {
     "name": "stdout",
     "output_type": "stream",
     "text": [
      "123\n",
      "-45\n",
      "False\n",
      "-13\n",
      "46\n",
      "33\n"
     ]
    }
   ],
   "source": [
    "# operator \n",
    "\n",
    "'''\n",
    "===>> The symbols are used for to do the operations on operands \n",
    "'''\n",
    "\n",
    "# operation\n",
    "'''\n",
    "===>>> Giving the solutions for problams \n",
    "'''\n",
    "# operand \n",
    "'''\n",
    "===>> the data with in the operations \n",
    "'''\n",
    "# The operators are classified based on 2 ways \n",
    "'''\n",
    "1. based on operands \n",
    "\n",
    "----->>> based on no of operands with in the operations\n",
    "\n",
    "        a. unary operator\n",
    "             ---->> operator operating on single operand\n",
    "             \n",
    "        b. binary operator\n",
    "            ---->> operator operating on 2 operands \n",
    "            \n",
    "\n",
    "2. Based on operations\n",
    "\n",
    "    a. arithmetic operator\n",
    "    b. relational operator\n",
    "    c. logical operator\n",
    "    d. assignment operator\n",
    "    e. special operator\n",
    "    d. bitwise operator\n",
    "\n",
    "'''\n",
    "# unary operator\n",
    "\n",
    "print   +123  # 123 --->> operand   , unary plus + ---->> operator\n",
    "print   -45   # unary minus\n",
    "print  not 123# logical not # False\n",
    "print ~12     # bitwise not   --->>   -13\n",
    "\n",
    "# binary operator\n",
    "print 12+34  #  46\n",
    "print 45-12  # 33"
   ]
  },
  {
   "cell_type": "code",
   "execution_count": 6,
   "metadata": {},
   "outputs": [
    {
     "name": "stdout",
     "output_type": "stream",
     "text": [
      "enter int : 47\n",
      "enter int : 3\n",
      "50\n",
      "44\n",
      "141\n",
      "15\n",
      "2\n"
     ]
    }
   ],
   "source": [
    "# arithmetic operator\n",
    "'''\n",
    "--->   + \n",
    "--->   -\n",
    "--->   *\n",
    "--->   /\n",
    "--->   %\n",
    "\n",
    "'''\n",
    "a = input(\"enter int : \")\n",
    "b = input(\"enter int : \")\n",
    "print a+b\n",
    "print a-b\n",
    "print a*b\n",
    "print a/b\n",
    "print a%b"
   ]
  },
  {
   "cell_type": "code",
   "execution_count": 8,
   "metadata": {},
   "outputs": [
    {
     "name": "stdout",
     "output_type": "stream",
     "text": [
      "1000\n"
     ]
    }
   ],
   "source": [
    "# arithmetic operator\n",
    "'''\n",
    "**  --->> power \n",
    "//  --->> floor devision\n",
    "'''\n",
    "print 10**3"
   ]
  },
  {
   "cell_type": "code",
   "execution_count": 9,
   "metadata": {},
   "outputs": [
    {
     "name": "stdout",
     "output_type": "stream",
     "text": [
      "6\n",
      "6\n"
     ]
    }
   ],
   "source": [
    "a = 13\n",
    "b = 2\n",
    "print a/b\n",
    "print a//b"
   ]
  },
  {
   "cell_type": "code",
   "execution_count": 11,
   "metadata": {},
   "outputs": [
    {
     "name": "stdout",
     "output_type": "stream",
     "text": [
      "6.5\n",
      "6.0\n"
     ]
    }
   ],
   "source": [
    "a = 13.0\n",
    "b = 2\n",
    "print a/b\n",
    "print a//b"
   ]
  },
  {
   "cell_type": "code",
   "execution_count": 13,
   "metadata": {},
   "outputs": [
    {
     "name": "stdout",
     "output_type": "stream",
     "text": [
      "False\n",
      "True\n",
      "False\n",
      "True\n",
      "False\n",
      "True\n"
     ]
    }
   ],
   "source": [
    "# relational operators\n",
    "'''\n",
    "===>>compare any two operands\n",
    "\n",
    "< \n",
    ">\n",
    "==\n",
    "!=\n",
    "<=\n",
    ">=\n",
    "'''\n",
    "a =12\n",
    "b =5\n",
    "print a < b  # False\n",
    "print a> b   # True\n",
    "print a == b # False\n",
    "print a !=b  # True\n",
    "print a <= b # False\n",
    "print a >= b # True"
   ]
  },
  {
   "cell_type": "code",
   "execution_count": 15,
   "metadata": {},
   "outputs": [
    {
     "name": "stdout",
     "output_type": "stream",
     "text": [
      "45\n",
      "0\n",
      "[]\n",
      "0\n"
     ]
    }
   ],
   "source": [
    "# boolean data\n",
    "'''\n",
    "True / False\n",
    "'''\n",
    "# int   ---->>    0 ---> False  ,   +ve/-ve  ---> True\n",
    "# float ---->>    0.0 --> False ,  +ve/-ve   ---> True\n",
    "# complex -->     0+0j --> False , oW  ----> True\n",
    "# None   -->> False\n",
    "\n",
    "#str,list,tuple,set,dict  ---> len --> 0  --> false  , ow --> True\n",
    "\n",
    "# logical operator\n",
    "'''\n",
    "==>>> Logical AND    and\n",
    "==>>> LOgical OR     or\n",
    "==>>> Logical NOT    not\n",
    "'''\n",
    "# and \n",
    "\n",
    "'''\n",
    "op1   and op2\n",
    "\n",
    "res ===>>> op1  --->>   when  op1 is False case\n",
    "\n",
    "res ===>>> op2 ---->    when  op1 is True case\n",
    "'''\n",
    "print 10   and 45 #45\n",
    "print  0  and 23  #0\n",
    "print [] and 12   #[]\n",
    "print (12,34) and 0 #0"
   ]
  },
  {
   "cell_type": "code",
   "execution_count": 16,
   "metadata": {},
   "outputs": [
    {
     "name": "stdout",
     "output_type": "stream",
     "text": [
      "10\n",
      "23\n",
      "12\n",
      "(12, 34)\n"
     ]
    }
   ],
   "source": [
    "# or \n",
    "\n",
    "'''\n",
    "op1   or op2\n",
    "\n",
    "res ===>>> op2  --->>   when  op1 is False case\n",
    "\n",
    "res ===>>> op1 ---->    when  op1 is True case\n",
    "'''\n",
    "print 10   or 45 #10\n",
    "print  0  or 23  #23\n",
    "print [] or 12   #12\n",
    "print (12,34) or 0 #(12,34)"
   ]
  },
  {
   "cell_type": "code",
   "execution_count": 18,
   "metadata": {},
   "outputs": [
    {
     "name": "stdout",
     "output_type": "stream",
     "text": [
      "False\n",
      "True\n"
     ]
    }
   ],
   "source": [
    "# logical not \n",
    "'''\n",
    "not   ip1  \n",
    "\n",
    "res ---> True   ,  ip1 ---> False case\n",
    "\n",
    "res ---> False ,   ip1 ---> True case\n",
    "'''\n",
    "print   not 12\n",
    "print  not []"
   ]
  },
  {
   "cell_type": "code",
   "execution_count": 1,
   "metadata": {},
   "outputs": [
    {
     "name": "stdout",
     "output_type": "stream",
     "text": [
      "True\n",
      "False\n",
      "False\n",
      "True\n"
     ]
    }
   ],
   "source": [
    "# special operator\n",
    "'''\n",
    "==>> membership operator\n",
    " ====>>> to check the one elements is available with in other seq\n",
    " \n",
    " True / False\n",
    " \n",
    " in   ---->>>  True ---> available\n",
    "                 False--> not available\n",
    " \n",
    " \n",
    " not in ---->> False  --->  available\n",
    "            True    ---->  not available\n",
    " \n",
    " \n",
    "\n",
    "==>> identity operator\n",
    "\n",
    "===>> to check the memory loc is same or not\n",
    "\n",
    "True / False\n",
    "\n",
    "1. is   ---->> True  ---> same mempry loc\n",
    "                False --> not same\n",
    "\n",
    "2. is not -->> False --->> same memory loc\n",
    "                True --->> not same\n",
    "'''\n",
    "a = 12\n",
    "b = [56,12,34]\n",
    "c = 100\n",
    "\n",
    "print a in b  # True\n",
    "print c in b  # False\n",
    "print a not in b # False\n",
    "print c not in b # True\n"
   ]
  },
  {
   "cell_type": "code",
   "execution_count": 4,
   "metadata": {},
   "outputs": [
    {
     "name": "stdout",
     "output_type": "stream",
     "text": [
      "a :  [1, 2, 3, 4]  memory :  75767880\n",
      "b :  [1, 2, 3, 4]  memory :  75768200\n",
      "c :  [1, 2, 3, 4]  memory :  75768200\n",
      "False\n",
      "True\n",
      "True\n",
      "False\n"
     ]
    }
   ],
   "source": [
    "a = [1,2,3,4]\n",
    "b = [1,2,3,4]\n",
    "c = b\n",
    "print \"a : \",a, \" memory : \",id(a)\n",
    "print \"b : \",b, \" memory : \",id(b)\n",
    "print \"c : \",c, \" memory : \",id(c)\n",
    "print a is b # False\n",
    "print b is c #  True\n",
    "print a is not b # True\n",
    "print b is not c # False"
   ]
  },
  {
   "cell_type": "code",
   "execution_count": 7,
   "metadata": {},
   "outputs": [
    {
     "name": "stdout",
     "output_type": "stream",
     "text": [
      "75767880\n"
     ]
    }
   ],
   "source": [
    "print id(a)"
   ]
  },
  {
   "cell_type": "code",
   "execution_count": 9,
   "metadata": {},
   "outputs": [
    {
     "data": {
      "text/plain": [
       "46232672L"
      ]
     },
     "execution_count": 9,
     "metadata": {},
     "output_type": "execute_result"
    }
   ],
   "source": [
    "########  memory ---> identity --->> number ---> int --->> L\n",
    "a =2\n",
    "id(a)"
   ]
  },
  {
   "cell_type": "code",
   "execution_count": 10,
   "metadata": {},
   "outputs": [
    {
     "name": "stdout",
     "output_type": "stream",
     "text": [
      "12\n",
      "12\n",
      "133\n"
     ]
    }
   ],
   "source": [
    "# assignment operator\n",
    "'''\n",
    "to assign the data from left side o right side\n",
    "'''\n",
    "\n",
    "var = 12   # constant to varaible\n",
    "print var\n",
    "\n",
    "b = var  # variable to variable\n",
    "print b\n",
    "\n",
    "c = b*var+12-23 # expression to variable\n",
    "print c"
   ]
  },
  {
   "cell_type": "code",
   "execution_count": 2,
   "metadata": {},
   "outputs": [
    {
     "name": "stdout",
     "output_type": "stream",
     "text": [
      "11\n",
      "31\n"
     ]
    }
   ],
   "source": [
    "#bitwise operator\n",
    "'''\n",
    "===> which are operating on bits of your inputs \n",
    "1. bitwise or\n",
    "2. bitwise and\n",
    "3. bitwise xor\n",
    "4. bitwise not\n",
    "5. bitwise leftshift\n",
    "6. bitwise rightshift\n",
    "'''\n",
    "# procedure\n",
    "'''\n",
    "1. input decimal  ---->>> binary input\n",
    "2. we have to do the operation on bits \n",
    "3. binary result  ----->>  decimal result\n",
    "'''\n",
    "# bitwise or   |\n",
    "print  10  | 9\n",
    "print  23  |12"
   ]
  },
  {
   "cell_type": "code",
   "execution_count": 3,
   "metadata": {},
   "outputs": [
    {
     "name": "stdout",
     "output_type": "stream",
     "text": [
      "0\n",
      "8\n"
     ]
    }
   ],
   "source": [
    "# bitwise and &\n",
    "print 12  & 3 #0\n",
    "print  12 & 10#8"
   ]
  },
  {
   "cell_type": "code",
   "execution_count": 5,
   "metadata": {},
   "outputs": [
    {
     "name": "stdout",
     "output_type": "stream",
     "text": [
      "15\n",
      "6\n"
     ]
    }
   ],
   "source": [
    "# bitwise xor   ^\n",
    "'''\n",
    "0  0 ----->>>  0\n",
    "0  1 ----->>>  1\n",
    "1  0 ----->>>  1\n",
    "1  1 ----->>>> 0\n",
    "'''\n",
    "print 12 ^  3 # 15\n",
    "print 12 ^  10# 6"
   ]
  },
  {
   "cell_type": "code",
   "execution_count": 7,
   "metadata": {},
   "outputs": [
    {
     "name": "stdout",
     "output_type": "stream",
     "text": [
      "96\n",
      "448\n"
     ]
    }
   ],
   "source": [
    "# bitwise leftshift\n",
    "'''\n",
    "num << bit\n",
    "num ===>> binary \n",
    "num << bit ==>>  binary + put bit no of zeros\n",
    "\n",
    "'''\n",
    "print 12 << 3\n",
    "print 14 << 5"
   ]
  },
  {
   "cell_type": "code",
   "execution_count": 8,
   "metadata": {},
   "outputs": [
    {
     "name": "stdout",
     "output_type": "stream",
     "text": [
      "3\n",
      "3\n"
     ]
    }
   ],
   "source": [
    "# bitwise right shift   >>\n",
    "'''\n",
    "num  >> bit\n",
    "\n",
    "remove the right side bits \n",
    "'''\n",
    "print 14 >> 2\n",
    "print 123 >> 5"
   ]
  },
  {
   "cell_type": "code",
   "execution_count": 12,
   "metadata": {},
   "outputs": [
    {
     "name": "stdout",
     "output_type": "stream",
     "text": [
      "-5\n",
      "-7\n",
      "-121\n"
     ]
    }
   ],
   "source": [
    "# bitwise not\n",
    "print ~ 4\n",
    "print ~ 6\n",
    "print ~120"
   ]
  },
  {
   "cell_type": "code",
   "execution_count": null,
   "metadata": {},
   "outputs": [],
   "source": [
    "# control statement"
   ]
  }
 ],
 "metadata": {
  "kernelspec": {
   "display_name": "Python 2",
   "language": "python",
   "name": "python2"
  },
  "language_info": {
   "codemirror_mode": {
    "name": "ipython",
    "version": 2
   },
   "file_extension": ".py",
   "mimetype": "text/x-python",
   "name": "python",
   "nbconvert_exporter": "python",
   "pygments_lexer": "ipython2",
   "version": "2.7.16"
  }
 },
 "nbformat": 4,
 "nbformat_minor": 2
}
