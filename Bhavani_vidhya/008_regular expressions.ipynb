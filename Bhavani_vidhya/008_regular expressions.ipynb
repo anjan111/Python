{
 "cells": [
  {
   "cell_type": "code",
   "execution_count": 1,
   "metadata": {},
   "outputs": [
    {
     "name": "stdout",
     "output_type": "stream",
     "text": [
      "<_sre.SRE_Match object at 0x00000000045055E0>\n"
     ]
    }
   ],
   "source": [
    "# regular expression\n",
    "'''\n",
    "=>> Which is pattern\n",
    "=>> which pattern can perodically available with in the files\n",
    "'''\n",
    "# why we need use it\n",
    "'''\n",
    "==>>for delete the same pattern strings with in the files\n",
    "==>>for replace the same pattern strings with in the files\n",
    "==>>to know the same pattern strings with in the files\n",
    "==>> to extract the daata\n",
    "'''\n",
    "# pre defined re module is used for to  do the regular expression\n",
    "'''\n",
    "search()-->> to extract pattern with in the string it can chack whole str\n",
    "match   -->> to extract pattern with in the string it can check only BOF\n",
    "findall()-->> to extract all existing pattern\n",
    "sub() ---->> to replace the pattern\n",
    "compile() -->> to create the pattern object\n",
    "'''\n",
    "import re\n",
    "tar = \"i am anjan kumar \"\n",
    "print re.search(\"anjan\",tar)"
   ]
  },
  {
   "cell_type": "code",
   "execution_count": 2,
   "metadata": {},
   "outputs": [
    {
     "name": "stdout",
     "output_type": "stream",
     "text": [
      "None\n"
     ]
    }
   ],
   "source": [
    "import re\n",
    "tar = \"i am anjan kumar \"\n",
    "print re.search(\"anjan1\",tar)"
   ]
  },
  {
   "cell_type": "code",
   "execution_count": 3,
   "metadata": {},
   "outputs": [
    {
     "name": "stdout",
     "output_type": "stream",
     "text": [
      "anjan\n"
     ]
    }
   ],
   "source": [
    "import re\n",
    "tar = \"i am anjan kumar \"\n",
    "print re.search(\"anjan\",tar).group()"
   ]
  },
  {
   "cell_type": "code",
   "execution_count": 4,
   "metadata": {},
   "outputs": [
    {
     "name": "stdout",
     "output_type": "stream",
     "text": [
      "<_sre.SRE_Match object at 0x00000000045058B8>\n"
     ]
    }
   ],
   "source": [
    "import re\n",
    "tar = \"i am anjan kumar \"\n",
    "ptr = re.compile(\"anjan\")\n",
    "print ptr.search(tar)"
   ]
  },
  {
   "cell_type": "code",
   "execution_count": 5,
   "metadata": {},
   "outputs": [
    {
     "name": "stdout",
     "output_type": "stream",
     "text": [
      "anjan\n"
     ]
    }
   ],
   "source": [
    "import re\n",
    "tar = \"i am anjan kumar \"\n",
    "ptr = re.compile(\"anjan\")\n",
    "print ptr.search(tar).group()"
   ]
  },
  {
   "cell_type": "code",
   "execution_count": 6,
   "metadata": {},
   "outputs": [
    {
     "name": "stdout",
     "output_type": "stream",
     "text": [
      "None\n"
     ]
    }
   ],
   "source": [
    "import re\n",
    "tar = \"i am anjan kumar \"\n",
    "ptr = re.compile(\"anjan\")\n",
    "print ptr.match(tar)"
   ]
  },
  {
   "cell_type": "code",
   "execution_count": 12,
   "metadata": {},
   "outputs": [
    {
     "name": "stdout",
     "output_type": "stream",
     "text": [
      "<_sre.SRE_Match object at 0x0000000004650C60>\n",
      "anjan\n"
     ]
    }
   ],
   "source": [
    "import re\n",
    "tar = \"anjanjnfji am anjan kumar \"\n",
    "ptr = re.compile(\"anjan\")\n",
    "print ptr.match(tar)\n",
    "print ptr.match(tar).group()"
   ]
  },
  {
   "cell_type": "code",
   "execution_count": 9,
   "metadata": {},
   "outputs": [
    {
     "name": "stdout",
     "output_type": "stream",
     "text": [
      "None\n"
     ]
    }
   ],
   "source": [
    "import re\n",
    "tar = \"i am anjan kumar \"\n",
    "print re.match(\"anjan\",tar)"
   ]
  },
  {
   "cell_type": "code",
   "execution_count": 11,
   "metadata": {},
   "outputs": [
    {
     "name": "stdout",
     "output_type": "stream",
     "text": [
      "<_sre.SRE_Match object at 0x0000000004650C60>\n",
      "anjan\n"
     ]
    }
   ],
   "source": [
    "import re\n",
    "tar = \"anjani am anjan kumar \"\n",
    "print re.match(\"anjan\",tar)\n",
    "print re.match(\"anjan\",tar).group()"
   ]
  },
  {
   "cell_type": "code",
   "execution_count": 13,
   "metadata": {},
   "outputs": [
    {
     "name": "stdout",
     "output_type": "stream",
     "text": [
      "['anjan', 'anjan', 'anjan']\n"
     ]
    }
   ],
   "source": [
    "import re\n",
    "tar = \"anjani am anjan kumarkdk anjan \"\n",
    "print re.findall(\"anjan\",tar)"
   ]
  },
  {
   "cell_type": "code",
   "execution_count": 15,
   "metadata": {},
   "outputs": [
    {
     "name": "stdout",
     "output_type": "stream",
     "text": [
      "['anjan', 'anjan', 'anjan']\n"
     ]
    }
   ],
   "source": [
    "import re\n",
    "tar = \"anjani am anjan kumarkdk anjan \"\n",
    "ptr = re.compile(\"anjan\")\n",
    "print ptr.findall(tar)"
   ]
  },
  {
   "cell_type": "code",
   "execution_count": 17,
   "metadata": {},
   "outputs": [
    {
     "name": "stdout",
     "output_type": "stream",
     "text": [
      "ANJANi am ANJAN kumarkdk ANJAN \n"
     ]
    }
   ],
   "source": [
    "import re\n",
    "tar = \"anjani am anjan kumarkdk anjan \"\n",
    "ptr = re.compile(\"anjan\")\n",
    "print ptr.sub(\"ANJAN\",tar)"
   ]
  },
  {
   "cell_type": "code",
   "execution_count": 18,
   "metadata": {},
   "outputs": [
    {
     "name": "stdout",
     "output_type": "stream",
     "text": [
      "ANJANi am ANJAN kumarkdk ANJAN \n"
     ]
    }
   ],
   "source": [
    "import re\n",
    "tar = \"anjani am anjan kumarkdk anjan \"\n",
    "\n",
    "print re.sub(\"anjan\",\"ANJAN\",tar)"
   ]
  },
  {
   "cell_type": "code",
   "execution_count": 8,
   "metadata": {},
   "outputs": [
    {
     "name": "stdout",
     "output_type": "stream",
     "text": [
      "['fan', '1an', '&an', ' an']\n"
     ]
    }
   ],
   "source": [
    "# special character \n",
    "'''\n",
    ". ----->>>>   match any single character ( digits / alphabts /special characters)\n",
    "*---->>> 0 or more than 0\n",
    "? ---->> 0 or 1 time\n",
    "+ --->> 1 or more than 1\n",
    "\\d---->> Match only single digit\n",
    "\\D --->> match any single character except digit\n",
    "\\w--->> mathc any single digit or any  single aplhabets \n",
    "\\W--->> match any single special character\n",
    "\\s---> Match only single space\n",
    "\\S-->> Match any single character except space\n",
    "[]--> match only single character in between square brackets \n",
    "{}-->match specific no of times\n",
    "'''\n",
    "import re\n",
    "tar = \"fan 88 1an &an jjk an\"\n",
    "ptr = re.compile(r'.an')\n",
    "print ptr.findall(tar)"
   ]
  },
  {
   "cell_type": "code",
   "execution_count": 2,
   "metadata": {},
   "outputs": [
    {
     "name": "stdout",
     "output_type": "stream",
     "text": [
      "['1an']\n"
     ]
    }
   ],
   "source": [
    "import re\n",
    "tar = \"fan 88 1an &an jjk\"\n",
    "ptr = re.compile(r'\\dan')\n",
    "print ptr.findall(tar)"
   ]
  },
  {
   "cell_type": "code",
   "execution_count": 3,
   "metadata": {},
   "outputs": [
    {
     "name": "stdout",
     "output_type": "stream",
     "text": [
      "['fan', '&an']\n"
     ]
    }
   ],
   "source": [
    "import re\n",
    "tar = \"fan 88 1an &an jjk\"\n",
    "ptr = re.compile(r'\\Dan')\n",
    "print ptr.findall(tar)"
   ]
  },
  {
   "cell_type": "code",
   "execution_count": 4,
   "metadata": {},
   "outputs": [
    {
     "name": "stdout",
     "output_type": "stream",
     "text": [
      "['fan', '1an']\n"
     ]
    }
   ],
   "source": [
    "import re\n",
    "tar = \"fan 88 1an &an jjk\"\n",
    "ptr = re.compile(r'\\wan')\n",
    "print ptr.findall(tar)"
   ]
  },
  {
   "cell_type": "code",
   "execution_count": 5,
   "metadata": {},
   "outputs": [
    {
     "name": "stdout",
     "output_type": "stream",
     "text": [
      "['&an']\n"
     ]
    }
   ],
   "source": [
    "import re\n",
    "tar = \"fan 88 1an &an jjk\"\n",
    "ptr = re.compile(r'\\Wan')\n",
    "print ptr.findall(tar)"
   ]
  },
  {
   "cell_type": "code",
   "execution_count": 6,
   "metadata": {},
   "outputs": [
    {
     "name": "stdout",
     "output_type": "stream",
     "text": [
      "[' an']\n"
     ]
    }
   ],
   "source": [
    "import re\n",
    "tar = \"fan 88 1an &an jjk  an\"\n",
    "ptr = re.compile(r'\\san')\n",
    "print ptr.findall(tar)"
   ]
  },
  {
   "cell_type": "code",
   "execution_count": 10,
   "metadata": {},
   "outputs": [
    {
     "name": "stdout",
     "output_type": "stream",
     "text": [
      "['fan', '1an', '&an']\n"
     ]
    }
   ],
   "source": [
    "import re\n",
    "tar = \"fan 88 1an &an jjk an\"\n",
    "ptr = re.compile(r'\\San')\n",
    "print ptr.findall(tar)"
   ]
  },
  {
   "cell_type": "code",
   "execution_count": 12,
   "metadata": {},
   "outputs": [
    {
     "name": "stdout",
     "output_type": "stream",
     "text": [
      "['fan']\n"
     ]
    }
   ],
   "source": [
    "import re\n",
    "tar = \"fan 88 1an &an jjk an\"\n",
    "ptr = re.compile(r'[a-z]an')\n",
    "print ptr.findall(tar)"
   ]
  },
  {
   "cell_type": "code",
   "execution_count": 14,
   "metadata": {},
   "outputs": [
    {
     "name": "stdout",
     "output_type": "stream",
     "text": [
      "['1an']\n"
     ]
    }
   ],
   "source": [
    "import re\n",
    "tar = \"fan 88 1an &an jjk an\"\n",
    "ptr = re.compile(r'[0-9]an')\n",
    "print ptr.findall(tar)"
   ]
  },
  {
   "cell_type": "code",
   "execution_count": 15,
   "metadata": {},
   "outputs": [
    {
     "name": "stdout",
     "output_type": "stream",
     "text": [
      "['&an', ' an']\n"
     ]
    }
   ],
   "source": [
    "import re\n",
    "tar = \"fan 88 1an &an jjk an\"\n",
    "ptr = re.compile(r'[@#! &]an')\n",
    "print ptr.findall(tar)"
   ]
  },
  {
   "cell_type": "code",
   "execution_count": 17,
   "metadata": {},
   "outputs": [
    {
     "name": "stdout",
     "output_type": "stream",
     "text": [
      "['&an']\n"
     ]
    }
   ],
   "source": [
    "import re\n",
    "tar = \"fan 88 1an &an jjk an\"\n",
    "ptr = re.compile(r'[@#!&]an')\n",
    "print ptr.findall(tar)"
   ]
  },
  {
   "cell_type": "code",
   "execution_count": 19,
   "metadata": {},
   "outputs": [
    {
     "name": "stdout",
     "output_type": "stream",
     "text": [
      "['fan', '1an', '&an', ' an']\n"
     ]
    }
   ],
   "source": [
    "import re\n",
    "tar = \"fan 88 1an &an jjk an\"\n",
    "ptr = re.compile(r'[a-z0-9)(*&^%$$#@!~@#! &]an')\n",
    "print ptr.findall(tar)"
   ]
  },
  {
   "cell_type": "code",
   "execution_count": 21,
   "metadata": {},
   "outputs": [
    {
     "name": "stdout",
     "output_type": "stream",
     "text": [
      "['88564']\n"
     ]
    }
   ],
   "source": [
    "import re\n",
    "tar = \"fan 88564 1an &an jjk an\"\n",
    "ptr = re.compile(r'\\d{5}')\n",
    "print ptr.findall(tar)"
   ]
  },
  {
   "cell_type": "code",
   "execution_count": 25,
   "metadata": {},
   "outputs": [
    {
     "name": "stdout",
     "output_type": "stream",
     "text": [
      "['885', '645']\n"
     ]
    }
   ],
   "source": [
    "import re\n",
    "tar = \"fan 88564561 1an &an jjk an\"\n",
    "ptr = re.compile(r'\\d{3}')\n",
    "print ptr.findall(tar)"
   ]
  },
  {
   "cell_type": "code",
   "execution_count": 27,
   "metadata": {},
   "outputs": [
    {
     "name": "stdout",
     "output_type": "stream",
     "text": [
      "['885', '645', '61']\n"
     ]
    }
   ],
   "source": [
    "import re\n",
    "tar = \"fan 88564561 1an &an jjk an\"\n",
    "ptr = re.compile(r'\\d{2,3}')\n",
    "print ptr.findall(tar)"
   ]
  },
  {
   "cell_type": "code",
   "execution_count": 29,
   "metadata": {},
   "outputs": [
    {
     "name": "stdout",
     "output_type": "stream",
     "text": [
      "['', '', '', '', '88564561', '', '1', '', '', '', '', '', '', '', '', '', '', '', '', '', '']\n"
     ]
    }
   ],
   "source": [
    "import re\n",
    "tar = \"fan 88564561 1an &an jjk an\"\n",
    "ptr = re.compile(r'\\d*')# before character repeates 0 or more than 0\n",
    "print ptr.findall(tar)"
   ]
  },
  {
   "cell_type": "code",
   "execution_count": 31,
   "metadata": {},
   "outputs": [
    {
     "name": "stdout",
     "output_type": "stream",
     "text": [
      "['faaan', '1aan', '&an', ' n']\n"
     ]
    }
   ],
   "source": [
    "import re\n",
    "tar = \"faaann 88564561 1aan &an jjk  n\"\n",
    "ptr = re.compile(r'.a*n')\n",
    "print ptr.findall(tar)"
   ]
  },
  {
   "cell_type": "code",
   "execution_count": 33,
   "metadata": {},
   "outputs": [
    {
     "name": "stdout",
     "output_type": "stream",
     "text": [
      "['faaan', '1aan', '&an']\n"
     ]
    }
   ],
   "source": [
    "import re\n",
    "tar = \"faaann 88564561 1aan &an jjk  n\"\n",
    "ptr = re.compile(r'.a+n')# before character repeates 1 or more than 1\n",
    "print ptr.findall(tar)"
   ]
  },
  {
   "cell_type": "code",
   "execution_count": 35,
   "metadata": {},
   "outputs": [
    {
     "name": "stdout",
     "output_type": "stream",
     "text": [
      "['san', '2an', '&an', ' n']\n"
     ]
    }
   ],
   "source": [
    "import re\n",
    "tar = \"fasann 88564561 12an &an jjk  n\"\n",
    "ptr = re.compile(r'.a?n')# before character exists 0 ro 1 time\n",
    "print ptr.findall(tar)"
   ]
  },
  {
   "cell_type": "code",
   "execution_count": null,
   "metadata": {},
   "outputs": [],
   "source": [
    "# wap find the phone numbers and mail ids from a file "
   ]
  }
 ],
 "metadata": {
  "kernelspec": {
   "display_name": "Python 2",
   "language": "python",
   "name": "python2"
  },
  "language_info": {
   "codemirror_mode": {
    "name": "ipython",
    "version": 2
   },
   "file_extension": ".py",
   "mimetype": "text/x-python",
   "name": "python",
   "nbconvert_exporter": "python",
   "pygments_lexer": "ipython2",
   "version": "2.7.16"
  }
 },
 "nbformat": 4,
 "nbformat_minor": 2
}
