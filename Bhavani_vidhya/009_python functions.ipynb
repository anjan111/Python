{
 "cells": [
  {
   "cell_type": "code",
   "execution_count": null,
   "metadata": {},
   "outputs": [],
   "source": [
    "# function\n",
    "'''\n",
    "collection of statements to do any one specific task with in the program\n",
    "'''\n",
    "# types of functions \n",
    "'''\n",
    "-->> pre defined function \n",
    "-->> user defined function\n",
    "        -->> the functions are defined by program\n",
    "        \n",
    "1. function defination\n",
    "\n",
    "def function_name():\n",
    "    Task\n",
    "    ------\n",
    "    ------\n",
    "    \n",
    "2. function call\n",
    "\n",
    "---->> function_name()\n",
    "\n",
    "'''\n",
    "# wap print your full details \n",
    "print \"name : anjan\"\n",
    "print \"mail : anjan@gmail.com\"\n",
    "print \"phone: 966235654\"\n",
    "print \"**********\"\n",
    "print \"fnkkfg\"\n",
    "print \"name : anjan\"\n",
    "print \"mail : anjan@gmail.com\"\n",
    "print \"phone: 966235654\""
   ]
  },
  {
   "cell_type": "code",
   "execution_count": null,
   "metadata": {},
   "outputs": [],
   "source": [
    "def full_details():\n",
    "    print \"name : anjan\"\n",
    "    print \"mail : anjan@gmail.com\"\n",
    "    print \"phone: 966235654\"\n",
    "print \"**********\"\n",
    "print \"fnkkfg\""
   ]
  },
  {
   "cell_type": "code",
   "execution_count": null,
   "metadata": {},
   "outputs": [],
   "source": [
    "def full_details():\n",
    "    print \"name : anjan\"\n",
    "    print \"mail : anjan@gmail.com\"\n",
    "    print \"phone: 966235654\"\n",
    "full_details()\n",
    "print \"**********\"\n",
    "print \"fnkkfg\"\n",
    "full_details()\n",
    "full_details()"
   ]
  },
  {
   "cell_type": "code",
   "execution_count": null,
   "metadata": {},
   "outputs": [],
   "source": [
    "def full_details():\n",
    "    print \"name : anjan\"\n",
    "    print \"mail : anjan@gmail.com\"\n",
    "    print \"phone: 966235654\"\n",
    "def main():\n",
    "    full_details()\n",
    "    print \"**********\"\n",
    "    print \"fnkkfg\"\n",
    "    full_details()\n",
    "if __name__ == \"__main__\":\n",
    "    main()"
   ]
  },
  {
   "cell_type": "code",
   "execution_count": null,
   "metadata": {},
   "outputs": [],
   "source": [
    "def full_details():\n",
    "    print \"name : anjan\"\n",
    "    print \"mail : anjan@gmail.com\"\n",
    "    print \"phone: 966235654\"\n",
    "\n",
    "if __name__ == \"__main__\":\n",
    "    \n",
    "    full_details()\n",
    "    print \"**********\"\n",
    "    print \"fnkkfg\"\n",
    "    full_details()"
   ]
  },
  {
   "cell_type": "code",
   "execution_count": null,
   "metadata": {},
   "outputs": [],
   "source": [
    "# python file name --->> sample.py\n",
    "\n",
    "#__name__ --->> internally  having __main__ ---> all files\n",
    "#__name__ --->> outside is ----->> sample "
   ]
  },
  {
   "cell_type": "code",
   "execution_count": null,
   "metadata": {},
   "outputs": [],
   "source": [
    "# arguments \n",
    "def full_details(a1,a2,a3):#formal arguments\n",
    "    print a1\n",
    "    print a2\n",
    "    print a3\n",
    "    print \"name : anjan\"\n",
    "    print \"mail : anjan@gmail.com\"\n",
    "    print \"phone: 966235654\"\n",
    "def main():\n",
    "    a =34\n",
    "    full_details(12,a,34*a+2 )# actual arguments\n",
    "    print \"**********\"\n",
    "    print \"fnkkfg\"\n",
    "    full_details()\n",
    "if __name__ == \"__main__\":\n",
    "    main()"
   ]
  },
  {
   "cell_type": "code",
   "execution_count": null,
   "metadata": {},
   "outputs": [],
   "source": [
    "# default arguments \n",
    "def full_details(a1=None,a2=100,a3=\"hello\"):#formal arguments\n",
    "    print a1\n",
    "    print a2\n",
    "    print a3\n",
    "    print \"name : anjan\"\n",
    "    print \"mail : anjan@gmail.com\"\n",
    "    print \"phone: 966235654\"\n",
    "def main():\n",
    "    a =34\n",
    "    full_details(12,a,34*a+2 )# actual arguments\n",
    "    print \"**********\"\n",
    "    print \"fnkkfg\"\n",
    "    full_details()\n",
    "if __name__ == \"__main__\":\n",
    "    main()"
   ]
  },
  {
   "cell_type": "code",
   "execution_count": null,
   "metadata": {},
   "outputs": [],
   "source": [
    "# return \n",
    "def full_details():#formal arguments\n",
    "    print \"full_details function\"\n",
    "    return \"i am returning from full_details\"\n",
    "def main():\n",
    "    print \"main\"\n",
    "    return\n",
    "    full_details()\n",
    "if __name__ == \"__main__\":\n",
    "    main()"
   ]
  },
  {
   "cell_type": "code",
   "execution_count": null,
   "metadata": {},
   "outputs": [],
   "source": [
    "# return \n",
    "def full_details():#formal arguments\n",
    "    print \"full_details function\"\n",
    "    return \"i am returning from full_details\"\n",
    "def main():\n",
    "    print \"main\"\n",
    "    \n",
    "    data = full_details()\n",
    "    print data\n",
    "if __name__ == \"__main__\":\n",
    "    main()"
   ]
  },
  {
   "cell_type": "code",
   "execution_count": null,
   "metadata": {},
   "outputs": [],
   "source": [
    "# wap find the prime factorial from 10  to 30\n",
    "def is_prime(num =None):\n",
    "    if(isinstance(num,int)):\n",
    "        for i in range(2,num):\n",
    "            if(num%i == 0):\n",
    "                return False\n",
    "        else:  \n",
    "            return True\n",
    "    else: \n",
    "        return False\n",
    "def factorial(num =None):\n",
    "    if(isinstance(num,int)):\n",
    "        if(num >= 0):\n",
    "            fact =1\n",
    "            for i in range(2,num+1):\n",
    "                fact = fact * i\n",
    "            else:\n",
    "                return fact\n",
    "        else:\n",
    "            None\n",
    "    else:\n",
    "        return None\n",
    "def main():\n",
    "    n1 = input(\"enter starting range : \")\n",
    "    n2 = input(\"enter your stop range : \")\n",
    "    if(isinstance(n1,int) and isinstance(n2,int)):\n",
    "        list = range(n1,n2+1)\n",
    "    else:\n",
    "        print \"n1 and n2 are must ne int : \"\n",
    "        n1 = input(\"enter starting range : \")\n",
    "        n2 = input(\"enter your stop range : \")\n",
    "        list = range(n1,n2+1)\n",
    "    for num in list:\n",
    "        prime = is_prime(num)\n",
    "        if(prime == True):\n",
    "            fact = factorial(num)\n",
    "            print num,\" ! = \",fact\n",
    "if __name__ == \"__main__\":\n",
    "    main()"
   ]
  },
  {
   "cell_type": "code",
   "execution_count": 2,
   "metadata": {},
   "outputs": [
    {
     "name": "stdout",
     "output_type": "stream",
     "text": [
      "[2, 2, 3, 5]\n",
      "60\n"
     ]
    }
   ],
   "source": [
    "def fun(n1,n2):\n",
    "    list = []\n",
    "    while(True):\n",
    "        if(n1 < n2):\n",
    "            num = n2\n",
    "        elif(n1 > n2):\n",
    "            num = n1\n",
    "        if(n1 == 1 and n2 ==1):\n",
    "            print list\n",
    "            res = 1\n",
    "            for i in list:\n",
    "                res = res * i\n",
    "            else:\n",
    "                print res\n",
    "            break\n",
    "        for i in range(2,num+1):\n",
    "                if(n1%i == 0 and n2%i ==0):\n",
    "                    list.append(i)\n",
    "                    n1 = n1/i\n",
    "                    n2 = n2/i\n",
    "                    break\n",
    "                elif(n1%i == 0):\n",
    "                    list.append(i)\n",
    "                    n1 = n1/i\n",
    "                    break\n",
    "                elif(n2%i == 0):\n",
    "                    list.append(i)\n",
    "                    n2 = n2/i\n",
    "                    break\n",
    "\n",
    "fun(12,15)"
   ]
  },
  {
   "cell_type": "code",
   "execution_count": null,
   "metadata": {},
   "outputs": [],
   "source": []
  }
 ],
 "metadata": {
  "kernelspec": {
   "display_name": "Python 2",
   "language": "python",
   "name": "python2"
  },
  "language_info": {
   "codemirror_mode": {
    "name": "ipython",
    "version": 2
   },
   "file_extension": ".py",
   "mimetype": "text/x-python",
   "name": "python",
   "nbconvert_exporter": "python",
   "pygments_lexer": "ipython2",
   "version": "2.7.16"
  }
 },
 "nbformat": 4,
 "nbformat_minor": 2
}
