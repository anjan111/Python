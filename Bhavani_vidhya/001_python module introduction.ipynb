{
 "cells": [
  {
   "cell_type": "markdown",
   "metadata": {},
   "source": [
    "#### module :-\n",
    "\n",
    "--->> Any python file is a module  ( .py )\n",
    "\n",
    "--->> Collections of function defination with in a python file\n",
    "\n",
    "\n",
    "#### package:-\n",
    "\n",
    "--->> It is a folder \n",
    "\n",
    "--->> Collection of modules  with in a folder \n",
    "\n",
    "##### Types of modules and packages\n",
    "\n",
    "--->> 1. Pre defined Module and packages\n",
    "\n",
    "        -->> whatever the modules and packages are already available with in python ide\n",
    "        \n",
    "        -->>  math ,  os, cmath, time , ctypes , socket, tkinter , threading \n",
    "\n",
    "--->> 2. Semi pre defined Module and packages\n",
    "\n",
    "        -->> this are not defined inside of python\n",
    "        \n",
    "        -->> this are not defined by programmer\n",
    "        \n",
    "        -->> this all  are defined by some others , they are give the permission to install in your python ide\n",
    "        \n",
    "        -->> then we can use same like pre defined module and packages\n",
    "        \n",
    "        -->> numpy , pandas, matplotlib , sklearn , open cv\n",
    "\n",
    "--->> 3. User defined Module and packages\n",
    "\n",
    "        -->> which are defined by programmer \n",
    "        \n",
    "        -->> we can use only in your computer\n",
    "        \n",
    "#### importance of module and pacakges \n",
    "\n",
    "        -->> we can reduce the code size\n",
    "        \n",
    "        -->> we can reuse the code\n",
    "        \n",
    "##### how we can use these modules and pacakges \n",
    "\n",
    "        -->> import -->> we can import the modules and packages "
   ]
  },
  {
   "cell_type": "code",
   "execution_count": null,
   "metadata": {},
   "outputs": [],
   "source": []
  },
  {
   "cell_type": "code",
   "execution_count": 1,
   "metadata": {},
   "outputs": [
    {
     "name": "stdout",
     "output_type": "stream",
     "text": [
      "enter n : 45.55\n",
      "None\n",
      "enter n : -7\n",
      "None\n",
      "enter n : 5\n",
      "120\n"
     ]
    }
   ],
   "source": [
    "def factorial(num = 1):\n",
    "    if(isinstance(num,int)):\n",
    "        if(num>=0):\n",
    "            fact =1\n",
    "            for i in range(2,num+1):\n",
    "                fact = fact * i\n",
    "            else:\n",
    "                return fact\n",
    "        else:\n",
    "            return None\n",
    "    else:\n",
    "        return None\n",
    "\n",
    "n = input(\"enter n : \")\n",
    "print factorial(n)\n",
    "\n",
    "n = input(\"enter n : \")\n",
    "print factorial(n)\n",
    "n = input(\"enter n : \")\n",
    "print factorial(n)"
   ]
  },
  {
   "cell_type": "code",
   "execution_count": null,
   "metadata": {},
   "outputs": [],
   "source": []
  },
  {
   "cell_type": "code",
   "execution_count": 3,
   "metadata": {},
   "outputs": [
    {
     "name": "stdout",
     "output_type": "stream",
     "text": [
      "['__doc__', '__name__', '__package__', 'acos', 'acosh', 'asin', 'asinh', 'atan', 'atan2', 'atanh', 'ceil', 'copysign', 'cos', 'cosh', 'degrees', 'e', 'erf', 'erfc', 'exp', 'expm1', 'fabs', 'factorial', 'floor', 'fmod', 'frexp', 'fsum', 'gamma', 'hypot', 'isinf', 'isnan', 'ldexp', 'lgamma', 'log', 'log10', 'log1p', 'modf', 'pi', 'pow', 'radians', 'sin', 'sinh', 'sqrt', 'tan', 'tanh', 'trunc']\n"
     ]
    }
   ],
   "source": [
    "import math\n",
    "print dir(math)"
   ]
  },
  {
   "cell_type": "code",
   "execution_count": 27,
   "metadata": {},
   "outputs": [
    {
     "name": "stdout",
     "output_type": "stream",
     "text": [
      "1.0\n",
      "0.0\n",
      "0.866025403784\n",
      "0.5\n",
      "0.707106781187\n",
      "0.707106781187\n"
     ]
    }
   ],
   "source": [
    "import math\n",
    "print math.sin(math.pi/2)# 1\n",
    "print math.sin(0)# 0\n",
    "print math.sin(math.pi/3) # math.sqrt(3)/2\n",
    "\n",
    "print math.sin(math.pi/6)# 1/2\n",
    "print math.sin(math.pi/4)# 1/ sqrt(2)\n",
    "print 1/math.sqrt(2)#"
   ]
  },
  {
   "cell_type": "code",
   "execution_count": 1,
   "metadata": {},
   "outputs": [
    {
     "name": "stdout",
     "output_type": "stream",
     "text": [
      "enter n : 5\n",
      "120\n"
     ]
    }
   ],
   "source": [
    "import math\n",
    "n = input(\"enter n : \")\n",
    "print math.factorial(n)\n"
   ]
  },
  {
   "cell_type": "code",
   "execution_count": 2,
   "metadata": {},
   "outputs": [
    {
     "name": "stdout",
     "output_type": "stream",
     "text": [
      "13.0\n",
      "11.0\n",
      "1728.0\n",
      "1.0\n",
      "3.14159265359\n",
      "180.0\n"
     ]
    }
   ],
   "source": [
    "import math\n",
    "print math.ceil(12.0000001)\n",
    "print math.floor(11.999)\n",
    "print math.pow(12,3)\n",
    "print math.log10(10)\n",
    "print math.radians(180)\n",
    "print math.degrees(math.pi)"
   ]
  },
  {
   "cell_type": "code",
   "execution_count": 14,
   "metadata": {},
   "outputs": [
    {
     "name": "stdout",
     "output_type": "stream",
     "text": [
      "13.0\n",
      "11.0\n",
      "1728.0\n",
      "1.0\n",
      "3.14159265359\n",
      "180.0\n"
     ]
    }
   ],
   "source": [
    "import math  as m\n",
    "\n",
    "print m.ceil(12.01)\n",
    "print m.floor(11.999)\n",
    "print m.pow(12,3)\n",
    "print m.log10(10)\n",
    "print m.radians(180)\n",
    "print m.degrees(m.pi)"
   ]
  },
  {
   "cell_type": "code",
   "execution_count": 3,
   "metadata": {},
   "outputs": [
    {
     "name": "stdout",
     "output_type": "stream",
     "text": [
      "13.0\n",
      "11.0\n",
      "1728.0\n",
      "1.0\n"
     ]
    },
    {
     "ename": "NameError",
     "evalue": "name 'radians' is not defined",
     "output_type": "error",
     "traceback": [
      "\u001b[1;31m---------------------------------------------------------------------------\u001b[0m",
      "\u001b[1;31mNameError\u001b[0m                                 Traceback (most recent call last)",
      "\u001b[1;32m<ipython-input-3-ab613e01b8b8>\u001b[0m in \u001b[0;36m<module>\u001b[1;34m()\u001b[0m\n\u001b[0;32m      4\u001b[0m \u001b[1;32mprint\u001b[0m \u001b[0mpow\u001b[0m\u001b[1;33m(\u001b[0m\u001b[1;36m12\u001b[0m\u001b[1;33m,\u001b[0m\u001b[1;36m3\u001b[0m\u001b[1;33m)\u001b[0m\u001b[1;33m\u001b[0m\u001b[0m\n\u001b[0;32m      5\u001b[0m \u001b[1;32mprint\u001b[0m \u001b[0mlog10\u001b[0m\u001b[1;33m(\u001b[0m\u001b[1;36m10\u001b[0m\u001b[1;33m)\u001b[0m\u001b[1;33m\u001b[0m\u001b[0m\n\u001b[1;32m----> 6\u001b[1;33m \u001b[1;32mprint\u001b[0m \u001b[0mradians\u001b[0m\u001b[1;33m(\u001b[0m\u001b[1;36m180\u001b[0m\u001b[1;33m)\u001b[0m\u001b[1;33m\u001b[0m\u001b[0m\n\u001b[0m\u001b[0;32m      7\u001b[0m \u001b[1;32mprint\u001b[0m \u001b[0mdegrees\u001b[0m\u001b[1;33m(\u001b[0m\u001b[0mpi\u001b[0m\u001b[1;33m)\u001b[0m\u001b[1;33m\u001b[0m\u001b[0m\n",
      "\u001b[1;31mNameError\u001b[0m: name 'radians' is not defined"
     ]
    }
   ],
   "source": [
    "from math import ceil,floor,pow,log10,pi\n",
    "print ceil(12.01)\n",
    "print floor(11.999)\n",
    "print pow(12,3)\n",
    "print log10(10)\n",
    "print radians(180)\n",
    "print degrees(pi)"
   ]
  },
  {
   "cell_type": "code",
   "execution_count": 4,
   "metadata": {},
   "outputs": [
    {
     "name": "stdout",
     "output_type": "stream",
     "text": [
      "13.0\n",
      "11.0\n",
      "1728.0\n",
      "1.0\n",
      "3.14159265359\n",
      "180.0\n"
     ]
    }
   ],
   "source": [
    "from math import *\n",
    "print ceil(12.01)\n",
    "print floor(11.999)\n",
    "print pow(12,3)\n",
    "print log10(10)\n",
    "print radians(180)\n",
    "print degrees(pi)"
   ]
  },
  {
   "cell_type": "code",
   "execution_count": 19,
   "metadata": {},
   "outputs": [
    {
     "name": "stdout",
     "output_type": "stream",
     "text": [
      "3.14159265359\n"
     ]
    }
   ],
   "source": [
    "from math import *\n",
    "print pi"
   ]
  }
 ],
 "metadata": {
  "kernelspec": {
   "display_name": "Python 2",
   "language": "python",
   "name": "python2"
  },
  "language_info": {
   "codemirror_mode": {
    "name": "ipython",
    "version": 2
   },
   "file_extension": ".py",
   "mimetype": "text/x-python",
   "name": "python",
   "nbconvert_exporter": "python",
   "pygments_lexer": "ipython2",
   "version": "2.7.16"
  }
 },
 "nbformat": 4,
 "nbformat_minor": 2
}
