{
 "cells": [
  {
   "cell_type": "code",
   "execution_count": 2,
   "metadata": {},
   "outputs": [
    {
     "name": "stdout",
     "output_type": "stream",
     "text": [
      "{}\n",
      "<type 'dict'>\n"
     ]
    }
   ],
   "source": [
    "#dict datatype\n",
    "'''\n",
    "===>> collection of items {}\n",
    "===>> item is a combination of key : value\n",
    "'''\n",
    "var = {}\n",
    "print var\n",
    "print type(var)"
   ]
  },
  {
   "cell_type": "code",
   "execution_count": 3,
   "metadata": {},
   "outputs": [
    {
     "name": "stdout",
     "output_type": "stream",
     "text": [
      "<type 'dict'>\n",
      "{34: 'soc', 90: 'hello'}\n"
     ]
    }
   ],
   "source": [
    "var = { 34 : \"soc\" , 90:\"hello\"}\n",
    "print type(var)\n",
    "print var"
   ]
  },
  {
   "cell_type": "code",
   "execution_count": 6,
   "metadata": {},
   "outputs": [
    {
     "name": "stdout",
     "output_type": "stream",
     "text": [
      "{89: '3', 45: 'sd', -3: 'hello'}\n"
     ]
    },
    {
     "ename": "KeyError",
     "evalue": "0",
     "output_type": "error",
     "traceback": [
      "\u001b[1;31m---------------------------------------------------------------------------\u001b[0m",
      "\u001b[1;31mKeyError\u001b[0m                                  Traceback (most recent call last)",
      "\u001b[1;32m<ipython-input-6-4e23a6b0cb27>\u001b[0m in \u001b[0;36m<module>\u001b[1;34m()\u001b[0m\n\u001b[0;32m      3\u001b[0m \u001b[0mvar\u001b[0m \u001b[1;33m=\u001b[0m \u001b[1;33m{\u001b[0m\u001b[1;36m45\u001b[0m\u001b[1;33m:\u001b[0m\u001b[1;34m\"sd\"\u001b[0m \u001b[1;33m,\u001b[0m \u001b[1;36m89\u001b[0m \u001b[1;33m:\u001b[0m\u001b[1;34m\"3\"\u001b[0m\u001b[1;33m,\u001b[0m\u001b[1;33m-\u001b[0m\u001b[1;36m3\u001b[0m \u001b[1;33m:\u001b[0m \u001b[1;34m\"hello\"\u001b[0m\u001b[1;33m}\u001b[0m\u001b[1;33m\u001b[0m\u001b[0m\n\u001b[0;32m      4\u001b[0m \u001b[1;32mprint\u001b[0m \u001b[0mvar\u001b[0m\u001b[1;33m\u001b[0m\u001b[0m\n\u001b[1;32m----> 5\u001b[1;33m \u001b[1;32mprint\u001b[0m \u001b[0mvar\u001b[0m\u001b[1;33m[\u001b[0m\u001b[1;36m0\u001b[0m\u001b[1;33m]\u001b[0m\u001b[1;33m\u001b[0m\u001b[0m\n\u001b[0m",
      "\u001b[1;31mKeyError\u001b[0m: 0"
     ]
    }
   ],
   "source": [
    "# for access the items ,indexing, slicing , dicing is not supported \\\n",
    "# unorder datatype ---> items are zigzag\n",
    "var = {45:\"sd\" , 89 :\"3\",-3 : \"hello\"}\n",
    "print var\n",
    "print var[0]"
   ]
  },
  {
   "cell_type": "code",
   "execution_count": 10,
   "metadata": {},
   "outputs": [
    {
     "name": "stdout",
     "output_type": "stream",
     "text": [
      "{89: '3', 45: 'sd', -3: 'hello'}\n",
      "sd\n",
      "3\n",
      "hello\n"
     ]
    }
   ],
   "source": [
    "# key indexing --->> to access the values \n",
    "var = {45:\"sd\" , 89 :\"3\",-3 : \"hello\"}\n",
    "print var\n",
    "print var[45]\n",
    "print var[89]\n",
    "print var[-3]"
   ]
  },
  {
   "cell_type": "code",
   "execution_count": 11,
   "metadata": {},
   "outputs": [
    {
     "name": "stdout",
     "output_type": "stream",
     "text": [
      "{90: {12: 34}, 67: set([1, 23]), 12: '12', 45: [12, 4]}\n"
     ]
    }
   ],
   "source": [
    "# we can use any datatype as a value\n",
    "var = {12 : \"12\" , 45: [12,4] , 90 : (1,2,3) , 67 : {1,23}, 90 :{12:34}}\n",
    "print var"
   ]
  },
  {
   "cell_type": "code",
   "execution_count": 13,
   "metadata": {},
   "outputs": [
    {
     "name": "stdout",
     "output_type": "stream",
     "text": [
      "{90: None, 67: (4+6j), 12: 78, 45: 78.56}\n"
     ]
    }
   ],
   "source": [
    "var = {12 : 78 , 45:78.56 , 90 : True , 67 :4+6j, 90 :None}\n",
    "print var"
   ]
  },
  {
   "cell_type": "code",
   "execution_count": 23,
   "metadata": {},
   "outputs": [
    {
     "name": "stdout",
     "output_type": "stream",
     "text": [
      "{True: 'sd', (3+4j): 'spc', 12: 34, 34.2: 'soc', None: 'soc'}\n"
     ]
    }
   ],
   "source": [
    "# dict keys are allows only few datatypes\n",
    "var = {12 : 34 , 34.2 : \"soc\" , True : \"sd\" ,None : \"soc\" ,3+4j : \"spc\"}\n",
    "print var"
   ]
  },
  {
   "cell_type": "code",
   "execution_count": 25,
   "metadata": {},
   "outputs": [
    {
     "name": "stdout",
     "output_type": "stream",
     "text": [
      "{(3+4j): 'spc', True: 'sd', 'soc': 34, None: 'soc', (1, 2, 3): 'soc'}\n"
     ]
    }
   ],
   "source": [
    "# dict keys are allows only few datatypes\n",
    "var = {\"soc\" : 34 , (1,2,3) : \"soc\" , True : \"sd\" ,None : \"soc\" ,3+4j : \"spc\"}\n",
    "print var"
   ]
  },
  {
   "cell_type": "code",
   "execution_count": 27,
   "metadata": {},
   "outputs": [
    {
     "ename": "TypeError",
     "evalue": "unhashable type: 'list'",
     "output_type": "error",
     "traceback": [
      "\u001b[1;31m---------------------------------------------------------------------------\u001b[0m",
      "\u001b[1;31mTypeError\u001b[0m                                 Traceback (most recent call last)",
      "\u001b[1;32m<ipython-input-27-77d247d67210>\u001b[0m in \u001b[0;36m<module>\u001b[1;34m()\u001b[0m\n\u001b[0;32m      1\u001b[0m \u001b[1;31m# dict keys are allows only few datatypes\u001b[0m\u001b[1;33m\u001b[0m\u001b[1;33m\u001b[0m\u001b[0m\n\u001b[1;32m----> 2\u001b[1;33m \u001b[0mvar\u001b[0m \u001b[1;33m=\u001b[0m \u001b[1;33m{\u001b[0m\u001b[1;34m\"soc\"\u001b[0m \u001b[1;33m:\u001b[0m \u001b[1;36m34\u001b[0m \u001b[1;33m,\u001b[0m \u001b[1;33m(\u001b[0m\u001b[1;36m1\u001b[0m\u001b[1;33m,\u001b[0m\u001b[1;36m2\u001b[0m\u001b[1;33m,\u001b[0m\u001b[1;36m3\u001b[0m\u001b[1;33m)\u001b[0m \u001b[1;33m:\u001b[0m \u001b[1;34m\"soc\"\u001b[0m \u001b[1;33m,\u001b[0m \u001b[1;33m[\u001b[0m\u001b[1;36m1\u001b[0m\u001b[1;33m,\u001b[0m\u001b[1;36m2\u001b[0m\u001b[1;33m]\u001b[0m \u001b[1;33m:\u001b[0m \u001b[1;34m\"sd\"\u001b[0m \u001b[1;33m,\u001b[0m\u001b[0mNone\u001b[0m \u001b[1;33m:\u001b[0m \u001b[1;34m\"soc\"\u001b[0m \u001b[1;33m,\u001b[0m\u001b[1;36m3\u001b[0m\u001b[1;33m+\u001b[0m\u001b[1;36m4j\u001b[0m \u001b[1;33m:\u001b[0m \u001b[1;34m\"spc\"\u001b[0m\u001b[1;33m}\u001b[0m\u001b[1;33m\u001b[0m\u001b[0m\n\u001b[0m\u001b[0;32m      3\u001b[0m \u001b[1;32mprint\u001b[0m \u001b[0mvar\u001b[0m\u001b[1;33m\u001b[0m\u001b[0m\n",
      "\u001b[1;31mTypeError\u001b[0m: unhashable type: 'list'"
     ]
    }
   ],
   "source": [
    "# dict keys are allows only few datatypes\n",
    "var = {\"soc\" : 34 , (1,2,3) : \"soc\" , [1,2] : \"sd\" ,None : \"soc\" ,3+4j : \"spc\"}\n",
    "print var"
   ]
  },
  {
   "cell_type": "code",
   "execution_count": 29,
   "metadata": {},
   "outputs": [
    {
     "ename": "TypeError",
     "evalue": "unhashable type: 'set'",
     "output_type": "error",
     "traceback": [
      "\u001b[1;31m---------------------------------------------------------------------------\u001b[0m",
      "\u001b[1;31mTypeError\u001b[0m                                 Traceback (most recent call last)",
      "\u001b[1;32m<ipython-input-29-82edaee3fd42>\u001b[0m in \u001b[0;36m<module>\u001b[1;34m()\u001b[0m\n\u001b[0;32m      1\u001b[0m \u001b[1;31m# dict keys are allows only few datatypes\u001b[0m\u001b[1;33m\u001b[0m\u001b[1;33m\u001b[0m\u001b[0m\n\u001b[1;32m----> 2\u001b[1;33m \u001b[0mvar\u001b[0m \u001b[1;33m=\u001b[0m \u001b[1;33m{\u001b[0m\u001b[1;34m\"soc\"\u001b[0m \u001b[1;33m:\u001b[0m \u001b[1;36m34\u001b[0m \u001b[1;33m,\u001b[0m \u001b[1;33m(\u001b[0m\u001b[1;36m1\u001b[0m\u001b[1;33m,\u001b[0m\u001b[1;36m2\u001b[0m\u001b[1;33m,\u001b[0m\u001b[1;36m3\u001b[0m\u001b[1;33m)\u001b[0m \u001b[1;33m:\u001b[0m \u001b[1;34m\"soc\"\u001b[0m \u001b[1;33m,\u001b[0m\u001b[1;33m{\u001b[0m\u001b[1;36m1\u001b[0m\u001b[1;33m,\u001b[0m\u001b[1;36m2\u001b[0m\u001b[1;33m}\u001b[0m \u001b[1;33m:\u001b[0m \u001b[1;34m\"sd\"\u001b[0m \u001b[1;33m,\u001b[0m\u001b[0mNone\u001b[0m \u001b[1;33m:\u001b[0m \u001b[1;34m\"soc\"\u001b[0m \u001b[1;33m,\u001b[0m\u001b[1;36m3\u001b[0m\u001b[1;33m+\u001b[0m\u001b[1;36m4j\u001b[0m \u001b[1;33m:\u001b[0m \u001b[1;34m\"spc\"\u001b[0m\u001b[1;33m}\u001b[0m\u001b[1;33m\u001b[0m\u001b[0m\n\u001b[0m\u001b[0;32m      3\u001b[0m \u001b[1;32mprint\u001b[0m \u001b[0mvar\u001b[0m\u001b[1;33m\u001b[0m\u001b[0m\n",
      "\u001b[1;31mTypeError\u001b[0m: unhashable type: 'set'"
     ]
    }
   ],
   "source": [
    "# dict keys are allows only few datatypes\n",
    "var = {\"soc\" : 34 , (1,2,3) : \"soc\" ,{1,2} : \"sd\" ,None : \"soc\" ,3+4j : \"spc\"}\n",
    "print var"
   ]
  },
  {
   "cell_type": "code",
   "execution_count": 31,
   "metadata": {},
   "outputs": [
    {
     "ename": "TypeError",
     "evalue": "unhashable type: 'dict'",
     "output_type": "error",
     "traceback": [
      "\u001b[1;31m---------------------------------------------------------------------------\u001b[0m",
      "\u001b[1;31mTypeError\u001b[0m                                 Traceback (most recent call last)",
      "\u001b[1;32m<ipython-input-31-e9a7a7c1ba6c>\u001b[0m in \u001b[0;36m<module>\u001b[1;34m()\u001b[0m\n\u001b[0;32m      1\u001b[0m \u001b[1;31m# dict keys are allows only few datatypes\u001b[0m\u001b[1;33m\u001b[0m\u001b[1;33m\u001b[0m\u001b[0m\n\u001b[1;32m----> 2\u001b[1;33m \u001b[0mvar\u001b[0m \u001b[1;33m=\u001b[0m \u001b[1;33m{\u001b[0m\u001b[1;34m\"soc\"\u001b[0m \u001b[1;33m:\u001b[0m \u001b[1;36m34\u001b[0m \u001b[1;33m,\u001b[0m \u001b[1;33m(\u001b[0m\u001b[1;36m1\u001b[0m\u001b[1;33m,\u001b[0m\u001b[1;36m2\u001b[0m\u001b[1;33m,\u001b[0m\u001b[1;36m3\u001b[0m\u001b[1;33m)\u001b[0m \u001b[1;33m:\u001b[0m \u001b[1;34m\"soc\"\u001b[0m \u001b[1;33m,\u001b[0m \u001b[1;33m{\u001b[0m\u001b[1;36m12\u001b[0m\u001b[1;33m:\u001b[0m\u001b[1;36m34\u001b[0m\u001b[1;33m}\u001b[0m \u001b[1;33m:\u001b[0m \u001b[1;34m\"sd\"\u001b[0m \u001b[1;33m,\u001b[0m\u001b[0mNone\u001b[0m \u001b[1;33m:\u001b[0m \u001b[1;34m\"soc\"\u001b[0m \u001b[1;33m,\u001b[0m\u001b[1;36m3\u001b[0m\u001b[1;33m+\u001b[0m\u001b[1;36m4j\u001b[0m \u001b[1;33m:\u001b[0m \u001b[1;34m\"spc\"\u001b[0m\u001b[1;33m}\u001b[0m\u001b[1;33m\u001b[0m\u001b[0m\n\u001b[0m\u001b[0;32m      3\u001b[0m \u001b[1;32mprint\u001b[0m \u001b[0mvar\u001b[0m\u001b[1;33m\u001b[0m\u001b[0m\n",
      "\u001b[1;31mTypeError\u001b[0m: unhashable type: 'dict'"
     ]
    }
   ],
   "source": [
    "# dict keys are allows only few datatypes\n",
    "var = {\"soc\" : 34 , (1,2,3) : \"soc\" , {12:34} : \"sd\" ,None : \"soc\" ,3+4j : \"spc\"}\n",
    "print var"
   ]
  },
  {
   "cell_type": "code",
   "execution_count": 33,
   "metadata": {},
   "outputs": [
    {
     "name": "stdout",
     "output_type": "stream",
     "text": [
      "{56: 'soc', 12: 'soc'}\n"
     ]
    }
   ],
   "source": [
    "var = {12:\"soc\" , 56:\"soc\"}\n",
    "print var"
   ]
  },
  {
   "cell_type": "code",
   "execution_count": 35,
   "metadata": {},
   "outputs": [
    {
     "name": "stdout",
     "output_type": "stream",
     "text": [
      "{56: 'hi', 12: 'soft'}\n"
     ]
    }
   ],
   "source": [
    "var = {12:\"soc\" , 56:\"hi\",  12 : \"soft\"}\n",
    "print var"
   ]
  },
  {
   "cell_type": "code",
   "execution_count": 38,
   "metadata": {},
   "outputs": [
    {
     "name": "stdout",
     "output_type": "stream",
     "text": [
      "{}\n",
      "{23: '34'}\n",
      "{89: '45', 23: '34'}\n"
     ]
    }
   ],
   "source": [
    "var ={}\n",
    "print var\n",
    "var[23]=\"34\"\n",
    "print var\n",
    "var[89]=\"45\"\n",
    "print var"
   ]
  },
  {
   "cell_type": "code",
   "execution_count": 39,
   "metadata": {},
   "outputs": [
    {
     "name": "stdout",
     "output_type": "stream",
     "text": [
      "{56: 's', 12: 45}\n",
      "{56: 's', 12: 34}\n"
     ]
    }
   ],
   "source": [
    "var = {12:45 , 56 : 's'}\n",
    "print var\n",
    "var[12] = 34\n",
    "print var"
   ]
  },
  {
   "cell_type": "code",
   "execution_count": 41,
   "metadata": {},
   "outputs": [
    {
     "name": "stdout",
     "output_type": "stream",
     "text": [
      "[56, 12]\n"
     ]
    }
   ],
   "source": [
    "var = {12:45 , 56 : 's'}\n",
    "print var.keys()"
   ]
  },
  {
   "cell_type": "code",
   "execution_count": 42,
   "metadata": {},
   "outputs": [
    {
     "name": "stdout",
     "output_type": "stream",
     "text": [
      "['s', 45]\n"
     ]
    }
   ],
   "source": [
    "var = {12:45 , 56 : 's'}\n",
    "print var.values()"
   ]
  },
  {
   "cell_type": "code",
   "execution_count": 44,
   "metadata": {},
   "outputs": [
    {
     "name": "stdout",
     "output_type": "stream",
     "text": [
      "[(56, 's'), (12, 45)]\n"
     ]
    }
   ],
   "source": [
    "var = {12:45 , 56 : 's'}\n",
    "print var.items()"
   ]
  },
  {
   "cell_type": "code",
   "execution_count": 46,
   "metadata": {},
   "outputs": [
    {
     "name": "stdout",
     "output_type": "stream",
     "text": [
      "['__class__', '__cmp__', '__contains__', '__delattr__', '__delitem__', '__doc__', '__eq__', '__format__', '__ge__', '__getattribute__', '__getitem__', '__gt__', '__hash__', '__init__', '__iter__', '__le__', '__len__', '__lt__', '__ne__', '__new__', '__reduce__', '__reduce_ex__', '__repr__', '__setattr__', '__setitem__', '__sizeof__', '__str__', '__subclasshook__', 'clear', 'copy', 'fromkeys', 'get', 'has_key', 'items', 'iteritems', 'iterkeys', 'itervalues', 'keys', 'pop', 'popitem', 'setdefault', 'update', 'values', 'viewitems', 'viewkeys', 'viewvalues']\n"
     ]
    }
   ],
   "source": [
    "print  dir(dict)"
   ]
  },
  {
   "cell_type": "code",
   "execution_count": 48,
   "metadata": {},
   "outputs": [
    {
     "name": "stdout",
     "output_type": "stream",
     "text": [
      "{56: 's', 12: 45}\n",
      "{}\n"
     ]
    }
   ],
   "source": [
    "var = {12:45 , 56 : 's'}\n",
    "print var\n",
    "var.clear()\n",
    "print var"
   ]
  },
  {
   "cell_type": "code",
   "execution_count": 51,
   "metadata": {},
   "outputs": [
    {
     "name": "stdout",
     "output_type": "stream",
     "text": [
      "{56: 's', 12: 45}\n",
      "{56: 's', 12: 45}\n",
      "{56: 's', 12: 45}\n",
      "{56: 's', 34: 45, 12: 45}\n"
     ]
    }
   ],
   "source": [
    "var = {12:45 , 56 : 's'}\n",
    "print var\n",
    "b = var.copy()\n",
    "print b\n",
    "b[34] =45\n",
    "print var\n",
    "print b"
   ]
  },
  {
   "cell_type": "code",
   "execution_count": 53,
   "metadata": {},
   "outputs": [
    {
     "name": "stdout",
     "output_type": "stream",
     "text": [
      "{56: 's', 12: 45}\n",
      "{56: 's', 12: 45}\n",
      "{56: 's', 34: 45, 12: 45}\n",
      "{56: 's', 34: 45, 12: 45}\n"
     ]
    }
   ],
   "source": [
    "var = {12:45 , 56 : 's'}\n",
    "print var\n",
    "b = var\n",
    "print b\n",
    "b[34] =45\n",
    "print var\n",
    "print b"
   ]
  },
  {
   "cell_type": "code",
   "execution_count": 56,
   "metadata": {},
   "outputs": [
    {
     "name": "stdout",
     "output_type": "stream",
     "text": [
      "{56: 's', 12: 45}\n",
      "s\n"
     ]
    }
   ],
   "source": [
    "var = {12:45 , 56 : 's'}\n",
    "print var\n",
    "print var.get(56)"
   ]
  },
  {
   "cell_type": "code",
   "execution_count": 60,
   "metadata": {},
   "outputs": [
    {
     "name": "stdout",
     "output_type": "stream",
     "text": [
      "{89: 23, 90: 45, 67: 45, 12: '56', 23: '45'}\n",
      "45\n",
      "{89: 23, 67: 45, 12: '56', 23: '45'}\n"
     ]
    }
   ],
   "source": [
    "var = {12  :\"56\" ,90:45 , 23:\"45\",89:23,67 :45}\n",
    "print var\n",
    "print var.pop(90)\n",
    "print var"
   ]
  },
  {
   "cell_type": "code",
   "execution_count": 63,
   "metadata": {},
   "outputs": [
    {
     "name": "stdout",
     "output_type": "stream",
     "text": [
      "{89: 23, 90: 45, 67: 45, 12: '56', 23: '45'}\n",
      "(89, 23)\n",
      "{90: 45, 67: 45, 12: '56', 23: '45'}\n",
      "(90, 45)\n",
      "{67: 45, 12: '56', 23: '45'}\n"
     ]
    }
   ],
   "source": [
    "var = {12  :\"56\" ,90:45 , 23:\"45\",89:23,67 :45}\n",
    "print var\n",
    "print var.popitem()\n",
    "print var\n",
    "print var.popitem()\n",
    "print var"
   ]
  },
  {
   "cell_type": "code",
   "execution_count": 64,
   "metadata": {},
   "outputs": [
    {
     "name": "stdout",
     "output_type": "stream",
     "text": [
      "{90: 45, 12: 34}\n",
      "{12: 100, 45: 56}\n",
      "{90: 45, 12: 100, 45: 56}\n",
      "{12: 100, 45: 56}\n"
     ]
    }
   ],
   "source": [
    "a = {12:34 ,90 :45}\n",
    "b = {45:56 , 12:100}\n",
    "print a\n",
    "print b\n",
    "a.update(b)\n",
    "print a\n",
    "print b"
   ]
  }
 ],
 "metadata": {
  "kernelspec": {
   "display_name": "Python 2",
   "language": "python",
   "name": "python2"
  },
  "language_info": {
   "codemirror_mode": {
    "name": "ipython",
    "version": 2
   },
   "file_extension": ".py",
   "mimetype": "text/x-python",
   "name": "python",
   "nbconvert_exporter": "python",
   "pygments_lexer": "ipython2",
   "version": "2.7.16"
  }
 },
 "nbformat": 4,
 "nbformat_minor": 2
}
