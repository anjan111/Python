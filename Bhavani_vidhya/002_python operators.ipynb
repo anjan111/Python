{
 "cells": [
  {
   "cell_type": "code",
   "execution_count": 3,
   "metadata": {},
   "outputs": [
    {
     "name": "stdout",
     "output_type": "stream",
     "text": [
      "234\n",
      "-23\n",
      "False\n",
      "-35\n",
      "33\n",
      "22\n",
      "8\n",
      "True\n"
     ]
    }
   ],
   "source": [
    "# operators :-\n",
    "'''\n",
    "===>> The symbols which are used for to do the operations on  operands \n",
    "'''\n",
    "# operations :-\n",
    "'''\n",
    "===>> the way of giving the solutons for problams\n",
    "'''\n",
    "# operands\n",
    "'''\n",
    "===>> the data with in the operations \n",
    "'''\n",
    "# there are 2 ways we classified the operator\n",
    "'''\n",
    "===>> based on operands\n",
    "'''\n",
    "# based on no of operands the operators are classified\n",
    "\n",
    "'''\n",
    "1. unary operator\n",
    "\n",
    "===>> the operator operating on single operand\n",
    "\n",
    "    1. unary plus   +\n",
    "    2. unary minus  -\n",
    "    3. logical not  not\n",
    "    4. bitwise not  ~\n",
    "    \n",
    "'''\n",
    "print   + 234 # unary plus\n",
    "print   - 23  # unary minus\n",
    "print   not 34 # logical not\n",
    "print   ~ 34 # bitwise not \n",
    "\n",
    "# binary operator\n",
    "'''\n",
    "==>> the single operator is operating on 2 operands \n",
    "'''\n",
    "print 10 +23\n",
    "print 45 - 23\n",
    "print 2*4\n",
    "print 30 < 45"
   ]
  },
  {
   "cell_type": "code",
   "execution_count": 5,
   "metadata": {},
   "outputs": [
    {
     "name": "stdout",
     "output_type": "stream",
     "text": [
      "15\n",
      "11\n",
      "26\n",
      "6\n",
      "1\n",
      "169\n"
     ]
    }
   ],
   "source": [
    "# based on operations\n",
    "'''\n",
    "==>> arithmetic operator\n",
    "==>> relational operator\n",
    "==>> logical operator\n",
    "==>> assignment operator\n",
    "==>> special operators\n",
    "==>> bitwise operators\n",
    "'''\n",
    "# arithmetic operators\n",
    "'''\n",
    "==>>   +\n",
    "==>>   -\n",
    "==>>   *\n",
    "==>>   / \n",
    "==>>   %  ---> reminder\n",
    "'''\n",
    "a =13\n",
    "b = 2\n",
    "print a+b\n",
    "print a-b\n",
    "print a*b\n",
    "print a/b  # 6\n",
    "print a %b # 1\n",
    "# -->>  **  --->> power\n",
    "# -->>  //  --->> floor devision\n",
    "print a **b"
   ]
  },
  {
   "cell_type": "code",
   "execution_count": 6,
   "metadata": {},
   "outputs": [
    {
     "name": "stdout",
     "output_type": "stream",
     "text": [
      "6\n",
      "6\n"
     ]
    }
   ],
   "source": [
    "a = 13\n",
    "b = 2\n",
    "print a/b # 6\n",
    "print a // b # 6\n"
   ]
  },
  {
   "cell_type": "code",
   "execution_count": 8,
   "metadata": {},
   "outputs": [
    {
     "name": "stdout",
     "output_type": "stream",
     "text": [
      "6.5\n",
      "6.0\n"
     ]
    }
   ],
   "source": [
    "a = 13.0\n",
    "b = 2\n",
    "print a/b # 6.5\n",
    "print a // b # 6.0"
   ]
  },
  {
   "cell_type": "code",
   "execution_count": 10,
   "metadata": {},
   "outputs": [
    {
     "name": "stdout",
     "output_type": "stream",
     "text": [
      "enter side a  in m: 7\n",
      "enter side b in m: 7\n",
      "enter side c in m: 7\n",
      "area :  16.4316767252 sq.m\n"
     ]
    }
   ],
   "source": [
    "# wap find the area of triangle\n",
    "a =input(\"enter side a  in m: \")\n",
    "b =input(\"enter side b in m: \")\n",
    "c =input(\"enter side c in m: \")\n",
    "s = (a+b+c)/2\n",
    "area = (s*(s-a)*(s-b)*(s-c))**0.5\n",
    "print \"area : \",area,\"sq.m\""
   ]
  },
  {
   "cell_type": "code",
   "execution_count": 1,
   "metadata": {},
   "outputs": [],
   "source": [
    "# wap find the area and perimeter od circle\n",
    "# wap find area and perimeter of square\n",
    "# wap fins the area and peri of rectangle\n",
    "# wap find the area and volume  of cube\n",
    "# wap find the area and volume of cylinder\n",
    "# wap find the simple interst\n",
    "# wap convert radians to degrees and degrees to radians \n"
   ]
  },
  {
   "cell_type": "code",
   "execution_count": 2,
   "metadata": {},
   "outputs": [
    {
     "name": "stdout",
     "output_type": "stream",
     "text": [
      "True\n",
      "False\n",
      "False\n",
      "True\n",
      "False\n",
      "True\n"
     ]
    }
   ],
   "source": [
    "# Relational Operators :-\n",
    "'''\n",
    "==>> To give the relationship b/w any two operands\n",
    "==>> To compare the any two operands \n",
    "==>> The result --->> boolean data\n",
    "==>> We can use as a condition\n",
    "'''\n",
    "# we have totally 6 operator\n",
    "'''\n",
    "1. less than          <\n",
    "2. greaterthan        >\n",
    "3. lessthan or equal  <=\n",
    "4. greterthan or equal >=\n",
    "5. equal too           ==\n",
    "6. not equal too       !=\n",
    "'''\n",
    "a = 12\n",
    "b = 15\n",
    "print a < b  # True\n",
    "print a > b  # False\n",
    "print a == b # False\n",
    "print a <= b # True\n",
    "print a >= b # False\n",
    "print a != b # True"
   ]
  },
  {
   "cell_type": "code",
   "execution_count": 5,
   "metadata": {},
   "outputs": [
    {
     "name": "stdout",
     "output_type": "stream",
     "text": [
      "enter num : 88\n",
      "88  is even  :  True\n"
     ]
    }
   ],
   "source": [
    "# wap find given number is ever or not\n",
    "num = input(\"enter num : \")\n",
    "rem = num %2\n",
    "print num,\" is even  : \",rem == 0"
   ]
  },
  {
   "cell_type": "code",
   "execution_count": 7,
   "metadata": {},
   "outputs": [
    {
     "name": "stdout",
     "output_type": "stream",
     "text": [
      "23\n",
      "23\n",
      "553\n"
     ]
    }
   ],
   "source": [
    "# assignment operator   =\n",
    "\n",
    "var  = 23  # constant to variable\n",
    "b   = var  # variable to variable\n",
    "c   = var*b +12*2 # expression to variable\n",
    "print var\n",
    "print b\n",
    "print c"
   ]
  },
  {
   "cell_type": "code",
   "execution_count": 10,
   "metadata": {},
   "outputs": [
    {
     "name": "stdout",
     "output_type": "stream",
     "text": [
      "10\n",
      "20\n",
      "30\n",
      "20\n"
     ]
    }
   ],
   "source": [
    "# compound assignment  \n",
    "a = 10\n",
    "b = 20\n",
    "print a\n",
    "print b\n",
    "a = a+b # operation then update \n",
    "print a\n",
    "print b"
   ]
  },
  {
   "cell_type": "code",
   "execution_count": 11,
   "metadata": {},
   "outputs": [
    {
     "name": "stdout",
     "output_type": "stream",
     "text": [
      "10\n",
      "20\n",
      "30\n",
      "20\n"
     ]
    }
   ],
   "source": [
    "a = 10\n",
    "b = 20\n",
    "print a\n",
    "print b\n",
    "a += b  #  a = a+b # operation then update \n",
    "print a\n",
    "print b"
   ]
  },
  {
   "cell_type": "code",
   "execution_count": 13,
   "metadata": {},
   "outputs": [
    {
     "name": "stdout",
     "output_type": "stream",
     "text": [
      "10\n",
      "20\n",
      "-10\n",
      "20\n"
     ]
    }
   ],
   "source": [
    "a = 10\n",
    "b = 20\n",
    "print a\n",
    "print b\n",
    "a -= b # a = a-b # operation then update \n",
    "print a\n",
    "print b"
   ]
  },
  {
   "cell_type": "code",
   "execution_count": 15,
   "metadata": {},
   "outputs": [
    {
     "name": "stdout",
     "output_type": "stream",
     "text": [
      "10\n",
      "20\n",
      "200\n",
      "20\n"
     ]
    }
   ],
   "source": [
    "a = 10\n",
    "b = 20\n",
    "print a\n",
    "print b\n",
    "a *= b # a = a*b # operation then update \n",
    "print a\n",
    "print b"
   ]
  },
  {
   "cell_type": "code",
   "execution_count": 19,
   "metadata": {},
   "outputs": [
    {
     "name": "stdout",
     "output_type": "stream",
     "text": [
      "30\n",
      "0\n",
      "[]\n",
      "\n",
      "{}\n"
     ]
    }
   ],
   "source": [
    "# logical operator \n",
    "'''\n",
    "logical and     --->> and\n",
    "----------------------------\n",
    "\n",
    "ip1  and  ip2  ===>>> ip1/ip2\n",
    "\n",
    "res ==>> ip1  ---->>> ip1 is False case\n",
    "res ==>> ip2  ---->>> ip1 is True case\n",
    "\n",
    "#############################\n",
    "int   ---->> 0 -->False case  ,   +ve/-ve --> True case\n",
    "float ---->> 0.0 --> False    , +ve/-ve  ---> True case\n",
    "complex -->  0+0j --> False   ,otherwise ---> Truecase\n",
    "bool    --> False  --> False  , True ---> True\n",
    "None    -->  None --> False\n",
    "\n",
    "str , list, tuple, set, dict ----> len of it 0 --> False , ow ---> True\n",
    "\n",
    "logical or      --->> or\n",
    "logical not     --->> not\n",
    "'''\n",
    "print  10  and  30 # 30\n",
    "print  0  and 34  # 0\n",
    "print []  and {}  # []\n",
    "print \"\" and ' '   #''\n",
    "print \" \" and {} # {}\n"
   ]
  },
  {
   "cell_type": "code",
   "execution_count": 21,
   "metadata": {},
   "outputs": [
    {
     "name": "stdout",
     "output_type": "stream",
     "text": [
      "12\n",
      "[]\n",
      "23\n"
     ]
    }
   ],
   "source": [
    "#logical or    --->> or\n",
    "#----------------------------\n",
    "'''\n",
    "ip1  or  ip2  ===>>> ip1/ip2\n",
    "\n",
    "res ==>> ip1  ---->>> ip1 is True case\n",
    "res ==>> ip2  ---->>> ip1 is False case\n",
    "'''\n",
    "print 12  or 34# 12\n",
    "print 0  or [] # []\n",
    "print []  or 23# 23"
   ]
  },
  {
   "cell_type": "code",
   "execution_count": 1,
   "metadata": {},
   "outputs": [
    {
     "name": "stdout",
     "output_type": "stream",
     "text": [
      "False\n",
      "True\n"
     ]
    }
   ],
   "source": [
    "# logical not  ---> not\n",
    "'''\n",
    "not   ip   --->> True/  False\n",
    "\n",
    "True ====>>> ip is False case\n",
    "False ===>> ip  is True case\n",
    "'''\n",
    "print not 34  # False\n",
    "print not 0   # True"
   ]
  },
  {
   "cell_type": "code",
   "execution_count": 2,
   "metadata": {},
   "outputs": [
    {
     "name": "stdout",
     "output_type": "stream",
     "text": [
      "True\n",
      "False\n",
      "False\n",
      "True\n"
     ]
    }
   ],
   "source": [
    "# Special Operators\n",
    "'''\n",
    "==>> membership --->> check availablity of one ele in seq (  True/ False)\n",
    "\n",
    "in  ------>>  True --->> Available\n",
    "    ---->>>   False --> not available\n",
    "\n",
    "not in------>>  False --->> Available\n",
    "    ---->>>     True --> not available\n",
    "\n",
    "\n",
    "\n",
    "==>> Identity-->> To  the check the memory loc ( True/ false)\n",
    "\n",
    "is  ------>>  True --->> same memory loc\n",
    "    ---->>>   False --> not same \n",
    "\n",
    "\n",
    "\n",
    "is not------>>  False --->> same memory loc\n",
    "    ---->>>   True --> not same \n",
    "\n",
    "''''\n",
    "a = 12\n",
    "b =[34,12,90]\n",
    "c = 100\n",
    "print a in b # True\n",
    "print c in b # False\n",
    "print a not in b # False\n",
    "print c not in b # True"
   ]
  },
  {
   "cell_type": "code",
   "execution_count": 5,
   "metadata": {},
   "outputs": [
    {
     "name": "stdout",
     "output_type": "stream",
     "text": [
      "True\n",
      "True\n",
      " a mem :  86487816\n",
      " b mem :  86487688\n",
      " c mem :  86487816\n"
     ]
    }
   ],
   "source": [
    "a = [12,34,45]\n",
    "b = [12,34,45]\n",
    "c = a\n",
    "print a == b\n",
    "print a == c\n",
    "print \" a mem : \",id(a)\n",
    "print \" b mem : \",id(b)\n",
    "print \" c mem : \",id(c)"
   ]
  },
  {
   "cell_type": "code",
   "execution_count": null,
   "metadata": {},
   "outputs": [],
   "source": []
  },
  {
   "cell_type": "code",
   "execution_count": 1,
   "metadata": {},
   "outputs": [
    {
     "name": "stdout",
     "output_type": "stream",
     "text": [
      "78148488\n",
      "76410056\n",
      "78148488\n",
      "False\n",
      "True\n",
      "True\n",
      "False\n"
     ]
    }
   ],
   "source": [
    "#identity operator\n",
    "a= [12,34,45]\n",
    "b = [12,34,45]\n",
    "c = a\n",
    "print id(a)\n",
    "print id(b)\n",
    "print id(c)\n",
    "\n",
    "print a is b\n",
    "print a is c\n",
    "print a is not b\n",
    "print a is not c"
   ]
  },
  {
   "cell_type": "code",
   "execution_count": 3,
   "metadata": {},
   "outputs": [
    {
     "name": "stdout",
     "output_type": "stream",
     "text": [
      "11\n",
      "31\n"
     ]
    }
   ],
   "source": [
    "# bitwise operator\n",
    "'''\n",
    "==>> operators are operating on binary data of given inputs\n",
    "'''\n",
    "# bitwise or\n",
    "# bitwise and\n",
    "# bitwise xor\n",
    "# bitwise leftshift\n",
    "# bitwise rightshift\n",
    "# bitwise not\n",
    "'''\n",
    "working priciple of bitwise operators\n",
    "\n",
    "1. inputs  decimal  ---->>> input binary data\n",
    "2. then do the operation on binary data\n",
    "3. binary result ------->> decimal result\n",
    "'''\n",
    "# bitwise or  |\n",
    "print 10 | 9\n",
    "print 17 |14\n"
   ]
  },
  {
   "cell_type": "code",
   "execution_count": 4,
   "metadata": {},
   "outputs": [
    {
     "name": "stdout",
     "output_type": "stream",
     "text": [
      "8\n",
      "14\n"
     ]
    }
   ],
   "source": [
    "# bitwise and  &\n",
    "print 10 & 9\n",
    "print 30  & 14"
   ]
  },
  {
   "cell_type": "code",
   "execution_count": 2,
   "metadata": {},
   "outputs": [
    {
     "name": "stdout",
     "output_type": "stream",
     "text": [
      "3\n",
      "50\n"
     ]
    }
   ],
   "source": [
    "# bitwise xor   ^\n",
    "'''\n",
    "0  0----> 0\n",
    "0  1----> 1\n",
    "1  0----> 1\n",
    "1  1----> 0\n",
    "'''\n",
    "print 10  ^ 9 # 3\n",
    "print 34 ^ 16 # 50\n"
   ]
  },
  {
   "cell_type": "code",
   "execution_count": 5,
   "metadata": {},
   "outputs": [
    {
     "name": "stdout",
     "output_type": "stream",
     "text": [
      "40\n",
      "344\n"
     ]
    }
   ],
   "source": [
    "# bitwise leftshift\n",
    "'''\n",
    "num << bit\n",
    "\n",
    "num --->>> num decimal --->. binary number\n",
    "\n",
    "num<< bit --------------->>> to the binary number adding the no of bits  zero  at right\n",
    "\n",
    "convert --->> binary to decimal\n",
    "\n",
    "'''\n",
    "print  10 << 2\n",
    "print 43 << 3"
   ]
  },
  {
   "cell_type": "code",
   "execution_count": 7,
   "metadata": {},
   "outputs": [
    {
     "name": "stdout",
     "output_type": "stream",
     "text": [
      "2\n",
      "5\n"
     ]
    }
   ],
   "source": [
    "# bitwise rightshift\n",
    "'''\n",
    "num >> bit\n",
    "\n",
    "num --->>> num decimal --->. binary number\n",
    "\n",
    "num>> bit --------------->>> to the binary number remove the no of bits   at right\n",
    "\n",
    "convert --->> binary to decimal\n",
    "\n",
    "'''\n",
    "print  10 >> 2\n",
    "print 43 >> 3"
   ]
  },
  {
   "cell_type": "code",
   "execution_count": 9,
   "metadata": {},
   "outputs": [
    {
     "name": "stdout",
     "output_type": "stream",
     "text": [
      "-6\n",
      "-11\n"
     ]
    }
   ],
   "source": [
    "# bitwise not ~\n",
    "\n",
    "print ~ 5\n",
    "print ~10"
   ]
  },
  {
   "cell_type": "code",
   "execution_count": null,
   "metadata": {},
   "outputs": [],
   "source": []
  }
 ],
 "metadata": {
  "kernelspec": {
   "display_name": "Python 2",
   "language": "python",
   "name": "python2"
  },
  "language_info": {
   "codemirror_mode": {
    "name": "ipython",
    "version": 2
   },
   "file_extension": ".py",
   "mimetype": "text/x-python",
   "name": "python",
   "nbconvert_exporter": "python",
   "pygments_lexer": "ipython2",
   "version": "2.7.16"
  }
 },
 "nbformat": 4,
 "nbformat_minor": 2
}
