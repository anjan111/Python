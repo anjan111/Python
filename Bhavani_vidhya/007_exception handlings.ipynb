{
 "cells": [
  {
   "cell_type": "code",
   "execution_count": 1,
   "metadata": {},
   "outputs": [
    {
     "name": "stdout",
     "output_type": "stream",
     "text": [
      "hello\n",
      "hai\n"
     ]
    }
   ],
   "source": [
    "# Error \n",
    "'''\n",
    "--->> The mistake with in the program\n",
    "'''\n",
    "# Types of error\n",
    "'''\n",
    "-->> Syntax error\n",
    "-->> Runtime error\n",
    "'''\n",
    "# syntax error\n",
    "'''\n",
    "-->> Whenever we not followed the structure for writing the program\n",
    "'''\n",
    "if ( True):\n",
    "    print \"hello\"\n",
    "    print\"hai\""
   ]
  },
  {
   "cell_type": "code",
   "execution_count": 2,
   "metadata": {},
   "outputs": [
    {
     "ename": "SyntaxError",
     "evalue": "invalid syntax (<ipython-input-2-9afdbb779543>, line 1)",
     "output_type": "error",
     "traceback": [
      "\u001b[1;36m  File \u001b[1;32m\"<ipython-input-2-9afdbb779543>\"\u001b[1;36m, line \u001b[1;32m1\u001b[0m\n\u001b[1;33m    if ( True)\u001b[0m\n\u001b[1;37m              ^\u001b[0m\n\u001b[1;31mSyntaxError\u001b[0m\u001b[1;31m:\u001b[0m invalid syntax\n"
     ]
    }
   ],
   "source": [
    "if ( True)\n",
    "    print \"hello\"\n",
    "    print\"hai\""
   ]
  },
  {
   "cell_type": "code",
   "execution_count": 4,
   "metadata": {},
   "outputs": [
    {
     "ename": "SyntaxError",
     "evalue": "EOL while scanning string literal (<ipython-input-4-f8a5ee171429>, line 3)",
     "output_type": "error",
     "traceback": [
      "\u001b[1;36m  File \u001b[1;32m\"<ipython-input-4-f8a5ee171429>\"\u001b[1;36m, line \u001b[1;32m3\u001b[0m\n\u001b[1;33m    print\"hai\u001b[0m\n\u001b[1;37m            ^\u001b[0m\n\u001b[1;31mSyntaxError\u001b[0m\u001b[1;31m:\u001b[0m EOL while scanning string literal\n"
     ]
    }
   ],
   "source": [
    "if ( True):\n",
    "    print \"hello\"\n",
    "    print\"hai"
   ]
  },
  {
   "cell_type": "code",
   "execution_count": 5,
   "metadata": {},
   "outputs": [
    {
     "ename": "IndentationError",
     "evalue": "unexpected indent (<ipython-input-5-55dbb4b59e28>, line 4)",
     "output_type": "error",
     "traceback": [
      "\u001b[1;36m  File \u001b[1;32m\"<ipython-input-5-55dbb4b59e28>\"\u001b[1;36m, line \u001b[1;32m4\u001b[0m\n\u001b[1;33m    print \"bye\"\u001b[0m\n\u001b[1;37m    ^\u001b[0m\n\u001b[1;31mIndentationError\u001b[0m\u001b[1;31m:\u001b[0m unexpected indent\n"
     ]
    }
   ],
   "source": [
    "if ( True):\n",
    "    print \"hello\"\n",
    "    print\"hai\"\n",
    "     print \"bye\""
   ]
  },
  {
   "cell_type": "code",
   "execution_count": 6,
   "metadata": {},
   "outputs": [
    {
     "name": "stdout",
     "output_type": "stream",
     "text": [
      "hello\n",
      "hai\n"
     ]
    },
    {
     "ename": "ZeroDivisionError",
     "evalue": "integer division or modulo by zero",
     "output_type": "error",
     "traceback": [
      "\u001b[1;31m---------------------------------------------------------------------------\u001b[0m",
      "\u001b[1;31mZeroDivisionError\u001b[0m                         Traceback (most recent call last)",
      "\u001b[1;32m<ipython-input-6-c1e6d3c81ef8>\u001b[0m in \u001b[0;36m<module>\u001b[1;34m()\u001b[0m\n\u001b[0;32m      6\u001b[0m \u001b[1;32mprint\u001b[0m \u001b[1;34m\"hello\"\u001b[0m\u001b[1;33m\u001b[0m\u001b[0m\n\u001b[0;32m      7\u001b[0m \u001b[1;32mprint\u001b[0m \u001b[1;34m\"hai\"\u001b[0m\u001b[1;33m\u001b[0m\u001b[0m\n\u001b[1;32m----> 8\u001b[1;33m \u001b[1;32mprint\u001b[0m \u001b[1;36m10\u001b[0m\u001b[1;33m/\u001b[0m\u001b[1;36m0\u001b[0m\u001b[1;33m\u001b[0m\u001b[0m\n\u001b[0m\u001b[0;32m      9\u001b[0m \u001b[1;32mprint\u001b[0m \u001b[1;34m\"bye\"\u001b[0m\u001b[1;33m\u001b[0m\u001b[0m\n",
      "\u001b[1;31mZeroDivisionError\u001b[0m: integer division or modulo by zero"
     ]
    }
   ],
   "source": [
    "# runtime error\n",
    "'''\n",
    "--->> while execution of the program then we can get some error those \n",
    "error we are calling runtime error\n",
    "'''\n",
    "print \"hello\"\n",
    "print \"hai\"\n",
    "print 10/0\n",
    "print \"bye\""
   ]
  },
  {
   "cell_type": "code",
   "execution_count": 7,
   "metadata": {},
   "outputs": [
    {
     "name": "stdout",
     "output_type": "stream",
     "text": [
      "hello\n",
      "hai\n"
     ]
    },
    {
     "ename": "IOError",
     "evalue": "[Errno 2] No such file or directory: 'dbjsdbsdb'",
     "output_type": "error",
     "traceback": [
      "\u001b[1;31m---------------------------------------------------------------------------\u001b[0m",
      "\u001b[1;31mIOError\u001b[0m                                   Traceback (most recent call last)",
      "\u001b[1;32m<ipython-input-7-6603e7da6f74>\u001b[0m in \u001b[0;36m<module>\u001b[1;34m()\u001b[0m\n\u001b[0;32m      1\u001b[0m \u001b[1;32mprint\u001b[0m \u001b[1;34m\"hello\"\u001b[0m\u001b[1;33m\u001b[0m\u001b[0m\n\u001b[0;32m      2\u001b[0m \u001b[1;32mprint\u001b[0m \u001b[1;34m\"hai\"\u001b[0m\u001b[1;33m\u001b[0m\u001b[0m\n\u001b[1;32m----> 3\u001b[1;33m \u001b[0mopen\u001b[0m\u001b[1;33m(\u001b[0m\u001b[1;34m\"dbjsdbsdb\"\u001b[0m\u001b[1;33m)\u001b[0m\u001b[1;33m\u001b[0m\u001b[0m\n\u001b[0m\u001b[0;32m      4\u001b[0m \u001b[1;32mprint\u001b[0m \u001b[1;34m\"bye\"\u001b[0m\u001b[1;33m\u001b[0m\u001b[0m\n",
      "\u001b[1;31mIOError\u001b[0m: [Errno 2] No such file or directory: 'dbjsdbsdb'"
     ]
    }
   ],
   "source": [
    "print \"hello\"\n",
    "print \"hai\"\n",
    "open(\"dbjsdbsdb\")\n",
    "print \"bye\""
   ]
  },
  {
   "cell_type": "code",
   "execution_count": 8,
   "metadata": {},
   "outputs": [
    {
     "name": "stdout",
     "output_type": "stream",
     "text": [
      "hello\n",
      "hai\n"
     ]
    },
    {
     "ename": "ImportError",
     "evalue": "No module named jkfkfjkffdjk",
     "output_type": "error",
     "traceback": [
      "\u001b[1;31m---------------------------------------------------------------------------\u001b[0m",
      "\u001b[1;31mImportError\u001b[0m                               Traceback (most recent call last)",
      "\u001b[1;32m<ipython-input-8-f15500e6199c>\u001b[0m in \u001b[0;36m<module>\u001b[1;34m()\u001b[0m\n\u001b[0;32m      1\u001b[0m \u001b[1;32mprint\u001b[0m \u001b[1;34m\"hello\"\u001b[0m\u001b[1;33m\u001b[0m\u001b[0m\n\u001b[0;32m      2\u001b[0m \u001b[1;32mprint\u001b[0m \u001b[1;34m\"hai\"\u001b[0m\u001b[1;33m\u001b[0m\u001b[0m\n\u001b[1;32m----> 3\u001b[1;33m \u001b[1;32mimport\u001b[0m \u001b[0mjkfkfjkffdjk\u001b[0m\u001b[1;33m\u001b[0m\u001b[0m\n\u001b[0m\u001b[0;32m      4\u001b[0m \u001b[1;32mprint\u001b[0m \u001b[1;34m\"bye\"\u001b[0m\u001b[1;33m\u001b[0m\u001b[0m\n",
      "\u001b[1;31mImportError\u001b[0m: No module named jkfkfjkffdjk"
     ]
    }
   ],
   "source": [
    "print \"hello\"\n",
    "print \"hai\"\n",
    "import jkfkfjkffdjk\n",
    "print \"bye\""
   ]
  },
  {
   "cell_type": "code",
   "execution_count": 9,
   "metadata": {},
   "outputs": [
    {
     "name": "stdout",
     "output_type": "stream",
     "text": [
      "hello\n",
      "hai\n"
     ]
    },
    {
     "ename": "NameError",
     "evalue": "name 'xyz' is not defined",
     "output_type": "error",
     "traceback": [
      "\u001b[1;31m---------------------------------------------------------------------------\u001b[0m",
      "\u001b[1;31mNameError\u001b[0m                                 Traceback (most recent call last)",
      "\u001b[1;32m<ipython-input-9-9111de52bb65>\u001b[0m in \u001b[0;36m<module>\u001b[1;34m()\u001b[0m\n\u001b[0;32m      1\u001b[0m \u001b[1;32mprint\u001b[0m \u001b[1;34m\"hello\"\u001b[0m\u001b[1;33m\u001b[0m\u001b[0m\n\u001b[0;32m      2\u001b[0m \u001b[1;32mprint\u001b[0m \u001b[1;34m\"hai\"\u001b[0m\u001b[1;33m\u001b[0m\u001b[0m\n\u001b[1;32m----> 3\u001b[1;33m \u001b[1;32mprint\u001b[0m \u001b[0mxyz\u001b[0m\u001b[1;33m\u001b[0m\u001b[0m\n\u001b[0m\u001b[0;32m      4\u001b[0m \u001b[1;32mprint\u001b[0m \u001b[1;34m\"bye\"\u001b[0m\u001b[1;33m\u001b[0m\u001b[0m\n",
      "\u001b[1;31mNameError\u001b[0m: name 'xyz' is not defined"
     ]
    }
   ],
   "source": [
    "print \"hello\"\n",
    "print \"hai\"\n",
    "print xyz\n",
    "print \"bye\""
   ]
  },
  {
   "cell_type": "code",
   "execution_count": 10,
   "metadata": {},
   "outputs": [
    {
     "name": "stdout",
     "output_type": "stream",
     "text": [
      "hello\n",
      "hai\n"
     ]
    },
    {
     "ename": "ValueError",
     "evalue": "invalid literal for int() with base 10: 'suff'",
     "output_type": "error",
     "traceback": [
      "\u001b[1;31m---------------------------------------------------------------------------\u001b[0m",
      "\u001b[1;31mValueError\u001b[0m                                Traceback (most recent call last)",
      "\u001b[1;32m<ipython-input-10-873ce2629e8e>\u001b[0m in \u001b[0;36m<module>\u001b[1;34m()\u001b[0m\n\u001b[0;32m      1\u001b[0m \u001b[1;32mprint\u001b[0m \u001b[1;34m\"hello\"\u001b[0m\u001b[1;33m\u001b[0m\u001b[0m\n\u001b[0;32m      2\u001b[0m \u001b[1;32mprint\u001b[0m \u001b[1;34m\"hai\"\u001b[0m\u001b[1;33m\u001b[0m\u001b[0m\n\u001b[1;32m----> 3\u001b[1;33m \u001b[0mint\u001b[0m\u001b[1;33m(\u001b[0m\u001b[1;34m\"suff\"\u001b[0m\u001b[1;33m)\u001b[0m\u001b[1;33m\u001b[0m\u001b[0m\n\u001b[0m\u001b[0;32m      4\u001b[0m \u001b[1;32mprint\u001b[0m \u001b[1;34m\"bye\"\u001b[0m\u001b[1;33m\u001b[0m\u001b[0m\n",
      "\u001b[1;31mValueError\u001b[0m: invalid literal for int() with base 10: 'suff'"
     ]
    }
   ],
   "source": [
    "print \"hello\"\n",
    "print \"hai\"\n",
    "int(\"suff\")\n",
    "print \"bye\""
   ]
  },
  {
   "cell_type": "code",
   "execution_count": 11,
   "metadata": {},
   "outputs": [
    {
     "name": "stdout",
     "output_type": "stream",
     "text": [
      "hello\n",
      "hai\n"
     ]
    },
    {
     "ename": "TypeError",
     "evalue": "can't convert complex to int",
     "output_type": "error",
     "traceback": [
      "\u001b[1;31m---------------------------------------------------------------------------\u001b[0m",
      "\u001b[1;31mTypeError\u001b[0m                                 Traceback (most recent call last)",
      "\u001b[1;32m<ipython-input-11-b6784d483f09>\u001b[0m in \u001b[0;36m<module>\u001b[1;34m()\u001b[0m\n\u001b[0;32m      1\u001b[0m \u001b[1;32mprint\u001b[0m \u001b[1;34m\"hello\"\u001b[0m\u001b[1;33m\u001b[0m\u001b[0m\n\u001b[0;32m      2\u001b[0m \u001b[1;32mprint\u001b[0m \u001b[1;34m\"hai\"\u001b[0m\u001b[1;33m\u001b[0m\u001b[0m\n\u001b[1;32m----> 3\u001b[1;33m \u001b[0mint\u001b[0m\u001b[1;33m(\u001b[0m\u001b[1;36m12\u001b[0m\u001b[1;33m+\u001b[0m\u001b[1;36m3j\u001b[0m\u001b[1;33m)\u001b[0m\u001b[1;33m\u001b[0m\u001b[0m\n\u001b[0m\u001b[0;32m      4\u001b[0m \u001b[1;32mprint\u001b[0m \u001b[1;34m\"bye\"\u001b[0m\u001b[1;33m\u001b[0m\u001b[0m\n",
      "\u001b[1;31mTypeError\u001b[0m: can't convert complex to int"
     ]
    }
   ],
   "source": [
    "print \"hello\"\n",
    "print \"hai\"\n",
    "int(12+3j)\n",
    "print \"bye\""
   ]
  },
  {
   "cell_type": "code",
   "execution_count": 12,
   "metadata": {
    "scrolled": true
   },
   "outputs": [
    {
     "name": "stdout",
     "output_type": "stream",
     "text": [
      "hello\n",
      "hai\n",
      "i got exeption\n",
      "this is exception block\n"
     ]
    }
   ],
   "source": [
    "# exception\n",
    "'''\n",
    "BCZ of runtime error \n",
    "the program execution can stops in middle\n",
    "'''\n",
    "# exception  handling \n",
    "'''\n",
    "even if i got exception we can execute the program\n",
    "'''\n",
    "#syntax\n",
    "'''\n",
    "try :\n",
    "    program\n",
    "    code\n",
    "except:\n",
    "    handling the \n",
    "    exception\n",
    "'''\n",
    "try:\n",
    "    print \"hello\"\n",
    "    print \"hai\"\n",
    "    print 10/0\n",
    "    print \"bye\"\n",
    "except:\n",
    "    print\"i got exeption\"\n",
    "    print \"this is exception block\""
   ]
  },
  {
   "cell_type": "code",
   "execution_count": 13,
   "metadata": {},
   "outputs": [
    {
     "name": "stdout",
     "output_type": "stream",
     "text": [
      "hello\n",
      "hai\n",
      "i got exeption\n",
      "this is exception block\n"
     ]
    }
   ],
   "source": [
    "try:\n",
    "    print \"hello\"\n",
    "    print \"hai\"\n",
    "    open(\"djksfjksdfk\")\n",
    "    print \"bye\"\n",
    "except:\n",
    "    print\"i got exeption\"\n",
    "    print \"this is exception block\""
   ]
  },
  {
   "cell_type": "code",
   "execution_count": 15,
   "metadata": {},
   "outputs": [
    {
     "name": "stdout",
     "output_type": "stream",
     "text": [
      "hello\n",
      "hai\n",
      "i got exeption\n",
      "this is exception block\n"
     ]
    }
   ],
   "source": [
    "try:\n",
    "    print \"hello\"\n",
    "    print \"hai\"\n",
    "    import ksdsdfnsdkjf\n",
    "    print \"bye\"\n",
    "except:\n",
    "    print\"i got exeption\"\n",
    "    print \"this is exception block\""
   ]
  },
  {
   "cell_type": "code",
   "execution_count": 16,
   "metadata": {},
   "outputs": [
    {
     "name": "stdout",
     "output_type": "stream",
     "text": [
      "hello\n",
      "hai\n",
      "i am handling only IO error\n"
     ]
    }
   ],
   "source": [
    "try:\n",
    "    print \"hello\"\n",
    "    print \"hai\"\n",
    "    open(\"djksfjksdfk\")\n",
    "    print \"bye\"\n",
    "except IOError:\n",
    "    print \"i am handling only IO error\"\n",
    "except ImportError:\n",
    "    print \"i am handling only Import  error\"\n",
    "except ZeroDivisionError:\n",
    "    print \" i am handling the zero division erro\"\n",
    "except:\n",
    "    print\"default  exeption\"\n",
    "    print \"this is exception block\""
   ]
  },
  {
   "cell_type": "code",
   "execution_count": 17,
   "metadata": {},
   "outputs": [
    {
     "name": "stdout",
     "output_type": "stream",
     "text": [
      "hello\n",
      "hai\n",
      "i am handling only Import  error\n"
     ]
    }
   ],
   "source": [
    "try:\n",
    "    print \"hello\"\n",
    "    print \"hai\"\n",
    "    import kdfnkkfdn\n",
    "    print \"bye\"\n",
    "except IOError:\n",
    "    print \"i am handling only IO error\"\n",
    "except ImportError:\n",
    "    print \"i am handling only Import  error\"\n",
    "except ZeroDivisionError:\n",
    "    print \" i am handling the zero division erro\"\n",
    "except:\n",
    "    print\"default  exeption\"\n",
    "    print \"this is exception block\""
   ]
  },
  {
   "cell_type": "code",
   "execution_count": 18,
   "metadata": {},
   "outputs": [
    {
     "name": "stdout",
     "output_type": "stream",
     "text": [
      "hello\n",
      "hai\n",
      " i am handling the zero division erro\n"
     ]
    }
   ],
   "source": [
    "try:\n",
    "    print \"hello\"\n",
    "    print \"hai\"\n",
    "    print 67/0\n",
    "    print \"bye\"\n",
    "except IOError:\n",
    "    print \"i am handling only IO error\"\n",
    "except ImportError:\n",
    "    print \"i am handling only Import  error\"\n",
    "except ZeroDivisionError:\n",
    "    print \" i am handling the zero division erro\"\n",
    "except:\n",
    "    print\"default  exeption\"\n",
    "    print \"this is exception block\""
   ]
  },
  {
   "cell_type": "code",
   "execution_count": 19,
   "metadata": {},
   "outputs": [
    {
     "name": "stdout",
     "output_type": "stream",
     "text": [
      "hello\n",
      "hai\n",
      "default  exeption\n",
      "this is exception block\n"
     ]
    }
   ],
   "source": [
    "try:\n",
    "    print \"hello\"\n",
    "    print \"hai\"\n",
    "    int(5+3j)# type error but i was not write the exceptionhandling then it will go for except block\n",
    "    print \"bye\"\n",
    "except IOError:\n",
    "    print \"i am handling only IO error\"\n",
    "except ImportError:\n",
    "    print \"i am handling only Import  error\"\n",
    "except ZeroDivisionError:\n",
    "    print \" i am handling the zero division erro\"\n",
    "except:\n",
    "    print\"default  exeption\"\n",
    "    print \"this is exception block\""
   ]
  },
  {
   "cell_type": "code",
   "execution_count": 21,
   "metadata": {},
   "outputs": [
    {
     "name": "stdout",
     "output_type": "stream",
     "text": [
      "hello\n",
      "hai\n",
      "bye\n",
      "this is executed when no errors\n"
     ]
    }
   ],
   "source": [
    "try:\n",
    "    print \"hello\"\n",
    "    print \"hai\"\n",
    "    print \"bye\"\n",
    "except IOError:\n",
    "    print \"i am handling only IO error\"\n",
    "except ImportError:\n",
    "    print \"i am handling only Import  error\"\n",
    "except ZeroDivisionError:\n",
    "    print \" i am handling the zero division erro\"\n",
    "except:\n",
    "    print\"default  exeption\"\n",
    "    print \"this is exception block\"\n",
    "else:\n",
    "    print\"this is executed when no errors\""
   ]
  },
  {
   "cell_type": "code",
   "execution_count": 22,
   "metadata": {},
   "outputs": [
    {
     "name": "stdout",
     "output_type": "stream",
     "text": [
      "hello\n",
      "hai\n",
      "default  exeption\n",
      "this is exception block\n"
     ]
    }
   ],
   "source": [
    "try:\n",
    "    print \"hello\"\n",
    "    print \"hai\"\n",
    "    raise \n",
    "    print \"bye\"\n",
    "except IOError:\n",
    "    print \"i am handling only IO error\"\n",
    "except ImportError:\n",
    "    print \"i am handling only Import  error\"\n",
    "except ZeroDivisionError:\n",
    "    print \" i am handling the zero division erro\"\n",
    "except:\n",
    "    print\"default  exeption\"\n",
    "    print \"this is exception block\"\n",
    "else:\n",
    "    print\"this is executed when no errors\""
   ]
  },
  {
   "cell_type": "code",
   "execution_count": 23,
   "metadata": {},
   "outputs": [
    {
     "name": "stdout",
     "output_type": "stream",
     "text": [
      "hello\n",
      "hai\n",
      "default  exeption\n",
      "this is exception block\n",
      "both caseses we can execute\n"
     ]
    }
   ],
   "source": [
    "try:\n",
    "    print \"hello\"\n",
    "    print \"hai\"\n",
    "    raise \n",
    "    print \"bye\"\n",
    "except IOError:\n",
    "    print \"i am handling only IO error\"\n",
    "except ImportError:\n",
    "    print \"i am handling only Import  error\"\n",
    "except ZeroDivisionError:\n",
    "    print \" i am handling the zero division erro\"\n",
    "except:\n",
    "    print\"default  exeption\"\n",
    "    print \"this is exception block\"\n",
    "else:\n",
    "    print\"this is executed when no errors\"\n",
    "finally:\n",
    "    print \"both caseses we can execute\""
   ]
  },
  {
   "cell_type": "code",
   "execution_count": 24,
   "metadata": {},
   "outputs": [
    {
     "name": "stdout",
     "output_type": "stream",
     "text": [
      "hello\n",
      "hai\n",
      "bye\n",
      "this is executed when no errors\n",
      "both caseses we can execute\n"
     ]
    }
   ],
   "source": [
    "try:\n",
    "    print \"hello\"\n",
    "    print \"hai\"\n",
    "    print \"bye\"\n",
    "except IOError:\n",
    "    print \"i am handling only IO error\"\n",
    "except ImportError:\n",
    "    print \"i am handling only Import  error\"\n",
    "except ZeroDivisionError:\n",
    "    print \" i am handling the zero division erro\"\n",
    "except:\n",
    "    print\"default  exeption\"\n",
    "    print \"this is exception block\"\n",
    "else:\n",
    "    print\"this is executed when no errors\"\n",
    "finally:\n",
    "    print \"both caseses we can execute\""
   ]
  },
  {
   "cell_type": "code",
   "execution_count": null,
   "metadata": {},
   "outputs": [],
   "source": []
  },
  {
   "cell_type": "code",
   "execution_count": null,
   "metadata": {},
   "outputs": [],
   "source": []
  },
  {
   "cell_type": "code",
   "execution_count": null,
   "metadata": {},
   "outputs": [],
   "source": []
  }
 ],
 "metadata": {
  "kernelspec": {
   "display_name": "Python 2",
   "language": "python",
   "name": "python2"
  },
  "language_info": {
   "codemirror_mode": {
    "name": "ipython",
    "version": 2
   },
   "file_extension": ".py",
   "mimetype": "text/x-python",
   "name": "python",
   "nbconvert_exporter": "python",
   "pygments_lexer": "ipython2",
   "version": "2.7.16"
  }
 },
 "nbformat": 4,
 "nbformat_minor": 2
}
