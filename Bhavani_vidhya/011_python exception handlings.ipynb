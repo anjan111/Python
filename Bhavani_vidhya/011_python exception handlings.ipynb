{
 "cells": [
  {
   "cell_type": "code",
   "execution_count": 1,
   "metadata": {},
   "outputs": [
    {
     "name": "stdout",
     "output_type": "stream",
     "text": [
      "hello\n",
      "hai\n",
      "bye\n"
     ]
    }
   ],
   "source": [
    "# error\n",
    "'''\n",
    "--->> the mistakes with in the program \n",
    "'''\n",
    "# types of error\n",
    "'''\n",
    "--->> syntax error --->> while writing the program( proper syntax) \n",
    "--->> runtime error\n",
    "'''\n",
    "print \"hello\"\n",
    "print \"hai\"\n",
    "print \"bye\""
   ]
  },
  {
   "cell_type": "code",
   "execution_count": 2,
   "metadata": {},
   "outputs": [
    {
     "ename": "SyntaxError",
     "evalue": "EOL while scanning string literal (<ipython-input-2-feeac52aa472>, line 2)",
     "output_type": "error",
     "traceback": [
      "\u001b[1;36m  File \u001b[1;32m\"<ipython-input-2-feeac52aa472>\"\u001b[1;36m, line \u001b[1;32m2\u001b[0m\n\u001b[1;33m    print \"hai'\u001b[0m\n\u001b[1;37m              ^\u001b[0m\n\u001b[1;31mSyntaxError\u001b[0m\u001b[1;31m:\u001b[0m EOL while scanning string literal\n"
     ]
    }
   ],
   "source": [
    "print \"hello\"\n",
    "print \"hai'\n",
    "print \"bye\""
   ]
  },
  {
   "cell_type": "code",
   "execution_count": 3,
   "metadata": {},
   "outputs": [
    {
     "name": "stdout",
     "output_type": "stream",
     "text": [
      "hello\n",
      "hai\n",
      "bye\n"
     ]
    }
   ],
   "source": [
    "if( True):\n",
    "    print \"hello\"\n",
    "    print \"hai\"\n",
    "    print \"bye\""
   ]
  },
  {
   "cell_type": "code",
   "execution_count": 4,
   "metadata": {},
   "outputs": [
    {
     "ename": "SyntaxError",
     "evalue": "invalid syntax (<ipython-input-4-969834e47aec>, line 1)",
     "output_type": "error",
     "traceback": [
      "\u001b[1;36m  File \u001b[1;32m\"<ipython-input-4-969834e47aec>\"\u001b[1;36m, line \u001b[1;32m1\u001b[0m\n\u001b[1;33m    if( True)\u001b[0m\n\u001b[1;37m             ^\u001b[0m\n\u001b[1;31mSyntaxError\u001b[0m\u001b[1;31m:\u001b[0m invalid syntax\n"
     ]
    }
   ],
   "source": [
    "if( True)\n",
    "    print \"hello\"\n",
    "    print \"hai\"\n",
    "    print \"bye\""
   ]
  },
  {
   "cell_type": "code",
   "execution_count": 6,
   "metadata": {},
   "outputs": [
    {
     "ename": "IndentationError",
     "evalue": "unexpected indent (<ipython-input-6-fceac2e63194>, line 3)",
     "output_type": "error",
     "traceback": [
      "\u001b[1;36m  File \u001b[1;32m\"<ipython-input-6-fceac2e63194>\"\u001b[1;36m, line \u001b[1;32m3\u001b[0m\n\u001b[1;33m    print \"hai\"\u001b[0m\n\u001b[1;37m    ^\u001b[0m\n\u001b[1;31mIndentationError\u001b[0m\u001b[1;31m:\u001b[0m unexpected indent\n"
     ]
    }
   ],
   "source": [
    "if( True):\n",
    "    print \"hello\"\n",
    "     print \"hai\"\n",
    "    print \"bye\""
   ]
  },
  {
   "cell_type": "code",
   "execution_count": 7,
   "metadata": {},
   "outputs": [
    {
     "name": "stdout",
     "output_type": "stream",
     "text": [
      "hello\n"
     ]
    },
    {
     "ename": "ZeroDivisionError",
     "evalue": "integer division or modulo by zero",
     "output_type": "error",
     "traceback": [
      "\u001b[1;31m---------------------------------------------------------------------------\u001b[0m",
      "\u001b[1;31mZeroDivisionError\u001b[0m                         Traceback (most recent call last)",
      "\u001b[1;32m<ipython-input-7-df40a429e9d5>\u001b[0m in \u001b[0;36m<module>\u001b[1;34m()\u001b[0m\n\u001b[0;32m      4\u001b[0m '''\n\u001b[0;32m      5\u001b[0m \u001b[1;32mprint\u001b[0m \u001b[1;34m\"hello\"\u001b[0m\u001b[1;33m\u001b[0m\u001b[0m\n\u001b[1;32m----> 6\u001b[1;33m \u001b[1;32mprint\u001b[0m \u001b[1;36m12\u001b[0m\u001b[1;33m/\u001b[0m \u001b[1;36m0\u001b[0m\u001b[1;33m\u001b[0m\u001b[0m\n\u001b[0m\u001b[0;32m      7\u001b[0m \u001b[1;32mprint\u001b[0m \u001b[1;34m\"124\"\u001b[0m\u001b[1;33m\u001b[0m\u001b[0m\n\u001b[0;32m      8\u001b[0m \u001b[1;33m\u001b[0m\u001b[0m\n",
      "\u001b[1;31mZeroDivisionError\u001b[0m: integer division or modulo by zero"
     ]
    }
   ],
   "source": [
    "# runtime errors\n",
    "'''\n",
    "--->>> the errors we will get when we are execution process\n",
    "'''\n",
    "print \"hello\"\n",
    "print 12/ 0\n",
    "print \"124\"\n"
   ]
  },
  {
   "cell_type": "code",
   "execution_count": 8,
   "metadata": {},
   "outputs": [
    {
     "name": "stdout",
     "output_type": "stream",
     "text": [
      "hello\n"
     ]
    },
    {
     "ename": "IOError",
     "evalue": "[Errno 2] No such file or directory: 'jkkjfkfgk'",
     "output_type": "error",
     "traceback": [
      "\u001b[1;31m---------------------------------------------------------------------------\u001b[0m",
      "\u001b[1;31mIOError\u001b[0m                                   Traceback (most recent call last)",
      "\u001b[1;32m<ipython-input-8-38d7aeeba3cb>\u001b[0m in \u001b[0;36m<module>\u001b[1;34m()\u001b[0m\n\u001b[0;32m      1\u001b[0m \u001b[1;32mprint\u001b[0m \u001b[1;34m\"hello\"\u001b[0m\u001b[1;33m\u001b[0m\u001b[0m\n\u001b[1;32m----> 2\u001b[1;33m \u001b[1;32mprint\u001b[0m \u001b[0mopen\u001b[0m\u001b[1;33m(\u001b[0m\u001b[1;34m'jkkjfkfgk'\u001b[0m\u001b[1;33m)\u001b[0m\u001b[1;33m\u001b[0m\u001b[0m\n\u001b[0m\u001b[0;32m      3\u001b[0m \u001b[1;32mprint\u001b[0m \u001b[1;34m\"124\"\u001b[0m\u001b[1;33m\u001b[0m\u001b[0m\n",
      "\u001b[1;31mIOError\u001b[0m: [Errno 2] No such file or directory: 'jkkjfkfgk'"
     ]
    }
   ],
   "source": [
    "print \"hello\"\n",
    "print open('jkkjfkfgk')\n",
    "print \"124\""
   ]
  },
  {
   "cell_type": "code",
   "execution_count": 9,
   "metadata": {},
   "outputs": [
    {
     "name": "stdout",
     "output_type": "stream",
     "text": [
      "hello\n"
     ]
    },
    {
     "ename": "ImportError",
     "evalue": "No module named dfkgnfkgnfdkgndfg",
     "output_type": "error",
     "traceback": [
      "\u001b[1;31m---------------------------------------------------------------------------\u001b[0m",
      "\u001b[1;31mImportError\u001b[0m                               Traceback (most recent call last)",
      "\u001b[1;32m<ipython-input-9-c372de21bafe>\u001b[0m in \u001b[0;36m<module>\u001b[1;34m()\u001b[0m\n\u001b[0;32m      1\u001b[0m \u001b[1;32mprint\u001b[0m \u001b[1;34m\"hello\"\u001b[0m\u001b[1;33m\u001b[0m\u001b[0m\n\u001b[1;32m----> 2\u001b[1;33m \u001b[1;32mimport\u001b[0m \u001b[0mdfkgnfkgnfdkgndfg\u001b[0m\u001b[1;33m\u001b[0m\u001b[0m\n\u001b[0m\u001b[0;32m      3\u001b[0m \u001b[1;32mprint\u001b[0m \u001b[1;34m\"124\"\u001b[0m\u001b[1;33m\u001b[0m\u001b[0m\n",
      "\u001b[1;31mImportError\u001b[0m: No module named dfkgnfkgnfdkgndfg"
     ]
    }
   ],
   "source": [
    "print \"hello\"\n",
    "import dfkgnfkgnfdkgndfg\n",
    "print \"124\""
   ]
  },
  {
   "cell_type": "code",
   "execution_count": 10,
   "metadata": {},
   "outputs": [
    {
     "name": "stdout",
     "output_type": "stream",
     "text": [
      "hello\n"
     ]
    },
    {
     "ename": "TypeError",
     "evalue": "can't convert complex to int",
     "output_type": "error",
     "traceback": [
      "\u001b[1;31m---------------------------------------------------------------------------\u001b[0m",
      "\u001b[1;31mTypeError\u001b[0m                                 Traceback (most recent call last)",
      "\u001b[1;32m<ipython-input-10-0c7dca7cdc4a>\u001b[0m in \u001b[0;36m<module>\u001b[1;34m()\u001b[0m\n\u001b[0;32m      1\u001b[0m \u001b[1;32mprint\u001b[0m \u001b[1;34m\"hello\"\u001b[0m\u001b[1;33m\u001b[0m\u001b[0m\n\u001b[1;32m----> 2\u001b[1;33m \u001b[1;32mprint\u001b[0m \u001b[0mint\u001b[0m\u001b[1;33m(\u001b[0m\u001b[1;36m12\u001b[0m\u001b[1;33m+\u001b[0m\u001b[1;36m3j\u001b[0m\u001b[1;33m)\u001b[0m\u001b[1;33m\u001b[0m\u001b[0m\n\u001b[0m\u001b[0;32m      3\u001b[0m \u001b[1;32mprint\u001b[0m \u001b[1;34m\"124\"\u001b[0m\u001b[1;33m\u001b[0m\u001b[0m\n",
      "\u001b[1;31mTypeError\u001b[0m: can't convert complex to int"
     ]
    }
   ],
   "source": [
    "print \"hello\"\n",
    "print int(12+3j)\n",
    "print \"124\""
   ]
  },
  {
   "cell_type": "code",
   "execution_count": 11,
   "metadata": {},
   "outputs": [
    {
     "name": "stdout",
     "output_type": "stream",
     "text": [
      "hello\n"
     ]
    },
    {
     "ename": "ValueError",
     "evalue": "invalid literal for int() with base 10: 'kfkd'",
     "output_type": "error",
     "traceback": [
      "\u001b[1;31m---------------------------------------------------------------------------\u001b[0m",
      "\u001b[1;31mValueError\u001b[0m                                Traceback (most recent call last)",
      "\u001b[1;32m<ipython-input-11-58b2c82718dd>\u001b[0m in \u001b[0;36m<module>\u001b[1;34m()\u001b[0m\n\u001b[0;32m      1\u001b[0m \u001b[1;32mprint\u001b[0m \u001b[1;34m\"hello\"\u001b[0m\u001b[1;33m\u001b[0m\u001b[0m\n\u001b[1;32m----> 2\u001b[1;33m \u001b[1;32mprint\u001b[0m \u001b[0mint\u001b[0m\u001b[1;33m(\u001b[0m\u001b[1;34m\"kfkd\"\u001b[0m\u001b[1;33m)\u001b[0m\u001b[1;33m\u001b[0m\u001b[0m\n\u001b[0m\u001b[0;32m      3\u001b[0m \u001b[1;32mprint\u001b[0m \u001b[1;34m\"124\"\u001b[0m\u001b[1;33m\u001b[0m\u001b[0m\n",
      "\u001b[1;31mValueError\u001b[0m: invalid literal for int() with base 10: 'kfkd'"
     ]
    }
   ],
   "source": [
    "print \"hello\"\n",
    "print int(\"kfkd\")\n",
    "print \"124\""
   ]
  },
  {
   "cell_type": "code",
   "execution_count": 12,
   "metadata": {},
   "outputs": [
    {
     "name": "stdout",
     "output_type": "stream",
     "text": [
      "hello\n",
      "i am exception handler block \n"
     ]
    }
   ],
   "source": [
    "#exception\n",
    "'''\n",
    "-->> BCZ of runtime errors we can stop the execution of the program\n",
    "'''\n",
    "# exception handings \n",
    "'''\n",
    "try :\n",
    "    program \n",
    "    code\n",
    "except:\n",
    "    exception\n",
    "    handler\n",
    "\n",
    "'''\n",
    "try:\n",
    "    print \"hello\"\n",
    "    print 12/ 0# exception\n",
    "    print \"124\"\n",
    "except:\n",
    "    print \"i am exception handler block \""
   ]
  },
  {
   "cell_type": "code",
   "execution_count": 13,
   "metadata": {},
   "outputs": [
    {
     "name": "stdout",
     "output_type": "stream",
     "text": [
      "hello\n",
      "i am exception handler block \n"
     ]
    }
   ],
   "source": [
    "try:\n",
    "    print \"hello\"\n",
    "    import kngknsgknf\n",
    "    print \"124\"\n",
    "except:\n",
    "    print \"i am exception handler block \""
   ]
  },
  {
   "cell_type": "code",
   "execution_count": 14,
   "metadata": {},
   "outputs": [
    {
     "name": "stdout",
     "output_type": "stream",
     "text": [
      "hello\n",
      "i am exception handler block \n"
     ]
    }
   ],
   "source": [
    "try:\n",
    "    print \"hello\"\n",
    "    open(\"bjbfjd\")\n",
    "    print \"124\"\n",
    "except:\n",
    "    print \"i am exception handler block \""
   ]
  },
  {
   "cell_type": "code",
   "execution_count": 17,
   "metadata": {},
   "outputs": [
    {
     "name": "stdout",
     "output_type": "stream",
     "text": [
      "hello\n",
      "this is Zero Division error exception handler\n"
     ]
    }
   ],
   "source": [
    "try:\n",
    "    print \"hello\"\n",
    "    print 12/ 0# exception\n",
    "    print \"124\"\n",
    "except ValueError:\n",
    "    print \"this is value error exception handler\"\n",
    "except TypeError:\n",
    "    print \"this is Type error exception handler\"\n",
    "except ImportError:\n",
    "    print \"this is Import error exception handler\"\n",
    "except IOError:\n",
    "    print \"this is IOerror exception handler\"\n",
    "except ZeroDivisionError:\n",
    "    print \"this is Zero Division error exception handler\"\n",
    "except:\n",
    "    print \"i am exception handler block \""
   ]
  },
  {
   "cell_type": "code",
   "execution_count": 18,
   "metadata": {},
   "outputs": [
    {
     "name": "stdout",
     "output_type": "stream",
     "text": [
      "hello\n",
      "i am exception handler block \n"
     ]
    }
   ],
   "source": [
    "try:\n",
    "    print \"hello\"\n",
    "    print Var\n",
    "    print \"124\"\n",
    "except ValueError:\n",
    "    print \"this is value error exception handler\"\n",
    "except TypeError:\n",
    "    print \"this is Type error exception handler\"\n",
    "except ImportError:\n",
    "    print \"this is Import error exception handler\"\n",
    "except IOError:\n",
    "    print \"this is IOerror exception handler\"\n",
    "except ZeroDivisionError:\n",
    "    print \"this is Zero Division error exception handler\"\n",
    "except:\n",
    "    print \"i am exception handler block \""
   ]
  },
  {
   "cell_type": "code",
   "execution_count": 21,
   "metadata": {},
   "outputs": [
    {
     "name": "stdout",
     "output_type": "stream",
     "text": [
      "hello\n",
      "this is Name error exception handler\n",
      "both cases it can be excuted \n"
     ]
    }
   ],
   "source": [
    "try:\n",
    "    print \"hello\"\n",
    "    print Var# exception\n",
    "    print \"124\"\n",
    "except ValueError:\n",
    "    print \"this is value error exception handler\"\n",
    "except TypeError:\n",
    "    print \"this is Type error exception handler\"\n",
    "except ImportError:\n",
    "    print \"this is Import error exception handler\"\n",
    "except IOError:\n",
    "    print \"this is IOerror exception handler\"\n",
    "except ZeroDivisionError:\n",
    "    print \"this is Zero Division error exception handler\"\n",
    "except NameError:\n",
    "    print \"this is Name error exception handler\"\n",
    "except:\n",
    "    print \"i am exception handler block \"\n",
    "else:\n",
    "    print \"No more exception\"\n",
    "finally:\n",
    "    print \"both cases it can be excuted \""
   ]
  },
  {
   "cell_type": "code",
   "execution_count": 22,
   "metadata": {},
   "outputs": [
    {
     "name": "stdout",
     "output_type": "stream",
     "text": [
      "hello\n",
      "hai\n",
      "124\n",
      "No more exception\n",
      "both cases it can be excuted \n"
     ]
    }
   ],
   "source": [
    "try:\n",
    "    print \"hello\"\n",
    "    print \"hai\"\n",
    "    print \"124\"\n",
    "except ValueError:\n",
    "    print \"this is value error exception handler\"\n",
    "except TypeError:\n",
    "    print \"this is Type error exception handler\"\n",
    "except ImportError:\n",
    "    print \"this is Import error exception handler\"\n",
    "except IOError:\n",
    "    print \"this is IOerror exception handler\"\n",
    "except ZeroDivisionError:\n",
    "    print \"this is Zero Division error exception handler\"\n",
    "except NameError:\n",
    "    print \"this is Name error exception handler\"\n",
    "except:\n",
    "    print \"i am exception handler block \"\n",
    "else:\n",
    "    print \"No more exception\"\n",
    "finally:\n",
    "    print \"both cases it can be excuted \""
   ]
  },
  {
   "cell_type": "code",
   "execution_count": 23,
   "metadata": {},
   "outputs": [
    {
     "name": "stdout",
     "output_type": "stream",
     "text": [
      "hello\n",
      "this is Name error exception handler\n",
      "both cases it can be excuted \n"
     ]
    }
   ],
   "source": [
    "try:\n",
    "    print \"hello\"\n",
    "    raise NameError\n",
    "    print \"124\"\n",
    "except ValueError:\n",
    "    print \"this is value error exception handler\"\n",
    "except TypeError:\n",
    "    print \"this is Type error exception handler\"\n",
    "except ImportError:\n",
    "    print \"this is Import error exception handler\"\n",
    "except IOError:\n",
    "    print \"this is IOerror exception handler\"\n",
    "except ZeroDivisionError:\n",
    "    print \"this is Zero Division error exception handler\"\n",
    "except NameError:\n",
    "    print \"this is Name error exception handler\"\n",
    "except:\n",
    "    print \"i am exception handler block \"\n",
    "else:\n",
    "    print \"No more exception\"\n",
    "finally:\n",
    "    print \"both cases it can be excuted \""
   ]
  },
  {
   "cell_type": "code",
   "execution_count": 24,
   "metadata": {},
   "outputs": [
    {
     "name": "stdout",
     "output_type": "stream",
     "text": [
      "hello\n",
      "this is Type error exception handler\n",
      "both cases it can be excuted \n"
     ]
    }
   ],
   "source": [
    "try:\n",
    "    print \"hello\"\n",
    "    raise \n",
    "    print \"124\"\n",
    "except ValueError:\n",
    "    print \"this is value error exception handler\"\n",
    "except TypeError:\n",
    "    print \"this is Type error exception handler\"\n",
    "except ImportError:\n",
    "    print \"this is Import error exception handler\"\n",
    "except IOError:\n",
    "    print \"this is IOerror exception handler\"\n",
    "except ZeroDivisionError:\n",
    "    print \"this is Zero Division error exception handler\"\n",
    "except NameError:\n",
    "    print \"this is Name error exception handler\"\n",
    "except:\n",
    "    print \"i am exception handler block \"\n",
    "else:\n",
    "    print \"No more exception\"\n",
    "finally:\n",
    "    print \"both cases it can be excuted \""
   ]
  },
  {
   "cell_type": "code",
   "execution_count": null,
   "metadata": {},
   "outputs": [],
   "source": []
  },
  {
   "cell_type": "code",
   "execution_count": null,
   "metadata": {},
   "outputs": [],
   "source": []
  }
 ],
 "metadata": {
  "kernelspec": {
   "display_name": "Python 2",
   "language": "python",
   "name": "python2"
  },
  "language_info": {
   "codemirror_mode": {
    "name": "ipython",
    "version": 2
   },
   "file_extension": ".py",
   "mimetype": "text/x-python",
   "name": "python",
   "nbconvert_exporter": "python",
   "pygments_lexer": "ipython2",
   "version": "2.7.16"
  }
 },
 "nbformat": 4,
 "nbformat_minor": 2
}
