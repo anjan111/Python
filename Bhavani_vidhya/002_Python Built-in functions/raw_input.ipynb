{
 "cells": [
  {
   "cell_type": "code",
   "execution_count": 2,
   "metadata": {},
   "outputs": [
    {
     "name": "stdout",
     "output_type": "stream",
     "text": [
      "enter int :789\n",
      "789\n",
      "<type 'str'>\n",
      "id :  86003224\n"
     ]
    }
   ],
   "source": [
    "var = raw_input(\"enter int :\")\n",
    "print var\n",
    "print type(var)# data type\n",
    "print \"id : \",id(var)# memory loc"
   ]
  },
  {
   "cell_type": "code",
   "execution_count": 3,
   "metadata": {},
   "outputs": [
    {
     "name": "stdout",
     "output_type": "stream",
     "text": [
      "enter float :78.545\n",
      "78.545\n",
      "<type 'str'>\n",
      "id :  86003264\n"
     ]
    }
   ],
   "source": [
    "var = raw_input(\"enter float :\")\n",
    "print var\n",
    "print type(var)# data type\n",
    "print \"id : \",id(var)# memory loc"
   ]
  },
  {
   "cell_type": "code",
   "execution_count": 4,
   "metadata": {},
   "outputs": [
    {
     "name": "stdout",
     "output_type": "stream",
     "text": [
      "enter int :789\n",
      "789\n",
      "<type 'int'>\n",
      "id :  76984176\n"
     ]
    }
   ],
   "source": [
    "var = input(\"enter int :\")\n",
    "print var\n",
    "print type(var)# data type\n",
    "print \"id : \",id(var)# memory loc"
   ]
  },
  {
   "cell_type": "code",
   "execution_count": null,
   "metadata": {},
   "outputs": [],
   "source": [
    "# read all datatypes using raw_input and input \n",
    "# check memory loc and datatype"
   ]
  },
  {
   "cell_type": "code",
   "execution_count": null,
   "metadata": {},
   "outputs": [],
   "source": []
  }
 ],
 "metadata": {
  "kernelspec": {
   "display_name": "Python 2",
   "language": "python",
   "name": "python2"
  },
  "language_info": {
   "codemirror_mode": {
    "name": "ipython",
    "version": 2
   },
   "file_extension": ".py",
   "mimetype": "text/x-python",
   "name": "python",
   "nbconvert_exporter": "python",
   "pygments_lexer": "ipython2",
   "version": "2.7.16"
  }
 },
 "nbformat": 4,
 "nbformat_minor": 2
}
