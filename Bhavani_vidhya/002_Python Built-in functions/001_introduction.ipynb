{
 "cells": [
  {
   "cell_type": "markdown",
   "metadata": {},
   "source": [
    "#  Function\n",
    "\n",
    "===>>> Collection of statements to do any one specific task\n",
    "\n",
    "# Types of functions\n",
    "\n",
    "##### 1. User defined Function\n",
    "\n",
    "===>>> The functions can defined by programmer for his own requirements\n",
    "\n",
    "##### 2. Pre defined function\n",
    "\n",
    "===>>> The functions whicha are already defined with in the python ide\n",
    "\n",
    "##### 1. input functions\n",
    "\n",
    "==>> To read the data from keyboard \n",
    "\n",
    "    1. raw_input()\n",
    "    \n",
    "    2. input()\n",
    "\n",
    "##### 2. output functions\n",
    "\n",
    "==>> To display the data on monitor\n",
    "\n",
    "       1. print statement\n",
    "       \n",
    "       2. print( function )\n",
    "\n",
    "##### 3. type & id functions\n",
    "\n",
    "===>> type function is used for to know the datatype\n",
    "\n",
    "===>> id function is used for to know the memory location\n",
    "\n",
    "4. Data type conversion functions\n",
    "\n",
    "5. Number system conversion function"
   ]
  },
  {
   "cell_type": "code",
   "execution_count": null,
   "metadata": {},
   "outputs": [],
   "source": [
    "# wap read int and store in var variable then print data with in var , display the datatype and display the memory loc\n",
    "var = raw_input(\"enter int data  : \")\n",
    "print \"data in var : \",var\n",
    "print(type(var))\n",
    "print \"memory loc :\",id(var)\n",
    "var = input(\"enter int data  : \")\n",
    "print \"data in var : \",var\n",
    "print(type(var))\n",
    "print \"memory loc :\",id(var)"
   ]
  },
  {
   "cell_type": "code",
   "execution_count": null,
   "metadata": {},
   "outputs": [],
   "source": [
    "# wap read float and store in var variable then print data with in var , display the datatype and display the memory loc\n",
    "var = raw_input(\"enter float data  : \")\n",
    "print \"data in var : \",var\n",
    "print(type(var))\n",
    "print \"memory loc :\",id(var)\n",
    "var = input(\"enter float data  : \")\n",
    "print \"data in var : \",var\n",
    "print(type(var))\n",
    "print \"memory loc :\",id(var)"
   ]
  },
  {
   "cell_type": "code",
   "execution_count": null,
   "metadata": {},
   "outputs": [],
   "source": [
    "# wap find the addition of 2 numbers using raw_input\n",
    "a = raw_input(\"enter int a : \")\n",
    "b = raw_input(\"enter int b : \")\n",
    "print a+b"
   ]
  },
  {
   "cell_type": "code",
   "execution_count": null,
   "metadata": {},
   "outputs": [],
   "source": [
    "# datatype conversion functions\n",
    "'''\n",
    "===>> we can convert  from one datatype another datatype\n",
    "\n",
    "int ()\n",
    "float()\n",
    "complex()\n",
    "bool()\n",
    "str()\n",
    "list()\n",
    "tuple()\n",
    "set()\n",
    "dict()\n",
    "\n",
    "'''\n",
    "\n",
    "# wap read int by raw_input and  converts from str int   to int\n",
    "\n",
    "var = raw_input(\"enter int : \")\n",
    "print var\n",
    "print type(var)\n",
    "var = int(var)\n",
    "print var\n",
    "print type(var)"
   ]
  },
  {
   "cell_type": "code",
   "execution_count": 1,
   "metadata": {},
   "outputs": [
    {
     "name": "stdout",
     "output_type": "stream",
     "text": [
      "enter float : 78.894\n",
      "78.894\n",
      "<type 'str'>\n",
      "78.894\n",
      "<type 'float'>\n"
     ]
    }
   ],
   "source": [
    "# wap read flaot by raw_input and  converts from str float to float\n",
    "\n",
    "var = raw_input(\"enter float : \")\n",
    "print var\n",
    "print type(var)\n",
    "var = float(var)\n",
    "print var\n",
    "print type(var)"
   ]
  },
  {
   "cell_type": "code",
   "execution_count": 2,
   "metadata": {},
   "outputs": [
    {
     "name": "stdout",
     "output_type": "stream",
     "text": [
      "enter complex : 7+4j\n",
      "7+4j\n",
      "<type 'str'>\n",
      "(7+4j)\n",
      "<type 'complex'>\n"
     ]
    }
   ],
   "source": [
    "# wap read complex by raw_input and  converts from str complex to complex\n",
    "\n",
    "var = raw_input(\"enter complex : \")\n",
    "print var\n",
    "print type(var)\n",
    "var = complex(var)\n",
    "print var\n",
    "print type(var)"
   ]
  },
  {
   "cell_type": "code",
   "execution_count": 3,
   "metadata": {},
   "outputs": [
    {
     "name": "stdout",
     "output_type": "stream",
     "text": [
      "{89: '67', 12: 'soc'}\n",
      "<type 'dict'>\n"
     ]
    }
   ],
   "source": [
    "# dict  ===>> {k1 : v1  ,  k2 : v2  , k3 : v3}\n",
    "var = {12 : \"soc\" ,  89 : \"67\"}\n",
    "print var\n",
    "print type(var)"
   ]
  },
  {
   "cell_type": "code",
   "execution_count": 5,
   "metadata": {},
   "outputs": [
    {
     "name": "stdout",
     "output_type": "stream",
     "text": [
      "set([89, 12, '67'])\n",
      "<type 'set'>\n"
     ]
    }
   ],
   "source": [
    "# set  ===>> {k1   ,  k2  , k3 }\n",
    "var = {12 ,89 ,\"67\"}\n",
    "print var\n",
    "print type(var)"
   ]
  },
  {
   "cell_type": "code",
   "execution_count": 6,
   "metadata": {},
   "outputs": [
    {
     "name": "stdout",
     "output_type": "stream",
     "text": [
      "(12, 89, '67')\n",
      "<type 'tuple'>\n"
     ]
    }
   ],
   "source": [
    "# tuple  ===>> (k1   ,  k2  , k3 )\n",
    "var = (12 ,89 ,\"67\")\n",
    "print var\n",
    "print type(var)"
   ]
  },
  {
   "cell_type": "code",
   "execution_count": 7,
   "metadata": {},
   "outputs": [
    {
     "name": "stdout",
     "output_type": "stream",
     "text": [
      "[12, 89, '67']\n",
      "<type 'list'>\n"
     ]
    }
   ],
   "source": [
    "# list  ===>> [k1   ,  k2  , k3 ]\n",
    "var = [12 ,89 ,\"67\"]\n",
    "print var\n",
    "print type(var)"
   ]
  },
  {
   "cell_type": "code",
   "execution_count": 8,
   "metadata": {},
   "outputs": [
    {
     "name": "stdout",
     "output_type": "stream",
     "text": [
      "kjdhkjddjk\n",
      "<type 'str'>\n"
     ]
    }
   ],
   "source": [
    "# str ===>> \" \"\n",
    "var = \"kjdhkjddjk\"\n",
    "print var\n",
    "print type(var)"
   ]
  },
  {
   "cell_type": "code",
   "execution_count": 9,
   "metadata": {},
   "outputs": [
    {
     "name": "stdout",
     "output_type": "stream",
     "text": [
      "None\n",
      "<type 'NoneType'>\n"
     ]
    }
   ],
   "source": [
    "# Nonetype  \n",
    "var = None\n",
    "print var\n",
    "print type(var)"
   ]
  },
  {
   "cell_type": "code",
   "execution_count": 10,
   "metadata": {},
   "outputs": [
    {
     "name": "stdout",
     "output_type": "stream",
     "text": [
      "True\n",
      "<type 'bool'>\n",
      "False\n",
      "<type 'bool'>\n"
     ]
    }
   ],
   "source": [
    "# bool  \n",
    "var = True\n",
    "print var\n",
    "print type(var)\n",
    "var = False\n",
    "print var\n",
    "print type(var)"
   ]
  },
  {
   "cell_type": "code",
   "execution_count": 14,
   "metadata": {},
   "outputs": [
    {
     "name": "stdout",
     "output_type": "stream",
     "text": [
      "enter seq : {12 :\"34\" , 89:\"100\"}\n",
      "{89: '100', 12: '34'}\n",
      "2\n"
     ]
    }
   ],
   "source": [
    "# len() ---> to find the no of elements in any seq datatype\n",
    "var = input(\"enter seq : \")\n",
    "print var\n",
    "print len(var)"
   ]
  },
  {
   "cell_type": "code",
   "execution_count": 17,
   "metadata": {},
   "outputs": [
    {
     "name": "stdout",
     "output_type": "stream",
     "text": [
      "enter seq : 78,89\n",
      "(78, 89)\n",
      "89\n",
      "78\n",
      "167\n"
     ]
    }
   ],
   "source": [
    "# max() --->>>to return the biggest number from group of elements\n",
    "# min() --->>> to return the smallest number from group of elements\n",
    "# sum() --->> sum of all elements in any seq datatype\n",
    "var = input(\"enter seq : \")\n",
    "print var\n",
    "print max(var)\n",
    "print min(var)\n",
    "print sum(var)"
   ]
  },
  {
   "cell_type": "code",
   "execution_count": 19,
   "metadata": {},
   "outputs": [
    {
     "name": "stdout",
     "output_type": "stream",
     "text": [
      "97\n",
      "98\n",
      "122\n"
     ]
    }
   ],
   "source": [
    "# ord () ---->>> to return ascii number for any single character\n",
    "print ord('a') # 97\n",
    "print ord('b')#98\n",
    "print ord('z')# 122\n"
   ]
  },
  {
   "cell_type": "code",
   "execution_count": 20,
   "metadata": {},
   "outputs": [
    {
     "name": "stdout",
     "output_type": "stream",
     "text": [
      "A\n",
      "B\n",
      "Z\n"
     ]
    }
   ],
   "source": [
    "# chr() --->> to return the character for any ascii number\n",
    "print chr(65)# 'A'\n",
    "print chr(66)# 'B'\n",
    "print chr(90)# 'Z'"
   ]
  }
 ],
 "metadata": {
  "kernelspec": {
   "display_name": "Python 2",
   "language": "python",
   "name": "python2"
  },
  "language_info": {
   "codemirror_mode": {
    "name": "ipython",
    "version": 2
   },
   "file_extension": ".py",
   "mimetype": "text/x-python",
   "name": "python",
   "nbconvert_exporter": "python",
   "pygments_lexer": "ipython2",
   "version": "2.7.16"
  }
 },
 "nbformat": 4,
 "nbformat_minor": 2
}
