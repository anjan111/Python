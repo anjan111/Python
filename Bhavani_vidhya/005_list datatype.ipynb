{
 "cells": [
  {
   "cell_type": "code",
   "execution_count": 4,
   "metadata": {},
   "outputs": [
    {
     "name": "stdout",
     "output_type": "stream",
     "text": [
      "[]\n",
      "<type 'list'>\n",
      "memory :  77957960\n"
     ]
    }
   ],
   "source": [
    "# list datatype\n",
    "'''\n",
    "==>> collection of elements/ data with in []\n",
    "'''\n",
    "var =[]\n",
    "print var\n",
    "print type(var)\n",
    "print \"memory : \",id(var)"
   ]
  },
  {
   "cell_type": "code",
   "execution_count": 7,
   "metadata": {},
   "outputs": [
    {
     "name": "stdout",
     "output_type": "stream",
     "text": [
      "[12, 45, 34]\n",
      "<type 'list'>\n",
      "memory loc :  77957960\n"
     ]
    }
   ],
   "source": [
    "# all elements are same datatype --->> homogenious list datatype\n",
    "var = [12 , 45,34]\n",
    "print var\n",
    "print type(var)\n",
    "print \"memory loc : \",id(var)"
   ]
  },
  {
   "cell_type": "code",
   "execution_count": 9,
   "metadata": {},
   "outputs": [
    {
     "name": "stdout",
     "output_type": "stream",
     "text": [
      "[12, 4.23, (3+4j), None, True, False]\n",
      "<type 'list'>\n",
      "memory loc :  79103688\n"
     ]
    }
   ],
   "source": [
    "# it can store dissimilar datatype elements ---> hetrogenious list datatype\n",
    "var = [12,4.23,3+4j,None,True,False]\n",
    "print var\n",
    "print type(var)\n",
    "print \"memory loc : \",id(var)"
   ]
  },
  {
   "cell_type": "code",
   "execution_count": 11,
   "metadata": {},
   "outputs": [
    {
     "name": "stdout",
     "output_type": "stream",
     "text": [
      "['python', [1, 2, 3], (1, 2), set([1, 2]), {12: 34}]\n",
      "<type 'list'>\n",
      "memory loc :  72875208\n"
     ]
    }
   ],
   "source": [
    "# nested list --->> list <---- seq datatype( str,list,tuple, set,dict)\n",
    "var= [\"python\", [ 1,2,3],(1,2),{1,2},{12:34}]\n",
    "print var\n",
    "print type(var)\n",
    "print \"memory loc : \",id(var)"
   ]
  },
  {
   "cell_type": "code",
   "execution_count": 13,
   "metadata": {},
   "outputs": [
    {
     "name": "stdout",
     "output_type": "stream",
     "text": [
      "[]\n",
      "<type 'list'>\n",
      "memory loc : 79103240\n"
     ]
    }
   ],
   "source": [
    "# list() --->> list function \n",
    "var = list()\n",
    "print var\n",
    "print type(var)\n",
    "print \"memory loc :\",id(var)"
   ]
  },
  {
   "cell_type": "code",
   "execution_count": 16,
   "metadata": {},
   "outputs": [
    {
     "name": "stdout",
     "output_type": "stream",
     "text": [
      "[12, 67.4, 'soc']\n",
      "<type 'list'>\n",
      "memory loc : 79847048\n"
     ]
    }
   ],
   "source": [
    "# list() --->> list function \n",
    "var = list((12,67.4,\"soc\"))\n",
    "print var\n",
    "print type(var)\n",
    "print \"memory loc :\",id(var)"
   ]
  },
  {
   "cell_type": "code",
   "execution_count": 18,
   "metadata": {},
   "outputs": [
    {
     "name": "stdout",
     "output_type": "stream",
     "text": [
      "postive indexing : \n",
      "12\n",
      "89\n",
      "56\n",
      "23\n",
      "negative indexing \n",
      "23\n",
      "56\n",
      "89\n",
      "12\n"
     ]
    }
   ],
   "source": [
    "# access the elements from list\n",
    "'''\n",
    "===>> indexing \n",
    "        1. positive indexing / forward-->> 0 to len-1\n",
    "        2. negative indexing / backward-->> -1 to -len\n",
    "\n",
    "==>> slicing \n",
    "===>> dicing \n",
    "'''\n",
    "var = [12,89,56,23] # len----->> 4\n",
    "print \"postive indexing : \"\n",
    "print var[0]# 12\n",
    "print var[1]# 89\n",
    "print var[2]# 56\n",
    "print var[3]# 23\n",
    "print \"negative indexing \"\n",
    "print var[-1]# 23\n",
    "print var[-2]# 56\n",
    "print var[-3]# 89\n",
    "print var[-4]#12"
   ]
  },
  {
   "cell_type": "code",
   "execution_count": 21,
   "metadata": {},
   "outputs": [
    {
     "name": "stdout",
     "output_type": "stream",
     "text": [
      "[8, 9]\n",
      "[8, 9, 1, 5]\n",
      "[8, 9, 1, 5]\n",
      "[8, 9, 1]\n",
      "[12, 45, 2, 8]\n",
      "[12, 45, 2, 8]\n"
     ]
    }
   ],
   "source": [
    "# list slicing\n",
    "'''\n",
    "var[start_index :  stop_index]\n",
    "\n",
    "start_index --->>  0\n",
    "stop_index  --->>  len\n",
    "'''\n",
    "var = [12,45,2,8,9,1,5]# len --->> 7\n",
    "print var[3:5]#[8,9]\n",
    "print var[3:]# [8,9,1,5]\n",
    "print var[3:7]# [8,9,1,5]\n",
    "print var[3:6]#[8,9,1]\n",
    "print var[:4]# [12,45,2,8]\n",
    "print var[0:4]#[12,45,2,8]"
   ]
  },
  {
   "cell_type": "code",
   "execution_count": 25,
   "metadata": {},
   "outputs": [
    {
     "name": "stdout",
     "output_type": "stream",
     "text": [
      "[1, 2]\n",
      "[1, 2, 10]\n",
      "[1, 2, 10]\n",
      "[12, 45, 9, 7]\n",
      "[1, 9, 2, 7]\n"
     ]
    }
   ],
   "source": [
    "# list dicing\n",
    "'''\n",
    "var[start : stop : step]\n",
    "start ---> 0\n",
    "stop  ---> len\n",
    "step  ---> 1\n",
    "'''\n",
    "var = [12,56,45,1,9,2,7,10] # len --->> 8\n",
    "print var[3:7:2]#3,5# [1,2]\n",
    "print var[3::2]# 3,5,7#[1,2,10]\n",
    "print var[3:8:2]# 3,5,7#[1,2,10]\n",
    "\n",
    "print var[:7:2]#0,2,4,6 #[12,45,9,7]\n",
    "print var[3:7:]#[1,9,2,7]"
   ]
  },
  {
   "cell_type": "code",
   "execution_count": 29,
   "metadata": {},
   "outputs": [
    {
     "name": "stdout",
     "output_type": "stream",
     "text": [
      "soc\n",
      "o\n",
      "[1, 2, 4]\n",
      "[1, 4]\n",
      "so\n"
     ]
    }
   ],
   "source": [
    "# nested index \n",
    "var = [\"soc\",[1,2,4]]\n",
    "print var[0]#\"soc\"\n",
    "print var[0][1]#'o'\n",
    "print var[1]# [1,2,4]\n",
    "print var[1][0:3:2]\n",
    "print var[0][0:2]"
   ]
  },
  {
   "cell_type": "code",
   "execution_count": 31,
   "metadata": {},
   "outputs": [
    {
     "name": "stdout",
     "output_type": "stream",
     "text": [
      "o\n"
     ]
    },
    {
     "ename": "TypeError",
     "evalue": "'str' object does not support item assignment",
     "output_type": "error",
     "traceback": [
      "\u001b[1;31m---------------------------------------------------------------------------\u001b[0m",
      "\u001b[1;31mTypeError\u001b[0m                                 Traceback (most recent call last)",
      "\u001b[1;32m<ipython-input-31-f9e6ffd66fde>\u001b[0m in \u001b[0;36m<module>\u001b[1;34m()\u001b[0m\n\u001b[0;32m      1\u001b[0m \u001b[0mvar\u001b[0m \u001b[1;33m=\u001b[0m\u001b[1;34m\"soc\"\u001b[0m\u001b[1;33m\u001b[0m\u001b[0m\n\u001b[0;32m      2\u001b[0m \u001b[1;32mprint\u001b[0m \u001b[0mvar\u001b[0m\u001b[1;33m[\u001b[0m\u001b[1;36m1\u001b[0m\u001b[1;33m]\u001b[0m\u001b[1;31m# 'o'\u001b[0m\u001b[1;33m\u001b[0m\u001b[0m\n\u001b[1;32m----> 3\u001b[1;33m \u001b[0mvar\u001b[0m\u001b[1;33m[\u001b[0m\u001b[1;36m1\u001b[0m\u001b[1;33m]\u001b[0m \u001b[1;33m=\u001b[0m \u001b[1;34m'c'\u001b[0m\u001b[1;33m\u001b[0m\u001b[0m\n\u001b[0m",
      "\u001b[1;31mTypeError\u001b[0m: 'str' object does not support item assignment"
     ]
    }
   ],
   "source": [
    "var =\"soc\"\n",
    "print var[1]# 'o'\n",
    "var[1] = 'c'"
   ]
  },
  {
   "cell_type": "code",
   "execution_count": 1,
   "metadata": {},
   "outputs": [
    {
     "name": "stdout",
     "output_type": "stream",
     "text": [
      "2\n",
      "[1, 34, 5]\n"
     ]
    }
   ],
   "source": [
    "# list is mutable datatype\n",
    "var = [1,2,5]\n",
    "print var[1]\n",
    "var[1]=34\n",
    "print var"
   ]
  },
  {
   "cell_type": "code",
   "execution_count": 4,
   "metadata": {},
   "outputs": [
    {
     "name": "stdout",
     "output_type": "stream",
     "text": [
      "34\n"
     ]
    },
    {
     "ename": "TypeError",
     "evalue": "'tuple' object does not support item assignment",
     "output_type": "error",
     "traceback": [
      "\u001b[1;31m---------------------------------------------------------------------------\u001b[0m",
      "\u001b[1;31mTypeError\u001b[0m                                 Traceback (most recent call last)",
      "\u001b[1;32m<ipython-input-4-46be2cb25e8b>\u001b[0m in \u001b[0;36m<module>\u001b[1;34m()\u001b[0m\n\u001b[0;32m      2\u001b[0m \u001b[0mvar\u001b[0m \u001b[1;33m=\u001b[0m \u001b[1;33m(\u001b[0m\u001b[1;36m12\u001b[0m\u001b[1;33m,\u001b[0m\u001b[1;36m34\u001b[0m\u001b[1;33m,\u001b[0m\u001b[1;36m2\u001b[0m\u001b[1;33m)\u001b[0m\u001b[1;33m\u001b[0m\u001b[0m\n\u001b[0;32m      3\u001b[0m \u001b[1;32mprint\u001b[0m \u001b[0mvar\u001b[0m\u001b[1;33m[\u001b[0m\u001b[1;36m1\u001b[0m\u001b[1;33m]\u001b[0m\u001b[1;33m\u001b[0m\u001b[0m\n\u001b[1;32m----> 4\u001b[1;33m \u001b[0mvar\u001b[0m\u001b[1;33m[\u001b[0m\u001b[1;36m1\u001b[0m\u001b[1;33m]\u001b[0m\u001b[1;33m=\u001b[0m\u001b[1;36m23\u001b[0m\u001b[1;33m\u001b[0m\u001b[0m\n\u001b[0m",
      "\u001b[1;31mTypeError\u001b[0m: 'tuple' object does not support item assignment"
     ]
    }
   ],
   "source": [
    "# tuple is immutable\n",
    "var = (12,34,2)\n",
    "print var[1]\n",
    "var[1]=23"
   ]
  },
  {
   "cell_type": "code",
   "execution_count": 6,
   "metadata": {},
   "outputs": [
    {
     "name": "stdout",
     "output_type": "stream",
     "text": [
      "['__add__', '__class__', '__contains__', '__delattr__', '__delitem__', '__delslice__', '__doc__', '__eq__', '__format__', '__ge__', '__getattribute__', '__getitem__', '__getslice__', '__gt__', '__hash__', '__iadd__', '__imul__', '__init__', '__iter__', '__le__', '__len__', '__lt__', '__mul__', '__ne__', '__new__', '__reduce__', '__reduce_ex__', '__repr__', '__reversed__', '__rmul__', '__setattr__', '__setitem__', '__setslice__', '__sizeof__', '__str__', '__subclasshook__', 'append', 'count', 'extend', 'index', 'insert', 'pop', 'remove', 'reverse', 'sort']\n"
     ]
    }
   ],
   "source": [
    "# list --->> class --->> special , manipulation\n",
    "print dir(list)"
   ]
  },
  {
   "cell_type": "code",
   "execution_count": 9,
   "metadata": {},
   "outputs": [
    {
     "name": "stdout",
     "output_type": "stream",
     "text": [
      "[1, 2, 3, 4]\n",
      "[1, 2, 3, 4]\n"
     ]
    }
   ],
   "source": [
    "a = [1,2]\n",
    "b = [3,4]\n",
    "print a+b\n",
    "print a.__add__(b)"
   ]
  },
  {
   "cell_type": "code",
   "execution_count": 11,
   "metadata": {},
   "outputs": [
    {
     "name": "stdout",
     "output_type": "stream",
     "text": [
      "[1, 2, 1, 2, 1, 2]\n",
      "[1, 2, 1, 2, 1, 2]\n"
     ]
    }
   ],
   "source": [
    "a = [1,2]\n",
    "b = [3,4]\n",
    "print a*3\n",
    "print a.__mul__(3)"
   ]
  },
  {
   "cell_type": "code",
   "execution_count": 13,
   "metadata": {},
   "outputs": [
    {
     "name": "stdout",
     "output_type": "stream",
     "text": [
      "True\n",
      "True\n"
     ]
    }
   ],
   "source": [
    "a = [1,2]\n",
    "b = [3,4]\n",
    "print a < b\n",
    "print a.__lt__(b)"
   ]
  },
  {
   "cell_type": "code",
   "execution_count": 14,
   "metadata": {},
   "outputs": [
    {
     "name": "stdout",
     "output_type": "stream",
     "text": [
      "False\n",
      "False\n"
     ]
    }
   ],
   "source": [
    "a = [1,2]\n",
    "b = [3,4]\n",
    "print a > b\n",
    "print a.__gt__(b)"
   ]
  },
  {
   "cell_type": "code",
   "execution_count": 15,
   "metadata": {},
   "outputs": [
    {
     "name": "stdout",
     "output_type": "stream",
     "text": [
      "[]\n",
      "[23]\n",
      "[23, 50]\n",
      "[23, 50, 100]\n"
     ]
    }
   ],
   "source": [
    "#['append', 'count', 'extend', 'index', 'insert', 'pop', 'remove', 'reverse', 'sort']\n",
    "a = []\n",
    "print a\n",
    "a.append(23)\n",
    "print a\n",
    "a.append(50)\n",
    "print a\n",
    "a.append(100)\n",
    "print a"
   ]
  },
  {
   "cell_type": "code",
   "execution_count": 19,
   "metadata": {},
   "outputs": [
    {
     "name": "stdout",
     "output_type": "stream",
     "text": [
      "3\n",
      "1\n"
     ]
    }
   ],
   "source": [
    "a = [23,89,23,78,23]\n",
    "print a.count(23)\n",
    "print a.count(78)"
   ]
  },
  {
   "cell_type": "code",
   "execution_count": 20,
   "metadata": {},
   "outputs": [
    {
     "name": "stdout",
     "output_type": "stream",
     "text": [
      "[1, 2, 3]\n",
      "[4, 5, 6]\n",
      "[1, 2, 3, 4, 5, 6]\n",
      "[4, 5, 6]\n"
     ]
    }
   ],
   "source": [
    "a = [1 ,2,3]\n",
    "b = [4,5,6]\n",
    "print a\n",
    "print b\n",
    "a.extend(b)\n",
    "print a\n",
    "print b"
   ]
  },
  {
   "cell_type": "code",
   "execution_count": 24,
   "metadata": {},
   "outputs": [
    {
     "name": "stdout",
     "output_type": "stream",
     "text": [
      "[1, 2, 3]\n",
      "[4, 5, 6]\n",
      "[1, 2, 3, 1, 2]\n",
      "[4, 5, 6]\n"
     ]
    }
   ],
   "source": [
    "a = [1 ,2,3]\n",
    "b = [4,5,6]\n",
    "print a\n",
    "print b\n",
    "a.extend({1,2,2})\n",
    "print a\n",
    "print b"
   ]
  },
  {
   "cell_type": "code",
   "execution_count": 27,
   "metadata": {},
   "outputs": [
    {
     "name": "stdout",
     "output_type": "stream",
     "text": [
      "2\n"
     ]
    },
    {
     "ename": "ValueError",
     "evalue": "100 is not in list",
     "output_type": "error",
     "traceback": [
      "\u001b[1;31m---------------------------------------------------------------------------\u001b[0m",
      "\u001b[1;31mValueError\u001b[0m                                Traceback (most recent call last)",
      "\u001b[1;32m<ipython-input-27-449efaeef145>\u001b[0m in \u001b[0;36m<module>\u001b[1;34m()\u001b[0m\n\u001b[0;32m      1\u001b[0m \u001b[0mvar\u001b[0m \u001b[1;33m=\u001b[0m \u001b[1;33m[\u001b[0m\u001b[1;36m56\u001b[0m\u001b[1;33m,\u001b[0m\u001b[1;36m67\u001b[0m\u001b[1;33m,\u001b[0m\u001b[1;36m34\u001b[0m\u001b[1;33m,\u001b[0m\u001b[1;36m78\u001b[0m\u001b[1;33m]\u001b[0m\u001b[1;33m\u001b[0m\u001b[0m\n\u001b[0;32m      2\u001b[0m \u001b[1;32mprint\u001b[0m \u001b[0mvar\u001b[0m\u001b[1;33m.\u001b[0m\u001b[0mindex\u001b[0m\u001b[1;33m(\u001b[0m\u001b[1;36m34\u001b[0m\u001b[1;33m)\u001b[0m\u001b[1;33m\u001b[0m\u001b[0m\n\u001b[1;32m----> 3\u001b[1;33m \u001b[1;32mprint\u001b[0m \u001b[0mvar\u001b[0m\u001b[1;33m.\u001b[0m\u001b[0mindex\u001b[0m\u001b[1;33m(\u001b[0m\u001b[1;36m100\u001b[0m\u001b[1;33m)\u001b[0m\u001b[1;33m\u001b[0m\u001b[0m\n\u001b[0m",
      "\u001b[1;31mValueError\u001b[0m: 100 is not in list"
     ]
    }
   ],
   "source": [
    "var = [56,67,34,78]\n",
    "print var.index(34)\n",
    "print var.index(100)"
   ]
  },
  {
   "cell_type": "code",
   "execution_count": 29,
   "metadata": {},
   "outputs": [
    {
     "name": "stdout",
     "output_type": "stream",
     "text": [
      "[45, 89, 23, 90, 100]\n",
      "100\n",
      "[45, 89, 23, 90]\n",
      "90\n",
      "[45, 89, 23]\n"
     ]
    }
   ],
   "source": [
    "# append ---> adding single element at end of list\n",
    "# pop  ---->> remove the single element at end of list\n",
    "var = [45,89,23,90,100]\n",
    "print var\n",
    "print var.pop()# 100\n",
    "print var\n",
    "print var.pop()# 90\n",
    "print var"
   ]
  },
  {
   "cell_type": "code",
   "execution_count": 32,
   "metadata": {},
   "outputs": [
    {
     "name": "stdout",
     "output_type": "stream",
     "text": [
      "[12, 45, 23, 89]\n",
      "23\n",
      "[12, 45, 89]\n"
     ]
    }
   ],
   "source": [
    "# pop(index)# index position value also we can  remove\n",
    "var = [12,45,23,89]\n",
    "print var\n",
    "print var.pop(2)#23\n",
    "print var"
   ]
  },
  {
   "cell_type": "code",
   "execution_count": 35,
   "metadata": {},
   "outputs": [
    {
     "name": "stdout",
     "output_type": "stream",
     "text": [
      "[12, 45, 23, 89]\n",
      "[12, 45, 89]\n",
      "[12, 89]\n"
     ]
    }
   ],
   "source": [
    "# remove()\n",
    "var =[12,45,23,89]\n",
    "print var\n",
    "var.remove(23)\n",
    "print var\n",
    "var.remove(45)\n",
    "print var"
   ]
  },
  {
   "cell_type": "code",
   "execution_count": 37,
   "metadata": {},
   "outputs": [
    {
     "name": "stdout",
     "output_type": "stream",
     "text": [
      "[5, 6, 2, 9, 1]\n",
      "[1, 9, 2, 6, 5]\n"
     ]
    }
   ],
   "source": [
    "var = [5,6,2,9,1]\n",
    "print var\n",
    "var.reverse()\n",
    "print var"
   ]
  },
  {
   "cell_type": "code",
   "execution_count": 39,
   "metadata": {},
   "outputs": [
    {
     "name": "stdout",
     "output_type": "stream",
     "text": [
      "[5, 6, 2, 9, 1]\n",
      "[1, 2, 5, 6, 9]\n"
     ]
    }
   ],
   "source": [
    "var = [5,6,2,9,1]\n",
    "print var\n",
    "var.sort()\n",
    "print var"
   ]
  },
  {
   "cell_type": "code",
   "execution_count": 40,
   "metadata": {},
   "outputs": [
    {
     "name": "stdout",
     "output_type": "stream",
     "text": [
      "['__add__', '__class__', '__contains__', '__delattr__', '__doc__', '__eq__', '__format__', '__ge__', '__getattribute__', '__getitem__', '__getnewargs__', '__getslice__', '__gt__', '__hash__', '__init__', '__iter__', '__le__', '__len__', '__lt__', '__mul__', '__ne__', '__new__', '__reduce__', '__reduce_ex__', '__repr__', '__rmul__', '__setattr__', '__sizeof__', '__str__', '__subclasshook__', 'count', 'index']\n"
     ]
    }
   ],
   "source": [
    "print dir(tuple)"
   ]
  }
 ],
 "metadata": {
  "kernelspec": {
   "display_name": "Python 2",
   "language": "python",
   "name": "python2"
  },
  "language_info": {
   "codemirror_mode": {
    "name": "ipython",
    "version": 2
   },
   "file_extension": ".py",
   "mimetype": "text/x-python",
   "name": "python",
   "nbconvert_exporter": "python",
   "pygments_lexer": "ipython2",
   "version": "2.7.16"
  }
 },
 "nbformat": 4,
 "nbformat_minor": 2
}
