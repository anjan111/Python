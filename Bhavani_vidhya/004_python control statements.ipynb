{
 "cells": [
  {
   "cell_type": "code",
   "execution_count": 2,
   "metadata": {},
   "outputs": [
    {
     "name": "stdout",
     "output_type": "stream",
     "text": [
      "enter rad of circle  7.2\n",
      "enter a side m : 5\n",
      "enter b side m : 4\n",
      "enter c side m : 6\n",
      "area :  6.48074069841  sq m\n"
     ]
    }
   ],
   "source": [
    "# statement\n",
    "'''\n",
    "==>> An instruction which can be executable with in the program\n",
    "'''\n",
    "# program\n",
    "'''\n",
    "==>> collection of statements to do any one specific task\n",
    "'''\n",
    "# execution procedure\n",
    "'''\n",
    "===>> the program can execute statement by statement\n",
    "'''\n",
    "# control statement\n",
    "'''\n",
    "===>>> to change the flow of the execution of the program\n",
    "1. conditional statement\n",
    "2. looping statement\n",
    "3. control keywords \n",
    "'''\n",
    "# conditional statement\n",
    "'''\n",
    "=================>>> the statements execution can depends on condtion\n",
    "===>> simple if\n",
    "===>> if and else\n",
    "===>> elif ladder\n",
    "===>> nested if\n",
    "'''\n",
    "# simple if \n",
    "\n",
    "# block of statements / single statements which can be executed when condition has True \n",
    "'''\n",
    "start\n",
    "----\n",
    "----\n",
    "if ( condition):\n",
    "    Block\n",
    "    -----\n",
    "    -----\n",
    "stop\n",
    "----\n",
    "----\n",
    "    \n",
    "'''\n",
    "# wap find the area of triangle when the circle radius is float\n",
    "rad = input(\"enter rad of circle  \")\n",
    "if (isinstance(rad,float)):\n",
    "    a = input(\"enter a side m : \")\n",
    "    b = input(\"enter b side m : \")\n",
    "    c = input(\"enter c side m : \")\n",
    "    s = (a+b+c)/2\n",
    "    area = (s*(s-a)*(s-b)*(s-c))**0.5\n",
    "    print \"area : \",area,\" sq m\"\n"
   ]
  },
  {
   "cell_type": "code",
   "execution_count": 4,
   "metadata": {},
   "outputs": [
    {
     "name": "stdout",
     "output_type": "stream",
     "text": [
      "enter age you : 20\n",
      "applying the voter id \n",
      "enter name : \"anjan\"\n",
      "enter Date of Birth :\"26-01-1994\"\n",
      "enter mail : \"anjan@fh.com\"\n",
      "Thanks for visting Voter Id center\n"
     ]
    }
   ],
   "source": [
    "# wap applying voter id application\n",
    "\n",
    "age = input(\"enter age you : \")\n",
    "if(age >= 18 ):\n",
    "    print \"applying the voter id \"\n",
    "    name = input(\"enter name : \")\n",
    "    dob  = input(\"enter Date of Birth :\")\n",
    "    mail = input(\"enter mail : \")\n",
    "print \"Thanks for visting Voter Id center\"    \n",
    "\n",
    "    "
   ]
  },
  {
   "cell_type": "code",
   "execution_count": 6,
   "metadata": {},
   "outputs": [
    {
     "name": "stdout",
     "output_type": "stream",
     "text": [
      "enter a : 89\n",
      "enter b : 400\n",
      "b is big  400\n"
     ]
    }
   ],
   "source": [
    "# if and else \n",
    "'''\n",
    "if (condition):\n",
    "    Task1\n",
    "else:\n",
    "    Task2\n",
    "'''\n",
    "# wap find the find the biggest number from 2 numbers \n",
    "a = input(\"enter a : \")\n",
    "b = input(\"enter b : \")\n",
    "if (a > b):\n",
    "    print \" a is big \",a\n",
    "else:\n",
    "    print \"b is big \",b"
   ]
  },
  {
   "cell_type": "code",
   "execution_count": 8,
   "metadata": {},
   "outputs": [
    {
     "name": "stdout",
     "output_type": "stream",
     "text": [
      "enter exp in years : 5\n",
      "salary 12 lac\n"
     ]
    }
   ],
   "source": [
    "# elif ladder \n",
    "'''\n",
    "if ( C1 ):\n",
    "    Task1\n",
    "elif( C2):\n",
    "    Task2\n",
    "elif (C3):\n",
    "    Task3\n",
    "elif(C4):\n",
    "    Task4\n",
    "-----\n",
    "-----\n",
    "-----\n",
    "else:\n",
    "    Task\n",
    "'''\n",
    "# wap find the salary based on exp\n",
    "exp = input(\"enter exp in years : \")\n",
    "if(exp >= 15):\n",
    "    print \"salary 50 lac per Annum\"\n",
    "elif(exp >= 12):\n",
    "    print \"salary 35 lac PA\"\n",
    "elif(exp >=10):\n",
    "    print \"salary 25 lac PA\"\n",
    "elif(exp >=5):\n",
    "    print \"salary 12 lac\"\n",
    "elif(exp >=2):\n",
    "    print \"salary 5 lac PA\"\n",
    "elif(exp >0):\n",
    "    print \"salary 2.5 lac PA\"\n",
    "else:\n",
    "    print \"come up with some exp\"\n",
    " \n"
   ]
  },
  {
   "cell_type": "code",
   "execution_count": 12,
   "metadata": {},
   "outputs": [
    {
     "name": "stdout",
     "output_type": "stream",
     "text": [
      "enter a : 8\n",
      "enter b : 4\n",
      "enter c : 5\n",
      "small  :  4\n"
     ]
    }
   ],
   "source": [
    "# nested if \n",
    "'''\n",
    "one block is contains the another block\n",
    "'''\n",
    "# wap find the smallest number from 3 numbers \n",
    "a = input(\"enter a : \")\n",
    "b = input(\"enter b : \")\n",
    "c = input(\"enter c : \")\n",
    "if(a< b):\n",
    "    small= a\n",
    "    if(small > c):\n",
    "        small = c\n",
    "else:\n",
    "    small = b\n",
    "    if(small > c):\n",
    "        small  =c\n",
    "print \"small  : \",small"
   ]
  },
  {
   "cell_type": "code",
   "execution_count": 1,
   "metadata": {},
   "outputs": [
    {
     "name": "stdout",
     "output_type": "stream",
     "text": [
      "1\n",
      "2\n",
      "3\n",
      "4\n",
      "5\n",
      "6\n",
      "7\n",
      "8\n",
      "9\n",
      "10\n",
      "when codition is failed\n",
      "11\n"
     ]
    }
   ],
   "source": [
    "# loops \n",
    "'''\n",
    "===>> to do a same task multiple times continusly\n",
    "===>> we can reduce the cose size\n",
    "===>> easy to understands\n",
    "'''\n",
    "# while --->>> task can executes when the condition true and again the check the condtion\n",
    "'''\n",
    "while( condition):\n",
    "    Task\n",
    "    ----\n",
    "    ----\n",
    "else:\n",
    "    Task\n",
    "    ----\n",
    "    \n",
    "'''\n",
    "# wap print 1 to 10 \n",
    "i = 1\n",
    "while(i <= 10):\n",
    "    print i\n",
    "    i = i+1\n",
    "else:\n",
    "    print \"when codition is failed\"\n",
    "    print i"
   ]
  },
  {
   "cell_type": "code",
   "execution_count": null,
   "metadata": {},
   "outputs": [],
   "source": [
    "# wap find sum of 1st N natural numbers"
   ]
  },
  {
   "cell_type": "code",
   "execution_count": 3,
   "metadata": {},
   "outputs": [
    {
     "name": "stdout",
     "output_type": "stream",
     "text": [
      "321\n"
     ]
    }
   ],
   "source": [
    "num = 123\n",
    "rev = 0\n",
    "while(num !=0):\n",
    "    rem = num %10\n",
    "    rev = rev*10 +rem\n",
    "    num = num/10\n",
    "print rev"
   ]
  },
  {
   "cell_type": "code",
   "execution_count": 6,
   "metadata": {},
   "outputs": [
    {
     "name": "stdout",
     "output_type": "stream",
     "text": [
      "enter num : 45\n",
      "not a prime number\n"
     ]
    }
   ],
   "source": [
    "# wap  given number is prime number or not\n",
    "num = input(\"enter num : \")\n",
    "f_c = 0\n",
    "i = 1\n",
    "while(i <=  num):\n",
    "    if(num % i == 0):\n",
    "        f_c = f_c +1\n",
    "    i = i+1\n",
    "if(f_c == 2):\n",
    "    print \"prime number\"\n",
    "else:\n",
    "    print\"not a prime number\"\n"
   ]
  },
  {
   "cell_type": "code",
   "execution_count": 9,
   "metadata": {},
   "outputs": [
    {
     "name": "stdout",
     "output_type": "stream",
     "text": [
      "12\n",
      "78\n",
      "23\n",
      "no more updation\n"
     ]
    }
   ],
   "source": [
    "for var in [12,78,23]:\n",
    "    print var\n",
    "else:\n",
    "    print \"no more updation\"\n",
    "    "
   ]
  },
  {
   "cell_type": "code",
   "execution_count": 11,
   "metadata": {},
   "outputs": [
    {
     "data": {
      "text/plain": [
       "[0, 1, 2, 3, 4, 5, 6, 7, 8, 9]"
      ]
     },
     "execution_count": 11,
     "metadata": {},
     "output_type": "execute_result"
    }
   ],
   "source": [
    "range(10)"
   ]
  },
  {
   "cell_type": "code",
   "execution_count": 13,
   "metadata": {},
   "outputs": [
    {
     "data": {
      "text/plain": [
       "[10, 11, 12, 13, 14, 15, 16, 17, 18, 19]"
      ]
     },
     "execution_count": 13,
     "metadata": {},
     "output_type": "execute_result"
    }
   ],
   "source": [
    "range(10,20)"
   ]
  },
  {
   "cell_type": "code",
   "execution_count": 15,
   "metadata": {},
   "outputs": [
    {
     "data": {
      "text/plain": [
       "[10, 13, 16, 19, 22, 25, 28, 31, 34, 37]"
      ]
     },
     "execution_count": 15,
     "metadata": {},
     "output_type": "execute_result"
    }
   ],
   "source": [
    "range(10,40,3)"
   ]
  },
  {
   "cell_type": "code",
   "execution_count": 17,
   "metadata": {},
   "outputs": [
    {
     "name": "stdout",
     "output_type": "stream",
     "text": [
      "1\n",
      "2\n",
      "3\n",
      "4\n",
      "6\n",
      "7\n",
      "8\n",
      "9\n",
      "10\n"
     ]
    }
   ],
   "source": [
    "# break --->> to break the loop\n",
    "# continue -->> to skip the present iteration and continue next iteration\n",
    "# wap print 1 to 10 except 5\n",
    "for i in range(1,11):\n",
    "    if(i == 5):\n",
    "        continue\n",
    "    print i"
   ]
  },
  {
   "cell_type": "code",
   "execution_count": 19,
   "metadata": {},
   "outputs": [],
   "source": [
    "# pass --->> to create an empty block\n",
    "if(True):\n",
    "    pass"
   ]
  },
  {
   "cell_type": "code",
   "execution_count": 1,
   "metadata": {},
   "outputs": [
    {
     "name": "stdout",
     "output_type": "stream",
     "text": [
      "hai\n",
      "hello\n"
     ]
    }
   ],
   "source": [
    "# create a 10 sec delay then print hello\n",
    "print \"hai\"\n",
    "\n",
    "for i in range(100000000):\n",
    "    pass\n",
    "\n",
    "print \"hello\""
   ]
  },
  {
   "cell_type": "code",
   "execution_count": 2,
   "metadata": {},
   "outputs": [
    {
     "name": "stdout",
     "output_type": "stream",
     "text": [
      "enter num : 13195\n",
      "large prime :  29\n"
     ]
    }
   ],
   "source": [
    "num = input(\"enter num : \")\n",
    "for var in range(num,1,-1):\n",
    "    if(num % var  == 0 ):\n",
    "        for i in range(2, var):\n",
    "            if(var % i == 0):\n",
    "                break\n",
    "        else:\n",
    "            print \"large prime : \",var\n",
    "            break"
   ]
  }
 ],
 "metadata": {
  "kernelspec": {
   "display_name": "Python 2",
   "language": "python",
   "name": "python2"
  },
  "language_info": {
   "codemirror_mode": {
    "name": "ipython",
    "version": 2
   },
   "file_extension": ".py",
   "mimetype": "text/x-python",
   "name": "python",
   "nbconvert_exporter": "python",
   "pygments_lexer": "ipython2",
   "version": "2.7.16"
  }
 },
 "nbformat": 4,
 "nbformat_minor": 2
}
