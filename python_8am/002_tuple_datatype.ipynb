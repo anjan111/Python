{
 "cells": [
  {
   "cell_type": "markdown",
   "metadata": {},
   "source": [
    "# tuple datatype\n",
    "\n",
    "---> It is same like list data type \n",
    "\n",
    "---> tuple it can enclosed in between  (  )"
   ]
  },
  {
   "cell_type": "code",
   "execution_count": 1,
   "metadata": {},
   "outputs": [
    {
     "name": "stdout",
     "output_type": "stream",
     "text": [
      "data in var :  ()\n",
      "<class 'tuple'>\n",
      "152196677704\n",
      "24\n"
     ]
    }
   ],
   "source": [
    "# empty tuple data type\n",
    "var = ()\n",
    "print(\"data in var : \",var)\n",
    "print(type(var))\n",
    "print(id(var))\n",
    "print(var.__sizeof__())"
   ]
  },
  {
   "cell_type": "code",
   "execution_count": 2,
   "metadata": {},
   "outputs": [
    {
     "name": "stdout",
     "output_type": "stream",
     "text": [
      "data in var :  (12, 34, 90, 12, 89)\n",
      "<class 'tuple'>\n",
      "152282101456\n",
      "64\n"
     ]
    }
   ],
   "source": [
    "# hemo tuple data type\n",
    "var = (12,34,90,12,89)\n",
    "print(\"data in var : \",var)\n",
    "print(type(var))\n",
    "print(id(var))\n",
    "print(var.__sizeof__())"
   ]
  },
  {
   "cell_type": "code",
   "execution_count": 3,
   "metadata": {},
   "outputs": [
    {
     "name": "stdout",
     "output_type": "stream",
     "text": [
      "data in var :  (12, 34.56, True, (3+4j))\n",
      "<class 'tuple'>\n",
      "152282366584\n",
      "56\n"
     ]
    }
   ],
   "source": [
    "# hetro tuple data type\n",
    "var = (12 , 34.56 , True , 3+4j)\n",
    "print(\"data in var : \",var)\n",
    "print(type(var))\n",
    "print(id(var))\n",
    "print(var.__sizeof__())"
   ]
  },
  {
   "cell_type": "code",
   "execution_count": 4,
   "metadata": {},
   "outputs": [
    {
     "name": "stdout",
     "output_type": "stream",
     "text": [
      "data in var :  ('soc', [1, 2, 3], (1, 23), {2, 3, 4}, {12: 'soc'})\n",
      "<class 'tuple'>\n",
      "152281332288\n",
      "64\n"
     ]
    }
   ],
   "source": [
    "# nested tuple data type\n",
    "var = ('soc' , [1,2,3],(1,23),{2,3,4},{12:\"soc\"})\n",
    "print(\"data in var : \",var)\n",
    "print(type(var))\n",
    "print(id(var))\n",
    "print(var.__sizeof__())"
   ]
  },
  {
   "cell_type": "markdown",
   "metadata": {},
   "source": [
    "# access the tuple elements \n",
    "\n",
    "1. indexing (single tuple data elements )\n",
    "\n",
    "    a. positive indexing ( 0  to len -1 )\n",
    "    \n",
    "    b. negative indexing ( -1 to -len \n",
    "\n",
    "2. slicing \n",
    "\n",
    "3. dicing "
   ]
  },
  {
   "cell_type": "code",
   "execution_count": 5,
   "metadata": {},
   "outputs": [
    {
     "name": "stdout",
     "output_type": "stream",
     "text": [
      "****positive indexing ******\n",
      "12\n",
      "45\n",
      "34\n",
      "2\n",
      "6\n",
      "90\n",
      "34\n",
      "****Negative indexing*****\n",
      "34\n",
      "90\n",
      "6\n",
      "2\n",
      "34\n",
      "45\n",
      "12\n"
     ]
    }
   ],
   "source": [
    "a = (12, 45, 34, 2 , 6,90,34)\n",
    "print('****positive indexing ******')\n",
    "print(a[0])  # 12\n",
    "print(a[1])  # 45\n",
    "print(a[2])  # 34\n",
    "print(a[3])  # 2\n",
    "print(a[4])  # 6\n",
    "print(a[5])  # 90\n",
    "print(a[6])  # 34\n",
    "print(\"****Negative indexing*****\")\n",
    "print(a[-1])  # 34\n",
    "print(a[-2])  # 90\n",
    "print(a[-3])  # 6\n",
    "print(a[-4])  # 2\n",
    "print(a[-5])  # 34\n",
    "print(a[-6])  # 45\n",
    "print(a[-7])  # 12"
   ]
  },
  {
   "cell_type": "code",
   "execution_count": 9,
   "metadata": {},
   "outputs": [
    {
     "name": "stdout",
     "output_type": "stream",
     "text": [
      "(45, 34, 2, 6)\n",
      "(12, 45, 34, 2, 6)\n",
      "(45, 34, 2, 6, 90, 34)\n"
     ]
    }
   ],
   "source": [
    "# tuple slicing  [ start :  stop]\n",
    "a = (12, 45, 34, 2 , 6,90,34)\n",
    "print(a[1:5])# (45,34,2,6)\n",
    "print(a[:5])  # start ---> 0\n",
    "print(a[1:])  # stop ---> len of tuple"
   ]
  },
  {
   "cell_type": "code",
   "execution_count": 13,
   "metadata": {},
   "outputs": [
    {
     "name": "stdout",
     "output_type": "stream",
     "text": [
      "(12, 34, 6, 34)\n",
      "(12, 34, 6, 34)\n",
      "(12, 34, 6, 34)\n",
      "(12, 45, 34, 2, 6, 90, 34)\n"
     ]
    }
   ],
   "source": [
    "# tuple dicing [ start :  stop : step]\n",
    "a = (12, 45, 34, 2 , 6,90,34)\n",
    "print(a[0:7:2]) # (12,34,6,34)\n",
    "print(a[:7:2]) # start --> 0\n",
    "print(a[0::2])  # stop --> len of tuple\n",
    "print(a[0:7:])  # step ---> 1"
   ]
  },
  {
   "cell_type": "code",
   "execution_count": 14,
   "metadata": {},
   "outputs": [
    {
     "name": "stdout",
     "output_type": "stream",
     "text": [
      "('soc', [1, 2, 3], (4, 5, 6))\n",
      "soc\n",
      "o\n",
      "[1, 2, 3]\n",
      "[2, 3]\n",
      "(4, 5, 6)\n",
      "(4, 6)\n"
     ]
    }
   ],
   "source": [
    "# nested indexing \n",
    "a = (\"soc\" , [1,2,3],(4,5,6))\n",
    "print(a)\n",
    "print(a[0]) # 'soc'\n",
    "print(a[0][1]) # 'o'\n",
    "print(a[1]) # [1,2,3]\n",
    "print(a[1][1:3])  # [2,3]\n",
    "print(a[2]) # (4,5,6)\n",
    "print(a[2][0:3:2]) # (4,6)"
   ]
  },
  {
   "cell_type": "code",
   "execution_count": 16,
   "metadata": {},
   "outputs": [
    {
     "name": "stdout",
     "output_type": "stream",
     "text": [
      "45\n"
     ]
    },
    {
     "ename": "TypeError",
     "evalue": "'tuple' object does not support item assignment",
     "output_type": "error",
     "traceback": [
      "\u001b[1;31m---------------------------------------------------------------------------\u001b[0m",
      "\u001b[1;31mTypeError\u001b[0m                                 Traceback (most recent call last)",
      "\u001b[1;32m<ipython-input-16-d5bc35e694b7>\u001b[0m in \u001b[0;36m<module>\u001b[1;34m()\u001b[0m\n\u001b[0;32m      2\u001b[0m \u001b[0ma\u001b[0m \u001b[1;33m=\u001b[0m \u001b[1;33m(\u001b[0m\u001b[1;36m12\u001b[0m\u001b[1;33m,\u001b[0m \u001b[1;36m45\u001b[0m\u001b[1;33m,\u001b[0m\u001b[1;36m90\u001b[0m\u001b[1;33m)\u001b[0m\u001b[1;33m\u001b[0m\u001b[0m\n\u001b[0;32m      3\u001b[0m \u001b[0mprint\u001b[0m\u001b[1;33m(\u001b[0m\u001b[0ma\u001b[0m\u001b[1;33m[\u001b[0m\u001b[1;36m1\u001b[0m\u001b[1;33m]\u001b[0m\u001b[1;33m)\u001b[0m\u001b[1;33m\u001b[0m\u001b[0m\n\u001b[1;32m----> 4\u001b[1;33m \u001b[0ma\u001b[0m\u001b[1;33m[\u001b[0m\u001b[1;36m1\u001b[0m\u001b[1;33m]\u001b[0m \u001b[1;33m=\u001b[0m \u001b[1;36m23\u001b[0m\u001b[1;33m\u001b[0m\u001b[0m\n\u001b[0m\u001b[0;32m      5\u001b[0m \u001b[0mprint\u001b[0m\u001b[1;33m(\u001b[0m\u001b[0ma\u001b[0m\u001b[1;33m)\u001b[0m\u001b[1;33m\u001b[0m\u001b[0m\n",
      "\u001b[1;31mTypeError\u001b[0m: 'tuple' object does not support item assignment"
     ]
    }
   ],
   "source": [
    "# modify the tuple existing daata\n",
    "'''\n",
    "Tuple is a immutable datatype we can't modify existing daata\n",
    "\n",
    "'''\n",
    "a = (12, 45,90)\n",
    "print(a[1])\n",
    "a[1] = 23\n",
    "print(a)"
   ]
  },
  {
   "cell_type": "code",
   "execution_count": 17,
   "metadata": {},
   "outputs": [
    {
     "name": "stdout",
     "output_type": "stream",
     "text": [
      "len =  7\n",
      "max =  90\n",
      "min =  2\n",
      "sum =  223\n"
     ]
    }
   ],
   "source": [
    "a = (12, 45, 34, 2 , 6,90,34)\n",
    "print(\"len = \",len(a))\n",
    "print(\"max = \",max(a))\n",
    "print(\"min = \",min(a))\n",
    "print(\"sum = \",sum(a))"
   ]
  },
  {
   "cell_type": "code",
   "execution_count": 18,
   "metadata": {},
   "outputs": [
    {
     "data": {
      "text/plain": [
       "['__add__',\n",
       " '__class__',\n",
       " '__contains__',\n",
       " '__delattr__',\n",
       " '__dir__',\n",
       " '__doc__',\n",
       " '__eq__',\n",
       " '__format__',\n",
       " '__ge__',\n",
       " '__getattribute__',\n",
       " '__getitem__',\n",
       " '__getnewargs__',\n",
       " '__gt__',\n",
       " '__hash__',\n",
       " '__init__',\n",
       " '__init_subclass__',\n",
       " '__iter__',\n",
       " '__le__',\n",
       " '__len__',\n",
       " '__lt__',\n",
       " '__mul__',\n",
       " '__ne__',\n",
       " '__new__',\n",
       " '__reduce__',\n",
       " '__reduce_ex__',\n",
       " '__repr__',\n",
       " '__rmul__',\n",
       " '__setattr__',\n",
       " '__sizeof__',\n",
       " '__str__',\n",
       " '__subclasshook__',\n",
       " 'count',\n",
       " 'index']"
      ]
     },
     "execution_count": 18,
     "metadata": {},
     "output_type": "execute_result"
    }
   ],
   "source": [
    "dir(tuple)"
   ]
  },
  {
   "cell_type": "code",
   "execution_count": 22,
   "metadata": {},
   "outputs": [
    {
     "name": "stdout",
     "output_type": "stream",
     "text": [
      "(1, 2, 3, 4, 5, 6)\n",
      "(1, 2, 3, 4, 5, 6)\n",
      "(1, 2, 3, 1, 2, 3, 1, 2, 3)\n",
      "(1, 2, 3, 1, 2, 3, 1, 2, 3)\n",
      "False\n",
      "False\n"
     ]
    }
   ],
   "source": [
    "# tuple class special methods can execute automatically \n",
    "a = (1,2,3)\n",
    "b =(4,5,6)\n",
    "print(a+b)        # (1,2,3,4,5,6)\n",
    "print(a.__add__(b))\n",
    "print(a* 3)  # (1,2,3,1,2,3,1,2,3)\n",
    "print(a.__mul__(3))\n",
    "\n",
    "print(a == b)  # False\n",
    "print(a.__eq__(b))\n"
   ]
  },
  {
   "cell_type": "code",
   "execution_count": 23,
   "metadata": {},
   "outputs": [
    {
     "data": {
      "text/plain": [
       "3"
      ]
     },
     "execution_count": 23,
     "metadata": {},
     "output_type": "execute_result"
    }
   ],
   "source": [
    "a = (12,2,4,12,34,12)\n",
    "a.count(12)"
   ]
  },
  {
   "cell_type": "code",
   "execution_count": 25,
   "metadata": {},
   "outputs": [
    {
     "data": {
      "text/plain": [
       "4"
      ]
     },
     "execution_count": 25,
     "metadata": {},
     "output_type": "execute_result"
    }
   ],
   "source": [
    "a = (12,2,4,12,34,12)\n",
    "a.index(34)"
   ]
  },
  {
   "cell_type": "code",
   "execution_count": 28,
   "metadata": {},
   "outputs": [
    {
     "name": "stdout",
     "output_type": "stream",
     "text": [
      "(12, 2, 4, 12, 34, 12, 100)\n"
     ]
    }
   ],
   "source": [
    "a = (12,2,4,12,34,12)\n",
    "a = list(a)\n",
    "a.append(100)\n",
    "a = tuple(a)\n",
    "print(a)"
   ]
  },
  {
   "cell_type": "code",
   "execution_count": null,
   "metadata": {},
   "outputs": [],
   "source": [
    "# str\n",
    "# set \n",
    "# dict"
   ]
  }
 ],
 "metadata": {
  "kernelspec": {
   "display_name": "Python 3",
   "language": "python",
   "name": "python3"
  },
  "language_info": {
   "codemirror_mode": {
    "name": "ipython",
    "version": 3
   },
   "file_extension": ".py",
   "mimetype": "text/x-python",
   "name": "python",
   "nbconvert_exporter": "python",
   "pygments_lexer": "ipython3",
   "version": "3.7.0"
  }
 },
 "nbformat": 4,
 "nbformat_minor": 2
}
