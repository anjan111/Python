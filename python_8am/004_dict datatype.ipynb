{
 "cells": [
  {
   "cell_type": "code",
   "execution_count": null,
   "metadata": {},
   "outputs": [],
   "source": [
    "# dict datatype\n",
    "\n",
    "---> the pair of keys and values we can store with curly braces\n",
    "\n",
    "syntax : -\n",
    "----------\n",
    "\n",
    "            var = { k1 : v1  ,  k2 : v2 ------}\n"
   ]
  },
  {
   "cell_type": "code",
   "execution_count": 1,
   "metadata": {},
   "outputs": [
    {
     "name": "stdout",
     "output_type": "stream",
     "text": [
      "data :  {12: 'soc', '12': 'soft'}\n",
      "<class 'dict'>\n",
      "id :  659871914240\n",
      "memory :  216\n"
     ]
    }
   ],
   "source": [
    "var = {12 : \"soc\" , '12' : \"soft\"}\n",
    "print(\"data : \",var)\n",
    "print(type(var))\n",
    "print(\"id : \",id(var))\n",
    "print(\"memory : \",var.__sizeof__())"
   ]
  },
  {
   "cell_type": "code",
   "execution_count": 5,
   "metadata": {},
   "outputs": [
    {
     "name": "stdout",
     "output_type": "stream",
     "text": [
      "data :  {12: 'soc', '12': 'nfjg', (1, 234): 'jkfjk'}\n",
      "<class 'dict'>\n",
      "id :  659871912872\n",
      "memory :  216\n"
     ]
    }
   ],
   "source": [
    "# it can removes duplicate keys\n",
    "# it can't follow the order \n",
    "var = {12 : \"soc\" , '12' : \"nfjg\" , (1,234) : \"siidfj\" ,(1,234):\"jkfjk\"}\n",
    "print(\"data : \",var)\n",
    "print(type(var))\n",
    "print(\"id : \",id(var))\n",
    "print(\"memory : \",var.__sizeof__())"
   ]
  },
  {
   "cell_type": "code",
   "execution_count": 7,
   "metadata": {},
   "outputs": [
    {
     "name": "stdout",
     "output_type": "stream",
     "text": [
      "soft\n",
      "soc\n"
     ]
    }
   ],
   "source": [
    "var = {12 : \"soc\" , 45 : \"soft\"}\n",
    "print(var[45])\n",
    "print(var[12])"
   ]
  },
  {
   "cell_type": "code",
   "execution_count": 10,
   "metadata": {},
   "outputs": [
    {
     "ename": "TypeError",
     "evalue": "unhashable type: 'dict'",
     "output_type": "error",
     "traceback": [
      "\u001b[1;31m---------------------------------------------------------------------------\u001b[0m",
      "\u001b[1;31mTypeError\u001b[0m                                 Traceback (most recent call last)",
      "\u001b[1;32m<ipython-input-10-164d94fc63e5>\u001b[0m in \u001b[0;36m<module>\u001b[1;34m()\u001b[0m\n\u001b[0;32m      1\u001b[0m \u001b[1;31m# don't use list , set , dict as key of the dict\u001b[0m\u001b[1;33m\u001b[0m\u001b[1;33m\u001b[0m\u001b[0m\n\u001b[1;32m----> 2\u001b[1;33m \u001b[0mvar\u001b[0m \u001b[1;33m=\u001b[0m \u001b[1;33m{\u001b[0m\u001b[1;33m{\u001b[0m\u001b[1;36m12\u001b[0m\u001b[1;33m:\u001b[0m\u001b[1;36m34\u001b[0m\u001b[1;33m}\u001b[0m \u001b[1;33m:\u001b[0m \u001b[1;34m\"djbbjk\"\u001b[0m  \u001b[1;33m,\u001b[0m\u001b[1;33m}\u001b[0m\u001b[1;33m\u001b[0m\u001b[0m\n\u001b[0m",
      "\u001b[1;31mTypeError\u001b[0m: unhashable type: 'dict'"
     ]
    }
   ],
   "source": [
    "# don't use list , set , dict as key of the dict \n",
    "var = {{12:34} : \"djbbjk\"  ,}"
   ]
  },
  {
   "cell_type": "code",
   "execution_count": 14,
   "metadata": {},
   "outputs": [
    {
     "name": "stdout",
     "output_type": "stream",
     "text": [
      "{12: 'soc'}\n",
      "{12: 'soc', 10: 'hello'}\n",
      "{12: 'soc', 10: 'hai'}\n"
     ]
    }
   ],
   "source": [
    "var = {12 : \"soc\"}\n",
    "print(var)\n",
    "var[10] = \"hello\"\n",
    "print(var)\n",
    "var[10] = \"hai\"\n",
    "print(var)"
   ]
  },
  {
   "cell_type": "code",
   "execution_count": 19,
   "metadata": {},
   "outputs": [
    {
     "name": "stdout",
     "output_type": "stream",
     "text": [
      "{12: 'soc', 10: 'hai', 89: 'jhghf'}\n",
      "{12: 'soc', 10: 'hai', 89: 'jhghf', 34: '456'}\n",
      "456\n",
      "{12: 'soc', 10: 'hai', 89: 'jhghf'}\n"
     ]
    }
   ],
   "source": [
    "print(var)\n",
    "a = {34 : \"456\" ,89 :\"jhghf\"}\n",
    "var.update(a)\n",
    "print(var)\n",
    "print(var.pop(34))\n",
    "print(var)"
   ]
  },
  {
   "cell_type": "code",
   "execution_count": 21,
   "metadata": {
    "scrolled": true
   },
   "outputs": [
    {
     "name": "stdout",
     "output_type": "stream",
     "text": [
      "{12: 'soc', 10: 'hai', 89: 'jhghf'}\n",
      "{12: 'soc', 10: 'hai', 89: 'jhghf', 34: '456'}\n",
      "(34, '456')\n",
      "{12: 'soc', 10: 'hai', 89: 'jhghf'}\n"
     ]
    }
   ],
   "source": [
    "print(var)\n",
    "a = {34 : \"456\" ,89 :\"jhghf\"}\n",
    "var.update(a)\n",
    "print(var)\n",
    "print(var.popitem())\n",
    "print(var)"
   ]
  },
  {
   "cell_type": "code",
   "execution_count": 25,
   "metadata": {},
   "outputs": [
    {
     "name": "stdout",
     "output_type": "stream",
     "text": [
      "{12: 'soc', 10: 'hai', 89: 'jhghf', 34: '456'}\n",
      "{12: 'soc', 10: 'hai', 89: 'jhghf', 34: '456'}\n",
      "dict_values(['soc', 'hai', 'jhghf', '456'])\n",
      "dict_keys([12, 10, 89, 34])\n",
      "dict_items([(12, 'soc'), (10, 'hai'), (89, 'jhghf'), (34, '456')])\n",
      "456\n"
     ]
    }
   ],
   "source": [
    "print(var)\n",
    "a = {34 : \"456\" ,89 :\"jhghf\"}\n",
    "var.update(a)\n",
    "print(var)\n",
    "print(var.values())\n",
    "print(var.keys())\n",
    "print(var.items())\n",
    "print(var.get(34))"
   ]
  },
  {
   "cell_type": "code",
   "execution_count": 26,
   "metadata": {},
   "outputs": [
    {
     "name": "stdout",
     "output_type": "stream",
     "text": [
      "{12: 'soc', 10: 'hai', 89: 'jhghf', 34: '456'}\n",
      "{}\n"
     ]
    }
   ],
   "source": [
    "print(var)\n",
    "var.clear()\n",
    "print(var)\n"
   ]
  },
  {
   "cell_type": "code",
   "execution_count": 27,
   "metadata": {},
   "outputs": [
    {
     "name": "stdout",
     "output_type": "stream",
     "text": [
      "{34: '456', 89: 'jhghf'}\n",
      "{}\n",
      "{34: '456', 89: 'jhghf'}\n",
      "{34: '456', 89: 'jhghf'}\n"
     ]
    }
   ],
   "source": [
    "print(a)\n",
    "print(var)\n",
    "var = a.copy()\n",
    "print(a)\n",
    "print(var)"
   ]
  },
  {
   "cell_type": "code",
   "execution_count": 28,
   "metadata": {},
   "outputs": [
    {
     "data": {
      "text/plain": [
       "2"
      ]
     },
     "execution_count": 28,
     "metadata": {},
     "output_type": "execute_result"
    }
   ],
   "source": [
    "len(var)"
   ]
  },
  {
   "cell_type": "code",
   "execution_count": 29,
   "metadata": {},
   "outputs": [
    {
     "data": {
      "text/plain": [
       "123"
      ]
     },
     "execution_count": 29,
     "metadata": {},
     "output_type": "execute_result"
    }
   ],
   "source": [
    "sum(var)"
   ]
  },
  {
   "cell_type": "code",
   "execution_count": 30,
   "metadata": {},
   "outputs": [
    {
     "data": {
      "text/plain": [
       "89"
      ]
     },
     "execution_count": 30,
     "metadata": {},
     "output_type": "execute_result"
    }
   ],
   "source": [
    "max(var)"
   ]
  },
  {
   "cell_type": "code",
   "execution_count": 31,
   "metadata": {},
   "outputs": [
    {
     "data": {
      "text/plain": [
       "34"
      ]
     },
     "execution_count": 31,
     "metadata": {},
     "output_type": "execute_result"
    }
   ],
   "source": [
    "min(var)"
   ]
  },
  {
   "cell_type": "code",
   "execution_count": 39,
   "metadata": {},
   "outputs": [
    {
     "name": "stdout",
     "output_type": "stream",
     "text": [
      "34 :  456\n",
      "89 :  jhghf\n"
     ]
    }
   ],
   "source": [
    "for dic in var:\n",
    "    print(dic ,\": \",var[dic])"
   ]
  }
 ],
 "metadata": {
  "kernelspec": {
   "display_name": "Python 3",
   "language": "python",
   "name": "python3"
  },
  "language_info": {
   "codemirror_mode": {
    "name": "ipython",
    "version": 3
   },
   "file_extension": ".py",
   "mimetype": "text/x-python",
   "name": "python",
   "nbconvert_exporter": "python",
   "pygments_lexer": "ipython3",
   "version": "3.7.0"
  }
 },
 "nbformat": 4,
 "nbformat_minor": 2
}
