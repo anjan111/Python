{
 "cells": [
  {
   "cell_type": "code",
   "execution_count": 1,
   "metadata": {},
   "outputs": [
    {
     "name": "stdout",
     "output_type": "stream",
     "text": [
      "120\n",
      "-12\n",
      "False\n",
      "-61\n"
     ]
    }
   ],
   "source": [
    "# unary operator \n",
    "print( +    120 )  # unary plus\n",
    "print( -    12 )   # unary minus\n",
    "print( not  45)  # logical not \n",
    "print( ~    60)    # bitwise not"
   ]
  },
  {
   "cell_type": "code",
   "execution_count": 2,
   "metadata": {},
   "outputs": [
    {
     "name": "stdout",
     "output_type": "stream",
     "text": [
      "30\n",
      "5\n",
      "8\n",
      "False\n"
     ]
    }
   ],
   "source": [
    "# binary operator\n",
    "print( 10  + 20)\n",
    "print( 10 - 5)\n",
    "print( 2  * 4)\n",
    "print( 4 <  2)"
   ]
  },
  {
   "cell_type": "code",
   "execution_count": 5,
   "metadata": {},
   "outputs": [
    {
     "name": "stdout",
     "output_type": "stream",
     "text": [
      "enter N : 100\n",
      "sum of 1st 100 nattural is 5050\n"
     ]
    }
   ],
   "source": [
    "# wap find sum of 1st N natural number \n",
    "\n",
    "N = int(input(\"enter N : \"))\n",
    "res = N*(N+1)/2\n",
    "print(\"sum of 1st %d nattural is %d\"%(N,res))"
   ]
  },
  {
   "cell_type": "code",
   "execution_count": null,
   "metadata": {},
   "outputs": [],
   "source": [
    "# wap find area of circle and perimter \n",
    "# wap find the area and perimter of the square\n",
    "# wap find the area and perimter of the rectangle\n",
    "# wap find the area and perimter of the triangle\n",
    "# wap find the simple intrest\n",
    "# wap find sum of the 1st N natural number\n",
    "# wap find the sum of the squares of the 1st Natural\n",
    "# wap find the sum of the cubes of the 1st Natural\n"
   ]
  },
  {
   "cell_type": "code",
   "execution_count": null,
   "metadata": {},
   "outputs": [],
   "source": [
    "user name   :  anjan111\n",
    "    \n",
    "password    :  MAMMYdaddy9"
   ]
  },
  {
   "cell_type": "code",
   "execution_count": 7,
   "metadata": {},
   "outputs": [
    {
     "name": "stdout",
     "output_type": "stream",
     "text": [
      "10  < 30  = 1\n",
      "10  > 30  = 0\n",
      "10  == 30 = 0\n",
      "10  <= 30 = 1\n",
      "10  >= 30 = 0\n",
      "10  != 30 = 1\n"
     ]
    }
   ],
   "source": [
    "# comparision opearor\n",
    "a = 10\n",
    "b = 30\n",
    "print(\"%d  < %d  = %d\"%(a,b,a < b))\n",
    "print(\"%d  > %d  = %d\"%(a,b,a > b))\n",
    "print(\"%d  == %d = %d\"%(a,b,a == b))\n",
    "print(\"%d  <= %d = %d\"%(a,b,a <= b))\n",
    "print(\"%d  >= %d = %d\"%(a,b,a >= b))\n",
    "print(\"%d  != %d = %d\"%(a,b,a != b))\n"
   ]
  },
  {
   "cell_type": "code",
   "execution_count": 11,
   "metadata": {},
   "outputs": [
    {
     "ename": "TypeError",
     "evalue": "'<' not supported between instances of 'complex' and 'complex'",
     "output_type": "error",
     "traceback": [
      "\u001b[1;31m---------------------------------------------------------------------------\u001b[0m",
      "\u001b[1;31mTypeError\u001b[0m                                 Traceback (most recent call last)",
      "\u001b[1;32m<ipython-input-11-88b97b8c8713>\u001b[0m in \u001b[0;36m<module>\u001b[1;34m()\u001b[0m\n\u001b[0;32m      2\u001b[0m \u001b[0ma\u001b[0m \u001b[1;33m=\u001b[0m \u001b[1;36m10\u001b[0m\u001b[1;33m+\u001b[0m\u001b[1;36m3j\u001b[0m\u001b[1;33m\u001b[0m\u001b[0m\n\u001b[0;32m      3\u001b[0m \u001b[0mb\u001b[0m \u001b[1;33m=\u001b[0m \u001b[1;36m30\u001b[0m\u001b[1;33m+\u001b[0m\u001b[1;36m4j\u001b[0m\u001b[1;33m\u001b[0m\u001b[0m\n\u001b[1;32m----> 4\u001b[1;33m \u001b[0mprint\u001b[0m\u001b[1;33m(\u001b[0m\u001b[0ma\u001b[0m\u001b[1;33m,\u001b[0m \u001b[1;34m\" < \"\u001b[0m\u001b[1;33m,\u001b[0m \u001b[0mb\u001b[0m\u001b[1;33m,\u001b[0m\u001b[1;34m\"  = \"\u001b[0m\u001b[1;33m,\u001b[0m\u001b[0ma\u001b[0m\u001b[1;33m<\u001b[0m\u001b[0mb\u001b[0m\u001b[1;33m)\u001b[0m\u001b[1;33m\u001b[0m\u001b[0m\n\u001b[0m\u001b[0;32m      5\u001b[0m \u001b[0mprint\u001b[0m\u001b[1;33m(\u001b[0m\u001b[0ma\u001b[0m\u001b[1;33m,\u001b[0m \u001b[1;34m\" > \"\u001b[0m\u001b[1;33m,\u001b[0m \u001b[0mb\u001b[0m\u001b[1;33m,\u001b[0m\u001b[1;34m\"  = \"\u001b[0m\u001b[1;33m,\u001b[0m\u001b[0ma\u001b[0m\u001b[1;33m>\u001b[0m\u001b[0mb\u001b[0m\u001b[1;33m)\u001b[0m\u001b[1;33m\u001b[0m\u001b[0m\n\u001b[0;32m      6\u001b[0m \u001b[0mprint\u001b[0m\u001b[1;33m(\u001b[0m\u001b[0ma\u001b[0m\u001b[1;33m,\u001b[0m \u001b[1;34m\" == \"\u001b[0m\u001b[1;33m,\u001b[0m \u001b[0mb\u001b[0m\u001b[1;33m,\u001b[0m\u001b[1;34m\" = \"\u001b[0m\u001b[1;33m,\u001b[0m\u001b[0ma\u001b[0m\u001b[1;33m==\u001b[0m\u001b[0mb\u001b[0m\u001b[1;33m)\u001b[0m\u001b[1;33m\u001b[0m\u001b[0m\n",
      "\u001b[1;31mTypeError\u001b[0m: '<' not supported between instances of 'complex' and 'complex'"
     ]
    }
   ],
   "source": [
    "# comparision opearor\n",
    "a = 10+3j\n",
    "b = 30+4j\n",
    "print(a, \" < \", b,\"  = \",a<b)\n",
    "print(a, \" > \", b,\"  = \",a>b)\n",
    "print(a, \" == \", b,\" = \",a==b)\n",
    "print(a, \" != \", b,\" = \",a!=b)\n",
    "print(a, \" <= \", b,\" = \",a<=b)\n",
    "print(a, \" >= \", b,\" = \",a>=b)"
   ]
  },
  {
   "cell_type": "code",
   "execution_count": 12,
   "metadata": {},
   "outputs": [
    {
     "name": "stdout",
     "output_type": "stream",
     "text": [
      "10  <  30   =  True\n",
      "10  >  30   =  False\n",
      "10  ==  30  =  False\n",
      "10  !=  30  =  True\n",
      "10  <=  30  =  True\n",
      "10  >=  30  =  False\n"
     ]
    }
   ],
   "source": [
    "# comparision opearor\n",
    "a = 10\n",
    "b = 30\n",
    "print(a, \" < \", b,\"  = \",a<b)\n",
    "print(a, \" > \", b,\"  = \",a>b)\n",
    "print(a, \" == \", b,\" = \",a==b)\n",
    "print(a, \" != \", b,\" = \",a!=b)\n",
    "print(a, \" <= \", b,\" = \",a<=b)\n",
    "print(a, \" >= \", b,\" = \",a>=b)"
   ]
  },
  {
   "cell_type": "code",
   "execution_count": 13,
   "metadata": {},
   "outputs": [
    {
     "name": "stdout",
     "output_type": "stream",
     "text": [
      "soc  <  soft   =  True\n",
      "soc  >  soft   =  False\n",
      "soc  ==  soft  =  False\n",
      "soc  !=  soft  =  True\n",
      "soc  <=  soft  =  True\n",
      "soc  >=  soft  =  False\n"
     ]
    }
   ],
   "source": [
    "# comparision opearor\n",
    "a = \"soc\"\n",
    "b = \"soft\"\n",
    "print(a, \" < \", b,\"  = \",a<b)\n",
    "print(a, \" > \", b,\"  = \",a>b)\n",
    "print(a, \" == \", b,\" = \",a==b)\n",
    "print(a, \" != \", b,\" = \",a!=b)\n",
    "print(a, \" <= \", b,\" = \",a<=b)\n",
    "print(a, \" >= \", b,\" = \",a>=b)"
   ]
  },
  {
   "cell_type": "code",
   "execution_count": null,
   "metadata": {},
   "outputs": [],
   "source": [
    "all datatypes comparision"
   ]
  },
  {
   "cell_type": "code",
   "execution_count": 9,
   "metadata": {},
   "outputs": [
    {
     "name": "stdout",
     "output_type": "stream",
     "text": [
      "10.450000  < 30.450000  = 1\n",
      "10.450000  > 30.450000  = 0\n",
      "10.450000  == 30.450000 = 0\n",
      "10.450000  <= 30.450000 = 1\n",
      "10.450000  >= 30.450000 = 0\n",
      "10.450000  != 30.450000 = 1\n"
     ]
    }
   ],
   "source": [
    "# comparision opearor\n",
    "a = 10.45\n",
    "b = 30.45\n",
    "print(\"%f  < %f  = %d\"%(a,b,a < b))\n",
    "print(\"%f  > %f  = %d\"%(a,b,a > b))\n",
    "print(\"%f  == %f = %d\"%(a,b,a == b))\n",
    "print(\"%f  <= %f = %d\"%(a,b,a <= b))\n",
    "print(\"%f  >= %f = %d\"%(a,b,a >= b))\n",
    "print(\"%f  != %f = %d\"%(a,b,a != b))\n"
   ]
  },
  {
   "cell_type": "code",
   "execution_count": 15,
   "metadata": {},
   "outputs": [
    {
     "name": "stdout",
     "output_type": "stream",
     "text": [
      "enter Any number : 11\n",
      "11  is even :  False\n"
     ]
    }
   ],
   "source": [
    "# wap find given num is even or not\n",
    "\n",
    "N = int(input(\"enter Any number : \"))\n",
    "rem =N %2 \n",
    "print(N,\" is even : \",rem == 0)"
   ]
  },
  {
   "cell_type": "code",
   "execution_count": 21,
   "metadata": {},
   "outputs": [
    {
     "name": "stdout",
     "output_type": "stream",
     "text": [
      "enter Any number : 44\n",
      "44  is even :  True\n",
      "44  is odd :  False\n"
     ]
    }
   ],
   "source": [
    "# wap find given num is even or not\n",
    "# membership operator\n",
    "N = input(\"enter Any number : \")\n",
    "last_digit = N[-1]\n",
    "print(N,\" is even : \",last_digit  in '02468')\n",
    "print(N,\" is odd : \",last_digit  not in \"02468\")"
   ]
  },
  {
   "cell_type": "code",
   "execution_count": 23,
   "metadata": {},
   "outputs": [
    {
     "name": "stdout",
     "output_type": "stream",
     "text": [
      "True\n",
      "False\n",
      "False\n",
      "True\n"
     ]
    }
   ],
   "source": [
    "print(10 in [10,20])\n",
    "print(30 in [10,20])\n",
    "print(10 not in [10,20])\n",
    "print(30 not in [10,20])\n"
   ]
  },
  {
   "cell_type": "code",
   "execution_count": null,
   "metadata": {},
   "outputs": [],
   "source": [
    "# identity operator\n",
    "\n",
    "#---> True / false based on memory location\n",
    "\n",
    "1. is \n",
    "\n",
    "True ---> both operands share same memory\n",
    "\n",
    "False ---> Both are diffrence \n",
    "\n",
    "\n",
    "\n",
    "2. is not\n",
    "False ---> both operands share same memory\n",
    "\n",
    "True ---> Both are diffrence \n"
   ]
  },
  {
   "cell_type": "code",
   "execution_count": 25,
   "metadata": {},
   "outputs": [
    {
     "name": "stdout",
     "output_type": "stream",
     "text": [
      "140714534629408\n",
      "140714534629728\n",
      "140714534629728\n",
      "False\n",
      "True\n",
      "True\n",
      "False\n"
     ]
    }
   ],
   "source": [
    "a =10\n",
    "b =20\n",
    "c =20\n",
    "print(id(a));print(id(b));print(id(c))\n",
    "print(a is b);print(b is c);print(a is not b);print(b is not c)"
   ]
  },
  {
   "cell_type": "code",
   "execution_count": 1,
   "metadata": {},
   "outputs": [
    {
     "name": "stdout",
     "output_type": "stream",
     "text": [
      "id =  140714567921696 ===>>  10\n",
      "id =  140714567921696 ===>>  10\n",
      "id =  140714567922016 ===>>  20\n"
     ]
    }
   ],
   "source": [
    "# assignment operator\n",
    "a =10  # constant to variable \n",
    "b = a  # varibale to variable\n",
    "c = a+b # expression to variable\n",
    "print(\"id = \",id(a),\"===>> \",a)\n",
    "print(\"id = \",id(b),\"===>> \",b)\n",
    "print(\"id = \",id(c),\"===>> \",c)\n",
    "\n"
   ]
  },
  {
   "cell_type": "code",
   "execution_count": 5,
   "metadata": {},
   "outputs": [
    {
     "name": "stdout",
     "output_type": "stream",
     "text": [
      "id of a  140714567921696 =====>> 10\n",
      "id of b  140714567922016 =====>> 20\n",
      "id of a  140714567922336 =====>> 30\n",
      "**********************************\n",
      "id of a  140714567921696 =====>> 10\n",
      "id of b  140714567922016 =====>> 20\n",
      "id of a  140714567922336 =====>> 30\n"
     ]
    }
   ],
   "source": [
    "#compound assgiment with addition\n",
    "a = 10\n",
    "b = 20\n",
    "print(\"id of a \",id(a),\"=====>>\",a)\n",
    "print(\"id of b \",id(b),\"=====>>\",b)\n",
    "a = a+b\n",
    "print(\"id of a \",id(a),\"=====>>\",a)\n",
    "print(\"**********************************\")\n",
    "a = 10\n",
    "b = 20\n",
    "print(\"id of a \",id(a),\"=====>>\",a)\n",
    "print(\"id of b \",id(b),\"=====>>\",b)\n",
    "a += b\n",
    "print(\"id of a \",id(a),\"=====>>\",a)"
   ]
  },
  {
   "cell_type": "code",
   "execution_count": null,
   "metadata": {},
   "outputs": [],
   "source": [
    "#compound assgiment with subtaction\n",
    "#compound assgiment with multiplication\n",
    "#compound assgiment with all Arithmetic Operator"
   ]
  },
  {
   "cell_type": "markdown",
   "metadata": {},
   "source": [
    "# Logical Operator\n",
    "\n",
    "----> The operator it can perform the operation based on truth table\n",
    "\n",
    "1. There are 3 types\n",
    "\n",
    "    1. Logical AND   ( and) :-\n",
    "    --------------------------\n",
    "    \n",
    "    ==> If 1st input value is False case then output is 1st input value\n",
    "    \n",
    "    ==> other wise 2nd input value is output\n",
    "      \n",
    "    \n",
    "    2. Logicla OR    ( or :\n",
    "    --------------------------\n",
    "    ==> If 1st input value is False case then output is 2nd input value\n",
    "    \n",
    "    ==> other wise 1st input value is output\n",
    "          \n",
    "    \n",
    "    3. Logical NoT    (not):-(unary operator)\n",
    "    --------------------------\n",
    "    input is False case then output is True\n",
    "    otherwise False"
   ]
  },
  {
   "cell_type": "markdown",
   "metadata": {},
   "source": [
    "# False cases\n",
    "\n",
    "1. int 0===> False \n",
    "\n",
    "2. float 0.0 ===> False\n",
    "\n",
    "3. Bool  False ===> False\n",
    "\n",
    "4. Complex 0 + 0j ===> False\n",
    "\n",
    "5. None ====> False\n",
    "\n",
    "6. str / list / tuple/set/dict  len is 0 ===> False\n",
    "\n",
    "\n"
   ]
  },
  {
   "cell_type": "code",
   "execution_count": 7,
   "metadata": {},
   "outputs": [
    {
     "name": "stdout",
     "output_type": "stream",
     "text": [
      "34\n",
      "0\n",
      "[]\n",
      "a\n"
     ]
    }
   ],
   "source": [
    "#Logical AND ( and) :-\n",
    "\n",
    "#==> If 1st input value is False case then output is 1st input value\n",
    "\n",
    "#==> other wise 2nd input value is output\n",
    "print( 10 and 34)  # 34\n",
    "print( 0 and 45)   # 0\n",
    "print( [] and ())  # []\n",
    "print(' ' and \"a\")  #  'a'"
   ]
  },
  {
   "cell_type": "code",
   "execution_count": 8,
   "metadata": {},
   "outputs": [
    {
     "name": "stdout",
     "output_type": "stream",
     "text": [
      "10\n",
      "45\n",
      "()\n",
      " \n"
     ]
    }
   ],
   "source": [
    "# logical oR\n",
    "print( 10 or 34)  # 10\n",
    "print( 0 or 45)   # 45\n",
    "print( [] or ())  # ()\n",
    "print(' ' or \"a\")  #  ' '"
   ]
  },
  {
   "cell_type": "code",
   "execution_count": 9,
   "metadata": {},
   "outputs": [
    {
     "name": "stdout",
     "output_type": "stream",
     "text": [
      "True\n",
      "True\n",
      "False\n"
     ]
    }
   ],
   "source": [
    "#logical Not\n",
    "print( not False)\n",
    "print(not ())\n",
    "print(not 78)"
   ]
  },
  {
   "cell_type": "markdown",
   "metadata": {},
   "source": [
    "# bitwise Operator :=\n",
    "-------------------------\n",
    "\n",
    "---> the operator which can be operating on binary data of given input\n",
    "\n",
    "1. bitwise and    &\n",
    "\n",
    "2.  Bitwise  or    |\n",
    "\n",
    "3. Bitwise  NOT    ~\n",
    "\n",
    "4. Bitwise  Xor    ^\n",
    "\n",
    "5. Bitwisw  leftshift      <<\n",
    "\n",
    "6. Bitwise  Rightshift     >>\n",
    "\n",
    "There are following steps \n",
    "\n",
    "    1. Convert input data to binary data\n",
    "    2. Do the operation on binary on data\n",
    "    3. binary data result  to decimal result"
   ]
  },
  {
   "cell_type": "code",
   "execution_count": 2,
   "metadata": {},
   "outputs": [
    {
     "data": {
      "text/plain": [
       "0"
      ]
     },
     "execution_count": 2,
     "metadata": {},
     "output_type": "execute_result"
    }
   ],
   "source": [
    "# bitwise AND  &  \n",
    "10 & 5"
   ]
  },
  {
   "cell_type": "code",
   "execution_count": 3,
   "metadata": {},
   "outputs": [
    {
     "data": {
      "text/plain": [
       "4"
      ]
     },
     "execution_count": 3,
     "metadata": {},
     "output_type": "execute_result"
    }
   ],
   "source": [
    "12 & 5"
   ]
  },
  {
   "cell_type": "code",
   "execution_count": 4,
   "metadata": {},
   "outputs": [
    {
     "data": {
      "text/plain": [
       "15"
      ]
     },
     "execution_count": 4,
     "metadata": {},
     "output_type": "execute_result"
    }
   ],
   "source": [
    "10  | 5"
   ]
  },
  {
   "cell_type": "code",
   "execution_count": 6,
   "metadata": {},
   "outputs": [
    {
     "data": {
      "text/plain": [
       "47"
      ]
     },
     "execution_count": 6,
     "metadata": {},
     "output_type": "execute_result"
    }
   ],
   "source": [
    "32  | 15"
   ]
  },
  {
   "cell_type": "code",
   "execution_count": 7,
   "metadata": {},
   "outputs": [
    {
     "data": {
      "text/plain": [
       "9"
      ]
     },
     "execution_count": 7,
     "metadata": {},
     "output_type": "execute_result"
    }
   ],
   "source": [
    "12 ^  5"
   ]
  },
  {
   "cell_type": "code",
   "execution_count": 8,
   "metadata": {},
   "outputs": [
    {
     "data": {
      "text/plain": [
       "10"
      ]
     },
     "execution_count": 8,
     "metadata": {},
     "output_type": "execute_result"
    }
   ],
   "source": [
    "15  ^ 5"
   ]
  },
  {
   "cell_type": "code",
   "execution_count": 9,
   "metadata": {},
   "outputs": [
    {
     "data": {
      "text/plain": [
       "96"
      ]
     },
     "execution_count": 9,
     "metadata": {},
     "output_type": "execute_result"
    }
   ],
   "source": [
    "12 << 3"
   ]
  },
  {
   "cell_type": "code",
   "execution_count": 10,
   "metadata": {},
   "outputs": [
    {
     "data": {
      "text/plain": [
       "40"
      ]
     },
     "execution_count": 10,
     "metadata": {},
     "output_type": "execute_result"
    }
   ],
   "source": [
    "10 << 2"
   ]
  },
  {
   "cell_type": "code",
   "execution_count": 11,
   "metadata": {},
   "outputs": [
    {
     "data": {
      "text/plain": [
       "984"
      ]
     },
     "execution_count": 11,
     "metadata": {},
     "output_type": "execute_result"
    }
   ],
   "source": [
    "123 << 3"
   ]
  },
  {
   "cell_type": "code",
   "execution_count": 12,
   "metadata": {},
   "outputs": [
    {
     "data": {
      "text/plain": [
       "15"
      ]
     },
     "execution_count": 12,
     "metadata": {},
     "output_type": "execute_result"
    }
   ],
   "source": [
    "123 >> 3"
   ]
  },
  {
   "cell_type": "code",
   "execution_count": 13,
   "metadata": {},
   "outputs": [
    {
     "data": {
      "text/plain": [
       "-24"
      ]
     },
     "execution_count": 13,
     "metadata": {},
     "output_type": "execute_result"
    }
   ],
   "source": [
    "~ 23"
   ]
  },
  {
   "cell_type": "code",
   "execution_count": 14,
   "metadata": {},
   "outputs": [
    {
     "data": {
      "text/plain": [
       "-46"
      ]
     },
     "execution_count": 14,
     "metadata": {},
     "output_type": "execute_result"
    }
   ],
   "source": [
    "~45"
   ]
  },
  {
   "cell_type": "code",
   "execution_count": 15,
   "metadata": {},
   "outputs": [
    {
     "data": {
      "text/plain": [
       "122"
      ]
     },
     "execution_count": 15,
     "metadata": {},
     "output_type": "execute_result"
    }
   ],
   "source": [
    "~-123"
   ]
  }
 ],
 "metadata": {
  "kernelspec": {
   "display_name": "Python 3",
   "language": "python",
   "name": "python3"
  },
  "language_info": {
   "codemirror_mode": {
    "name": "ipython",
    "version": 3
   },
   "file_extension": ".py",
   "mimetype": "text/x-python",
   "name": "python",
   "nbconvert_exporter": "python",
   "pygments_lexer": "ipython3",
   "version": "3.7.0"
  }
 },
 "nbformat": 4,
 "nbformat_minor": 2
}
