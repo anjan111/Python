{
 "cells": [
  {
   "cell_type": "code",
   "execution_count": 1,
   "metadata": {},
   "outputs": [],
   "source": [
    "import re"
   ]
  },
  {
   "cell_type": "code",
   "execution_count": 2,
   "metadata": {},
   "outputs": [
    {
     "name": "stdout",
     "output_type": "stream",
     "text": [
      "<re.Match object; span=(7, 14), match='program'>\n"
     ]
    }
   ],
   "source": [
    "str = \"python program1 c program2 c++ program3\"\n",
    "print(re.search('program',str))"
   ]
  },
  {
   "cell_type": "code",
   "execution_count": 3,
   "metadata": {},
   "outputs": [
    {
     "name": "stdout",
     "output_type": "stream",
     "text": [
      "program\n"
     ]
    }
   ],
   "source": [
    "str = \"python program1 c program2 c++ program3\"\n",
    "print(re.search('program',str).group())"
   ]
  },
  {
   "cell_type": "code",
   "execution_count": 5,
   "metadata": {},
   "outputs": [
    {
     "name": "stdout",
     "output_type": "stream",
     "text": [
      "program2\n"
     ]
    }
   ],
   "source": [
    "str = \"python program c program2 c++ program3\"\n",
    "print(re.search('program\\d',str).group())"
   ]
  },
  {
   "cell_type": "code",
   "execution_count": 6,
   "metadata": {},
   "outputs": [
    {
     "name": "stdout",
     "output_type": "stream",
     "text": [
      "program \n"
     ]
    }
   ],
   "source": [
    "str = \"python program c program2 c++ program3\"\n",
    "print(re.search('program\\D',str).group())"
   ]
  },
  {
   "cell_type": "code",
   "execution_count": 8,
   "metadata": {},
   "outputs": [
    {
     "name": "stdout",
     "output_type": "stream",
     "text": [
      "None\n"
     ]
    }
   ],
   "source": [
    "str = \"python program$ c program2 c++ program3\"\n",
    "print(re.search('program\\s',str))"
   ]
  },
  {
   "cell_type": "code",
   "execution_count": 9,
   "metadata": {},
   "outputs": [
    {
     "name": "stdout",
     "output_type": "stream",
     "text": [
      "<re.Match object; span=(7, 15), match='program$'>\n"
     ]
    }
   ],
   "source": [
    "str = \"python program$ c program2 c++ program3\"\n",
    "print(re.search('program\\S',str))"
   ]
  },
  {
   "cell_type": "code",
   "execution_count": 17,
   "metadata": {},
   "outputs": [
    {
     "name": "stdout",
     "output_type": "stream",
     "text": [
      "['program$']\n"
     ]
    }
   ],
   "source": [
    "str = \"python program$ c program2 c++ programa\"\n",
    "print(re.findall('program\\W',str))"
   ]
  },
  {
   "cell_type": "code",
   "execution_count": 18,
   "metadata": {},
   "outputs": [
    {
     "name": "stdout",
     "output_type": "stream",
     "text": [
      "['program$', 'program2', 'programa']\n"
     ]
    }
   ],
   "source": [
    "str = \"python program$ c program2 c++ programa\"\n",
    "print(re.findall('program.',str))"
   ]
  },
  {
   "cell_type": "code",
   "execution_count": 19,
   "metadata": {},
   "outputs": [
    {
     "name": "stdout",
     "output_type": "stream",
     "text": [
      "['program', 'program', 'program']\n"
     ]
    }
   ],
   "source": [
    "str = \"python program$ c program2 c++ programa\"\n",
    "print(re.findall('program',str))"
   ]
  },
  {
   "cell_type": "code",
   "execution_count": 20,
   "metadata": {},
   "outputs": [
    {
     "name": "stdout",
     "output_type": "stream",
     "text": [
      "[]\n"
     ]
    }
   ],
   "source": [
    "str = \"python program$ c program2 c++ programa\"\n",
    "print(re.findall('^program',str))"
   ]
  },
  {
   "cell_type": "code",
   "execution_count": 21,
   "metadata": {},
   "outputs": [
    {
     "name": "stdout",
     "output_type": "stream",
     "text": [
      "['program$', 'program2']\n"
     ]
    }
   ],
   "source": [
    "str = \"python program$ c program2 c++ programa\"\n",
    "print(re.findall('program[2 $]',str))"
   ]
  },
  {
   "cell_type": "code",
   "execution_count": 27,
   "metadata": {},
   "outputs": [
    {
     "name": "stdout",
     "output_type": "stream",
     "text": [
      "['program$', 'program2']\n"
     ]
    }
   ],
   "source": [
    "str = \"python program$ c program2 c++ programa\"\n",
    "print(re.findall('program[2$]',str))"
   ]
  },
  {
   "cell_type": "code",
   "execution_count": 28,
   "metadata": {},
   "outputs": [
    {
     "name": "stdout",
     "output_type": "stream",
     "text": [
      "['pytttn', 'pytn', 'pyn']\n"
     ]
    }
   ],
   "source": [
    "str ='pytttn mv mbmvb pytn ,nfdkmgndfj pyn jjfbgh'\n",
    "print(re.findall('pyt*n',str))"
   ]
  },
  {
   "cell_type": "code",
   "execution_count": 29,
   "metadata": {},
   "outputs": [
    {
     "name": "stdout",
     "output_type": "stream",
     "text": [
      "['pytttn', 'pytn']\n"
     ]
    }
   ],
   "source": [
    "str ='pytttn mv mbmvb pytn ,nfdkmgndfj pyn jjfbgh'\n",
    "print(re.findall('pyt+n',str))"
   ]
  },
  {
   "cell_type": "code",
   "execution_count": 30,
   "metadata": {},
   "outputs": [
    {
     "name": "stdout",
     "output_type": "stream",
     "text": [
      "['pytn', 'pyn']\n"
     ]
    }
   ],
   "source": [
    "str ='pytttn mv mbmvb pytn ,nfdkmgndfj pyn jjfbgh'\n",
    "print(re.findall('pyt?n',str))"
   ]
  },
  {
   "cell_type": "code",
   "execution_count": 34,
   "metadata": {},
   "outputs": [
    {
     "name": "stdout",
     "output_type": "stream",
     "text": [
      "['pytttn']\n"
     ]
    }
   ],
   "source": [
    "str ='pytttn mv mbmvb pytn ,nfdkmgndfj pyn jjfbgh'\n",
    "print(re.findall('pyt{3}n',str))"
   ]
  },
  {
   "cell_type": "code",
   "execution_count": 36,
   "metadata": {},
   "outputs": [
    {
     "name": "stdout",
     "output_type": "stream",
     "text": [
      "['pytttn']\n"
     ]
    }
   ],
   "source": [
    "str ='pytttn mv mbmvb pytn ,nfdkmgndfj pyn jjfbgh'\n",
    "print(re.findall('pyt{2,4}n',str))"
   ]
  },
  {
   "cell_type": "code",
   "execution_count": 41,
   "metadata": {},
   "outputs": [
    {
     "name": "stdout",
     "output_type": "stream",
     "text": [
      "['09640987960', '21239874561']\n"
     ]
    }
   ],
   "source": [
    "str = \"jfjgdfjdn 09640987960 kjhfj 21239874561 kjfhgjdkfhg\"\n",
    "print(re.findall('[012]\\d{10}',str))"
   ]
  },
  {
   "cell_type": "code",
   "execution_count": 50,
   "metadata": {},
   "outputs": [
    {
     "data": {
      "text/plain": [
       "['djsfkjfks@gmail.com', 'jfghf@yahoo.com']"
      ]
     },
     "execution_count": 50,
     "metadata": {},
     "output_type": "execute_result"
    }
   ],
   "source": [
    "str ='djsfkjfks@gmail.com djfhjf jfghf@yahoo.com'\n",
    "re.findall('\\w+@\\w*.com',str)"
   ]
  },
  {
   "cell_type": "code",
   "execution_count": null,
   "metadata": {},
   "outputs": [],
   "source": [
    "# create a file ( name , phone , mail salary)\n",
    "# we have to access the only and mail id "
   ]
  }
 ],
 "metadata": {
  "kernelspec": {
   "display_name": "Python 3",
   "language": "python",
   "name": "python3"
  },
  "language_info": {
   "codemirror_mode": {
    "name": "ipython",
    "version": 3
   },
   "file_extension": ".py",
   "mimetype": "text/x-python",
   "name": "python",
   "nbconvert_exporter": "python",
   "pygments_lexer": "ipython3",
   "version": "3.7.3"
  }
 },
 "nbformat": 4,
 "nbformat_minor": 2
}
