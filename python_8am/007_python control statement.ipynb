{
 "cells": [
  {
   "cell_type": "markdown",
   "metadata": {},
   "source": [
    "# simple if"
   ]
  },
  {
   "cell_type": "code",
   "execution_count": 3,
   "metadata": {},
   "outputs": [
    {
     "name": "stdout",
     "output_type": "stream",
     "text": [
      "enter a : 12\n",
      "enter b : 12\n",
      "enter c : 12\n",
      "area =  62.353829072479584\n"
     ]
    }
   ],
   "source": [
    "# wap find area of triangle when trianlgle is equiletaral\n",
    "\n",
    "a = int(input(\"enter a : \"))\n",
    "b = int(input(\"enter b : \"))\n",
    "c = int(input(\"enter c : \"))\n",
    "if(a == b and b== c):\n",
    "    s = float(a+b+c) / 2\n",
    "    area =(s*(s-a)*(s-b)*(s-c))**0.5\n",
    "    print(\"area = \",area)"
   ]
  },
  {
   "cell_type": "code",
   "execution_count": null,
   "metadata": {},
   "outputs": [],
   "source": [
    "# wap find len of string when the 1st character is digit"
   ]
  },
  {
   "cell_type": "code",
   "execution_count": null,
   "metadata": {},
   "outputs": [],
   "source": [
    "# wap find power of num1 and num2 when num2 is divisble by\n",
    "#num1\n"
   ]
  },
  {
   "cell_type": "code",
   "execution_count": null,
   "metadata": {},
   "outputs": [],
   "source": [
    "# wap print your details when your age more than 18"
   ]
  },
  {
   "cell_type": "markdown",
   "metadata": {},
   "source": [
    "# if and else"
   ]
  },
  {
   "cell_type": "code",
   "execution_count": 3,
   "metadata": {},
   "outputs": [
    {
     "name": "stdout",
     "output_type": "stream",
     "text": [
      "enter a character : y\n",
      "given character is consonant \n"
     ]
    }
   ],
   "source": [
    "# wap given character is vowel or constant \n",
    "char = input(\"enter a character : \")\n",
    "vowel =\"aeiouAEIOU\"\n",
    "if(char in vowel):\n",
    "    print(\"given character is vowel \")\n",
    "else:\n",
    "    print(\"given character is consonant \")\n"
   ]
  },
  {
   "cell_type": "markdown",
   "metadata": {},
   "source": [
    "# elif ladder"
   ]
  },
  {
   "cell_type": "code",
   "execution_count": 13,
   "metadata": {},
   "outputs": [
    {
     "name": "stdout",
     "output_type": "stream",
     "text": [
      "enter a character : &\n",
      "given character is special character\n"
     ]
    }
   ],
   "source": [
    "# wap given character is vowel or constant \n",
    "char = input(\"enter a character : \")\n",
    "vowel =\"aeiouAEIOU\"\n",
    "digit = '0123456789'\n",
    "special =\"\"\"!@#$%^&*()_-+=/?\\|}{}[]:,.\"'><~`\"\"\"\n",
    "if(char in vowel):\n",
    "    print(\"given character is vowel \")\n",
    "elif( char in digit):\n",
    "    print(\"given character is digit \")\n",
    "elif(char in special):\n",
    "    print(\"given character is special character\")\n",
    "else:\n",
    "    print(\"given character is consonant \")\n"
   ]
  },
  {
   "cell_type": "code",
   "execution_count": null,
   "metadata": {},
   "outputs": [],
   "source": [
    "# nested if \n",
    "'''\n",
    "Any one conditional Statement it have one more conditional Statement\n",
    "'''\n",
    "\n"
   ]
  },
  {
   "cell_type": "code",
   "execution_count": 16,
   "metadata": {},
   "outputs": [
    {
     "name": "stdout",
     "output_type": "stream",
     "text": [
      "enter a character : y\n",
      "given character is consonant \n"
     ]
    }
   ],
   "source": [
    "# wap given character is vowel or constant \n",
    "char = input(\"enter a character : \")\n",
    "vowel =\"aeiouAEIOU\"\n",
    "digit = '0123456789'\n",
    "special =\"\"\"!@#$%^&*()_-+=/?\\|}{}[]:,.\"'><~`\"\"\"\n",
    "if(len(char)== 1):\n",
    "    if(char in vowel):\n",
    "        print(\"given character is vowel \")\n",
    "    elif( char in digit):\n",
    "        print(\"given character is digit \")\n",
    "    elif(char in special):\n",
    "        print(\"given character is special character\")\n",
    "    else:\n",
    "        print(\"given character is consonant \")\n",
    "else:\n",
    "    print(\"please enter single character only\")\n"
   ]
  },
  {
   "cell_type": "code",
   "execution_count": null,
   "metadata": {},
   "outputs": [],
   "source": [
    "# wap find the smallest number from 2 number"
   ]
  },
  {
   "cell_type": "code",
   "execution_count": null,
   "metadata": {},
   "outputs": [],
   "source": [
    "# wap find the biggest number 2 numbers"
   ]
  },
  {
   "cell_type": "code",
   "execution_count": null,
   "metadata": {},
   "outputs": [],
   "source": [
    "# wap find the biggest number 3 numbers"
   ]
  },
  {
   "cell_type": "code",
   "execution_count": null,
   "metadata": {},
   "outputs": [],
   "source": [
    "# wap find the smallest number from 2 number"
   ]
  },
  {
   "cell_type": "code",
   "execution_count": null,
   "metadata": {},
   "outputs": [],
   "source": [
    "# wap find given year is leap year or not\n",
    "# 2000 --->leap year\n",
    "# 1900 ---> not leap year\n",
    "# 2004 ---> leap year\n",
    "# 2001 ---> not leap year"
   ]
  },
  {
   "cell_type": "code",
   "execution_count": null,
   "metadata": {},
   "outputs": [],
   "source": [
    "# WAp find the greading system based on students subject marks"
   ]
  },
  {
   "cell_type": "markdown",
   "metadata": {},
   "source": [
    "# Loops\n",
    "\n",
    "# while Loop"
   ]
  },
  {
   "cell_type": "code",
   "execution_count": 1,
   "metadata": {},
   "outputs": [
    {
     "name": "stdout",
     "output_type": "stream",
     "text": [
      "enter N Value  : 5\n",
      "i =  1\n",
      "i =  2\n",
      "i =  3\n",
      "i =  4\n",
      "i =  5\n",
      "while is executed  5  times\n"
     ]
    }
   ],
   "source": [
    "# wap print 1 to N\n",
    "N = int(input(\"enter N Value  : \"))\n",
    "i = 1\n",
    "while(i <= N):\n",
    "    print(\"i = \",i)\n",
    "    i = i+1\n",
    "else:\n",
    "    print(\"while is executed \",N,\" times\")\n"
   ]
  },
  {
   "cell_type": "code",
   "execution_count": 2,
   "metadata": {},
   "outputs": [
    {
     "name": "stdout",
     "output_type": "stream",
     "text": [
      "enter N Value  : 5\n",
      "i =  1\n",
      "i =  2\n",
      "i =  3\n",
      "i =  4\n",
      "i =  5\n"
     ]
    }
   ],
   "source": [
    "# wap print 1 to N\n",
    "N = int(input(\"enter N Value  : \"))\n",
    "i = 1\n",
    "while(i <= N):\n",
    "    print(\"i = \",i)\n",
    "    i = i+1\n",
    "\n"
   ]
  },
  {
   "cell_type": "code",
   "execution_count": 4,
   "metadata": {},
   "outputs": [
    {
     "name": "stdout",
     "output_type": "stream",
     "text": [
      "enter N Value  : 100\n",
      "sum  of 1st  100  natural number is: 5050\n"
     ]
    }
   ],
   "source": [
    "# wap find sum of 1st N natural numbers\n",
    "\n",
    "N = int(input(\"enter N Value  : \"))\n",
    "i = 1\n",
    "sum =0\n",
    "while(i <= N):\n",
    "    sum =sum +i\n",
    "    i = i+1\n",
    "else:\n",
    "    print(\"sum  of 1st \",N,\" natural number is:\",sum)\n"
   ]
  },
  {
   "cell_type": "code",
   "execution_count": null,
   "metadata": {},
   "outputs": [],
   "source": [
    "# wap find the sum of squares of 1st N natural number"
   ]
  },
  {
   "cell_type": "code",
   "execution_count": null,
   "metadata": {},
   "outputs": [],
   "source": [
    "# wap find sum of the cubes of 1st Natural numbers"
   ]
  },
  {
   "cell_type": "code",
   "execution_count": 6,
   "metadata": {},
   "outputs": [
    {
     "name": "stdout",
     "output_type": "stream",
     "text": [
      "enter any number : 745689\n",
      "Total no of digits in :  745689  is : 6\n"
     ]
    }
   ],
   "source": [
    "# wap find the no of digits of any number \n",
    "# 1764  ---> 4\n",
    "# 789   ---> 3\n",
    "# 89   ---> 2\n",
    "num = int(input(\"enter any number : \"))\n",
    "temp = num\n",
    "count =0\n",
    "while(num != 0):\n",
    "    count += 1\n",
    "    num = num // 10\n",
    "else:\n",
    "    print(\"Total no of digits in : \",temp,\" is :\",count)"
   ]
  },
  {
   "cell_type": "code",
   "execution_count": null,
   "metadata": {},
   "outputs": [],
   "source": [
    "# wap sum of the digits of a number \n",
    "# 123 ----> 6\n",
    "# 458 ---> 17"
   ]
  },
  {
   "cell_type": "code",
   "execution_count": null,
   "metadata": {},
   "outputs": [],
   "source": [
    "# wap find the reverse of a number \n",
    "# 123 ---> 321\n",
    "# 890  ---> 98\n",
    "\n"
   ]
  },
  {
   "cell_type": "code",
   "execution_count": null,
   "metadata": {},
   "outputs": [],
   "source": [
    "# wap given number is palidrom or not \n",
    "\n",
    "# 121---> 121 ---> palidrom\n",
    "# 123 ---> 321 ---> not palidrom"
   ]
  },
  {
   "cell_type": "code",
   "execution_count": 1,
   "metadata": {},
   "outputs": [
    {
     "name": "stdout",
     "output_type": "stream",
     "text": [
      "enter N : 5\n",
      "i =  1\n",
      "i =  2\n",
      "i =  3\n",
      "i =  4\n",
      "i =  5\n",
      "For Loops exited because updatation is over\n"
     ]
    }
   ],
   "source": [
    "# for loop\n",
    "# wap print 1st n natural number\n",
    "N = int(input(\"enter N : \"))\n",
    "for i in range(1,N+1):\n",
    "    print(\"i = \",i)\n",
    "else:\n",
    "    print(\"For Loops exited because updatation is over\")"
   ]
  },
  {
   "cell_type": "code",
   "execution_count": null,
   "metadata": {},
   "outputs": [],
   "source": [
    "# wap find factorial of a number using while and for\n",
    "# 5! -----> 120\n",
    "# wap find generate 1st 10  fibonic series  while and for\n",
    "0  1   1   2   3  5  8  13  21   34 "
   ]
  },
  {
   "cell_type": "markdown",
   "metadata": {},
   "source": [
    "# control keywords :-\n",
    "----------------------\n",
    "\n",
    "---> control keywords are used for to change the flow\n",
    "\n",
    "the execution of the control statements\n",
    "\n",
    "1. pass\n",
    "\n",
    "2. continue\n",
    "\n",
    "3. break"
   ]
  },
  {
   "cell_type": "code",
   "execution_count": 2,
   "metadata": {},
   "outputs": [
    {
     "ename": "IndentationError",
     "evalue": "expected an indented block (<ipython-input-2-3ad84c5cab1d>, line 7)",
     "output_type": "error",
     "traceback": [
      "\u001b[1;36m  File \u001b[1;32m\"<ipython-input-2-3ad84c5cab1d>\"\u001b[1;36m, line \u001b[1;32m7\u001b[0m\n\u001b[1;33m    print(\"hello\")\u001b[0m\n\u001b[1;37m        ^\u001b[0m\n\u001b[1;31mIndentationError\u001b[0m\u001b[1;31m:\u001b[0m expected an indented block\n"
     ]
    }
   ],
   "source": [
    "# pass\n",
    "'''\n",
    "to create the empty block\n",
    "'''\n",
    "for i  in range(10):\n",
    "\n",
    "print(\"hello\")"
   ]
  },
  {
   "cell_type": "code",
   "execution_count": 3,
   "metadata": {},
   "outputs": [
    {
     "name": "stdout",
     "output_type": "stream",
     "text": [
      "hello\n"
     ]
    }
   ],
   "source": [
    "# pass\n",
    "'''\n",
    "to create the empty block\n",
    "'''\n",
    "for i  in range(10):\n",
    "    pass\n",
    "print(\"hello\")"
   ]
  },
  {
   "cell_type": "code",
   "execution_count": 7,
   "metadata": {},
   "outputs": [
    {
     "name": "stdout",
     "output_type": "stream",
     "text": [
      "hello\n"
     ]
    }
   ],
   "source": [
    "# wap print hello after some sec ( delay) \n",
    "for i in range(100000000):\n",
    "    pass\n",
    "print(\"hello\")"
   ]
  },
  {
   "cell_type": "code",
   "execution_count": 8,
   "metadata": {},
   "outputs": [
    {
     "name": "stdout",
     "output_type": "stream",
     "text": [
      "i =  1\n",
      "i =  2\n",
      "i =  3\n",
      "i =  4\n",
      "i =  6\n",
      "i =  7\n",
      "i =  8\n",
      "i =  9\n",
      "i =  10\n"
     ]
    }
   ],
   "source": [
    "# continue keyword\n",
    "'''\n",
    "To skip  specitic iteration and continue the previous and \n",
    "\n",
    "next interation\n",
    "'''\n",
    "# wap print 1 to 10 except  5\n",
    "for i in range(1,11):\n",
    "    if(i == 5):\n",
    "        continue\n",
    "    print(\"i = \",i)"
   ]
  },
  {
   "cell_type": "code",
   "execution_count": 9,
   "metadata": {},
   "outputs": [
    {
     "name": "stdout",
     "output_type": "stream",
     "text": [
      "i =  1\n",
      "i =  2\n",
      "i =  3\n",
      "i =  4\n",
      "i =  6\n",
      "i =  7\n",
      "i =  8\n",
      "i =  9\n",
      "i =  10\n",
      "for executed successfully\n"
     ]
    }
   ],
   "source": [
    "# break \n",
    "'''\n",
    "break is stop/ terminate /blocks the loop\n",
    "'''\n",
    "for i in range(1,11):\n",
    "    if(i == 5):\n",
    "        continue\n",
    "    print(\"i = \",i)\n",
    "else:\n",
    "    print(\"for executed successfully\")"
   ]
  },
  {
   "cell_type": "code",
   "execution_count": 10,
   "metadata": {},
   "outputs": [
    {
     "name": "stdout",
     "output_type": "stream",
     "text": [
      "i =  1\n",
      "i =  2\n",
      "i =  3\n",
      "i =  4\n",
      "i =  5\n"
     ]
    }
   ],
   "source": [
    "\n",
    "for i in range(1,11):\n",
    "    if(i == 6):\n",
    "        break\n",
    "    print(\"i = \",i)\n",
    "else:\n",
    "    print(\"for executed successfully\")"
   ]
  },
  {
   "cell_type": "code",
   "execution_count": null,
   "metadata": {},
   "outputs": [],
   "source": [
    "# nested loops\n",
    "'''\n",
    "any loop which contains one more loop\n",
    "'''\n",
    "'''\n",
    "*  *  *  *\n",
    "*  *  *  *\n",
    "*  *  *  *\n",
    "*  *  *  *\n",
    "\n",
    "'''"
   ]
  },
  {
   "cell_type": "code",
   "execution_count": 13,
   "metadata": {},
   "outputs": [
    {
     "name": "stdout",
     "output_type": "stream",
     "text": [
      " *   *   *   *  \n",
      " *   *   *   *  \n",
      " *   *   *   *  \n",
      " *   *   *   *  \n"
     ]
    }
   ],
   "source": [
    "for j in range(4):\n",
    "    for i in range(4):\n",
    "        print(\" * \",end=\" \")\n",
    "    print(\"\")"
   ]
  },
  {
   "cell_type": "code",
   "execution_count": 14,
   "metadata": {},
   "outputs": [
    {
     "name": "stdout",
     "output_type": "stream",
     "text": [
      "enter no of row : 5\n",
      "enter no of col : 4\n",
      " *   *   *   *  \n",
      " *   *   *   *  \n",
      " *   *   *   *  \n",
      " *   *   *   *  \n",
      " *   *   *   *  \n"
     ]
    }
   ],
   "source": [
    "row = int(input(\"enter no of row : \"))\n",
    "col = int(input(\"enter no of col : \"))\n",
    "for r in range(row):\n",
    "    for c in range(col):\n",
    "        print(\" * \",end=\" \")\n",
    "    print(\"\")"
   ]
  },
  {
   "cell_type": "code",
   "execution_count": null,
   "metadata": {},
   "outputs": [],
   "source": [
    "'''\n",
    "*  \n",
    "*  *\n",
    "*  *  *\n",
    "*  *  *  *\n",
    "*  *  *  *  *\n",
    "'''"
   ]
  },
  {
   "cell_type": "code",
   "execution_count": null,
   "metadata": {},
   "outputs": [],
   "source": [
    "'''\n",
    "\n",
    "*  *  *  *\n",
    "   *  *  *\n",
    "      *  * \n",
    "         *\n",
    "'''"
   ]
  },
  {
   "cell_type": "code",
   "execution_count": null,
   "metadata": {},
   "outputs": [],
   "source": [
    "'''\n",
    "            *\n",
    "          * * *\n",
    "        * * * * *\n",
    "      * * * * * * *\n",
    "'''"
   ]
  },
  {
   "cell_type": "code",
   "execution_count": null,
   "metadata": {},
   "outputs": [],
   "source": [
    "'''\n",
    "1  1  1  1\n",
    "2  2  2  2\n",
    "3  3  3  3\n",
    "4  4  4  4\n",
    "'''"
   ]
  },
  {
   "cell_type": "code",
   "execution_count": null,
   "metadata": {},
   "outputs": [],
   "source": [
    "'''\n",
    "1  2  3  4\n",
    "1  2  3  4\n",
    "1  2  3  4\n",
    "1  2  3  4\n",
    "'''"
   ]
  },
  {
   "cell_type": "code",
   "execution_count": null,
   "metadata": {},
   "outputs": [],
   "source": [
    "# wap find given number is prime number or not "
   ]
  },
  {
   "cell_type": "code",
   "execution_count": null,
   "metadata": {},
   "outputs": [],
   "source": [
    "# wap print prime numbers in between 1 to 100"
   ]
  }
 ],
 "metadata": {
  "kernelspec": {
   "display_name": "Python 3",
   "language": "python",
   "name": "python3"
  },
  "language_info": {
   "codemirror_mode": {
    "name": "ipython",
    "version": 3
   },
   "file_extension": ".py",
   "mimetype": "text/x-python",
   "name": "python",
   "nbconvert_exporter": "python",
   "pygments_lexer": "ipython3",
   "version": "3.7.0"
  }
 },
 "nbformat": 4,
 "nbformat_minor": 2
}
