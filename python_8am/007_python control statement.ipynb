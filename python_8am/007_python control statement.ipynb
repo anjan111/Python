{
 "cells": [
  {
   "cell_type": "markdown",
   "metadata": {},
   "source": [
    "# simple if"
   ]
  },
  {
   "cell_type": "code",
   "execution_count": 3,
   "metadata": {},
   "outputs": [
    {
     "name": "stdout",
     "output_type": "stream",
     "text": [
      "enter a : 12\n",
      "enter b : 12\n",
      "enter c : 12\n",
      "area =  62.353829072479584\n"
     ]
    }
   ],
   "source": [
    "# wap find area of triangle when trianlgle is equiletaral\n",
    "\n",
    "a = int(input(\"enter a : \"))\n",
    "b = int(input(\"enter b : \"))\n",
    "c = int(input(\"enter c : \"))\n",
    "if(a == b and b== c):\n",
    "    s = float(a+b+c) / 2\n",
    "    area =(s*(s-a)*(s-b)*(s-c))**0.5\n",
    "    print(\"area = \",area)"
   ]
  },
  {
   "cell_type": "code",
   "execution_count": null,
   "metadata": {},
   "outputs": [],
   "source": [
    "# wap find len of string when the 1st character is digit"
   ]
  },
  {
   "cell_type": "code",
   "execution_count": null,
   "metadata": {},
   "outputs": [],
   "source": [
    "# wap find power of num1 and num2 when num2 is divisble by\n",
    "#num1\n"
   ]
  },
  {
   "cell_type": "code",
   "execution_count": null,
   "metadata": {},
   "outputs": [],
   "source": [
    "# wap print your details when your age more than 18"
   ]
  },
  {
   "cell_type": "markdown",
   "metadata": {},
   "source": [
    "# if and else"
   ]
  },
  {
   "cell_type": "code",
   "execution_count": 3,
   "metadata": {},
   "outputs": [
    {
     "name": "stdout",
     "output_type": "stream",
     "text": [
      "enter a character : y\n",
      "given character is consonant \n"
     ]
    }
   ],
   "source": [
    "# wap given character is vowel or constant \n",
    "char = input(\"enter a character : \")\n",
    "vowel =\"aeiouAEIOU\"\n",
    "if(char in vowel):\n",
    "    print(\"given character is vowel \")\n",
    "else:\n",
    "    print(\"given character is consonant \")\n"
   ]
  },
  {
   "cell_type": "markdown",
   "metadata": {},
   "source": [
    "# elif ladder"
   ]
  },
  {
   "cell_type": "code",
   "execution_count": 13,
   "metadata": {},
   "outputs": [
    {
     "name": "stdout",
     "output_type": "stream",
     "text": [
      "enter a character : &\n",
      "given character is special character\n"
     ]
    }
   ],
   "source": [
    "# wap given character is vowel or constant \n",
    "char = input(\"enter a character : \")\n",
    "vowel =\"aeiouAEIOU\"\n",
    "digit = '0123456789'\n",
    "special =\"\"\"!@#$%^&*()_-+=/?\\|}{}[]:,.\"'><~`\"\"\"\n",
    "if(char in vowel):\n",
    "    print(\"given character is vowel \")\n",
    "elif( char in digit):\n",
    "    print(\"given character is digit \")\n",
    "elif(char in special):\n",
    "    print(\"given character is special character\")\n",
    "else:\n",
    "    print(\"given character is consonant \")\n"
   ]
  },
  {
   "cell_type": "code",
   "execution_count": null,
   "metadata": {},
   "outputs": [],
   "source": [
    "# nested if \n",
    "'''\n",
    "Any one conditional Statement it have one more conditional Statement\n",
    "'''\n",
    "\n"
   ]
  },
  {
   "cell_type": "code",
   "execution_count": 16,
   "metadata": {},
   "outputs": [
    {
     "name": "stdout",
     "output_type": "stream",
     "text": [
      "enter a character : y\n",
      "given character is consonant \n"
     ]
    }
   ],
   "source": [
    "# wap given character is vowel or constant \n",
    "char = input(\"enter a character : \")\n",
    "vowel =\"aeiouAEIOU\"\n",
    "digit = '0123456789'\n",
    "special =\"\"\"!@#$%^&*()_-+=/?\\|}{}[]:,.\"'><~`\"\"\"\n",
    "if(len(char)== 1):\n",
    "    if(char in vowel):\n",
    "        print(\"given character is vowel \")\n",
    "    elif( char in digit):\n",
    "        print(\"given character is digit \")\n",
    "    elif(char in special):\n",
    "        print(\"given character is special character\")\n",
    "    else:\n",
    "        print(\"given character is consonant \")\n",
    "else:\n",
    "    print(\"please enter single character only\")\n"
   ]
  },
  {
   "cell_type": "code",
   "execution_count": null,
   "metadata": {},
   "outputs": [],
   "source": [
    "# wap find the smallest number from 2 number"
   ]
  },
  {
   "cell_type": "code",
   "execution_count": null,
   "metadata": {},
   "outputs": [],
   "source": [
    "# wap find the biggest number 2 numbers"
   ]
  },
  {
   "cell_type": "code",
   "execution_count": null,
   "metadata": {},
   "outputs": [],
   "source": [
    "# wap find the biggest number 3 numbers"
   ]
  },
  {
   "cell_type": "code",
   "execution_count": null,
   "metadata": {},
   "outputs": [],
   "source": [
    "# wap find the smallest number from 2 number"
   ]
  },
  {
   "cell_type": "code",
   "execution_count": null,
   "metadata": {},
   "outputs": [],
   "source": [
    "# wap find given year is leap year or not\n",
    "# 2000 --->leap year\n",
    "# 1900 ---> not leap year\n",
    "# 2004 ---> leap year\n",
    "#"
   ]
  }
 ],
 "metadata": {
  "kernelspec": {
   "display_name": "Python 3",
   "language": "python",
   "name": "python3"
  },
  "language_info": {
   "codemirror_mode": {
    "name": "ipython",
    "version": 3
   },
   "file_extension": ".py",
   "mimetype": "text/x-python",
   "name": "python",
   "nbconvert_exporter": "python",
   "pygments_lexer": "ipython3",
   "version": "3.7.0"
  }
 },
 "nbformat": 4,
 "nbformat_minor": 2
}
