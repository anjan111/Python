{
 "cells": [
  {
   "cell_type": "code",
   "execution_count": 1,
   "metadata": {},
   "outputs": [
    {
     "ename": "FileNotFoundError",
     "evalue": "[Errno 2] No such file or directory: 'sample.txt'",
     "output_type": "error",
     "traceback": [
      "\u001b[1;31m---------------------------------------------------------------------------\u001b[0m",
      "\u001b[1;31mFileNotFoundError\u001b[0m                         Traceback (most recent call last)",
      "\u001b[1;32m<ipython-input-1-0ba0e4fdc037>\u001b[0m in \u001b[0;36m<module>\u001b[1;34m\u001b[0m\n\u001b[1;32m----> 1\u001b[1;33m \u001b[0mfile_obj\u001b[0m \u001b[1;33m=\u001b[0m \u001b[0mopen\u001b[0m\u001b[1;33m(\u001b[0m\u001b[1;34m\"sample.txt\"\u001b[0m\u001b[1;33m,\u001b[0m\u001b[1;34m'r'\u001b[0m\u001b[1;33m)\u001b[0m\u001b[1;33m\u001b[0m\u001b[1;33m\u001b[0m\u001b[0m\n\u001b[0m\u001b[0;32m      2\u001b[0m \u001b[1;33m\u001b[0m\u001b[0m\n\u001b[0;32m      3\u001b[0m \u001b[0mfile_obj\u001b[0m\u001b[1;33m.\u001b[0m\u001b[0mclose\u001b[0m\u001b[1;33m(\u001b[0m\u001b[1;33m)\u001b[0m\u001b[1;33m\u001b[0m\u001b[1;33m\u001b[0m\u001b[0m\n",
      "\u001b[1;31mFileNotFoundError\u001b[0m: [Errno 2] No such file or directory: 'sample.txt'"
     ]
    }
   ],
   "source": [
    "file_obj = open(\"sample.txt\",'r')\n",
    "\n",
    "file_obj.close()"
   ]
  },
  {
   "cell_type": "code",
   "execution_count": 2,
   "metadata": {},
   "outputs": [
    {
     "ename": "FileNotFoundError",
     "evalue": "[Errno 2] No such file or directory: 'sample.txt'",
     "output_type": "error",
     "traceback": [
      "\u001b[1;31m---------------------------------------------------------------------------\u001b[0m",
      "\u001b[1;31mFileNotFoundError\u001b[0m                         Traceback (most recent call last)",
      "\u001b[1;32m<ipython-input-2-a44fb8b985ae>\u001b[0m in \u001b[0;36m<module>\u001b[1;34m\u001b[0m\n\u001b[1;32m----> 1\u001b[1;33m \u001b[0mfile_obj\u001b[0m \u001b[1;33m=\u001b[0m \u001b[0mopen\u001b[0m\u001b[1;33m(\u001b[0m\u001b[1;34m\"sample.txt\"\u001b[0m\u001b[1;33m,\u001b[0m\u001b[1;34m'r+'\u001b[0m\u001b[1;33m)\u001b[0m\u001b[1;33m\u001b[0m\u001b[1;33m\u001b[0m\u001b[0m\n\u001b[0m\u001b[0;32m      2\u001b[0m \u001b[1;33m\u001b[0m\u001b[0m\n\u001b[0;32m      3\u001b[0m \u001b[0mfile_obj\u001b[0m\u001b[1;33m.\u001b[0m\u001b[0mclose\u001b[0m\u001b[1;33m(\u001b[0m\u001b[1;33m)\u001b[0m\u001b[1;33m\u001b[0m\u001b[1;33m\u001b[0m\u001b[0m\n",
      "\u001b[1;31mFileNotFoundError\u001b[0m: [Errno 2] No such file or directory: 'sample.txt'"
     ]
    }
   ],
   "source": [
    "file_obj = open(\"sample.txt\",'r+')\n",
    "\n",
    "file_obj.close()"
   ]
  },
  {
   "cell_type": "code",
   "execution_count": 6,
   "metadata": {},
   "outputs": [
    {
     "name": "stdout",
     "output_type": "stream",
     "text": [
      "file object is created successfully\n"
     ]
    }
   ],
   "source": [
    "file_obj = open(\"sample.txt\",'r')\n",
    "print(\"file object is created successfully\")\n",
    "file_obj.close()"
   ]
  },
  {
   "cell_type": "code",
   "execution_count": 7,
   "metadata": {},
   "outputs": [
    {
     "name": "stdout",
     "output_type": "stream",
     "text": [
      "file object is created successfully\n"
     ]
    }
   ],
   "source": [
    "file_obj = open(\"sample.txt\",'r+')\n",
    "print(\"file object is created successfully\")\n",
    "file_obj.close()"
   ]
  },
  {
   "cell_type": "code",
   "execution_count": 8,
   "metadata": {},
   "outputs": [
    {
     "name": "stdout",
     "output_type": "stream",
     "text": [
      "file object is created successfully\n",
      "cursor location :  0\n"
     ]
    }
   ],
   "source": [
    "file_obj = open(\"sample.txt\",'r')\n",
    "print(\"file object is created successfully\")\n",
    "print(\"cursor location : \",file_obj.tell())\n",
    "file_obj.close()"
   ]
  },
  {
   "cell_type": "code",
   "execution_count": 9,
   "metadata": {},
   "outputs": [
    {
     "name": "stdout",
     "output_type": "stream",
     "text": [
      "file object is created successfully\n",
      "cursor location :  0\n"
     ]
    }
   ],
   "source": [
    "file_obj = open(\"sample.txt\",'r+')\n",
    "print(\"file object is created successfully\")\n",
    "print(\"cursor location : \",file_obj.tell())\n",
    "file_obj.close()"
   ]
  },
  {
   "cell_type": "code",
   "execution_count": 10,
   "metadata": {},
   "outputs": [
    {
     "name": "stdout",
     "output_type": "stream",
     "text": [
      "file object is created successfully\n",
      "cursor location :  0\n"
     ]
    },
    {
     "ename": "UnsupportedOperation",
     "evalue": "not writable",
     "output_type": "error",
     "traceback": [
      "\u001b[1;31m---------------------------------------------------------------------------\u001b[0m",
      "\u001b[1;31mUnsupportedOperation\u001b[0m                      Traceback (most recent call last)",
      "\u001b[1;32m<ipython-input-10-988e4f30c774>\u001b[0m in \u001b[0;36m<module>\u001b[1;34m\u001b[0m\n\u001b[0;32m      2\u001b[0m \u001b[0mprint\u001b[0m\u001b[1;33m(\u001b[0m\u001b[1;34m\"file object is created successfully\"\u001b[0m\u001b[1;33m)\u001b[0m\u001b[1;33m\u001b[0m\u001b[1;33m\u001b[0m\u001b[0m\n\u001b[0;32m      3\u001b[0m \u001b[0mprint\u001b[0m\u001b[1;33m(\u001b[0m\u001b[1;34m\"cursor location : \"\u001b[0m\u001b[1;33m,\u001b[0m\u001b[0mfile_obj\u001b[0m\u001b[1;33m.\u001b[0m\u001b[0mtell\u001b[0m\u001b[1;33m(\u001b[0m\u001b[1;33m)\u001b[0m\u001b[1;33m)\u001b[0m\u001b[1;33m\u001b[0m\u001b[1;33m\u001b[0m\u001b[0m\n\u001b[1;32m----> 4\u001b[1;33m \u001b[0mfile_obj\u001b[0m\u001b[1;33m.\u001b[0m\u001b[0mwrite\u001b[0m\u001b[1;33m(\u001b[0m\u001b[1;34m\"hello\"\u001b[0m\u001b[1;33m)\u001b[0m\u001b[1;33m\u001b[0m\u001b[1;33m\u001b[0m\u001b[0m\n\u001b[0m\u001b[0;32m      5\u001b[0m \u001b[0mfile_obj\u001b[0m\u001b[1;33m.\u001b[0m\u001b[0mclose\u001b[0m\u001b[1;33m(\u001b[0m\u001b[1;33m)\u001b[0m\u001b[1;33m\u001b[0m\u001b[1;33m\u001b[0m\u001b[0m\n",
      "\u001b[1;31mUnsupportedOperation\u001b[0m: not writable"
     ]
    }
   ],
   "source": [
    "file_obj = open(\"sample.txt\",'r')\n",
    "print(\"file object is created successfully\")\n",
    "print(\"cursor location : \",file_obj.tell())\n",
    "file_obj.write(\"hello\")\n",
    "file_obj.close()"
   ]
  },
  {
   "cell_type": "code",
   "execution_count": 11,
   "metadata": {},
   "outputs": [
    {
     "name": "stdout",
     "output_type": "stream",
     "text": [
      "file object is created successfully\n",
      "cursor location :  0\n"
     ]
    }
   ],
   "source": [
    "file_obj = open(\"sample.txt\",'r+')\n",
    "print(\"file object is created successfully\")\n",
    "print(\"cursor location : \",file_obj.tell())\n",
    "file_obj.write(\"1122331\")\n",
    "file_obj.close()"
   ]
  },
  {
   "cell_type": "code",
   "execution_count": 12,
   "metadata": {},
   "outputs": [
    {
     "name": "stdout",
     "output_type": "stream",
     "text": [
      "file object is created successfully\n",
      "cursor location :  0\n",
      "1st 7 charcter :  1122331\n",
      "cursor location :  7\n"
     ]
    }
   ],
   "source": [
    "file_obj = open(\"sample.txt\",'r')\n",
    "print(\"file object is created successfully\")\n",
    "print(\"cursor location : \",file_obj.tell())\n",
    "data = file_obj.read(7)\n",
    "print(\"1st 7 charcter : \",data)\n",
    "print(\"cursor location : \",file_obj.tell())\n",
    "file_obj.close()"
   ]
  },
  {
   "cell_type": "code",
   "execution_count": 13,
   "metadata": {},
   "outputs": [
    {
     "name": "stdout",
     "output_type": "stream",
     "text": [
      "file object is created successfully\n",
      "cursor location :  0\n",
      "1st 7 charcter :  1122331\n",
      "cursor location :  7\n"
     ]
    }
   ],
   "source": [
    "file_obj = open(\"sample.txt\",'r+')\n",
    "print(\"file object is created successfully\")\n",
    "print(\"cursor location : \",file_obj.tell())\n",
    "data = file_obj.read(7)\n",
    "print(\"1st 7 charcter : \",data)\n",
    "print(\"cursor location : \",file_obj.tell())\n",
    "file_obj.close()"
   ]
  },
  {
   "cell_type": "code",
   "execution_count": 14,
   "metadata": {},
   "outputs": [
    {
     "name": "stdout",
     "output_type": "stream",
     "text": [
      "file object is created successfully\n",
      "cursor location :  0\n",
      "read whole charcter :  1122331 sample text file\n",
      "okey. we created this one just for understanding read mode\n",
      "cursor location :  83\n"
     ]
    }
   ],
   "source": [
    "file_obj = open(\"sample.txt\",'r')\n",
    "print(\"file object is created successfully\")\n",
    "print(\"cursor location : \",file_obj.tell())\n",
    "data = file_obj.read()\n",
    "print(\"read whole charcter : \",data)\n",
    "print(\"cursor location : \",file_obj.tell())\n",
    "file_obj.close()"
   ]
  },
  {
   "cell_type": "code",
   "execution_count": 15,
   "metadata": {},
   "outputs": [
    {
     "name": "stdout",
     "output_type": "stream",
     "text": [
      "file object is created successfully\n",
      "cursor location :  0\n",
      "read whole charcter :  1122331 sample text file\n",
      "okey. we created this one just for understanding read mode\n",
      "cursor location :  83\n"
     ]
    }
   ],
   "source": [
    "file_obj = open(\"sample.txt\",'r+')\n",
    "print(\"file object is created successfully\")\n",
    "print(\"cursor location : \",file_obj.tell())\n",
    "data = file_obj.read()\n",
    "print(\"read whole charcter : \",data)\n",
    "print(\"cursor location : \",file_obj.tell())\n",
    "file_obj.close()"
   ]
  },
  {
   "cell_type": "code",
   "execution_count": 16,
   "metadata": {},
   "outputs": [
    {
     "name": "stdout",
     "output_type": "stream",
     "text": [
      "file object is created successfully\n",
      "cursor location :  0\n",
      "1st line charcter \n",
      ":  1122331 sample text file\n",
      "\n",
      "cursor location :  25\n",
      "2nd line charcter \n",
      ":  okey. we created this one just for understanding read mode\n",
      "cursor location :  83\n"
     ]
    }
   ],
   "source": [
    "file_obj = open(\"sample.txt\",'r')\n",
    "print(\"file object is created successfully\")\n",
    "print(\"cursor location : \",file_obj.tell())\n",
    "data = file_obj.readline()\n",
    "print(\"1st line charcter \\n: \",data)\n",
    "print(\"cursor location : \",file_obj.tell())\n",
    "data = file_obj.readline()\n",
    "print(\"2nd line charcter \\n: \",data)\n",
    "print(\"cursor location : \",file_obj.tell())\n",
    "file_obj.close()"
   ]
  },
  {
   "cell_type": "code",
   "execution_count": 17,
   "metadata": {},
   "outputs": [
    {
     "name": "stdout",
     "output_type": "stream",
     "text": [
      "file object is created successfully\n",
      "cursor location :  0\n",
      "1st line charcter \n",
      ":  1122331 sample text file\n",
      "\n",
      "cursor location :  25\n",
      "2nd line charcter \n",
      ":  okey. we created this one just for understanding read mode\n",
      "cursor location :  83\n"
     ]
    }
   ],
   "source": [
    "file_obj = open(\"sample.txt\",'r+')\n",
    "print(\"file object is created successfully\")\n",
    "print(\"cursor location : \",file_obj.tell())\n",
    "data = file_obj.readline()\n",
    "print(\"1st line charcter \\n: \",data)\n",
    "print(\"cursor location : \",file_obj.tell())\n",
    "data = file_obj.readline()\n",
    "print(\"2nd line charcter \\n: \",data)\n",
    "print(\"cursor location : \",file_obj.tell())\n",
    "file_obj.close()"
   ]
  },
  {
   "cell_type": "code",
   "execution_count": 18,
   "metadata": {},
   "outputs": [
    {
     "name": "stdout",
     "output_type": "stream",
     "text": [
      "file object is created successfully\n",
      "cursor location :  0\n",
      "1st line charcter :\n",
      "  ['1122331 sample text file\\n', 'okey. we created this one just for understanding read mode']\n",
      "cursor location :  83\n"
     ]
    }
   ],
   "source": [
    "file_obj = open(\"sample.txt\",'r')\n",
    "print(\"file object is created successfully\")\n",
    "print(\"cursor location : \",file_obj.tell())\n",
    "data = file_obj.readlines()\n",
    "print(\"1st line charcter :\\n \",data)\n",
    "print(\"cursor location : \",file_obj.tell())\n",
    "\n",
    "file_obj.close()"
   ]
  },
  {
   "cell_type": "code",
   "execution_count": 19,
   "metadata": {},
   "outputs": [
    {
     "name": "stdout",
     "output_type": "stream",
     "text": [
      "file object is created successfully\n",
      "cursor location :  0\n",
      "1st line charcter :\n",
      "  ['1122331 sample text file\\n', 'okey. we created this one just for understanding read mode']\n",
      "cursor location :  83\n"
     ]
    }
   ],
   "source": [
    "file_obj = open(\"sample.txt\",'r')\n",
    "print(\"file object is created successfully\")\n",
    "print(\"cursor location : \",file_obj.tell())\n",
    "data = file_obj.readlines()\n",
    "print(\"1st line charcter :\\n \",data)\n",
    "print(\"cursor location : \",file_obj.tell())\n",
    "\n",
    "file_obj.close()"
   ]
  },
  {
   "cell_type": "code",
   "execution_count": 22,
   "metadata": {},
   "outputs": [
    {
     "name": "stdout",
     "output_type": "stream",
     "text": [
      "file object is created successfully\n",
      "cursor location :  0\n",
      "1st line charcter :\n",
      "  1122331 sample text file\n",
      "\n",
      "cursor location :  25\n",
      "1st line charcter :\n",
      "  1122331 sample text file\n",
      "\n",
      "cursor location :  25\n"
     ]
    }
   ],
   "source": [
    "file_obj = open(\"sample.txt\",'r')\n",
    "print(\"file object is created successfully\")\n",
    "print(\"cursor location : \",file_obj.tell())\n",
    "data = file_obj.readline()\n",
    "print(\"1st line charcter :\\n \",data)\n",
    "print(\"cursor location : \",file_obj.tell())\n",
    "file_obj.seek(0,0)\n",
    "data = file_obj.readline()\n",
    "print(\"1st line charcter :\\n \",data)\n",
    "print(\"cursor location : \",file_obj.tell())\n",
    "\n",
    "file_obj.close()"
   ]
  },
  {
   "cell_type": "code",
   "execution_count": 23,
   "metadata": {},
   "outputs": [
    {
     "name": "stdout",
     "output_type": "stream",
     "text": [
      "file object is created successfully\n",
      "cursor location :  0\n",
      "1st line charcter :\n",
      "  1122331 sample text file\n",
      "\n",
      "cursor location :  25\n",
      "i am anjan kumar python and AI technical trainerne just for understanding read mode\n"
     ]
    }
   ],
   "source": [
    "file_obj = open(\"sample.txt\",'r+')\n",
    "print(\"file object is created successfully\")\n",
    "print(\"cursor location : \",file_obj.tell())\n",
    "data = file_obj.readline()\n",
    "print(\"1st line charcter :\\n \",data)\n",
    "print(\"cursor location : \",file_obj.tell())\n",
    "file_obj.seek(0,0)\n",
    "file_obj.write(\"i am anjan kumar python and AI technical trainer\")\n",
    "file_obj.seek(0,0)\n",
    "data = file_obj.read()\n",
    "print(data)\n",
    "file_obj.close()"
   ]
  }
 ],
 "metadata": {
  "kernelspec": {
   "display_name": "Python 3",
   "language": "python",
   "name": "python3"
  },
  "language_info": {
   "codemirror_mode": {
    "name": "ipython",
    "version": 3
   },
   "file_extension": ".py",
   "mimetype": "text/x-python",
   "name": "python",
   "nbconvert_exporter": "python",
   "pygments_lexer": "ipython3",
   "version": "3.7.3"
  }
 },
 "nbformat": 4,
 "nbformat_minor": 2
}
