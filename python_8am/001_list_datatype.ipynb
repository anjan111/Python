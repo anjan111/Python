{
 "cells": [
  {
   "cell_type": "markdown",
   "metadata": {},
   "source": [
    "# list Datatype\n",
    "# ------------------\n",
    "\n",
    "---> List is seqqunetial data type( A single variable can hold mu;tiple data elements  )\n",
    "\n",
    "---> Multiple data elements we can store with in  [ ]"
   ]
  },
  {
   "cell_type": "code",
   "execution_count": 2,
   "metadata": {},
   "outputs": [
    {
     "name": "stdout",
     "output_type": "stream",
     "text": [
      "data : []\n",
      "type :  <class 'list'>\n",
      "id  :  671923900040\n",
      "size:  40\n"
     ]
    }
   ],
   "source": [
    "# empty list \n",
    "\n",
    "var = []\n",
    "print(\"data :\",var)\n",
    "print(\"type : \",type(var))\n",
    "print(\"id  : \",id(var))\n",
    "print(\"size: \", var.__sizeof__())\n"
   ]
  },
  {
   "cell_type": "code",
   "execution_count": 3,
   "metadata": {},
   "outputs": [
    {
     "name": "stdout",
     "output_type": "stream",
     "text": [
      "data : [12, 34, 56, 67]\n",
      "type :  <class 'list'>\n",
      "id  :  671923178376\n",
      "size:  72\n"
     ]
    }
   ],
   "source": [
    "# homo list with int elements\n",
    "\n",
    "var = [12 , 34 , 56, 67]\n",
    "print(\"data :\",var)\n",
    "print(\"type : \",type(var))\n",
    "print(\"id  : \",id(var))\n",
    "print(\"size: \", var.__sizeof__())\n"
   ]
  },
  {
   "cell_type": "code",
   "execution_count": 4,
   "metadata": {},
   "outputs": [
    {
     "name": "stdout",
     "output_type": "stream",
     "text": [
      "data : [12, 34.12, (56+4j), True]\n",
      "type :  <class 'list'>\n",
      "id  :  671923200200\n",
      "size:  72\n"
     ]
    }
   ],
   "source": [
    "# ( hetro)  list with int elements\n",
    "\n",
    "var = [12 , 34.12, 56+4j, True]\n",
    "print(\"data :\",var)\n",
    "print(\"type : \",type(var))\n",
    "print(\"id  : \",id(var))\n",
    "print(\"size: \", var.__sizeof__())\n"
   ]
  },
  {
   "cell_type": "code",
   "execution_count": 5,
   "metadata": {},
   "outputs": [
    {
     "name": "stdout",
     "output_type": "stream",
     "text": [
      "data : ['soc', [1, 2, 3], (1, 2, 3), {1, 2, 3}, {12: '34', 45: 'soc'}]\n",
      "type :  <class 'list'>\n",
      "id  :  671923956744\n",
      "size:  80\n"
     ]
    }
   ],
   "source": [
    "#Nested list \n",
    "'''\n",
    "With in list if you store sequential dataa elements\n",
    "'''\n",
    "var = [\"soc\",[1,2,3],(1,2,3),{1,2,3},{12 : \"34\" ,45:\"soc\"}]\n",
    "\n",
    "print(\"data :\",var)\n",
    "print(\"type : \",type(var))\n",
    "print(\"id  : \",id(var))\n",
    "print(\"size: \", var.__sizeof__())\n",
    "\n",
    "# hetro deb=nious data type"
   ]
  },
  {
   "cell_type": "markdown",
   "metadata": {},
   "source": [
    "# access the list elements  [ ] \n",
    "\n",
    "---> indexing  ( single data element )\n",
    "\n",
    "\n",
    "\n",
    "---> slicing  ( group of continuous lisst elements as list )\n",
    "\n",
    "---> dicing ( group of step wise list elements from list as a list)"
   ]
  },
  {
   "cell_type": "code",
   "execution_count": 7,
   "metadata": {},
   "outputs": [
    {
     "name": "stdout",
     "output_type": "stream",
     "text": [
      "positive indexing \n",
      "12\n",
      "45\n",
      "56\n",
      "67\n",
      "34\n",
      "Negative indexing\n",
      "34\n",
      "67\n",
      "56\n",
      "45\n",
      "12\n"
     ]
    }
   ],
   "source": [
    "# indexing\n",
    "\n",
    "'''\n",
    "1. Positive indexing \n",
    "\n",
    "2. Negative indexing \n",
    "\n",
    "'''\n",
    "\n",
    "var = [12 , 45 , 56  ,67, 34 ]\n",
    "print(\"positive indexing \")\n",
    "print(var[0])  # 12\n",
    "print(var[1])  # 45\n",
    "print(var[2])  # 56\n",
    "print(var[3])  # 67\n",
    "print(var[4])  # 34\n",
    "\n",
    "print(\"Negative indexing\")\n",
    "print(var[-1])  #34\n",
    "print(var[-2])  #67\n",
    "print(var[-3]) # 56\n",
    "print(var[-4]) # 45\n",
    "print(var[-5]) # 12"
   ]
  },
  {
   "cell_type": "code",
   "execution_count": 10,
   "metadata": {},
   "outputs": [
    {
     "name": "stdout",
     "output_type": "stream",
     "text": [
      "[23, 89, 3, 5]\n",
      "[12, 34, 90, 23, 89, 3, 5, 1, 9, 10]\n",
      "[12, 34, 90, 23, 89, 3, 5, 1, 9, 10]\n"
     ]
    }
   ],
   "source": [
    "# slicing ( sub list from main list )\n",
    "'''\n",
    "[d0,d1,d2,d3,d4,d5-------dn]\n",
    "\n",
    "var[start :  stop]\n",
    "var[1: 6] # [d1,d2,d3,d4,d5]\n",
    "'''\n",
    "var= [12,34,90,23,89,3,5,1,9,10]\n",
    "\n",
    "print(var[3:7])  # [23,89,3,5]\n",
    "print(var[:]) #start ---0 ,, stop ---> len of list\n",
    "print(var[0:11])"
   ]
  },
  {
   "cell_type": "code",
   "execution_count": 15,
   "metadata": {},
   "outputs": [
    {
     "name": "stdout",
     "output_type": "stream",
     "text": [
      "[12, 90, 89, 5, 9]\n",
      "[90, 3, 9]\n",
      "[90, 23, 89, 3, 5, 1, 9, 10]\n",
      "[10, 1, 3, 23]\n"
     ]
    }
   ],
   "source": [
    "# dicing \n",
    "'''\n",
    "var[ start =0 ; stop = len of  list   ; step  =1]\n",
    "'''\n",
    "var= [12,34,90,23,89,3,5,1,9,10]\n",
    "print(var[0:11:2])\n",
    "print(var[2:10:3])  #[90,3,9]\n",
    "print(var[2:10:1])\n",
    "print(var[-1: -8 :-2])"
   ]
  },
  {
   "cell_type": "code",
   "execution_count": 19,
   "metadata": {},
   "outputs": [
    {
     "name": "stdout",
     "output_type": "stream",
     "text": [
      "soc\n",
      "o\n",
      "[1, 2, 3]\n",
      "[2, 3]\n",
      "(4, 5, 6)\n",
      "4\n"
     ]
    }
   ],
   "source": [
    "# nested indexing \n",
    "\n",
    "var = [\"soc\" , [1,2,3],(4,5,6)]\n",
    "#print(len(var))\n",
    "print(var[0])\n",
    "print(var[0][1])\n",
    "print(var[1])\n",
    "print(var[1][1:])\n",
    "print(var[2])\n",
    "print(var[2][0])"
   ]
  },
  {
   "cell_type": "code",
   "execution_count": 20,
   "metadata": {},
   "outputs": [
    {
     "name": "stdout",
     "output_type": "stream",
     "text": [
      "[2, 3, 9, 3, 0, 1, 5, 3, 8]\n",
      "[2, 3, 9, 3, 100, 1, 5, 3, 8]\n",
      "[2, 3, 9, 3, 100, 10, 20, 30, 8]\n",
      "['soc', 3, 'softech', 3, 'modified', 10, 20, 30, 8]\n"
     ]
    }
   ],
   "source": [
    "# modification of list elements \n",
    "var = [2,3,9,3,0,1,5,3,8]\n",
    "print(var)\n",
    "var[4] = 100\n",
    "print(var)\n",
    "var[5:8] = [10,20,30]\n",
    "print(var)\n",
    "var[0:5:2] =['soc','softech','modified']\n",
    "print(var)"
   ]
  },
  {
   "cell_type": "code",
   "execution_count": 22,
   "metadata": {},
   "outputs": [
    {
     "name": "stdout",
     "output_type": "stream",
     "text": [
      "['soc', 3, 'softech', 3, 'modified', 10, 20, 30, 8]\n",
      "['soc', 'softech', 3, 'modified', 10, 20, 30, 8]\n",
      "[3, 'modified', 10, 20, 30, 8]\n"
     ]
    }
   ],
   "source": [
    "# deleteing the list elemetns\n",
    "print(var)\n",
    "del var[1]\n",
    "print(var)\n",
    "del var[0:2]\n",
    "print(var)"
   ]
  },
  {
   "cell_type": "code",
   "execution_count": 23,
   "metadata": {},
   "outputs": [
    {
     "name": "stdout",
     "output_type": "stream",
     "text": [
      "215\n",
      "90\n",
      "1\n"
     ]
    }
   ],
   "source": [
    "var = [1,9,3,90,34,78]\n",
    "print (sum(var))\n",
    "print(max(var))\n",
    "print(min(var))"
   ]
  },
  {
   "cell_type": "code",
   "execution_count": 25,
   "metadata": {},
   "outputs": [
    {
     "name": "stdout",
     "output_type": "stream",
     "text": [
      "[1, 2, 3, 4, 4, 5]\n",
      "[1, 2, 3, 1, 2, 3, 1, 2, 3]\n"
     ]
    }
   ],
   "source": [
    "a = [1,2,3]\n",
    "b =[4,4,5]\n",
    "print(a +b)\n",
    "print(a * 3)"
   ]
  },
  {
   "cell_type": "code",
   "execution_count": 26,
   "metadata": {},
   "outputs": [
    {
     "data": {
      "text/plain": [
       "['__add__',\n",
       " '__class__',\n",
       " '__contains__',\n",
       " '__delattr__',\n",
       " '__delitem__',\n",
       " '__dir__',\n",
       " '__doc__',\n",
       " '__eq__',\n",
       " '__format__',\n",
       " '__ge__',\n",
       " '__getattribute__',\n",
       " '__getitem__',\n",
       " '__gt__',\n",
       " '__hash__',\n",
       " '__iadd__',\n",
       " '__imul__',\n",
       " '__init__',\n",
       " '__init_subclass__',\n",
       " '__iter__',\n",
       " '__le__',\n",
       " '__len__',\n",
       " '__lt__',\n",
       " '__mul__',\n",
       " '__ne__',\n",
       " '__new__',\n",
       " '__reduce__',\n",
       " '__reduce_ex__',\n",
       " '__repr__',\n",
       " '__reversed__',\n",
       " '__rmul__',\n",
       " '__setattr__',\n",
       " '__setitem__',\n",
       " '__sizeof__',\n",
       " '__str__',\n",
       " '__subclasshook__',\n",
       " 'append',\n",
       " 'clear',\n",
       " 'copy',\n",
       " 'count',\n",
       " 'extend',\n",
       " 'index',\n",
       " 'insert',\n",
       " 'pop',\n",
       " 'remove',\n",
       " 'reverse',\n",
       " 'sort']"
      ]
     },
     "execution_count": 26,
     "metadata": {},
     "output_type": "execute_result"
    }
   ],
   "source": [
    "dir(list)"
   ]
  }
 ],
 "metadata": {
  "kernelspec": {
   "display_name": "Python 3",
   "language": "python",
   "name": "python3"
  },
  "language_info": {
   "codemirror_mode": {
    "name": "ipython",
    "version": 3
   },
   "file_extension": ".py",
   "mimetype": "text/x-python",
   "name": "python",
   "nbconvert_exporter": "python",
   "pygments_lexer": "ipython3",
   "version": "3.7.0"
  }
 },
 "nbformat": 4,
 "nbformat_minor": 2
}
