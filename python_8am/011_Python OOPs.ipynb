{
 "cells": [
  {
   "cell_type": "code",
   "execution_count": 2,
   "metadata": {},
   "outputs": [
    {
     "name": "stdout",
     "output_type": "stream",
     "text": [
      "Ila      22     S027\n",
      "Deep     23     S028\n"
     ]
    }
   ],
   "source": [
    "# create a student class\n",
    "\n",
    "class  Student():\n",
    "    name =None\n",
    "    age = None\n",
    "    roll= None\n",
    "    \n",
    "std1 = Student()\n",
    "std2 = Student()\n",
    "std1.name = 'Ila'\n",
    "std1.age  = 22\n",
    "std1.roll ='S027'\n",
    "std2.name='Deep'\n",
    "std2.age = 23\n",
    "std2.roll ='S028'\n",
    "print(std1.name ,\"    \", std1.age,\"   \",std1.roll)\n",
    "print(std2.name ,\"   \", std2.age,\"   \",std2.roll)"
   ]
  },
  {
   "cell_type": "code",
   "execution_count": null,
   "metadata": {},
   "outputs": [],
   "source": []
  },
  {
   "cell_type": "code",
   "execution_count": null,
   "metadata": {},
   "outputs": [],
   "source": [
    "# methods are the functions , the functions we have define in side of class\n",
    "'''\n",
    "1. Special Methods (__nameofmeth__)\n",
    "2. Normal Methode  \n",
    "'''"
   ]
  },
  {
   "cell_type": "code",
   "execution_count": 3,
   "metadata": {},
   "outputs": [
    {
     "name": "stdout",
     "output_type": "stream",
     "text": [
      "<__main__.Student object at 0x0000003E9D611588> object create \n",
      "<__main__.Student object at 0x0000003E9D5F8470> object create \n",
      "Ila      22     S027\n",
      "Deep     23     S028\n"
     ]
    }
   ],
   "source": [
    "# create a student class\n",
    "# constructor is a special it can executes automatically whhile object \n",
    "# creation\n",
    "class  Student():\n",
    "    name =None\n",
    "    age = None\n",
    "    roll= None\n",
    "    def  __init__(self):\n",
    "        print(self,\"object create \")\n",
    "        \n",
    "std1 = Student()\n",
    "std2 = Student()\n",
    "std1.name = 'Ila'\n",
    "std1.age  = 22\n",
    "std1.roll ='S027'\n",
    "std2.name='Deep'\n",
    "std2.age = 23\n",
    "std2.roll ='S028'\n",
    "print(std1.name ,\"    \", std1.age,\"   \",std1.roll)\n",
    "print(std2.name ,\"   \", std2.age,\"   \",std2.roll)"
   ]
  },
  {
   "cell_type": "code",
   "execution_count": 4,
   "metadata": {},
   "outputs": [
    {
     "name": "stdout",
     "output_type": "stream",
     "text": [
      "<__main__.Student object at 0x0000003E9D6113C8> object create \n",
      "enter name : anjan\n",
      "enter age  : 27\n",
      "enter roll : s07\n",
      "<__main__.Student object at 0x0000003E9D5C6BA8> object create \n",
      "enter name : deep\n",
      "enter age  : 22\n",
      "enter roll : s089\n",
      "anjan      27     s07\n",
      "deep     22     s089\n"
     ]
    }
   ],
   "source": [
    "# create a student class\n",
    "# constructor is a special it can executes automatically whhile object \n",
    "# creation\n",
    "class  Student():\n",
    "\n",
    "    def  __init__(self):\n",
    "        print(self,\"object create \")\n",
    "        self.name =input(\"enter name : \")\n",
    "        self.age = input(\"enter age  : \")\n",
    "        self.roll = input(\"enter roll : \")       \n",
    "\n",
    "std1 = Student()\n",
    "std2 = Student()\n",
    "print(std1.name ,\"    \", std1.age,\"   \",std1.roll)\n",
    "print(std2.name ,\"   \", std2.age,\"   \",std2.roll)"
   ]
  },
  {
   "cell_type": "code",
   "execution_count": 5,
   "metadata": {},
   "outputs": [
    {
     "name": "stdout",
     "output_type": "stream",
     "text": [
      "<__main__.Student object at 0x0000003E9D611390> object create \n",
      "enter name : 45\n",
      "enter age  : 45\n",
      "enter roll : 45\n",
      "<__main__.Student object at 0x0000003E9D611278> object create \n",
      "enter name : 89\n",
      "enter age  : 89\n",
      "enter roll : 89\n",
      "45      45     45\n",
      "89      89     89\n"
     ]
    }
   ],
   "source": [
    "# create a student class\n",
    "# constructor is a special it can executes automatically whhile object \n",
    "# creation\n",
    "class  Student():\n",
    "\n",
    "    def  __init__(self):  # constructor\n",
    "        print(self,\"object create \")\n",
    "        # instace variable\n",
    "        self.name =input(\"enter name : \")\n",
    "        self.age = input(\"enter age  : \")\n",
    "        self.roll = input(\"enter roll : \")\n",
    "    def printig(self):   # noraml\n",
    "        print(self.name ,\"    \", self.age,\"   \",self.roll)\n",
    "\n",
    "\n",
    "std1 = Student()\n",
    "std2 = Student()\n",
    "std1.printig()\n",
    "std2.printig()"
   ]
  },
  {
   "cell_type": "code",
   "execution_count": 6,
   "metadata": {},
   "outputs": [
    {
     "name": "stdout",
     "output_type": "stream",
     "text": [
      "<__main__.Student object at 0x0000003E9D611C50> object create \n",
      "enter name : 78\n",
      "enter age  : 78\n",
      "enter roll : 78\n",
      "<__main__.Student object at 0x0000003E9D611C18> object create \n",
      "enter name : 89\n",
      "enter age  : 89\n",
      "enter roll : 89\n",
      "78      78     78\n",
      "89      89     89\n",
      "<__main__.Student object at 0x0000003E9D611C50> removing\n",
      "<__main__.Student object at 0x0000003E9D611C18> removing\n"
     ]
    }
   ],
   "source": [
    "# create a student class\n",
    "# constructor is a special it can executes automatically whhile object \n",
    "# creation\n",
    "class  Student():\n",
    "\n",
    "    def  __init__(self):  # constructor\n",
    "        print(self,\"object create \")\n",
    "        # instace variable\n",
    "        self.name =input(\"enter name : \")\n",
    "        self.age = input(\"enter age  : \")\n",
    "        self.roll = input(\"enter roll : \")\n",
    "    def printig(self):   # noraml\n",
    "        print(self.name ,\"    \", self.age,\"   \",self.roll)\n",
    "    def __del__(self): # distructor\n",
    "        print(self,\"removing\")\n",
    "\n",
    "std1 = Student()\n",
    "std2 = Student()\n",
    "std1.printig()\n",
    "std2.printig()\n",
    "del std1\n",
    "del std2"
   ]
  },
  {
   "cell_type": "code",
   "execution_count": 2,
   "metadata": {},
   "outputs": [
    {
     "name": "stdout",
     "output_type": "stream",
     "text": [
      "var in side of the class :  123\n",
      "var out side of the class :  123\n"
     ]
    }
   ],
   "source": [
    "#data hiding \n",
    "'''\n",
    "Data hiding is used for to give the security for class attribute\n",
    "\n",
    "'''\n",
    "# public variable ----> to any access with out any security \n",
    "# private variable ---> the variable if you want to access\n",
    "# outside of the class \n",
    "class Data_hide():\n",
    "    var = 123 # public variable\n",
    "    def fun(self):\n",
    "        print(\"var in side of the class : \",self.var)\n",
    "obj = Data_hide()\n",
    "obj.fun()\n",
    "print(\"var out side of the class : \",obj.var)\n"
   ]
  },
  {
   "cell_type": "code",
   "execution_count": 3,
   "metadata": {},
   "outputs": [
    {
     "name": "stdout",
     "output_type": "stream",
     "text": [
      "var in side of the class :  123\n"
     ]
    },
    {
     "ename": "AttributeError",
     "evalue": "'Data_hide' object has no attribute '__var'",
     "output_type": "error",
     "traceback": [
      "\u001b[1;31m---------------------------------------------------------------------------\u001b[0m",
      "\u001b[1;31mAttributeError\u001b[0m                            Traceback (most recent call last)",
      "\u001b[1;32m<ipython-input-3-2d934de6e7c3>\u001b[0m in \u001b[0;36m<module>\u001b[1;34m\u001b[0m\n\u001b[0;32m      5\u001b[0m \u001b[0mobj\u001b[0m \u001b[1;33m=\u001b[0m \u001b[0mData_hide\u001b[0m\u001b[1;33m(\u001b[0m\u001b[1;33m)\u001b[0m\u001b[1;33m\u001b[0m\u001b[1;33m\u001b[0m\u001b[0m\n\u001b[0;32m      6\u001b[0m \u001b[0mobj\u001b[0m\u001b[1;33m.\u001b[0m\u001b[0mfun\u001b[0m\u001b[1;33m(\u001b[0m\u001b[1;33m)\u001b[0m\u001b[1;33m\u001b[0m\u001b[1;33m\u001b[0m\u001b[0m\n\u001b[1;32m----> 7\u001b[1;33m \u001b[0mprint\u001b[0m\u001b[1;33m(\u001b[0m\u001b[1;34m\"var out side of the class : \"\u001b[0m\u001b[1;33m,\u001b[0m\u001b[0mobj\u001b[0m\u001b[1;33m.\u001b[0m\u001b[0m__var\u001b[0m\u001b[1;33m)\u001b[0m\u001b[1;33m\u001b[0m\u001b[1;33m\u001b[0m\u001b[0m\n\u001b[0m",
      "\u001b[1;31mAttributeError\u001b[0m: 'Data_hide' object has no attribute '__var'"
     ]
    }
   ],
   "source": [
    "class Data_hide():\n",
    "    __var = 123 # private variable\n",
    "    def fun(self):\n",
    "        print(\"var in side of the class : \",self.__var)\n",
    "obj = Data_hide()\n",
    "obj.fun()\n",
    "print(\"var out side of the class : \",obj.__var)\n"
   ]
  },
  {
   "cell_type": "code",
   "execution_count": 5,
   "metadata": {},
   "outputs": [
    {
     "name": "stdout",
     "output_type": "stream",
     "text": [
      "var in side of the class :  123\n"
     ]
    },
    {
     "ename": "AttributeError",
     "evalue": "'Data_hide' object has no attribute '__var'",
     "output_type": "error",
     "traceback": [
      "\u001b[1;31m---------------------------------------------------------------------------\u001b[0m",
      "\u001b[1;31mAttributeError\u001b[0m                            Traceback (most recent call last)",
      "\u001b[1;32m<ipython-input-5-ee0013c4c5bc>\u001b[0m in \u001b[0;36m<module>\u001b[1;34m\u001b[0m\n\u001b[0;32m      8\u001b[0m \u001b[0mobj\u001b[0m\u001b[1;33m.\u001b[0m\u001b[0mf1\u001b[0m\u001b[1;33m(\u001b[0m\u001b[1;33m)\u001b[0m\u001b[1;33m\u001b[0m\u001b[1;33m\u001b[0m\u001b[0m\n\u001b[0;32m      9\u001b[0m \u001b[1;31m#obj.__fun()\u001b[0m\u001b[1;33m\u001b[0m\u001b[1;33m\u001b[0m\u001b[1;33m\u001b[0m\u001b[0m\n\u001b[1;32m---> 10\u001b[1;33m \u001b[0mprint\u001b[0m\u001b[1;33m(\u001b[0m\u001b[1;34m\"var out side of the class : \"\u001b[0m\u001b[1;33m,\u001b[0m\u001b[0mobj\u001b[0m\u001b[1;33m.\u001b[0m\u001b[0m__var\u001b[0m\u001b[1;33m)\u001b[0m\u001b[1;33m\u001b[0m\u001b[1;33m\u001b[0m\u001b[0m\n\u001b[0m",
      "\u001b[1;31mAttributeError\u001b[0m: 'Data_hide' object has no attribute '__var'"
     ]
    }
   ],
   "source": [
    "c"
   ]
  },
  {
   "cell_type": "code",
   "execution_count": 6,
   "metadata": {},
   "outputs": [
    {
     "name": "stdout",
     "output_type": "stream",
     "text": [
      "var in side of the class :  123\n",
      "var out side of the class :  123\n"
     ]
    }
   ],
   "source": [
    "# data ecapulation\n",
    "'''\n",
    "we can access the hided attribures \n",
    "'''\n",
    "class Data_encap():\n",
    "    __var = 123 # private variable\n",
    "    def fun(self):\n",
    "        print(\"var in side of the class : \",self.__var)\n",
    "obj = Data_encap()\n",
    "obj.fun()\n",
    "print(\"var out side of the class : \",obj._Data_encap__var) # encapulation"
   ]
  },
  {
   "cell_type": "code",
   "execution_count": 7,
   "metadata": {},
   "outputs": [
    {
     "name": "stdout",
     "output_type": "stream",
     "text": [
      "i have 2 arguments\n"
     ]
    },
    {
     "ename": "TypeError",
     "evalue": "fun() missing 1 required positional argument: 'b'",
     "output_type": "error",
     "traceback": [
      "\u001b[1;31m---------------------------------------------------------------------------\u001b[0m",
      "\u001b[1;31mTypeError\u001b[0m                                 Traceback (most recent call last)",
      "\u001b[1;32m<ipython-input-7-888749aa9d8b>\u001b[0m in \u001b[0;36m<module>\u001b[1;34m\u001b[0m\n\u001b[0;32m     15\u001b[0m \u001b[0mobj\u001b[0m \u001b[1;33m=\u001b[0m \u001b[0mMet_ove\u001b[0m\u001b[1;33m(\u001b[0m\u001b[1;33m)\u001b[0m\u001b[1;33m\u001b[0m\u001b[1;33m\u001b[0m\u001b[0m\n\u001b[0;32m     16\u001b[0m \u001b[0mobj\u001b[0m\u001b[1;33m.\u001b[0m\u001b[0mfun\u001b[0m\u001b[1;33m(\u001b[0m\u001b[1;36m10\u001b[0m\u001b[1;33m,\u001b[0m\u001b[1;36m10\u001b[0m\u001b[1;33m)\u001b[0m \u001b[1;31m# 3rd\u001b[0m\u001b[1;33m\u001b[0m\u001b[1;33m\u001b[0m\u001b[0m\n\u001b[1;32m---> 17\u001b[1;33m \u001b[0mobj\u001b[0m\u001b[1;33m.\u001b[0m\u001b[0mfun\u001b[0m\u001b[1;33m(\u001b[0m\u001b[1;36m10\u001b[0m\u001b[1;33m)\u001b[0m    \u001b[1;31m# 2nd\u001b[0m\u001b[1;33m\u001b[0m\u001b[1;33m\u001b[0m\u001b[0m\n\u001b[0m\u001b[0;32m     18\u001b[0m \u001b[0mobj\u001b[0m\u001b[1;33m.\u001b[0m\u001b[0mfun\u001b[0m\u001b[1;33m(\u001b[0m\u001b[1;33m)\u001b[0m      \u001b[1;31m# 1st\u001b[0m\u001b[1;33m\u001b[0m\u001b[1;33m\u001b[0m\u001b[0m\n\u001b[0;32m     19\u001b[0m \u001b[1;33m\u001b[0m\u001b[0m\n",
      "\u001b[1;31mTypeError\u001b[0m: fun() missing 1 required positional argument: 'b'"
     ]
    }
   ],
   "source": [
    "# methode overloading \n",
    "'''\n",
    "We have multiple no of same function/ methids  names are available with in the \n",
    "same.\n",
    "\n",
    "we have call specific functions / methodes based methode overloading\n",
    "'''\n",
    "class Met_ove():\n",
    "    def fun(self):\n",
    "        print(\"i have 0 arguments\")\n",
    "    def fun(self,a):\n",
    "        print(\"i have 1 arguments\")\n",
    "    def fun(self,a,b):\n",
    "        print(\"i have 2 arguments\")\n",
    "obj = Met_ove()\n",
    "obj.fun(10,10) # 3rd \n",
    "obj.fun(10)    # 2nd\n",
    "obj.fun()      # 1st\n",
    "\n",
    "# polymorshim ---> a same f=methods can do multiple task\n",
    "# method over loading is not supporting "
   ]
  },
  {
   "cell_type": "code",
   "execution_count": 9,
   "metadata": {},
   "outputs": [
    {
     "name": "stdout",
     "output_type": "stream",
     "text": [
      "i have 2 arguments\n",
      "i have 2 arguments\n",
      "i have 2 arguments\n"
     ]
    }
   ],
   "source": [
    "# method overriding \n",
    "class Met_ove():\n",
    "    def fun(self):\n",
    "        print(\"i have 0 arguments\")\n",
    "    def fun(self,a):\n",
    "        print(\"i have 1 arguments\")\n",
    "    def fun(self,a=10,b=20):\n",
    "        print(\"i have 2 arguments\")\n",
    "obj = Met_ove()\n",
    "obj.fun()      # 3rd\n",
    "obj.fun(10,10) # 3rd \n",
    "obj.fun(10)    # 3rd\n",
    "\n"
   ]
  },
  {
   "cell_type": "code",
   "execution_count": 10,
   "metadata": {},
   "outputs": [
    {
     "data": {
      "text/plain": [
       "30"
      ]
     },
     "execution_count": 10,
     "metadata": {},
     "output_type": "execute_result"
    }
   ],
   "source": [
    "10+20"
   ]
  },
  {
   "cell_type": "code",
   "execution_count": 11,
   "metadata": {},
   "outputs": [
    {
     "data": {
      "text/plain": [
       "'soc sofftech'"
      ]
     },
     "execution_count": 11,
     "metadata": {},
     "output_type": "execute_result"
    }
   ],
   "source": [
    "'soc' +\" sofftech\""
   ]
  },
  {
   "cell_type": "code",
   "execution_count": 12,
   "metadata": {},
   "outputs": [
    {
     "name": "stdout",
     "output_type": "stream",
     "text": [
      "i am poly1 function\n",
      "i am poly2 function\n"
     ]
    }
   ],
   "source": [
    "# polynorpsim\n",
    "class Poly1():\n",
    "    def fun(self):\n",
    "        print(\"i am poly1 function\")\n",
    "class Poly2():\n",
    "    def fun(self):\n",
    "        print(\"i am poly2 function\")\n",
    "obj1=Poly1()\n",
    "obj2 =Poly2()\n",
    "obj1.fun()\n",
    "obj2.fun()"
   ]
  },
  {
   "cell_type": "code",
   "execution_count": 13,
   "metadata": {},
   "outputs": [
    {
     "name": "stdout",
     "output_type": "stream",
     "text": [
      "I am derived class property\n"
     ]
    },
    {
     "ename": "AttributeError",
     "evalue": "'Derive_class' object has no attribute 'fun1'",
     "output_type": "error",
     "traceback": [
      "\u001b[1;31m---------------------------------------------------------------------------\u001b[0m",
      "\u001b[1;31mAttributeError\u001b[0m                            Traceback (most recent call last)",
      "\u001b[1;32m<ipython-input-13-d0408ef766b6>\u001b[0m in \u001b[0;36m<module>\u001b[1;34m\u001b[0m\n\u001b[0;32m     12\u001b[0m \u001b[0mobj\u001b[0m \u001b[1;33m=\u001b[0m\u001b[0mDerive_class\u001b[0m\u001b[1;33m(\u001b[0m\u001b[1;33m)\u001b[0m\u001b[1;33m\u001b[0m\u001b[1;33m\u001b[0m\u001b[0m\n\u001b[0;32m     13\u001b[0m \u001b[0mobj\u001b[0m\u001b[1;33m.\u001b[0m\u001b[0mfun2\u001b[0m\u001b[1;33m(\u001b[0m\u001b[1;33m)\u001b[0m\u001b[1;33m\u001b[0m\u001b[1;33m\u001b[0m\u001b[0m\n\u001b[1;32m---> 14\u001b[1;33m \u001b[0mobj\u001b[0m\u001b[1;33m.\u001b[0m\u001b[0mfun1\u001b[0m\u001b[1;33m(\u001b[0m\u001b[1;33m)\u001b[0m\u001b[1;33m\u001b[0m\u001b[1;33m\u001b[0m\u001b[0m\n\u001b[0m",
      "\u001b[1;31mAttributeError\u001b[0m: 'Derive_class' object has no attribute 'fun1'"
     ]
    }
   ],
   "source": [
    "# inheritance \n",
    "'''\n",
    "We can access the properties of one class to another class\n",
    "'''\n",
    "class Base_class():# parant class\n",
    "    def fun1(self):\n",
    "        print(\"I am base class property\")\n",
    "        \n",
    "class Derive_class():\n",
    "    def fun2(self):\n",
    "        print(\"I am derived class property\")\n",
    "obj =Derive_class()\n",
    "obj.fun2()\n",
    "obj.fun1()"
   ]
  },
  {
   "cell_type": "code",
   "execution_count": 14,
   "metadata": {},
   "outputs": [
    {
     "name": "stdout",
     "output_type": "stream",
     "text": [
      "I am derived class property\n",
      "I am base class property\n"
     ]
    }
   ],
   "source": [
    "# inheritance \n",
    "'''\n",
    "We can access the properties of one class to another class\n",
    "'''\n",
    "class Base_class():# parant class\n",
    "    def fun1(self):\n",
    "        print(\"I am base class property\")\n",
    "        \n",
    "class Derive_class(Base_class):\n",
    "    def fun2(self):\n",
    "        print(\"I am derived class property\")\n",
    "obj =Derive_class()\n",
    "obj.fun2()\n",
    "obj.fun1()"
   ]
  }
 ],
 "metadata": {
  "kernelspec": {
   "display_name": "Python 3",
   "language": "python",
   "name": "python3"
  },
  "language_info": {
   "codemirror_mode": {
    "name": "ipython",
    "version": 3
   },
   "file_extension": ".py",
   "mimetype": "text/x-python",
   "name": "python",
   "nbconvert_exporter": "python",
   "pygments_lexer": "ipython3",
   "version": "3.7.3"
  }
 },
 "nbformat": 4,
 "nbformat_minor": 2
}
