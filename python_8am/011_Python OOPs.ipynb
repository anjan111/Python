{
 "cells": [
  {
   "cell_type": "code",
   "execution_count": 2,
   "metadata": {},
   "outputs": [
    {
     "name": "stdout",
     "output_type": "stream",
     "text": [
      "Ila      22     S027\n",
      "Deep     23     S028\n"
     ]
    }
   ],
   "source": [
    "# create a student class\n",
    "\n",
    "class  Student():\n",
    "    name =None\n",
    "    age = None\n",
    "    roll= None\n",
    "    \n",
    "std1 = Student()\n",
    "std2 = Student()\n",
    "std1.name = 'Ila'\n",
    "std1.age  = 22\n",
    "std1.roll ='S027'\n",
    "std2.name='Deep'\n",
    "std2.age = 23\n",
    "std2.roll ='S028'\n",
    "print(std1.name ,\"    \", std1.age,\"   \",std1.roll)\n",
    "print(std2.name ,\"   \", std2.age,\"   \",std2.roll)"
   ]
  },
  {
   "cell_type": "code",
   "execution_count": null,
   "metadata": {},
   "outputs": [],
   "source": []
  },
  {
   "cell_type": "code",
   "execution_count": null,
   "metadata": {},
   "outputs": [],
   "source": [
    "# methods are the functions , the functions we have define in side of class\n",
    "'''\n",
    "1. Special Methods (__nameofmeth__)\n",
    "2. Normal Methode  \n",
    "'''"
   ]
  },
  {
   "cell_type": "code",
   "execution_count": 3,
   "metadata": {},
   "outputs": [
    {
     "name": "stdout",
     "output_type": "stream",
     "text": [
      "<__main__.Student object at 0x0000003E9D611588> object create \n",
      "<__main__.Student object at 0x0000003E9D5F8470> object create \n",
      "Ila      22     S027\n",
      "Deep     23     S028\n"
     ]
    }
   ],
   "source": [
    "# create a student class\n",
    "# constructor is a special it can executes automatically whhile object \n",
    "# creation\n",
    "class  Student():\n",
    "    name =None\n",
    "    age = None\n",
    "    roll= None\n",
    "    def  __init__(self):\n",
    "        print(self,\"object create \")\n",
    "        \n",
    "std1 = Student()\n",
    "std2 = Student()\n",
    "std1.name = 'Ila'\n",
    "std1.age  = 22\n",
    "std1.roll ='S027'\n",
    "std2.name='Deep'\n",
    "std2.age = 23\n",
    "std2.roll ='S028'\n",
    "print(std1.name ,\"    \", std1.age,\"   \",std1.roll)\n",
    "print(std2.name ,\"   \", std2.age,\"   \",std2.roll)"
   ]
  },
  {
   "cell_type": "code",
   "execution_count": 4,
   "metadata": {},
   "outputs": [
    {
     "name": "stdout",
     "output_type": "stream",
     "text": [
      "<__main__.Student object at 0x0000003E9D6113C8> object create \n",
      "enter name : anjan\n",
      "enter age  : 27\n",
      "enter roll : s07\n",
      "<__main__.Student object at 0x0000003E9D5C6BA8> object create \n",
      "enter name : deep\n",
      "enter age  : 22\n",
      "enter roll : s089\n",
      "anjan      27     s07\n",
      "deep     22     s089\n"
     ]
    }
   ],
   "source": [
    "# create a student class\n",
    "# constructor is a special it can executes automatically whhile object \n",
    "# creation\n",
    "class  Student():\n",
    "\n",
    "    def  __init__(self):\n",
    "        print(self,\"object create \")\n",
    "        self.name =input(\"enter name : \")\n",
    "        self.age = input(\"enter age  : \")\n",
    "        self.roll = input(\"enter roll : \")       \n",
    "\n",
    "std1 = Student()\n",
    "std2 = Student()\n",
    "print(std1.name ,\"    \", std1.age,\"   \",std1.roll)\n",
    "print(std2.name ,\"   \", std2.age,\"   \",std2.roll)"
   ]
  },
  {
   "cell_type": "code",
   "execution_count": 5,
   "metadata": {},
   "outputs": [
    {
     "name": "stdout",
     "output_type": "stream",
     "text": [
      "<__main__.Student object at 0x0000003E9D611390> object create \n",
      "enter name : 45\n",
      "enter age  : 45\n",
      "enter roll : 45\n",
      "<__main__.Student object at 0x0000003E9D611278> object create \n",
      "enter name : 89\n",
      "enter age  : 89\n",
      "enter roll : 89\n",
      "45      45     45\n",
      "89      89     89\n"
     ]
    }
   ],
   "source": [
    "# create a student class\n",
    "# constructor is a special it can executes automatically whhile object \n",
    "# creation\n",
    "class  Student():\n",
    "\n",
    "    def  __init__(self):  # constructor\n",
    "        print(self,\"object create \")\n",
    "        # instace variable\n",
    "        self.name =input(\"enter name : \")\n",
    "        self.age = input(\"enter age  : \")\n",
    "        self.roll = input(\"enter roll : \")\n",
    "    def printig(self):   # noraml\n",
    "        print(self.name ,\"    \", self.age,\"   \",self.roll)\n",
    "\n",
    "\n",
    "std1 = Student()\n",
    "std2 = Student()\n",
    "std1.printig()\n",
    "std2.printig()"
   ]
  },
  {
   "cell_type": "code",
   "execution_count": 6,
   "metadata": {},
   "outputs": [
    {
     "name": "stdout",
     "output_type": "stream",
     "text": [
      "<__main__.Student object at 0x0000003E9D611C50> object create \n",
      "enter name : 78\n",
      "enter age  : 78\n",
      "enter roll : 78\n",
      "<__main__.Student object at 0x0000003E9D611C18> object create \n",
      "enter name : 89\n",
      "enter age  : 89\n",
      "enter roll : 89\n",
      "78      78     78\n",
      "89      89     89\n",
      "<__main__.Student object at 0x0000003E9D611C50> removing\n",
      "<__main__.Student object at 0x0000003E9D611C18> removing\n"
     ]
    }
   ],
   "source": [
    "# create a student class\n",
    "# constructor is a special it can executes automatically whhile object \n",
    "# creation\n",
    "class  Student():\n",
    "\n",
    "    def  __init__(self):  # constructor\n",
    "        print(self,\"object create \")\n",
    "        # instace variable\n",
    "        self.name =input(\"enter name : \")\n",
    "        self.age = input(\"enter age  : \")\n",
    "        self.roll = input(\"enter roll : \")\n",
    "    def printig(self):   # noraml\n",
    "        print(self.name ,\"    \", self.age,\"   \",self.roll)\n",
    "    def __del__(self): # distructor\n",
    "        print(self,\"removing\")\n",
    "\n",
    "std1 = Student()\n",
    "std2 = Student()\n",
    "std1.printig()\n",
    "std2.printig()\n",
    "del std1\n",
    "del std2"
   ]
  }
 ],
 "metadata": {
  "kernelspec": {
   "display_name": "Python 3",
   "language": "python",
   "name": "python3"
  },
  "language_info": {
   "codemirror_mode": {
    "name": "ipython",
    "version": 3
   },
   "file_extension": ".py",
   "mimetype": "text/x-python",
   "name": "python",
   "nbconvert_exporter": "python",
   "pygments_lexer": "ipython3",
   "version": "3.7.3"
  }
 },
 "nbformat": 4,
 "nbformat_minor": 2
}
