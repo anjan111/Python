{
 "cells": [
  {
   "cell_type": "code",
   "execution_count": 2,
   "metadata": {},
   "outputs": [
    {
     "ename": "FileNotFoundError",
     "evalue": "[Errno 2] No such file or directory: 'saample.txt'",
     "output_type": "error",
     "traceback": [
      "\u001b[1;31m---------------------------------------------------------------------------\u001b[0m",
      "\u001b[1;31mFileNotFoundError\u001b[0m                         Traceback (most recent call last)",
      "\u001b[1;32m<ipython-input-2-3ac11e5610a5>\u001b[0m in \u001b[0;36m<module>\u001b[1;34m()\u001b[0m\n\u001b[0;32m      1\u001b[0m \u001b[1;31m#'r' mode operation\u001b[0m\u001b[1;33m\u001b[0m\u001b[1;33m\u001b[0m\u001b[0m\n\u001b[0;32m      2\u001b[0m \u001b[1;33m\u001b[0m\u001b[0m\n\u001b[1;32m----> 3\u001b[1;33m \u001b[0mfo\u001b[0m \u001b[1;33m=\u001b[0m \u001b[0mopen\u001b[0m\u001b[1;33m(\u001b[0m\u001b[1;34m\"saample.txt\"\u001b[0m\u001b[1;33m,\u001b[0m\u001b[1;34m'r'\u001b[0m\u001b[1;33m)\u001b[0m\u001b[1;33m\u001b[0m\u001b[0m\n\u001b[0m\u001b[0;32m      4\u001b[0m \u001b[0mprint\u001b[0m\u001b[1;33m(\u001b[0m\u001b[1;34m\"file open in read mode\"\u001b[0m\u001b[1;33m)\u001b[0m\u001b[1;33m\u001b[0m\u001b[0m\n\u001b[0;32m      5\u001b[0m \u001b[0mfo\u001b[0m\u001b[1;33m.\u001b[0m\u001b[0mclose\u001b[0m\u001b[1;33m(\u001b[0m\u001b[1;33m)\u001b[0m\u001b[1;33m\u001b[0m\u001b[0m\n",
      "\u001b[1;31mFileNotFoundError\u001b[0m: [Errno 2] No such file or directory: 'saample.txt'"
     ]
    }
   ],
   "source": [
    "#'r' mode operation\n",
    "'''\n",
    "1 ---> file is not existed then raise the error\n",
    "'''\n",
    "\n",
    "\n",
    "fo = open(\"saample.txt\",'r')\n",
    "print(\"file open in read mode\")\n",
    "fo.close()"
   ]
  },
  {
   "cell_type": "code",
   "execution_count": 3,
   "metadata": {},
   "outputs": [
    {
     "name": "stdout",
     "output_type": "stream",
     "text": [
      "file open in read mode\n"
     ]
    }
   ],
   "source": [
    "#'r' mode operation\n",
    "'''\n",
    "2 ---> file is  existed then open and file data is saafe \n",
    "'''\n",
    "\n",
    "\n",
    "fo = open(\"sample.txt\",'r')\n",
    "print(\"file open in read mode\")\n",
    "fo.close()"
   ]
  },
  {
   "cell_type": "code",
   "execution_count": 5,
   "metadata": {},
   "outputs": [
    {
     "name": "stdout",
     "output_type": "stream",
     "text": [
      "file open in read mode\n"
     ]
    },
    {
     "ename": "UnsupportedOperation",
     "evalue": "not writable",
     "output_type": "error",
     "traceback": [
      "\u001b[1;31m---------------------------------------------------------------------------\u001b[0m",
      "\u001b[1;31mUnsupportedOperation\u001b[0m                      Traceback (most recent call last)",
      "\u001b[1;32m<ipython-input-5-305b7a3ba4c5>\u001b[0m in \u001b[0;36m<module>\u001b[1;34m()\u001b[0m\n\u001b[0;32m      7\u001b[0m \u001b[0mfo\u001b[0m \u001b[1;33m=\u001b[0m \u001b[0mopen\u001b[0m\u001b[1;33m(\u001b[0m\u001b[1;34m\"sample.txt\"\u001b[0m\u001b[1;33m,\u001b[0m\u001b[1;34m'r'\u001b[0m\u001b[1;33m)\u001b[0m\u001b[1;33m\u001b[0m\u001b[0m\n\u001b[0;32m      8\u001b[0m \u001b[0mprint\u001b[0m\u001b[1;33m(\u001b[0m\u001b[1;34m\"file open in read mode\"\u001b[0m\u001b[1;33m)\u001b[0m\u001b[1;33m\u001b[0m\u001b[0m\n\u001b[1;32m----> 9\u001b[1;33m \u001b[0mfo\u001b[0m\u001b[1;33m.\u001b[0m\u001b[0mwrite\u001b[0m\u001b[1;33m(\u001b[0m\u001b[1;34m\"hello\"\u001b[0m\u001b[1;33m)\u001b[0m\u001b[1;33m\u001b[0m\u001b[0m\n\u001b[0m\u001b[0;32m     10\u001b[0m \u001b[0mfo\u001b[0m\u001b[1;33m.\u001b[0m\u001b[0mclose\u001b[0m\u001b[1;33m(\u001b[0m\u001b[1;33m)\u001b[0m\u001b[1;33m\u001b[0m\u001b[0m\n",
      "\u001b[1;31mUnsupportedOperation\u001b[0m: not writable"
     ]
    }
   ],
   "source": [
    "#'r' mode operation\n",
    "'''\n",
    "3 ---> write operation is not support\n",
    "'''\n",
    "\n",
    "\n",
    "fo = open(\"sample.txt\",'r')\n",
    "print(\"file open in read mode\")\n",
    "fo.write(\"hello\")\n",
    "fo.close()"
   ]
  },
  {
   "cell_type": "code",
   "execution_count": 9,
   "metadata": {},
   "outputs": [
    {
     "name": "stdout",
     "output_type": "stream",
     "text": [
      "file open in read mode\n",
      "position :  0\n",
      "anjan kuma\n",
      "position :  10\n",
      "position :  92\n"
     ]
    }
   ],
   "source": [
    "#'r' mode operation\n",
    "'''\n",
    "4 ---> read() ---> supported \n",
    "'''\n",
    "\n",
    "\n",
    "fo = open(\"sample.txt\",'r')\n",
    "print(\"file open in read mode\")\n",
    "print(\"position : \",fo.tell())\n",
    "print(fo.read(10))\n",
    "print(\"position : \",fo.tell())\n",
    "fo.seek(0,2) # \n",
    "print(\"position : \",fo.tell())\n",
    "fo.close()"
   ]
  },
  {
   "cell_type": "code",
   "execution_count": 10,
   "metadata": {},
   "outputs": [
    {
     "name": "stdout",
     "output_type": "stream",
     "text": [
      "file open in read plus mode\n",
      "position :  0\n",
      "anjan kuma\n",
      "position :  10\n",
      "position :  0\n",
      "enter some data : 111111111\n",
      "position :  9\n",
      "position :  0\n",
      "111111111ar AI Engineer\\nPython And Artificial Intelligence  engineer111222333444anjan kumar\n"
     ]
    }
   ],
   "source": [
    "'r+'\n",
    "'''\n",
    "---> editing the existing tha data \n",
    "'''\n",
    "fo = open(\"sample.txt\",'r+')\n",
    "print(\"file open in read plus mode\")\n",
    "print(\"position : \",fo.tell())\n",
    "print(fo.read(10))\n",
    "print(\"position : \",fo.tell())\n",
    "fo.seek(0,0)  # 0\n",
    "print(\"position : \",fo.tell())\n",
    "daata   = input(\"enter some data : \")\n",
    "fo.write(daata)\n",
    "print(\"position : \",fo.tell())\n",
    "fo.seek(0,0) # \n",
    "print(\"position : \",fo.tell())\n",
    "print(fo.read())\n",
    "fo.close()"
   ]
  },
  {
   "cell_type": "code",
   "execution_count": null,
   "metadata": {},
   "outputs": [],
   "source": []
  }
 ],
 "metadata": {
  "kernelspec": {
   "display_name": "Python 3",
   "language": "python",
   "name": "python3"
  },
  "language_info": {
   "codemirror_mode": {
    "name": "ipython",
    "version": 3
   },
   "file_extension": ".py",
   "mimetype": "text/x-python",
   "name": "python",
   "nbconvert_exporter": "python",
   "pygments_lexer": "ipython3",
   "version": "3.7.0"
  }
 },
 "nbformat": 4,
 "nbformat_minor": 2
}
