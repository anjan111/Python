{
 "cells": [
  {
   "cell_type": "code",
   "execution_count": 7,
   "metadata": {},
   "outputs": [
    {
     "name": "stdout",
     "output_type": "stream",
     "text": [
      "start time :  1559958457.1770246\n",
      "*************\n",
      "0  time  hello\n",
      "1  time  hello\n",
      "2  time  hello\n",
      "3  time  hello\n",
      "4  time  hello\n",
      "5  time  hello\n",
      "6  time  hello\n",
      "7  time  hello\n",
      "8  time  hello\n",
      "9  time  hello\n",
      "0stop time :   time  hai\n",
      " 1559958467.210584\n",
      "1  time  hai\n",
      "2  time  hai\n",
      "3  time  hai\n",
      "4  time  hai\n",
      "5  time  hai\n",
      "6  time  hai\n",
      "7  time  hai\n",
      "8  time  hai\n",
      "9  time  hai\n"
     ]
    }
   ],
   "source": [
    "import threading\n",
    "import time\n",
    "print (\"start time : \",time.time())\n",
    "def  fun(name = \"anjan\"):\n",
    "    for i  in range(10):\n",
    "        print( i,\" time \", name)\n",
    "        time.sleep(1)\n",
    "t1 = threading.Thread(target = fun,args=(\"hello\",))\n",
    "print(\"*************\")\n",
    "\n",
    "t2 = threading.Thread(target = fun,args=(\"hai\",))\n",
    "t1.start()\n",
    "t1.join()\n",
    "t2.start()\n",
    "print(\"stop time : \",time.time())       \n"
   ]
  },
  {
   "cell_type": "code",
   "execution_count": null,
   "metadata": {},
   "outputs": [],
   "source": [
    ")"
   ]
  }
 ],
 "metadata": {
  "kernelspec": {
   "display_name": "Python 3",
   "language": "python",
   "name": "python3"
  },
  "language_info": {
   "codemirror_mode": {
    "name": "ipython",
    "version": 3
   },
   "file_extension": ".py",
   "mimetype": "text/x-python",
   "name": "python",
   "nbconvert_exporter": "python",
   "pygments_lexer": "ipython3",
   "version": "3.7.0"
  }
 },
 "nbformat": 4,
 "nbformat_minor": 2
}
