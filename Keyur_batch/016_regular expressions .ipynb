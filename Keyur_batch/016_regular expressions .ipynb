{
 "cells": [
  {
   "cell_type": "code",
   "execution_count": 4,
   "metadata": {},
   "outputs": [
    {
     "name": "stdout",
     "output_type": "stream",
     "text": [
      "None\n",
      "<re.Match object; span=(12, 14), match='AI'>\n",
      "AI\n"
     ]
    },
    {
     "ename": "AttributeError",
     "evalue": "'NoneType' object has no attribute 'group'",
     "output_type": "error",
     "traceback": [
      "\u001b[1;31m---------------------------------------------------------------------------\u001b[0m",
      "\u001b[1;31mAttributeError\u001b[0m                            Traceback (most recent call last)",
      "\u001b[1;32m<ipython-input-4-559b7f822ecb>\u001b[0m in \u001b[0;36m<module>\u001b[1;34m()\u001b[0m\n\u001b[0;32m      5\u001b[0m \u001b[0mprint\u001b[0m\u001b[1;33m(\u001b[0m\u001b[0mre\u001b[0m\u001b[1;33m.\u001b[0m\u001b[0msearch\u001b[0m\u001b[1;33m(\u001b[0m\u001b[1;34m'AI'\u001b[0m\u001b[1;33m,\u001b[0m\u001b[0mreal_data\u001b[0m\u001b[1;33m)\u001b[0m\u001b[1;33m)\u001b[0m\u001b[1;33m\u001b[0m\u001b[0m\n\u001b[0;32m      6\u001b[0m \u001b[0mprint\u001b[0m\u001b[1;33m(\u001b[0m\u001b[0mre\u001b[0m\u001b[1;33m.\u001b[0m\u001b[0msearch\u001b[0m\u001b[1;33m(\u001b[0m\u001b[1;34m'AI'\u001b[0m\u001b[1;33m,\u001b[0m\u001b[0mreal_data\u001b[0m\u001b[1;33m)\u001b[0m\u001b[1;33m.\u001b[0m\u001b[0mgroup\u001b[0m\u001b[1;33m(\u001b[0m\u001b[1;33m)\u001b[0m\u001b[1;33m)\u001b[0m\u001b[1;33m\u001b[0m\u001b[0m\n\u001b[1;32m----> 7\u001b[1;33m \u001b[0mprint\u001b[0m\u001b[1;33m(\u001b[0m\u001b[0mre\u001b[0m\u001b[1;33m.\u001b[0m\u001b[0msearch\u001b[0m\u001b[1;33m(\u001b[0m\u001b[1;34m'Hello'\u001b[0m\u001b[1;33m,\u001b[0m\u001b[0mreal_data\u001b[0m\u001b[1;33m)\u001b[0m\u001b[1;33m.\u001b[0m\u001b[0mgroup\u001b[0m\u001b[1;33m(\u001b[0m\u001b[1;33m)\u001b[0m\u001b[1;33m)\u001b[0m\u001b[1;33m\u001b[0m\u001b[0m\n\u001b[0m",
      "\u001b[1;31mAttributeError\u001b[0m: 'NoneType' object has no attribute 'group'"
     ]
    }
   ],
   "source": [
    "# search \n",
    "import re\n",
    "real_data = 'anjan kumar AI engineer'\n",
    "print(re.search('Hello',real_data))\n",
    "print(re.search('AI',real_data))\n",
    "print(re.search('AI',real_data).group())\n",
    "print(re.search('Hello',real_data).group())"
   ]
  },
  {
   "cell_type": "code",
   "execution_count": 10,
   "metadata": {},
   "outputs": [
    {
     "name": "stdout",
     "output_type": "stream",
     "text": [
      "None\n",
      "None\n",
      "<re.Match object; span=(0, 5), match='anjan'>\n",
      "anjan\n"
     ]
    }
   ],
   "source": [
    "# match\n",
    "import re\n",
    "real_data ='anjan kumar AI engineer'\n",
    "print(re.match('Hello',real_data))\n",
    "print(re.match('AI',real_data))\n",
    "print(re.match('anjan',real_data))\n",
    "print(re.match('anjan',real_data).group())\n"
   ]
  },
  {
   "cell_type": "code",
   "execution_count": 12,
   "metadata": {},
   "outputs": [
    {
     "name": "stdout",
     "output_type": "stream",
     "text": [
      "['anjan', 'anjan', 'anjan', 'anjan']\n",
      "[]\n"
     ]
    }
   ],
   "source": [
    "real_data = 'anjan  cmv anjan jfnjf anjan jffj anjan'\n",
    "print(re.findall('anjan',real_data))\n",
    "print(re.findall('anjan1',real_data))"
   ]
  },
  {
   "cell_type": "code",
   "execution_count": 13,
   "metadata": {},
   "outputs": [
    {
     "name": "stdout",
     "output_type": "stream",
     "text": [
      "ANJAN KUMAR  cmv ANJAN KUMAR jfnjf ANJAN KUMAR jffj ANJAN KUMAR\n"
     ]
    }
   ],
   "source": [
    "real_data = 'anjan  cmv anjan jfnjf anjan jffj anjan'\n",
    "ptr = re.compile('anjan')\n",
    "print(ptr.sub('ANJAN KUMAR',real_data))"
   ]
  },
  {
   "cell_type": "code",
   "execution_count": 14,
   "metadata": {},
   "outputs": [
    {
     "name": "stdout",
     "output_type": "stream",
     "text": [
      "ANJAN KUMAR  cmv ANJAN KUMAR jfnjf ANJAN KUMAR jffj ANJAN KUMAR\n"
     ]
    }
   ],
   "source": [
    "real_data = 'anjan  cmv anjan jfnjf anjan jffj anjan'\n",
    "\n",
    "print(re.sub('anjan','ANJAN KUMAR',real_data))"
   ]
  },
  {
   "cell_type": "code",
   "execution_count": 16,
   "metadata": {},
   "outputs": [
    {
     "data": {
      "text/plain": [
       "['anjan kumar', 'python', ' AI', 'Data science Trainer']"
      ]
     },
     "execution_count": 16,
     "metadata": {},
     "output_type": "execute_result"
    }
   ],
   "source": [
    "real_data ='anjan kumar,python, AI,Data science Trainer'\n",
    "re.split(',',real_data)"
   ]
  },
  {
   "cell_type": "code",
   "execution_count": 17,
   "metadata": {},
   "outputs": [
    {
     "data": {
      "text/plain": [
       "['anjan kumar', 'python', 'Data science Trainer']"
      ]
     },
     "execution_count": 17,
     "metadata": {},
     "output_type": "execute_result"
    }
   ],
   "source": [
    "real_data ='anjan kumar1python1Data science Trainer'\n",
    "re.split('1',real_data)"
   ]
  },
  {
   "cell_type": "code",
   "execution_count": null,
   "metadata": {},
   "outputs": [],
   "source": [
    "# create a employee records  employee.txt (python file concept )\n",
    "#we should write name , id, salary,phone \n",
    "#access only  repeated names "
   ]
  },
  {
   "cell_type": "code",
   "execution_count": null,
   "metadata": {},
   "outputs": [],
   "source": [
    "# special character use with examples "
   ]
  },
  {
   "cell_type": "code",
   "execution_count": 18,
   "metadata": {},
   "outputs": [
    {
     "name": "stdout",
     "output_type": "stream",
     "text": [
      "898616010888\n",
      "898616009096\n"
     ]
    }
   ],
   "source": [
    "a = [10,20,30]\n",
    "b = [10,20,30]\n",
    "print(id(a))\n",
    "print(id(b))"
   ]
  },
  {
   "cell_type": "code",
   "execution_count": 19,
   "metadata": {},
   "outputs": [
    {
     "name": "stdout",
     "output_type": "stream",
     "text": [
      "898615152200\n",
      "898615917064\n",
      "[10, 20, 30]\n",
      "[]\n",
      "898615152200\n",
      "898614490696\n",
      "[10, 20, 30]\n",
      "[10, 20, 30]\n",
      "898615152200\n",
      "898614490696\n",
      "[10, 20, 30]\n",
      "[10, 20, 30, 40]\n"
     ]
    }
   ],
   "source": [
    "# shellow copy\n",
    "a = [10,20,30]\n",
    "b = []\n",
    "print(id(a))\n",
    "print(id(b))\n",
    "print(a)\n",
    "print(b)\n",
    "b = a.copy()\n",
    "print(id(a))\n",
    "print(id(b))\n",
    "print(a)\n",
    "print(b)\n",
    "b.append(40)\n",
    "print(id(a))\n",
    "print(id(b))\n",
    "print(a)\n",
    "print(b)"
   ]
  },
  {
   "cell_type": "code",
   "execution_count": 20,
   "metadata": {},
   "outputs": [
    {
     "name": "stdout",
     "output_type": "stream",
     "text": [
      "898569465480\n",
      "898614490504\n",
      "[10, 20, 30]\n",
      "[]\n",
      "898569465480\n",
      "898569465480\n",
      "[10, 20, 30]\n",
      "[10, 20, 30]\n",
      "898569465480\n",
      "898569465480\n",
      "[10, 20, 30, 40]\n",
      "[10, 20, 30, 40]\n"
     ]
    }
   ],
   "source": [
    "# deep copy\n",
    "a = [10,20,30]\n",
    "b = []\n",
    "print(id(a))\n",
    "print(id(b))\n",
    "print(a)\n",
    "print(b)\n",
    "b = a\n",
    "print(id(a))\n",
    "print(id(b))\n",
    "print(a)\n",
    "print(b)\n",
    "b.append(40)\n",
    "print(id(a))\n",
    "print(id(b))\n",
    "print(a)\n",
    "print(b)"
   ]
  },
  {
   "cell_type": "code",
   "execution_count": null,
   "metadata": {},
   "outputs": [],
   "source": [
    "#special characters \n",
    "'''\n",
    "---> we can create a pattern using some characters \n",
    "\n",
    ". ----> matches any  single character\n",
    "\n",
    "* ---> the preceding can repeate 0 or more time \n",
    "\n",
    "+ ---> the preceding can repeate 1 or more time\n",
    "\n",
    "\n",
    "? --->the preceding can repeate 0  or 1 time\n",
    "\n",
    "^ ---> pattern matches beggining the string\n",
    "\n",
    "{n} -->the preceding can repeate exactly n times\n",
    "\n",
    "{m,n} -->the preceding can repeate in between m ,n times\n",
    "\n",
    "\\d ---> matches only digits \n",
    "\n",
    "\\D --->matches any character othar than digits\n",
    "\n",
    "\\s ---> mathes only spaces \n",
    "\n",
    "\\S ---> matches any character othar than spaces\n",
    "\n",
    "\\w ---> matches aphabets and digits \n",
    "\n",
    "\\W ---> special characters\n",
    "\n",
    "[] --->matches any one character in between square brackets \n",
    "\n",
    "|  --> one pattern matches besides of  | \n",
    "\n",
    "\n",
    "\n",
    "\n",
    "\n",
    "\n",
    "\n",
    "'''\n"
   ]
  },
  {
   "cell_type": "code",
   "execution_count": 1,
   "metadata": {},
   "outputs": [
    {
     "name": "stdout",
     "output_type": "stream",
     "text": [
      "['fan', '@an', '1an', ' an']\n"
     ]
    }
   ],
   "source": [
    "import re\n",
    "real_data = \"fan jdjbf @an jkjk  1an dfdf an \"\n",
    "print(re.findall(r'.an',real_data))"
   ]
  },
  {
   "cell_type": "code",
   "execution_count": 6,
   "metadata": {},
   "outputs": [
    {
     "name": "stdout",
     "output_type": "stream",
     "text": [
      "['fan', '@an']\n"
     ]
    }
   ],
   "source": [
    "# import re\n",
    "real_data = \"fan jdjbf @an jkjk  1an dfdf an \"\n",
    "print(re.findall(r'[f@]an',real_data))"
   ]
  },
  {
   "cell_type": "code",
   "execution_count": 11,
   "metadata": {},
   "outputs": [
    {
     "name": "stdout",
     "output_type": "stream",
     "text": [
      "<re.Match object; span=(0, 3), match='fan'>\n"
     ]
    }
   ],
   "source": [
    "# import re\n",
    "real_data = \"fan jdjbf @an jkjk  1an dfdf an \"\n",
    "print(re.search(r'fan|@an',real_data))"
   ]
  },
  {
   "cell_type": "code",
   "execution_count": 12,
   "metadata": {},
   "outputs": [
    {
     "name": "stdout",
     "output_type": "stream",
     "text": [
      "['faaaaaan', 'faan', 'fan', 'fn']\n"
     ]
    }
   ],
   "source": [
    "# import re\n",
    "real_data = \"faaaaaan faan fan fn \"\n",
    "print(re.findall(r'fa*n',real_data))"
   ]
  },
  {
   "cell_type": "code",
   "execution_count": 13,
   "metadata": {},
   "outputs": [
    {
     "name": "stdout",
     "output_type": "stream",
     "text": [
      "['faaaaaan', 'faan', 'fan']\n"
     ]
    }
   ],
   "source": [
    "# import re\n",
    "real_data = \"faaaaaan faan fan fn \"\n",
    "print(re.findall(r'fa+n',real_data))"
   ]
  },
  {
   "cell_type": "code",
   "execution_count": 14,
   "metadata": {},
   "outputs": [
    {
     "name": "stdout",
     "output_type": "stream",
     "text": [
      "['fan', 'fn']\n"
     ]
    }
   ],
   "source": [
    "# import re\n",
    "real_data = \"faaaaaan faan fan fn \"\n",
    "print(re.findall(r'fa?n',real_data))"
   ]
  },
  {
   "cell_type": "code",
   "execution_count": 18,
   "metadata": {},
   "outputs": [
    {
     "name": "stdout",
     "output_type": "stream",
     "text": [
      "['faaaaaan']\n"
     ]
    }
   ],
   "source": [
    "# import re\n",
    "real_data = \"faaaaaan faan fan fn \"\n",
    "print(re.findall(r'^fa*n',real_data))"
   ]
  },
  {
   "cell_type": "code",
   "execution_count": 22,
   "metadata": {},
   "outputs": [
    {
     "name": "stdout",
     "output_type": "stream",
     "text": [
      "['faan']\n"
     ]
    }
   ],
   "source": [
    "# import re\n",
    "real_data = \"faaaaaan faan fan fn \"\n",
    "print(re.findall(r'fa{6}n',real_data))"
   ]
  },
  {
   "cell_type": "code",
   "execution_count": 24,
   "metadata": {},
   "outputs": [
    {
     "name": "stdout",
     "output_type": "stream",
     "text": [
      "['faaaaaan', 'faan']\n"
     ]
    }
   ],
   "source": [
    "# import re\n",
    "real_data = \"faaaaaan faan fan fn \"\n",
    "print(re.findall(r'fa{2,6}n',real_data))"
   ]
  },
  {
   "cell_type": "code",
   "execution_count": 29,
   "metadata": {},
   "outputs": [
    {
     "name": "stdout",
     "output_type": "stream",
     "text": [
      "['123', '324', '445']\n"
     ]
    }
   ],
   "source": [
    "# import re\n",
    "real_data = \"123 jgjjgj 32434 jjgkg 445 \"\n",
    "print(re.findall(r'\\d{3}',real_data))"
   ]
  },
  {
   "cell_type": "code",
   "execution_count": 35,
   "metadata": {},
   "outputs": [
    {
     "name": "stdout",
     "output_type": "stream",
     "text": [
      "[' jg', 'jjg', ' jj', 'gkg']\n"
     ]
    }
   ],
   "source": [
    "# import re\n",
    "real_data = \"123 jgjjgj 32434 jjgkg 445 \"\n",
    "print(re.findall(r'\\D{3}',real_data))"
   ]
  },
  {
   "cell_type": "code",
   "execution_count": 37,
   "metadata": {},
   "outputs": [
    {
     "name": "stdout",
     "output_type": "stream",
     "text": [
      "[' ', ' ', ' ', ' ', ' ']\n"
     ]
    }
   ],
   "source": [
    "# import re\n",
    "real_data = \"123 jgjjgj 32434 jjgkg 445 \"\n",
    "print(re.findall(r'\\s',real_data))"
   ]
  },
  {
   "cell_type": "code",
   "execution_count": 40,
   "metadata": {},
   "outputs": [
    {
     "name": "stdout",
     "output_type": "stream",
     "text": [
      "['123', 'jgj', 'jgj', '324', 'jjg', 'k@g', '445']\n"
     ]
    }
   ],
   "source": [
    "# import re\n",
    "real_data = \"123 jgjjgj 32434 jjgk@g 445 \"\n",
    "print(re.findall(r'\\S{3}',real_data))"
   ]
  },
  {
   "cell_type": "code",
   "execution_count": 41,
   "metadata": {},
   "outputs": [
    {
     "name": "stdout",
     "output_type": "stream",
     "text": [
      "['123', 'jgj', 'jgj', '324', 'jjg', '445']\n"
     ]
    }
   ],
   "source": [
    "# import re\n",
    "real_data = \"123 jgjjgj 32434 jjgk@g 445 \"\n",
    "print(re.findall(r'\\w{3}',real_data))"
   ]
  },
  {
   "cell_type": "code",
   "execution_count": 43,
   "metadata": {},
   "outputs": [
    {
     "name": "stdout",
     "output_type": "stream",
     "text": [
      "['   ', '  #', '%%#']\n"
     ]
    }
   ],
   "source": [
    "# import re\n",
    "real_data = \"123 jgjjgj 32434 jjgk@g 445     #%%#@ \"\n",
    "print(re.findall(r'\\W{3}',real_data))"
   ]
  },
  {
   "cell_type": "code",
   "execution_count": 52,
   "metadata": {},
   "outputs": [
    {
     "name": "stdout",
     "output_type": "stream",
     "text": [
      "['9640987960']\n",
      "['anjan@gmail.com']\n"
     ]
    }
   ],
   "source": [
    "# wap find phone and mail id from your employee.txt \n",
    "\n",
    "real_data = \"jhdj,9640987960,kjedhf,anjan@gmail.com,jfnnfjj\"\n",
    "print(re.findall(r'\\d{10}',real_data))\n",
    "print(re.findall(r'\\w+@\\w+.com',real_data))"
   ]
  }
 ],
 "metadata": {
  "kernelspec": {
   "display_name": "Python 3",
   "language": "python",
   "name": "python3"
  },
  "language_info": {
   "codemirror_mode": {
    "name": "ipython",
    "version": 3
   },
   "file_extension": ".py",
   "mimetype": "text/x-python",
   "name": "python",
   "nbconvert_exporter": "python",
   "pygments_lexer": "ipython3",
   "version": "3.7.0"
  }
 },
 "nbformat": 4,
 "nbformat_minor": 2
}
