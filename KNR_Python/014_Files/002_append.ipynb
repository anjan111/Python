{
 "cells": [
  {
   "cell_type": "code",
   "execution_count": 1,
   "metadata": {},
   "outputs": [
    {
     "name": "stdout",
     "output_type": "stream",
     "text": [
      "file opend in append mode\n"
     ]
    }
   ],
   "source": [
    "# 'a' mode\n",
    "'''\n",
    "1 ---> file is not existed then create new file and open\n",
    "'''\n",
    "fo = open(\"sample.txt\",'a')\n",
    "print(\"file opend in append mode\")\n",
    "fo.close()\n",
    "\n"
   ]
  },
  {
   "cell_type": "code",
   "execution_count": 2,
   "metadata": {},
   "outputs": [
    {
     "name": "stdout",
     "output_type": "stream",
     "text": [
      "file opend in append mode\n"
     ]
    }
   ],
   "source": [
    "# 'a' mode\n",
    "'''\n",
    "2 ---> file is existed with some data then open and file data \n",
    "is safe\n",
    "'''\n",
    "fo = open(\"sample.txt\",'a')\n",
    "print(\"file opend in append mode\")\n",
    "fo.close()\n"
   ]
  },
  {
   "cell_type": "code",
   "execution_count": 3,
   "metadata": {},
   "outputs": [
    {
     "name": "stdout",
     "output_type": "stream",
     "text": [
      "file opend in append mode\n"
     ]
    },
    {
     "ename": "UnsupportedOperation",
     "evalue": "not readable",
     "output_type": "error",
     "traceback": [
      "\u001b[1;31m---------------------------------------------------------------------------\u001b[0m",
      "\u001b[1;31mUnsupportedOperation\u001b[0m                      Traceback (most recent call last)",
      "\u001b[1;32m<ipython-input-3-2b357de6c416>\u001b[0m in \u001b[0;36m<module>\u001b[1;34m()\u001b[0m\n\u001b[0;32m      8\u001b[0m \u001b[0mfo\u001b[0m \u001b[1;33m=\u001b[0m \u001b[0mopen\u001b[0m\u001b[1;33m(\u001b[0m\u001b[1;34m\"sample.txt\"\u001b[0m\u001b[1;33m,\u001b[0m\u001b[1;34m'a'\u001b[0m\u001b[1;33m)\u001b[0m\u001b[1;33m\u001b[0m\u001b[0m\n\u001b[0;32m      9\u001b[0m \u001b[0mprint\u001b[0m\u001b[1;33m(\u001b[0m\u001b[1;34m\"file opend in append mode\"\u001b[0m\u001b[1;33m)\u001b[0m\u001b[1;33m\u001b[0m\u001b[0m\n\u001b[1;32m---> 10\u001b[1;33m \u001b[0mfo\u001b[0m\u001b[1;33m.\u001b[0m\u001b[0mread\u001b[0m\u001b[1;33m(\u001b[0m\u001b[1;33m)\u001b[0m\u001b[1;33m\u001b[0m\u001b[0m\n\u001b[0m\u001b[0;32m     11\u001b[0m \u001b[0mfo\u001b[0m\u001b[1;33m.\u001b[0m\u001b[0mclose\u001b[0m\u001b[1;33m(\u001b[0m\u001b[1;33m)\u001b[0m\u001b[1;33m\u001b[0m\u001b[0m\n",
      "\u001b[1;31mUnsupportedOperation\u001b[0m: not readable"
     ]
    }
   ],
   "source": [
    "# 'a' mode\n",
    "'''\n",
    "3----> read method is not supported\n",
    "'''\n",
    "fo = open(\"sample.txt\",'a')\n",
    "print(\"file opend in append mode\")\n",
    "fo.read()\n",
    "fo.close()\n"
   ]
  },
  {
   "cell_type": "code",
   "execution_count": 4,
   "metadata": {},
   "outputs": [
    {
     "name": "stdout",
     "output_type": "stream",
     "text": [
      "file opend in append mode\n",
      "enter some daata : \\nPython And Artificial Intelligence  engineer\n"
     ]
    }
   ],
   "source": [
    "# 'a' mode\n",
    "'''\n",
    "4 ---> write() ---> new data add at end of the file\n",
    "'''\n",
    "fo = open(\"sample.txt\",'a')\n",
    "print(\"file opend in append mode\")\n",
    "data = input(\"enter some daata : \")\n",
    "fo.write(data)\n",
    "fo.close()\n"
   ]
  },
  {
   "cell_type": "code",
   "execution_count": 6,
   "metadata": {},
   "outputs": [
    {
     "name": "stdout",
     "output_type": "stream",
     "text": [
      "position :  69\n",
      "file opend in append mode\n",
      "position :  0\n",
      "enter some daata : 111222333444\n"
     ]
    }
   ],
   "source": [
    "# 'a' mode\n",
    "'''\n",
    "4 ---> write() ---> new data add at end of the file\n",
    "\n",
    "we can't modify the existing data\n",
    "\n",
    "'''\n",
    "fo = open(\"sample.txt\",'a')\n",
    "print(\"position : \",fo.tell())\n",
    "print(\"file opend in append mode\")\n",
    "fo.seek(0,0)\n",
    "print(\"position : \",fo.tell())\n",
    "data = input(\"enter some daata : \")\n",
    "fo.write(data)\n",
    "fo.close()\n"
   ]
  },
  {
   "cell_type": "code",
   "execution_count": 7,
   "metadata": {},
   "outputs": [
    {
     "name": "stdout",
     "output_type": "stream",
     "text": [
      "position :  81\n",
      "file opend in append mode\n",
      "position :  0\n",
      "anjan kumar AI Engineer\\nPython And Artificial Intelligence  engineer111222333444\n",
      "position :  0\n",
      "enter some daata : anjan kumar\n",
      "position :  0\n",
      "anjan kumar AI Engineer\\nPython And Artificial Intelligence  engineer111222333444anjan kumar\n"
     ]
    }
   ],
   "source": [
    "# 'a+'\n",
    "'''\n",
    "a and a+ both are same only \n",
    "but \n",
    "a+ support read operation\n",
    "a not support read operation\n",
    "'''\n",
    "\n",
    "\n",
    "fo = open(\"sample.txt\",'a+')\n",
    "print(\"position : \",fo.tell())\n",
    "print(\"file opend in append mode\")\n",
    "fo.seek(0,0)\n",
    "print(\"position : \",fo.tell())\n",
    "print(fo.read())\n",
    "fo.seek(0,0)\n",
    "print(\"position : \",fo.tell())\n",
    "data = input(\"enter some daata : \")\n",
    "fo.write(data)\n",
    "fo.seek(0,0)\n",
    "print(\"position : \",fo.tell())\n",
    "print(fo.read())\n",
    "fo.close()\n"
   ]
  },
  {
   "cell_type": "code",
   "execution_count": null,
   "metadata": {},
   "outputs": [],
   "source": []
  }
 ],
 "metadata": {
  "kernelspec": {
   "display_name": "Python 3",
   "language": "python",
   "name": "python3"
  },
  "language_info": {
   "codemirror_mode": {
    "name": "ipython",
    "version": 3
   },
   "file_extension": ".py",
   "mimetype": "text/x-python",
   "name": "python",
   "nbconvert_exporter": "python",
   "pygments_lexer": "ipython3",
   "version": "3.7.0"
  }
 },
 "nbformat": 4,
 "nbformat_minor": 2
}
