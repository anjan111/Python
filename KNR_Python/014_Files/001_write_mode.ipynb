{
 "cells": [
  {
   "cell_type": "code",
   "execution_count": 1,
   "metadata": {},
   "outputs": [
    {
     "name": "stdout",
     "output_type": "stream",
     "text": [
      "file is open in write mode successfuly\n"
     ]
    }
   ],
   "source": [
    "# mode is 'w'\n",
    "'''\n",
    "1---> file is existed with data , file can opended and the file \n",
    "content can lost\n",
    "\n",
    "'''\n",
    "fo = open('sample.txt','w')\n",
    "print(\"file is open in write mode successfuly\")\n",
    "\n",
    "fo.close()"
   ]
  },
  {
   "cell_type": "code",
   "execution_count": 2,
   "metadata": {},
   "outputs": [
    {
     "name": "stdout",
     "output_type": "stream",
     "text": [
      "file is open in write mode successfuly\n"
     ]
    }
   ],
   "source": [
    "# mode is 'w'\n",
    "'''\n",
    "2---> file is not existed then its create and file can opended \n",
    "\n",
    "'''\n",
    "fo = open('sample1.txt','w')\n",
    "print(\"file is open in write mode successfuly\")\n",
    "\n",
    "fo.close()"
   ]
  },
  {
   "cell_type": "code",
   "execution_count": 3,
   "metadata": {},
   "outputs": [
    {
     "name": "stdout",
     "output_type": "stream",
     "text": [
      "file is open in write mode successfuly\n"
     ]
    },
    {
     "ename": "UnsupportedOperation",
     "evalue": "not readable",
     "output_type": "error",
     "traceback": [
      "\u001b[1;31m---------------------------------------------------------------------------\u001b[0m",
      "\u001b[1;31mUnsupportedOperation\u001b[0m                      Traceback (most recent call last)",
      "\u001b[1;32m<ipython-input-3-6b5262755d69>\u001b[0m in \u001b[0;36m<module>\u001b[1;34m()\u001b[0m\n\u001b[0;32m      6\u001b[0m \u001b[0mfo\u001b[0m \u001b[1;33m=\u001b[0m \u001b[0mopen\u001b[0m\u001b[1;33m(\u001b[0m\u001b[1;34m'sample1.txt'\u001b[0m\u001b[1;33m,\u001b[0m\u001b[1;34m'w'\u001b[0m\u001b[1;33m)\u001b[0m\u001b[1;33m\u001b[0m\u001b[0m\n\u001b[0;32m      7\u001b[0m \u001b[0mprint\u001b[0m\u001b[1;33m(\u001b[0m\u001b[1;34m\"file is open in write mode successfuly\"\u001b[0m\u001b[1;33m)\u001b[0m\u001b[1;33m\u001b[0m\u001b[0m\n\u001b[1;32m----> 8\u001b[1;33m \u001b[0mfo\u001b[0m\u001b[1;33m.\u001b[0m\u001b[0mread\u001b[0m\u001b[1;33m(\u001b[0m\u001b[1;33m)\u001b[0m\u001b[1;33m\u001b[0m\u001b[0m\n\u001b[0m\u001b[0;32m      9\u001b[0m \u001b[0mfo\u001b[0m\u001b[1;33m.\u001b[0m\u001b[0mclose\u001b[0m\u001b[1;33m(\u001b[0m\u001b[1;33m)\u001b[0m\u001b[1;33m\u001b[0m\u001b[0m\n",
      "\u001b[1;31mUnsupportedOperation\u001b[0m: not readable"
     ]
    }
   ],
   "source": [
    "# mode is 'w'\n",
    "'''\n",
    "3 ---> if we use read method then its error\n",
    "\n",
    "4---> the file if you open in 'w', mode it can used for write\n",
    "only.\n",
    "'''\n",
    "fo = open('sample1.txt','w')\n",
    "print(\"file is open in write mode successfuly\")\n",
    "fo.read()\n",
    "fo.close()"
   ]
  },
  {
   "cell_type": "code",
   "execution_count": 5,
   "metadata": {},
   "outputs": [
    {
     "name": "stdout",
     "output_type": "stream",
     "text": [
      "file is open in write mode successfuly\n",
      "enter some data into the file : anjan kumar AI Engineer\n",
      "writing is completed \n"
     ]
    }
   ],
   "source": [
    "# mode is 'w'\n",
    "'''\n",
    "write()---> used for to write the data into the file\n",
    "'''\n",
    "fo = open('sample.txt','w')\n",
    "print(\"file is open in write mode successfuly\")\n",
    "data = input(\"enter some data into the file : \")\n",
    "fo.write(data)\n",
    "print(\"writing is completed \")\n",
    "fo.close()"
   ]
  },
  {
   "cell_type": "code",
   "execution_count": 6,
   "metadata": {},
   "outputs": [
    {
     "name": "stdout",
     "output_type": "stream",
     "text": [
      "file is open in write plus mode successfuly\n",
      "cursor location :  0\n",
      "reading the data but no more data\n",
      "\n",
      "cursor location :  0\n",
      "enter some data into the file : anjan\n",
      "writing is completed \n",
      "cursor location :  5\n",
      "setting cursor begging of the file\n",
      "reading the data from bigenning og file\n",
      "anjan\n"
     ]
    }
   ],
   "source": [
    "# mode is 'w+'\n",
    "'''\n",
    "file existed with data , file can open and data can lost\n",
    "read() --> it can supported \n",
    "file not existed then it can creats and open\n",
    "'''\n",
    "fo = open('sample.txt','w+')\n",
    "print(\"file is open in write plus mode successfuly\")\n",
    "print(\"cursor location : \",fo.tell())\n",
    "print(\"reading the data but no more data\")\n",
    "print(fo.read())\n",
    "print(\"cursor location : \",fo.tell())\n",
    "data = input(\"enter some data into the file : \")\n",
    "fo.write(data)\n",
    "print(\"writing is completed \")\n",
    "print(\"cursor location : \",fo.tell())\n",
    "print(\"setting cursor begging of the file\")\n",
    "fo.seek(0,0) # 0 /1/2 --->  \n",
    "'''\n",
    "0 ---> start of file\n",
    "1 ---> current position\n",
    "2 ---> end of the file position\n",
    "'''\n",
    "print(\"reading the data from bigenning og file\")\n",
    "print(fo.read())\n",
    "fo.close()"
   ]
  },
  {
   "cell_type": "code",
   "execution_count": null,
   "metadata": {},
   "outputs": [],
   "source": [
    "# create a file , file name details.txt, \n",
    "# write about self  \"w\"\n",
    "#\"w+\"  and read"
   ]
  }
 ],
 "metadata": {
  "kernelspec": {
   "display_name": "Python 3",
   "language": "python",
   "name": "python3"
  },
  "language_info": {
   "codemirror_mode": {
    "name": "ipython",
    "version": 3
   },
   "file_extension": ".py",
   "mimetype": "text/x-python",
   "name": "python",
   "nbconvert_exporter": "python",
   "pygments_lexer": "ipython3",
   "version": "3.7.0"
  }
 },
 "nbformat": 4,
 "nbformat_minor": 2
}
