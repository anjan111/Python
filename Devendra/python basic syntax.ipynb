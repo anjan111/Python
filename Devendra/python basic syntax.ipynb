{
 "cells": [
  {
   "cell_type": "markdown",
   "metadata": {},
   "source": [
    "====>>> syntax\n",
    "\n",
    "===>>> comments \n",
    "\n",
    "===>>> statements\n"
   ]
  },
  {
   "cell_type": "code",
   "execution_count": 1,
   "metadata": {},
   "outputs": [
    {
     "name": "stdout",
     "output_type": "stream",
     "text": [
      "hello\n",
      "hai\n"
     ]
    }
   ],
   "source": [
    "# single line comment\n",
    "'''\n",
    "===>> this is\n",
    "multiline \n",
    "comment \n",
    "'''\n",
    "print \"hello\" # statment\n",
    "print \"hai\""
   ]
  },
  {
   "cell_type": "code",
   "execution_count": 2,
   "metadata": {},
   "outputs": [
    {
     "name": "stdout",
     "output_type": "stream",
     "text": [
      "['and', 'as', 'assert', 'break', 'class', 'continue', 'def', 'del', 'elif', 'else', 'except', 'exec', 'finally', 'for', 'from', 'global', 'if', 'import', 'in', 'is', 'lambda', 'not', 'or', 'pass', 'print', 'raise', 'return', 'try', 'while', 'with', 'yield']\n"
     ]
    }
   ],
   "source": [
    "import keyword\n",
    "print keyword.kwlist"
   ]
  },
  {
   "cell_type": "markdown",
   "metadata": {},
   "source": [
    "# identifiers \n",
    "\n",
    "===>>> user / programmer defined words \n",
    "\n",
    "===>>> to identify the variable , functions , classes with names\n",
    "\n",
    "# rules \n",
    "\n",
    "===>>> we can use alphabets\n",
    "\n",
    "===>>> we can use digits \n",
    "\n",
    "===>>> we can use underscore\n",
    "\n",
    "===>>> don't start with digit\n",
    "\n",
    "===>>> keywords don't use it \n",
    "\n",
    "===>>> don't use special characters\n",
    "\n",
    "# variables\n",
    "\n",
    "===>>> to store the data with in the memory loc\n",
    "\n",
    "===>>> don't need to be declare the variable before using it\n",
    "\n",
    "syntax :-\n",
    "------------\n",
    "\n",
    "identifier   =   data"
   ]
  },
  {
   "cell_type": "code",
   "execution_count": 6,
   "metadata": {},
   "outputs": [
    {
     "name": "stdout",
     "output_type": "stream",
     "text": [
      "123\n",
      "123\n",
      "123\n",
      "123\n"
     ]
    }
   ],
   "source": [
    "var = 123\n",
    "print var\n",
    "vaA = 123\n",
    "print vaA\n",
    "_var = 123\n",
    "print _var\n",
    "var12 = 123\n",
    "print var12"
   ]
  },
  {
   "cell_type": "code",
   "execution_count": 7,
   "metadata": {},
   "outputs": [
    {
     "ename": "SyntaxError",
     "evalue": "invalid syntax (<ipython-input-7-d2efad9d5bf1>, line 1)",
     "output_type": "error",
     "traceback": [
      "\u001b[1;36m  File \u001b[1;32m\"<ipython-input-7-d2efad9d5bf1>\"\u001b[1;36m, line \u001b[1;32m1\u001b[0m\n\u001b[1;33m    1var =123\u001b[0m\n\u001b[1;37m       ^\u001b[0m\n\u001b[1;31mSyntaxError\u001b[0m\u001b[1;31m:\u001b[0m invalid syntax\n"
     ]
    }
   ],
   "source": [
    "1var =123"
   ]
  },
  {
   "cell_type": "code",
   "execution_count": 8,
   "metadata": {},
   "outputs": [
    {
     "ename": "SyntaxError",
     "evalue": "invalid syntax (<ipython-input-8-b960f24c7ded>, line 1)",
     "output_type": "error",
     "traceback": [
      "\u001b[1;36m  File \u001b[1;32m\"<ipython-input-8-b960f24c7ded>\"\u001b[1;36m, line \u001b[1;32m1\u001b[0m\n\u001b[1;33m    v@e =123\u001b[0m\n\u001b[1;37m     ^\u001b[0m\n\u001b[1;31mSyntaxError\u001b[0m\u001b[1;31m:\u001b[0m invalid syntax\n"
     ]
    }
   ],
   "source": [
    "v@e =123"
   ]
  },
  {
   "cell_type": "code",
   "execution_count": 9,
   "metadata": {},
   "outputs": [
    {
     "ename": "SyntaxError",
     "evalue": "invalid syntax (<ipython-input-9-cedc75370ecc>, line 1)",
     "output_type": "error",
     "traceback": [
      "\u001b[1;36m  File \u001b[1;32m\"<ipython-input-9-cedc75370ecc>\"\u001b[1;36m, line \u001b[1;32m1\u001b[0m\n\u001b[1;33m    while =13\u001b[0m\n\u001b[1;37m          ^\u001b[0m\n\u001b[1;31mSyntaxError\u001b[0m\u001b[1;31m:\u001b[0m invalid syntax\n"
     ]
    }
   ],
   "source": [
    "while =13"
   ]
  },
  {
   "cell_type": "code",
   "execution_count": null,
   "metadata": {},
   "outputs": [],
   "source": [
    "# python datatype\n",
    "'''\n",
    "===>>> To specify the what type of dataa holded by variable \n",
    "===>>> 2 types\n",
    "        1. fundamental datatype\n",
    "        ------------------------\n",
    "        ===>>> A single variable can hold the one single data\n",
    "            1. int \n",
    "            2. float\n",
    "            3. complex\n",
    "            4. bool\n",
    "            5. None\n",
    "        \n",
    "        2. sequencial datatype\n",
    "        -------------------------\n",
    "        ===>>> A single variable can hold the multiple data elements\n",
    "        1. str ===>> \" \"\n",
    "        2. list ==>>  [ ]\n",
    "        3. tuple ==>> ( )\n",
    "        4. set ====>> {}\n",
    "        5.dict ====>> {}\n",
    "'''"
   ]
  },
  {
   "cell_type": "code",
   "execution_count": 1,
   "metadata": {},
   "outputs": [
    {
     "name": "stdout",
     "output_type": "stream",
     "text": [
      "<type 'int'>\n",
      "<type 'int'>\n"
     ]
    }
   ],
   "source": [
    "var = 12\n",
    "print type(var)\n",
    "var = -12\n",
    "print type(var)"
   ]
  },
  {
   "cell_type": "code",
   "execution_count": 2,
   "metadata": {},
   "outputs": [
    {
     "name": "stdout",
     "output_type": "stream",
     "text": [
      "<type 'float'>\n"
     ]
    }
   ],
   "source": [
    "var = 12.353\n",
    "print type(var)"
   ]
  },
  {
   "cell_type": "code",
   "execution_count": 3,
   "metadata": {},
   "outputs": [
    {
     "name": "stdout",
     "output_type": "stream",
     "text": [
      "<type 'complex'>\n"
     ]
    }
   ],
   "source": [
    "var = 23 + 34j\n",
    "print type(var)"
   ]
  },
  {
   "cell_type": "code",
   "execution_count": 4,
   "metadata": {},
   "outputs": [
    {
     "name": "stdout",
     "output_type": "stream",
     "text": [
      "<type 'bool'>\n",
      "<type 'bool'>\n"
     ]
    }
   ],
   "source": [
    "var = True\n",
    "print type(var)\n",
    "var = False\n",
    "print type(var)"
   ]
  },
  {
   "cell_type": "code",
   "execution_count": 5,
   "metadata": {},
   "outputs": [
    {
     "name": "stdout",
     "output_type": "stream",
     "text": [
      "<type 'NoneType'>\n"
     ]
    }
   ],
   "source": [
    "var = None\n",
    "print type(var)"
   ]
  },
  {
   "cell_type": "code",
   "execution_count": 6,
   "metadata": {},
   "outputs": [
    {
     "name": "stdout",
     "output_type": "stream",
     "text": [
      "<type 'str'>\n"
     ]
    }
   ],
   "source": [
    "var = \"soc\"\n",
    "print type(var)"
   ]
  },
  {
   "cell_type": "code",
   "execution_count": 7,
   "metadata": {},
   "outputs": [
    {
     "name": "stdout",
     "output_type": "stream",
     "text": [
      "<type 'list'>\n"
     ]
    }
   ],
   "source": [
    "var = [12,34.23]\n",
    "print type(var)"
   ]
  },
  {
   "cell_type": "code",
   "execution_count": 8,
   "metadata": {},
   "outputs": [
    {
     "name": "stdout",
     "output_type": "stream",
     "text": [
      "<type 'tuple'>\n"
     ]
    }
   ],
   "source": [
    "var = (12,78.67)\n",
    "print type(var)"
   ]
  },
  {
   "cell_type": "code",
   "execution_count": 9,
   "metadata": {},
   "outputs": [
    {
     "name": "stdout",
     "output_type": "stream",
     "text": [
      "<type 'set'>\n"
     ]
    }
   ],
   "source": [
    "var = {12,78.67}\n",
    "print type(var)"
   ]
  },
  {
   "cell_type": "code",
   "execution_count": 11,
   "metadata": {},
   "outputs": [
    {
     "name": "stdout",
     "output_type": "stream",
     "text": [
      "<type 'dict'>\n"
     ]
    }
   ],
   "source": [
    "var = {12 : \"soc\",78.67 : \"hello\"}\n",
    "print type(var)"
   ]
  },
  {
   "cell_type": "code",
   "execution_count": null,
   "metadata": {},
   "outputs": [],
   "source": [
    "# python built-in functions\n",
    "'''\n",
    "===>>> the functions which are already defined inside of python\n",
    "input() ===>>> to read the data from keyboard\n",
    "print  ====>>> to display the data on monitor\n",
    "id()   ====>>> to know the memory loc\n",
    "type() ===>>> to know the datatype \n",
    "'''"
   ]
  },
  {
   "cell_type": "code",
   "execution_count": 12,
   "metadata": {},
   "outputs": [
    {
     "name": "stdout",
     "output_type": "stream",
     "text": [
      "enter some data : 78\n",
      "78\n",
      "<type 'int'>\n",
      "45316832\n"
     ]
    }
   ],
   "source": [
    "# wap read int by input  and display the data, memory,datatype\n",
    "var = input(\"enter some data : \")\n",
    "print var\n",
    "print type(var)\n",
    "print id(var)"
   ]
  },
  {
   "cell_type": "code",
   "execution_count": 13,
   "metadata": {},
   "outputs": [
    {
     "name": "stdout",
     "output_type": "stream",
     "text": [
      "enter some data : 78.89\n",
      "78.89\n",
      "<type 'float'>\n",
      "72521512\n"
     ]
    }
   ],
   "source": [
    "# wap read float by input  and display the data, memory,datatype\n",
    "var = input(\"enter some data : \")\n",
    "print var\n",
    "print type(var)\n",
    "print id(var)"
   ]
  },
  {
   "cell_type": "code",
   "execution_count": 14,
   "metadata": {},
   "outputs": [
    {
     "name": "stdout",
     "output_type": "stream",
     "text": [
      "enter some data : 12 + 3j\n",
      "(12+3j)\n",
      "<type 'complex'>\n",
      "73226480\n"
     ]
    }
   ],
   "source": [
    "# wap read complex by input  and display the data, memory,datatype\n",
    "var = input(\"enter some data : \")\n",
    "print var\n",
    "print type(var)\n",
    "print id(var)"
   ]
  },
  {
   "cell_type": "code",
   "execution_count": 15,
   "metadata": {},
   "outputs": [
    {
     "name": "stdout",
     "output_type": "stream",
     "text": [
      "enter some data : True\n",
      "True\n",
      "<type 'bool'>\n",
      "1387970280\n"
     ]
    }
   ],
   "source": [
    "# wap read bool by input  and display the data, memory,datatype\n",
    "var = input(\"enter some data : \")\n",
    "print var\n",
    "print type(var)\n",
    "print id(var)"
   ]
  },
  {
   "cell_type": "code",
   "execution_count": 16,
   "metadata": {},
   "outputs": [
    {
     "name": "stdout",
     "output_type": "stream",
     "text": [
      "enter some data : False\n",
      "False\n",
      "<type 'bool'>\n",
      "1387969864\n"
     ]
    }
   ],
   "source": [
    "# wap read bool by input  and display the data, memory,datatype\n",
    "var = input(\"enter some data : \")\n",
    "print var\n",
    "print type(var)\n",
    "print id(var)"
   ]
  },
  {
   "cell_type": "code",
   "execution_count": 17,
   "metadata": {},
   "outputs": [
    {
     "name": "stdout",
     "output_type": "stream",
     "text": [
      "enter some data : None\n",
      "None\n",
      "<type 'NoneType'>\n",
      "1387924600\n"
     ]
    }
   ],
   "source": [
    "# wap read None by input  and display the data, memory,datatype\n",
    "var = input(\"enter some data : \")\n",
    "print var\n",
    "print type(var)\n",
    "print id(var)"
   ]
  },
  {
   "cell_type": "code",
   "execution_count": 18,
   "metadata": {},
   "outputs": [
    {
     "name": "stdout",
     "output_type": "stream",
     "text": [
      "enter some data : \"soc\"\n",
      "soc\n",
      "<type 'str'>\n",
      "73161904\n"
     ]
    }
   ],
   "source": [
    "# wap read strby input  and display the data, memory,datatype\n",
    "var = input(\"enter some data : \")\n",
    "print var\n",
    "print type(var)\n",
    "print id(var)"
   ]
  },
  {
   "cell_type": "code",
   "execution_count": 19,
   "metadata": {},
   "outputs": [
    {
     "name": "stdout",
     "output_type": "stream",
     "text": [
      "enter some data : [12,4.23]\n",
      "[12, 4.23]\n",
      "<type 'list'>\n",
      "73241672\n"
     ]
    }
   ],
   "source": [
    "# wap read list by input  and display the data, memory,datatype\n",
    "var = input(\"enter some data : \")\n",
    "print var\n",
    "print type(var)\n",
    "print id(var)"
   ]
  },
  {
   "cell_type": "code",
   "execution_count": 20,
   "metadata": {},
   "outputs": [
    {
     "name": "stdout",
     "output_type": "stream",
     "text": [
      "enter some data : (12,35.23)\n",
      "(12, 35.23)\n",
      "<type 'tuple'>\n",
      "78638024\n"
     ]
    }
   ],
   "source": [
    "# wap read tuple by input  and display the data, memory,datatype\n",
    "var = input(\"enter some data : \")\n",
    "print var\n",
    "print type(var)\n",
    "print id(var)"
   ]
  },
  {
   "cell_type": "code",
   "execution_count": 21,
   "metadata": {},
   "outputs": [
    {
     "name": "stdout",
     "output_type": "stream",
     "text": [
      "enter some data : {12,34,2}\n",
      "set([34, 12, 2])\n",
      "<type 'set'>\n",
      "70004520\n"
     ]
    }
   ],
   "source": [
    "# wap read set by input  and display the data, memory,datatype\n",
    "var = input(\"enter some data : \")\n",
    "print var\n",
    "print type(var)\n",
    "print id(var)"
   ]
  },
  {
   "cell_type": "code",
   "execution_count": 22,
   "metadata": {},
   "outputs": [
    {
     "name": "stdout",
     "output_type": "stream",
     "text": [
      "enter some data : {12 : \"d\" , 56:\"df\"}\n",
      "{56: 'df', 12: 'd'}\n",
      "<type 'dict'>\n",
      "79752184\n"
     ]
    }
   ],
   "source": [
    "# wap read dict by input  and display the data, memory,datatype\n",
    "var = input(\"enter some data : \")\n",
    "print var\n",
    "print type(var)\n",
    "print id(var)"
   ]
  },
  {
   "cell_type": "code",
   "execution_count": 23,
   "metadata": {},
   "outputs": [
    {
     "name": "stdout",
     "output_type": "stream",
     "text": [
      "enter some data : 78\n",
      "78\n",
      "<type 'str'>\n",
      "73162624\n"
     ]
    }
   ],
   "source": [
    "# raw_input() ===>>> to read the data from keyboard\n",
    "# wap read int by raw_input  and display the data, memory,datatype\n",
    "var = raw_input(\"enter some data : \")\n",
    "print var\n",
    "print type(var)\n",
    "print id(var)"
   ]
  },
  {
   "cell_type": "code",
   "execution_count": 24,
   "metadata": {},
   "outputs": [
    {
     "name": "stdout",
     "output_type": "stream",
     "text": [
      "enter some data : 70.555\n",
      "70.555\n",
      "<type 'str'>\n",
      "79190656\n"
     ]
    }
   ],
   "source": [
    "# wap read float by raw_input  and display the data, memory,datatype\n",
    "var = raw_input(\"enter some data : \")\n",
    "print var\n",
    "print type(var)\n",
    "print id(var)"
   ]
  },
  {
   "cell_type": "code",
   "execution_count": 28,
   "metadata": {},
   "outputs": [
    {
     "name": "stdout",
     "output_type": "stream",
     "text": [
      "4\n",
      "92\n",
      "45\n",
      "1\n"
     ]
    }
   ],
   "source": [
    "# len() ===>> to know the no of elements in aseq\n",
    "var = [12,45,34,1]\n",
    "print len(var)\n",
    "print sum(var)\n",
    "print max(var)\n",
    "print min(var)"
   ]
  },
  {
   "cell_type": "code",
   "execution_count": 31,
   "metadata": {},
   "outputs": [
    {
     "name": "stdout",
     "output_type": "stream",
     "text": [
      "97\n",
      "98\n",
      "122\n"
     ]
    }
   ],
   "source": [
    "print ord('a')\n",
    "print ord('b')\n",
    "print ord('z')"
   ]
  },
  {
   "cell_type": "code",
   "execution_count": 33,
   "metadata": {},
   "outputs": [
    {
     "name": "stdout",
     "output_type": "stream",
     "text": [
      "A\n",
      "B\n"
     ]
    }
   ],
   "source": [
    "print chr(65)\n",
    "print chr(66)"
   ]
  },
  {
   "cell_type": "code",
   "execution_count": null,
   "metadata": {},
   "outputs": [],
   "source": [
    "# python introduction\n",
    "# python basic syntax\n",
    "# python built -in function"
   ]
  },
  {
   "cell_type": "code",
   "execution_count": 34,
   "metadata": {},
   "outputs": [
    {
     "name": "stdout",
     "output_type": "stream",
     "text": [
      "enter some data : 78.6655\n",
      "78.6655\n",
      "<type 'str'>\n",
      "79814784\n",
      "78.6655\n",
      "<type 'float'>\n",
      "72510616\n"
     ]
    }
   ],
   "source": [
    "# wap read float by raw_input  and display the data, memory,datatype\n",
    "var = raw_input(\"enter some data : \")\n",
    "print var\n",
    "print type(var)\n",
    "print id(var)\n",
    "var =float(var)\n",
    "print var\n",
    "print type(var)\n",
    "print id(var)"
   ]
  },
  {
   "cell_type": "code",
   "execution_count": 36,
   "metadata": {},
   "outputs": [
    {
     "name": "stdout",
     "output_type": "stream",
     "text": [
      "enter some data : 78\n",
      "78\n",
      "<type 'str'>\n",
      "79819760\n",
      "78\n",
      "<type 'int'>\n",
      "45316832\n"
     ]
    }
   ],
   "source": [
    "# wap read int by raw_input  and display the data, memory,datatype\n",
    "var = raw_input(\"enter some data : \")\n",
    "print var\n",
    "print type(var)\n",
    "print id(var)\n",
    "var =int(var)\n",
    "print var\n",
    "print type(var)\n",
    "print id(var)"
   ]
  },
  {
   "cell_type": "code",
   "execution_count": null,
   "metadata": {},
   "outputs": [],
   "source": [
    "#======>>>this is basic data type conversion function\n",
    "# int()\n",
    "# float()\n",
    "# complex()\n",
    "# bool()\n",
    "# str()\n",
    "# list()\n",
    "# tuple()\n",
    "# set()\n",
    "# dict()"
   ]
  }
 ],
 "metadata": {
  "kernelspec": {
   "display_name": "Python 2",
   "language": "python",
   "name": "python2"
  },
  "language_info": {
   "codemirror_mode": {
    "name": "ipython",
    "version": 2
   },
   "file_extension": ".py",
   "mimetype": "text/x-python",
   "name": "python",
   "nbconvert_exporter": "python",
   "pygments_lexer": "ipython2",
   "version": "2.7.16"
  }
 },
 "nbformat": 4,
 "nbformat_minor": 2
}
