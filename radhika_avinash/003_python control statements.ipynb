{
 "cells": [
  {
   "cell_type": "code",
   "execution_count": 4,
   "metadata": {},
   "outputs": [
    {
     "name": "stdout",
     "output_type": "stream",
     "text": [
      "enter side : 8\n",
      "area :  64\n",
      "task over\n"
     ]
    }
   ],
   "source": [
    "# Statement\n",
    "'''\n",
    "===>> An instruction which can be executable\n",
    "'''\n",
    "# Program \n",
    "'''\n",
    "===>> Collection of statements to do any one specific task\n",
    "'''\n",
    "\n",
    "# How the program can executes \n",
    "'''\n",
    "===>>> Statement by statement\n",
    "'''\n",
    "\n",
    "#  control statements\n",
    "'''\n",
    "===>>> we can change / control the flow of execution of the program\n",
    "'''\n",
    "# Type of control statements\n",
    "'''\n",
    "1. conditional statements\n",
    "2. Looping statements\n",
    "3. Control keywords \n",
    "'''\n",
    "# conditional statements\n",
    "'''\n",
    "==>>> The execution of the statement which can be depends on the condition\n",
    "\n",
    "1. simple if \n",
    "2. if and else\n",
    "3. elif ladder\n",
    "4. Nested if \n",
    "'''\n",
    "# simple if \n",
    "'''\n",
    "===>> wap find the area of square when side is even\n",
    "'''\n",
    "side = input(\"enter side : \") # start\n",
    "if ( side % 2 == 0 ): # condition\n",
    "    area = side ** 2  # Task\n",
    "    print \"area : \",area\n",
    "    \n",
    "print\"task over\" # stop"
   ]
  },
  {
   "cell_type": "code",
   "execution_count": 10,
   "metadata": {},
   "outputs": [
    {
     "name": "stdout",
     "output_type": "stream",
     "text": [
      "enter number : -8\n",
      "Task over\n"
     ]
    }
   ],
   "source": [
    "#wap find the 4 power of a number when a  number is possible for factorial\n",
    "num = input(\"enter number : \")\n",
    "if (num >= 0 ):\n",
    "    power = num ** 4\n",
    "    print num,\"power of 4 : \",power\n",
    "print \"Task over\""
   ]
  },
  {
   "cell_type": "code",
   "execution_count": 12,
   "metadata": {},
   "outputs": [
    {
     "name": "stdout",
     "output_type": "stream",
     "text": [
      "enter side of square : 6\n",
      "peri :  24\n",
      "Task over\n"
     ]
    }
   ],
   "source": [
    "# if and else\n",
    "'''\n",
    "==>> wap find area when side is odd other wise  find the perimeter \n",
    "'''\n",
    "side = input(\"enter side of square : \")\n",
    "if ( side % 2 != 0):\n",
    "    area = side ** 2\n",
    "    print \"area : \",area\n",
    "else:\n",
    "    peri = 4 * side\n",
    "    print \"peri : \",peri \n",
    "print \"Task over\""
   ]
  }
 ],
 "metadata": {
  "kernelspec": {
   "display_name": "Python 2",
   "language": "python",
   "name": "python2"
  },
  "language_info": {
   "codemirror_mode": {
    "name": "ipython",
    "version": 2
   },
   "file_extension": ".py",
   "mimetype": "text/x-python",
   "name": "python",
   "nbconvert_exporter": "python",
   "pygments_lexer": "ipython2",
   "version": "2.7.16"
  }
 },
 "nbformat": 4,
 "nbformat_minor": 2
}
