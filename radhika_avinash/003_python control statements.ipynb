{
 "cells": [
  {
   "cell_type": "code",
   "execution_count": 5,
   "metadata": {},
   "outputs": [
    {
     "name": "stdout",
     "output_type": "stream",
     "text": [
      "enter side : -8\n",
      "please enter proper side \n",
      "task over\n"
     ]
    }
   ],
   "source": [
    "# Statement\n",
    "'''\n",
    "===>> An instruction which can be executable\n",
    "'''\n",
    "# Program \n",
    "'''\n",
    "===>> Collection of statements to do any one specific task\n",
    "'''\n",
    "\n",
    "# How the program can executes \n",
    "'''\n",
    "===>>> Statement by statement\n",
    "'''\n",
    "\n",
    "#  control statements\n",
    "'''\n",
    "===>>> we can change / control the flow of execution of the program\n",
    "'''\n",
    "# Type of control statements\n",
    "'''\n",
    "1. conditional statements\n",
    "2. Looping statements\n",
    "3. Control keywords \n",
    "'''\n",
    "# conditional statements\n",
    "'''\n",
    "==>>> The execution of the statement which can be depends on the condition\n",
    "\n",
    "1. simple if \n",
    "2. if and else\n",
    "3. elif ladder\n",
    "4. Nested if \n",
    "'''\n",
    "# simple if \n",
    "'''\n",
    "===>> wap find the area of square when side is even\n",
    "'''\n",
    "side = input(\"enter side : \") # start\n",
    "if(side >0):\n",
    "    if ( side % 2 == 0 ): # condition\n",
    "        area = side ** 2  # Task\n",
    "        print \"area : \",area\n",
    "\n",
    "else:\n",
    "    print \"please enter proper side \"\n",
    "print\"task over\" # stop"
   ]
  },
  {
   "cell_type": "code",
   "execution_count": 2,
   "metadata": {},
   "outputs": [
    {
     "name": "stdout",
     "output_type": "stream",
     "text": [
      "enter side : 7\n",
      "task over\n"
     ]
    }
   ],
   "source": [
    "'''\n",
    "===>> wap find the area of square when side is even\n",
    "'''\n",
    "side = input(\"enter side : \") # start\n",
    "if ( side % 2 == 0 ): # condition\n",
    "    area = side ** 2  # Task\n",
    "    print \"area : \",area\n",
    "    \n",
    "print\"task over\" # stop"
   ]
  },
  {
   "cell_type": "code",
   "execution_count": null,
   "metadata": {},
   "outputs": [],
   "source": [
    "#wap find the 4 power of a number when a  number is possible for factorial\n",
    "num = input(\"enter number : \")\n",
    "if (num >= 0 ):\n",
    "    power = num ** 4\n",
    "    print num,\"power of 4 : \",power\n",
    "print \"Task over\""
   ]
  },
  {
   "cell_type": "code",
   "execution_count": null,
   "metadata": {},
   "outputs": [],
   "source": [
    "# if and else\n",
    "'''\n",
    "==>> wap find area when side is odd other wise  find the perimeter \n",
    "'''\n",
    "side = input(\"enter side of square : \")\n",
    "if ( side % 2 != 0):\n",
    "    area = side ** 2\n",
    "    print \"area : \",area\n",
    "else:\n",
    "    peri = 4 * side\n",
    "    print \"peri : \",peri \n",
    "print \"Task over\""
   ]
  },
  {
   "cell_type": "code",
   "execution_count": null,
   "metadata": {},
   "outputs": [],
   "source": [
    "# elif ladder\n",
    "# wap fix the salary based on exp\n",
    "exp = input(\"enter no of years of exp :\")\n",
    "if( exp >0 and exp <=2):\n",
    "    print \"salary  3 lac PA\"\n",
    "    \n",
    "elif(exp >2 and exp <=5):\n",
    "    print \"salary 6 lac PA\"\n",
    "    \n",
    "elif(exp >5 and exp <= 8):\n",
    "    print \"salary 10 lac PA\"\n",
    "    \n",
    "elif(exp >8 and exp <= 12):\n",
    "    print \"saley 25 lac PA\"\n",
    "    \n",
    "elif( exp >12):\n",
    "    print \"salary 50 lac PA\"\n",
    "    \n",
    "else:\n",
    "    print\"Please give the proper exp\""
   ]
  },
  {
   "cell_type": "code",
   "execution_count": null,
   "metadata": {},
   "outputs": [],
   "source": [
    "# wap print grade based student percetnage"
   ]
  },
  {
   "cell_type": "code",
   "execution_count": null,
   "metadata": {},
   "outputs": [],
   "source": [
    "# nested if\n",
    "'''\n",
    "one block can contains another block that is nested if\n",
    "'''\n",
    "#wap find the smallest number from 3 numbers\n",
    "\n",
    "a = input(\"enter a : \") \n",
    "b = input(\"enter b : \")\n",
    "c = input(\"enter c : \")\n",
    "if( a < b ):\n",
    "    small = a\n",
    "    if( small > c):\n",
    "        small = c\n",
    "else:\n",
    "    small =b\n",
    "    if( small > c):\n",
    "        small = c\n",
    "print \"small : \",small"
   ]
  },
  {
   "cell_type": "code",
   "execution_count": null,
   "metadata": {},
   "outputs": [],
   "source": [
    "# wap find the biggest number from 3 number"
   ]
  },
  {
   "cell_type": "code",
   "execution_count": null,
   "metadata": {},
   "outputs": [],
   "source": [
    "# wap find the given year is leap year or not"
   ]
  },
  {
   "cell_type": "code",
   "execution_count": 6,
   "metadata": {},
   "outputs": [
    {
     "name": "stdout",
     "output_type": "stream",
     "text": [
      "anjan\n",
      "anjan\n",
      "anjan\n",
      "anjan\n",
      "anjan\n",
      "anjan\n",
      "anjan\n",
      "anjan\n",
      "anjan\n",
      "anjan\n"
     ]
    }
   ],
   "source": [
    "# wap print your name 10 times\n",
    "print \"anjan\"\n",
    "print \"anjan\"\n",
    "print \"anjan\"\n",
    "print \"anjan\"\n",
    "print \"anjan\"\n",
    "print \"anjan\"\n",
    "print \"anjan\"\n",
    "print \"anjan\"\n",
    "print \"anjan\"\n",
    "print \"anjan\""
   ]
  },
  {
   "cell_type": "code",
   "execution_count": 8,
   "metadata": {},
   "outputs": [
    {
     "name": "stdout",
     "output_type": "stream",
     "text": [
      "1 anjan\n",
      "2 anjan\n",
      "3 anjan\n",
      "4 anjan\n",
      "5 anjan\n",
      "6 anjan\n",
      "7 anjan\n",
      "8 anjan\n",
      "9 anjan\n",
      "10 anjan\n"
     ]
    }
   ],
   "source": [
    "i = 1# intial \n",
    "while(i<=10):\n",
    "    print i,\"anjan\"\n",
    "    i = i+1"
   ]
  },
  {
   "cell_type": "code",
   "execution_count": 9,
   "metadata": {},
   "outputs": [
    {
     "name": "stdout",
     "output_type": "stream",
     "text": [
      "1\n",
      "2\n",
      "3\n",
      "4\n",
      "5\n",
      "6\n",
      "7\n",
      "8\n",
      "9\n",
      "10\n",
      "condition was failed \n",
      "task over\n"
     ]
    }
   ],
   "source": [
    "# wap print 1 to 10\n",
    "i = 1\n",
    "while(i <= 10):\n",
    "    print i\n",
    "    i = i +1\n",
    "else:\n",
    "    print \"condition was failed \"\n",
    "print \"task over\""
   ]
  },
  {
   "cell_type": "code",
   "execution_count": 13,
   "metadata": {},
   "outputs": [
    {
     "name": "stdout",
     "output_type": "stream",
     "text": [
      "enter N : 100\n",
      "sum :  5050\n",
      "task over\n"
     ]
    }
   ],
   "source": [
    "# wap find the sum of 1st 10 numbers\n",
    "# 1+2+3+4+5+6+7+8+9+10 ===>>> 55\n",
    "N = input(\"enter N : \")\n",
    "i = 1\n",
    "sum = 0\n",
    "while(i <=N):\n",
    "    sum = sum+i\n",
    "    i = i +1\n",
    "else:\n",
    "    print \"sum : \",sum\n",
    "print \"task over\""
   ]
  },
  {
   "cell_type": "code",
   "execution_count": 14,
   "metadata": {},
   "outputs": [
    {
     "name": "stdout",
     "output_type": "stream",
     "text": [
      "enter N : 5\n",
      "fact :  120\n",
      "task over\n"
     ]
    }
   ],
   "source": [
    "#wap  find the factorial of a number\n",
    "# 5 ---->>  5*4*3*2*1\n",
    "N = input(\"enter N : \")\n",
    "i = 1\n",
    "fact= 1\n",
    "while(i <=N):\n",
    "    fact = fact*i\n",
    "    i = i +1\n",
    "else:\n",
    "    print \"fact : \",fact\n",
    "print \"task over\""
   ]
  },
  {
   "cell_type": "code",
   "execution_count": 16,
   "metadata": {},
   "outputs": [
    {
     "name": "stdout",
     "output_type": "stream",
     "text": [
      "enter no of fibonic elements10\n",
      "0      1      1      2      3      5      8      13      21      34     \n"
     ]
    }
   ],
   "source": [
    "# wap generate 1st 10 the fibonic series elements\n",
    "\n",
    "#   0    1     1    2   3    5    8   13   21    34\n",
    "\n",
    "n = input(\"enter no of fibonic elements\")\n",
    "a =0\n",
    "b =1\n",
    "i = 1\n",
    "while(i <= n):\n",
    "    print a,\"    \",\n",
    "    c = a+b\n",
    "    a = b\n",
    "    b = c\n",
    "    i = i +1"
   ]
  },
  {
   "cell_type": "code",
   "execution_count": null,
   "metadata": {},
   "outputs": [],
   "source": [
    "# wap find the no of factors for any number"
   ]
  },
  {
   "cell_type": "code",
   "execution_count": null,
   "metadata": {},
   "outputs": [],
   "source": [
    "# wap find the given number is prime number or not"
   ]
  },
  {
   "cell_type": "code",
   "execution_count": null,
   "metadata": {},
   "outputs": [],
   "source": [
    "# wap find the sum of the factors of a number\n",
    "# input --->> 10\n",
    "# step 1 ---> 1 ,2,5,10\n",
    "#  sum of them\n",
    "\n",
    "num =10\n",
    "i = 1\n",
    "sum = 0\n",
    "while(i <= num):\n",
    "    if( num % i == 0):\n",
    "        print i\n",
    "        sum = sum +i\n",
    "    i = i+1\n",
    "print \"sum : \",sum\n",
    "\n"
   ]
  },
  {
   "cell_type": "code",
   "execution_count": null,
   "metadata": {},
   "outputs": [],
   "source": [
    "# wap find the no of digits in a number"
   ]
  },
  {
   "cell_type": "code",
   "execution_count": null,
   "metadata": {},
   "outputs": [],
   "source": [
    "# wap find the sum of digits in a number"
   ]
  },
  {
   "cell_type": "code",
   "execution_count": null,
   "metadata": {},
   "outputs": [],
   "source": []
  },
  {
   "cell_type": "code",
   "execution_count": null,
   "metadata": {},
   "outputs": [],
   "source": [
    "# wap find given number is palidrom or not"
   ]
  },
  {
   "cell_type": "code",
   "execution_count": null,
   "metadata": {},
   "outputs": [],
   "source": []
  },
  {
   "cell_type": "code",
   "execution_count": null,
   "metadata": {},
   "outputs": [],
   "source": [
    "# wap find the prime numbers in between 4 to 15\n",
    "init = 4\n",
    "pre = init\n",
    "final = 15\n",
    "while(pre <= final):\n",
    "    i = 1\n",
    "    c = 0\n",
    "    while(i <= pre):\n",
    "        if(pre % i == 0):\n",
    "            c =c+1\n",
    "        i = i+1\n",
    "    if(c == 2):\n",
    "        print \"prime  : \",pre\n",
    "    pre = pre+1"
   ]
  },
  {
   "cell_type": "code",
   "execution_count": null,
   "metadata": {},
   "outputs": [],
   "source": [
    "# wap find the prime factorial in between 4  to 15\n",
    "# 5 ---->> 120\n",
    "# 7 ---->>\n",
    "# 11---->>\n",
    "# 13 --->>"
   ]
  },
  {
   "cell_type": "code",
   "execution_count": null,
   "metadata": {},
   "outputs": [],
   "source": [
    "# wap print elements in a list\n",
    "a = input(\"enter list : \")\n",
    "print type(a)\n",
    "for i in a :\n",
    "    print i\n",
    "    \n",
    "else:\n",
    "    print \"no more updatation\"\n",
    "print\"task over\"\n",
    "    "
   ]
  },
  {
   "cell_type": "code",
   "execution_count": null,
   "metadata": {},
   "outputs": [],
   "source": [
    "# wap find no of elements in a seq \n",
    "l = 0\n",
    "seq = input(\"enter seq  : \")\n",
    "for i in seq :\n",
    "    l = l+1\n",
    "else:\n",
    "    print \"len of seq : \",l\n",
    "print \"task over\""
   ]
  },
  {
   "cell_type": "code",
   "execution_count": null,
   "metadata": {},
   "outputs": [],
   "source": [
    "# sum of elements in a list"
   ]
  },
  {
   "cell_type": "code",
   "execution_count": null,
   "metadata": {},
   "outputs": [],
   "source": [
    "# wap find the even numbers in a seq"
   ]
  },
  {
   "cell_type": "code",
   "execution_count": null,
   "metadata": {},
   "outputs": [],
   "source": [
    "# wap find the sum of even numbers in seq"
   ]
  },
  {
   "cell_type": "code",
   "execution_count": null,
   "metadata": {},
   "outputs": [],
   "source": [
    "# wapfind the prime numbers in a seq\n"
   ]
  },
  {
   "cell_type": "code",
   "execution_count": null,
   "metadata": {},
   "outputs": [],
   "source": [
    "range(10)"
   ]
  },
  {
   "cell_type": "code",
   "execution_count": null,
   "metadata": {},
   "outputs": [],
   "source": [
    "range(1,11)"
   ]
  },
  {
   "cell_type": "code",
   "execution_count": null,
   "metadata": {},
   "outputs": [],
   "source": [
    "range(1, 20,2)"
   ]
  },
  {
   "cell_type": "code",
   "execution_count": null,
   "metadata": {},
   "outputs": [],
   "source": []
  },
  {
   "cell_type": "code",
   "execution_count": null,
   "metadata": {},
   "outputs": [],
   "source": [
    "# wap find the prime factor with in a seq\n",
    "seq = input(\"enter a seq : \")\n",
    "print seq\n",
    "for num in seq :\n",
    "    f_c = 0\n",
    "    for i in range(1,num+1):\n",
    "        if(num % i == 0):\n",
    "            f_c = f_c +1\n",
    "    if(f_c == 2):\n",
    "        fact = 1\n",
    "        for i in range(2,num+1):\n",
    "            fact =  fact*i\n",
    "        print num,\" ! = \",fact\n",
    "    "
   ]
  },
  {
   "cell_type": "code",
   "execution_count": null,
   "metadata": {},
   "outputs": [],
   "source": [
    "# control keywords\n",
    "'''\n",
    "===>> pass--->> to create the dummy block \n",
    "\n",
    "===>> break\n",
    "\n",
    "===>> continue\n",
    "\n",
    "'''\n",
    "if ( False):\n",
    "    pass\n",
    "elif(True):\n",
    "    pass\n",
    "else :\n",
    "    pass"
   ]
  },
  {
   "cell_type": "code",
   "execution_count": null,
   "metadata": {},
   "outputs": [],
   "source": [
    "while(False):\n",
    "    pass"
   ]
  },
  {
   "cell_type": "code",
   "execution_count": null,
   "metadata": {},
   "outputs": [],
   "source": [
    "for i in range(10):\n",
    "    pass"
   ]
  },
  {
   "cell_type": "code",
   "execution_count": null,
   "metadata": {},
   "outputs": [],
   "source": [
    "# continue\n",
    "'''\n",
    "==>> we have to use with in the loops \n",
    "\n",
    "\n",
    "'''\n",
    "if(True):\n",
    "    continue\n"
   ]
  },
  {
   "cell_type": "code",
   "execution_count": 32,
   "metadata": {},
   "outputs": [
    {
     "name": "stdout",
     "output_type": "stream",
     "text": [
      "1\n",
      "3\n",
      "4\n",
      "5\n",
      "6\n",
      "7\n",
      "9\n",
      "10\n"
     ]
    }
   ],
   "source": [
    "# continue\n",
    "'''\n",
    "==>>skip the execution all statements after continue at present iteration\n",
    "==>> and then continue next iteration\n",
    "'''\n",
    "# wap print 1 to 10 except 2 and 8\n",
    "\n",
    "for i in range(1,11):\n",
    "    if(i == 2 or i == 8):\n",
    "        continue\n",
    "    print i"
   ]
  },
  {
   "cell_type": "code",
   "execution_count": 34,
   "metadata": {},
   "outputs": [
    {
     "name": "stdout",
     "output_type": "stream",
     "text": [
      "20   22   24   26   28   30   32   34   36   38   40  \n"
     ]
    }
   ],
   "source": [
    "# wap print the even numbers using continue from 20 to 40\n",
    "\n",
    "for i in range(20,41):\n",
    "    if(i%2 != 0):\n",
    "        continue\n",
    "    print i,\" \","
   ]
  },
  {
   "cell_type": "code",
   "execution_count": 35,
   "metadata": {},
   "outputs": [
    {
     "name": "stdout",
     "output_type": "stream",
     "text": [
      "1\n",
      "2\n",
      "3\n",
      "4\n"
     ]
    }
   ],
   "source": [
    "# break\n",
    "'''\n",
    "===>> to terminate the loops\n",
    "\n",
    "'''\n",
    "# wap print 1 to 10 but stop at 5\n",
    "for i in range(1,11):\n",
    "    if(i == 5):\n",
    "        break\n",
    "    print i\n",
    "else:\n",
    "    print \"no more updates \""
   ]
  },
  {
   "cell_type": "code",
   "execution_count": 3,
   "metadata": {},
   "outputs": [
    {
     "name": "stdout",
     "output_type": "stream",
     "text": [
      "enter num : 45\n"
     ]
    }
   ],
   "source": [
    "# wap find the given number is prime or not\n",
    "num = input(\"enter num : \")\n",
    "i = 2\n",
    "while(i < num):\n",
    "    if(num%i == 0):\n",
    "        break\n",
    "    i = i+1\n",
    "else:\n",
    "    print num,\"is prime number\""
   ]
  },
  {
   "cell_type": "code",
   "execution_count": 17,
   "metadata": {},
   "outputs": [],
   "source": [
    "# str\n",
    "# list\n",
    "# tuple\n",
    "# set\n",
    "# dict\n",
    "\n",
    "# 9:45 am  ---->  9:30am"
   ]
  },
  {
   "cell_type": "code",
   "execution_count": 18,
   "metadata": {},
   "outputs": [
    {
     "data": {
      "text/plain": [
       "[0, 1, 2, 3, 4, 5, 6, 7, 8, 9]"
      ]
     },
     "execution_count": 18,
     "metadata": {},
     "output_type": "execute_result"
    }
   ],
   "source": [
    "range(10)"
   ]
  },
  {
   "cell_type": "code",
   "execution_count": 20,
   "metadata": {},
   "outputs": [
    {
     "data": {
      "text/plain": [
       "[1, 2, 3, 4, 5, 6, 7, 8, 9]"
      ]
     },
     "execution_count": 20,
     "metadata": {},
     "output_type": "execute_result"
    }
   ],
   "source": [
    "range(1,10)"
   ]
  },
  {
   "cell_type": "code",
   "execution_count": 21,
   "metadata": {},
   "outputs": [
    {
     "data": {
      "text/plain": [
       "[1, 6, 11, 16, 21, 26, 31, 36, 41, 46, 51, 56, 61, 66, 71, 76, 81, 86, 91, 96]"
      ]
     },
     "execution_count": 21,
     "metadata": {},
     "output_type": "execute_result"
    }
   ],
   "source": [
    "range(1,100,5)"
   ]
  },
  {
   "cell_type": "code",
   "execution_count": 23,
   "metadata": {},
   "outputs": [
    {
     "name": "stdout",
     "output_type": "stream",
     "text": [
      "12\n",
      "45\n",
      "34\n"
     ]
    }
   ],
   "source": [
    "for var  in [12,45,34]:\n",
    "    print var"
   ]
  },
  {
   "cell_type": "code",
   "execution_count": 24,
   "metadata": {},
   "outputs": [
    {
     "name": "stdout",
     "output_type": "stream",
     "text": [
      "0\n",
      "1\n",
      "2\n",
      "3\n",
      "4\n",
      "no more upadtes \n"
     ]
    }
   ],
   "source": [
    "for var in range(5):\n",
    "    print var\n",
    "else:\n",
    "    print \"no more upadtes \""
   ]
  },
  {
   "cell_type": "code",
   "execution_count": 31,
   "metadata": {},
   "outputs": [
    {
     "name": "stdout",
     "output_type": "stream",
     "text": [
      "enter any list [12,45]\n",
      "sum  :  57\n"
     ]
    }
   ],
   "source": [
    "# wap find the sum of elements in seq\n",
    "seq = input(\"enter any list \")\n",
    "sum  =0 \n",
    "for var in seq:\n",
    "    sum =sum +var\n",
    "else:\n",
    "    print \"sum  : \",sum"
   ]
  }
 ],
 "metadata": {
  "kernelspec": {
   "display_name": "Python 2",
   "language": "python",
   "name": "python2"
  },
  "language_info": {
   "codemirror_mode": {
    "name": "ipython",
    "version": 2
   },
   "file_extension": ".py",
   "mimetype": "text/x-python",
   "name": "python",
   "nbconvert_exporter": "python",
   "pygments_lexer": "ipython2",
   "version": "2.7.16"
  }
 },
 "nbformat": 4,
 "nbformat_minor": 2
}
