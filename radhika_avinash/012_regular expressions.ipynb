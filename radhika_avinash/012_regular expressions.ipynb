{
 "cells": [
  {
   "cell_type": "code",
   "execution_count": 4,
   "metadata": {},
   "outputs": [
    {
     "name": "stdout",
     "output_type": "stream",
     "text": [
      "<_sre.SRE_Match object at 0x0000000004CB3510>\n"
     ]
    }
   ],
   "source": [
    "# regular expression\n",
    "'''\n",
    "--.> to extract \n",
    "--->>to replace \n",
    "--->> to delete \n",
    "'''\n",
    "# re module --->>>\n",
    "'''\n",
    "-->> search()\n",
    "-->> match()\n",
    "-->> findall()\n",
    "-->> sub()\n",
    "-->> compile\n",
    "'''\n",
    "####\n",
    "import re\n",
    "tar = \"anjan kumar anil kumar\"\n",
    "print re.search(r'kumar',tar)\n"
   ]
  },
  {
   "cell_type": "code",
   "execution_count": 3,
   "metadata": {},
   "outputs": [
    {
     "name": "stdout",
     "output_type": "stream",
     "text": [
      "None\n"
     ]
    }
   ],
   "source": [
    "import re\n",
    "tar = \"anjan kumar anil kumar\"\n",
    "print re.search(r'kumar1',tar)\n"
   ]
  },
  {
   "cell_type": "code",
   "execution_count": 6,
   "metadata": {},
   "outputs": [
    {
     "name": "stdout",
     "output_type": "stream",
     "text": [
      "<_sre.SRE_Match object at 0x0000000004E14E68>\n"
     ]
    }
   ],
   "source": [
    "import re\n",
    "tar = \"anjan kumar anil kumar\"\n",
    "ptr = re.compile(r'kumar')\n",
    "print ptr.search(tar)\n"
   ]
  },
  {
   "cell_type": "code",
   "execution_count": 7,
   "metadata": {},
   "outputs": [
    {
     "name": "stdout",
     "output_type": "stream",
     "text": [
      "None\n"
     ]
    }
   ],
   "source": [
    "import re\n",
    "tar = \"anjan kumar anil kumar\"\n",
    "ptr = re.compile(r'kumar1')\n",
    "print ptr.search(tar)\n"
   ]
  },
  {
   "cell_type": "code",
   "execution_count": 8,
   "metadata": {},
   "outputs": [
    {
     "name": "stdout",
     "output_type": "stream",
     "text": [
      "None\n"
     ]
    }
   ],
   "source": [
    "import re\n",
    "tar = \"anjan kumar anil kumar\"\n",
    "ptr = re.compile(r'kumar')\n",
    "print ptr.match(tar)\n"
   ]
  },
  {
   "cell_type": "code",
   "execution_count": 9,
   "metadata": {},
   "outputs": [
    {
     "name": "stdout",
     "output_type": "stream",
     "text": [
      "<_sre.SRE_Match object at 0x0000000004E14E00>\n"
     ]
    }
   ],
   "source": [
    "import re\n",
    "tar = \"kumaranjan kumar anil kumar\"\n",
    "ptr = re.compile(r'kumar')\n",
    "print ptr.match(tar)\n"
   ]
  },
  {
   "cell_type": "code",
   "execution_count": 10,
   "metadata": {},
   "outputs": [
    {
     "name": "stdout",
     "output_type": "stream",
     "text": [
      "['kumar', 'kumar']\n"
     ]
    }
   ],
   "source": [
    "import re\n",
    "tar = \"anjan kumar anil kumar\"\n",
    "ptr = re.compile(r'kumar')\n",
    "print ptr.findall(tar)\n"
   ]
  },
  {
   "cell_type": "code",
   "execution_count": 11,
   "metadata": {},
   "outputs": [
    {
     "name": "stdout",
     "output_type": "stream",
     "text": [
      "anjan KUMAR anil KUMAR\n"
     ]
    }
   ],
   "source": [
    "import re\n",
    "tar = \"anjan kumar anil kumar\"\n",
    "ptr = re.compile(r'kumar')\n",
    "print ptr.sub('KUMAR',tar)\n"
   ]
  },
  {
   "cell_type": "code",
   "execution_count": 13,
   "metadata": {},
   "outputs": [
    {
     "name": "stdout",
     "output_type": "stream",
     "text": [
      "['fan', '1an', ' an', '^an']\n"
     ]
    }
   ],
   "source": [
    "#Regular expression special characters\n",
    "'''\n",
    ". --->> match any single character digit/ alphabet/ spcial\n",
    "'''\n",
    "import re\n",
    "var = \"fan ugdg xv1anfbdhfdf anjjhdk^an\"\n",
    "print re.findall('.an',var)"
   ]
  },
  {
   "cell_type": "code",
   "execution_count": 14,
   "metadata": {},
   "outputs": [
    {
     "name": "stdout",
     "output_type": "stream",
     "text": [
      "['1an']\n"
     ]
    }
   ],
   "source": [
    "#Regular expression special characters\n",
    "'''\n",
    "\\d --->> match any single  digit/ \n",
    "'''\n",
    "import re\n",
    "var = \"fan ugdg xv1anfbdhfdf anjjhdk^an\"\n",
    "print re.findall('\\dan',var)"
   ]
  },
  {
   "cell_type": "code",
   "execution_count": 15,
   "metadata": {},
   "outputs": [
    {
     "name": "stdout",
     "output_type": "stream",
     "text": [
      "['fan', ' an', '^an']\n"
     ]
    }
   ],
   "source": [
    "#Regular expression special characters\n",
    "'''\n",
    "\\D --->> match any single  character except digit/ \n",
    "'''\n",
    "import re\n",
    "var = \"fan ugdg xv1anfbdhfdf anjjhdk^an\"\n",
    "print re.findall('\\Dan',var)"
   ]
  },
  {
   "cell_type": "code",
   "execution_count": 16,
   "metadata": {},
   "outputs": [
    {
     "name": "stdout",
     "output_type": "stream",
     "text": [
      "[' an']\n"
     ]
    }
   ],
   "source": [
    "#Regular expression special characters\n",
    "'''\n",
    "\\s --->> match any single space \n",
    "'''\n",
    "import re\n",
    "var = \"fan ugdg xv1anfbdhfdf anjjhdk^an\"\n",
    "print re.findall('\\san',var)"
   ]
  },
  {
   "cell_type": "code",
   "execution_count": 17,
   "metadata": {},
   "outputs": [
    {
     "name": "stdout",
     "output_type": "stream",
     "text": [
      "['fan', '1an', '^an']\n"
     ]
    }
   ],
   "source": [
    "#Regular expression special characters\n",
    "'''\n",
    "\\S --->> match any single chacter except space\n",
    "'''\n",
    "import re\n",
    "var = \"fan ugdg xv1anfbdhfdf anjjhdk^an\"\n",
    "print re.findall('\\San',var)"
   ]
  },
  {
   "cell_type": "code",
   "execution_count": 18,
   "metadata": {},
   "outputs": [
    {
     "name": "stdout",
     "output_type": "stream",
     "text": [
      "['fan', '1an']\n"
     ]
    }
   ],
   "source": [
    "#Regular expression special characters\n",
    "'''\n",
    "\\w --->> match any single digits and alphabet\n",
    "'''\n",
    "import re\n",
    "var = \"fan ugdg xv1anfbdhfdf anjjhdk^an\"\n",
    "print re.findall('\\wan',var)"
   ]
  },
  {
   "cell_type": "code",
   "execution_count": 19,
   "metadata": {},
   "outputs": [
    {
     "name": "stdout",
     "output_type": "stream",
     "text": [
      "[' an', '^an']\n"
     ]
    }
   ],
   "source": [
    "#Regular expression special characters\n",
    "'''\n",
    "\\W --->> match any single spcial character\n",
    "'''\n",
    "import re\n",
    "var = \"fan ugdg xv1anfbdhfdf anjjhdk^an\"\n",
    "print re.findall('\\Wan',var)"
   ]
  },
  {
   "cell_type": "code",
   "execution_count": 20,
   "metadata": {},
   "outputs": [
    {
     "name": "stdout",
     "output_type": "stream",
     "text": [
      "['faaaan', '1aan', ' an', '^n']\n"
     ]
    }
   ],
   "source": [
    "#Regular expression special characters\n",
    "'''\n",
    "* --->> before character repeates 0 or more 0\n",
    "'''\n",
    "import re\n",
    "var = \"faaaan ugdg xv1aanfbdhfdf anjjhdk^n\"\n",
    "print re.findall('.a*n',var)"
   ]
  },
  {
   "cell_type": "code",
   "execution_count": 21,
   "metadata": {},
   "outputs": [
    {
     "name": "stdout",
     "output_type": "stream",
     "text": [
      "['faaaan', '1aan', ' an']\n"
     ]
    }
   ],
   "source": [
    "#Regular expression special characters\n",
    "'''\n",
    "+ --->> before character repeates 1 or more 1\n",
    "'''\n",
    "import re\n",
    "var = \"faaaan ugdg xv1aanfbdhfdf anjjhdk^n\"\n",
    "print re.findall('.a+n',var)"
   ]
  },
  {
   "cell_type": "code",
   "execution_count": 23,
   "metadata": {},
   "outputs": [
    {
     "name": "stdout",
     "output_type": "stream",
     "text": [
      "['aan', 'aan', ' an', '^n']\n"
     ]
    }
   ],
   "source": [
    "#Regular expression special characters\n",
    "'''\n",
    "? --->> before character repeates 0 or 1\n",
    "'''\n",
    "import re\n",
    "var = \"faaaan ugdg xv1aanfbdhfdf anjjhdk^n\"\n",
    "print re.findall('.a?n',var)"
   ]
  },
  {
   "cell_type": "code",
   "execution_count": 31,
   "metadata": {},
   "outputs": [
    {
     "name": "stdout",
     "output_type": "stream",
     "text": [
      "['Aan', ' an']\n"
     ]
    }
   ],
   "source": [
    "#Regular expression special characters\n",
    "'''\n",
    "[group of character 0-9a-zA-Z!@#$$$%^^&&*()_] --->> match singe character from group of characters\n",
    "'''\n",
    "import re\n",
    "var = \"faaAan ugdg xv1aanfbdhfdf anjjhdk^n\"\n",
    "print re.findall('[A-Z 0-9]an',var)"
   ]
  },
  {
   "cell_type": "code",
   "execution_count": null,
   "metadata": {},
   "outputs": [],
   "source": []
  },
  {
   "cell_type": "code",
   "execution_count": 26,
   "metadata": {},
   "outputs": [
    {
     "name": "stdout",
     "output_type": "stream",
     "text": [
      "['aaan', '1aan']\n"
     ]
    }
   ],
   "source": [
    "#Regular expression special characters\n",
    "'''\n",
    "{n} --->> before character repeates exactly n times \n",
    "'''\n",
    "import re\n",
    "var = \"faaaan ugdg xv1aanfbdhfdf anjjhdk^n\"\n",
    "print re.findall('.a{2}n',var)"
   ]
  },
  {
   "cell_type": "code",
   "execution_count": 29,
   "metadata": {},
   "outputs": [
    {
     "name": "stdout",
     "output_type": "stream",
     "text": [
      "['faaaan', '1aan']\n"
     ]
    }
   ],
   "source": [
    "#Regular expression special characters\n",
    "'''\n",
    "{n} --->> before character repeates exactly n times \n",
    "'''\n",
    "import re\n",
    "var = \"faaaan ugdg xv1aanfbdhfdf anjjhdk^n\"\n",
    "print re.findall('.a{2,4}n',var)"
   ]
  },
  {
   "cell_type": "code",
   "execution_count": null,
   "metadata": {},
   "outputs": [],
   "source": [
    "# wap for extact the phone number and mails from file"
   ]
  },
  {
   "cell_type": "code",
   "execution_count": null,
   "metadata": {},
   "outputs": [],
   "source": []
  },
  {
   "cell_type": "code",
   "execution_count": null,
   "metadata": {},
   "outputs": [],
   "source": []
  },
  {
   "cell_type": "code",
   "execution_count": null,
   "metadata": {},
   "outputs": [],
   "source": []
  },
  {
   "cell_type": "code",
   "execution_count": null,
   "metadata": {},
   "outputs": [],
   "source": []
  },
  {
   "cell_type": "code",
   "execution_count": null,
   "metadata": {},
   "outputs": [],
   "source": []
  },
  {
   "cell_type": "code",
   "execution_count": null,
   "metadata": {},
   "outputs": [],
   "source": []
  }
 ],
 "metadata": {
  "kernelspec": {
   "display_name": "Python 2",
   "language": "python",
   "name": "python2"
  },
  "language_info": {
   "codemirror_mode": {
    "name": "ipython",
    "version": 2
   },
   "file_extension": ".py",
   "mimetype": "text/x-python",
   "name": "python",
   "nbconvert_exporter": "python",
   "pygments_lexer": "ipython2",
   "version": "2.7.16"
  }
 },
 "nbformat": 4,
 "nbformat_minor": 2
}
