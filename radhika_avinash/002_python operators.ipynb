{
 "cells": [
  {
   "cell_type": "markdown",
   "metadata": {},
   "source": [
    "### python operator\n",
    "\n",
    "#### operator :-\n",
    "\n",
    "====>>> The symbols which are used for to do the data processing ( operation ) on  data ( operands)\n",
    "\n",
    "### 2 ways  \n",
    "\n",
    "###### 1.  Based on Operands ########\n",
    "\n",
    "1. unary operator \n",
    "\n",
    "====>> A operator  which is operating on single operand\n",
    "\n",
    "2. Binary Operator\n",
    "\n",
    "====>> A operator which is operating on two operands \n",
    "\n",
    "\n",
    "##### 2. Based on Operations #######\n",
    "\n",
    "===>>> Arithmetic Operator\n",
    "\n",
    "===>>> Relational Operator\n",
    "\n",
    "===>>> Logical Operator\n",
    "\n",
    "===>>> Assignment operator\n",
    "\n",
    "===>>> SPecial Operator\n",
    "\n",
    "===>>  Bitwise operator"
   ]
  },
  {
   "cell_type": "code",
   "execution_count": 1,
   "metadata": {},
   "outputs": [
    {
     "name": "stdout",
     "output_type": "stream",
     "text": [
      "-10\n",
      "34\n",
      "False\n",
      "-24\n"
     ]
    }
   ],
   "source": [
    "# unary operator\n",
    "\n",
    "print  -10  # unary minus\n",
    "print +34   # unary plus\n",
    "print not 45 # logical not \n",
    "print ~23  #bitwise not"
   ]
  },
  {
   "cell_type": "code",
   "execution_count": 2,
   "metadata": {},
   "outputs": [
    {
     "name": "stdout",
     "output_type": "stream",
     "text": [
      "101\n",
      "115\n",
      "9\n",
      "1\n"
     ]
    }
   ],
   "source": [
    "# binary operator\n",
    "\n",
    "print 34 + 67 # addition\n",
    "print 23*5\n",
    "print 45/5\n",
    "print 45%4"
   ]
  },
  {
   "cell_type": "code",
   "execution_count": 4,
   "metadata": {},
   "outputs": [
    {
     "name": "stdout",
     "output_type": "stream",
     "text": [
      "enter int : 45\n",
      "enter int : 2\n",
      "47\n",
      "43\n",
      "90\n",
      "2025\n",
      "1\n",
      "enter float : 45.0\n",
      "enter float : 2.0\n",
      "47.0\n",
      "43.0\n",
      "90.0\n",
      "2025.0\n",
      "1.0\n"
     ]
    }
   ],
   "source": [
    "# Arithmetic operator\n",
    "'''\n",
    "==>> addition       +\n",
    "==>> subtraction    -\n",
    "==>> Multiplication  *\n",
    "==>> Division        /\n",
    "==>> Modulus         % \n",
    "==>> exponant        **\n",
    "==>> floor Divsion   //\n",
    "'''\n",
    "a = input(\"enter int : \")\n",
    "b = input(\"enter int : \")\n",
    "print a+b\n",
    "print a-b\n",
    "print a*b\n",
    "print a**b\n",
    "print a%b\n",
    "a = input(\"enter float : \")\n",
    "b = input(\"enter float : \")\n",
    "print a+b\n",
    "print a-b\n",
    "print a*b\n",
    "print a**b\n",
    "print a%b"
   ]
  },
  {
   "cell_type": "code",
   "execution_count": 9,
   "metadata": {},
   "outputs": [
    {
     "name": "stdout",
     "output_type": "stream",
     "text": [
      "enter int : 20\n",
      "enter int : 3\n",
      "6\n",
      "6\n",
      "enter float : 20.0\n",
      "enter float : 3\n",
      "6.66666666667\n",
      "6.0\n"
     ]
    }
   ],
   "source": [
    "a = input(\"enter int : \")\n",
    "b = input(\"enter int : \")\n",
    "print a/b\n",
    "print a//b\n",
    "\n",
    "a = input(\"enter float : \")\n",
    "b = input(\"enter float : \")\n",
    "print a/b\n",
    "print a//b\n"
   ]
  },
  {
   "cell_type": "code",
   "execution_count": 10,
   "metadata": {},
   "outputs": [
    {
     "name": "stdout",
     "output_type": "stream",
     "text": [
      "enter rad of circle in meter:5.5\n",
      "area :  95.0714285714  sq.m\n"
     ]
    }
   ],
   "source": [
    "# wap the find area of circle \n",
    "'''\n",
    "area = pi * (r ** 2)\n",
    "'''\n",
    "pi = 22.0 /7\n",
    "r = input(\"enter rad of circle in meter:\")\n",
    "area = pi*(r**2)\n",
    "print \"area : \",area,\" sq.m\""
   ]
  },
  {
   "cell_type": "code",
   "execution_count": 11,
   "metadata": {},
   "outputs": [],
   "source": [
    "# wap find the area and perimeter of square\n",
    "# wap find the area and perimeter of rectangle\n",
    "# wap find the area and perimter of triangle\n",
    "# wap find the simple intrest\n",
    "# wap find the  area and volume of cube \n",
    "# wap fine the AREA and voulume of cylender\n",
    "# wap convert radians to degrees and   degrees to radians "
   ]
  },
  {
   "cell_type": "code",
   "execution_count": 1,
   "metadata": {},
   "outputs": [
    {
     "name": "stdout",
     "output_type": "stream",
     "text": [
      "enter a : 5\n",
      "enter b : 2\n",
      "False\n"
     ]
    }
   ],
   "source": [
    "#relational operator\n",
    "'''\n",
    "====>>to give the relationship between any 2 operands \n",
    "===>> comparasion operator\n",
    "===>> conditional operator\n",
    "===>> boolean operator\n",
    "'''\n",
    "# there are 6 relationsal \n",
    "'''\n",
    "1. lessthan            <\n",
    "2. greaterthan         >\n",
    "3. equal to            ==\n",
    "4. not equal to        !=\n",
    "5. lessthan or equal to  <=\n",
    "6. greaterthan or equal to   >=\n",
    "'''\n",
    "a = input(\"enter a : \")\n",
    "b = input(\"enter b : \")\n",
    "print a < b"
   ]
  },
  {
   "cell_type": "code",
   "execution_count": 3,
   "metadata": {},
   "outputs": [
    {
     "name": "stdout",
     "output_type": "stream",
     "text": [
      "enter a : 5\n",
      "enter b : 5\n",
      "False\n"
     ]
    }
   ],
   "source": [
    "a = input(\"enter a : \")\n",
    "b = input(\"enter b : \")\n",
    "print a < b"
   ]
  },
  {
   "cell_type": "code",
   "execution_count": 4,
   "metadata": {},
   "outputs": [
    {
     "name": "stdout",
     "output_type": "stream",
     "text": [
      "enter a : 5\n",
      "enter b : 9\n",
      "True\n"
     ]
    }
   ],
   "source": [
    "a = input(\"enter a : \")\n",
    "b = input(\"enter b : \")\n",
    "print a < b"
   ]
  },
  {
   "cell_type": "code",
   "execution_count": 5,
   "metadata": {},
   "outputs": [
    {
     "name": "stdout",
     "output_type": "stream",
     "text": [
      "enter a : 89\n",
      "enter b : 56\n",
      "False\n"
     ]
    }
   ],
   "source": [
    "a = input(\"enter a : \")\n",
    "b = input(\"enter b : \")\n",
    "print a <= b"
   ]
  },
  {
   "cell_type": "code",
   "execution_count": 7,
   "metadata": {},
   "outputs": [
    {
     "name": "stdout",
     "output_type": "stream",
     "text": [
      "enter a : 56\n",
      "enter b : 56\n",
      "True\n"
     ]
    }
   ],
   "source": [
    "a = input(\"enter a : \")\n",
    "b = input(\"enter b : \")\n",
    "print a <= b"
   ]
  },
  {
   "cell_type": "code",
   "execution_count": 9,
   "metadata": {},
   "outputs": [
    {
     "name": "stdout",
     "output_type": "stream",
     "text": [
      "enter a : 56\n",
      "enter b : 89\n",
      "True\n"
     ]
    }
   ],
   "source": [
    "a = input(\"enter a : \")\n",
    "b = input(\"enter b : \")\n",
    "print a <= b"
   ]
  },
  {
   "cell_type": "code",
   "execution_count": 10,
   "metadata": {},
   "outputs": [
    {
     "name": "stdout",
     "output_type": "stream",
     "text": [
      "enter a : 89\n",
      "enter b : 56\n",
      "True\n"
     ]
    }
   ],
   "source": [
    "a = input(\"enter a : \")\n",
    "b = input(\"enter b : \")\n",
    "print a > b"
   ]
  },
  {
   "cell_type": "code",
   "execution_count": 11,
   "metadata": {},
   "outputs": [
    {
     "name": "stdout",
     "output_type": "stream",
     "text": [
      "enter a : 56\n",
      "enter b : 56\n",
      "False\n"
     ]
    }
   ],
   "source": [
    "a = input(\"enter a : \")\n",
    "b = input(\"enter b : \")\n",
    "print a > b"
   ]
  },
  {
   "cell_type": "code",
   "execution_count": 12,
   "metadata": {},
   "outputs": [
    {
     "name": "stdout",
     "output_type": "stream",
     "text": [
      "enter a : 89\n",
      "enter b : 400\n",
      "False\n"
     ]
    }
   ],
   "source": [
    "a = input(\"enter a : \")\n",
    "b = input(\"enter b : \")\n",
    "print a > b"
   ]
  },
  {
   "cell_type": "code",
   "execution_count": 13,
   "metadata": {},
   "outputs": [
    {
     "name": "stdout",
     "output_type": "stream",
     "text": [
      "enter a : 89\n",
      "enter b : 23\n",
      "True\n"
     ]
    }
   ],
   "source": [
    "a = input(\"enter a : \")\n",
    "b = input(\"enter b : \")\n",
    "print a >= b"
   ]
  },
  {
   "cell_type": "code",
   "execution_count": 14,
   "metadata": {},
   "outputs": [
    {
     "name": "stdout",
     "output_type": "stream",
     "text": [
      "enter a : 45\n",
      "enter b : 45\n",
      "True\n"
     ]
    }
   ],
   "source": [
    "a = input(\"enter a : \")\n",
    "b = input(\"enter b : \")\n",
    "print a >= b"
   ]
  },
  {
   "cell_type": "code",
   "execution_count": 17,
   "metadata": {},
   "outputs": [
    {
     "name": "stdout",
     "output_type": "stream",
     "text": [
      "enter a : 89\n",
      "enter b : 500\n",
      "False\n"
     ]
    }
   ],
   "source": [
    "a = input(\"enter a : \")\n",
    "b = input(\"enter b : \")\n",
    "print a >= b"
   ]
  },
  {
   "cell_type": "code",
   "execution_count": 18,
   "metadata": {},
   "outputs": [
    {
     "name": "stdout",
     "output_type": "stream",
     "text": [
      "enter a : 89\n",
      "enter b : 89\n",
      "True\n"
     ]
    }
   ],
   "source": [
    "a = input(\"enter a : \")\n",
    "b = input(\"enter b : \")\n",
    "print a == b"
   ]
  },
  {
   "cell_type": "code",
   "execution_count": 19,
   "metadata": {},
   "outputs": [
    {
     "name": "stdout",
     "output_type": "stream",
     "text": [
      "enter a : 89\n",
      "enter b : 40\n",
      "False\n"
     ]
    }
   ],
   "source": [
    "a = input(\"enter a : \")\n",
    "b = input(\"enter b : \")\n",
    "print a == b"
   ]
  },
  {
   "cell_type": "code",
   "execution_count": 20,
   "metadata": {},
   "outputs": [
    {
     "name": "stdout",
     "output_type": "stream",
     "text": [
      "enter a : 89\n",
      "enter b : 40\n",
      "True\n"
     ]
    }
   ],
   "source": [
    "a = input(\"enter a : \")\n",
    "b = input(\"enter b : \")\n",
    "print a != b"
   ]
  },
  {
   "cell_type": "code",
   "execution_count": 21,
   "metadata": {},
   "outputs": [
    {
     "name": "stdout",
     "output_type": "stream",
     "text": [
      "enter a : 89\n",
      "enter b : 89\n",
      "False\n"
     ]
    }
   ],
   "source": [
    "a = input(\"enter a : \")\n",
    "b = input(\"enter b : \")\n",
    "print a != b"
   ]
  },
  {
   "cell_type": "code",
   "execution_count": 24,
   "metadata": {},
   "outputs": [
    {
     "name": "stdout",
     "output_type": "stream",
     "text": [
      "enter num : 89\n",
      "89  is even :  False\n"
     ]
    }
   ],
   "source": [
    "### wap find the given number is even or not\n",
    "num = input(\"enter num : \")\n",
    "rem = num %2\n",
    "print num,\" is even : \",(rem == 0)"
   ]
  },
  {
   "cell_type": "code",
   "execution_count": 25,
   "metadata": {},
   "outputs": [
    {
     "name": "stdout",
     "output_type": "stream",
     "text": [
      "134\n",
      "134\n",
      "18056\n"
     ]
    }
   ],
   "source": [
    "### Assignment operator   =\n",
    "'''\n",
    "===>> To store the data ( constants , variable, expression) into variable\n",
    "'''\n",
    "var =134  ## constant to variable\n",
    "print var\n",
    "b = var  ## variable to variable\n",
    "print b\n",
    "c = var*b+123-23 ## expression  to variable\n",
    "print c"
   ]
  },
  {
   "cell_type": "code",
   "execution_count": 26,
   "metadata": {},
   "outputs": [
    {
     "name": "stdout",
     "output_type": "stream",
     "text": [
      "15\n",
      "15\n"
     ]
    }
   ],
   "source": [
    "# operation then update\n",
    "a = 10\n",
    "b = 5\n",
    "a = a+b # addition operation then upddate\n",
    "print a\n",
    "a = 10\n",
    "b = 5\n",
    "a += b # addition operation then upddate\n",
    "print a"
   ]
  },
  {
   "cell_type": "code",
   "execution_count": 28,
   "metadata": {},
   "outputs": [
    {
     "name": "stdout",
     "output_type": "stream",
     "text": [
      "-5\n",
      "-5\n"
     ]
    }
   ],
   "source": [
    "a = -10\n",
    "b = 5\n",
    "a = a+b # addition operation then upddate\n",
    "print a\n",
    "a = -10\n",
    "b = 5\n",
    "a += b # addition operation then upddate\n",
    "print a"
   ]
  },
  {
   "cell_type": "code",
   "execution_count": 29,
   "metadata": {},
   "outputs": [
    {
     "name": "stdout",
     "output_type": "stream",
     "text": [
      "5\n",
      "5\n"
     ]
    }
   ],
   "source": [
    "a = 10\n",
    "b = 5\n",
    "a = a-b # subtraction operation then upddate\n",
    "print a\n",
    "a = 10\n",
    "b = 5\n",
    "a -= b # subtraction operation then upddate\n",
    "print a"
   ]
  },
  {
   "cell_type": "code",
   "execution_count": null,
   "metadata": {},
   "outputs": [],
   "source": [
    "# do the all arithmetic operation then update \n",
    "#  * , / , // ,** , %"
   ]
  },
  {
   "cell_type": "code",
   "execution_count": 4,
   "metadata": {},
   "outputs": [
    {
     "name": "stdout",
     "output_type": "stream",
     "text": [
      "True\n",
      "False\n",
      "False\n",
      "True\n"
     ]
    }
   ],
   "source": [
    "# Special Operator[ True / False]\n",
    "'''\n",
    "===>>>  Membership Operator\n",
    "-----------------------------\n",
    "\n",
    "from the  group of elements will go check one specific element is available or not\n",
    "\n",
    "in  :-\n",
    "--------\n",
    "            True  --->> avaialble\n",
    "            False --->> not available\n",
    "            \n",
    "not in :-\n",
    "----------\n",
    "            True  --->> not avaialble\n",
    "            False --->> available\n",
    "            \n",
    "\n",
    "'''\n",
    "a = [12,45,89,23]\n",
    "b = 12\n",
    "c = 100\n",
    "print b in a # True\n",
    "print c in a # False\n",
    "print b not in a # False\n",
    "print c not in a # True"
   ]
  },
  {
   "cell_type": "code",
   "execution_count": 3,
   "metadata": {},
   "outputs": [
    {
     "name": "stdout",
     "output_type": "stream",
     "text": [
      "enter a character : 'A'\n",
      "A  is vowel :  True\n"
     ]
    }
   ],
   "source": [
    "#wap find the given character is vowel or not\n",
    "char = input(\"enter a character : \")\n",
    "vowel = \"aeiouAEIOU\"\n",
    "print char,\" is vowel : \", char in vowel"
   ]
  },
  {
   "cell_type": "code",
   "execution_count": 5,
   "metadata": {},
   "outputs": [
    {
     "name": "stdout",
     "output_type": "stream",
     "text": [
      "enter a character : 'A'\n",
      "A  is Consonant :  False\n"
     ]
    }
   ],
   "source": [
    "# wap given character is consonant\n",
    "char = input(\"enter a character : \")\n",
    "vowel = \"aeiouAEIOU\"\n",
    "print char,\" is Consonant : \", char not in vowel"
   ]
  },
  {
   "cell_type": "code",
   "execution_count": 13,
   "metadata": {},
   "outputs": [
    {
     "name": "stdout",
     "output_type": "stream",
     "text": [
      "80940688\n",
      "80929416\n",
      "False\n",
      "True\n",
      "45314616\n",
      "45314616\n",
      "True\n",
      "False\n"
     ]
    }
   ],
   "source": [
    "# Identity operator\n",
    "'''\n",
    "====>>> To check the both inputs memory loc is same or not\n",
    "\n",
    "is : -\n",
    "\n",
    "        True  --->> same memory\n",
    "        False --->> different \n",
    "    \n",
    "is not :-\n",
    "        True  --->> different \n",
    "        False --->> same\n",
    "'''\n",
    "a =\"[1,2,3]\"\n",
    "b =\"[1,2,3]\"\n",
    "print id(a)\n",
    "print id(b)\n",
    "print a is b  # False\n",
    "print a is not b #True\n",
    "a  = 25\n",
    "b  = 25\n",
    "print id(a)\n",
    "print id(b)\n",
    "print a is b # True\n",
    "print a is not b # False"
   ]
  },
  {
   "cell_type": "code",
   "execution_count": 14,
   "metadata": {},
   "outputs": [
    {
     "name": "stdout",
     "output_type": "stream",
     "text": [
      "False\n",
      "True\n",
      "False\n"
     ]
    }
   ],
   "source": [
    "# logical operator\n",
    "'''\n",
    "===>> logical not  \n",
    "    --------------\n",
    "    input ====>> False case ===>> result ===> True\n",
    "    input ===>>> True case  ===>> result ===> False\n",
    "\n",
    "===>> Logical OR\n",
    "\n",
    "===>> Logical AND\n",
    "\n",
    "'''\n",
    "# int            0---> False   , +ve/+ve ---> True\n",
    "# float          0.00-> False   , +ve/-ve  --> True\n",
    "# complex        0+0j-> False  , otherwise -> True\n",
    "# bool           False-> False , True ------> True\n",
    "# Nonetype       None-----> False\n",
    "\n",
    "#str , list, dict,tuple, set ---> len is 0 --->> False  ,  otherwise --> True\n",
    "\n",
    "print not 56\n",
    "print not {}\n",
    "print not \"  \""
   ]
  },
  {
   "cell_type": "code",
   "execution_count": 15,
   "metadata": {},
   "outputs": [
    {
     "name": "stdout",
     "output_type": "stream",
     "text": [
      "12\n",
      "[4, 5]\n",
      "  \n",
      "456\n"
     ]
    }
   ],
   "source": [
    "# Logical OR ---->>  or\n",
    "'''\n",
    "input1   or  input2  --->>> res --->>( input1 /  input2)\n",
    "\n",
    "===>>> the result of logical or is depends on input1\n",
    "\n",
    "input1 --->> True case  ---->> result ---->> input1\n",
    "input1 --->> False case ---->> resukt ---->> input2\n",
    "\n",
    "'''\n",
    "print 12 or  56  # 12\n",
    "print {} or  [4,5]#[4,5]\n",
    "print \"  \" or \"456\"#\"  \"\n",
    "print \"\" or \"456\"#\"456\""
   ]
  },
  {
   "cell_type": "code",
   "execution_count": 17,
   "metadata": {},
   "outputs": [
    {
     "name": "stdout",
     "output_type": "stream",
     "text": [
      "56\n",
      "{}\n",
      "456\n",
      "\n"
     ]
    }
   ],
   "source": [
    "# Logical AND ---->>  and\n",
    "'''\n",
    "input1   and  input2  --->>> res --->>( input1 /  input2)\n",
    "\n",
    "===>>> the result of logical and is depends on input1\n",
    "\n",
    "input1 --->> True case  ---->> result ---->> input2\n",
    "input1 --->> False case ---->> resukt ---->> input1\n",
    "\n",
    "'''\n",
    "print 12 and  56  # 56\n",
    "print {} and[4,5]# {}\n",
    "print \"  \" and \"456\"#\"456\"\n",
    "print \"\" and \"456\"#\"\""
   ]
  },
  {
   "cell_type": "code",
   "execution_count": 5,
   "metadata": {},
   "outputs": [
    {
     "name": "stdout",
     "output_type": "stream",
     "text": [
      "enter a year : 2003\n",
      "2003  is leap :  False\n"
     ]
    }
   ],
   "source": [
    "# wap find the leap year or not \n",
    "# 1900 --->> False\n",
    "# 2000 ---> True\n",
    "# 2004 ---> True\n",
    "# 2003 ---> False\n",
    "year = input(\"enter a year : \")\n",
    "res = (year %4 == 0  and year%100!=0) or year%400 == 0\n",
    "print year,\" is leap : \",res"
   ]
  },
  {
   "cell_type": "code",
   "execution_count": 12,
   "metadata": {},
   "outputs": [
    {
     "name": "stdout",
     "output_type": "stream",
     "text": [
      "0\n",
      "15\n",
      "15\n",
      "40\n",
      "7\n",
      "-31\n"
     ]
    }
   ],
   "source": [
    "### bitwise operator\n",
    "'''\n",
    "===>>> the operator operating on binary data on your input data\n",
    "steps :\n",
    "1. input data  ----->> binary data\n",
    "2. binary data ----> do the operation\n",
    "3. binary result -->> decimal result\n",
    "'''\n",
    "# bitwise operator\n",
    "'''\n",
    "===>>> bitwise and  &\n",
    "===>>> bitwise or   |\n",
    "===>>> bitwise Xor  ^\n",
    "===>>> bitwise leftshift  <<\n",
    "===>>> bitwise rightshift >>\n",
    "===>>> bitwise not   ~\n",
    "'''\n",
    "print 10 & 5\n",
    "print 10 | 5\n",
    "print 10 ^ 5\n",
    "print 10 << 2\n",
    "print 30>> 2\n",
    "print ~30"
   ]
  },
  {
   "cell_type": "code",
   "execution_count": 15,
   "metadata": {},
   "outputs": [
    {
     "name": "stdout",
     "output_type": "stream",
     "text": [
      "0\n",
      "32\n"
     ]
    }
   ],
   "source": [
    "# bitwise and  &\n",
    "'''\n",
    "ip1  in2  op\n",
    "------------\n",
    "0    0 ---> 0\n",
    "1    0 ---> 0\n",
    "0    1 ---> 0\n",
    "1    1 ---> 1\n",
    "'''\n",
    "print 10 & 5\n",
    "print 48 & 45"
   ]
  },
  {
   "cell_type": "code",
   "execution_count": 17,
   "metadata": {},
   "outputs": [
    {
     "name": "stdout",
     "output_type": "stream",
     "text": [
      "15\n",
      "61\n"
     ]
    }
   ],
   "source": [
    "# bitwise or |\n",
    "'''\n",
    "ip1  in2  op\n",
    "------------\n",
    "0    0 ---> 0\n",
    "1    0 ---> 1\n",
    "0    1 ---> 1\n",
    "1    1 ---> 1\n",
    "'''\n",
    "print 10 | 5 #15\n",
    "print 48 | 45 #61"
   ]
  },
  {
   "cell_type": "code",
   "execution_count": 19,
   "metadata": {},
   "outputs": [
    {
     "name": "stdout",
     "output_type": "stream",
     "text": [
      "15\n",
      "29\n"
     ]
    }
   ],
   "source": [
    "# bitwise Xor ^\n",
    "'''\n",
    "ip1  in2  op\n",
    "------------\n",
    "0    0 ---> 0\n",
    "1    0 ---> 1\n",
    "0    1 ---> 1\n",
    "1    1 ---> 0\n",
    "'''\n",
    "print 10 ^ 5 #15\n",
    "print 48 ^ 45 #29"
   ]
  },
  {
   "cell_type": "code",
   "execution_count": null,
   "metadata": {},
   "outputs": [],
   "source": [
    "### 205  & 78\n",
    "### 78  | 222\n",
    "### 89  ^ 234\n",
    "### 102  & 101\n"
   ]
  },
  {
   "cell_type": "code",
   "execution_count": 1,
   "metadata": {},
   "outputs": [
    {
     "name": "stdout",
     "output_type": "stream",
     "text": [
      "80\n",
      "544\n"
     ]
    }
   ],
   "source": [
    "print 10 << 3\n",
    "print 17 << 5"
   ]
  },
  {
   "cell_type": "code",
   "execution_count": 2,
   "metadata": {},
   "outputs": [
    {
     "name": "stdout",
     "output_type": "stream",
     "text": [
      "1\n",
      "4\n"
     ]
    }
   ],
   "source": [
    "print 10  >> 3\n",
    "print 156 >> 5"
   ]
  },
  {
   "cell_type": "code",
   "execution_count": 4,
   "metadata": {},
   "outputs": [
    {
     "name": "stdout",
     "output_type": "stream",
     "text": [
      "-11\n",
      "-56\n",
      "-102\n"
     ]
    }
   ],
   "source": [
    "print ~10\n",
    "print -56\n",
    "print ~101"
   ]
  },
  {
   "cell_type": "code",
   "execution_count": null,
   "metadata": {},
   "outputs": [],
   "source": [
    "# wap find the given number is even or not using bitwise operator"
   ]
  },
  {
   "cell_type": "code",
   "execution_count": null,
   "metadata": {},
   "outputs": [],
   "source": []
  }
 ],
 "metadata": {
  "kernelspec": {
   "display_name": "Python 2",
   "language": "python",
   "name": "python2"
  },
  "language_info": {
   "codemirror_mode": {
    "name": "ipython",
    "version": 2
   },
   "file_extension": ".py",
   "mimetype": "text/x-python",
   "name": "python",
   "nbconvert_exporter": "python",
   "pygments_lexer": "ipython2",
   "version": "2.7.16"
  }
 },
 "nbformat": 4,
 "nbformat_minor": 2
}
