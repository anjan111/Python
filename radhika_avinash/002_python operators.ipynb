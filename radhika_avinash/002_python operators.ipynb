{
 "cells": [
  {
   "cell_type": "markdown",
   "metadata": {},
   "source": [
    "### python operator\n",
    "\n",
    "#### operator :-\n",
    "\n",
    "====>>> The symbols which are used for to do the data processing ( operation ) on  data ( operands)\n",
    "\n",
    "### 2 ways  \n",
    "\n",
    "###### 1.  Based on Operands ########\n",
    "\n",
    "1. unary operator \n",
    "\n",
    "====>> A operator  which is operating on single operand\n",
    "\n",
    "2. Binary Operator\n",
    "\n",
    "====>> A operator which is operating on two operands \n",
    "\n",
    "\n",
    "##### 2. Based on Operations #######\n",
    "\n",
    "===>>> Arithmetic Operator\n",
    "\n",
    "===>>> Relational Operator\n",
    "\n",
    "===>>> Logical Operator\n",
    "\n",
    "===>>> Assignment operator\n",
    "\n",
    "===>>> SPecial Operator\n",
    "\n",
    "===>>  Bitwise operator"
   ]
  },
  {
   "cell_type": "code",
   "execution_count": 1,
   "metadata": {},
   "outputs": [
    {
     "name": "stdout",
     "output_type": "stream",
     "text": [
      "-10\n",
      "34\n",
      "False\n",
      "-24\n"
     ]
    }
   ],
   "source": [
    "# unary operator\n",
    "\n",
    "print  -10  # unary minus\n",
    "print +34   # unary plus\n",
    "print not 45 # logical not \n",
    "print ~23  #bitwise not"
   ]
  },
  {
   "cell_type": "code",
   "execution_count": 2,
   "metadata": {},
   "outputs": [
    {
     "name": "stdout",
     "output_type": "stream",
     "text": [
      "101\n",
      "115\n",
      "9\n",
      "1\n"
     ]
    }
   ],
   "source": [
    "# binary operator\n",
    "\n",
    "print 34 + 67 # addition\n",
    "print 23*5\n",
    "print 45/5\n",
    "print 45%4"
   ]
  },
  {
   "cell_type": "code",
   "execution_count": 4,
   "metadata": {},
   "outputs": [
    {
     "name": "stdout",
     "output_type": "stream",
     "text": [
      "enter int : 45\n",
      "enter int : 2\n",
      "47\n",
      "43\n",
      "90\n",
      "2025\n",
      "1\n",
      "enter float : 45.0\n",
      "enter float : 2.0\n",
      "47.0\n",
      "43.0\n",
      "90.0\n",
      "2025.0\n",
      "1.0\n"
     ]
    }
   ],
   "source": [
    "# Arithmetic operator\n",
    "'''\n",
    "==>> addition       +\n",
    "==>> subtraction    -\n",
    "==>> Multiplication  *\n",
    "==>> Division        /\n",
    "==>> Modulus         % \n",
    "==>> exponant        **\n",
    "==>> floor Divsion   //\n",
    "'''\n",
    "a = input(\"enter int : \")\n",
    "b = input(\"enter int : \")\n",
    "print a+b\n",
    "print a-b\n",
    "print a*b\n",
    "print a**b\n",
    "print a%b\n",
    "a = input(\"enter float : \")\n",
    "b = input(\"enter float : \")\n",
    "print a+b\n",
    "print a-b\n",
    "print a*b\n",
    "print a**b\n",
    "print a%b"
   ]
  },
  {
   "cell_type": "code",
   "execution_count": 9,
   "metadata": {},
   "outputs": [
    {
     "name": "stdout",
     "output_type": "stream",
     "text": [
      "enter int : 20\n",
      "enter int : 3\n",
      "6\n",
      "6\n",
      "enter float : 20.0\n",
      "enter float : 3\n",
      "6.66666666667\n",
      "6.0\n"
     ]
    }
   ],
   "source": [
    "a = input(\"enter int : \")\n",
    "b = input(\"enter int : \")\n",
    "print a/b\n",
    "print a//b\n",
    "\n",
    "a = input(\"enter float : \")\n",
    "b = input(\"enter float : \")\n",
    "print a/b\n",
    "print a//b\n"
   ]
  },
  {
   "cell_type": "code",
   "execution_count": 10,
   "metadata": {},
   "outputs": [
    {
     "name": "stdout",
     "output_type": "stream",
     "text": [
      "enter rad of circle in meter:5.5\n",
      "area :  95.0714285714  sq.m\n"
     ]
    }
   ],
   "source": [
    "# wap the find area of circle \n",
    "'''\n",
    "area = pi * (r ** 2)\n",
    "'''\n",
    "pi = 22.0 /7\n",
    "r = input(\"enter rad of circle in meter:\")\n",
    "area = pi*(r**2)\n",
    "print \"area : \",area,\" sq.m\""
   ]
  },
  {
   "cell_type": "code",
   "execution_count": 11,
   "metadata": {},
   "outputs": [],
   "source": [
    "# wap find the area and perimeter of square\n",
    "# wap find the area and perimeter of rectangle\n",
    "# wap find the area and perimter of triangle\n",
    "# wap find the simple intrest\n",
    "# wap find the  area and volume of cube \n",
    "# wap fine the AREA and voulume of cylender\n",
    "# wap convert radians to degrees and   degrees to radians "
   ]
  },
  {
   "cell_type": "code",
   "execution_count": null,
   "metadata": {},
   "outputs": [],
   "source": [
    "#relational operator\n",
    "'''\n",
    "====>>to give the relationship between any 2 operands \n",
    "===>> comparasion operator\n",
    "===>> conditional operator\n",
    "===>> boolean operator\n",
    "'''\n",
    "# there are 6 relationsal \n",
    "'''\n",
    "1. lessthan            <\n",
    "2. greaterthan         >\n",
    "3. equal to            ==\n",
    "4. not equal to        !=\n",
    "5. lessthan or equal to  <=\n",
    "6. greaterthan or equal to   >=\n",
    "'''"
   ]
  }
 ],
 "metadata": {
  "kernelspec": {
   "display_name": "Python 2",
   "language": "python",
   "name": "python2"
  },
  "language_info": {
   "codemirror_mode": {
    "name": "ipython",
    "version": 2
   },
   "file_extension": ".py",
   "mimetype": "text/x-python",
   "name": "python",
   "nbconvert_exporter": "python",
   "pygments_lexer": "ipython2",
   "version": "2.7.16"
  }
 },
 "nbformat": 4,
 "nbformat_minor": 2
}
