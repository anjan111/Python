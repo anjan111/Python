{
 "cells": [
  {
   "cell_type": "markdown",
   "metadata": {},
   "source": [
    "#### file\n",
    "\n",
    "--->> It is a document\n",
    "\n",
    "--->> it is a part of the storage device \n",
    "\n",
    "--->> File is a part of the  storage  device it can store only related information\n",
    "\n",
    "#### Type of the files\n",
    "\n",
    "--->> there are  2 types files \n",
    "\n",
    "1. Text files\n",
    "\n",
    "        -->> A file it contains only alpha numarical characters\n",
    "        \n",
    "        -->> easy to write the data and easy to read also\n",
    "        \n",
    "        -->> .txt  / .doc / .ppt / .py / .c ( sourse code files )\n",
    "\n",
    "2. Binary files\n",
    "\n",
    "        -->> A files it contains only   0 & 1\n",
    "        \n",
    "        -->> its deficult to write and read\n",
    "        \n",
    "        -->> all .exe  files / all images / all video files \n",
    "       \n",
    "#### file operations\n",
    "\n",
    "--->> we can open file\n",
    "\n",
    "--->> we can write the daata into the file\n",
    "\n",
    "--->> we can read the data from the file\n",
    "\n",
    "--->> we can close operation\n",
    "\n",
    "#### file operational methods \n",
    "\n",
    "--->> we have one FILE class --->> file object \n",
    "\n",
    "-->> with in the file class only we have all file operational methods \n",
    "\n",
    "        1. write() ---> write the data into the file\n",
    "        \n",
    "        2. read()  ---> read the data from file\n",
    "        \n",
    "        3. close() ---> closing the file\n",
    "        \n",
    "        4. tell()  ---> to know the cursor location\n",
    "        \n",
    "        5. seek()  ---> to changing  the cursor location\n",
    "        \n",
    "        6. readline() ->  at a time we can read only single line\n",
    "        \n",
    "        7. readlines() -> at a time to read all lines \n",
    "        \n",
    "--->>  open() --->> it is a predefined method which is used for to create the file object\n",
    "\n",
    "### syntax :-\n",
    "-------------\n",
    "\n",
    "file_obj = open(\"file name with path \", \"mode\")\n",
    "\n",
    "###### mode  of operations\n",
    "\n",
    "1. write mode\n",
    "        \n",
    "        \"w\" --->> only for writing  / if i try to read then error\n",
    "        \n",
    "        \"w+\" -->> both write and read it\n",
    "        \n",
    "        --->> file can open freshly \n",
    "        \n",
    "        --->> file is not existed then created \n",
    "        \n",
    "        --->> file is existed with some data then delete the data and open freshly\n",
    "\n",
    "2. read mode\n",
    "\n",
    "        \"r\" --->> only for reading \n",
    "        \n",
    "        \"r+\" -->> both read + write\n",
    "        \n",
    "        -->> the file is not existed then its error\n",
    "        \n",
    "        -->> the file is existed with some data then it open with losing the data\n",
    "\n",
    "3. append mode\n",
    "\n",
    "        \"a\" --->> only for writing  / if i try to read then error\n",
    "        \n",
    "        \"a+\" -->> both write and read it\n",
    "        \n",
    "        --->> file is not existed then created \n",
    "        \n",
    "        -->> the file is existed with some data then it open with out lossing the data"
   ]
  },
  {
   "cell_type": "code",
   "execution_count": 1,
   "metadata": {},
   "outputs": [
    {
     "name": "stdout",
     "output_type": "stream",
     "text": [
      "enter some new text : \"i am creating the new file\"\n"
     ]
    }
   ],
   "source": [
    "# write mode with \"w\"\n",
    "\n",
    "file_obj =  open(\"new_write.txt\",\"w\") # file is not existed then creates \n",
    "data = input(\"enter some new text : \")\n",
    "file_obj.write(data)\n",
    "file_obj.close()"
   ]
  },
  {
   "cell_type": "code",
   "execution_count": 2,
   "metadata": {},
   "outputs": [
    {
     "name": "stdout",
     "output_type": "stream",
     "text": [
      "enter some new text : \"i am writing new data with existing file\"\n"
     ]
    }
   ],
   "source": [
    "# write mode with \"w\"\n",
    "\n",
    "file_obj =  open(\"new_write.txt\",\"w\") # file is  existed then the data can lost\n",
    "data = input(\"enter some new text : \")\n",
    "file_obj.write(data)\n",
    "file_obj.close()"
   ]
  },
  {
   "cell_type": "code",
   "execution_count": 3,
   "metadata": {},
   "outputs": [
    {
     "name": "stdout",
     "output_type": "stream",
     "text": [
      "initail file cursor  :  0\n",
      "enter some new text : \"anjankumaranjankumar\"\n",
      "after data write  file cursor  :  20\n",
      "moving the BOF : \n",
      "initail file cursor  :  0\n",
      "moving the BOF : \n",
      "initail file cursor  :  5\n",
      "moving the BOF : \n",
      "initail file cursor  :  10\n",
      "moving the BOF : \n",
      "initail file cursor  :  20\n"
     ]
    }
   ],
   "source": [
    "# write mode with \"w\"\n",
    "\n",
    "file_obj =  open(\"new_write.txt\",\"w\") # file is  existed\n",
    "\n",
    "print \"initail file cursor  : \",file_obj.tell()# 0\n",
    "\n",
    "data = input(\"enter some new text : \")\n",
    "file_obj.write(data)\n",
    "\n",
    "print \"after data write  file cursor  : \",file_obj.tell()# no of character\n",
    "# change the cursor loc to start ogf the file  seek(+ve/-ve ,0/1/2 )\n",
    "\n",
    "print \"moving the BOF : \"\n",
    "file_obj.seek(0,0)\n",
    "\n",
    "print \"initail file cursor  : \",file_obj.tell()# 0\n",
    "\n",
    "print \"moving the BOF : \"\n",
    "file_obj.seek(5,0)\n",
    "\n",
    "print \"initail file cursor  : \",file_obj.tell()# 5\n",
    "\n",
    "print \"moving the BOF : \"\n",
    "file_obj.seek(5,1)\n",
    "\n",
    "print \"initail file cursor  : \",file_obj.tell()# 10\n",
    "\n",
    "print \"moving the BOF : \"\n",
    "file_obj.seek(0,2)\n",
    "\n",
    "print \"initail file cursor  : \",file_obj.tell()# 20\n",
    "\n",
    "\n",
    "file_obj.close()"
   ]
  },
  {
   "cell_type": "code",
   "execution_count": 4,
   "metadata": {},
   "outputs": [
    {
     "name": "stdout",
     "output_type": "stream",
     "text": [
      "initail file cursor  :  0\n",
      "enter some new text : \"123\"\n",
      "after data write  file cursor  :  3\n",
      "moving the BOF : \n",
      "initail file cursor  :  0\n",
      "reading : "
     ]
    },
    {
     "ename": "IOError",
     "evalue": "File not open for reading",
     "output_type": "error",
     "traceback": [
      "\u001b[1;31m---------------------------------------------------------------------------\u001b[0m",
      "\u001b[1;31mIOError\u001b[0m                                   Traceback (most recent call last)",
      "\u001b[1;32m<ipython-input-4-2ac38cb1f948>\u001b[0m in \u001b[0;36m<module>\u001b[1;34m()\u001b[0m\n\u001b[0;32m     14\u001b[0m \u001b[1;32mprint\u001b[0m \u001b[1;34m\"initail file cursor  : \"\u001b[0m\u001b[1;33m,\u001b[0m\u001b[0mfile_obj\u001b[0m\u001b[1;33m.\u001b[0m\u001b[0mtell\u001b[0m\u001b[1;33m(\u001b[0m\u001b[1;33m)\u001b[0m\u001b[1;31m# 0\u001b[0m\u001b[1;33m\u001b[0m\u001b[0m\n\u001b[0;32m     15\u001b[0m \u001b[1;33m\u001b[0m\u001b[0m\n\u001b[1;32m---> 16\u001b[1;33m \u001b[1;32mprint\u001b[0m \u001b[1;34m\"reading : \"\u001b[0m\u001b[1;33m,\u001b[0m \u001b[0mfile_obj\u001b[0m\u001b[1;33m.\u001b[0m\u001b[0mread\u001b[0m\u001b[1;33m(\u001b[0m\u001b[1;33m)\u001b[0m\u001b[1;33m\u001b[0m\u001b[0m\n\u001b[0m\u001b[0;32m     17\u001b[0m \u001b[0mfile_obj\u001b[0m\u001b[1;33m.\u001b[0m\u001b[0mclose\u001b[0m\u001b[1;33m(\u001b[0m\u001b[1;33m)\u001b[0m\u001b[1;33m\u001b[0m\u001b[0m\n",
      "\u001b[1;31mIOError\u001b[0m: File not open for reading"
     ]
    }
   ],
   "source": [
    "# write mode with \"w\"\n",
    "\n",
    "file_obj =  open(\"new_write.txt\",\"w\") # file is  opened only for writing\n",
    "print \"initail file cursor  : \",file_obj.tell()# 0\n",
    "\n",
    "data = input(\"enter some new text : \")\n",
    "file_obj.write(data)\n",
    "\n",
    "print \"after data write  file cursor  : \",file_obj.tell()# no of character\n",
    "# change the cursor loc to start ogf the file  seek(+ve/-ve ,0/1/2 )\n",
    "\n",
    "print \"moving the BOF : \"\n",
    "file_obj.seek(0,0)\n",
    "print \"initail file cursor  : \",file_obj.tell()# 0\n",
    "\n",
    "print \"reading : \", file_obj.read()\n",
    "file_obj.close()"
   ]
  },
  {
   "cell_type": "code",
   "execution_count": 6,
   "metadata": {},
   "outputs": [
    {
     "name": "stdout",
     "output_type": "stream",
     "text": [
      " initail file cursor  :  0\n",
      "enter some new text : \"i am anjan\"\n",
      "after data write  file cursor  :  10\n",
      "moving the BOF : \n",
      "initail file cursor  :  0\n"
     ]
    }
   ],
   "source": [
    "# write mode with \"w+\"\n",
    "\n",
    "file_obj =  open(\"new_write.txt\",\"w+\") # file is  existed\n",
    "print \"initail file cursor  : \",file_obj.tell()# 0\n",
    "\n",
    "data = input(\"enter some new text : \")\n",
    "file_obj.write(data)\n",
    "\n",
    "print \"after data write  file cursor  : \",file_obj.tell()# no of character\n",
    "# change the cursor loc to start ogf the file  seek(+ve/-ve ,0/1/2 )\n",
    "\n",
    "print \"moving the BOF : \"\n",
    "file_obj.seek(0,0)\n",
    "print \"initail file cursor  : \",file_obj.tell()# 0\n",
    "file_obj.close()"
   ]
  },
  {
   "cell_type": "code",
   "execution_count": 5,
   "metadata": {},
   "outputs": [
    {
     "name": "stdout",
     "output_type": "stream",
     "text": [
      " initail file cursor  :  0\n",
      "enter some new text : \"anjan kumar\"\n",
      "after data write  file cursor  :  11\n",
      "moving the BOF : \n",
      "initail file cursor  :  5\n",
      "reading :   kumar\n"
     ]
    }
   ],
   "source": [
    "# write mode with \"w+\"\n",
    "\n",
    "file_obj =  open(\"new_write.txt\",\"w+\") # file is  existed then data can lost\n",
    "\n",
    "print \"initail file cursor  : \",file_obj.tell()# 0\n",
    "\n",
    "data = input(\"enter some new text : \")\n",
    "file_obj.write(data)\n",
    "\n",
    "print \"after data write  file cursor  : \",file_obj.tell()# no of character\n",
    "# change the cursor loc to start ogf the file  seek(+ve/-ve ,0/1/2 )\n",
    "\n",
    "print \"moving the BOF : \"\n",
    "file_obj.seek(5,0)\n",
    "print \"initail file cursor  : \",file_obj.tell()# 0\n",
    "\n",
    "print \"reading : \", file_obj.read()\n",
    "file_obj.close()"
   ]
  },
  {
   "cell_type": "code",
   "execution_count": 1,
   "metadata": {},
   "outputs": [
    {
     "name": "stdout",
     "output_type": "stream",
     "text": [
      "initail file cursor  :  0\n",
      "enter some new text : \"123\"\n",
      "after data write  file cursor  :  14\n",
      "moving the BOF : \n",
      "initail file cursor  :  0\n"
     ]
    }
   ],
   "source": [
    "# append mode --->> a\n",
    "file_obj =  open(\"new_write.txt\",\"a\") # file is  existed the data can safe\n",
    "print \"initail file cursor  : \",file_obj.tell()# 0\n",
    "data = input(\"enter some new text : \")\n",
    "file_obj.write(data)\n",
    "print \"after data write  file cursor  : \",file_obj.tell()# no of character\n",
    "# change the cursor loc to start ogf the file  seek(+ve/-ve ,0/1/2 )\n",
    "print \"moving the BOF : \"\n",
    "file_obj.seek(0,0)\n",
    "print \"initail file cursor  : \",file_obj.tell()# 0\n",
    "#print \"reading : \", file_obj.read()\n",
    "file_obj.close()\n"
   ]
  },
  {
   "cell_type": "code",
   "execution_count": 2,
   "metadata": {},
   "outputs": [
    {
     "name": "stdout",
     "output_type": "stream",
     "text": [
      "initail file cursor  :  0\n",
      "enter some new text : \"123\"\n",
      "after data write  file cursor  :  17\n",
      "moving the BOF : \n",
      "initail file cursor  :  0\n",
      "reading : "
     ]
    },
    {
     "ename": "IOError",
     "evalue": "File not open for reading",
     "output_type": "error",
     "traceback": [
      "\u001b[1;31m---------------------------------------------------------------------------\u001b[0m",
      "\u001b[1;31mIOError\u001b[0m                                   Traceback (most recent call last)",
      "\u001b[1;32m<ipython-input-2-f80570f5b133>\u001b[0m in \u001b[0;36m<module>\u001b[1;34m()\u001b[0m\n\u001b[0;32m      9\u001b[0m \u001b[0mfile_obj\u001b[0m\u001b[1;33m.\u001b[0m\u001b[0mseek\u001b[0m\u001b[1;33m(\u001b[0m\u001b[1;36m0\u001b[0m\u001b[1;33m,\u001b[0m\u001b[1;36m0\u001b[0m\u001b[1;33m)\u001b[0m\u001b[1;33m\u001b[0m\u001b[0m\n\u001b[0;32m     10\u001b[0m \u001b[1;32mprint\u001b[0m \u001b[1;34m\"initail file cursor  : \"\u001b[0m\u001b[1;33m,\u001b[0m\u001b[0mfile_obj\u001b[0m\u001b[1;33m.\u001b[0m\u001b[0mtell\u001b[0m\u001b[1;33m(\u001b[0m\u001b[1;33m)\u001b[0m\u001b[1;31m# 0\u001b[0m\u001b[1;33m\u001b[0m\u001b[0m\n\u001b[1;32m---> 11\u001b[1;33m \u001b[1;32mprint\u001b[0m \u001b[1;34m\"reading : \"\u001b[0m\u001b[1;33m,\u001b[0m \u001b[0mfile_obj\u001b[0m\u001b[1;33m.\u001b[0m\u001b[0mread\u001b[0m\u001b[1;33m(\u001b[0m\u001b[1;33m)\u001b[0m\u001b[1;33m\u001b[0m\u001b[0m\n\u001b[0m\u001b[0;32m     12\u001b[0m \u001b[0mfile_obj\u001b[0m\u001b[1;33m.\u001b[0m\u001b[0mclose\u001b[0m\u001b[1;33m(\u001b[0m\u001b[1;33m)\u001b[0m\u001b[1;33m\u001b[0m\u001b[0m\n",
      "\u001b[1;31mIOError\u001b[0m: File not open for reading"
     ]
    }
   ],
   "source": [
    "# append mode --->> a\n",
    "file_obj =  open(\"new_write.txt\",\"a\") # file is  existed the data can safe\n",
    "print \"initail file cursor  : \",file_obj.tell()# 0\n",
    "data = input(\"enter some new text : \")\n",
    "file_obj.write(data)\n",
    "print \"after data write  file cursor  : \",file_obj.tell()# no of character\n",
    "# change the cursor loc to start ogf the file  seek(+ve/-ve ,0/1/2 )\n",
    "print \"moving the BOF : \"\n",
    "file_obj.seek(0,0)\n",
    "print \"initail file cursor  : \",file_obj.tell()# 0\n",
    "print \"reading : \", file_obj.read()\n",
    "file_obj.close()"
   ]
  },
  {
   "cell_type": "code",
   "execution_count": 3,
   "metadata": {},
   "outputs": [
    {
     "name": "stdout",
     "output_type": "stream",
     "text": [
      " initail file cursor  :  0\n",
      "enter some new text : \"anjan kumar\"\n",
      "after data write  file cursor  :  11\n",
      "moving the BOF : \n",
      "initail file cursor  :  0\n"
     ]
    }
   ],
   "source": [
    "# append mode --->> a\n",
    "file_obj =  open(\"new_write1.txt\",\"a\") # file is not existed then it can create\n",
    "print \"initail file cursor  : \",file_obj.tell()# 0\n",
    "data = input(\"enter some new text : \")\n",
    "file_obj.write(data)\n",
    "print \"after data write  file cursor  : \",file_obj.tell()# no of character\n",
    "# change the cursor loc to start ogf the file  seek(+ve/-ve ,0/1/2 )\n",
    "print \"moving the BOF : \"\n",
    "file_obj.seek(0,0)\n",
    "print \"initail file cursor  : \",file_obj.tell()# 0\n",
    "#print \"reading : \", file_obj.read()\n",
    "file_obj.close()"
   ]
  },
  {
   "cell_type": "code",
   "execution_count": 5,
   "metadata": {},
   "outputs": [
    {
     "name": "stdout",
     "output_type": "stream",
     "text": [
      "initail file cursor  :  0\n",
      "enter some new text : \"aiman\"\n",
      "after data write  file cursor  :  22\n",
      "moving the BOF : \n",
      "initail file cursor  :  0\n",
      "reading :  anjan kumar123123aiman\n"
     ]
    }
   ],
   "source": [
    "# append mode --->> a+\n",
    "file_obj =  open(\"new_write.txt\",\"a+\") # file is  existed the data can safe\n",
    "print \"initail file cursor  : \",file_obj.tell()# 0\n",
    "data = input(\"enter some new text : \")\n",
    "file_obj.write(data)\n",
    "print \"after data write  file cursor  : \",file_obj.tell()# no of character\n",
    "# change the cursor loc to start ogf the file  seek(+ve/-ve ,0/1/2 )\n",
    "print \"moving the BOF : \"\n",
    "file_obj.seek(0,0)\n",
    "print \"initail file cursor  : \",file_obj.tell()# 0\n",
    "print \"reading : \", file_obj.read()\n",
    "file_obj.close()"
   ]
  },
  {
   "cell_type": "code",
   "execution_count": 6,
   "metadata": {},
   "outputs": [
    {
     "name": "stdout",
     "output_type": "stream",
     "text": [
      "initail file cursor  :  0\n",
      "enter some new text : \"123\"\n"
     ]
    },
    {
     "ename": "IOError",
     "evalue": "File not open for writing",
     "output_type": "error",
     "traceback": [
      "\u001b[1;31m---------------------------------------------------------------------------\u001b[0m",
      "\u001b[1;31mIOError\u001b[0m                                   Traceback (most recent call last)",
      "\u001b[1;32m<ipython-input-6-aa80661730dc>\u001b[0m in \u001b[0;36m<module>\u001b[1;34m()\u001b[0m\n\u001b[0;32m      3\u001b[0m \u001b[1;32mprint\u001b[0m \u001b[1;34m\"initail file cursor  : \"\u001b[0m\u001b[1;33m,\u001b[0m\u001b[0mfile_obj\u001b[0m\u001b[1;33m.\u001b[0m\u001b[0mtell\u001b[0m\u001b[1;33m(\u001b[0m\u001b[1;33m)\u001b[0m\u001b[1;31m# 0\u001b[0m\u001b[1;33m\u001b[0m\u001b[0m\n\u001b[0;32m      4\u001b[0m \u001b[0mdata\u001b[0m \u001b[1;33m=\u001b[0m \u001b[0minput\u001b[0m\u001b[1;33m(\u001b[0m\u001b[1;34m\"enter some new text : \"\u001b[0m\u001b[1;33m)\u001b[0m\u001b[1;33m\u001b[0m\u001b[0m\n\u001b[1;32m----> 5\u001b[1;33m \u001b[0mfile_obj\u001b[0m\u001b[1;33m.\u001b[0m\u001b[0mwrite\u001b[0m\u001b[1;33m(\u001b[0m\u001b[0mdata\u001b[0m\u001b[1;33m)\u001b[0m\u001b[1;33m\u001b[0m\u001b[0m\n\u001b[0m\u001b[0;32m      6\u001b[0m \u001b[1;32mprint\u001b[0m \u001b[1;34m\"after data write  file cursor  : \"\u001b[0m\u001b[1;33m,\u001b[0m\u001b[0mfile_obj\u001b[0m\u001b[1;33m.\u001b[0m\u001b[0mtell\u001b[0m\u001b[1;33m(\u001b[0m\u001b[1;33m)\u001b[0m\u001b[1;31m# no of character\u001b[0m\u001b[1;33m\u001b[0m\u001b[0m\n\u001b[0;32m      7\u001b[0m \u001b[1;31m# change the cursor loc to start ogf the file  seek(+ve/-ve ,0/1/2 )\u001b[0m\u001b[1;33m\u001b[0m\u001b[1;33m\u001b[0m\u001b[0m\n",
      "\u001b[1;31mIOError\u001b[0m: File not open for writing"
     ]
    }
   ],
   "source": [
    "# read mode --->> a\n",
    "file_obj =  open(\"new_write.txt\",\"r\") # file is  existed the data can safe\n",
    "print \"initail file cursor  : \",file_obj.tell()# 0\n",
    "data = input(\"enter some new text : \")\n",
    "file_obj.write(data)\n",
    "print \"after data write  file cursor  : \",file_obj.tell()# no of character\n",
    "# change the cursor loc to start ogf the file  seek(+ve/-ve ,0/1/2 )\n",
    "print \"moving the BOF : \"\n",
    "file_obj.seek(0,0)\n",
    "print \"initail file cursor  : \",file_obj.tell()# 0\n",
    "#print \"reading : \", file_obj.read()\n",
    "file_obj.close()"
   ]
  },
  {
   "cell_type": "code",
   "execution_count": 8,
   "metadata": {},
   "outputs": [
    {
     "name": "stdout",
     "output_type": "stream",
     "text": [
      "initail file cursor  :  0\n",
      "reading :  anjan kumar123123aiman\n"
     ]
    }
   ],
   "source": [
    "# read mode --->> r\n",
    "file_obj =  open(\"new_write.txt\",\"r\") # file is  existed the data can safe\n",
    "print \"initail file cursor  : \",file_obj.tell()# 0\n",
    "#data = input(\"enter some new text : \")\n",
    "#file_obj.write(data)\n",
    "#print \"after data write  file cursor  : \",file_obj.tell()# no of character\n",
    "# change the cursor loc to start ogf the file  seek(+ve/-ve ,0/1/2 )\n",
    "#print \"moving the BOF : \"\n",
    "#file_obj.seek(0,0)\n",
    "#print \"initail file cursor  : \",file_obj.tell()# 0\n",
    "print \"reading : \", file_obj.read()\n",
    "file_obj.close()"
   ]
  },
  {
   "cell_type": "code",
   "execution_count": 9,
   "metadata": {},
   "outputs": [
    {
     "ename": "IOError",
     "evalue": "[Errno 2] No such file or directory: 'new_read2.txt'",
     "output_type": "error",
     "traceback": [
      "\u001b[1;31m---------------------------------------------------------------------------\u001b[0m",
      "\u001b[1;31mIOError\u001b[0m                                   Traceback (most recent call last)",
      "\u001b[1;32m<ipython-input-9-d88983b0d945>\u001b[0m in \u001b[0;36m<module>\u001b[1;34m()\u001b[0m\n\u001b[0;32m      1\u001b[0m \u001b[1;31m# read mode --->> a\u001b[0m\u001b[1;33m\u001b[0m\u001b[1;33m\u001b[0m\u001b[0m\n\u001b[1;32m----> 2\u001b[1;33m \u001b[0mfile_obj\u001b[0m \u001b[1;33m=\u001b[0m  \u001b[0mopen\u001b[0m\u001b[1;33m(\u001b[0m\u001b[1;34m\"new_read2.txt\"\u001b[0m\u001b[1;33m,\u001b[0m\u001b[1;34m\"r\"\u001b[0m\u001b[1;33m)\u001b[0m \u001b[1;31m# file is  not existed the data can lost\u001b[0m\u001b[1;33m\u001b[0m\u001b[0m\n\u001b[0m\u001b[0;32m      3\u001b[0m \u001b[1;32mprint\u001b[0m \u001b[1;34m\"initail file cursor  : \"\u001b[0m\u001b[1;33m,\u001b[0m\u001b[0mfile_obj\u001b[0m\u001b[1;33m.\u001b[0m\u001b[0mtell\u001b[0m\u001b[1;33m(\u001b[0m\u001b[1;33m)\u001b[0m\u001b[1;31m# 0\u001b[0m\u001b[1;33m\u001b[0m\u001b[0m\n\u001b[0;32m      4\u001b[0m \u001b[1;31m#data = input(\"enter some new text : \")\u001b[0m\u001b[1;33m\u001b[0m\u001b[1;33m\u001b[0m\u001b[0m\n\u001b[0;32m      5\u001b[0m \u001b[1;31m#file_obj.write(data)\u001b[0m\u001b[1;33m\u001b[0m\u001b[1;33m\u001b[0m\u001b[0m\n",
      "\u001b[1;31mIOError\u001b[0m: [Errno 2] No such file or directory: 'new_read2.txt'"
     ]
    }
   ],
   "source": [
    "# read mode --->> r\n",
    "file_obj =  open(\"new_read2.txt\",\"r\") # file is  not existed the data can lost\n",
    "print \"initail file cursor  : \",file_obj.tell()# 0\n",
    "#data = input(\"enter some new text : \")\n",
    "#file_obj.write(data)\n",
    "#print \"after data write  file cursor  : \",file_obj.tell()# no of character\n",
    "# change the cursor loc to start ogf the file  seek(+ve/-ve ,0/1/2 )\n",
    "#print \"moving the BOF : \"\n",
    "#file_obj.seek(0,0)\n",
    "#print \"initail file cursor  : \",file_obj.tell()# 0\n",
    "print \"reading : \", file_obj.read()\n",
    "file_obj.close()"
   ]
  },
  {
   "cell_type": "code",
   "execution_count": 13,
   "metadata": {},
   "outputs": [
    {
     "name": "stdout",
     "output_type": "stream",
     "text": [
      "initail file cursor  :  0\n",
      "enter some new text : \"\"\n",
      "reading :  anjan kumar123123aiman\n",
      "enter some new text : \"\"\n",
      "after data write  file cursor  :  22\n",
      "moving the BOF : \n",
      "initail file cursor  :  0\n",
      "reading :  anjan kumar123123aiman\n"
     ]
    }
   ],
   "source": [
    "# read mode --->> r+\n",
    "file_obj =  open(\"new_write.txt\",\"r+\") # file is  existed the data can safe\n",
    "print \"initail file cursor  : \",file_obj.tell()# 0\n",
    "data = input(\"enter some new text : \")\n",
    "file_obj.write(data)\n",
    "print \"reading : \", file_obj.read()\n",
    "data = input(\"enter some new text : \")\n",
    "file_obj.write(data)\n",
    "print \"after data write  file cursor  : \",file_obj.tell()# no of character\n",
    "#change the cursor loc to start ogf the file  seek(+ve/-ve ,0/1/2 )\n",
    "print \"moving the BOF : \"\n",
    "file_obj.seek(0,0)\n",
    "print \"initail file cursor  : \",file_obj.tell()# 0\n",
    "print \"reading : \", file_obj.read()\n",
    "file_obj.close()"
   ]
  },
  {
   "cell_type": "code",
   "execution_count": null,
   "metadata": {},
   "outputs": [],
   "source": []
  }
 ],
 "metadata": {
  "kernelspec": {
   "display_name": "Python 2",
   "language": "python",
   "name": "python2"
  },
  "language_info": {
   "codemirror_mode": {
    "name": "ipython",
    "version": 2
   },
   "file_extension": ".py",
   "mimetype": "text/x-python",
   "name": "python",
   "nbconvert_exporter": "python",
   "pygments_lexer": "ipython2",
   "version": "2.7.16"
  }
 },
 "nbformat": 4,
 "nbformat_minor": 2
}
