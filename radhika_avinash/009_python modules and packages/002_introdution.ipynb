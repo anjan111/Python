{
 "cells": [
  {
   "cell_type": "code",
   "execution_count": 2,
   "metadata": {},
   "outputs": [
    {
     "name": "stdout",
     "output_type": "stream",
     "text": [
      "['__builtins__', '__doc__', '__file__', '__name__', '__package__', '__path__', 'fun1', 'fun2', 'fun3', 'fun4', 'fun5', 'fun6', 'mod4', 'mod5', 'mod6']\n"
     ]
    }
   ],
   "source": [
    "import sample_pack\n",
    "print dir(sample_pack)"
   ]
  },
  {
   "cell_type": "code",
   "execution_count": 3,
   "metadata": {},
   "outputs": [
    {
     "name": "stdout",
     "output_type": "stream",
     "text": [
      "mod3 in fun1\n",
      "mod3 in fun2\n",
      "mod2 in fun4\n"
     ]
    }
   ],
   "source": [
    "import sample_pack\n",
    "sample_pack.fun1()\n",
    "sample_pack.fun2()\n",
    "sample_pack.fun4()"
   ]
  },
  {
   "cell_type": "code",
   "execution_count": 4,
   "metadata": {},
   "outputs": [
    {
     "name": "stdout",
     "output_type": "stream",
     "text": [
      "mod3 in fun1\n",
      "mod3 in fun2\n",
      "mod2 in fun4\n"
     ]
    }
   ],
   "source": [
    "import sample_pack as pack\n",
    "pack.fun1()\n",
    "pack.fun2()\n",
    "pack.fun4()"
   ]
  },
  {
   "cell_type": "code",
   "execution_count": 5,
   "metadata": {},
   "outputs": [
    {
     "name": "stdout",
     "output_type": "stream",
     "text": [
      "mod3 in fun1\n",
      "mod3 in fun2\n"
     ]
    },
    {
     "ename": "NameError",
     "evalue": "name 'fun4' is not defined",
     "output_type": "error",
     "traceback": [
      "\u001b[1;31m---------------------------------------------------------------------------\u001b[0m",
      "\u001b[1;31mNameError\u001b[0m                                 Traceback (most recent call last)",
      "\u001b[1;32m<ipython-input-5-7fb38a7b9b13>\u001b[0m in \u001b[0;36m<module>\u001b[1;34m()\u001b[0m\n\u001b[0;32m      2\u001b[0m \u001b[0mfun1\u001b[0m\u001b[1;33m(\u001b[0m\u001b[1;33m)\u001b[0m\u001b[1;33m\u001b[0m\u001b[0m\n\u001b[0;32m      3\u001b[0m \u001b[0mfun2\u001b[0m\u001b[1;33m(\u001b[0m\u001b[1;33m)\u001b[0m\u001b[1;33m\u001b[0m\u001b[0m\n\u001b[1;32m----> 4\u001b[1;33m \u001b[0mfun4\u001b[0m\u001b[1;33m(\u001b[0m\u001b[1;33m)\u001b[0m\u001b[1;33m\u001b[0m\u001b[0m\n\u001b[0m",
      "\u001b[1;31mNameError\u001b[0m: name 'fun4' is not defined"
     ]
    }
   ],
   "source": [
    "from  sample_pack import fun1, fun2\n",
    "fun1()\n",
    "fun2()\n",
    "fun4()"
   ]
  },
  {
   "cell_type": "code",
   "execution_count": 6,
   "metadata": {},
   "outputs": [
    {
     "name": "stdout",
     "output_type": "stream",
     "text": [
      "mod3 in fun1\n",
      "mod3 in fun2\n",
      "mod2 in fun4\n"
     ]
    }
   ],
   "source": [
    "from  sample_pack import *\n",
    "fun1()\n",
    "fun2()\n",
    "fun4()"
   ]
  }
 ],
 "metadata": {
  "kernelspec": {
   "display_name": "Python 2",
   "language": "python",
   "name": "python2"
  },
  "language_info": {
   "codemirror_mode": {
    "name": "ipython",
    "version": 2
   },
   "file_extension": ".py",
   "mimetype": "text/x-python",
   "name": "python",
   "nbconvert_exporter": "python",
   "pygments_lexer": "ipython2",
   "version": "2.7.16"
  }
 },
 "nbformat": 4,
 "nbformat_minor": 2
}
