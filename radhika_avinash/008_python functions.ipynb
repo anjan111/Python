{
 "cells": [
  {
   "cell_type": "code",
   "execution_count": 5,
   "metadata": {},
   "outputs": [
    {
     "name": "stdout",
     "output_type": "stream",
     "text": [
      "anjan\n",
      "anjan\n",
      "anjan\n",
      "anjan\n",
      "anjan\n",
      "anjan\n",
      "anjan\n",
      "anjan\n",
      "anjan\n",
      "anjan\n",
      "******\n",
      "anjan\n",
      "anjan\n",
      "anjan\n",
      "anjan\n",
      "anjan\n",
      "anjan\n",
      "anjan\n",
      "anjan\n",
      "anjan\n",
      "anjan\n",
      "+++++++\n",
      "anjan\n",
      "anjan\n",
      "anjan\n",
      "anjan\n",
      "anjan\n",
      "anjan\n",
      "anjan\n",
      "anjan\n",
      "anjan\n",
      "anjan\n"
     ]
    }
   ],
   "source": [
    "# syntax function defination\n",
    "'''\n",
    "\n",
    "# function defination\n",
    "\n",
    "def  fun_name():\n",
    "    Task\n",
    "\n",
    "# function call --->> to execute the funnction defination\n",
    "fun_name()\n",
    "'''\n",
    "\n",
    "for i in range(10):\n",
    "    print \"anjan\"\n",
    "print \"******\"\n",
    "for i in range(10):\n",
    "    print \"anjan\"\n",
    "print \"+++++++\"\n",
    "for i in range(10):\n",
    "    print \"anjan\""
   ]
  },
  {
   "cell_type": "code",
   "execution_count": 9,
   "metadata": {},
   "outputs": [
    {
     "name": "stdout",
     "output_type": "stream",
     "text": [
      "anjan\n",
      "anjan\n",
      "anjan\n",
      "anjan\n",
      "anjan\n",
      "anjan\n",
      "anjan\n",
      "anjan\n",
      "anjan\n",
      "anjan\n",
      "******\n",
      "anjan\n",
      "anjan\n",
      "anjan\n",
      "anjan\n",
      "anjan\n",
      "anjan\n",
      "anjan\n",
      "anjan\n",
      "anjan\n",
      "anjan\n",
      "++++++\n",
      "anjan\n",
      "anjan\n",
      "anjan\n",
      "anjan\n",
      "anjan\n",
      "anjan\n",
      "anjan\n",
      "anjan\n",
      "anjan\n",
      "anjan\n"
     ]
    }
   ],
   "source": [
    "# anjan function defination\n",
    "def anjan_fun():\n",
    "    for i in range(10):\n",
    "        print \"anjan\"\n",
    "anjan_fun()#function call1\n",
    "print \"******\"\n",
    "anjan_fun()#function call2\n",
    "print \"++++++\"\n",
    "anjan_fun()#function call3"
   ]
  },
  {
   "cell_type": "code",
   "execution_count": 12,
   "metadata": {},
   "outputs": [
    {
     "name": "stdout",
     "output_type": "stream",
     "text": [
      "arg1 :  123\n",
      "arg2 :  123\n",
      "arg3 :  158\n"
     ]
    }
   ],
   "source": [
    "# arguments \n",
    "'''\n",
    "===>> we can send the data from function  call to function defination\n",
    "'''\n",
    "def fun_name(arg1 , arg2, arg3):\n",
    "    print \"arg1 : \", arg1\n",
    "    print \"arg2 : \", arg2\n",
    "    print \"arg3 : \", arg3\n",
    "    \n",
    "var =123\n",
    "fun_name(123, var , 78*2+2)"
   ]
  },
  {
   "cell_type": "code",
   "execution_count": 14,
   "metadata": {},
   "outputs": [
    {
     "name": "stdout",
     "output_type": "stream",
     "text": [
      "hello\n",
      "100\n"
     ]
    }
   ],
   "source": [
    "# return ---->> to send  the data from function defination to function call\n",
    "#  which is used for to terminate the function defination\n",
    "def fun_name():\n",
    "    print \"hello\"\n",
    "    return 100\n",
    "    print \"hai\"\n",
    "a = fun_name()\n",
    "print a"
   ]
  },
  {
   "cell_type": "code",
   "execution_count": null,
   "metadata": {},
   "outputs": [],
   "source": [
    "# waf find the number is prime or not\n",
    "# waf find the no of factors of a number\n",
    "# waf find the given number palidrom"
   ]
  }
 ],
 "metadata": {
  "kernelspec": {
   "display_name": "Python 2",
   "language": "python",
   "name": "python2"
  },
  "language_info": {
   "codemirror_mode": {
    "name": "ipython",
    "version": 2
   },
   "file_extension": ".py",
   "mimetype": "text/x-python",
   "name": "python",
   "nbconvert_exporter": "python",
   "pygments_lexer": "ipython2",
   "version": "2.7.16"
  }
 },
 "nbformat": 4,
 "nbformat_minor": 2
}
