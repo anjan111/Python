{
 "cells": [
  {
   "cell_type": "code",
   "execution_count": 1,
   "metadata": {},
   "outputs": [],
   "source": [
    "# Creating the window\n",
    "from tkinter import *\n",
    "window = Tk()\n",
    "window.title(\"Welcome to GUI Application\")\n",
    "window.mainloop()\n"
   ]
  },
  {
   "cell_type": "code",
   "execution_count": 3,
   "metadata": {},
   "outputs": [],
   "source": [
    "# creating the label on window\n",
    "\n",
    "from tkinter import *\n",
    "window = Tk()\n",
    "window.title(\"Welcome to GUI Application\")\n",
    "\n",
    "lbl = Label(window, text=\"Hello\",font=(\"Arial Bold\", 50))\n",
    "lbl.grid(column=0, row=0)\n",
    "\n",
    "window.mainloop()\n"
   ]
  },
  {
   "cell_type": "code",
   "execution_count": 11,
   "metadata": {},
   "outputs": [],
   "source": [
    "# creating the button on window and display the label\n",
    "import time \n",
    "from tkinter import *\n",
    "window = Tk()\n",
    "window.title(\"Welcome to GUI Application\")\n",
    "window.geometry('350x200')\n",
    "\n",
    "lbl = Label(window, text=\"Hello\")\n",
    "lbl.grid(column=0, row=0)\n",
    "var = 0\n",
    "def event():\n",
    "    global var\n",
    "    var = var+1\n",
    "    lbl.configure(text=str(var)+\"  time Button was clicked !!\")\n",
    "         \n",
    "btn = Button(window, text=\"Click Me\", bg=\"orange\", fg=\"red\",command=event)\n",
    "btn.grid(column=1, row=0)\n",
    "\n",
    "window.mainloop()\n"
   ]
  },
  {
   "cell_type": "code",
   "execution_count": 13,
   "metadata": {},
   "outputs": [],
   "source": [
    "#Get input using Entry class\n",
    "\n",
    "from tkinter import *\n",
    "window = Tk()\n",
    "window.title(\"Welcome to GUI Application\")\n",
    "window.geometry('350x200')\n",
    "\n",
    "lbl = Label(window, text=\"Hello\")\n",
    "lbl.grid(column=0, row=0)\n",
    "\n",
    "txt = Entry(window,width=10)\n",
    "txt.grid(column=1, row=0)\n",
    "\n",
    "\n",
    "def clicked():\n",
    "    res = \"Welcome to \" + txt.get()\n",
    "    lbl.configure(text= res)\n",
    "\n",
    "btn = Button(window, text=\"Click Me\", command=clicked)\n",
    "btn.grid(column=2, row=0)\n",
    "\n",
    "window.mainloop()\n"
   ]
  },
  {
   "cell_type": "code",
   "execution_count": 15,
   "metadata": {},
   "outputs": [
    {
     "name": "stdout",
     "output_type": "stream",
     "text": [
      "Welcome to 5\n",
      "Welcome to 2\n"
     ]
    }
   ],
   "source": [
    "#combo box\n",
    "from tkinter import *\n",
    "from tkinter.ttk import *\n",
    "window = Tk()\n",
    "window.title(\"Welcome to GUI app\")\n",
    "window.geometry('350x200')\n",
    "\n",
    "lbl = Label(window, text=\"Hello\")\n",
    "lbl.grid(column=0, row=1)\n",
    "\n",
    "combo = Combobox(window)\n",
    "combo['values']= (1, 2, 3, 4, 5, \"Text\")\n",
    "combo.current() #set the selected item\n",
    "combo.grid(column=0, row=0)\n",
    "\n",
    "def clicked():\n",
    "        res = \"Welcome to \" + combo.get()\n",
    "        print(res)\n",
    "        lbl.configure(text= res)\n",
    "        \n",
    "btn = Button(window, text=\"Click Me\", command=clicked)\n",
    "btn.grid(column=2, row=0)\n",
    "window.mainloop()\n"
   ]
  },
  {
   "cell_type": "code",
   "execution_count": 17,
   "metadata": {},
   "outputs": [
    {
     "name": "stdout",
     "output_type": "stream",
     "text": [
      "True\n",
      "False\n",
      "True\n"
     ]
    }
   ],
   "source": [
    "#Check Box:\n",
    "from tkinter import *\n",
    "from tkinter.ttk import *\n",
    "window = Tk()\n",
    "window.title(\"Welcome to GUI app\")\n",
    "window.geometry('350x200')\n",
    "\n",
    "chk_state = BooleanVar()\n",
    "chk_state.set(True) #set check state\n",
    "\n",
    "chk = Checkbutton(window, text='Choose', var=chk_state)\n",
    "chk.grid(column=0, row=0)\n",
    "\n",
    "def clicked():\n",
    "    print(chk_state.get())\n",
    "        \n",
    "btn = Button(window, text=\"Click Me\", command=clicked)\n",
    "btn.grid(column=2, row=0)\n",
    "\n",
    "window.mainloop()\n"
   ]
  },
  {
   "cell_type": "code",
   "execution_count": 18,
   "metadata": {},
   "outputs": [
    {
     "name": "stdout",
     "output_type": "stream",
     "text": [
      "1\n",
      "2\n",
      "3\n"
     ]
    }
   ],
   "source": [
    "from tkinter import *\n",
    "from tkinter.ttk import *\n",
    "window = Tk()\n",
    "window.title(\"Welcome to LikeGeeks app\")\n",
    "\n",
    "selected = IntVar()\n",
    "\n",
    "rad1 = Radiobutton(window,text='First', value=1, variable=selected)\n",
    "rad2 = Radiobutton(window,text='Second', value=2, variable=selected)\n",
    "rad3 = Radiobutton(window,text='Third', value=3, variable=selected)\n",
    "\n",
    "def clicked():\n",
    "    print(selected.get())\n",
    "\n",
    "btn = Button(window, text=\"Click Me\", command=clicked)\n",
    "\n",
    "rad1.grid(column=0, row=0)\n",
    "rad2.grid(column=1, row=0)\n",
    "rad3.grid(column=2, row=0)\n",
    "btn.grid(column=3, row=0)\n",
    "window.mainloop()\n"
   ]
  },
  {
   "cell_type": "code",
   "execution_count": null,
   "metadata": {},
   "outputs": [],
   "source": []
  }
 ],
 "metadata": {
  "kernelspec": {
   "display_name": "Python 2",
   "language": "python",
   "name": "python2"
  },
  "language_info": {
   "codemirror_mode": {
    "name": "ipython",
    "version": 2
   },
   "file_extension": ".py",
   "mimetype": "text/x-python",
   "name": "python",
   "nbconvert_exporter": "python",
   "pygments_lexer": "ipython2",
   "version": "2.7.16"
  }
 },
 "nbformat": 4,
 "nbformat_minor": 2
}
