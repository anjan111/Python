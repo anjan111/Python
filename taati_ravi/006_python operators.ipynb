{
 "cells": [
  {
   "cell_type": "code",
   "execution_count": 1,
   "metadata": {},
   "outputs": [
    {
     "name": "stdout",
     "output_type": "stream",
     "text": [
      "-10\n",
      "34.24\n",
      "False\n",
      "-24\n"
     ]
    }
   ],
   "source": [
    "# unary operator\n",
    "print  -10\n",
    "print +34.24\n",
    "print not 56\n",
    "print ~ 23"
   ]
  },
  {
   "cell_type": "code",
   "execution_count": 2,
   "metadata": {},
   "outputs": [
    {
     "name": "stdout",
     "output_type": "stream",
     "text": [
      "33\n",
      "408\n",
      "11\n"
     ]
    }
   ],
   "source": [
    "# Binary operator\n",
    "print 10 + 23\n",
    "print 12*34\n",
    "print 23-12"
   ]
  },
  {
   "cell_type": "markdown",
   "metadata": {},
   "source": [
    "# arithmetic operator\n",
    "\n",
    "===>>> addition   +\n",
    "\n",
    "===>>> subtractio -\n",
    "\n",
    "===>>  multiplication  *\n",
    "\n",
    "===>> reminder     % ( modulus)\n",
    "\n",
    "===>> quo    /  <---- normal devision \n",
    "\n",
    "===>> floor devision    //\n",
    "\n",
    "===>> exponant ===>> power  ===>>   **\n",
    "\n"
   ]
  },
  {
   "cell_type": "code",
   "execution_count": 3,
   "metadata": {},
   "outputs": [
    {
     "name": "stdout",
     "output_type": "stream",
     "text": [
      "enter int : 11\n",
      "enter int : 2\n",
      "13\n",
      "9\n",
      "22\n",
      "121\n",
      "1\n"
     ]
    }
   ],
   "source": [
    "a = input(\"enter int : \")\n",
    "b = input(\"enter int : \")\n",
    "print a+b\n",
    "print a -b\n",
    "print a* b\n",
    "print a**b\n",
    "print a % b"
   ]
  },
  {
   "cell_type": "code",
   "execution_count": 4,
   "metadata": {},
   "outputs": [
    {
     "name": "stdout",
     "output_type": "stream",
     "text": [
      "enter float : 11.0\n",
      "enter flaot : 2.0\n",
      "13.0\n",
      "9.0\n",
      "22.0\n",
      "121.0\n",
      "1.0\n"
     ]
    }
   ],
   "source": [
    "a = input(\"enter float : \")\n",
    "b = input(\"enter flaot : \")\n",
    "print a+b\n",
    "print a -b\n",
    "print a* b\n",
    "print a**b\n",
    "print a % b"
   ]
  },
  {
   "cell_type": "code",
   "execution_count": 5,
   "metadata": {},
   "outputs": [
    {
     "name": "stdout",
     "output_type": "stream",
     "text": [
      "enter int : 11\n",
      "enter int : 2\n",
      "5\n",
      "5\n"
     ]
    }
   ],
   "source": [
    "a = input(\"enter int : \")\n",
    "b = input(\"enter int : \")\n",
    "print a/b\n",
    "print a //b\n"
   ]
  },
  {
   "cell_type": "code",
   "execution_count": 6,
   "metadata": {},
   "outputs": [
    {
     "name": "stdout",
     "output_type": "stream",
     "text": [
      "enter float : 11.0\n",
      "enter float : 2.0\n",
      "5.5\n",
      "5.0\n"
     ]
    }
   ],
   "source": [
    "a = input(\"enter float : \")\n",
    "b = input(\"enter float : \")\n",
    "print a/b\n",
    "print a //b\n"
   ]
  },
  {
   "cell_type": "code",
   "execution_count": 7,
   "metadata": {},
   "outputs": [
    {
     "name": "stdout",
     "output_type": "stream",
     "text": [
      "enter side in meter : 5.5\n",
      "area of of square  30.25  sq meter\n"
     ]
    }
   ],
   "source": [
    "#  wap find the area of square \n",
    "side = input(\"enter side in meter : \")\n",
    "area = side ** 2\n",
    "print \"area of of square \",area,\" sq meter\""
   ]
  },
  {
   "cell_type": "code",
   "execution_count": 9,
   "metadata": {},
   "outputs": [
    {
     "name": "stdout",
     "output_type": "stream",
     "text": [
      "enter name : \"anjan\"\n",
      "enter no of time : 5\n",
      "anjananjananjananjananjan\n",
      "anjankumar\n"
     ]
    }
   ],
   "source": [
    "# wap print your name 10 times continuesly\n",
    "name = input(\"enter name : \")\n",
    "N  = input(\"enter no of time : \")\n",
    "print name * N\n",
    "print name + \"kumar\""
   ]
  },
  {
   "cell_type": "code",
   "execution_count": null,
   "metadata": {},
   "outputs": [],
   "source": [
    "# wap find the simplle interst and total amount \n",
    "\n",
    "# wap find the area and volume of a cude "
   ]
  },
  {
   "cell_type": "markdown",
   "metadata": {},
   "source": [
    "# Relational operator\n",
    "\n",
    "===>> to compare the any 2 opearnds --->> comparision operator\n",
    "\n",
    "===>> we can use as a conditions   ---->> conditional operator\n",
    "\n",
    "===>> the result of relational   ===>> True/ False -->> boolean operator\n",
    "\n",
    "===>>  lessthan    <\n",
    "\n",
    "===>>  greaterthan   >\n",
    "\n",
    "===>> equal too   ==\n",
    "\n",
    "===>> not equal to  !=\n",
    "\n",
    "===>> lessthan or equal too    <=\n",
    "\n",
    "===>>> greaterthan or equalto   >=\n"
   ]
  },
  {
   "cell_type": "code",
   "execution_count": 11,
   "metadata": {},
   "outputs": [
    {
     "name": "stdout",
     "output_type": "stream",
     "text": [
      "enter int : 5\n",
      "enter int : 5\n",
      "False\n",
      "False\n",
      "True\n",
      "True\n",
      "True\n",
      "False\n"
     ]
    }
   ],
   "source": [
    "a = input(\"enter int : \")\n",
    "b = input(\"enter int : \")\n",
    "print a < b\n",
    "print a > b\n",
    "print a <= b\n",
    "print a >=b\n",
    "print a == b\n",
    "print a != b\n"
   ]
  },
  {
   "cell_type": "code",
   "execution_count": 12,
   "metadata": {},
   "outputs": [
    {
     "name": "stdout",
     "output_type": "stream",
     "text": [
      "enter complex : 8+2j\n",
      "enter complex : 8+3j\n"
     ]
    },
    {
     "ename": "TypeError",
     "evalue": "no ordering relation is defined for complex numbers",
     "output_type": "error",
     "traceback": [
      "\u001b[1;31m---------------------------------------------------------------------------\u001b[0m",
      "\u001b[1;31mTypeError\u001b[0m                                 Traceback (most recent call last)",
      "\u001b[1;32m<ipython-input-12-6b96082e38ab>\u001b[0m in \u001b[0;36m<module>\u001b[1;34m()\u001b[0m\n\u001b[0;32m      1\u001b[0m \u001b[0ma\u001b[0m \u001b[1;33m=\u001b[0m \u001b[0minput\u001b[0m\u001b[1;33m(\u001b[0m\u001b[1;34m\"enter complex : \"\u001b[0m\u001b[1;33m)\u001b[0m\u001b[1;33m\u001b[0m\u001b[0m\n\u001b[0;32m      2\u001b[0m \u001b[0mb\u001b[0m \u001b[1;33m=\u001b[0m \u001b[0minput\u001b[0m\u001b[1;33m(\u001b[0m\u001b[1;34m\"enter complex : \"\u001b[0m\u001b[1;33m)\u001b[0m\u001b[1;33m\u001b[0m\u001b[0m\n\u001b[1;32m----> 3\u001b[1;33m \u001b[1;32mprint\u001b[0m \u001b[0ma\u001b[0m \u001b[1;33m<\u001b[0m \u001b[0mb\u001b[0m\u001b[1;33m\u001b[0m\u001b[0m\n\u001b[0m\u001b[0;32m      4\u001b[0m \u001b[1;32mprint\u001b[0m \u001b[0ma\u001b[0m \u001b[1;33m>\u001b[0m \u001b[0mb\u001b[0m\u001b[1;33m\u001b[0m\u001b[0m\n\u001b[0;32m      5\u001b[0m \u001b[1;32mprint\u001b[0m \u001b[0ma\u001b[0m \u001b[1;33m<=\u001b[0m \u001b[0mb\u001b[0m\u001b[1;33m\u001b[0m\u001b[0m\n",
      "\u001b[1;31mTypeError\u001b[0m: no ordering relation is defined for complex numbers"
     ]
    }
   ],
   "source": [
    "a = input(\"enter complex : \")\n",
    "b = input(\"enter complex : \")\n",
    "print a < b\n",
    "print a > b\n",
    "print a <= b\n",
    "print a >=b\n",
    "print a == b\n",
    "print a != b\n"
   ]
  },
  {
   "cell_type": "markdown",
   "metadata": {},
   "source": [
    "# Assignment operator   =\n",
    "\n",
    "===>> To assign the data ( constant / variable / expression ) to a variable\n",
    "\n"
   ]
  },
  {
   "cell_type": "code",
   "execution_count": 13,
   "metadata": {},
   "outputs": [
    {
     "name": "stdout",
     "output_type": "stream",
     "text": [
      "10\n"
     ]
    }
   ],
   "source": [
    "a = 10 # constant to variable\n",
    "print a\n"
   ]
  },
  {
   "cell_type": "code",
   "execution_count": 14,
   "metadata": {},
   "outputs": [
    {
     "name": "stdout",
     "output_type": "stream",
     "text": [
      "10\n",
      "10\n"
     ]
    }
   ],
   "source": [
    "a = 10 # constant to variable\n",
    "b = a  # variable to variable\n",
    "print a\n",
    "print b\n"
   ]
  },
  {
   "cell_type": "code",
   "execution_count": 15,
   "metadata": {},
   "outputs": [
    {
     "name": "stdout",
     "output_type": "stream",
     "text": [
      "10\n",
      "814\n"
     ]
    }
   ],
   "source": [
    "a = 10 # constant to variable\n",
    "b = 78*a+34# expression to variable\n",
    "print a\n",
    "print b\n"
   ]
  },
  {
   "cell_type": "code",
   "execution_count": 16,
   "metadata": {},
   "outputs": [
    {
     "name": "stdout",
     "output_type": "stream",
     "text": [
      "30\n",
      "30\n"
     ]
    }
   ],
   "source": [
    "# compound assignment   ===>>>operation then update\n",
    "a = 10\n",
    "b = 20 \n",
    "a = a+b# addition then update \n",
    "print a\n",
    "a = 10\n",
    "b = 20 \n",
    "a += b# addition then update \n",
    "print a"
   ]
  },
  {
   "cell_type": "code",
   "execution_count": 17,
   "metadata": {},
   "outputs": [
    {
     "name": "stdout",
     "output_type": "stream",
     "text": [
      "-10\n",
      "-10\n"
     ]
    }
   ],
   "source": [
    "a = 10\n",
    "b = 20 \n",
    "a = a-b# suntraction then update \n",
    "print a\n",
    "a = 10\n",
    "b = 20 \n",
    "a -= b# suntraction then update \n",
    "print a"
   ]
  },
  {
   "cell_type": "code",
   "execution_count": 18,
   "metadata": {},
   "outputs": [],
   "source": [
    "# int --->>   False --->> 0   ,   +ve/ -ve  --->> True\n",
    "# float -->>  False --->>0.0  ,   +ve /-ve  --->> True\n",
    "# complex-->> False --->> 0+0j ,  otherwise --->> True\n",
    "# None  ---->> False\n",
    "#str,list, tuple,set,dict --->> len --> 0 ---> False\n",
    "#                               len  --> non zero  -->True"
   ]
  },
  {
   "cell_type": "markdown",
   "metadata": {},
   "source": [
    "# logical operator\n",
    "\n",
    "# logical not   ===>>> not\n",
    "\n",
    "#  if input is  True case ===>> then output is False\n",
    "\n",
    "# if input is False case ===>> then outpur is True"
   ]
  },
  {
   "cell_type": "code",
   "execution_count": 21,
   "metadata": {},
   "outputs": [
    {
     "name": "stdout",
     "output_type": "stream",
     "text": [
      "False\n",
      "True\n",
      "False\n",
      "True\n"
     ]
    }
   ],
   "source": [
    "print not 56\n",
    "print not {}\n",
    "print not \" \"\n",
    "print not \"\""
   ]
  },
  {
   "cell_type": "code",
   "execution_count": 2,
   "metadata": {},
   "outputs": [
    {
     "name": "stdout",
     "output_type": "stream",
     "text": [
      "78\n",
      "{}\n",
      "90\n"
     ]
    }
   ],
   "source": [
    "# logical AND   ====>>> and\n",
    "'''\n",
    "===>>which is depends on 1st input\n",
    "\n",
    "1st input ---->> True case ---->> res  --->>> 2nd input\n",
    "1st input --->>> False case --->> res   --->>> 1st input\n",
    "'''\n",
    "print 34 and 78 #78\n",
    "print {} and [] #{}\n",
    "print 0+4j and 90#90"
   ]
  },
  {
   "cell_type": "code",
   "execution_count": null,
   "metadata": {},
   "outputs": [],
   "source": []
  },
  {
   "cell_type": "code",
   "execution_count": 3,
   "metadata": {},
   "outputs": [
    {
     "name": "stdout",
     "output_type": "stream",
     "text": [
      "34\n",
      "[]\n",
      "4j\n"
     ]
    }
   ],
   "source": [
    "# LOgical OR  ====>>>> or\n",
    "'''\n",
    "===>>which is depends on 1st input\n",
    "\n",
    "1st input ---->>False case ---->> res  --->>> 2nd input\n",
    "1st input --->>> True case --->> res   --->>> 1st input\n",
    "'''\n",
    "print 34 or 78 #34\n",
    "print {} or [] #[]\n",
    "print 0+4j or 90  #4j"
   ]
  },
  {
   "cell_type": "code",
   "execution_count": 8,
   "metadata": {},
   "outputs": [
    {
     "name": "stdout",
     "output_type": "stream",
     "text": [
      "True\n",
      "False\n",
      "False\n",
      "True\n"
     ]
    }
   ],
   "source": [
    "# special operator\n",
    "'''\n",
    "===>>> membership operator\n",
    "=============================\n",
    "\n",
    "====>>>  A perticular element is available \n",
    "\n",
    "            in : ==>> True --->> when elment is avaiable\n",
    "                 ==>> False -->> when element is not avaialble\n",
    "\n",
    "            not in  ==>> False --> when elment is avaiable\n",
    "                    ==>> True  -->>when element is not avaialble\n",
    "\n",
    "\n",
    "===>>> identity operator\n",
    "'''\n",
    "print 67  in [ 12,67,90]\n",
    "print 89 in (90,23,7)\n",
    "print 67  not in [ 12,67,90]\n",
    "print 89 not in (90,23,7)"
   ]
  },
  {
   "cell_type": "code",
   "execution_count": 11,
   "metadata": {},
   "outputs": [
    {
     "name": "stdout",
     "output_type": "stream",
     "text": [
      "[1, 2, 3]\n",
      "[1, 2, 3]\n",
      "[1, 2, 3]\n",
      "71195720\n",
      "71195720\n",
      "71824008\n",
      "True\n",
      "False\n",
      "False\n",
      "True\n"
     ]
    }
   ],
   "source": [
    "#===>>> identity operator\n",
    "'''\n",
    "    ===>> to check the memory loc is same or not\n",
    "    is ===>> True =--->> memory  same \n",
    "             False ---->> different \n",
    "             \n",
    "    is not ===>> False --->> same memory\n",
    "                True ---->> different \n",
    "'''\n",
    "a = [1,2,3]\n",
    "b = [1,2,3]\n",
    "c = a\n",
    "print a\n",
    "print b\n",
    "print c\n",
    "print id(a)\n",
    "print id(c)\n",
    "print id(b)\n",
    "print a is c # True\n",
    "print a is not c # False\n",
    "print a is b # False\n",
    "print a is not b # True"
   ]
  },
  {
   "cell_type": "code",
   "execution_count": 19,
   "metadata": {},
   "outputs": [
    {
     "name": "stdout",
     "output_type": "stream",
     "text": [
      "8\n",
      "11\n",
      "9\n"
     ]
    }
   ],
   "source": [
    "# bitwise operator\n",
    "'''\n",
    "===>> bitwise and   &\n",
    "===>> bitwise or    |\n",
    "===>> bitwise not   ~\n",
    "===>> bitwise leftshift  <<\n",
    "===>> bitwise rightshift >>\n",
    "===>> bitwise XOR    ^\n",
    "'''\n",
    "# process of bitwise operation\n",
    "'''\n",
    "===>>. convert decimal input  ----->> binary input\n",
    "===>>   do the operation -->> result is binary data\n",
    "===>>  conert binary to decimal \n",
    "'''\n",
    "print 10 & 12\n",
    "print 10 | 3\n",
    "print 10 ^ 3"
   ]
  },
  {
   "cell_type": "code",
   "execution_count": 20,
   "metadata": {},
   "outputs": [
    {
     "name": "stdout",
     "output_type": "stream",
     "text": [
      "9\n"
     ]
    }
   ],
   "source": [
    "# XOR\n",
    "'''\n",
    "1  1 ===>> 0\n",
    " 0  0 ===>> 0\n",
    " 1  0 ====>> 1\n",
    " 0  1 ====>>>1\n",
    "\n",
    "1 0 1 0\n",
    "0 0 1 1\n",
    "-------\n",
    "1 0 0 1\n",
    "8+ 0+ 0+ 1===>> 9\n",
    "'''\n",
    "print 10 ^ 3"
   ]
  },
  {
   "cell_type": "code",
   "execution_count": 18,
   "metadata": {},
   "outputs": [
    {
     "name": "stdout",
     "output_type": "stream",
     "text": [
      "0b1010\n",
      "0b11\n"
     ]
    }
   ],
   "source": [
    "print bin(10)\n",
    "print bin(3)\n"
   ]
  },
  {
   "cell_type": "code",
   "execution_count": null,
   "metadata": {},
   "outputs": [],
   "source": [
    "1 0  1  0\n",
    "0 0  1  1\n",
    "-----------\n",
    "1 0  1   1\n",
    "-----------\n",
    "8 +0 +2+1====>>> 11"
   ]
  },
  {
   "cell_type": "code",
   "execution_count": 15,
   "metadata": {},
   "outputs": [
    {
     "name": "stdout",
     "output_type": "stream",
     "text": [
      "0b1010\n",
      "0b1100\n"
     ]
    }
   ],
   "source": [
    "print bin(10)\n",
    "print bin(12)"
   ]
  },
  {
   "cell_type": "code",
   "execution_count": 16,
   "metadata": {},
   "outputs": [
    {
     "data": {
      "text/plain": [
       "8"
      ]
     },
     "execution_count": 16,
     "metadata": {},
     "output_type": "execute_result"
    }
   ],
   "source": [
    "int(0b1000)"
   ]
  },
  {
   "cell_type": "code",
   "execution_count": 2,
   "metadata": {},
   "outputs": [
    {
     "name": "stdout",
     "output_type": "stream",
     "text": [
      "80\n",
      "320\n"
     ]
    }
   ],
   "source": [
    "# bitwise leftshift\n",
    "print 10  << 3\n",
    "print 20 << 4"
   ]
  },
  {
   "cell_type": "code",
   "execution_count": 6,
   "metadata": {},
   "outputs": [
    {
     "name": "stdout",
     "output_type": "stream",
     "text": [
      "2\n",
      "7\n"
     ]
    }
   ],
   "source": [
    "# right shift\n",
    "print 20 >> 3\n",
    "print 123 >> 4"
   ]
  },
  {
   "cell_type": "code",
   "execution_count": null,
   "metadata": {},
   "outputs": [],
   "source": []
  },
  {
   "cell_type": "code",
   "execution_count": 4,
   "metadata": {},
   "outputs": [
    {
     "data": {
      "text/plain": [
       "'0b1111011'"
      ]
     },
     "execution_count": 4,
     "metadata": {},
     "output_type": "execute_result"
    }
   ],
   "source": [
    "bin(123)"
   ]
  },
  {
   "cell_type": "code",
   "execution_count": 5,
   "metadata": {},
   "outputs": [
    {
     "data": {
      "text/plain": [
       "7"
      ]
     },
     "execution_count": 5,
     "metadata": {},
     "output_type": "execute_result"
    }
   ],
   "source": [
    "int(0b111)"
   ]
  },
  {
   "cell_type": "code",
   "execution_count": 7,
   "metadata": {},
   "outputs": [
    {
     "name": "stdout",
     "output_type": "stream",
     "text": [
      "-11\n"
     ]
    }
   ],
   "source": [
    "print ~ 10"
   ]
  },
  {
   "cell_type": "code",
   "execution_count": 8,
   "metadata": {},
   "outputs": [
    {
     "name": "stdout",
     "output_type": "stream",
     "text": [
      "-101\n"
     ]
    }
   ],
   "source": [
    "print ~100"
   ]
  },
  {
   "cell_type": "code",
   "execution_count": 9,
   "metadata": {},
   "outputs": [
    {
     "name": "stdout",
     "output_type": "stream",
     "text": [
      "-57\n"
     ]
    }
   ],
   "source": [
    "print ~ 56"
   ]
  },
  {
   "cell_type": "code",
   "execution_count": null,
   "metadata": {},
   "outputs": [],
   "source": [
    "~ num ===>>  - ( num+1)"
   ]
  },
  {
   "cell_type": "code",
   "execution_count": null,
   "metadata": {},
   "outputs": [],
   "source": []
  },
  {
   "cell_type": "code",
   "execution_count": null,
   "metadata": {},
   "outputs": [],
   "source": []
  }
 ],
 "metadata": {
  "kernelspec": {
   "display_name": "Python 2",
   "language": "python",
   "name": "python2"
  },
  "language_info": {
   "codemirror_mode": {
    "name": "ipython",
    "version": 2
   },
   "file_extension": ".py",
   "mimetype": "text/x-python",
   "name": "python",
   "nbconvert_exporter": "python",
   "pygments_lexer": "ipython2",
   "version": "2.7.16"
  }
 },
 "nbformat": 4,
 "nbformat_minor": 2
}
