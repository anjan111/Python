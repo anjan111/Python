{
 "cells": [
  {
   "cell_type": "code",
   "execution_count": 1,
   "metadata": {},
   "outputs": [
    {
     "name": "stdout",
     "output_type": "stream",
     "text": [
      "-10\n",
      "34.24\n",
      "False\n",
      "-24\n"
     ]
    }
   ],
   "source": [
    "# unary operator\n",
    "print  -10\n",
    "print +34.24\n",
    "print not 56\n",
    "print ~ 23"
   ]
  },
  {
   "cell_type": "code",
   "execution_count": 2,
   "metadata": {},
   "outputs": [
    {
     "name": "stdout",
     "output_type": "stream",
     "text": [
      "33\n",
      "408\n",
      "11\n"
     ]
    }
   ],
   "source": [
    "# Binary operator\n",
    "print 10 + 23\n",
    "print 12*34\n",
    "print 23-12"
   ]
  },
  {
   "cell_type": "markdown",
   "metadata": {},
   "source": [
    "# arithmetic operator\n",
    "\n",
    "===>>> addition   +\n",
    "\n",
    "===>>> subtractio -\n",
    "\n",
    "===>>  multiplication  *\n",
    "\n",
    "===>> reminder     % ( modulus)\n",
    "\n",
    "===>> quo    /  <---- normal devision \n",
    "\n",
    "===>> floor devision    //\n",
    "\n",
    "===>> exponant ===>> power  ===>>   **\n",
    "\n"
   ]
  },
  {
   "cell_type": "code",
   "execution_count": 3,
   "metadata": {},
   "outputs": [
    {
     "name": "stdout",
     "output_type": "stream",
     "text": [
      "enter int : 11\n",
      "enter int : 2\n",
      "13\n",
      "9\n",
      "22\n",
      "121\n",
      "1\n"
     ]
    }
   ],
   "source": [
    "a = input(\"enter int : \")\n",
    "b = input(\"enter int : \")\n",
    "print a+b\n",
    "print a -b\n",
    "print a* b\n",
    "print a**b\n",
    "print a % b"
   ]
  },
  {
   "cell_type": "code",
   "execution_count": 4,
   "metadata": {},
   "outputs": [
    {
     "name": "stdout",
     "output_type": "stream",
     "text": [
      "enter float : 11.0\n",
      "enter flaot : 2.0\n",
      "13.0\n",
      "9.0\n",
      "22.0\n",
      "121.0\n",
      "1.0\n"
     ]
    }
   ],
   "source": [
    "a = input(\"enter float : \")\n",
    "b = input(\"enter flaot : \")\n",
    "print a+b\n",
    "print a -b\n",
    "print a* b\n",
    "print a**b\n",
    "print a % b"
   ]
  },
  {
   "cell_type": "code",
   "execution_count": 5,
   "metadata": {},
   "outputs": [
    {
     "name": "stdout",
     "output_type": "stream",
     "text": [
      "enter int : 11\n",
      "enter int : 2\n",
      "5\n",
      "5\n"
     ]
    }
   ],
   "source": [
    "a = input(\"enter int : \")\n",
    "b = input(\"enter int : \")\n",
    "print a/b\n",
    "print a //b\n"
   ]
  },
  {
   "cell_type": "code",
   "execution_count": 6,
   "metadata": {},
   "outputs": [
    {
     "name": "stdout",
     "output_type": "stream",
     "text": [
      "enter float : 11.0\n",
      "enter float : 2.0\n",
      "5.5\n",
      "5.0\n"
     ]
    }
   ],
   "source": [
    "a = input(\"enter float : \")\n",
    "b = input(\"enter float : \")\n",
    "print a/b\n",
    "print a //b\n"
   ]
  },
  {
   "cell_type": "code",
   "execution_count": 7,
   "metadata": {},
   "outputs": [
    {
     "name": "stdout",
     "output_type": "stream",
     "text": [
      "enter side in meter : 5.5\n",
      "area of of square  30.25  sq meter\n"
     ]
    }
   ],
   "source": [
    "#  wap find the area of square \n",
    "side = input(\"enter side in meter : \")\n",
    "area = side ** 2\n",
    "print \"area of of square \",area,\" sq meter\""
   ]
  },
  {
   "cell_type": "code",
   "execution_count": 9,
   "metadata": {},
   "outputs": [
    {
     "name": "stdout",
     "output_type": "stream",
     "text": [
      "enter name : \"anjan\"\n",
      "enter no of time : 5\n",
      "anjananjananjananjananjan\n",
      "anjankumar\n"
     ]
    }
   ],
   "source": [
    "# wap print your name 10 times continuesly\n",
    "name = input(\"enter name : \")\n",
    "N  = input(\"enter no of time : \")\n",
    "print name * N\n",
    "print name + \"kumar\""
   ]
  },
  {
   "cell_type": "code",
   "execution_count": null,
   "metadata": {},
   "outputs": [],
   "source": [
    "# wap find the simplle interst and total amount \n",
    "\n",
    "# wap find the area and volume of a cude "
   ]
  },
  {
   "cell_type": "markdown",
   "metadata": {},
   "source": [
    "# Relational operator\n",
    "\n",
    "===>> to compare the any 2 opearnds --->> comparision operator\n",
    "\n",
    "===>> we can use as a conditions   ---->> conditional operator\n",
    "\n",
    "===>> the result of relational   ===>> True/ False -->> boolean operator\n",
    "\n",
    "===>>  lessthan    <\n",
    "\n",
    "===>>  greaterthan   >\n",
    "\n",
    "===>> equal too   ==\n",
    "\n",
    "===>> not equal to  !=\n",
    "\n",
    "===>> lessthan or equal too    <=\n",
    "\n",
    "===>>> greaterthan or equalto   >=\n"
   ]
  },
  {
   "cell_type": "code",
   "execution_count": 11,
   "metadata": {},
   "outputs": [
    {
     "name": "stdout",
     "output_type": "stream",
     "text": [
      "enter int : 5\n",
      "enter int : 5\n",
      "False\n",
      "False\n",
      "True\n",
      "True\n",
      "True\n",
      "False\n"
     ]
    }
   ],
   "source": [
    "a = input(\"enter int : \")\n",
    "b = input(\"enter int : \")\n",
    "print a < b\n",
    "print a > b\n",
    "print a <= b\n",
    "print a >=b\n",
    "print a == b\n",
    "print a != b\n"
   ]
  },
  {
   "cell_type": "code",
   "execution_count": 12,
   "metadata": {},
   "outputs": [
    {
     "name": "stdout",
     "output_type": "stream",
     "text": [
      "enter complex : 8+2j\n",
      "enter complex : 8+3j\n"
     ]
    },
    {
     "ename": "TypeError",
     "evalue": "no ordering relation is defined for complex numbers",
     "output_type": "error",
     "traceback": [
      "\u001b[1;31m---------------------------------------------------------------------------\u001b[0m",
      "\u001b[1;31mTypeError\u001b[0m                                 Traceback (most recent call last)",
      "\u001b[1;32m<ipython-input-12-6b96082e38ab>\u001b[0m in \u001b[0;36m<module>\u001b[1;34m()\u001b[0m\n\u001b[0;32m      1\u001b[0m \u001b[0ma\u001b[0m \u001b[1;33m=\u001b[0m \u001b[0minput\u001b[0m\u001b[1;33m(\u001b[0m\u001b[1;34m\"enter complex : \"\u001b[0m\u001b[1;33m)\u001b[0m\u001b[1;33m\u001b[0m\u001b[0m\n\u001b[0;32m      2\u001b[0m \u001b[0mb\u001b[0m \u001b[1;33m=\u001b[0m \u001b[0minput\u001b[0m\u001b[1;33m(\u001b[0m\u001b[1;34m\"enter complex : \"\u001b[0m\u001b[1;33m)\u001b[0m\u001b[1;33m\u001b[0m\u001b[0m\n\u001b[1;32m----> 3\u001b[1;33m \u001b[1;32mprint\u001b[0m \u001b[0ma\u001b[0m \u001b[1;33m<\u001b[0m \u001b[0mb\u001b[0m\u001b[1;33m\u001b[0m\u001b[0m\n\u001b[0m\u001b[0;32m      4\u001b[0m \u001b[1;32mprint\u001b[0m \u001b[0ma\u001b[0m \u001b[1;33m>\u001b[0m \u001b[0mb\u001b[0m\u001b[1;33m\u001b[0m\u001b[0m\n\u001b[0;32m      5\u001b[0m \u001b[1;32mprint\u001b[0m \u001b[0ma\u001b[0m \u001b[1;33m<=\u001b[0m \u001b[0mb\u001b[0m\u001b[1;33m\u001b[0m\u001b[0m\n",
      "\u001b[1;31mTypeError\u001b[0m: no ordering relation is defined for complex numbers"
     ]
    }
   ],
   "source": [
    "a = input(\"enter complex : \")\n",
    "b = input(\"enter complex : \")\n",
    "print a < b\n",
    "print a > b\n",
    "print a <= b\n",
    "print a >=b\n",
    "print a == b\n",
    "print a != b\n"
   ]
  },
  {
   "cell_type": "markdown",
   "metadata": {},
   "source": [
    "# Assignment operator   =\n",
    "\n",
    "===>> To assign the data ( constant / variable / expression ) to a variable\n",
    "\n"
   ]
  },
  {
   "cell_type": "code",
   "execution_count": 13,
   "metadata": {},
   "outputs": [
    {
     "name": "stdout",
     "output_type": "stream",
     "text": [
      "10\n"
     ]
    }
   ],
   "source": [
    "a = 10 # constant to variable\n",
    "print a\n"
   ]
  },
  {
   "cell_type": "code",
   "execution_count": 14,
   "metadata": {},
   "outputs": [
    {
     "name": "stdout",
     "output_type": "stream",
     "text": [
      "10\n",
      "10\n"
     ]
    }
   ],
   "source": [
    "a = 10 # constant to variable\n",
    "b = a  # variable to variable\n",
    "print a\n",
    "print b\n"
   ]
  },
  {
   "cell_type": "code",
   "execution_count": 15,
   "metadata": {},
   "outputs": [
    {
     "name": "stdout",
     "output_type": "stream",
     "text": [
      "10\n",
      "814\n"
     ]
    }
   ],
   "source": [
    "a = 10 # constant to variable\n",
    "b = 78*a+34# expression to variable\n",
    "print a\n",
    "print b\n"
   ]
  },
  {
   "cell_type": "code",
   "execution_count": 16,
   "metadata": {},
   "outputs": [
    {
     "name": "stdout",
     "output_type": "stream",
     "text": [
      "30\n",
      "30\n"
     ]
    }
   ],
   "source": [
    "# compound assignment   ===>>>operation then update\n",
    "a = 10\n",
    "b = 20 \n",
    "a = a+b# addition then update \n",
    "print a\n",
    "a = 10\n",
    "b = 20 \n",
    "a += b# addition then update \n",
    "print a"
   ]
  },
  {
   "cell_type": "code",
   "execution_count": 17,
   "metadata": {},
   "outputs": [
    {
     "name": "stdout",
     "output_type": "stream",
     "text": [
      "-10\n",
      "-10\n"
     ]
    }
   ],
   "source": [
    "a = 10\n",
    "b = 20 \n",
    "a = a-b# suntraction then update \n",
    "print a\n",
    "a = 10\n",
    "b = 20 \n",
    "a -= b# suntraction then update \n",
    "print a"
   ]
  },
  {
   "cell_type": "code",
   "execution_count": 18,
   "metadata": {},
   "outputs": [],
   "source": [
    "# int --->>   False --->> 0   ,   +ve/ -ve  --->> True\n",
    "# float -->>  False --->>0.0  ,   +ve /-ve  --->> True\n",
    "# complex-->> False --->> 0+0j ,  otherwise --->> True\n",
    "# None  ---->> False\n",
    "#str,list, tuple,set,dict --->> len --> 0 ---> False\n",
    "#                               len  --> non zero  -->True"
   ]
  },
  {
   "cell_type": "markdown",
   "metadata": {},
   "source": [
    "# logical operator\n",
    "\n",
    "# logical not   ===>>> not\n",
    "\n",
    "#  if input is  True case ===>> then output is False\n",
    "\n",
    "# if input is False case ===>> then outpur is True"
   ]
  },
  {
   "cell_type": "code",
   "execution_count": 21,
   "metadata": {},
   "outputs": [
    {
     "name": "stdout",
     "output_type": "stream",
     "text": [
      "False\n",
      "True\n",
      "False\n",
      "True\n"
     ]
    }
   ],
   "source": [
    "print not 56\n",
    "print not {}\n",
    "print not \" \"\n",
    "print not \"\""
   ]
  },
  {
   "cell_type": "code",
   "execution_count": null,
   "metadata": {},
   "outputs": [],
   "source": []
  }
 ],
 "metadata": {
  "kernelspec": {
   "display_name": "Python 2",
   "language": "python",
   "name": "python2"
  },
  "language_info": {
   "codemirror_mode": {
    "name": "ipython",
    "version": 2
   },
   "file_extension": ".py",
   "mimetype": "text/x-python",
   "name": "python",
   "nbconvert_exporter": "python",
   "pygments_lexer": "ipython2",
   "version": "2.7.16"
  }
 },
 "nbformat": 4,
 "nbformat_minor": 2
}
