{
 "cells": [
  {
   "cell_type": "markdown",
   "metadata": {},
   "source": [
    "# Python dict datype\n",
    "\n",
    "===>>> It is a sequencial Datatype (  collection of items with in { })\n",
    "\n",
    "==>>> item is a combination of key and values ( key : value )\n",
    "\n",
    "===>>> value  is any datatype\n",
    "\n",
    "===>>> key properties is same as the set datatype properties \n",
    "\n",
    "        --->> we can use only,  int , float , complex , bool , None, str, tuple\n"
   ]
  },
  {
   "cell_type": "code",
   "execution_count": 1,
   "metadata": {},
   "outputs": [
    {
     "name": "stdout",
     "output_type": "stream",
     "text": [
      "<type 'dict'>\n",
      "{True: 'it is 1', (3+5j): 'it is complex'}\n"
     ]
    }
   ],
   "source": [
    "var = { True : \"it is 1\" , 3+5j : \"it is complex\"}\n",
    "print type(var)\n",
    "print var"
   ]
  },
  {
   "cell_type": "code",
   "execution_count": 7,
   "metadata": {},
   "outputs": [
    {
     "name": "stdout",
     "output_type": "stream",
     "text": [
      "<type 'dict'>\n",
      "{True: 'it is bool', (3+5j): 'it is complex'}\n",
      "it is bool\n"
     ]
    }
   ],
   "source": [
    "# dict is remove the items for duplicate keys \n",
    "# dict is unorder datatype\n",
    "# dict is not suported for slicing , dicing , indexing \n",
    "# dict is supported key indexing for access the value of item \n",
    "\n",
    "var = { True : \"it is 1\" , 3+5j : \"it is complex\" ,True : \"it is bool\" }\n",
    "print type(var)\n",
    "print var\n",
    "print var[1]"
   ]
  },
  {
   "cell_type": "code",
   "execution_count": 8,
   "metadata": {},
   "outputs": [
    {
     "name": "stdout",
     "output_type": "stream",
     "text": [
      "[True, (3+5j)]\n"
     ]
    }
   ],
   "source": [
    "print var.keys()"
   ]
  },
  {
   "cell_type": "code",
   "execution_count": 9,
   "metadata": {},
   "outputs": [
    {
     "name": "stdout",
     "output_type": "stream",
     "text": [
      "['it is bool', 'it is complex']\n"
     ]
    }
   ],
   "source": [
    "print var.values()"
   ]
  },
  {
   "cell_type": "code",
   "execution_count": 10,
   "metadata": {},
   "outputs": [
    {
     "name": "stdout",
     "output_type": "stream",
     "text": [
      "['__class__', '__cmp__', '__contains__', '__delattr__', '__delitem__', '__doc__', '__eq__', '__format__', '__ge__', '__getattribute__', '__getitem__', '__gt__', '__hash__', '__init__', '__iter__', '__le__', '__len__', '__lt__', '__ne__', '__new__', '__reduce__', '__reduce_ex__', '__repr__', '__setattr__', '__setitem__', '__sizeof__', '__str__', '__subclasshook__', 'clear', 'copy', 'fromkeys', 'get', 'has_key', 'items', 'iteritems', 'iterkeys', 'itervalues', 'keys', 'pop', 'popitem', 'setdefault', 'update', 'values', 'viewitems', 'viewkeys', 'viewvalues']\n"
     ]
    }
   ],
   "source": [
    "print dir(dict)"
   ]
  },
  {
   "cell_type": "code",
   "execution_count": 12,
   "metadata": {},
   "outputs": [
    {
     "name": "stdout",
     "output_type": "stream",
     "text": [
      "True\n",
      "True\n"
     ]
    }
   ],
   "source": [
    "a = {2 : \"23+5j\"}\n",
    "b = {2 : \"23+5j\"}\n",
    "print a == b\n",
    "print a.__eq__(b)"
   ]
  },
  {
   "cell_type": "code",
   "execution_count": 14,
   "metadata": {},
   "outputs": [
    {
     "name": "stdout",
     "output_type": "stream",
     "text": [
      "False\n",
      "NotImplemented\n",
      "Help on wrapper_descriptor:\n",
      "\n",
      "__gt__(...)\n",
      "    x.__gt__(y) <==> x>y\n",
      "\n",
      "None\n"
     ]
    }
   ],
   "source": [
    "a = {2 : \"23+5j\"}\n",
    "b = {2 : \"23+5j\"}\n",
    "print a > b\n",
    "print a.__gt__(b)\n",
    "print help(dict.__gt__)"
   ]
  },
  {
   "cell_type": "code",
   "execution_count": null,
   "metadata": {},
   "outputs": [],
   "source": [
    "a = {2 : \"23+5j\"}\n",
    "b = {2 : \"23+5j\"}\n",
    "print a == b\n",
    "print a.__eq__(b)"
   ]
  },
  {
   "cell_type": "code",
   "execution_count": 15,
   "metadata": {},
   "outputs": [
    {
     "name": "stdout",
     "output_type": "stream",
     "text": [
      "3\n",
      "78\n",
      "12\n",
      "167\n"
     ]
    }
   ],
   "source": [
    "var={ 12 : 'hello' , 78 :\"hai\" , 77 : \"bye\"}\n",
    "print len(var)# 3\n",
    "print max(var) # 78\n",
    "print min(var)#12\n",
    "print sum(var)# 167"
   ]
  },
  {
   "cell_type": "code",
   "execution_count": 16,
   "metadata": {},
   "outputs": [
    {
     "name": "stdout",
     "output_type": "stream",
     "text": [
      "hai\n"
     ]
    }
   ],
   "source": [
    "var={ 12 : 'hello' , 78 :\"hai\" , 77 : \"bye\"}\n",
    "print var.get(78)"
   ]
  },
  {
   "cell_type": "code",
   "execution_count": 17,
   "metadata": {},
   "outputs": [
    {
     "name": "stdout",
     "output_type": "stream",
     "text": [
      "[12, 77, 78]\n"
     ]
    }
   ],
   "source": [
    "print var.keys()"
   ]
  },
  {
   "cell_type": "code",
   "execution_count": 18,
   "metadata": {},
   "outputs": [
    {
     "name": "stdout",
     "output_type": "stream",
     "text": [
      "['hello', 'bye', 'hai']\n"
     ]
    }
   ],
   "source": [
    "print var.values()"
   ]
  },
  {
   "cell_type": "code",
   "execution_count": 19,
   "metadata": {},
   "outputs": [
    {
     "name": "stdout",
     "output_type": "stream",
     "text": [
      "[(12, 'hello'), (77, 'bye'), (78, 'hai')]\n"
     ]
    }
   ],
   "source": [
    "print var.items()"
   ]
  },
  {
   "cell_type": "code",
   "execution_count": 20,
   "metadata": {},
   "outputs": [
    {
     "name": "stdout",
     "output_type": "stream",
     "text": [
      "dict_keys([12, 77, 78])\n"
     ]
    }
   ],
   "source": [
    "print var.viewkeys()"
   ]
  },
  {
   "cell_type": "code",
   "execution_count": 21,
   "metadata": {},
   "outputs": [
    {
     "name": "stdout",
     "output_type": "stream",
     "text": [
      "dict_items([(12, 'hello'), (77, 'bye'), (78, 'hai')])\n"
     ]
    }
   ],
   "source": [
    "print var.viewitems()"
   ]
  },
  {
   "cell_type": "code",
   "execution_count": 22,
   "metadata": {},
   "outputs": [
    {
     "name": "stdout",
     "output_type": "stream",
     "text": [
      "dict_values(['hello', 'bye', 'hai'])\n"
     ]
    }
   ],
   "source": [
    "print var.viewvalues()"
   ]
  },
  {
   "cell_type": "code",
   "execution_count": 24,
   "metadata": {},
   "outputs": [
    {
     "name": "stdout",
     "output_type": "stream",
     "text": [
      "{12: 'hello', 77: 'bye', 78: 'hai'}\n",
      "bye\n",
      "{12: 'hello', 78: 'hai'}\n"
     ]
    },
    {
     "ename": "TypeError",
     "evalue": "pop expected at least 1 arguments, got 0",
     "output_type": "error",
     "traceback": [
      "\u001b[1;31m---------------------------------------------------------------------------\u001b[0m",
      "\u001b[1;31mTypeError\u001b[0m                                 Traceback (most recent call last)",
      "\u001b[1;32m<ipython-input-24-35f7ac68bb2a>\u001b[0m in \u001b[0;36m<module>\u001b[1;34m()\u001b[0m\n\u001b[0;32m      2\u001b[0m \u001b[1;32mprint\u001b[0m \u001b[0mvar\u001b[0m\u001b[1;33m.\u001b[0m\u001b[0mpop\u001b[0m\u001b[1;33m(\u001b[0m\u001b[1;36m77\u001b[0m\u001b[1;33m)\u001b[0m\u001b[1;33m\u001b[0m\u001b[0m\n\u001b[0;32m      3\u001b[0m \u001b[1;32mprint\u001b[0m \u001b[0mvar\u001b[0m\u001b[1;33m\u001b[0m\u001b[0m\n\u001b[1;32m----> 4\u001b[1;33m \u001b[1;32mprint\u001b[0m \u001b[0mvar\u001b[0m\u001b[1;33m.\u001b[0m\u001b[0mpop\u001b[0m\u001b[1;33m(\u001b[0m\u001b[1;33m)\u001b[0m\u001b[1;33m\u001b[0m\u001b[0m\n\u001b[0m",
      "\u001b[1;31mTypeError\u001b[0m: pop expected at least 1 arguments, got 0"
     ]
    }
   ],
   "source": [
    "print var\n",
    "print var.pop(77)\n",
    "print var\n",
    "print var.pop()"
   ]
  },
  {
   "cell_type": "code",
   "execution_count": 25,
   "metadata": {},
   "outputs": [
    {
     "name": "stdout",
     "output_type": "stream",
     "text": [
      "(12, 'hello')\n",
      "{77: 'bye', 78: 'hai'}\n"
     ]
    }
   ],
   "source": [
    "var={ 12 : 'hello' , 78 :\"hai\" , 77 : \"bye\"}\n",
    "print var.popitem()\n",
    "print var"
   ]
  },
  {
   "cell_type": "code",
   "execution_count": 26,
   "metadata": {},
   "outputs": [
    {
     "name": "stdout",
     "output_type": "stream",
     "text": [
      "{12: 'hello', 77: 'bye', 78: 'hai'}\n",
      "{}\n"
     ]
    }
   ],
   "source": [
    "var={ 12 : 'hello' , 78 :\"hai\" , 77 : \"bye\"}\n",
    "print var\n",
    "var.clear()\n",
    "print var"
   ]
  },
  {
   "cell_type": "code",
   "execution_count": 32,
   "metadata": {},
   "outputs": [
    {
     "name": "stdout",
     "output_type": "stream",
     "text": [
      "{12: 'hello', 77: 'bye', 78: 'hai'}\n",
      "{12: 'hello', 77: 'bye', 78: 'hai'}\n",
      "72502264\n",
      "78624152\n",
      "{100: 456, 12: 'hello', 77: 'bye', 78: 'hai'}\n",
      "{12: 'hello', 77: 'bye', 78: 'hai'}\n"
     ]
    }
   ],
   "source": [
    "var={ 12 : 'hello' , 78 :\"hai\" , 77 : \"bye\"}\n",
    "b = var.copy()\n",
    "print b\n",
    "print var\n",
    "print id(b)\n",
    "print id(var)\n",
    "b[100] = 456\n",
    "print(b)\n",
    "print(var)\n"
   ]
  },
  {
   "cell_type": "code",
   "execution_count": null,
   "metadata": {},
   "outputs": [],
   "source": []
  },
  {
   "cell_type": "code",
   "execution_count": null,
   "metadata": {},
   "outputs": [],
   "source": []
  },
  {
   "cell_type": "code",
   "execution_count": 33,
   "metadata": {},
   "outputs": [
    {
     "name": "stdout",
     "output_type": "stream",
     "text": [
      "{12: 'hello', 77: 'bye', 78: 'hai'}\n",
      "{12: 'hello', 77: 'bye', 78: 'hai'}\n",
      "72500632\n",
      "72500632\n",
      "{100: 456, 12: 'hello', 77: 'bye', 78: 'hai'}\n",
      "{100: 456, 12: 'hello', 77: 'bye', 78: 'hai'}\n"
     ]
    }
   ],
   "source": [
    "var={ 12 : 'hello' , 78 :\"hai\" , 77 : \"bye\"}\n",
    "b = var\n",
    "print b\n",
    "print var\n",
    "print id(b)\n",
    "print id(var)\n",
    "b[100] = 456\n",
    "print(b)\n",
    "print(var)\n",
    "\n"
   ]
  },
  {
   "cell_type": "code",
   "execution_count": 34,
   "metadata": {},
   "outputs": [
    {
     "name": "stdout",
     "output_type": "stream",
     "text": [
      "{56: 'robotics', 12: 'soc'}\n",
      "{56: 'new robo', 34: 'python'}\n",
      "{56: 'new robo', 34: 'python', 12: 'soc'}\n",
      "{56: 'new robo', 34: 'python'}\n"
     ]
    }
   ],
   "source": [
    "a = {12 : \"soc\" , 56 : \"robotics\"}\n",
    "b = {34 : \"python\" , 56 : \"new robo\"}\n",
    "print a\n",
    "print b\n",
    "a.update(b)\n",
    "print a\n",
    "print b"
   ]
  },
  {
   "cell_type": "code",
   "execution_count": null,
   "metadata": {},
   "outputs": [],
   "source": []
  },
  {
   "cell_type": "code",
   "execution_count": null,
   "metadata": {},
   "outputs": [],
   "source": []
  },
  {
   "cell_type": "code",
   "execution_count": null,
   "metadata": {},
   "outputs": [],
   "source": []
  }
 ],
 "metadata": {
  "kernelspec": {
   "display_name": "Python 2",
   "language": "python",
   "name": "python2"
  },
  "language_info": {
   "codemirror_mode": {
    "name": "ipython",
    "version": 2
   },
   "file_extension": ".py",
   "mimetype": "text/x-python",
   "name": "python",
   "nbconvert_exporter": "python",
   "pygments_lexer": "ipython2",
   "version": "2.7.16"
  }
 },
 "nbformat": 4,
 "nbformat_minor": 2
}
