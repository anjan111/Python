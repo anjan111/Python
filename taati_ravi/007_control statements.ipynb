{
 "cells": [
  {
   "cell_type": "code",
   "execution_count": null,
   "metadata": {},
   "outputs": [],
   "source": [
    "################### By this  week i can finish this concepts ####################\n",
    "# Statement ===>>> An instruction which can be  executable with in the program\n",
    "\n",
    "# program  ====>>> collection of statements to do any specific task\n",
    "\n",
    "# Flow of execution of the program  ===>> line by line \n",
    "\n",
    "# Control statement s   ======>>> to change flow of execution of the program\n",
    "\n",
    "# Types of control statements\n",
    "\n",
    "# Conditional Statements\n",
    "\n",
    "# Looping statements\n",
    "\n",
    "# control keywords\n",
    "#######################################################################################"
   ]
  },
  {
   "cell_type": "code",
   "execution_count": null,
   "metadata": {},
   "outputs": [],
   "source": [
    "# condtional statements\n",
    "'''\n",
    "===>>> The execution of the statements which can depends on conditon\n",
    "\n",
    "'''\n",
    "# simple if \n",
    "# if and else\n",
    "# elif ladder\n",
    "# nested if\n",
    "'''\n",
    "WAP apply the voter id application\n",
    "age >=18\n",
    "'''\n",
    "age = input(\"enter age of you : \")\n",
    "if ( age >= 18):\n",
    "    print \"welcome to voter id application center\"\n",
    "    name = input(\"enter full name : \")\n",
    "    DOB  = input(\"enter DOB : \")\n",
    "    phone= input(\"enter phone number : \")\n",
    "print \"thanks for visiting the voter id center\""
   ]
  },
  {
   "cell_type": "code",
   "execution_count": null,
   "metadata": {},
   "outputs": [],
   "source": [
    "# wap given year is leap year or not\n",
    "# %4 --> 0  \n",
    "#####%100 --> non Zero----> leap\n",
    "#####%100 --> 0\n",
    "####### %400 --->> 0------> leap\n",
    "year = input(\"enter year : \")\n",
    "if((year % 4 == 0 and year %100 != 0) or year %400 == 0):\n",
    "    print year,\" is leap year\"\n",
    "else:\n",
    "    print \"not leap year\""
   ]
  },
  {
   "cell_type": "code",
   "execution_count": null,
   "metadata": {},
   "outputs": [],
   "source": [
    "# wap print given number is even or odd"
   ]
  },
  {
   "cell_type": "code",
   "execution_count": null,
   "metadata": {},
   "outputs": [],
   "source": [
    "# wap print given number is possible factorial or not"
   ]
  },
  {
   "cell_type": "code",
   "execution_count": null,
   "metadata": {},
   "outputs": [],
   "source": [
    "# wap find the age difference between you and your sister\n",
    "age_you = input(\"enter age of you:\")\n",
    "age_sis = input(\"enter age of sis: \")\n",
    "if(age_you > age_sis):\n",
    "    print\"your elder than your sister:\"\n",
    "    print \"age difference : \",age_you-age_sis\n",
    "else:\n",
    "    print\"your sister is  elder than you:\"\n",
    "    print \"age difference : \",age_sis-age_you"
   ]
  },
  {
   "cell_type": "code",
   "execution_count": null,
   "metadata": {},
   "outputs": [],
   "source": [
    "# wap fix the empployee salary based on exp\n",
    "exp = input(\"enter exp : \")\n",
    "if( exp >0 and exp <=2):\n",
    "    print \"salary 3 lac\"\n",
    "elif(exp > 2 and exp <=4):\n",
    "    print \"salary 6 lac\"\n",
    "elif(exp >4 and exp <= 6):\n",
    "    print \"salry 8 lac\"\n",
    "elif(exp >6 and exp <=10):\n",
    "    print \"salry 12 lac \"\n",
    "elif(exp >10):\n",
    "    print \"salary 25 lac\"\n",
    "else:\n",
    "    print \"enter proper exp\""
   ]
  },
  {
   "cell_type": "code",
   "execution_count": null,
   "metadata": {},
   "outputs": [],
   "source": [
    "# wap print the grading based on student percentage "
   ]
  },
  {
   "cell_type": "code",
   "execution_count": null,
   "metadata": {},
   "outputs": [],
   "source": [
    "# wap find the smallest number from 3 numbers\n",
    "a = input(\"enter a: \")\n",
    "b = input(\"enter b: \")\n",
    "c = input(\"enter c: \")\n",
    "if( a > b):\n",
    "    small = b\n",
    "    if(small > c):\n",
    "        small = c\n",
    "else:\n",
    "    small = a\n",
    "    if(small > c):\n",
    "        small =c\n",
    "print \"small : \",small"
   ]
  },
  {
   "cell_type": "code",
   "execution_count": null,
   "metadata": {},
   "outputs": [],
   "source": [
    "# wap find the beggest number from 3 numbers "
   ]
  },
  {
   "cell_type": "code",
   "execution_count": null,
   "metadata": {},
   "outputs": [],
   "source": [
    "# wap find the leap year or not using nested if"
   ]
  },
  {
   "cell_type": "code",
   "execution_count": null,
   "metadata": {},
   "outputs": [],
   "source": [
    "# looping statements\n",
    "'''\n",
    "===>> while \n",
    "\n",
    "===>> for \n",
    "\n",
    "===>> nested loop\n",
    "'''"
   ]
  },
  {
   "cell_type": "code",
   "execution_count": 1,
   "metadata": {},
   "outputs": [
    {
     "data": {
      "text/plain": [
       "[0, 1, 2, 3, 4, 5, 6, 7, 8, 9]"
      ]
     },
     "execution_count": 1,
     "metadata": {},
     "output_type": "execute_result"
    }
   ],
   "source": [
    "range(10)"
   ]
  },
  {
   "cell_type": "code",
   "execution_count": 2,
   "metadata": {},
   "outputs": [
    {
     "data": {
      "text/plain": [
       "[10, 11, 12, 13, 14, 15, 16, 17, 18, 19, 20, 21]"
      ]
     },
     "execution_count": 2,
     "metadata": {},
     "output_type": "execute_result"
    }
   ],
   "source": [
    "range(10,22)"
   ]
  },
  {
   "cell_type": "code",
   "execution_count": 3,
   "metadata": {},
   "outputs": [
    {
     "data": {
      "text/plain": [
       "[10, 21, 32, 43, 54, 65, 76, 87, 98]"
      ]
     },
     "execution_count": 3,
     "metadata": {},
     "output_type": "execute_result"
    }
   ],
   "source": [
    "range(10,100,11)"
   ]
  },
  {
   "cell_type": "code",
   "execution_count": null,
   "metadata": {},
   "outputs": [],
   "source": [
    "# Loopings statements\n",
    "'''\n",
    "===>> To reduce the code size\n",
    "==>> to improve the performance \n",
    "==>> To  easy to unerstand\n",
    "\n",
    "====>>> while / for\n",
    "'''\n",
    "#### wap print your names 20 times \n",
    "print \"anjan\"\n",
    "print \"anjan\"\n",
    "print \"anjan\"\n",
    "print \"anjan\"\n",
    "print \"anjan\"\n",
    "print \"anjan\"\n",
    "print \"anjan\"\n",
    "print \"anjan\"\n",
    "print \"anjan\"\n",
    "print \"anjan\"\n",
    "print \"anjan\"\n",
    "print \"anjan\"\n",
    "print \"anjan\"\n",
    "print \"anjan\"\n",
    "print \"anjan\"\n",
    "print \"anjan\"\n",
    "print \"anjan\"\n",
    "print \"anjan\"\n",
    "print \"anjan\"\n",
    "print \"anjan\""
   ]
  },
  {
   "cell_type": "code",
   "execution_count": 4,
   "metadata": {},
   "outputs": [
    {
     "name": "stdout",
     "output_type": "stream",
     "text": [
      "anjan\n",
      "anjan\n",
      "anjan\n",
      "anjan\n",
      "anjan\n",
      "anjan\n",
      "anjan\n",
      "anjan\n",
      "anjan\n",
      "anjan\n",
      "anjan\n",
      "anjan\n",
      "anjan\n",
      "anjan\n",
      "anjan\n",
      "anjan\n",
      "anjan\n",
      "anjan\n",
      "anjan\n",
      "anjan\n"
     ]
    }
   ],
   "source": [
    "for i in range(20):\n",
    "    print \"anjan\""
   ]
  },
  {
   "cell_type": "code",
   "execution_count": null,
   "metadata": {},
   "outputs": [],
   "source": []
  },
  {
   "cell_type": "code",
   "execution_count": null,
   "metadata": {},
   "outputs": [],
   "source": []
  },
  {
   "cell_type": "code",
   "execution_count": null,
   "metadata": {},
   "outputs": [],
   "source": [
    "i = 1\n",
    "while(i<=20):\n",
    "    print \"anjan\"\n",
    "    i+=1"
   ]
  },
  {
   "cell_type": "code",
   "execution_count": null,
   "metadata": {},
   "outputs": [],
   "source": [
    "# wap print 1 to 10 using while loop\n",
    "i = 1\n",
    "while(i <= 10):\n",
    "    print i\n",
    "    i = i + 1\n",
    "else:\n",
    "    print \"this is optional block\"\n",
    "    print\"it can executes when condition is fails\""
   ]
  },
  {
   "cell_type": "code",
   "execution_count": null,
   "metadata": {},
   "outputs": [],
   "source": [
    "# wap print 1 to 10 using while loop\n",
    "i = 1\n",
    "while(i <= 10):\n",
    "    print i\n",
    "    i = i + 1\n"
   ]
  },
  {
   "cell_type": "code",
   "execution_count": 2,
   "metadata": {},
   "outputs": [
    {
     "name": "stdout",
     "output_type": "stream",
     "text": [
      "enter numbers : 6\n",
      "sum :  21\n"
     ]
    }
   ],
   "source": [
    "# wap find the sum of 1st N natural number\n",
    "# N --->> 10\n",
    "# 1+2+3+4+5+6+7+8+9+10 ---->> 55\n",
    "N= input(\"enter numbers : \")\n",
    "if(isinstance(N,int)):\n",
    "    i = 1\n",
    "    sum = 0\n",
    "    while(i <= N):\n",
    "        sum += i\n",
    "        i += 1\n",
    "    else:\n",
    "        print \"sum : \",sum\n",
    "else:\n",
    "    print\"enter proper  int data\"\n",
    "\n",
    "    \n"
   ]
  },
  {
   "cell_type": "code",
   "execution_count": 12,
   "metadata": {},
   "outputs": [
    {
     "name": "stdout",
     "output_type": "stream",
     "text": [
      "enter a number : 9\n",
      "fact :  362880\n"
     ]
    }
   ],
   "source": [
    "# wap find the factorial of  number \n",
    "# 5 ===>>> 1*2*3*4*5 ===>>120\n",
    "N = input(\"enter a number : \")\n",
    "if(isinstance(N,int)):\n",
    "    if(N >=0):\n",
    "        fact = 1\n",
    "        i = 1\n",
    "        while(i <= N):\n",
    "            fact = fact*i\n",
    "            i = i+1\n",
    "        else:\n",
    "            print\"fact : \",fact\n",
    "    else:\n",
    "        print \"factorial for negative is not possible\"\n",
    "else:\n",
    "    print \"Non int data factorial is not possible\"\n"
   ]
  },
  {
   "cell_type": "code",
   "execution_count": 13,
   "metadata": {},
   "outputs": [
    {
     "name": "stdout",
     "output_type": "stream",
     "text": [
      "enter a number : 10\n",
      "factor :  1\n",
      "factor :  2\n",
      "factor :  5\n",
      "factor :  10\n",
      "no of factors :  4\n"
     ]
    }
   ],
   "source": [
    "# wap find the no of factor for number and display the factors\n",
    "# 10\n",
    "# 1, 2,5,10 ----->> 4\n",
    "num = input(\"enter a number : \")\n",
    "fc = 0\n",
    "i = 1\n",
    "while(i <= num):\n",
    "    if(num % i == 0):\n",
    "        print \"factor : \",i\n",
    "        fc += 1\n",
    "    i=i+1\n",
    "else:\n",
    "    print\"no of factors : \",fc\n",
    "    "
   ]
  },
  {
   "cell_type": "code",
   "execution_count": null,
   "metadata": {},
   "outputs": [],
   "source": [
    "# wap find the given number is prime number or not\n",
    "# wap print the even number in between 10 to 30\n",
    "# wap find the no of digits in a number  # 156 --->> 3\n",
    "# wap find the reverse of a number   # 456 --->> 654\n",
    "# wap  given number palidrome or not"
   ]
  },
  {
   "cell_type": "code",
   "execution_count": null,
   "metadata": {},
   "outputs": [],
   "source": []
  },
  {
   "cell_type": "code",
   "execution_count": 8,
   "metadata": {},
   "outputs": [
    {
     "ename": "ValueError",
     "evalue": "factorial() only accepts integral values",
     "output_type": "error",
     "traceback": [
      "\u001b[1;31m---------------------------------------------------------------------------\u001b[0m",
      "\u001b[1;31mValueError\u001b[0m                                Traceback (most recent call last)",
      "\u001b[1;32m<ipython-input-8-4b22d8235ae5>\u001b[0m in \u001b[0;36m<module>\u001b[1;34m()\u001b[0m\n\u001b[0;32m      1\u001b[0m \u001b[1;32mimport\u001b[0m \u001b[0mmath\u001b[0m\u001b[1;33m\u001b[0m\u001b[0m\n\u001b[1;32m----> 2\u001b[1;33m \u001b[0mmath\u001b[0m\u001b[1;33m.\u001b[0m\u001b[0mfactorial\u001b[0m\u001b[1;33m(\u001b[0m\u001b[1;36m12.34\u001b[0m\u001b[1;33m)\u001b[0m\u001b[1;33m\u001b[0m\u001b[0m\n\u001b[0m",
      "\u001b[1;31mValueError\u001b[0m: factorial() only accepts integral values"
     ]
    }
   ],
   "source": [
    "import math\n",
    "math.factorial(12.34)"
   ]
  },
  {
   "cell_type": "code",
   "execution_count": 5,
   "metadata": {},
   "outputs": [
    {
     "name": "stdout",
     "output_type": "stream",
     "text": [
      "enter seq : \"soc\"\n",
      "s\n",
      "o\n",
      "c\n",
      "no more updates \n"
     ]
    }
   ],
   "source": [
    "# wap print all elements from any seq \n",
    "seq = input(\"enter seq : \")\n",
    "for var in seq:\n",
    "    print var\n",
    "else:\n",
    "    print \"no more updates \""
   ]
  },
  {
   "cell_type": "code",
   "execution_count": 6,
   "metadata": {},
   "outputs": [
    {
     "name": "stdout",
     "output_type": "stream",
     "text": [
      "enter a seq : \"python\"\n",
      "len of  python  is :  6\n"
     ]
    }
   ],
   "source": [
    "# wap find the len of any seq\n",
    "seq = input(\"enter a seq : \")\n",
    "le = 0\n",
    "for var in seq :\n",
    "    le += 1  # le = le+1\n",
    "else:\n",
    "    print \"len of \",seq,\" is : \",le"
   ]
  },
  {
   "cell_type": "code",
   "execution_count": 7,
   "metadata": {},
   "outputs": [
    {
     "name": "stdout",
     "output_type": "stream",
     "text": [
      "enter seq : [12,\"soc\",89.23,4+3j]\n",
      "sum :  101.23\n"
     ]
    }
   ],
   "source": [
    "# wap find the sum of int or float elements from any seq\n",
    "seq = input(\"enter seq : \")\n",
    "sum =0\n",
    "for var in seq:\n",
    "    if(isinstance(var,int) or isinstance(var,float)):\n",
    "        sum += var\n",
    "else:\n",
    "    print \"sum : \",sum"
   ]
  },
  {
   "cell_type": "code",
   "execution_count": 17,
   "metadata": {},
   "outputs": [
    {
     "name": "stdout",
     "output_type": "stream",
     "text": [
      "enter a num : 5\n",
      "fact :  120\n"
     ]
    }
   ],
   "source": [
    "# wap find the factorial of a number \n",
    "num = input(\"enter a num : \")\n",
    "if(isinstance(num,int)):\n",
    "    if(num >=0):\n",
    "        fact =1\n",
    "        for var in range(1,num+1):\n",
    "            fact *= var\n",
    "        else:\n",
    "            print \"fact : \",fact\n",
    "    else:\n",
    "        print \"factorial is not possible for negative numbers\"\n",
    "else:\n",
    "    print \"factorial is not possible for non int numbers\""
   ]
  },
  {
   "cell_type": "code",
   "execution_count": 18,
   "metadata": {},
   "outputs": [],
   "source": [
    "# wap find the given number is prime number or not\n",
    "# wap print the even number in between 10 to 30\n",
    "# wap find the no of digits in a number  # 156 --->> 3\n",
    "# wap find the reverse of a number   # 456 --->> 654\n",
    "# wap  given number palidrome or not"
   ]
  },
  {
   "cell_type": "code",
   "execution_count": 22,
   "metadata": {},
   "outputs": [
    {
     "name": "stdout",
     "output_type": "stream",
     "text": [
      "*   *   *   *  \n",
      "*   *   *   *  \n",
      "*   *   *   *  \n"
     ]
    }
   ],
   "source": [
    "# nested loops\n",
    "'''\n",
    "A loop is contains another loop\n",
    "'''\n",
    "'''\n",
    "*  *  *  *\n",
    "*  *  *  *\n",
    "*  *  *  *\n",
    "'''\n",
    "for j in range(3):\n",
    "    for i in range(4):\n",
    "        print \"*  \",\n",
    "    print"
   ]
  },
  {
   "cell_type": "code",
   "execution_count": 24,
   "metadata": {},
   "outputs": [
    {
     "name": "stdout",
     "output_type": "stream",
     "text": [
      "generate theabove pattern\n"
     ]
    }
   ],
   "source": [
    "'''\n",
    "*\n",
    "*  *\n",
    "*  *  *\n",
    "*  *  *  *\n",
    "'''\n",
    "print \"generate theabove pattern\""
   ]
  },
  {
   "cell_type": "code",
   "execution_count": 25,
   "metadata": {},
   "outputs": [
    {
     "name": "stdout",
     "output_type": "stream",
     "text": [
      "generate theabove pattern\n"
     ]
    }
   ],
   "source": [
    "'''\n",
    "*                   *\n",
    "*  *             *  *\n",
    "*  *  *       *  *  *\n",
    "*  *  *  * *  *  *  *\n",
    "'''\n",
    "print \"generate theabove pattern\""
   ]
  },
  {
   "cell_type": "code",
   "execution_count": 28,
   "metadata": {},
   "outputs": [],
   "source": [
    "# control keywords\n",
    "# pass\n",
    "'''\n",
    "===>> To create the dummy block\n",
    "'''\n",
    "for i in range(10):\n",
    "    pass"
   ]
  },
  {
   "cell_type": "code",
   "execution_count": 31,
   "metadata": {},
   "outputs": [
    {
     "name": "stdout",
     "output_type": "stream",
     "text": [
      "1\n",
      "2\n",
      "3\n",
      "4\n",
      "5\n",
      "7\n",
      "8\n",
      "9\n",
      "10\n"
     ]
    }
   ],
   "source": [
    "# continue keyword\n",
    "'''\n",
    "===>>. to skip the present interation and continue next interation\n",
    "'''\n",
    "# wap print 1 to 10 except 6\n",
    "for i in range(1,11):\n",
    "    if(i == 6):\n",
    "        continue\n",
    "    print i"
   ]
  },
  {
   "cell_type": "code",
   "execution_count": 34,
   "metadata": {},
   "outputs": [
    {
     "name": "stdout",
     "output_type": "stream",
     "text": [
      "1\n",
      "2\n",
      "3\n",
      "4\n",
      "5\n"
     ]
    }
   ],
   "source": [
    "# breake keyword\n",
    "'''\n",
    "===>>. to terminate  the whole loop\n",
    "'''\n",
    "# wap print 1 to 10 when it is 6 stop the whole interation\n",
    "for i in range(1,11):\n",
    "    if(i == 6):\n",
    "        break\n",
    "    print i\n",
    "else:\n",
    "    print\"no more updates\""
   ]
  }
 ],
 "metadata": {
  "kernelspec": {
   "display_name": "Python 2",
   "language": "python",
   "name": "python2"
  },
  "language_info": {
   "codemirror_mode": {
    "name": "ipython",
    "version": 2
   },
   "file_extension": ".py",
   "mimetype": "text/x-python",
   "name": "python",
   "nbconvert_exporter": "python",
   "pygments_lexer": "ipython2",
   "version": "2.7.16"
  }
 },
 "nbformat": 4,
 "nbformat_minor": 2
}
