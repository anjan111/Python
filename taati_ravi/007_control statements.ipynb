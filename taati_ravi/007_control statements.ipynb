{
 "cells": [
  {
   "cell_type": "code",
   "execution_count": 1,
   "metadata": {},
   "outputs": [],
   "source": [
    "################### By this  week i can finish this concepts ####################\n",
    "# Statement ===>>> An instruction which can be  executable with in the program\n",
    "\n",
    "# program  ====>>> collection of statements to do any specific task\n",
    "\n",
    "# Flow of execution of the program  ===>> line by line \n",
    "\n",
    "# Control statement s   ======>>> to change flow of execution of the program\n",
    "\n",
    "# Types of control statements\n",
    "\n",
    "# Conditional Statements\n",
    "\n",
    "# Looping statements\n",
    "\n",
    "# control keywords\n",
    "#######################################################################################"
   ]
  },
  {
   "cell_type": "code",
   "execution_count": 3,
   "metadata": {},
   "outputs": [
    {
     "name": "stdout",
     "output_type": "stream",
     "text": [
      "enter age of you : 22\n",
      "welcome to voter id application center\n",
      "enter full name : \"anjan kumar\"\n",
      "enter DOB : \"26/01/1994\"\n",
      "enter phone number : \"564124874\"\n",
      "thanks for visiting the voter id center\n"
     ]
    }
   ],
   "source": [
    "# condtional statements\n",
    "'''\n",
    "===>>> The execution of the statements which can depends on conditon\n",
    "\n",
    "'''\n",
    "# simple if \n",
    "# if and else\n",
    "# elif ladder\n",
    "# nested if\n",
    "'''\n",
    "WAP apply the voter id application\n",
    "age >=18\n",
    "'''\n",
    "age = input(\"enter age of you : \")\n",
    "if ( age >= 18):\n",
    "    print \"welcome to voter id application center\"\n",
    "    name = input(\"enter full name : \")\n",
    "    DOB  = input(\"enter DOB : \")\n",
    "    phone= input(\"enter phone number : \")\n",
    "print \"thanks for visiting the voter id center\""
   ]
  },
  {
   "cell_type": "code",
   "execution_count": 10,
   "metadata": {},
   "outputs": [
    {
     "name": "stdout",
     "output_type": "stream",
     "text": [
      "enter year : 2003\n",
      "not leap year\n"
     ]
    }
   ],
   "source": [
    "# wap given year is leap year or not\n",
    "# %4 --> 0  \n",
    "#####%100 --> non Zero----> leap\n",
    "#####%100 --> 0\n",
    "####### %400 --->> 0------> leap\n",
    "year = input(\"enter year : \")\n",
    "if((year % 4 == 0 and year %100 != 0) or year %400 == 0):\n",
    "    print year,\" is leap year\"\n",
    "else:\n",
    "    print \"not leap year\""
   ]
  },
  {
   "cell_type": "code",
   "execution_count": null,
   "metadata": {},
   "outputs": [],
   "source": [
    "# wap print given number is even or odd"
   ]
  },
  {
   "cell_type": "code",
   "execution_count": null,
   "metadata": {},
   "outputs": [],
   "source": [
    "# wap print given number is possible factorial or not"
   ]
  },
  {
   "cell_type": "code",
   "execution_count": 12,
   "metadata": {},
   "outputs": [
    {
     "name": "stdout",
     "output_type": "stream",
     "text": [
      "enter age of you:25\n",
      "enter age of sis: 30\n",
      "your sister is  elder than you:\n",
      "age difference :  5\n"
     ]
    }
   ],
   "source": [
    "# wap find the age difference between you and your sister\n",
    "age_you = input(\"enter age of you:\")\n",
    "age_sis = input(\"enter age of sis: \")\n",
    "if(age_you > age_sis):\n",
    "    print\"your elder than your sister:\"\n",
    "    print \"age difference : \",age_you-age_sis\n",
    "else:\n",
    "    print\"your sister is  elder than you:\"\n",
    "    print \"age difference : \",age_sis-age_you"
   ]
  }
 ],
 "metadata": {
  "kernelspec": {
   "display_name": "Python 2",
   "language": "python",
   "name": "python2"
  },
  "language_info": {
   "codemirror_mode": {
    "name": "ipython",
    "version": 2
   },
   "file_extension": ".py",
   "mimetype": "text/x-python",
   "name": "python",
   "nbconvert_exporter": "python",
   "pygments_lexer": "ipython2",
   "version": "2.7.16"
  }
 },
 "nbformat": 4,
 "nbformat_minor": 2
}
