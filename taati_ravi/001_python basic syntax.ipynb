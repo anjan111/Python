{
 "cells": [
  {
   "cell_type": "markdown",
   "metadata": {},
   "source": [
    "# python basic syntax\n",
    "\n",
    "=====>>>  syntax\n",
    "        \n",
    "          ===>> The structure for writing the program\n",
    "\n",
    "====>>>  program\n",
    "\n",
    "           ====>>> collection of instruction to any one specific task\n",
    "\n",
    "====>>>  Instruction\n",
    "\n",
    "            ====>>   A line of code within the program\n",
    "            \n",
    "\n",
    "====>>>  Types of instruction\n",
    "\n",
    "            ====>>>  comments  ( # , ''' ''')   which never executed \n",
    "            \n",
    "            ====>>>  statement -----> which are executed \n",
    "\n",
    "====>>>  python keywords\n",
    "\n",
    "            ---->>  predefined word / reserverd \n",
    "            \n",
    "            ---->>  every keyword is used for to specific task\n",
    "            \n",
    "            ---->> keyword ---->>  kwlist\n",
    "\n",
    "===>>>   python identifier\n",
    "\n",
    "        ----->> user defined / programmer defined word\n",
    "        \n",
    "        ---->>  To give the name entities for function / variables/ classes\n",
    "        \n",
    "        ===>>>  Rules\n",
    "        \n",
    "                1 . we can use all alphabets   a-z / A-Z\n",
    "                \n",
    "                2. we can use digits   0 - 9\n",
    "                \n",
    "                3. we can use underscore   _\n",
    "                \n",
    "                4. don't start  with digit\n",
    "                \n",
    "                5. don't use keywords\n",
    "                \n",
    "                6. don't use special character\n",
    "                \n",
    "====>> python variable\n",
    "\n",
    "        ===>>> to store the data with in memory loc\n",
    "        \n",
    "        ===>>>  we don't need to declare the varibale before using it\n",
    "        \n",
    " identifier = data\n",
    "\n",
    "\n",
    "\n",
    "\n",
    "\n"
   ]
  },
  {
   "cell_type": "code",
   "execution_count": 6,
   "metadata": {},
   "outputs": [
    {
     "name": "stdout",
     "output_type": "stream",
     "text": [
      "enter int45.566\n",
      "45.566\n",
      "<type 'float'>\n",
      "65008480\n"
     ]
    }
   ],
   "source": [
    "var = input(\"enter int\")\n",
    "print(var)\n",
    "print(type(var))\n",
    "print(id(var))  # memory loc of avariable\n"
   ]
  },
  {
   "cell_type": "code",
   "execution_count": 7,
   "metadata": {},
   "outputs": [
    {
     "name": "stdout",
     "output_type": "stream",
     "text": [
      "123\n"
     ]
    }
   ],
   "source": [
    "Va2_ = 123\n",
    "print(Va2_)"
   ]
  },
  {
   "cell_type": "code",
   "execution_count": 8,
   "metadata": {},
   "outputs": [
    {
     "ename": "SyntaxError",
     "evalue": "invalid syntax (<ipython-input-8-d2efad9d5bf1>, line 1)",
     "output_type": "error",
     "traceback": [
      "\u001b[1;36m  File \u001b[1;32m\"<ipython-input-8-d2efad9d5bf1>\"\u001b[1;36m, line \u001b[1;32m1\u001b[0m\n\u001b[1;33m    1var =123\u001b[0m\n\u001b[1;37m       ^\u001b[0m\n\u001b[1;31mSyntaxError\u001b[0m\u001b[1;31m:\u001b[0m invalid syntax\n"
     ]
    }
   ],
   "source": [
    "1var =123"
   ]
  },
  {
   "cell_type": "code",
   "execution_count": 9,
   "metadata": {},
   "outputs": [
    {
     "ename": "SyntaxError",
     "evalue": "invalid syntax (<ipython-input-9-6f0fc181739b>, line 1)",
     "output_type": "error",
     "traceback": [
      "\u001b[1;36m  File \u001b[1;32m\"<ipython-input-9-6f0fc181739b>\"\u001b[1;36m, line \u001b[1;32m1\u001b[0m\n\u001b[1;33m    va@t =123\u001b[0m\n\u001b[1;37m      ^\u001b[0m\n\u001b[1;31mSyntaxError\u001b[0m\u001b[1;31m:\u001b[0m invalid syntax\n"
     ]
    }
   ],
   "source": [
    "va@t =123"
   ]
  },
  {
   "cell_type": "code",
   "execution_count": 10,
   "metadata": {},
   "outputs": [
    {
     "ename": "SyntaxError",
     "evalue": "invalid syntax (<ipython-input-10-b2245a128438>, line 1)",
     "output_type": "error",
     "traceback": [
      "\u001b[1;36m  File \u001b[1;32m\"<ipython-input-10-b2245a128438>\"\u001b[1;36m, line \u001b[1;32m1\u001b[0m\n\u001b[1;33m    while = 123\u001b[0m\n\u001b[1;37m          ^\u001b[0m\n\u001b[1;31mSyntaxError\u001b[0m\u001b[1;31m:\u001b[0m invalid syntax\n"
     ]
    }
   ],
   "source": [
    "while = 123"
   ]
  },
  {
   "cell_type": "code",
   "execution_count": 8,
   "metadata": {},
   "outputs": [
    {
     "name": "stdout",
     "output_type": "stream",
     "text": [
      "38237360\n",
      "38237360\n"
     ]
    }
   ],
   "source": [
    "print id(69)\n",
    "a = 69\n",
    "print id(a)"
   ]
  },
  {
   "cell_type": "code",
   "execution_count": 3,
   "metadata": {},
   "outputs": [
    {
     "name": "stdout",
     "output_type": "stream",
     "text": [
      "['and', 'as', 'assert', 'break', 'class', 'continue', 'def', 'del', 'elif', 'else', 'except', 'exec', 'finally', 'for', 'from', 'global', 'if', 'import', 'in', 'is', 'lambda', 'not', 'or', 'pass', 'print', 'raise', 'return', 'try', 'while', 'with', 'yield']\n"
     ]
    }
   ],
   "source": [
    "import keyword\n",
    "print keyword.kwlist"
   ]
  },
  {
   "cell_type": "code",
   "execution_count": null,
   "metadata": {},
   "outputs": [],
   "source": []
  },
  {
   "cell_type": "code",
   "execution_count": 1,
   "metadata": {},
   "outputs": [
    {
     "name": "stdout",
     "output_type": "stream",
     "text": [
      "hello\n"
     ]
    }
   ],
   "source": [
    "print \"hello\""
   ]
  },
  {
   "cell_type": "code",
   "execution_count": 2,
   "metadata": {},
   "outputs": [
    {
     "name": "stdout",
     "output_type": "stream",
     "text": [
      "hello\n"
     ]
    }
   ],
   "source": [
    "print(\"hello\")"
   ]
  },
  {
   "cell_type": "code",
   "execution_count": 3,
   "metadata": {},
   "outputs": [
    {
     "name": "stdout",
     "output_type": "stream",
     "text": [
      "enter int : 0\n",
      "data with in var ==>>  0\n",
      "<type 'int'>\n",
      "memory loc :  38237024\n"
     ]
    }
   ],
   "source": [
    "# python datatypes\n",
    "'''\n",
    "===>>> what type of data will holded by variable\n",
    "===>> there 2 types \n",
    "\n",
    "1. fundamental datatype\n",
    "\n",
    "    ===>>>  A single variable can hold single daata\n",
    "    1. int  ===>>> real number  ,  -12 ,  89 , 0\n",
    "    2. float ==>>>  real point nummber   -12.3343 ,56.654 , 0.00\n",
    "    3. complex ==>> real + imgj ===>> 45 + 56j\n",
    "    4. bool   ===>> True / False\n",
    "    5. Nonetype ==>> None\n",
    "\n",
    "2. sequencial datatype\n",
    "'''\n",
    "var = input(\"enter int : \")\n",
    "print \"data with in var ==>> \",var\n",
    "print type(var)\n",
    "print \"memory loc : \",id(var)"
   ]
  },
  {
   "cell_type": "code",
   "execution_count": 4,
   "metadata": {},
   "outputs": [
    {
     "name": "stdout",
     "output_type": "stream",
     "text": [
      "enter float : 78.66426\n",
      "data with in var ==>>  78.66426\n",
      "<type 'float'>\n",
      "memory loc :  65240424\n"
     ]
    }
   ],
   "source": [
    "var = input(\"enter float : \")\n",
    "print \"data with in var ==>> \",var\n",
    "print type(var)\n",
    "print \"memory loc : \",id(var)"
   ]
  },
  {
   "cell_type": "code",
   "execution_count": 5,
   "metadata": {},
   "outputs": [
    {
     "name": "stdout",
     "output_type": "stream",
     "text": [
      "enter complex : 34 + 23j\n",
      "data with in var ==>>  (34+23j)\n",
      "<type 'complex'>\n",
      "memory loc :  65747024\n"
     ]
    }
   ],
   "source": [
    "var = input(\"enter complex : \")\n",
    "print \"data with in var ==>> \",var\n",
    "print type(var)\n",
    "print \"memory loc : \",id(var)"
   ]
  },
  {
   "cell_type": "code",
   "execution_count": 6,
   "metadata": {},
   "outputs": [
    {
     "name": "stdout",
     "output_type": "stream",
     "text": [
      "enter bool : True\n",
      "data with in var ==>>  True\n",
      "<type 'bool'>\n",
      "memory loc :  1933164264\n"
     ]
    }
   ],
   "source": [
    "var = input(\"enter bool : \")\n",
    "print \"data with in var ==>> \",var\n",
    "print type(var)\n",
    "print \"memory loc : \",id(var)"
   ]
  },
  {
   "cell_type": "code",
   "execution_count": 7,
   "metadata": {},
   "outputs": [
    {
     "name": "stdout",
     "output_type": "stream",
     "text": [
      "enter bool : False\n",
      "data with in var ==>>  False\n",
      "<type 'bool'>\n",
      "memory loc :  1933163848\n"
     ]
    }
   ],
   "source": [
    "var = input(\"enter bool : \")\n",
    "print \"data with in var ==>> \",var\n",
    "print type(var)\n",
    "print \"memory loc : \",id(var)"
   ]
  },
  {
   "cell_type": "code",
   "execution_count": 9,
   "metadata": {},
   "outputs": [
    {
     "name": "stdout",
     "output_type": "stream",
     "text": [
      "enter str : \"python program\"\n",
      "data with in var ==>>  python program\n",
      "<type 'str'>\n",
      "memory loc :  71863728\n"
     ]
    }
   ],
   "source": [
    "# sequencial datatype\n",
    "'''\n",
    "===>> A single variable can hold multiple data elements \n",
    "\n",
    "    1. str ===>>> group of characters \"\"\n",
    "    2. list ==>>  group of elements [ ]\n",
    "    3. tuple==>>  group of elements ( )\n",
    "    4. set ===>>  group of elements { }\n",
    "    5. dict ==>>  group of items    key : value  { }\n",
    "\n",
    "'''\n",
    "var = input(\"enter str : \")\n",
    "print \"data with in var ==>> \",var\n",
    "print type(var)\n",
    "print \"memory loc : \",id(var)"
   ]
  },
  {
   "cell_type": "code",
   "execution_count": 10,
   "metadata": {},
   "outputs": [
    {
     "name": "stdout",
     "output_type": "stream",
     "text": [
      "enter list : [ 45,67]\n",
      "data with in var ==>>  [45, 67]\n",
      "<type 'list'>\n",
      "memory loc :  68225544\n"
     ]
    }
   ],
   "source": [
    "var = input(\"enter list : \")\n",
    "print \"data with in var ==>> \",var\n",
    "print type(var)\n",
    "print \"memory loc : \",id(var)"
   ]
  },
  {
   "cell_type": "code",
   "execution_count": 11,
   "metadata": {},
   "outputs": [
    {
     "name": "stdout",
     "output_type": "stream",
     "text": [
      "enter tuple : (45,67)\n",
      "data with in var ==>>  (45, 67)\n",
      "<type 'tuple'>\n",
      "memory loc :  65709064\n"
     ]
    }
   ],
   "source": [
    "var = input(\"enter tuple : \")\n",
    "print \"data with in var ==>> \",var\n",
    "print type(var)\n",
    "print \"memory loc : \",id(var)"
   ]
  },
  {
   "cell_type": "code",
   "execution_count": 12,
   "metadata": {},
   "outputs": [
    {
     "name": "stdout",
     "output_type": "stream",
     "text": [
      "enter set : {79,6,True}\n",
      "data with in var ==>>  set([True, 6, 79])\n",
      "<type 'set'>\n",
      "memory loc :  62357288\n"
     ]
    }
   ],
   "source": [
    "var = input(\"enter set : \")\n",
    "print \"data with in var ==>> \",var\n",
    "print type(var)\n",
    "print \"memory loc : \",id(var)"
   ]
  },
  {
   "cell_type": "code",
   "execution_count": 13,
   "metadata": {},
   "outputs": [
    {
     "name": "stdout",
     "output_type": "stream",
     "text": [
      "enter dict : { 45 : \"345\" ,  90: \"soc\" , 12 : \"dsjkf\"}\n",
      "data with in var ==>>  {90: 'soc', 12: 'dsjkf', 45: '345'}\n",
      "<type 'dict'>\n",
      "memory loc :  72568344\n"
     ]
    }
   ],
   "source": [
    "var = input(\"enter dict : \")\n",
    "print \"data with in var ==>> \",var\n",
    "print type(var)\n",
    "print \"memory loc : \",id(var)"
   ]
  },
  {
   "cell_type": "code",
   "execution_count": 15,
   "metadata": {},
   "outputs": [
    {
     "name": "stdout",
     "output_type": "stream",
     "text": [
      "[12, 89]\n",
      "[45, 89]\n"
     ]
    }
   ],
   "source": [
    "# mutable datatype\n",
    "a = [12,89]\n",
    "print a\n",
    "a[0] = 45\n",
    "print a"
   ]
  },
  {
   "cell_type": "code",
   "execution_count": 16,
   "metadata": {},
   "outputs": [
    {
     "name": "stdout",
     "output_type": "stream",
     "text": [
      "(12, 89)\n"
     ]
    },
    {
     "ename": "TypeError",
     "evalue": "'tuple' object does not support item assignment",
     "output_type": "error",
     "traceback": [
      "\u001b[1;31m---------------------------------------------------------------------------\u001b[0m",
      "\u001b[1;31mTypeError\u001b[0m                                 Traceback (most recent call last)",
      "\u001b[1;32m<ipython-input-16-db129fdae830>\u001b[0m in \u001b[0;36m<module>\u001b[1;34m()\u001b[0m\n\u001b[0;32m      1\u001b[0m \u001b[0ma\u001b[0m \u001b[1;33m=\u001b[0m \u001b[1;33m(\u001b[0m\u001b[1;36m12\u001b[0m\u001b[1;33m,\u001b[0m\u001b[1;36m89\u001b[0m\u001b[1;33m)\u001b[0m\u001b[1;33m\u001b[0m\u001b[0m\n\u001b[0;32m      2\u001b[0m \u001b[1;32mprint\u001b[0m \u001b[0ma\u001b[0m\u001b[1;33m\u001b[0m\u001b[0m\n\u001b[1;32m----> 3\u001b[1;33m \u001b[0ma\u001b[0m\u001b[1;33m[\u001b[0m\u001b[1;36m0\u001b[0m\u001b[1;33m]\u001b[0m \u001b[1;33m=\u001b[0m \u001b[1;36m45\u001b[0m\u001b[1;33m\u001b[0m\u001b[0m\n\u001b[0m\u001b[0;32m      4\u001b[0m \u001b[1;32mprint\u001b[0m \u001b[0ma\u001b[0m\u001b[1;33m\u001b[0m\u001b[0m\n",
      "\u001b[1;31mTypeError\u001b[0m: 'tuple' object does not support item assignment"
     ]
    }
   ],
   "source": [
    "# immutable datatype\n",
    "a = (12,89)\n",
    "print a\n",
    "a[0] = 45\n",
    "print a"
   ]
  },
  {
   "cell_type": "code",
   "execution_count": 18,
   "metadata": {},
   "outputs": [
    {
     "name": "stdout",
     "output_type": "stream",
     "text": [
      "enter int : 783.6642\n",
      "daata with in var :  783.6642\n",
      "<type 'float'>\n",
      "enter int : 783.6642\n",
      "daata with in var :  783.6642\n",
      "<type 'str'>\n"
     ]
    }
   ],
   "source": [
    "# input() ====>>> to read the data from keyboard\n",
    "# raw_input() ==>> to read the data from keyboard\n",
    "var = input(\"enter int : \")\n",
    "print \"daata with in var : \",var\n",
    "print type(var)\n",
    "var = raw_input(\"enter int : \")\n",
    "print \"daata with in var : \",var\n",
    "print type(var)"
   ]
  },
  {
   "cell_type": "code",
   "execution_count": 19,
   "metadata": {},
   "outputs": [
    {
     "name": "stdout",
     "output_type": "stream",
     "text": [
      "enter int : 10\n",
      "enter int : 20\n",
      "1020\n"
     ]
    }
   ],
   "source": [
    "# wap sum of 2 number by raw_input\n",
    "a = raw_input(\"enter int : \")#   str\n",
    "b = raw_input(\"enter int : \")#  str\n",
    "res = a+b\n",
    "print res"
   ]
  },
  {
   "cell_type": "code",
   "execution_count": 20,
   "metadata": {},
   "outputs": [
    {
     "name": "stdout",
     "output_type": "stream",
     "text": [
      "enter int : 10\n",
      "enter int : 20\n",
      "30\n"
     ]
    }
   ],
   "source": [
    "# datatype conversion functions\n",
    "'''\n",
    "raw_input ===>>> int data ===>> str datatype ===>>> int() ===>> int data\n",
    "raw_input ===>>> float data ==>> str datatype ==>> float() ===>> float data\n",
    "                                                    complex()\n",
    "                                                    bool()\n",
    "                                                    str()\n",
    "                                                    list()\n",
    "                                                    tuple()\n",
    "                                                    set()\n",
    "                                                    dict()\n",
    "\n",
    "'''\n",
    "# wap sum of 2 number by raw_input\n",
    "a = raw_input(\"enter int : \")#   str\n",
    "b = raw_input(\"enter int : \")#  str\n",
    "a = int(a)\n",
    "b = int(b)\n",
    "res = a+b\n",
    "print res"
   ]
  },
  {
   "cell_type": "code",
   "execution_count": 21,
   "metadata": {},
   "outputs": [
    {
     "name": "stdout",
     "output_type": "stream",
     "text": [
      "enter float : 789.6451\n",
      "<type 'str'>\n",
      "<type 'float'>\n"
     ]
    }
   ],
   "source": [
    "# read float by raw_input and convert str to float\n",
    "var = raw_input(\"enter float : \")\n",
    "print type(var)\n",
    "var = float(var)\n",
    "print type(var)"
   ]
  },
  {
   "cell_type": "code",
   "execution_count": 23,
   "metadata": {},
   "outputs": [
    {
     "name": "stdout",
     "output_type": "stream",
     "text": [
      "enter bool : False\n",
      "<type 'str'>\n",
      "<type 'bool'>\n"
     ]
    }
   ],
   "source": [
    "# read bool by raw_input and convert str to bool\n",
    "var = raw_input(\"enter bool : \")\n",
    "print type(var)\n",
    "var = bool(var)\n",
    "print type(var)"
   ]
  },
  {
   "cell_type": "code",
   "execution_count": null,
   "metadata": {},
   "outputs": [],
   "source": []
  },
  {
   "cell_type": "code",
   "execution_count": null,
   "metadata": {},
   "outputs": [],
   "source": []
  }
 ],
 "metadata": {
  "kernelspec": {
   "display_name": "Python 2",
   "language": "python",
   "name": "python2"
  },
  "language_info": {
   "codemirror_mode": {
    "name": "ipython",
    "version": 2
   },
   "file_extension": ".py",
   "mimetype": "text/x-python",
   "name": "python",
   "nbconvert_exporter": "python",
   "pygments_lexer": "ipython2",
   "version": "2.7.16"
  }
 },
 "nbformat": 4,
 "nbformat_minor": 2
}
