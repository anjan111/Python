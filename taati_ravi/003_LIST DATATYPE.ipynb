{
 "cells": [
  {
   "cell_type": "code",
   "execution_count": 2,
   "metadata": {},
   "outputs": [
    {
     "name": "stdout",
     "output_type": "stream",
     "text": [
      "<type 'list'>\n"
     ]
    }
   ],
   "source": [
    "# list datatype\n",
    "'''\n",
    "===>>> group of elements (int, float, complex, bool, None, str,list,tuple,set,dict)with in []\n",
    "===>>> list is a hetrogenious datatype\n",
    "'''\n",
    "a = [12 , 34.5 ,True,3+5j,\"str\", [ 1,23,4],(1,2,4),{1,2,3},{34:\"dh\"}]\n",
    "print type(a)"
   ]
  },
  {
   "cell_type": "code",
   "execution_count": 8,
   "metadata": {},
   "outputs": [
    {
     "name": "stdout",
     "output_type": "stream",
     "text": [
      "12\n",
      "34.5\n",
      "True\n",
      "{34: 'dh'}\n",
      "set([1, 2, 3])\n",
      "(1, 2, 4)\n"
     ]
    }
   ],
   "source": [
    "# list indexing \n",
    "a = [12 , 34.5 ,True,3+5j,\"str\", [ 1,23,4],(1,2,4),{1,2,3},{34:\"dh\"}]\n",
    "# positive indexing\n",
    "print a[0] # 12\n",
    "print a[1] #34.5\n",
    "print a[2]# True\n",
    "# negative indexing \n",
    "print a[-1] #{34:\"dh\"1}\n",
    "print a[-2]# {1,2,3}\n",
    "print a[-3]#(1,2,4)"
   ]
  },
  {
   "cell_type": "code",
   "execution_count": 9,
   "metadata": {},
   "outputs": [
    {
     "name": "stdout",
     "output_type": "stream",
     "text": [
      "12\n",
      "34.5\n",
      "True\n",
      "{34: 'dh'}\n",
      "set([1, 2, 3])\n",
      "(1, 2, 4)\n"
     ]
    }
   ],
   "source": [
    "#tuple indexing \n",
    "a = (12 , 34.5 ,True,3+5j,\"str\", [ 1,23,4],(1,2,4),{1,2,3},{34:\"dh\"})\n",
    "# positive indexing\n",
    "print a[0] # 12\n",
    "print a[1] #34.5\n",
    "print a[2]# True\n",
    "# negative indexing \n",
    "print a[-1] #{34:\"dh\"1}\n",
    "print a[-2]# {1,2,3}\n",
    "print a[-3]#(1,2,4)"
   ]
  },
  {
   "cell_type": "code",
   "execution_count": null,
   "metadata": {},
   "outputs": [],
   "source": []
  },
  {
   "cell_type": "code",
   "execution_count": 10,
   "metadata": {},
   "outputs": [
    {
     "name": "stdout",
     "output_type": "stream",
     "text": [
      "6\n",
      "[34, 12, 90]\n",
      "[12, 34, 12, 90]\n",
      "[34, 12, 90, 34, 23]\n"
     ]
    }
   ],
   "source": [
    "# list sclicing \n",
    "'''\n",
    "====>>we can access continous list elements as a list\n",
    "\n",
    "var[ start : stop]\n",
    "\n",
    "start ====>>>>   0\n",
    "stop  ====>>>>  len of list\n",
    "'''\n",
    "var =[12,34,12,90,34,23]\n",
    "print len(var)# 6\n",
    "print var[1 : 4 ]# [34,12,90]\n",
    "print var[: 4]#[12,34,12,90]\n",
    "print var[1:]#[34,12,90,34,23]\n",
    "\n"
   ]
  },
  {
   "cell_type": "code",
   "execution_count": 11,
   "metadata": {},
   "outputs": [
    {
     "name": "stdout",
     "output_type": "stream",
     "text": [
      "6\n",
      "(34, 12, 90)\n",
      "(12, 34, 12, 90)\n",
      "(34, 12, 90, 34, 23)\n"
     ]
    }
   ],
   "source": [
    "# tuple sclicing \n",
    "'''\n",
    "====>>we can access continous tuple elements as a tuple\n",
    "\n",
    "var[ start : stop]\n",
    "\n",
    "start ====>>>>   0\n",
    "stop  ====>>>>  len of tuple\n",
    "'''\n",
    "var =(12,34,12,90,34,23)\n",
    "print len(var)# 6\n",
    "print var[1 : 4 ]# (34,12,90)\n",
    "print var[: 4]#(12,34,12,90)\n",
    "print var[1:]#(34,12,90,34,23)\n",
    "\n"
   ]
  },
  {
   "cell_type": "code",
   "execution_count": null,
   "metadata": {},
   "outputs": [],
   "source": []
  },
  {
   "cell_type": "code",
   "execution_count": 4,
   "metadata": {},
   "outputs": [
    {
     "name": "stdout",
     "output_type": "stream",
     "text": [
      "[12, 67, 78]\n",
      "[67, 90, 78]\n",
      "[23, 90, 34]\n"
     ]
    }
   ],
   "source": [
    "# list dicing \n",
    "'''\n",
    "===>> we can access the step wise list elements as a list\n",
    "\n",
    "var[ start: stop: step]\n",
    "\n",
    "step ====>>> 1\n",
    "start ===>>> 0\n",
    "stop  ===>>> len of list\n",
    "'''\n",
    "var =[ 12 , 34  ,  67  ,  90  ,78  , 23]\n",
    "print var[0 : 5 : 2] # [ 12, 67  , 78]\n",
    "print var[2:5:]#[67,90,78]\n",
    "print var[-1:-6:-2]#[23,90,34]"
   ]
  },
  {
   "cell_type": "code",
   "execution_count": 6,
   "metadata": {},
   "outputs": [
    {
     "name": "stdout",
     "output_type": "stream",
     "text": [
      "[1, 2, 3]\n",
      "2\n",
      "[2, [8, 5, 3]]\n",
      "[8, 5, 3]\n",
      "3\n"
     ]
    }
   ],
   "source": [
    "# nested indexing   \n",
    "var = [[1,2,3] ,[2,[8,5,3]]] #### 2 of 0 index ,,,  3 in index 1\n",
    "print var[0]\n",
    "print var[0][1]#2\n",
    "print var[1]\n",
    "print var[1][1]\n",
    "print var[1][1][2]# 3"
   ]
  },
  {
   "cell_type": "code",
   "execution_count": 7,
   "metadata": {},
   "outputs": [
    {
     "name": "stdout",
     "output_type": "stream",
     "text": [
      "[1, 4, 7]\n",
      "[1, 34, 7]\n"
     ]
    }
   ],
   "source": [
    "# list is mutbale datatype\n",
    "var = [1,4,7]\n",
    "print var\n",
    "var[1] =34\n",
    "print var"
   ]
  },
  {
   "cell_type": "code",
   "execution_count": 12,
   "metadata": {},
   "outputs": [
    {
     "name": "stdout",
     "output_type": "stream",
     "text": [
      "(1, 4, 7)\n"
     ]
    },
    {
     "ename": "TypeError",
     "evalue": "'tuple' object does not support item assignment",
     "output_type": "error",
     "traceback": [
      "\u001b[1;31m---------------------------------------------------------------------------\u001b[0m",
      "\u001b[1;31mTypeError\u001b[0m                                 Traceback (most recent call last)",
      "\u001b[1;32m<ipython-input-12-8a933c85e51e>\u001b[0m in \u001b[0;36m<module>\u001b[1;34m()\u001b[0m\n\u001b[0;32m      2\u001b[0m \u001b[0mvar\u001b[0m \u001b[1;33m=\u001b[0m \u001b[1;33m(\u001b[0m\u001b[1;36m1\u001b[0m\u001b[1;33m,\u001b[0m\u001b[1;36m4\u001b[0m\u001b[1;33m,\u001b[0m\u001b[1;36m7\u001b[0m\u001b[1;33m)\u001b[0m\u001b[1;33m\u001b[0m\u001b[0m\n\u001b[0;32m      3\u001b[0m \u001b[1;32mprint\u001b[0m \u001b[0mvar\u001b[0m\u001b[1;33m\u001b[0m\u001b[0m\n\u001b[1;32m----> 4\u001b[1;33m \u001b[0mvar\u001b[0m\u001b[1;33m[\u001b[0m\u001b[1;36m1\u001b[0m\u001b[1;33m]\u001b[0m \u001b[1;33m=\u001b[0m\u001b[1;36m34\u001b[0m\u001b[1;33m\u001b[0m\u001b[0m\n\u001b[0m\u001b[0;32m      5\u001b[0m \u001b[1;32mprint\u001b[0m \u001b[0mvar\u001b[0m\u001b[1;33m\u001b[0m\u001b[0m\n",
      "\u001b[1;31mTypeError\u001b[0m: 'tuple' object does not support item assignment"
     ]
    }
   ],
   "source": [
    "#tuple is immutbale datatype\n",
    "var = (1,4,7)\n",
    "print var\n",
    "var[1] =34\n",
    "print var"
   ]
  },
  {
   "cell_type": "code",
   "execution_count": 13,
   "metadata": {},
   "outputs": [
    {
     "name": "stdout",
     "output_type": "stream",
     "text": [
      "['__add__', '__class__', '__contains__', '__delattr__', '__delitem__', '__delslice__', '__doc__', '__eq__', '__format__', '__ge__', '__getattribute__', '__getitem__', '__getslice__', '__gt__', '__hash__', '__iadd__', '__imul__', '__init__', '__iter__', '__le__', '__len__', '__lt__', '__mul__', '__ne__', '__new__', '__reduce__', '__reduce_ex__', '__repr__', '__reversed__', '__rmul__', '__setattr__', '__setitem__', '__setslice__', '__sizeof__', '__str__', '__subclasshook__', 'append', 'count', 'extend', 'index', 'insert', 'pop', 'remove', 'reverse', 'sort']\n"
     ]
    }
   ],
   "source": [
    "print dir(list)"
   ]
  },
  {
   "cell_type": "code",
   "execution_count": 14,
   "metadata": {},
   "outputs": [
    {
     "name": "stdout",
     "output_type": "stream",
     "text": [
      "['__add__', '__class__', '__contains__', '__delattr__', '__doc__', '__eq__', '__format__', '__ge__', '__getattribute__', '__getitem__', '__getnewargs__', '__getslice__', '__gt__', '__hash__', '__init__', '__iter__', '__le__', '__len__', '__lt__', '__mul__', '__ne__', '__new__', '__reduce__', '__reduce_ex__', '__repr__', '__rmul__', '__setattr__', '__sizeof__', '__str__', '__subclasshook__', 'count', 'index']\n"
     ]
    }
   ],
   "source": [
    "print dir(tuple)"
   ]
  },
  {
   "cell_type": "code",
   "execution_count": 15,
   "metadata": {},
   "outputs": [
    {
     "name": "stdout",
     "output_type": "stream",
     "text": [
      "[12, 78, 34, 90]\n",
      "[12, 78, 34, 90, 100]\n"
     ]
    }
   ],
   "source": [
    "var = [12,78,34,90]\n",
    "print var\n",
    "var.append(100)\n",
    "print var"
   ]
  },
  {
   "cell_type": "code",
   "execution_count": 16,
   "metadata": {},
   "outputs": [
    {
     "name": "stdout",
     "output_type": "stream",
     "text": [
      "[12, 78, 34, 12, 12, 90]\n",
      "3\n"
     ]
    }
   ],
   "source": [
    "var = [12,78,34,12,12,90]\n",
    "print var\n",
    "print var.count(12)\n"
   ]
  },
  {
   "cell_type": "code",
   "execution_count": 17,
   "metadata": {},
   "outputs": [
    {
     "name": "stdout",
     "output_type": "stream",
     "text": [
      "[12, 78, 34, 90]\n",
      "[12, 78, 34, 90, 2, 1, 9, 10]\n"
     ]
    }
   ],
   "source": [
    "var = [12,78,34,90]\n",
    "b = [2,1,9,10]\n",
    "print var\n",
    "var.extend(b)\n",
    "print var"
   ]
  },
  {
   "cell_type": "code",
   "execution_count": 19,
   "metadata": {},
   "outputs": [
    {
     "name": "stdout",
     "output_type": "stream",
     "text": [
      "[12, 78, 34, 90]\n",
      "2\n"
     ]
    },
    {
     "ename": "ValueError",
     "evalue": "100 is not in list",
     "output_type": "error",
     "traceback": [
      "\u001b[1;31m---------------------------------------------------------------------------\u001b[0m",
      "\u001b[1;31mValueError\u001b[0m                                Traceback (most recent call last)",
      "\u001b[1;32m<ipython-input-19-e021aca1277d>\u001b[0m in \u001b[0;36m<module>\u001b[1;34m()\u001b[0m\n\u001b[0;32m      2\u001b[0m \u001b[1;32mprint\u001b[0m \u001b[0mvar\u001b[0m\u001b[1;33m\u001b[0m\u001b[0m\n\u001b[0;32m      3\u001b[0m \u001b[1;32mprint\u001b[0m \u001b[0mvar\u001b[0m\u001b[1;33m.\u001b[0m\u001b[0mindex\u001b[0m\u001b[1;33m(\u001b[0m\u001b[1;36m34\u001b[0m\u001b[1;33m)\u001b[0m\u001b[1;31m# 2\u001b[0m\u001b[1;33m\u001b[0m\u001b[0m\n\u001b[1;32m----> 4\u001b[1;33m \u001b[1;32mprint\u001b[0m \u001b[0mvar\u001b[0m\u001b[1;33m.\u001b[0m\u001b[0mindex\u001b[0m\u001b[1;33m(\u001b[0m\u001b[1;36m100\u001b[0m\u001b[1;33m)\u001b[0m \u001b[1;31m# error\u001b[0m\u001b[1;33m\u001b[0m\u001b[0m\n\u001b[0m",
      "\u001b[1;31mValueError\u001b[0m: 100 is not in list"
     ]
    }
   ],
   "source": [
    "var = [12,78,34,90]\n",
    "print var\n",
    "print var.index(34)# 2\n",
    "print var.index(100) # error\n"
   ]
  },
  {
   "cell_type": "code",
   "execution_count": 22,
   "metadata": {},
   "outputs": [
    {
     "name": "stdout",
     "output_type": "stream",
     "text": [
      "[12, 78, 34, 90]\n",
      "[12, 78, 100, 34, 90]\n"
     ]
    }
   ],
   "source": [
    "var = [12,78,34,90]\n",
    "print var\n",
    "var.insert(2 , 100)\n",
    "print var"
   ]
  },
  {
   "cell_type": "code",
   "execution_count": 25,
   "metadata": {},
   "outputs": [
    {
     "name": "stdout",
     "output_type": "stream",
     "text": [
      "[12, 78, 34, 90]\n",
      "90\n",
      "[12, 78, 34]\n",
      "78\n",
      "[12, 34]\n"
     ]
    },
    {
     "ename": "IndexError",
     "evalue": "pop index out of range",
     "output_type": "error",
     "traceback": [
      "\u001b[1;31m---------------------------------------------------------------------------\u001b[0m",
      "\u001b[1;31mIndexError\u001b[0m                                Traceback (most recent call last)",
      "\u001b[1;32m<ipython-input-25-4b863006c2cc>\u001b[0m in \u001b[0;36m<module>\u001b[1;34m()\u001b[0m\n\u001b[0;32m      5\u001b[0m \u001b[1;32mprint\u001b[0m \u001b[0mvar\u001b[0m\u001b[1;33m.\u001b[0m\u001b[0mpop\u001b[0m\u001b[1;33m(\u001b[0m\u001b[1;36m1\u001b[0m\u001b[1;33m)\u001b[0m\u001b[1;31m# index element can remove and return\u001b[0m\u001b[1;33m\u001b[0m\u001b[0m\n\u001b[0;32m      6\u001b[0m \u001b[1;32mprint\u001b[0m \u001b[0mvar\u001b[0m\u001b[1;33m\u001b[0m\u001b[0m\n\u001b[1;32m----> 7\u001b[1;33m \u001b[1;32mprint\u001b[0m \u001b[0mvar\u001b[0m\u001b[1;33m.\u001b[0m\u001b[0mpop\u001b[0m\u001b[1;33m(\u001b[0m\u001b[1;36m10\u001b[0m\u001b[1;33m)\u001b[0m\u001b[1;31m# wnen index not available index error\u001b[0m\u001b[1;33m\u001b[0m\u001b[0m\n\u001b[0m",
      "\u001b[1;31mIndexError\u001b[0m: pop index out of range"
     ]
    }
   ],
   "source": [
    "var = [12,78,34,90]\n",
    "print var\n",
    "print var.pop()# -1 index is return and remove\n",
    "print var\n",
    "print var.pop(1)# index element can remove and return\n",
    "print var\n",
    "print var.pop(10)# wnen index not available index error"
   ]
  },
  {
   "cell_type": "code",
   "execution_count": 26,
   "metadata": {},
   "outputs": [
    {
     "name": "stdout",
     "output_type": "stream",
     "text": [
      "[12, 45]\n"
     ]
    },
    {
     "ename": "ValueError",
     "evalue": "list.remove(x): x not in list",
     "output_type": "error",
     "traceback": [
      "\u001b[1;31m---------------------------------------------------------------------------\u001b[0m",
      "\u001b[1;31mValueError\u001b[0m                                Traceback (most recent call last)",
      "\u001b[1;32m<ipython-input-26-62fa03bbfa8f>\u001b[0m in \u001b[0;36m<module>\u001b[1;34m()\u001b[0m\n\u001b[0;32m      2\u001b[0m \u001b[0mvar\u001b[0m\u001b[1;33m.\u001b[0m\u001b[0mremove\u001b[0m\u001b[1;33m(\u001b[0m\u001b[1;36m67\u001b[0m\u001b[1;33m)\u001b[0m\u001b[1;33m\u001b[0m\u001b[0m\n\u001b[0;32m      3\u001b[0m \u001b[1;32mprint\u001b[0m \u001b[0mvar\u001b[0m\u001b[1;33m\u001b[0m\u001b[0m\n\u001b[1;32m----> 4\u001b[1;33m \u001b[0mvar\u001b[0m\u001b[1;33m.\u001b[0m\u001b[0mremove\u001b[0m\u001b[1;33m(\u001b[0m\u001b[1;36m100\u001b[0m\u001b[1;33m)\u001b[0m\u001b[1;33m\u001b[0m\u001b[0m\n\u001b[0m",
      "\u001b[1;31mValueError\u001b[0m: list.remove(x): x not in list"
     ]
    }
   ],
   "source": [
    "var = [12,67,45]\n",
    "var.remove(67)# it can remove 67\n",
    "print var\n",
    "var.remove(100)# error"
   ]
  },
  {
   "cell_type": "code",
   "execution_count": 28,
   "metadata": {},
   "outputs": [
    {
     "name": "stdout",
     "output_type": "stream",
     "text": [
      "[45, 67, 12]\n"
     ]
    }
   ],
   "source": [
    "var = [12,67,45]\n",
    "var.reverse()\n",
    "print var\n"
   ]
  },
  {
   "cell_type": "code",
   "execution_count": 30,
   "metadata": {},
   "outputs": [
    {
     "name": "stdout",
     "output_type": "stream",
     "text": [
      "[12, 45, 67]\n"
     ]
    }
   ],
   "source": [
    "var = [12,67,45]\n",
    "var.sort()\n",
    "print var\n"
   ]
  },
  {
   "cell_type": "code",
   "execution_count": 31,
   "metadata": {},
   "outputs": [
    {
     "name": "stdout",
     "output_type": "stream",
     "text": [
      "[12, 3, 100, 4]\n",
      "(12, 3, 100, 4)\n"
     ]
    }
   ],
   "source": [
    "var = (12,3,4)\n",
    "var = list(var)\n",
    "var.insert(2,100)\n",
    "print var\n",
    "var = tuple(var)\n",
    "print var"
   ]
  },
  {
   "cell_type": "code",
   "execution_count": null,
   "metadata": {},
   "outputs": [],
   "source": [
    "####  6:30 am "
   ]
  },
  {
   "cell_type": "code",
   "execution_count": null,
   "metadata": {},
   "outputs": [],
   "source": []
  }
 ],
 "metadata": {
  "kernelspec": {
   "display_name": "Python 2",
   "language": "python",
   "name": "python2"
  },
  "language_info": {
   "codemirror_mode": {
    "name": "ipython",
    "version": 2
   },
   "file_extension": ".py",
   "mimetype": "text/x-python",
   "name": "python",
   "nbconvert_exporter": "python",
   "pygments_lexer": "ipython2",
   "version": "2.7.16"
  }
 },
 "nbformat": 4,
 "nbformat_minor": 2
}
