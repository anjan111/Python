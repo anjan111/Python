{
 "cells": [
  {
   "cell_type": "code",
   "execution_count": 3,
   "metadata": {},
   "outputs": [
    {
     "name": "stdout",
     "output_type": "stream",
     "text": [
      "enter a  : 45\n",
      "enter b : 45\n",
      "sum  :  90\n",
      "****************\n",
      "hello\n",
      "enter a  : 50\n",
      "enter b : 50\n",
      "sum  :  100\n",
      "****************\n",
      "hai\n",
      "enter a  : 60\n",
      "enter b : 40\n",
      "sum  :  100\n",
      "****************\n",
      "i am anjan\n",
      "enter a  : 12\n",
      "enter b : 12\n",
      "sum  :  24\n",
      "****************\n",
      "then what\n",
      "enter a  : 89\n",
      "enter b : 89\n",
      "sum  :  178\n"
     ]
    }
   ],
   "source": [
    "#waf define the addition of 2 numbers\n",
    "a = input(\"enter a  : \")\n",
    "b = input(\"enter b : \")\n",
    "res = a+b\n",
    "print \"sum  : \",res\n",
    "print \"****************\"\n",
    "print\"hello\"\n",
    "a = input(\"enter a  : \")\n",
    "b = input(\"enter b : \")\n",
    "res = a+b\n",
    "print \"sum  : \",res\n",
    "print \"****************\"\n",
    "print \"hai\"\n",
    "a = input(\"enter a  : \")\n",
    "b = input(\"enter b : \")\n",
    "res = a+b\n",
    "print \"sum  : \",res\n",
    "print \"****************\"\n",
    "print \"i am anjan\"\n",
    "a = input(\"enter a  : \")\n",
    "b = input(\"enter b : \")\n",
    "res = a+b\n",
    "print \"sum  : \",res\n",
    "print \"****************\"\n",
    "print \"then what\"\n",
    "a = input(\"enter a  : \")\n",
    "b = input(\"enter b : \")\n",
    "res = a+b\n",
    "print \"sum  : \",res"
   ]
  },
  {
   "cell_type": "code",
   "execution_count": 5,
   "metadata": {},
   "outputs": [
    {
     "name": "stdout",
     "output_type": "stream",
     "text": [
      "enter a  : 45\n",
      "enter b : 45\n",
      "sum  :  90\n",
      "****************\n",
      "hello\n",
      "enter a  : 50\n",
      "enter b : 50\n",
      "sum  :  100\n",
      "****************\n",
      "hai\n",
      "enter a  : 60\n",
      "enter b : 40\n",
      "sum  :  100\n",
      "****************\n",
      "i am anjan\n",
      "enter a  : 178\n",
      "enter b : 178\n",
      "sum  :  356\n",
      "****************\n",
      "then what\n",
      "enter a  : 56\n",
      "enter b : 45\n",
      "sum  :  101\n",
      "****************\n"
     ]
    }
   ],
   "source": [
    "def add():\n",
    "    a = input(\"enter a  : \")\n",
    "    b = input(\"enter b : \")\n",
    "    res = a+b\n",
    "    print \"sum  : \",res\n",
    "    print \"****************\"\n",
    "add() # function call\n",
    "print \"hello\"\n",
    "add() # function call\n",
    "print \"hai\"\n",
    "add() # function call\n",
    "print\"i am anjan\"\n",
    "add() # function call\n",
    "print \"then what\"\n",
    "add() # function call"
   ]
  },
  {
   "cell_type": "code",
   "execution_count": 9,
   "metadata": {},
   "outputs": [
    {
     "name": "stdout",
     "output_type": "stream",
     "text": [
      "enter num : 5\n",
      "factorail :  120\n",
      "****\n",
      "enter num : -7\n",
      "factorial is not possible the reason is its negative number\n",
      "+++++\n",
      "enter num : 34.56\n",
      "factorail is not possible the reason is its non int \n",
      "#####\n"
     ]
    }
   ],
   "source": [
    "# waf find the factorial of a number\n",
    "def factorial():\n",
    "    num =input(\"enter num : \")\n",
    "    if(isinstance(num,int)):\n",
    "        if(num>=0):\n",
    "            fact = 1\n",
    "            i = 1\n",
    "            while(i <= num):\n",
    "                fact = fact*i\n",
    "                i = i+1\n",
    "            else:\n",
    "                print \"factorail : \",fact\n",
    "        else:\n",
    "            print\"factorial is not possible the reason is its negative number\"\n",
    "    else:\n",
    "        print \"factorail is not possible the reason is its non int \"\n",
    "factorial()\n",
    "print \"****\"\n",
    "factorial()\n",
    "print \"+++++\"\n",
    "factorial()\n",
    "print \"#####\""
   ]
  },
  {
   "cell_type": "code",
   "execution_count": null,
   "metadata": {},
   "outputs": [],
   "source": [
    "# waf generate fibonic series function"
   ]
  },
  {
   "cell_type": "code",
   "execution_count": null,
   "metadata": {},
   "outputs": [],
   "source": [
    "# waf given number is prime number or not"
   ]
  }
 ],
 "metadata": {
  "kernelspec": {
   "display_name": "Python 2",
   "language": "python",
   "name": "python2"
  },
  "language_info": {
   "codemirror_mode": {
    "name": "ipython",
    "version": 2
   },
   "file_extension": ".py",
   "mimetype": "text/x-python",
   "name": "python",
   "nbconvert_exporter": "python",
   "pygments_lexer": "ipython2",
   "version": "2.7.16"
  }
 },
 "nbformat": 4,
 "nbformat_minor": 2
}
