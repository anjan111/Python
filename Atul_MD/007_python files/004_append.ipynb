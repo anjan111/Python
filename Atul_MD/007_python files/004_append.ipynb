{
 "cells": [
  {
   "cell_type": "code",
   "execution_count": 4,
   "metadata": {},
   "outputs": [],
   "source": [
    "# append and write mode both are same \n",
    "\n",
    "# the only difference is the file data can't lost\n",
    "\n",
    "# we can't modift existing data\n",
    "\n",
    "#file is existed with some data , data can safe and it can open the file\n",
    "obj  = open(\"sample4.txt\",'a')\n",
    "#data =obj.read()\n",
    "#print(data)\n",
    "obj.close()"
   ]
  },
  {
   "cell_type": "code",
   "execution_count": 7,
   "metadata": {},
   "outputs": [
    {
     "name": "stdout",
     "output_type": "stream",
     "text": [
      "anjan\n",
      "kumar\n",
      "pythonhello i am here \n"
     ]
    }
   ],
   "source": [
    "obj  = open(\"sample.txt\",'a+')\n",
    "obj.seek(0,0)\n",
    "data =obj.read()\n",
    "print(data)\n",
    "obj.write(\"11111111\")\n",
    "obj.close()"
   ]
  },
  {
   "cell_type": "code",
   "execution_count": null,
   "metadata": {},
   "outputs": [],
   "source": [
    "# create a csv file ,the headers  s_no , name, phone \n",
    "# we have to enter 5 recorded "
   ]
  }
 ],
 "metadata": {
  "kernelspec": {
   "display_name": "Python 3",
   "language": "python",
   "name": "python3"
  },
  "language_info": {
   "codemirror_mode": {
    "name": "ipython",
    "version": 3
   },
   "file_extension": ".py",
   "mimetype": "text/x-python",
   "name": "python",
   "nbconvert_exporter": "python",
   "pygments_lexer": "ipython3",
   "version": "3.7.3"
  }
 },
 "nbformat": 4,
 "nbformat_minor": 2
}
