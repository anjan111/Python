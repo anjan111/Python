{
 "cells": [
  {
   "cell_type": "code",
   "execution_count": 1,
   "metadata": {},
   "outputs": [
    {
     "name": "stdout",
     "output_type": "stream",
     "text": [
      "enter same to write into the file : Hello i am created sample.txtt file \n"
     ]
    }
   ],
   "source": [
    "# sample txt file is not existed then creates the sample.txt file\n",
    "file_obj = open(\"sample.txt\",\"w\")\n",
    "data = input(\"enter same to write into the file : \")\n",
    "file_obj.write(data)\n",
    "file_obj.close()"
   ]
  },
  {
   "cell_type": "code",
   "execution_count": 2,
   "metadata": {},
   "outputs": [
    {
     "name": "stdout",
     "output_type": "stream",
     "text": [
      "enter same to write into the file : a\n"
     ]
    }
   ],
   "source": [
    "# sample txt file is  existed then open the sample.txt file and data \n",
    "# can lost\n",
    "file_obj = open(\"sample.txt\",\"w\")\n",
    "data = input(\"enter same to write into the file : \")\n",
    "file_obj.write(data)\n",
    "file_obj.close()"
   ]
  },
  {
   "cell_type": "code",
   "execution_count": 3,
   "metadata": {},
   "outputs": [
    {
     "name": "stdout",
     "output_type": "stream",
     "text": [
      "enter same to write into the file : anjan\n"
     ]
    },
    {
     "ename": "UnsupportedOperation",
     "evalue": "not readable",
     "output_type": "error",
     "traceback": [
      "\u001b[1;31m---------------------------------------------------------------------------\u001b[0m",
      "\u001b[1;31mUnsupportedOperation\u001b[0m                      Traceback (most recent call last)",
      "\u001b[1;32m<ipython-input-3-c75b82e1b788>\u001b[0m in \u001b[0;36m<module>\u001b[1;34m\u001b[0m\n\u001b[0;32m      4\u001b[0m \u001b[0mdata\u001b[0m \u001b[1;33m=\u001b[0m \u001b[0minput\u001b[0m\u001b[1;33m(\u001b[0m\u001b[1;34m\"enter same to write into the file : \"\u001b[0m\u001b[1;33m)\u001b[0m\u001b[1;33m\u001b[0m\u001b[1;33m\u001b[0m\u001b[0m\n\u001b[0;32m      5\u001b[0m \u001b[0mfile_obj\u001b[0m\u001b[1;33m.\u001b[0m\u001b[0mwrite\u001b[0m\u001b[1;33m(\u001b[0m\u001b[0mdata\u001b[0m\u001b[1;33m)\u001b[0m\u001b[1;33m\u001b[0m\u001b[1;33m\u001b[0m\u001b[0m\n\u001b[1;32m----> 6\u001b[1;33m \u001b[0mfile_obj\u001b[0m\u001b[1;33m.\u001b[0m\u001b[0mread\u001b[0m\u001b[1;33m(\u001b[0m\u001b[1;33m)\u001b[0m\u001b[1;33m\u001b[0m\u001b[1;33m\u001b[0m\u001b[0m\n\u001b[0m\u001b[0;32m      7\u001b[0m \u001b[0mfile_obj\u001b[0m\u001b[1;33m.\u001b[0m\u001b[0mclose\u001b[0m\u001b[1;33m(\u001b[0m\u001b[1;33m)\u001b[0m\u001b[1;33m\u001b[0m\u001b[1;33m\u001b[0m\u001b[0m\n",
      "\u001b[1;31mUnsupportedOperation\u001b[0m: not readable"
     ]
    }
   ],
   "source": [
    "# sample txt file is  existed then open the sample.txt file and data \n",
    "# can lost and read operation is not possible\n",
    "file_obj = open(\"sample.txt\",\"w\")\n",
    "data = input(\"enter same to write into the file : \")\n",
    "file_obj.write(data)\n",
    "file_obj.read()\n",
    "file_obj.close()"
   ]
  },
  {
   "cell_type": "code",
   "execution_count": 4,
   "metadata": {},
   "outputs": [
    {
     "name": "stdout",
     "output_type": "stream",
     "text": [
      "enter same to write into the file : new file\n"
     ]
    }
   ],
   "source": [
    "# write + read\n",
    "file_obj = open(\"sample1.txt\",\"w+\")\n",
    "data = input(\"enter same to write into the file : \")\n",
    "file_obj.write(data)\n",
    "file_obj.close()"
   ]
  },
  {
   "cell_type": "code",
   "execution_count": 5,
   "metadata": {},
   "outputs": [
    {
     "name": "stdout",
     "output_type": "stream",
     "text": [
      "enter same to write into the file : 1\n"
     ]
    }
   ],
   "source": [
    "# write + read\n",
    "file_obj = open(\"sample1.txt\",\"w+\")\n",
    "data = input(\"enter same to write into the file : \")\n",
    "file_obj.write(data)\n",
    "file_obj.close()"
   ]
  },
  {
   "cell_type": "code",
   "execution_count": 8,
   "metadata": {},
   "outputs": [
    {
     "name": "stdout",
     "output_type": "stream",
     "text": [
      "loc :  0\n",
      "enter same to write into the file : anjan\n",
      "loc :  5\n",
      "loc :  0\n",
      "anjan\n",
      "loc :  5\n"
     ]
    }
   ],
   "source": [
    "# write + read\n",
    "file_obj = open(\"sample1.txt\",\"w+\")\n",
    "print(\"loc : \",file_obj.tell())\n",
    "data = input(\"enter same to write into the file : \")\n",
    "file_obj.write(data)\n",
    "print(\"loc : \",file_obj.tell())\n",
    "file_obj.seek(0,0) # to  cahnge the file loc biggening of the file \n",
    "print(\"loc : \",file_obj.tell())\n",
    "print(file_obj.read())\n",
    "print(\"loc : \",file_obj.tell())\n",
    "file_obj.close()"
   ]
  }
 ],
 "metadata": {
  "kernelspec": {
   "display_name": "Python 3",
   "language": "python",
   "name": "python3"
  },
  "language_info": {
   "codemirror_mode": {
    "name": "ipython",
    "version": 3
   },
   "file_extension": ".py",
   "mimetype": "text/x-python",
   "name": "python",
   "nbconvert_exporter": "python",
   "pygments_lexer": "ipython3",
   "version": "3.7.3"
  }
 },
 "nbformat": 4,
 "nbformat_minor": 2
}
