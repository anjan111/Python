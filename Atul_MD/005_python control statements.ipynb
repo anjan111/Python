{
 "cells": [
  {
   "cell_type": "markdown",
   "metadata": {},
   "source": [
    "# conditional statments\n",
    "'''\n",
    "1. simple if\n",
    "\n",
    "2. if else \n",
    "\n",
    "3. elif ladder\n",
    "\n",
    "4. nested if\n",
    "\n",
    "'''"
   ]
  },
  {
   "cell_type": "code",
   "execution_count": 3,
   "metadata": {},
   "outputs": [
    {
     "name": "stdout",
     "output_type": "stream",
     "text": [
      "enter name of you :anjan\n",
      "enter age : 27\n",
      "enter phone number : 9640987960\n",
      "name : anjan\n",
      "age : 27\n",
      "phone:  9640987960\n",
      "if over\n"
     ]
    }
   ],
   "source": [
    "# wap print your details when your age more than 18\n",
    "name = input(\"enter name of you :\")\n",
    "age  = int(input(\"enter age : \"))\n",
    "phone= input(\"enter phone number : \")\n",
    "if(age  > 18):\n",
    "    print(\"name :\",name)\n",
    "    print(\"age :\",age)\n",
    "    print(\"phone: \",phone)\n",
    "print(\"if over\")"
   ]
  },
  {
   "cell_type": "code",
   "execution_count": null,
   "metadata": {},
   "outputs": [],
   "source": []
  },
  {
   "cell_type": "code",
   "execution_count": null,
   "metadata": {},
   "outputs": [],
   "source": [
    "# wap wap find the area of square when side is even "
   ]
  },
  {
   "cell_type": "code",
   "execution_count": null,
   "metadata": {},
   "outputs": [],
   "source": [
    "# wap find the area of triangle when the triangle is equilatral "
   ]
  },
  {
   "cell_type": "code",
   "execution_count": null,
   "metadata": {},
   "outputs": [],
   "source": [
    "#wap find the area of reactagle when the square of the perimter is even"
   ]
  },
  {
   "cell_type": "code",
   "execution_count": 2,
   "metadata": {},
   "outputs": [
    {
     "name": "stdout",
     "output_type": "stream",
     "text": [
      "enter the name of applicant : anjan\n",
      "enter age of you : 17\n",
      "Please come when you have 18 years : \n",
      " thanks visiting \n"
     ]
    }
   ],
   "source": [
    "# if and else \n",
    "# wap application drop for voter id \n",
    "name = input(\"enter the name of applicant : \")\n",
    "age =  int(input(\"enter age of you : \"))\n",
    "if(age >= 18):\n",
    "    print(\"you are eligible for voter id application drop\")\n",
    "    DOB = input(\"enter data of birth : \")\n",
    "    addr = input(\"enter addrees : \")\n",
    "else :\n",
    "    print(\"Please come when you have 18 years : \")\n",
    "print(\" thanks for visiting \")"
   ]
  },
  {
   "cell_type": "code",
   "execution_count": 12,
   "metadata": {},
   "outputs": [
    {
     "name": "stdout",
     "output_type": "stream",
     "text": [
      "enter employeee name : anjan\n",
      "enter phoen number   : 86e7\n",
      "enter mail id        : djdnjsdj\n",
      "how many years of exp : 2\n",
      "For 1 year exp :  \n",
      "The basic slary :  432000.0\n"
     ]
    }
   ],
   "source": [
    "# wap find the salary based on employee exp :\n",
    "name = input(\"enter employeee name : \")\n",
    "phone= input(\"enter phoen number   : \")\n",
    "mail = input(\"enter mail id        : \")\n",
    "basic =300000\n",
    "exp = int(input(\"how many years of exp : \"))\n",
    "if(exp == 0):\n",
    "    print(\"Your the fresher \")\n",
    "    print(\"The basic slary : 300000 PA\")\n",
    "elif(exp == 1):\n",
    "    print(\"For 1 year exp :  \")\n",
    "    print(\"The basic slary : \",300000*120/100)\n",
    "elif(exp == 2):\n",
    "    print(\"For 2 year exp :  \")\n",
    "    print(\"The basic slary : \",(300000*120/100)*120/100)\n",
    "else:\n",
    "    print(\"your full time employee : \")\n",
    "    print(\" the salary is : 12L PA\")"
   ]
  },
  {
   "cell_type": "code",
   "execution_count": 1,
   "metadata": {},
   "outputs": [
    {
     "name": "stdout",
     "output_type": "stream",
     "text": [
      "enter a : 45\n",
      "enter b : 89\n",
      "enter c : 78\n",
      "big =  89\n"
     ]
    }
   ],
   "source": [
    "# Nested if \n",
    "'''\n",
    "Any conditional statement inside we have another another conditional \n",
    "statements\n",
    "'''\n",
    "\n",
    "# wap find the biggest number from 3 numbers \n",
    "a = int(input(\"enter a : \"))\n",
    "b = int(input(\"enter b : \"))\n",
    "c = int(input(\"enter c : \"))\n",
    "if(a > b ):\n",
    "    big = a\n",
    "    if(a < c):\n",
    "        big = c\n",
    "else:\n",
    "    big = b\n",
    "    if(b < c):\n",
    "        big = c\n",
    "print(\"big = \",big)"
   ]
  },
  {
   "cell_type": "code",
   "execution_count": null,
   "metadata": {},
   "outputs": [],
   "source": [
    "# wap find the smallest number from 3 number "
   ]
  },
  {
   "cell_type": "markdown",
   "metadata": {},
   "source": [
    "# Looping statements :\n",
    "\n",
    "---> We can execute a task multiple times\n",
    "\n",
    "1. while \n",
    "\n",
    "2. for \n",
    "\n",
    "#  control keywords\n",
    "\n",
    "1. continue \n",
    "\n",
    "2. break\n",
    "\n",
    "3. pass\n",
    "\n",
    "# Nested Loops\n"
   ]
  },
  {
   "cell_type": "code",
   "execution_count": 2,
   "metadata": {},
   "outputs": [
    {
     "name": "stdout",
     "output_type": "stream",
     "text": [
      "enter N value : 10\n",
      "sum of 1st  10  natural numbers are :  55\n"
     ]
    }
   ],
   "source": [
    "# while loop\n",
    "# wap find the sum of 1st  N nantural numbers( 1+ 2+ 3+4 +-----N )\n",
    "N = int(input(\"enter N value : \"))\n",
    "# initialization\n",
    "i =1\n",
    "sum = 0\n",
    "\n",
    "while(i <= N):\n",
    "    sum = sum +i # task\n",
    "    i = i+1  # update condition\n",
    "else:\n",
    "    print(\"sum of 1st \",N,\" natural numbers are : \",sum)"
   ]
  },
  {
   "cell_type": "code",
   "execution_count": 3,
   "metadata": {},
   "outputs": [
    {
     "name": "stdout",
     "output_type": "stream",
     "text": [
      "enter N value : 10\n",
      "mul of 1st  10  natural numbers are :  3628800\n"
     ]
    }
   ],
   "source": [
    "# while loop\n",
    "# wap find the mul of 1st  N nantural numbers( 1* 2* 3*4 *-----N )\n",
    "N = int(input(\"enter N value : \"))\n",
    "# initialization\n",
    "i =1\n",
    "mul = 1\n",
    "\n",
    "while(i <= N):\n",
    "    mul = mul *i # task\n",
    "    i = i+1  # update condition\n",
    "else:\n",
    "    print(\"mul of 1st \",N,\" natural numbers are : \",mul)"
   ]
  },
  {
   "cell_type": "code",
   "execution_count": 20,
   "metadata": {},
   "outputs": [
    {
     "name": "stdout",
     "output_type": "stream",
     "text": [
      "enter N value : 78\n",
      "mul of 1st  78  natural numbers are :  11324281178206297831457521158732046228731749579488251990048962825668835325234200766245086213177344000000000000000000\n"
     ]
    }
   ],
   "source": [
    "# while loop\n",
    "# factorial of a number\n",
    "N = int(input(\"enter N value : \"))\n",
    "# initialization\n",
    "i =1\n",
    "mul = 1\n",
    "if(N >= 0):\n",
    "    while(i <= N):\n",
    "        mul = mul *i # task\n",
    "        i = i+1  # update condition\n",
    "    else:\n",
    "        print(\"mul of 1st \",N,\" natural numbers are : \",mul)\n",
    "else:\n",
    "    print(\"please enter positive values \")"
   ]
  }
 ],
 "metadata": {
  "kernelspec": {
   "display_name": "Python 3",
   "language": "python",
   "name": "python3"
  },
  "language_info": {
   "codemirror_mode": {
    "name": "ipython",
    "version": 3
   },
   "file_extension": ".py",
   "mimetype": "text/x-python",
   "name": "python",
   "nbconvert_exporter": "python",
   "pygments_lexer": "ipython3",
   "version": "3.7.3"
  }
 },
 "nbformat": 4,
 "nbformat_minor": 2
}
