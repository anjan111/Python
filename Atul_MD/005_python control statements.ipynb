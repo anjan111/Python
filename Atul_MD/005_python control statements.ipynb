{
 "cells": [
  {
   "cell_type": "markdown",
   "metadata": {},
   "source": [
    "# conditional statments\n",
    "'''\n",
    "1. simple if\n",
    "\n",
    "2. if else \n",
    "\n",
    "3. elif ladder\n",
    "\n",
    "4. nested if\n",
    "\n",
    "'''"
   ]
  },
  {
   "cell_type": "code",
   "execution_count": 3,
   "metadata": {},
   "outputs": [
    {
     "name": "stdout",
     "output_type": "stream",
     "text": [
      "enter name of you :anjan\n",
      "enter age : 27\n",
      "enter phone number : 9640987960\n",
      "name : anjan\n",
      "age : 27\n",
      "phone:  9640987960\n",
      "if over\n"
     ]
    }
   ],
   "source": [
    "# wap print your details when your age more than 18\n",
    "name = input(\"enter name of you :\")\n",
    "age  = int(input(\"enter age : \"))\n",
    "phone= input(\"enter phone number : \")\n",
    "if(age  > 18):\n",
    "    print(\"name :\",name)\n",
    "    print(\"age :\",age)\n",
    "    print(\"phone: \",phone)\n",
    "print(\"if over\")"
   ]
  },
  {
   "cell_type": "code",
   "execution_count": null,
   "metadata": {},
   "outputs": [],
   "source": []
  },
  {
   "cell_type": "code",
   "execution_count": null,
   "metadata": {},
   "outputs": [],
   "source": [
    "# wap wap find the area of square when side is even "
   ]
  },
  {
   "cell_type": "code",
   "execution_count": null,
   "metadata": {},
   "outputs": [],
   "source": [
    "# wap find the area of triangle when the triangle is equilatral "
   ]
  },
  {
   "cell_type": "code",
   "execution_count": null,
   "metadata": {},
   "outputs": [],
   "source": [
    "#wap find the area of reactagle when the square of the perimter is even"
   ]
  },
  {
   "cell_type": "code",
   "execution_count": 2,
   "metadata": {},
   "outputs": [
    {
     "name": "stdout",
     "output_type": "stream",
     "text": [
      "enter the name of applicant : anjan\n",
      "enter age of you : 17\n",
      "Please come when you have 18 years : \n",
      " thanks visiting \n"
     ]
    }
   ],
   "source": [
    "# if and else \n",
    "# wap application drop for voter id \n",
    "name = input(\"enter the name of applicant : \")\n",
    "age =  int(input(\"enter age of you : \"))\n",
    "if(age >= 18):\n",
    "    print(\"you are eligible for voter id application drop\")\n",
    "    DOB = input(\"enter data of birth : \")\n",
    "    addr = input(\"enter addrees : \")\n",
    "else :\n",
    "    print(\"Please come when you have 18 years : \")\n",
    "print(\" thanks for visiting \")"
   ]
  },
  {
   "cell_type": "code",
   "execution_count": 12,
   "metadata": {},
   "outputs": [
    {
     "name": "stdout",
     "output_type": "stream",
     "text": [
      "enter employeee name : anjan\n",
      "enter phoen number   : 86e7\n",
      "enter mail id        : djdnjsdj\n",
      "how many years of exp : 2\n",
      "For 1 year exp :  \n",
      "The basic slary :  432000.0\n"
     ]
    }
   ],
   "source": [
    "# wap find the salary based on employee exp :\n",
    "name = input(\"enter employeee name : \")\n",
    "phone= input(\"enter phoen number   : \")\n",
    "mail = input(\"enter mail id        : \")\n",
    "basic =300000\n",
    "exp = int(input(\"how many years of exp : \"))\n",
    "if(exp == 0):\n",
    "    print(\"Your the fresher \")\n",
    "    print(\"The basic slary : 300000 PA\")\n",
    "elif(exp == 1):\n",
    "    print(\"For 1 year exp :  \")\n",
    "    print(\"The basic slary : \",300000*120/100)\n",
    "elif(exp == 2):\n",
    "    print(\"For 2 year exp :  \")\n",
    "    print(\"The basic slary : \",(300000*120/100)*120/100)\n",
    "else:\n",
    "    print(\"your full time employee : \")\n",
    "    print(\" the salary is : 12L PA\")"
   ]
  },
  {
   "cell_type": "code",
   "execution_count": 1,
   "metadata": {},
   "outputs": [
    {
     "name": "stdout",
     "output_type": "stream",
     "text": [
      "enter a : 45\n",
      "enter b : 89\n",
      "enter c : 78\n",
      "big =  89\n"
     ]
    }
   ],
   "source": [
    "# Nested if \n",
    "'''\n",
    "Any conditional statement inside we have another another conditional \n",
    "statements\n",
    "'''\n",
    "\n",
    "# wap find the biggest number from 3 numbers \n",
    "a = int(input(\"enter a : \"))\n",
    "b = int(input(\"enter b : \"))\n",
    "c = int(input(\"enter c : \"))\n",
    "if(a > b ):\n",
    "    big = a\n",
    "    if(a < c):\n",
    "        big = c\n",
    "else:\n",
    "    big = b\n",
    "    if(b < c):\n",
    "        big = c\n",
    "print(\"big = \",big)"
   ]
  },
  {
   "cell_type": "code",
   "execution_count": null,
   "metadata": {},
   "outputs": [],
   "source": [
    "# wap find the smallest number from 3 number "
   ]
  },
  {
   "cell_type": "markdown",
   "metadata": {},
   "source": [
    "# Looping statements :\n",
    "\n",
    "---> We can execute a task multiple times\n",
    "\n",
    "1. while \n",
    "\n",
    "2. for \n",
    "\n",
    "#  control keywords\n",
    "\n",
    "1. continue \n",
    "\n",
    "2. break\n",
    "\n",
    "3. pass\n",
    "\n",
    "# Nested Loops\n"
   ]
  },
  {
   "cell_type": "code",
   "execution_count": 2,
   "metadata": {},
   "outputs": [
    {
     "name": "stdout",
     "output_type": "stream",
     "text": [
      "enter N value : 10\n",
      "sum of 1st  10  natural numbers are :  55\n"
     ]
    }
   ],
   "source": [
    "# while loop\n",
    "# wap find the sum of 1st  N nantural numbers( 1+ 2+ 3+4 +-----N )\n",
    "N = int(input(\"enter N value : \"))\n",
    "# initialization\n",
    "i =1\n",
    "sum = 0\n",
    "\n",
    "while(i <= N):\n",
    "    sum = sum +i # task\n",
    "    i = i+1  # update condition\n",
    "else:\n",
    "    print(\"sum of 1st \",N,\" natural numbers are : \",sum)"
   ]
  },
  {
   "cell_type": "code",
   "execution_count": 3,
   "metadata": {},
   "outputs": [
    {
     "name": "stdout",
     "output_type": "stream",
     "text": [
      "enter N value : 10\n",
      "mul of 1st  10  natural numbers are :  3628800\n"
     ]
    }
   ],
   "source": [
    "# while loop\n",
    "# wap find the mul of 1st  N nantural numbers( 1* 2* 3*4 *-----N )\n",
    "N = int(input(\"enter N value : \"))\n",
    "# initialization\n",
    "i =1\n",
    "mul = 1\n",
    "\n",
    "while(i <= N):\n",
    "    mul = mul *i # task\n",
    "    i = i+1  # update condition\n",
    "else:\n",
    "    print(\"mul of 1st \",N,\" natural numbers are : \",mul)"
   ]
  },
  {
   "cell_type": "code",
   "execution_count": 20,
   "metadata": {},
   "outputs": [
    {
     "name": "stdout",
     "output_type": "stream",
     "text": [
      "enter N value : 78\n",
      "mul of 1st  78  natural numbers are :  11324281178206297831457521158732046228731749579488251990048962825668835325234200766245086213177344000000000000000000\n"
     ]
    }
   ],
   "source": [
    "# while loop\n",
    "# factorial of a number\n",
    "N = int(input(\"enter N value : \"))\n",
    "# initialization\n",
    "i =1\n",
    "mul = 1\n",
    "if(N >= 0):\n",
    "    while(i <= N):\n",
    "        mul = mul *i # task\n",
    "        i = i+1  # update condition\n",
    "    else:\n",
    "        print(\"mul of 1st \",N,\" natural numbers are : \",mul)\n",
    "else:\n",
    "    print(\"please enter positive values \")"
   ]
  },
  {
   "cell_type": "code",
   "execution_count": 1,
   "metadata": {},
   "outputs": [
    {
     "name": "stdout",
     "output_type": "stream",
     "text": [
      "sum =  127\n"
     ]
    }
   ],
   "source": [
    "# for loop\n",
    "# wap find the sum integers in a list or tuple or set or dict\n",
    "seq = [12,3,7.45,78,34]\n",
    "sum =0\n",
    "for var in seq :\n",
    "    if(isinstance(var,int)):\n",
    "        sum =sum+var\n",
    "else:\n",
    "    print(\"sum = \",sum)"
   ]
  },
  {
   "cell_type": "code",
   "execution_count": 7,
   "metadata": {},
   "outputs": [
    {
     "name": "stdout",
     "output_type": "stream",
     "text": [
      "enter no of fibonic elements : 10\n",
      "0   1   1   2   3   5   8   13   21   34   \n",
      "Task Over\n"
     ]
    }
   ],
   "source": [
    "# wap generate 1st 10 fibonic series elements\n",
    "# 0   1    1    2    3    5   8   13   21    34\n",
    "N = int(input(\"enter no of fibonic elements : \"))\n",
    "a = 0\n",
    "b = 1\n",
    "for i in range(N):\n",
    "    print(a,end='   ')\n",
    "    c =a+b ; a = b ; b = c\n",
    "else:\n",
    "    print(\"\\nTask Over\")"
   ]
  },
  {
   "cell_type": "code",
   "execution_count": 8,
   "metadata": {},
   "outputs": [
    {
     "name": "stdout",
     "output_type": "stream",
     "text": [
      "enter no of fibonic elements : 10\n",
      "1   1   2   3   8   13   21   34   55   \n",
      "Task Over\n"
     ]
    }
   ],
   "source": [
    "# continue keyword\n",
    "'''\n",
    "if you want to skip a specific iteration we can skip and continue \n",
    "the next iteration\n",
    "'''\n",
    "# wap generate 1st 10 fibonic series elements\n",
    "# 0   1    1    2    3       8   13   21    34\n",
    "N = int(input(\"enter no of fibonic elements : \"))\n",
    "a = 0\n",
    "b = 1\n",
    "for i in range(N):\n",
    "    c =a+b ; a = b ; b = c\n",
    "    if(a == 5):\n",
    "        continue\n",
    "    print(a,end='   ')\n",
    "\n",
    "else:\n",
    "    print(\"\\nTask Over\")\n"
   ]
  },
  {
   "cell_type": "code",
   "execution_count": 10,
   "metadata": {},
   "outputs": [
    {
     "name": "stdout",
     "output_type": "stream",
     "text": [
      "enter no of fibonic elements : 10\n",
      "0   1   1   2   3   "
     ]
    }
   ],
   "source": [
    "# break keyword\n",
    "'''\n",
    "It can be used for to terminate the loops\n",
    "'''\n",
    "# wap generate 1st 10 fibonic series elements\n",
    "# 0   1    1    2    3   5    \n",
    "N = int(input(\"enter no of fibonic elements : \"))\n",
    "a = 0\n",
    "b = 1\n",
    "for i in range(N):\n",
    "    print(a,end='   ')\n",
    "    c =a+b ; a = b ; b = c\n",
    "    if(a == 5):\n",
    "        break\n",
    "else:\n",
    "    print(\"\\nTask Over\")\n",
    "\n"
   ]
  },
  {
   "cell_type": "code",
   "execution_count": 13,
   "metadata": {},
   "outputs": [],
   "source": [
    "# pass keyword \n",
    "'''\n",
    "To creates the dummy loops\n",
    "'''\n",
    "while(0):\n",
    "    pass"
   ]
  },
  {
   "cell_type": "code",
   "execution_count": 15,
   "metadata": {},
   "outputs": [
    {
     "name": "stdout",
     "output_type": "stream",
     "text": [
      "enter target number : 7\n",
      "Its prime number \n"
     ]
    }
   ],
   "source": [
    "# neasted loops\n",
    "#A loop with in a loop\n",
    "# while--->  while, for\n",
    "# for ----> for , while\n",
    "\n",
    "# wap find given number is prime or not prime number\n",
    "N = int(input(\"enter target number : \"))\n",
    "for ele in range(2,N):\n",
    "    if(N % ele == 0):\n",
    "        print(\"its not prime \")\n",
    "        break\n",
    "else:\n",
    "    print(\"Its prime number \")"
   ]
  },
  {
   "cell_type": "code",
   "execution_count": 17,
   "metadata": {},
   "outputs": [
    {
     "name": "stdout",
     "output_type": "stream",
     "text": [
      "enter N1 : 10\n",
      "enter N2 : 20\n",
      "num =  11\n",
      "num =  13\n",
      "num =  17\n",
      "num =  19\n",
      "task Over\n"
     ]
    }
   ],
   "source": [
    "# wap find the prime numbers in between N1 to N2 ( 10, 100)\n",
    "N1 = int(input(\"enter N1 : \"))\n",
    "N2 = int(input(\"enter N2 : \"))\n",
    "for num in range(N1, N2+1):\n",
    "    for ele in range(2, num):\n",
    "        if(num % ele == 0):\n",
    "            break\n",
    "    else:\n",
    "        print(\"num = \",num)\n",
    "else:\n",
    "    print(\"task Over\")"
   ]
  },
  {
   "cell_type": "code",
   "execution_count": 7,
   "metadata": {},
   "outputs": [
    {
     "name": "stdout",
     "output_type": "stream",
     "text": [
      "enter N1 : 10\n",
      "enter N2 : 100\n",
      "11  is palidram \n",
      "22  is palidram \n",
      "33  is palidram \n",
      "44  is palidram \n",
      "55  is palidram \n",
      "66  is palidram \n",
      "77  is palidram \n",
      "88  is palidram \n",
      "99  is palidram \n"
     ]
    }
   ],
   "source": [
    "# wap fin the palidrom numbers in between 10 to 1000\n",
    "# 121 ---> 121\n",
    "N1 = int(input(\"enter N1 : \"))\n",
    "N2 = int(input(\"enter N2 : \"))\n",
    "for num in range(N1,N2+1):\n",
    "    temp = num\n",
    "    rev = 0\n",
    "    while(temp !=  0):\n",
    "        dig = temp % 10\n",
    "        rev = rev*10 + dig\n",
    "        temp = temp // 10\n",
    "    if(rev == num):\n",
    "        print(num,\" is palidram \")"
   ]
  },
  {
   "cell_type": "code",
   "execution_count": 8,
   "metadata": {},
   "outputs": [
    {
     "name": "stdout",
     "output_type": "stream",
     "text": [
      "enter the no of rows : 5\n",
      "*    \n",
      "*    *    \n",
      "*    *    *    \n",
      "*    *    *    *    \n",
      "*    *    *    *    *    \n"
     ]
    }
   ],
   "source": [
    "# wap generate the following pattrn\n",
    "'''\n",
    "*\n",
    "*  *\n",
    "*  *   *\n",
    "*  *   *   *\n",
    "'''\n",
    "row= int(input(\"enter the no of rows : \"))\n",
    "for r in range(1, row+1):\n",
    "    for c in range(r):\n",
    "        print(\"*\",end=\"    \")\n",
    "    print()\n",
    "    \n",
    "# wap ablove logic using while and while"
   ]
  },
  {
   "cell_type": "code",
   "execution_count": null,
   "metadata": {},
   "outputs": [],
   "source": [
    "#wap the following pattrns\n",
    "'''\n",
    "1\n",
    "1 2\n",
    "1 2 3\n",
    "1 2 3 4\n",
    "1 2 3 4 5\n",
    "'''"
   ]
  },
  {
   "cell_type": "code",
   "execution_count": null,
   "metadata": {},
   "outputs": [],
   "source": [
    "# wap the following pattrn\n",
    "'''\n",
    "1\n",
    "2 2\n",
    "3 3 3\n",
    "4 4 4 4 \n",
    "5 5 5 5 5\n",
    "\n",
    "'''"
   ]
  },
  {
   "cell_type": "code",
   "execution_count": null,
   "metadata": {},
   "outputs": [],
   "source": [
    "# wap the following pattrn\n",
    "'''\n",
    "2\n",
    "3 4\n",
    "4 5 6\n",
    "5 6 7 8\n",
    "6 7 8 9 10\n",
    "'''"
   ]
  },
  {
   "cell_type": "code",
   "execution_count": null,
   "metadata": {},
   "outputs": [],
   "source": [
    "# wap the following pattrn\n",
    "'''\n",
    "1\n",
    "0  1\n",
    "1  0  1\n",
    "0  1  0  1\n",
    "1  0  1  0  1\n",
    "\n",
    "'''"
   ]
  },
  {
   "cell_type": "code",
   "execution_count": null,
   "metadata": {},
   "outputs": [],
   "source": [
    "# wap the following pattrn\n",
    "'''\n",
    "*  *   *   *  *\n",
    "*  *   *   *\n",
    "*  *   *   \n",
    "*  * \n",
    "*\n",
    "\n",
    "'''"
   ]
  },
  {
   "cell_type": "code",
   "execution_count": null,
   "metadata": {},
   "outputs": [],
   "source": [
    "# wap the following pattrn\n",
    "'''\n",
    "1  1  1   1  1\n",
    "2  2  2  2\n",
    "3  3  3\n",
    "4  4\n",
    "5\n",
    "\n",
    "'''"
   ]
  },
  {
   "cell_type": "code",
   "execution_count": null,
   "metadata": {},
   "outputs": [],
   "source": [
    "# wap the following pattrn\n",
    "'''\n",
    "            *\n",
    "        *   *   *\n",
    "    *   *   *   *   *\n",
    "*   *   *   *   *   *   *\n",
    "\n",
    "'''"
   ]
  },
  {
   "cell_type": "code",
   "execution_count": null,
   "metadata": {},
   "outputs": [],
   "source": [
    "# wap the floowing pattrn\n",
    "'''\n",
    "*   *   *   *   *   *   *\n",
    "    *   *   *   *   *\n",
    "        *   *   *\n",
    "            *\n",
    "\n",
    "'''"
   ]
  },
  {
   "cell_type": "code",
   "execution_count": null,
   "metadata": {},
   "outputs": [],
   "source": [
    "# wap the following pattrn\n",
    "'''\n",
    "            *\n",
    "        *   *   *\n",
    "    *   *   *   *   *\n",
    "*   *   *   *   *   *   *\n",
    "    *   *   *   *   *\n",
    "        *   *   *\n",
    "            *\n",
    "'''"
   ]
  },
  {
   "cell_type": "code",
   "execution_count": null,
   "metadata": {},
   "outputs": [],
   "source": [
    "# wap for pascal triable\n",
    "'''\n",
    "                    1\n",
    "                1        1\n",
    "            1       2        1\n",
    "\n",
    "        1       3        3         1    \n",
    "    1       4       6        4           1\n",
    "    \n",
    "1      5       10       10         5           1\n",
    "\n",
    "\n",
    "'''"
   ]
  }
 ],
 "metadata": {
  "kernelspec": {
   "display_name": "Python 3",
   "language": "python",
   "name": "python3"
  },
  "language_info": {
   "codemirror_mode": {
    "name": "ipython",
    "version": 3
   },
   "file_extension": ".py",
   "mimetype": "text/x-python",
   "name": "python",
   "nbconvert_exporter": "python",
   "pygments_lexer": "ipython3",
   "version": "3.7.3"
  }
 },
 "nbformat": 4,
 "nbformat_minor": 2
}
