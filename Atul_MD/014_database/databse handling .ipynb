{
 "cells": [
  {
   "cell_type": "code",
   "execution_count": 2,
   "metadata": {},
   "outputs": [
    {
     "name": "stdout",
     "output_type": "stream",
     "text": [
      "(1, 'ritika')\n",
      "(2, 'Aproova')\n"
     ]
    }
   ],
   "source": [
    "import sqlite3 as sql\n",
    "# conncet ----> to  create new database/ connceted \n",
    "do = sql.connect(\"sample.db\")\n",
    "cur = do.cursor()\n",
    "cur.execute(\"select * from std\")\n",
    "for record in cur.fetchall():\n",
    "    print(record)\n",
    "cur.close()"
   ]
  },
  {
   "cell_type": "code",
   "execution_count": 3,
   "metadata": {},
   "outputs": [],
   "source": [
    "import sqlite3 as sql\n",
    "# conncet ----> to  create new database/ connceted \n",
    "do = sql.connect(\"sample.db\")\n",
    "cur = do.cursor()\n",
    "cur.execute(\"create table anjan(s_no,name)\")\n",
    "cur.close()"
   ]
  },
  {
   "cell_type": "code",
   "execution_count": 8,
   "metadata": {},
   "outputs": [],
   "source": [
    "import sqlite3 as sql\n",
    "# conncet ----> to  create new database/ connceted \n",
    "do = sql.connect(\"sample.db\")\n",
    "cur = do.cursor()\n",
    "cur.execute(\"\"\"insert into anjan values(1,'AI')\"\"\")\n",
    "do.commit()\n",
    "cur.close()"
   ]
  }
 ],
 "metadata": {
  "kernelspec": {
   "display_name": "Python 3",
   "language": "python",
   "name": "python3"
  },
  "language_info": {
   "codemirror_mode": {
    "name": "ipython",
    "version": 3
   },
   "file_extension": ".py",
   "mimetype": "text/x-python",
   "name": "python",
   "nbconvert_exporter": "python",
   "pygments_lexer": "ipython3",
   "version": "3.7.3"
  }
 },
 "nbformat": 4,
 "nbformat_minor": 2
}
