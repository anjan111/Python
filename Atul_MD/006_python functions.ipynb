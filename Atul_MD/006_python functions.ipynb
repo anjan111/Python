{
 "cells": [
  {
   "cell_type": "code",
   "execution_count": 6,
   "metadata": {},
   "outputs": [
    {
     "name": "stdout",
     "output_type": "stream",
     "text": [
      "enter a number : 78\n",
      "factorial of  78  is  11324281178206297831457521158732046228731749579488251990048962825668835325234200766245086213177344000000000000000000\n",
      "enter a number : -89\n",
      "factorial is not possible for Negative numbers\n",
      "factorial of  -89  is  None\n"
     ]
    }
   ],
   "source": [
    "# wap for find the factorial of a number \n",
    "\n",
    "def  factorial (num):\n",
    "    if(num >= 0):\n",
    "        fact = 1\n",
    "        for  ele in range(1,num+1):\n",
    "            fact = fact * ele\n",
    "        else:\n",
    "            return fact\n",
    "    else:\n",
    "        print(\"factorial is not possible for Negative numbers\")\n",
    "        return None\n",
    "\n",
    "def main():\n",
    "    n   = int(input(\"enter a number : \"))\n",
    "    res = factorial(n)\n",
    "    print(\"factorial of \",n,\" is \",res)\n",
    "    r   = int(input(\"enter a number : \"))\n",
    "    res1 = factorial(r)\n",
    "    print(\"factorial of \",r,\" is \",res1)\n",
    "\n",
    "if __name__ == \"__main__\":\n",
    "    main()"
   ]
  },
  {
   "cell_type": "code",
   "execution_count": 9,
   "metadata": {},
   "outputs": [
    {
     "name": "stdout",
     "output_type": "stream",
     "text": [
      "enter n : 10\n",
      "0 1 1 2 3 5 8 13 21 34 \n",
      "\n",
      "enter n : 20\n",
      "0 1 1 2 3 5 8 13 21 34 55 89 144 233 377 610 987 1597 2584 4181 "
     ]
    }
   ],
   "source": [
    "#waf fibonic series \n",
    "def fibonic(num):\n",
    "    a = 0; b=1\n",
    "    for i in range(num):\n",
    "        print(a,end = \" \")\n",
    "        c = a+b ; a = b; b = c\n",
    "\n",
    "def main():\n",
    "    n = int(input(\"enter n : \"))\n",
    "    fibonic(n)\n",
    "    print(\"\\n\")\n",
    "    n = int(input(\"enter n : \"))\n",
    "    fibonic(n)\n",
    "if __name__ == \"__main__\":\n",
    "    main()\n",
    "    \n",
    "    "
   ]
  },
  {
   "cell_type": "code",
   "execution_count": null,
   "metadata": {},
   "outputs": [],
   "source": [
    "# wap function isprime "
   ]
  },
  {
   "cell_type": "code",
   "execution_count": null,
   "metadata": {},
   "outputs": [],
   "source": [
    "# waf  sum of the digits in a number"
   ]
  },
  {
   "cell_type": "code",
   "execution_count": null,
   "metadata": {},
   "outputs": [],
   "source": [
    "#waf for multiplication table"
   ]
  },
  {
   "cell_type": "code",
   "execution_count": null,
   "metadata": {},
   "outputs": [],
   "source": [
    "# waf for length of any seq data "
   ]
  }
 ],
 "metadata": {
  "kernelspec": {
   "display_name": "Python 3",
   "language": "python",
   "name": "python3"
  },
  "language_info": {
   "codemirror_mode": {
    "name": "ipython",
    "version": 3
   },
   "file_extension": ".py",
   "mimetype": "text/x-python",
   "name": "python",
   "nbconvert_exporter": "python",
   "pygments_lexer": "ipython3",
   "version": "3.7.3"
  }
 },
 "nbformat": 4,
 "nbformat_minor": 2
}
