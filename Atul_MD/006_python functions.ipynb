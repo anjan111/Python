{
 "cells": [
  {
   "cell_type": "code",
   "execution_count": 6,
   "metadata": {},
   "outputs": [
    {
     "name": "stdout",
     "output_type": "stream",
     "text": [
      "enter a number : 78\n",
      "factorial of  78  is  11324281178206297831457521158732046228731749579488251990048962825668835325234200766245086213177344000000000000000000\n",
      "enter a number : -89\n",
      "factorial is not possible for Negative numbers\n",
      "factorial of  -89  is  None\n"
     ]
    }
   ],
   "source": [
    "# wap for find the factorial of a number \n",
    "\n",
    "def  factorial (num):\n",
    "    if(num >= 0):\n",
    "        fact = 1\n",
    "        for  ele in range(1,num+1):\n",
    "            fact = fact * ele\n",
    "        else:\n",
    "            return fact\n",
    "    else:\n",
    "        print(\"factorial is not possible for Negative numbers\")\n",
    "        return None\n",
    "\n",
    "def main():\n",
    "    n   = int(input(\"enter a number : \"))\n",
    "    res = factorial(n)\n",
    "    print(\"factorial of \",n,\" is \",res)\n",
    "    r   = int(input(\"enter a number : \"))\n",
    "    res1 = factorial(r)\n",
    "    print(\"factorial of \",r,\" is \",res1)\n",
    "\n",
    "if __name__ == \"__main__\":\n",
    "    main()"
   ]
  },
  {
   "cell_type": "code",
   "execution_count": 9,
   "metadata": {},
   "outputs": [
    {
     "name": "stdout",
     "output_type": "stream",
     "text": [
      "enter n : 10\n",
      "0 1 1 2 3 5 8 13 21 34 \n",
      "\n",
      "enter n : 20\n",
      "0 1 1 2 3 5 8 13 21 34 55 89 144 233 377 610 987 1597 2584 4181 "
     ]
    }
   ],
   "source": [
    "#waf fibonic series \n",
    "def fibonic(num):\n",
    "    a = 0; b=1\n",
    "    for i in range(num):\n",
    "        print(a,end = \" \")\n",
    "        c = a+b ; a = b; b = c\n",
    "\n",
    "def main():\n",
    "    n = int(input(\"enter n : \"))\n",
    "    fibonic(n)\n",
    "    print(\"\\n\")\n",
    "    n = int(input(\"enter n : \"))\n",
    "    fibonic(n)\n",
    "if __name__ == \"__main__\":\n",
    "    main()\n",
    "    \n",
    "    "
   ]
  },
  {
   "cell_type": "code",
   "execution_count": null,
   "metadata": {},
   "outputs": [],
   "source": [
    "# wap function isprime "
   ]
  },
  {
   "cell_type": "code",
   "execution_count": null,
   "metadata": {},
   "outputs": [],
   "source": [
    "# waf  sum of the digits in a number"
   ]
  },
  {
   "cell_type": "code",
   "execution_count": null,
   "metadata": {},
   "outputs": [],
   "source": [
    "#waf for multiplication table"
   ]
  },
  {
   "cell_type": "code",
   "execution_count": null,
   "metadata": {},
   "outputs": [],
   "source": [
    "# waf for length of any seq data "
   ]
  },
  {
   "cell_type": "code",
   "execution_count": 1,
   "metadata": {},
   "outputs": [
    {
     "name": "stdout",
     "output_type": "stream",
     "text": [
      "hello\n"
     ]
    }
   ],
   "source": [
    "# default Arguments \n",
    "'''\n",
    "even if your not sending actuaal arguments from fuction call , but it can default\n",
    "\n",
    "data to formal arguments \n",
    "'''\n",
    "def fun():\n",
    "    print (\"hello\")\n",
    "fun()\n"
   ]
  },
  {
   "cell_type": "code",
   "execution_count": 3,
   "metadata": {},
   "outputs": [
    {
     "name": "stdout",
     "output_type": "stream",
     "text": [
      "hello\n",
      "a =  20\n"
     ]
    }
   ],
   "source": [
    "def fun(a):\n",
    "    print (\"hello\")\n",
    "    print(\"a = \",a)\n",
    "fun(20)"
   ]
  },
  {
   "cell_type": "code",
   "execution_count": 4,
   "metadata": {},
   "outputs": [
    {
     "ename": "TypeError",
     "evalue": "fun() missing 1 required positional argument: 'a'",
     "output_type": "error",
     "traceback": [
      "\u001b[1;31m---------------------------------------------------------------------------\u001b[0m",
      "\u001b[1;31mTypeError\u001b[0m                                 Traceback (most recent call last)",
      "\u001b[1;32m<ipython-input-4-2c6b061dca14>\u001b[0m in \u001b[0;36m<module>\u001b[1;34m\u001b[0m\n\u001b[0;32m      2\u001b[0m     \u001b[0mprint\u001b[0m \u001b[1;33m(\u001b[0m\u001b[1;34m\"hello\"\u001b[0m\u001b[1;33m)\u001b[0m\u001b[1;33m\u001b[0m\u001b[1;33m\u001b[0m\u001b[0m\n\u001b[0;32m      3\u001b[0m     \u001b[0mprint\u001b[0m\u001b[1;33m(\u001b[0m\u001b[1;34m\"a = \"\u001b[0m\u001b[1;33m,\u001b[0m\u001b[0ma\u001b[0m\u001b[1;33m)\u001b[0m\u001b[1;33m\u001b[0m\u001b[1;33m\u001b[0m\u001b[0m\n\u001b[1;32m----> 4\u001b[1;33m \u001b[0mfun\u001b[0m\u001b[1;33m(\u001b[0m\u001b[1;33m)\u001b[0m\u001b[1;33m\u001b[0m\u001b[1;33m\u001b[0m\u001b[0m\n\u001b[0m",
      "\u001b[1;31mTypeError\u001b[0m: fun() missing 1 required positional argument: 'a'"
     ]
    }
   ],
   "source": [
    "def fun(a ):\n",
    "    print (\"hello\")\n",
    "    print(\"a = \",a)\n",
    "fun()"
   ]
  },
  {
   "cell_type": "code",
   "execution_count": 5,
   "metadata": {},
   "outputs": [
    {
     "name": "stdout",
     "output_type": "stream",
     "text": [
      "hello\n",
      "a =  123\n"
     ]
    }
   ],
   "source": [
    "def fun(a = 123 ):\n",
    "    print (\"hello\")\n",
    "    print(\"a = \",a)\n",
    "fun()"
   ]
  },
  {
   "cell_type": "code",
   "execution_count": 6,
   "metadata": {},
   "outputs": [
    {
     "name": "stdout",
     "output_type": "stream",
     "text": [
      "hello\n",
      "a =  12\n"
     ]
    }
   ],
   "source": [
    "def fun(a = 123 ):\n",
    "    print (\"hello\")\n",
    "    print(\"a = \",a)\n",
    "fun(12)"
   ]
  },
  {
   "cell_type": "code",
   "execution_count": 8,
   "metadata": {},
   "outputs": [
    {
     "name": "stdout",
     "output_type": "stream",
     "text": [
      "10\n",
      "20\n",
      "30\n"
     ]
    }
   ],
   "source": [
    "# packing and unpacking\n",
    "'''\n",
    "packing ia used for to all at function call (actaul arguments )\n",
    "as single argument at function defination ( formal argumnet)\n",
    "'''\n",
    "def packing(a,b,c):\n",
    "    print(a)\n",
    "    print(b)\n",
    "    print(c)\n",
    "packing(10,20,30)"
   ]
  },
  {
   "cell_type": "code",
   "execution_count": 10,
   "metadata": {},
   "outputs": [
    {
     "name": "stdout",
     "output_type": "stream",
     "text": [
      "10\n",
      "20\n",
      "30\n",
      "40\n"
     ]
    }
   ],
   "source": [
    "def packing(*a):\n",
    "    print(a[0])\n",
    "    print(a[1])\n",
    "    print(a[2])\n",
    "    print(a[3])\n",
    "packing(10,20,30,40)"
   ]
  },
  {
   "cell_type": "code",
   "execution_count": 12,
   "metadata": {},
   "outputs": [
    {
     "name": "stdout",
     "output_type": "stream",
     "text": [
      "10\n",
      "20\n",
      "30\n"
     ]
    }
   ],
   "source": [
    "def unpacking(a,b,c):\n",
    "    print(a)\n",
    "    print(b)\n",
    "    print(c)\n",
    "x =[10,20,30]\n",
    "unpacking(*x)"
   ]
  },
  {
   "cell_type": "code",
   "execution_count": 2,
   "metadata": {},
   "outputs": [
    {
     "name": "stdout",
     "output_type": "stream",
     "text": [
      "1\n",
      "2\n",
      "3\n",
      "4\n",
      "5\n",
      "6\n",
      "7\n",
      "8\n",
      "9\n",
      "10\n"
     ]
    }
   ],
   "source": [
    "# recursive function\n",
    "'''\n",
    "--->  The function it can calls itself \n",
    "\n",
    "---> To repeate a task n of times continuosly\n",
    "\n",
    "---> to avoid the loops\n",
    "'''\n",
    "# wap print 1 to 10 using recursive function\n",
    "\n",
    "def fun(N = 0):\n",
    "    N = N+1\n",
    "    print(N)\n",
    "    if(N < 10):\n",
    "        fun(N)\n",
    "fun() "
   ]
  },
  {
   "cell_type": "code",
   "execution_count": 3,
   "metadata": {},
   "outputs": [
    {
     "name": "stdout",
     "output_type": "stream",
     "text": [
      "10\n",
      "9\n",
      "8\n",
      "7\n",
      "6\n",
      "5\n",
      "4\n",
      "3\n",
      "2\n",
      "1\n"
     ]
    }
   ],
   "source": [
    "# wap print 10 to 1\n",
    "def fun(N = 0):\n",
    "    N = N+1\n",
    "    if(N < 10):\n",
    "        fun(N)\n",
    "    print(N)\n",
    "fun() "
   ]
  },
  {
   "cell_type": "code",
   "execution_count": 9,
   "metadata": {},
   "outputs": [
    {
     "name": "stdout",
     "output_type": "stream",
     "text": [
      "5050\n"
     ]
    }
   ],
   "source": [
    "# wap find the sum of 1st N natural numbers using recursive function\n",
    "def sum_n(N=0,num =10,sum=0):\n",
    "    sum = sum +N\n",
    "    N = N+1\n",
    "    if(N<=num):\n",
    "        sum = sum_n(N,num,sum)\n",
    "    return sum\n",
    "res = sum_n(0,100,0)\n",
    "print(res)"
   ]
  },
  {
   "cell_type": "code",
   "execution_count": null,
   "metadata": {},
   "outputs": [],
   "source": [
    "# wap find the sum of squares of 1st N natural numbers"
   ]
  },
  {
   "cell_type": "code",
   "execution_count": null,
   "metadata": {},
   "outputs": [],
   "source": [
    "# wap find the factorial of a number"
   ]
  },
  {
   "cell_type": "code",
   "execution_count": null,
   "metadata": {},
   "outputs": [],
   "source": [
    "# wap find the sum of digits in a number"
   ]
  },
  {
   "cell_type": "code",
   "execution_count": null,
   "metadata": {},
   "outputs": [],
   "source": [
    "# wap find the reverse of a numbers"
   ]
  }
 ],
 "metadata": {
  "kernelspec": {
   "display_name": "Python 3",
   "language": "python",
   "name": "python3"
  },
  "language_info": {
   "codemirror_mode": {
    "name": "ipython",
    "version": 3
   },
   "file_extension": ".py",
   "mimetype": "text/x-python",
   "name": "python",
   "nbconvert_exporter": "python",
   "pygments_lexer": "ipython3",
   "version": "3.7.3"
  }
 },
 "nbformat": 4,
 "nbformat_minor": 2
}
