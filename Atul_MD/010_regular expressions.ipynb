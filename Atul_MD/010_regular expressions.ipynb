{
 "cells": [
  {
   "cell_type": "markdown",
   "metadata": {},
   "source": [
    "# Regular expression \n",
    "\n",
    "---> The pattrn is called regular expression\n",
    "\n",
    "----> Data mining\n",
    "\n",
    "-----> Data extraction\n",
    "\n",
    "----> Data validation\n",
    "\n",
    "----> re , is a predefined package/ module "
   ]
  },
  {
   "cell_type": "code",
   "execution_count": null,
   "metadata": {},
   "outputs": [],
   "source": [
    "#import re\n",
    "#  .  ----> to match any single character\n",
    "#  ^  ----> check  the regular pattrn at bigging of the str\n",
    "#  *  ----> precedence chanracter it can repeat 0 or more times\n",
    "#  +  ----> precedence chanracter it can repeat 1 or more times\n",
    "#  ?  ----> precedence chanracter it can repeat 0 or 1 times\n",
    "#  {n} ---> precedence chanracter it can repeat exactly n  times\n",
    "# {m,n}---> precedence chanracter it can repeat between m to n\n",
    "# \\d ----> match only single digit\n",
    "# \\D  ---> except digit any character \n",
    "# \\w  ---> macth alphabet / digit\n",
    "# \\W ----> match any special character\n",
    "# \\s ----> match only space/tab etc\n",
    "# \\S ---> except space any thing \n",
    "# [group of elemenets] ---> it can match only single element"
   ]
  },
  {
   "cell_type": "code",
   "execution_count": null,
   "metadata": {},
   "outputs": [],
   "source": [
    "# search ---> to check the pattrn either existed in gicen str any where\n",
    "\n",
    "# match ----> to check the pattrn either existed in gven bigging\n",
    "\n",
    "# findall  ---> to access the occurancy of pattrn\n",
    "\n",
    "# sub  ---> to replace existing data \n",
    "\n",
    "# compile ---> To create the patten / compile the pattern"
   ]
  },
  {
   "cell_type": "code",
   "execution_count": 3,
   "metadata": {},
   "outputs": [
    {
     "name": "stdout",
     "output_type": "stream",
     "text": [
      "<re.Match object; span=(2, 5), match='fan'>\n",
      "fan\n"
     ]
    }
   ],
   "source": [
    "# search \n",
    "import re\n",
    "str = 'n fan ran '\n",
    "print(re.search('.an',str))\n",
    "print(re.search('.an',str).group())"
   ]
  },
  {
   "cell_type": "code",
   "execution_count": 7,
   "metadata": {},
   "outputs": [
    {
     "name": "stdout",
     "output_type": "stream",
     "text": [
      "None\n"
     ]
    }
   ],
   "source": [
    "# match\n",
    "import re\n",
    "str = 'n fan ran '\n",
    "print(re.match('.an',str))\n",
    "#print(re.match('.an',str).group())"
   ]
  },
  {
   "cell_type": "code",
   "execution_count": 8,
   "metadata": {},
   "outputs": [
    {
     "name": "stdout",
     "output_type": "stream",
     "text": [
      "['fan', 'ran']\n"
     ]
    }
   ],
   "source": [
    "# findall\n",
    "import re\n",
    "str = 'n fan ran '\n",
    "print(re.findall('.an',str))\n"
   ]
  },
  {
   "cell_type": "code",
   "execution_count": 9,
   "metadata": {},
   "outputs": [
    {
     "name": "stdout",
     "output_type": "stream",
     "text": [
      "n anjan anjan \n"
     ]
    }
   ],
   "source": [
    "import re\n",
    "str = 'n fan ran '\n",
    "print(re.sub('.an','anjan',str))\n"
   ]
  },
  {
   "cell_type": "code",
   "execution_count": 11,
   "metadata": {},
   "outputs": [
    {
     "name": "stdout",
     "output_type": "stream",
     "text": [
      "n python python \n",
      "<re.Match object; span=(2, 5), match='fan'>\n"
     ]
    }
   ],
   "source": [
    "import re\n",
    "str = 'n fan ran '\n",
    "ptr = re.compile('.an')\n",
    "print(ptr.sub('python',str))\n",
    "print(ptr.search(str))"
   ]
  }
 ],
 "metadata": {
  "kernelspec": {
   "display_name": "Python 3",
   "language": "python",
   "name": "python3"
  },
  "language_info": {
   "codemirror_mode": {
    "name": "ipython",
    "version": 3
   },
   "file_extension": ".py",
   "mimetype": "text/x-python",
   "name": "python",
   "nbconvert_exporter": "python",
   "pygments_lexer": "ipython3",
   "version": "3.7.3"
  }
 },
 "nbformat": 4,
 "nbformat_minor": 2
}
