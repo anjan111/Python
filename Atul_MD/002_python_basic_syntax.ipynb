{
 "cells": [
  {
   "cell_type": "code",
   "execution_count": 2,
   "metadata": {},
   "outputs": [
    {
     "name": "stdout",
     "output_type": "stream",
     "text": [
      "hello\n"
     ]
    }
   ],
   "source": [
    "# single comment\n",
    "# hello will printing on monitor\n",
    "print(\"hello\")  # single statement"
   ]
  },
  {
   "cell_type": "code",
   "execution_count": 3,
   "metadata": {},
   "outputs": [
    {
     "name": "stdout",
     "output_type": "stream",
     "text": [
      "hello\n",
      "hai\n",
      "bye\n"
     ]
    }
   ],
   "source": [
    "'''\n",
    "the below example is used for to understand multiple statement\n",
    "'''\n",
    "print(\"hello\") ; print(\"hai\") ; print(\"bye\")"
   ]
  },
  {
   "cell_type": "code",
   "execution_count": 4,
   "metadata": {},
   "outputs": [
    {
     "name": "stdout",
     "output_type": "stream",
     "text": [
      "hello\n",
      "hai\n",
      "bye\n",
      "\n"
     ]
    }
   ],
   "source": [
    "'''\n",
    "The below one is used for to understand multiline statement\n",
    "'''\n",
    "print(\"\"\"hello\n",
    "hai\n",
    "bye\n",
    "\"\"\")"
   ]
  },
  {
   "cell_type": "code",
   "execution_count": 5,
   "metadata": {},
   "outputs": [
    {
     "name": "stdout",
     "output_type": "stream",
     "text": [
      "hello hai bye\n"
     ]
    }
   ],
   "source": [
    "print('hello \\\n",
    "hai \\\n",
    "bye')"
   ]
  },
  {
   "cell_type": "markdown",
   "metadata": {},
   "source": [
    "# Keywords \n",
    "\n",
    "----> The names which are already defined in python interpreter\n",
    "\n",
    "----> Predefined / Built Names\n",
    "\n",
    "----> Each and every keyword it was designed specific task\n",
    "\n",
    "----> The count of the keywords can change version to cersion"
   ]
  },
  {
   "cell_type": "code",
   "execution_count": 1,
   "metadata": {},
   "outputs": [
    {
     "name": "stdout",
     "output_type": "stream",
     "text": [
      "************************\n",
      "['False', 'None', 'True', 'and', 'as', 'assert', 'async', 'await', 'break', 'class', 'continue', 'def', 'del', 'elif', 'else', 'except', 'finally', 'for', 'from', 'global', 'if', 'import', 'in', 'is', 'lambda', 'nonlocal', 'not', 'or', 'pass', 'raise', 'return', 'try', 'while', 'with', 'yield']\n",
      "*************************\n",
      "35\n"
     ]
    }
   ],
   "source": [
    "import keyword\n",
    "print(\"************************\")\n",
    "print(keyword.kwlist)\n",
    "print(\"*************************\")\n",
    "print(len(keyword.kwlist))"
   ]
  },
  {
   "cell_type": "markdown",
   "metadata": {},
   "source": [
    "# Identifier\n",
    "\n",
    "----> User Defined Words / Programmer Words\n",
    "\n",
    "----> To Give the name Enties for variable , functiona and classs\n",
    "\n",
    "# Rules \n",
    "\n",
    "---> we can use alphabets    [a -z  / A-Z ]\n",
    "\n",
    "---> we can use digits   [ 0-9 ]\n",
    "\n",
    "---> we can use underscore   _\n",
    "\n",
    "---> Don't use as a 1st letter as a digit\n",
    "\n",
    "----> Don't Use keywords \n",
    "\n",
    "----> Don't use special Characters"
   ]
  },
  {
   "cell_type": "code",
   "execution_count": 3,
   "metadata": {},
   "outputs": [
    {
     "name": "stdout",
     "output_type": "stream",
     "text": [
      "id of 10 :  140717221736480\n",
      "id of 20 :  140717221736800\n",
      "id of 30 :  140717221737120\n",
      "id of var :  140717221736480\n",
      "id of var :  140717221736800\n",
      "id of var :  140717221737120\n"
     ]
    }
   ],
   "source": [
    "# Python Variabe\n",
    "print(\"id of 10 : \",id(10))\n",
    "print(\"id of 20 : \",id(20))\n",
    "print(\"id of 30 : \",id(30))\n",
    "\n",
    "# ---> An identifier it can be used to reference the memory location\n",
    "\n",
    "# ---> We can easly access the data from memory location\n",
    "\n",
    "# ---> We don't need any variable declaration\n",
    "\n",
    "# ---> simply we can assign the data to Identifier\n",
    "var = 10\n",
    "print(\"id of var : \",id(var))\n",
    "var =20\n",
    "print(\"id of var : \",id(var))\n",
    "var =30\n",
    "print(\"id of var : \",id(var))"
   ]
  },
  {
   "cell_type": "code",
   "execution_count": 5,
   "metadata": {},
   "outputs": [
    {
     "name": "stdout",
     "output_type": "stream",
     "text": [
      "12\n"
     ]
    }
   ],
   "source": [
    "varAI =12\n",
    "print(varAI)"
   ]
  },
  {
   "cell_type": "code",
   "execution_count": 7,
   "metadata": {},
   "outputs": [
    {
     "name": "stdout",
     "output_type": "stream",
     "text": [
      "12\n"
     ]
    }
   ],
   "source": [
    "_varA =12\n",
    "print(_varA )"
   ]
  },
  {
   "cell_type": "code",
   "execution_count": 8,
   "metadata": {},
   "outputs": [
    {
     "name": "stdout",
     "output_type": "stream",
     "text": [
      "12\n"
     ]
    }
   ],
   "source": [
    "var9_ = 12\n",
    "print(var9_)"
   ]
  },
  {
   "cell_type": "code",
   "execution_count": 9,
   "metadata": {},
   "outputs": [
    {
     "ename": "SyntaxError",
     "evalue": "invalid syntax (<ipython-input-9-10df8e388bb0>, line 1)",
     "output_type": "error",
     "traceback": [
      "\u001b[1;36m  File \u001b[1;32m\"<ipython-input-9-10df8e388bb0>\"\u001b[1;36m, line \u001b[1;32m1\u001b[0m\n\u001b[1;33m    9var =123\u001b[0m\n\u001b[1;37m       ^\u001b[0m\n\u001b[1;31mSyntaxError\u001b[0m\u001b[1;31m:\u001b[0m invalid syntax\n"
     ]
    }
   ],
   "source": [
    "9var =123"
   ]
  },
  {
   "cell_type": "code",
   "execution_count": 10,
   "metadata": {},
   "outputs": [
    {
     "ename": "SyntaxError",
     "evalue": "invalid syntax (<ipython-input-10-48300d6470ae>, line 1)",
     "output_type": "error",
     "traceback": [
      "\u001b[1;36m  File \u001b[1;32m\"<ipython-input-10-48300d6470ae>\"\u001b[1;36m, line \u001b[1;32m1\u001b[0m\n\u001b[1;33m    var@ =123\u001b[0m\n\u001b[1;37m         ^\u001b[0m\n\u001b[1;31mSyntaxError\u001b[0m\u001b[1;31m:\u001b[0m invalid syntax\n"
     ]
    }
   ],
   "source": [
    "var@ =123"
   ]
  },
  {
   "cell_type": "code",
   "execution_count": 11,
   "metadata": {},
   "outputs": [
    {
     "ename": "SyntaxError",
     "evalue": "invalid syntax (<ipython-input-11-1d33d7e05c41>, line 1)",
     "output_type": "error",
     "traceback": [
      "\u001b[1;36m  File \u001b[1;32m\"<ipython-input-11-1d33d7e05c41>\"\u001b[1;36m, line \u001b[1;32m1\u001b[0m\n\u001b[1;33m    while =123\u001b[0m\n\u001b[1;37m          ^\u001b[0m\n\u001b[1;31mSyntaxError\u001b[0m\u001b[1;31m:\u001b[0m invalid syntax\n"
     ]
    }
   ],
   "source": [
    "while =123"
   ]
  },
  {
   "cell_type": "markdown",
   "metadata": {},
   "source": [
    "# Python Data Types :\n",
    "\n",
    "---> In case python all datatypes are predefined class\n",
    "\n",
    "---> The real data is called object\n",
    "\n",
    "---> To specify what type of data holded by varaible\n",
    "\n",
    "# Types \n",
    "\n",
    "1. Fundamental Datatype\n",
    "\n",
    "    ---> A single Variable can hold single data element\n",
    "    \n",
    "        1. int\n",
    "        2. float \n",
    "        3. bool\n",
    "        4. complex\n",
    "        5. None\n",
    "\n",
    "2. Sequential Datatype\n",
    "        "
   ]
  },
  {
   "cell_type": "code",
   "execution_count": 12,
   "metadata": {},
   "outputs": [
    {
     "name": "stdout",
     "output_type": "stream",
     "text": [
      "id   :  140717221736480\n",
      "data :  10\n",
      "<class 'int'>\n"
     ]
    }
   ],
   "source": [
    "'''\n",
    "\n",
    "    ---> A single Variable can hold single data element\n",
    "    \n",
    "        1. int\n",
    "        2. float \n",
    "        3. bool\n",
    "        4. complex\n",
    "        5. None\n",
    "'''\n",
    "var =10\n",
    "print(\"id   : \",id(var))\n",
    "print(\"data : \",var)\n",
    "print(type(var))"
   ]
  },
  {
   "cell_type": "code",
   "execution_count": 13,
   "metadata": {},
   "outputs": [
    {
     "name": "stdout",
     "output_type": "stream",
     "text": [
      "id   :  744957780016\n",
      "data :  10.788\n",
      "<class 'float'>\n"
     ]
    }
   ],
   "source": [
    "var =10.788\n",
    "print(\"id   : \",id(var))\n",
    "print(\"data : \",var)\n",
    "print(type(var))"
   ]
  },
  {
   "cell_type": "code",
   "execution_count": 14,
   "metadata": {},
   "outputs": [
    {
     "name": "stdout",
     "output_type": "stream",
     "text": [
      "id   :  140717221220880\n",
      "data :  True\n",
      "<class 'bool'>\n",
      "****************\n",
      "id   :  140717221220912\n",
      "data :  False\n",
      "<class 'bool'>\n"
     ]
    }
   ],
   "source": [
    "var =True\n",
    "print(\"id   : \",id(var))\n",
    "print(\"data : \",var)\n",
    "print(type(var))\n",
    "print(\"****************\")\n",
    "var =False\n",
    "print(\"id   : \",id(var))\n",
    "print(\"data : \",var)\n",
    "print(type(var))"
   ]
  },
  {
   "cell_type": "code",
   "execution_count": 15,
   "metadata": {},
   "outputs": [
    {
     "name": "stdout",
     "output_type": "stream",
     "text": [
      "id   :  744943932400\n",
      "data :  (10+3j)\n",
      "<class 'complex'>\n"
     ]
    }
   ],
   "source": [
    "var =10 +  3j\n",
    "print(\"id   : \",id(var))\n",
    "print(\"data : \",var)\n",
    "print(type(var))"
   ]
  },
  {
   "cell_type": "code",
   "execution_count": 16,
   "metadata": {},
   "outputs": [
    {
     "name": "stdout",
     "output_type": "stream",
     "text": [
      "id   :  140717221267472\n",
      "data :  None\n",
      "<class 'NoneType'>\n"
     ]
    }
   ],
   "source": [
    "var =None\n",
    "print(\"id   : \",id(var))\n",
    "print(\"data : \",var)\n",
    "print(type(var))"
   ]
  },
  {
   "cell_type": "code",
   "execution_count": 18,
   "metadata": {},
   "outputs": [
    {
     "name": "stdout",
     "output_type": "stream",
     "text": [
      "None\n"
     ]
    }
   ],
   "source": [
    "def fun(var=None):\n",
    "    print(var)\n",
    "    \n",
    "fun()"
   ]
  },
  {
   "cell_type": "markdown",
   "metadata": {},
   "source": [
    "# seqencial Datatype :\n",
    "\n",
    "---> A single variable can hold multiple data elements \n",
    "\n",
    "---> there are 5 datatypes \n",
    "\n",
    "    1. str\n",
    "    \n",
    "    2. list\n",
    "    \n",
    "    3. tuple \n",
    "    \n",
    "    4. dict\n",
    "    \n",
    "    5. set \n",
    "    "
   ]
  },
  {
   "cell_type": "code",
   "execution_count": null,
   "metadata": {},
   "outputs": [],
   "source": [
    "# string datatype\n",
    "'''\n",
    "---> collection of character is called string \n",
    "\n",
    "---> we group the n no of characters with in '  '/  \" \" /''' '''/\n",
    "\n",
    "\"\"\" \"\"\"\n",
    "'''"
   ]
  },
  {
   "cell_type": "code",
   "execution_count": 1,
   "metadata": {},
   "outputs": [
    {
     "name": "stdout",
     "output_type": "stream",
     "text": [
      "data with in var :  python\n",
      "<class 'str'>\n",
      "16258630968\n"
     ]
    }
   ],
   "source": [
    "var = 'python'\n",
    "print(\"data with in var : \",var)\n",
    "print(type(var))\n",
    "print(id(var))"
   ]
  },
  {
   "cell_type": "code",
   "execution_count": 2,
   "metadata": {},
   "outputs": [
    {
     "name": "stdout",
     "output_type": "stream",
     "text": [
      "data with in var :  python\n",
      "<class 'str'>\n",
      "16258630968\n"
     ]
    }
   ],
   "source": [
    "var = \"python\"\n",
    "print(\"data with in var : \",var)\n",
    "print(type(var))\n",
    "print(id(var))"
   ]
  },
  {
   "cell_type": "code",
   "execution_count": 3,
   "metadata": {},
   "outputs": [
    {
     "name": "stdout",
     "output_type": "stream",
     "text": [
      "data with in var :  python\n",
      "<class 'str'>\n",
      "16258630968\n"
     ]
    }
   ],
   "source": [
    "var = '''python'''\n",
    "print(\"data with in var : \",var)\n",
    "print(type(var))\n",
    "print(id(var))"
   ]
  },
  {
   "cell_type": "code",
   "execution_count": 4,
   "metadata": {},
   "outputs": [
    {
     "name": "stdout",
     "output_type": "stream",
     "text": [
      "data with in var :  python\n",
      "<class 'str'>\n",
      "16258630968\n"
     ]
    }
   ],
   "source": [
    "var = \"\"\"python\"\"\"\n",
    "print(\"data with in var : \",var)\n",
    "print(type(var))\n",
    "print(id(var))"
   ]
  },
  {
   "cell_type": "code",
   "execution_count": 5,
   "metadata": {},
   "outputs": [
    {
     "name": "stdout",
     "output_type": "stream",
     "text": [
      "data with in var :  [12, 45.45, (78+4j), True, None, 'python']\n",
      "<class 'list'>\n",
      "16303279112\n"
     ]
    }
   ],
   "source": [
    "# list daatatype :-\n",
    "'''\n",
    "---> group of elements we can store with square brackets []\n",
    "'''\n",
    "var = [12,45.45,78+4j,True,None,'python']\n",
    "print(\"data with in var : \",var)\n",
    "print(type(var))\n",
    "print(id(var))"
   ]
  },
  {
   "cell_type": "code",
   "execution_count": 6,
   "metadata": {},
   "outputs": [
    {
     "name": "stdout",
     "output_type": "stream",
     "text": [
      "data with in var :  (12, 90, (4+5j), None, True)\n",
      "<class 'tuple'>\n",
      "16303970088\n"
     ]
    }
   ],
   "source": [
    "# tuple datatype\n",
    "'''\n",
    "---> a group of elements we can store with in paranthasis ()\n",
    "'''\n",
    "var = (12,34+56, 4+5j,None,True)\n",
    "print(\"data with in var : \",var)\n",
    "print(type(var))\n",
    "print(id(var))"
   ]
  },
  {
   "cell_type": "code",
   "execution_count": 7,
   "metadata": {},
   "outputs": [
    {
     "name": "stdout",
     "output_type": "stream",
     "text": [
      "data with in var :  {True, None, 12, (7+5j), 56.67}\n",
      "<class 'set'>\n",
      "16304112360\n"
     ]
    }
   ],
   "source": [
    "#set datatype \n",
    "'''\n",
    "---> we can store a group of elements with in the curly braces { }\n",
    "\n",
    "'''\n",
    "var = {12, 56.67 ,True, 7+5j,None}\n",
    "print(\"data with in var : \",var)\n",
    "print(type(var))\n",
    "print(id(var))"
   ]
  },
  {
   "cell_type": "code",
   "execution_count": 8,
   "metadata": {},
   "outputs": [
    {
     "name": "stdout",
     "output_type": "stream",
     "text": [
      "data with in var :  {12: 'python', 34: 'c', 89: 'jfgjkg'}\n",
      "<class 'dict'>\n",
      "16303219192\n"
     ]
    }
   ],
   "source": [
    "# dict daatatype\n",
    "'''\n",
    "---> a group of elements we can store with curly braces \n",
    "\n",
    "---> the elements which is combination of keys and values \n",
    "\n",
    "---> it can be used for to maintain the records \n",
    "\n",
    "        examples :\n",
    "            \n",
    "            1. students\n",
    "            \n",
    "            2. employee\n",
    "            \n",
    "---> dict unorder datatype\n",
    "'''\n",
    "var = {12:\"python\" , 34:\"c\" ,89:\"jfgjkg\" }\n",
    "print(\"data with in var : \",var)\n",
    "print(type(var))\n",
    "print(id(var))"
   ]
  },
  {
   "cell_type": "code",
   "execution_count": 9,
   "metadata": {},
   "outputs": [
    {
     "name": "stdout",
     "output_type": "stream",
     "text": [
      "data with in var :  {12: 'python', 34: 'c', 89: 'jfgjkg'}\n"
     ]
    },
    {
     "ename": "KeyError",
     "evalue": "0",
     "output_type": "error",
     "traceback": [
      "\u001b[1;31m---------------------------------------------------------------------------\u001b[0m",
      "\u001b[1;31mKeyError\u001b[0m                                  Traceback (most recent call last)",
      "\u001b[1;32m<ipython-input-9-39568765baf5>\u001b[0m in \u001b[0;36m<module>\u001b[1;34m()\u001b[0m\n\u001b[0;32m      1\u001b[0m \u001b[0mvar\u001b[0m \u001b[1;33m=\u001b[0m \u001b[1;33m{\u001b[0m\u001b[1;36m12\u001b[0m\u001b[1;33m:\u001b[0m\u001b[1;34m\"python\"\u001b[0m \u001b[1;33m,\u001b[0m \u001b[1;36m34\u001b[0m\u001b[1;33m:\u001b[0m\u001b[1;34m\"c\"\u001b[0m \u001b[1;33m,\u001b[0m\u001b[1;36m89\u001b[0m\u001b[1;33m:\u001b[0m\u001b[1;34m\"jfgjkg\"\u001b[0m \u001b[1;33m}\u001b[0m\u001b[1;33m\u001b[0m\u001b[0m\n\u001b[0;32m      2\u001b[0m \u001b[0mprint\u001b[0m\u001b[1;33m(\u001b[0m\u001b[1;34m\"data with in var : \"\u001b[0m\u001b[1;33m,\u001b[0m\u001b[0mvar\u001b[0m\u001b[1;33m)\u001b[0m\u001b[1;33m\u001b[0m\u001b[0m\n\u001b[1;32m----> 3\u001b[1;33m \u001b[0mprint\u001b[0m\u001b[1;33m(\u001b[0m\u001b[0mvar\u001b[0m\u001b[1;33m[\u001b[0m\u001b[1;36m0\u001b[0m\u001b[1;33m]\u001b[0m\u001b[1;33m)\u001b[0m\u001b[1;33m\u001b[0m\u001b[0m\n\u001b[0m",
      "\u001b[1;31mKeyError\u001b[0m: 0"
     ]
    }
   ],
   "source": [
    "var = {12:\"python\" , 34:\"c\" ,89:\"jfgjkg\" }\n",
    "print(\"data with in var : \",var)\n",
    "#its unorder datatype so it can't support indexing\n",
    "# but we can access values by keys \n",
    "print(var[0])"
   ]
  },
  {
   "cell_type": "code",
   "execution_count": 10,
   "metadata": {},
   "outputs": [
    {
     "name": "stdout",
     "output_type": "stream",
     "text": [
      "data with in var :  {12: 'python', 34: 'c', 89: 'jfgjkg'}\n",
      "python\n",
      "jfgjkg\n"
     ]
    }
   ],
   "source": [
    "var = {12:\"python\" , 34:\"c\" ,89:\"jfgjkg\" }\n",
    "print(\"data with in var : \",var)\n",
    "print(var[12])\n",
    "print(var[89])"
   ]
  },
  {
   "cell_type": "code",
   "execution_count": 11,
   "metadata": {},
   "outputs": [
    {
     "name": "stdout",
     "output_type": "stream",
     "text": [
      "data with in var :  {12: 'python', 34: 'c', 89: 'jfgjkg'}\n",
      "data with in var :  {12: 'python', 34: 'c', 89: 'jfgjkg', 67: 'new data'}\n"
     ]
    }
   ],
   "source": [
    "# create new item \n",
    "var = {12:\"python\" , 34:\"c\" ,89:\"jfgjkg\" }\n",
    "print(\"data with in var : \",var)\n",
    "var[67]= \"new data\"\n",
    "print(\"data with in var : \",var)"
   ]
  },
  {
   "cell_type": "code",
   "execution_count": 12,
   "metadata": {},
   "outputs": [
    {
     "name": "stdout",
     "output_type": "stream",
     "text": [
      "data with in var :  {12: 'python', 34: 'c', 89: 'jfgjkg'}\n",
      "data with in var :  {12: 'python', 34: 'c', 89: 'i updated'}\n"
     ]
    }
   ],
   "source": [
    "# updaate existing item\n",
    "var = {12:\"python\" , 34:\"c\" ,89:\"jfgjkg\" }\n",
    "print(\"data with in var : \",var)\n",
    "var[89]= \"i updated\"\n",
    "print(\"data with in var : \",var)"
   ]
  },
  {
   "cell_type": "code",
   "execution_count": 13,
   "metadata": {},
   "outputs": [
    {
     "name": "stdout",
     "output_type": "stream",
     "text": [
      "data with in var :  {12: 'python', 34: 'c', 89: '2nd time'}\n"
     ]
    }
   ],
   "source": [
    "# its never support duplicate key item\n",
    "# create new item \n",
    "var = {12:\"python\" , 34:\"c\" ,89:\"1st time\",89:\"2nd time\" }\n",
    "print(\"data with in var : \",var)\n"
   ]
  },
  {
   "cell_type": "code",
   "execution_count": 18,
   "metadata": {},
   "outputs": [
    {
     "name": "stdout",
     "output_type": "stream",
     "text": [
      "data with in var :  {12: 'python', 34: 'c', 89: 'jfgjkg'}\n",
      "12 :  None\n"
     ]
    },
    {
     "ename": "KeyError",
     "evalue": "0",
     "output_type": "error",
     "traceback": [
      "\u001b[1;31m---------------------------------------------------------------------------\u001b[0m",
      "\u001b[1;31mKeyError\u001b[0m                                  Traceback (most recent call last)",
      "\u001b[1;32m<ipython-input-18-709700387cd4>\u001b[0m in \u001b[0;36m<module>\u001b[1;34m()\u001b[0m\n\u001b[0;32m      3\u001b[0m \u001b[0mprint\u001b[0m\u001b[1;33m(\u001b[0m\u001b[1;34m\"data with in var : \"\u001b[0m\u001b[1;33m,\u001b[0m\u001b[0mvar\u001b[0m\u001b[1;33m)\u001b[0m\u001b[1;33m\u001b[0m\u001b[0m\n\u001b[0;32m      4\u001b[0m \u001b[0mprint\u001b[0m\u001b[1;33m(\u001b[0m\u001b[1;34m\"12 : \"\u001b[0m\u001b[1;33m,\u001b[0m\u001b[0mvar\u001b[0m\u001b[1;33m.\u001b[0m\u001b[0mget\u001b[0m\u001b[1;33m(\u001b[0m\u001b[1;36m0\u001b[0m\u001b[1;33m)\u001b[0m\u001b[1;33m)\u001b[0m\u001b[1;33m\u001b[0m\u001b[0m\n\u001b[1;32m----> 5\u001b[1;33m \u001b[0mprint\u001b[0m\u001b[1;33m(\u001b[0m\u001b[1;34m\"12 : \"\u001b[0m\u001b[1;33m,\u001b[0m\u001b[0mvar\u001b[0m\u001b[1;33m[\u001b[0m\u001b[1;36m0\u001b[0m\u001b[1;33m]\u001b[0m\u001b[1;33m)\u001b[0m\u001b[1;33m\u001b[0m\u001b[0m\n\u001b[0m",
      "\u001b[1;31mKeyError\u001b[0m: 0"
     ]
    }
   ],
   "source": [
    "# get method is used for to access the value of specific key\n",
    "var = {12:\"python\" , 34:\"c\" ,89:\"jfgjkg\" }\n",
    "print(\"data with in var : \",var)\n",
    "print(\"12 : \",var.get(0))\n",
    "print(\"12 : \",var[0])"
   ]
  },
  {
   "cell_type": "code",
   "execution_count": 20,
   "metadata": {},
   "outputs": [
    {
     "name": "stdout",
     "output_type": "stream",
     "text": [
      "data with in var :  {12: 'python', 34: 'c', 89: 'jfgjkg'}\n",
      "12 :  python\n",
      "12 :  python\n"
     ]
    }
   ],
   "source": [
    "# get method is used for to access the value of specific key\n",
    "var = {12:\"python\" , 34:\"c\" ,89:\"jfgjkg\" }\n",
    "print(\"data with in var : \",var)\n",
    "print(\"12 : \",var.get(12))\n",
    "print(\"12 : \",var[12])"
   ]
  },
  {
   "cell_type": "code",
   "execution_count": 15,
   "metadata": {},
   "outputs": [
    {
     "name": "stdout",
     "output_type": "stream",
     "text": [
      "data with in var :  {12: 'python', 34: 'c', 89: 'jfgjkg'}\n",
      "dict_items([(12, 'python'), (34, 'c'), (89, 'jfgjkg')])\n",
      "dict_keys([12, 34, 89])\n",
      "dict_values(['python', 'c', 'jfgjkg'])\n"
     ]
    }
   ],
   "source": [
    "# keys method can used for to access all keys \n",
    "# values method can used for to access all values \n",
    "# items method can used for to access all items \n",
    "var = {12:\"python\" , 34:\"c\" ,89:\"jfgjkg\" }\n",
    "print(\"data with in var : \",var)\n",
    "print(var.items())\n",
    "print(var.keys())\n",
    "print(var.values())"
   ]
  },
  {
   "cell_type": "code",
   "execution_count": 21,
   "metadata": {},
   "outputs": [
    {
     "name": "stdout",
     "output_type": "stream",
     "text": [
      "data with in var :  {12: 'python', 34: 'c', 89: 'jfgjkg'}\n",
      "12 :  c\n",
      "data with in var :  {12: 'python', 89: 'jfgjkg'}\n",
      "12 :  None\n"
     ]
    }
   ],
   "source": [
    "# pop method\n",
    "var = {12:\"python\" , 34:\"c\" ,89:\"jfgjkg\" }\n",
    "print(\"data with in var : \",var)\n",
    "print(\"12 : \",var.pop(34)) # remove  specific item and return the value\n",
    "print(\"data with in var : \",var)\n",
    "print(\"12 : \",var.get(34))"
   ]
  },
  {
   "cell_type": "code",
   "execution_count": 24,
   "metadata": {},
   "outputs": [
    {
     "name": "stdout",
     "output_type": "stream",
     "text": [
      "data with in var :  {12: 'python', 34: 'c', 89: 'jfgjkg'}\n"
     ]
    },
    {
     "ename": "KeyError",
     "evalue": "90",
     "output_type": "error",
     "traceback": [
      "\u001b[1;31m---------------------------------------------------------------------------\u001b[0m",
      "\u001b[1;31mKeyError\u001b[0m                                  Traceback (most recent call last)",
      "\u001b[1;32m<ipython-input-24-9a6835f8f48f>\u001b[0m in \u001b[0;36m<module>\u001b[1;34m()\u001b[0m\n\u001b[0;32m      2\u001b[0m \u001b[0mvar\u001b[0m \u001b[1;33m=\u001b[0m \u001b[1;33m{\u001b[0m\u001b[1;36m12\u001b[0m\u001b[1;33m:\u001b[0m\u001b[1;34m\"python\"\u001b[0m \u001b[1;33m,\u001b[0m \u001b[1;36m34\u001b[0m\u001b[1;33m:\u001b[0m\u001b[1;34m\"c\"\u001b[0m \u001b[1;33m,\u001b[0m\u001b[1;36m89\u001b[0m\u001b[1;33m:\u001b[0m\u001b[1;34m\"jfgjkg\"\u001b[0m \u001b[1;33m}\u001b[0m\u001b[1;33m\u001b[0m\u001b[0m\n\u001b[0;32m      3\u001b[0m \u001b[0mprint\u001b[0m\u001b[1;33m(\u001b[0m\u001b[1;34m\"data with in var : \"\u001b[0m\u001b[1;33m,\u001b[0m\u001b[0mvar\u001b[0m\u001b[1;33m)\u001b[0m\u001b[1;33m\u001b[0m\u001b[0m\n\u001b[1;32m----> 4\u001b[1;33m \u001b[0mprint\u001b[0m\u001b[1;33m(\u001b[0m\u001b[1;34m\"12 : \"\u001b[0m\u001b[1;33m,\u001b[0m\u001b[0mvar\u001b[0m\u001b[1;33m.\u001b[0m\u001b[0mpop\u001b[0m\u001b[1;33m(\u001b[0m\u001b[1;36m90\u001b[0m\u001b[1;33m)\u001b[0m\u001b[1;33m)\u001b[0m \u001b[1;31m# remove  specific item and return the value\u001b[0m\u001b[1;33m\u001b[0m\u001b[0m\n\u001b[0m\u001b[0;32m      5\u001b[0m \u001b[0mprint\u001b[0m\u001b[1;33m(\u001b[0m\u001b[1;34m\"data with in var : \"\u001b[0m\u001b[1;33m,\u001b[0m\u001b[0mvar\u001b[0m\u001b[1;33m)\u001b[0m\u001b[1;33m\u001b[0m\u001b[0m\n\u001b[0;32m      6\u001b[0m \u001b[0mprint\u001b[0m\u001b[1;33m(\u001b[0m\u001b[1;34m\"12 : \"\u001b[0m\u001b[1;33m,\u001b[0m\u001b[0mvar\u001b[0m\u001b[1;33m.\u001b[0m\u001b[0mget\u001b[0m\u001b[1;33m(\u001b[0m\u001b[1;36m34\u001b[0m\u001b[1;33m)\u001b[0m\u001b[1;33m)\u001b[0m\u001b[1;33m\u001b[0m\u001b[0m\n",
      "\u001b[1;31mKeyError\u001b[0m: 90"
     ]
    }
   ],
   "source": [
    "# pop method\n",
    "var = {12:\"python\" , 34:\"c\" ,89:\"jfgjkg\" }\n",
    "print(\"data with in var : \",var)\n",
    "print(\"12 : \",var.pop(90)) # remove  specific item and return the value\n",
    "print(\"data with in var : \",var)\n",
    "print(\"12 : \",var.get(34))"
   ]
  },
  {
   "cell_type": "code",
   "execution_count": 29,
   "metadata": {},
   "outputs": [
    {
     "name": "stdout",
     "output_type": "stream",
     "text": [
      "data with in var :  {12: 'python', 34: 'c', 89: 'jfgjkg'}\n",
      "last time  (89, 'jfgjkg')\n",
      "data with in var :  {12: 'python', 34: 'c'}\n"
     ]
    }
   ],
   "source": [
    "# pop method\n",
    "var = {12:\"python\" , 34:\"c\" ,89:\"jfgjkg\" }\n",
    "print(\"data with in var : \",var)\n",
    "print(\"last time \",var.popitem())# remove  last item and return it\n",
    "print(\"data with in var : \",var)\n"
   ]
  },
  {
   "cell_type": "code",
   "execution_count": 30,
   "metadata": {},
   "outputs": [
    {
     "name": "stdout",
     "output_type": "stream",
     "text": [
      "data with in var :  {12: 'python', 34: 'c', 89: 'jfgjkg'}\n",
      "var2 : {45: 'jfhg'}\n",
      "var2 : {45: 'jfhg', 12: 'python', 34: 'c', 89: 'jfgjkg'}\n"
     ]
    }
   ],
   "source": [
    "#update\n",
    "var = {12:\"python\" , 34:\"c\" ,89:\"jfgjkg\" }\n",
    "print(\"data with in var : \",var)\n",
    "var2 = {45:\"jfhg\"}\n",
    "print(\"var2 :\",var2)\n",
    "var2.update(var)\n",
    "print(\"var2 :\",var2)"
   ]
  },
  {
   "cell_type": "code",
   "execution_count": 32,
   "metadata": {},
   "outputs": [
    {
     "name": "stdout",
     "output_type": "stream",
     "text": [
      "data with in var :  {12: 'python', 34: 'c', 89: 'jfgjkg'}\n",
      "var2 : {45: 'jfhg'}\n",
      "var2 : {12: 'python', 34: 'c', 89: 'jfgjkg'}\n"
     ]
    }
   ],
   "source": [
    "# pop method\n",
    "var = {12:\"python\" , 34:\"c\" ,89:\"jfgjkg\" }\n",
    "print(\"data with in var : \",var)\n",
    "var2 = {45:\"jfhg\"}\n",
    "print(\"var2 :\",var2)\n",
    "var2 = var.copy()\n",
    "print(\"var2 :\",var2)"
   ]
  },
  {
   "cell_type": "code",
   "execution_count": 31,
   "metadata": {},
   "outputs": [
    {
     "name": "stdout",
     "output_type": "stream",
     "text": [
      "data with in var :  {12: 'python', 34: 'c', 89: 'jfgjkg'}\n",
      "data with in var :  {}\n"
     ]
    }
   ],
   "source": [
    "# pop method\n",
    "var = {12:\"python\" , 34:\"c\" ,89:\"jfgjkg\" }\n",
    "print(\"data with in var : \",var)\n",
    "var.clear()\n",
    "print(\"data with in var : \",var)"
   ]
  }
 ],
 "metadata": {
  "kernelspec": {
   "display_name": "Python 3",
   "language": "python",
   "name": "python3"
  },
  "language_info": {
   "codemirror_mode": {
    "name": "ipython",
    "version": 3
   },
   "file_extension": ".py",
   "mimetype": "text/x-python",
   "name": "python",
   "nbconvert_exporter": "python",
   "pygments_lexer": "ipython3",
   "version": "3.7.0"
  }
 },
 "nbformat": 4,
 "nbformat_minor": 2
}
