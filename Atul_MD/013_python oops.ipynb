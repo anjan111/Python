{
 "cells": [
  {
   "cell_type": "markdown",
   "metadata": {},
   "source": [
    "# Object Oriented PL\n",
    "\n",
    "---->If any PL is follows the following features\n",
    "        \n",
    "        1. Data hiding \n",
    "        \n",
    "        2. Data encapusaltion\n",
    "        \n",
    "        3. Method over ridding / overloading \n",
    "        \n",
    "        4. Polymorphism \n",
    "        \n",
    "        5. Inheritance \n",
    "        \n",
    "---> Python is a OOPL , bcz it allows the above features \n",
    "\n",
    "---> If any PL is allows OOPL feature the reason is having the following component \n",
    "\n",
    "       1. Class\n",
    "       \n",
    "       2. object\n",
    "       \n",
    "       3. methode\n",
    "       \n",
    "       4. constructor \n",
    "       \n",
    "       5. destroctors \n",
    "       \n",
    "# class\n",
    "\n",
    "----> class is a imaginary part\n",
    "\n",
    "----> class is a logical entity for an object \n",
    "\n",
    "----> class is not required space\n",
    "\n",
    "----> class is template for an object \n",
    "\n",
    "----> class keyword is used for to create the object\n",
    "\n",
    "syntax of class :-\n",
    "-----------------------\n",
    "\n",
    "class Class_name():\n",
    "   \n",
    "       attributes\n",
    "   \n",
    "       ----------\n",
    "   \n",
    "       ----------\n",
    "       \n",
    "object :-\n",
    "-----------\n",
    "\n",
    "---> Its a physical entity for logical class \n",
    "\n",
    "---> we are creating the object using class\n",
    "\n",
    "---> Its a instance of the class\n",
    "\n",
    "---> The process of the creation  object is called instantation\n",
    "\n",
    "---> we can create multiple objects using same class \n",
    "\n",
    "---> each object its having its own namespaces\n",
    "\n",
    "syntax :-\n",
    "------------\n",
    "\n",
    "obj_name =  Class_name()\n",
    "\n"
   ]
  },
  {
   "cell_type": "code",
   "execution_count": 5,
   "metadata": {},
   "outputs": [
    {
     "name": "stdout",
     "output_type": "stream",
     "text": [
      "None\n",
      "None\n",
      "None\n",
      "Ritika\n",
      "None\n",
      "None\n",
      "Aproova\n",
      "MD\n",
      "Ritika\n"
     ]
    }
   ],
   "source": [
    "# wac for student information\n",
    "\n",
    "class Student():\n",
    "    name = None\n",
    "    age  = None\n",
    "    roll = None\n",
    "    \n",
    "std1 = Student()\n",
    "std2 = Student()\n",
    "std3 = Student()\n",
    "\n",
    "print(std1.name)\n",
    "print(std2.name)\n",
    "print(std3.name)\n",
    "std1.name =\"Ritika\"\n",
    "print(std1.name)\n",
    "print(std2.name)\n",
    "print(std3.name)\n",
    "std1.name =\"Aproova\"\n",
    "std2.name =\"MD\"\n",
    "std3.name =\"Ritika\"\n",
    "print(std1.name)\n",
    "print(std2.name)\n",
    "print(std3.name)"
   ]
  },
  {
   "cell_type": "markdown",
   "metadata": {},
   "source": [
    "# method\n",
    "\n",
    "---> Functions are defined inside of the class  i.e method\n",
    "\n",
    "--> Any  class method is required atleast one argument i.e any name but usally use self\n",
    "\n",
    "--->if any  object is calls the class methode than object information defaultly store self argument\n",
    "\n",
    "syntax :\n",
    "------------\n",
    "\n",
    "class   Class_name():\n",
    "\n",
    "    Attributes\n",
    "    \n",
    "    def method1(self):\n",
    "        \n",
    "            Task\n",
    "            \n",
    "            -----\n",
    "            \n",
    "            -----\n",
    "            \n",
    "     def method2(self):\n",
    "        \n",
    "            Task\n",
    "            \n",
    "            -----\n",
    "            \n",
    "            -----"
   ]
  },
  {
   "cell_type": "code",
   "execution_count": 6,
   "metadata": {},
   "outputs": [
    {
     "name": "stdout",
     "output_type": "stream",
     "text": [
      "self :  <__main__.Student object at 0x00000052D2683C88>\n",
      "self :  <__main__.Student object at 0x00000052D2683EF0>\n",
      "self :  <__main__.Student object at 0x00000052D2683F28>\n",
      "***************\n",
      "self :  <__main__.Student object at 0x00000052D2683C88>\n",
      "name :  aproova\n",
      "age  :  26\n",
      "roll :  S01\n",
      "***************\n",
      "self :  <__main__.Student object at 0x00000052D2683EF0>\n",
      "name :  MD\n",
      "age  :  27\n",
      "roll :  S02\n",
      "***************\n",
      "self :  <__main__.Student object at 0x00000052D2683F28>\n",
      "name :  Ritika\n",
      "age  :  25\n",
      "roll :  S03\n"
     ]
    }
   ],
   "source": [
    "# wac for student information\n",
    "\n",
    "class Student():\n",
    "    name = None\n",
    "    age  = None\n",
    "    roll = None\n",
    "    def get_details(self,name,age,roll):\n",
    "            \n",
    "            print(\"self : \",self)\n",
    "            self.name = name\n",
    "            self.age =age\n",
    "            self.roll = roll\n",
    "    def print_details(self):\n",
    "        print(\"***************\")\n",
    "        print(\"self : \",self)\n",
    "        print(\"name : \",self.name)\n",
    "        print(\"age  : \",self.age)\n",
    "        print(\"roll : \",self.roll)\n",
    "    \n",
    "std1 = Student()\n",
    "std2 = Student()\n",
    "std3 = Student()\n",
    "std1.get_details(\"aproova\",26,\"S01\")\n",
    "std2.get_details(\"MD\",27,\"S02\")\n",
    "std3.get_details(\"Ritika\",25,\"S03\")\n",
    "std1.print_details()\n",
    "std2.print_details()\n",
    "std3.print_details()\n",
    "\n"
   ]
  },
  {
   "cell_type": "markdown",
   "metadata": {},
   "source": [
    "# constrotor  ---> its special Method\n",
    "\n",
    "---> It is used for to do any task while creation object\n",
    "\n",
    "--->  __init__  is a name of the constoctor\n",
    "\n",
    "\n",
    "syntax:\n",
    "----------\n",
    "\n",
    "class Class_name():\n",
    "\n",
    "    def __init__(self): ------> non parameterized \n",
    "    \n",
    "        Task\n",
    "        \n",
    "        -----\n",
    "        \n",
    "\n",
    "class Class_name():\n",
    "\n",
    "    def __init__(self,arg1,arg2): ------>  parameterized \n",
    "    \n",
    "        Task\n",
    "        \n",
    "        -----"
   ]
  },
  {
   "cell_type": "code",
   "execution_count": 7,
   "metadata": {},
   "outputs": [
    {
     "name": "stdout",
     "output_type": "stream",
     "text": [
      "self :  <__main__.Student object at 0x00000052D268D4A8>\n",
      "self :  <__main__.Student object at 0x00000052D268DE80>\n",
      "self :  <__main__.Student object at 0x00000052D267C198>\n",
      "***************\n",
      "self :  <__main__.Student object at 0x00000052D268D4A8>\n",
      "name :  aproova\n",
      "age  :  26\n",
      "roll :  S01\n",
      "***************\n",
      "self :  <__main__.Student object at 0x00000052D268DE80>\n",
      "name :  MD\n",
      "age  :  27\n",
      "roll :  S02\n",
      "***************\n",
      "self :  <__main__.Student object at 0x00000052D267C198>\n",
      "name :  Ritika\n",
      "age  :  25\n",
      "roll :  S03\n"
     ]
    }
   ],
   "source": [
    "# wac for student information\n",
    "\n",
    "class Student():\n",
    "    name = None\n",
    "    age  = None\n",
    "    roll = None\n",
    "    def __init__(self):\n",
    "        print(\"self : \",self)\n",
    "    def get_details(self,name,age,roll):\n",
    "            self.name = name\n",
    "            self.age =age\n",
    "            self.roll = roll\n",
    "    def print_details(self):\n",
    "        print(\"***************\")\n",
    "        print(\"self : \",self)\n",
    "        print(\"name : \",self.name)\n",
    "        print(\"age  : \",self.age)\n",
    "        print(\"roll : \",self.roll)\n",
    "    \n",
    "std1 = Student()\n",
    "std2 = Student()\n",
    "std3 = Student()\n",
    "std1.get_details(\"aproova\",26,\"S01\")\n",
    "std2.get_details(\"MD\",27,\"S02\")\n",
    "std3.get_details(\"Ritika\",25,\"S03\")\n",
    "std1.print_details()\n",
    "std2.print_details()\n",
    "std3.print_details()\n",
    "\n"
   ]
  },
  {
   "cell_type": "code",
   "execution_count": 9,
   "metadata": {},
   "outputs": [
    {
     "name": "stdout",
     "output_type": "stream",
     "text": [
      "self :  <__main__.Student object at 0x00000052D2683278>\n",
      "self :  <__main__.Student object at 0x00000052D26836D8>\n",
      "self :  <__main__.Student object at 0x00000052D268D4A8>\n",
      "***************\n",
      "self :  <__main__.Student object at 0x00000052D2683278>\n",
      "name :  aproova\n",
      "age  :  26\n",
      "roll :  S01\n",
      "***************\n",
      "self :  <__main__.Student object at 0x00000052D26836D8>\n",
      "name :  MD\n",
      "age  :  27\n",
      "roll :  S02\n",
      "***************\n",
      "self :  <__main__.Student object at 0x00000052D268D4A8>\n",
      "name :  Ritika\n",
      "age  :  25\n",
      "roll :  S03\n"
     ]
    }
   ],
   "source": [
    "# wac for student information\n",
    "\n",
    "class Student():\n",
    "    name = None\n",
    "    age  = None\n",
    "    roll = None\n",
    "    def __init__(self,name,age,roll):\n",
    "        print(\"self : \",self)\n",
    "        self.name = name\n",
    "        self.age =age\n",
    "        self.roll = roll\n",
    "    def print_details(self):\n",
    "        print(\"***************\")\n",
    "        print(\"self : \",self)\n",
    "        print(\"name : \",self.name)\n",
    "        print(\"age  : \",self.age)\n",
    "        print(\"roll : \",self.roll)\n",
    "    \n",
    "std1 = Student(\"aproova\",26,\"S01\")\n",
    "std2 = Student(\"MD\",27,\"S02\")\n",
    "std3 = Student(\"Ritika\",25,\"S03\")\n",
    "std1.print_details()\n",
    "std2.print_details()\n",
    "std3.print_details()\n",
    "\n"
   ]
  },
  {
   "cell_type": "code",
   "execution_count": 1,
   "metadata": {},
   "outputs": [
    {
     "name": "stdout",
     "output_type": "stream",
     "text": [
      "self :  <__main__.Student object at 0x000000C0377F13C8>\n",
      "self :  <__main__.Student object at 0x000000C0377F1390>\n",
      "self :  <__main__.Student object at 0x000000C0377F1358>\n",
      "***************\n",
      "self :  <__main__.Student object at 0x000000C0377F13C8>\n",
      "name :  aproova\n",
      "age  :  26\n",
      "roll :  S01\n",
      "***************\n",
      "self :  <__main__.Student object at 0x000000C0377F1390>\n",
      "name :  MD\n",
      "age  :  27\n",
      "roll :  S02\n",
      "***************\n",
      "self :  <__main__.Student object at 0x000000C0377F1358>\n",
      "name :  Ritika\n",
      "age  :  25\n",
      "roll :  S03\n"
     ]
    }
   ],
   "source": [
    "class Student():\n",
    "    name = None\n",
    "    age  = None\n",
    "    roll = None\n",
    "    def __init__(self,name,age,roll):\n",
    "        print(\"self : \",self)\n",
    "        self.name = name\n",
    "        self.age =age\n",
    "        self.roll = roll\n",
    "    def __del__(self):\n",
    "        print(\"***************\")\n",
    "        print(\"self : \",self)\n",
    "        print(\"name : \",self.name)\n",
    "        print(\"age  : \",self.age)\n",
    "        print(\"roll : \",self.roll)\n",
    "    \n",
    "std1 = Student(\"aproova\",26,\"S01\")\n",
    "std2 = Student(\"MD\",27,\"S02\")\n",
    "std3 = Student(\"Ritika\",25,\"S03\")\n",
    "del std1\n",
    "del std2\n",
    "del std3"
   ]
  },
  {
   "cell_type": "code",
   "execution_count": 4,
   "metadata": {},
   "outputs": [
    {
     "name": "stdout",
     "output_type": "stream",
     "text": [
      "var in class :  123\n",
      "__abc in class:  120\n",
      "<__main__.Data_hide object at 0x000000C036B864E0>\n",
      "var at outside :  123\n"
     ]
    },
    {
     "ename": "AttributeError",
     "evalue": "'Data_hide' object has no attribute '__f'",
     "output_type": "error",
     "traceback": [
      "\u001b[1;31m---------------------------------------------------------------------------\u001b[0m",
      "\u001b[1;31mAttributeError\u001b[0m                            Traceback (most recent call last)",
      "\u001b[1;32m<ipython-input-4-79f6205b7a57>\u001b[0m in \u001b[0;36m<module>\u001b[1;34m\u001b[0m\n\u001b[0;32m     18\u001b[0m \u001b[0mobj\u001b[0m\u001b[1;33m.\u001b[0m\u001b[0mfun\u001b[0m\u001b[1;33m(\u001b[0m\u001b[1;33m)\u001b[0m\u001b[1;33m\u001b[0m\u001b[1;33m\u001b[0m\u001b[0m\n\u001b[0;32m     19\u001b[0m \u001b[0mprint\u001b[0m\u001b[1;33m(\u001b[0m\u001b[1;34m\"var at outside : \"\u001b[0m\u001b[1;33m,\u001b[0m\u001b[0mobj\u001b[0m\u001b[1;33m.\u001b[0m\u001b[0mvar\u001b[0m\u001b[1;33m)\u001b[0m\u001b[1;33m\u001b[0m\u001b[1;33m\u001b[0m\u001b[0m\n\u001b[1;32m---> 20\u001b[1;33m \u001b[0mobj\u001b[0m\u001b[1;33m.\u001b[0m\u001b[0m__f\u001b[0m\u001b[1;33m(\u001b[0m\u001b[1;33m)\u001b[0m\u001b[1;33m\u001b[0m\u001b[1;33m\u001b[0m\u001b[0m\n\u001b[0m\u001b[0;32m     21\u001b[0m \u001b[1;31m#print(\"__abc at outside : \",obj.__abc)\u001b[0m\u001b[1;33m\u001b[0m\u001b[1;33m\u001b[0m\u001b[1;33m\u001b[0m\u001b[0m\n",
      "\u001b[1;31mAttributeError\u001b[0m: 'Data_hide' object has no attribute '__f'"
     ]
    }
   ],
   "source": [
    "#data hiding \n",
    "'''\n",
    "---> The class attributes we can't access by object\n",
    "---> Default all class attributes are public\n",
    "---> By using data hiding we can make private attributes \n",
    "'''\n",
    "class Data_hide():\n",
    "    var = 123 # public attributes\n",
    "    __abc =120# private attributes \n",
    "    def __f(self):# private method\n",
    "        print(self)\n",
    "    def fun(self):\n",
    "        print(\"var in class : \",self.var)\n",
    "        print(\"__abc in class: \",self.__abc)\n",
    "        self.__f()\n",
    "obj = Data_hide()\n",
    "\n",
    "obj.fun()\n",
    "print(\"var at outside : \",obj.var)\n",
    "obj.__f()\n",
    "#print(\"__abc at outside : \",obj.__abc)"
   ]
  },
  {
   "cell_type": "code",
   "execution_count": 12,
   "metadata": {},
   "outputs": [
    {
     "name": "stdout",
     "output_type": "stream",
     "text": [
      "var in class :  123\n",
      "__abc in class:  120\n",
      "<__main__.Data_hide object at 0x000000C037C21518> 13\n",
      "var at outside :  123\n",
      "<__main__.Data_hide object at 0x000000C037C21518> 123\n",
      "__abc at outside :  120\n"
     ]
    }
   ],
   "source": [
    "# Data encapulation \n",
    "'''\n",
    "---> even  the attibute is hided we can accesss by encapulation\n",
    "\n",
    "'''\n",
    "class Data_hide():\n",
    "    var = 123 # public attributes\n",
    "    __abc =120# private attributes \n",
    "    def __f(self,a):# private method\n",
    "        print(self,a)\n",
    "    def fun(self):\n",
    "        print(\"var in class : \",self.var)\n",
    "        print(\"__abc in class: \",self.__abc)\n",
    "        self.__f(13)\n",
    "obj = Data_hide()\n",
    "\n",
    "obj.fun()\n",
    "print(\"var at outside : \",obj.var)\n",
    "obj._Data_hide__f(123) # objectname._classname__private\n",
    "print(\"__abc at outside : \",obj._Data_hide__abc)"
   ]
  },
  {
   "cell_type": "code",
   "execution_count": 15,
   "metadata": {},
   "outputs": [
    {
     "name": "stdout",
     "output_type": "stream",
     "text": [
      "two argument\n"
     ]
    }
   ],
   "source": [
    "# method overloading \n",
    "class Overloading():\n",
    "    def fun(self):\n",
    "        print(\"no argument\")\n",
    "    def fun(self,a):\n",
    "        print(\"single argument\")\n",
    "    def fun(self,a,b):\n",
    "        print(\"two argument\")\n",
    "obj = Overloading()\n",
    "#obj.fun()\n",
    "#obj.fun(123)\n",
    "obj.fun(12,34)\n",
    "# method overloading is not supported \n",
    "# method overridding is supporting \n"
   ]
  },
  {
   "cell_type": "code",
   "execution_count": 17,
   "metadata": {},
   "outputs": [
    {
     "name": "stdout",
     "output_type": "stream",
     "text": [
      "Task1 of poly\n",
      "Task2 of poly\n"
     ]
    }
   ],
   "source": [
    "# polymorphism is not supported bcz method overloading is not supported\n",
    "# we can impliment the polymorphism in different way\n",
    "class Class1():\n",
    "    def poly(self):\n",
    "        print(\"Task1 of poly\")\n",
    "class Class2():\n",
    "    def poly(self):\n",
    "        print(\"Task2 of poly\")   \n",
    "obj1 =Class1()\n",
    "obj2 = Class2()\n",
    "obj1.poly()\n",
    "obj2.poly()"
   ]
  },
  {
   "cell_type": "code",
   "execution_count": 18,
   "metadata": {},
   "outputs": [
    {
     "name": "stdout",
     "output_type": "stream",
     "text": [
      " i am base class\n",
      " i am Deriverd class\n"
     ]
    }
   ],
   "source": [
    "# inheriitance\n",
    "'''\n",
    "class1 ( property) ----> class2 can access \n",
    "'''\n",
    "class Base_class():  # parent class\n",
    "    def fun1(self):\n",
    "        print(\" i am base class\")\n",
    "class Derived_class(Base_class):\n",
    "     def fun2(self):\n",
    "        print(\" i am Deriverd class\")\n",
    "obj = Derived_class()\n",
    "obj.fun1()\n",
    "obj.fun2()"
   ]
  }
 ],
 "metadata": {
  "kernelspec": {
   "display_name": "Python 3",
   "language": "python",
   "name": "python3"
  },
  "language_info": {
   "codemirror_mode": {
    "name": "ipython",
    "version": 3
   },
   "file_extension": ".py",
   "mimetype": "text/x-python",
   "name": "python",
   "nbconvert_exporter": "python",
   "pygments_lexer": "ipython3",
   "version": "3.7.3"
  }
 },
 "nbformat": 4,
 "nbformat_minor": 2
}
