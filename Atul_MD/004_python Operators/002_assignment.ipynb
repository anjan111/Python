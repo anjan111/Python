{
 "cells": [
  {
   "cell_type": "code",
   "execution_count": 1,
   "metadata": {},
   "outputs": [
    {
     "name": "stdout",
     "output_type": "stream",
     "text": [
      "var =  123\n",
      "a  =   123\n",
      "c  =   246\n"
     ]
    }
   ],
   "source": [
    "# Assignment Operators\n",
    "# which can be used for assign the data to variable\n",
    "\n",
    "var = 123  # constant to variable\n",
    "a   = var  # varibalr to variable\n",
    "c   =var+a #expression  to variable\n",
    "print(\"var = \",var)\n",
    "print(\"a  =  \",a)\n",
    "print(\"c  =  \",c)"
   ]
  },
  {
   "cell_type": "code",
   "execution_count": 5,
   "metadata": {},
   "outputs": [
    {
     "name": "stdout",
     "output_type": "stream",
     "text": [
      "a =  24\n",
      "a =  24\n",
      "a =  24\n",
      "a =  0\n",
      "a =  0\n",
      "a =  144\n"
     ]
    }
   ],
   "source": [
    "# assignmnet then Update \n",
    "a = 12\n",
    "b = 12\n",
    "a = a+b\n",
    "print(\"a = \",a)\n",
    "a = 12\n",
    "b = 12\n",
    "a +=  b    #  a = a+b\n",
    "print(\"a = \",a)\n",
    "print(\"a = \",a)\n",
    "a = 12\n",
    "b = 12\n",
    "a -=  b    #  a = a-b\n",
    "print(\"a = \",a)\n",
    "print(\"a = \",a)\n",
    "a = 12\n",
    "b = 12\n",
    "a *=  b    #  a = a*b\n",
    "print(\"a = \",a)\n",
    "# speed we can increase "
   ]
  },
  {
   "cell_type": "code",
   "execution_count": null,
   "metadata": {},
   "outputs": [],
   "source": []
  }
 ],
 "metadata": {
  "kernelspec": {
   "display_name": "Python 3",
   "language": "python",
   "name": "python3"
  },
  "language_info": {
   "codemirror_mode": {
    "name": "ipython",
    "version": 3
   },
   "file_extension": ".py",
   "mimetype": "text/x-python",
   "name": "python",
   "nbconvert_exporter": "python",
   "pygments_lexer": "ipython3",
   "version": "3.7.3"
  }
 },
 "nbformat": 4,
 "nbformat_minor": 2
}
