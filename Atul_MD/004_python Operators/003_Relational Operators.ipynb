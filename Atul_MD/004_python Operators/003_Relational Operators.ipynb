{
 "cells": [
  {
   "cell_type": "markdown",
   "metadata": {},
   "source": [
    "# relational Operators\n",
    "\n",
    "----> to compare ===> comparision \n",
    "\n",
    "---->  to relationship ===>  relational\n",
    "\n",
    "---->  Boolean Data   ===> Boolean Operators\n",
    "\n",
    "----> with in conditional Statement ====>  Conditional \n",
    "\n",
    "# we have 6 relational Operators\n",
    "\n",
    "            1. lessthan                <\n",
    "            2. greaterthan             >\n",
    "            3. equal to                ==            \n",
    "            4. not equal to            !=            \n",
    "            5. lessthan or equal        <=            \n",
    "            6. greaterthan or equal     >="
   ]
  },
  {
   "cell_type": "code",
   "execution_count": 6,
   "metadata": {
    "scrolled": true
   },
   "outputs": [
    {
     "name": "stdout",
     "output_type": "stream",
     "text": [
      "enter a : 78\n",
      "enter b : 78\n",
      "78  <  78  is  False\n",
      "78  >  78  is  False\n",
      "78  ==  78  is  True\n",
      "78  !=  78  is  False\n",
      "78  <=  78  is  True\n",
      "78  >=  78  is  True\n"
     ]
    }
   ],
   "source": [
    "a = int(input(\"enter a : \"))\n",
    "b = int(input('enter b : '))\n",
    "print(a,\" < \",b,\" is \",a < b)\n",
    "print(a,\" > \",b,\" is \",a > b)\n",
    "print(a,\" == \",b,\" is \",a == b)\n",
    "print(a,\" != \",b,\" is \",a != b)\n",
    "print(a,\" <= \",b,\" is \",a <= b)\n",
    "print(a,\" >= \",b,\" is \",a >= b)"
   ]
  },
  {
   "cell_type": "code",
   "execution_count": null,
   "metadata": {},
   "outputs": [],
   "source": [
    "#lessthan or equal \n",
    "---> True ====> left side data is lessthan the right side data\n",
    "\n",
    "---> True ====> both are same\n",
    "\n",
    "---> False  ===> otherwise "
   ]
  },
  {
   "cell_type": "code",
   "execution_count": 5,
   "metadata": {},
   "outputs": [
    {
     "name": "stdout",
     "output_type": "stream",
     "text": [
      "enter a : 12.0\n",
      "enter b : 12.0\n",
      "12.0  <  12.0  is  False\n",
      "12.0  >  12.0  is  False\n",
      "12.0  ==  12.0  is  True\n",
      "12.0  !=  12.0  is  False\n",
      "12.0  <=  12.0  is  True\n",
      "12.0  >=  12.0  is  True\n"
     ]
    }
   ],
   "source": [
    "a = float(input(\"enter a : \"))\n",
    "b = float(input('enter b : '))\n",
    "print(a,\" < \",b,\" is \",a < b)\n",
    "print(a,\" > \",b,\" is \",a > b)\n",
    "print(a,\" == \",b,\" is \",a == b)\n",
    "print(a,\" != \",b,\" is \",a != b)\n",
    "print(a,\" <= \",b,\" is \",a <= b)\n",
    "print(a,\" >= \",b,\" is \",a >= b)"
   ]
  },
  {
   "cell_type": "code",
   "execution_count": null,
   "metadata": {},
   "outputs": [],
   "source": [
    "# compare the all datatype"
   ]
  },
  {
   "cell_type": "code",
   "execution_count": 9,
   "metadata": {},
   "outputs": [
    {
     "name": "stdout",
     "output_type": "stream",
     "text": [
      "enter a num : 9\n",
      "9  is even  False\n"
     ]
    }
   ],
   "source": [
    "# wap find given number is even or not\n",
    "num = int(input(\"enter a num : \"))\n",
    "rim = num % 2\n",
    "print(num,\" is even \",rim == 0)"
   ]
  },
  {
   "cell_type": "code",
   "execution_count": null,
   "metadata": {},
   "outputs": [],
   "source": [
    "# wap find given number is divisble of 5 or not "
   ]
  }
 ],
 "metadata": {
  "kernelspec": {
   "display_name": "Python 3",
   "language": "python",
   "name": "python3"
  },
  "language_info": {
   "codemirror_mode": {
    "name": "ipython",
    "version": 3
   },
   "file_extension": ".py",
   "mimetype": "text/x-python",
   "name": "python",
   "nbconvert_exporter": "python",
   "pygments_lexer": "ipython3",
   "version": "3.7.3"
  }
 },
 "nbformat": 4,
 "nbformat_minor": 2
}
