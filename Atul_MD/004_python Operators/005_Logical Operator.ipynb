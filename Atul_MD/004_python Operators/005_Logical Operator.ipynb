{
 "cells": [
  {
   "cell_type": "markdown",
   "metadata": {},
   "source": [
    "#logical Operators\n",
    "\n",
    "----> to check the Truth tables each operand s\n",
    "\n",
    "1. and \n",
    "\n",
    "----> 1st operand is False case then output is 1st input value other wise \n",
    "2nd input value\n",
    "\n",
    "2. or\n",
    "\n",
    "----> 1st operand is True case then output is 1st input value other wise \n",
    "2nd input value\n",
    "\n",
    "\n",
    "3. not\n",
    "\n",
    "True ---> input is Fasle case\n",
    "\n",
    "Flase --> input is True case"
   ]
  },
  {
   "cell_type": "code",
   "execution_count": 2,
   "metadata": {},
   "outputs": [
    {
     "name": "stdout",
     "output_type": "stream",
     "text": [
      "7\n",
      "[]\n",
      "3\n"
     ]
    }
   ],
   "source": [
    "print(10 and 7)# ----> 7\n",
    "print([] and 56)# []\n",
    "print(\" \" and 3)# 3"
   ]
  },
  {
   "cell_type": "code",
   "execution_count": 4,
   "metadata": {},
   "outputs": [
    {
     "name": "stdout",
     "output_type": "stream",
     "text": [
      "10\n",
      "56\n",
      "3\n"
     ]
    }
   ],
   "source": [
    "print(10 or 7)# ----> 10\n",
    "print([] or  56)# 56\n",
    "print(\"\" or 3)# 3"
   ]
  },
  {
   "cell_type": "code",
   "execution_count": 6,
   "metadata": {},
   "outputs": [
    {
     "name": "stdout",
     "output_type": "stream",
     "text": [
      "True\n",
      "False\n"
     ]
    }
   ],
   "source": [
    "#logical not \n",
    "\n",
    "print(not \"\") # True\n",
    "print(not 34)  # False"
   ]
  }
 ],
 "metadata": {
  "kernelspec": {
   "display_name": "Python 3",
   "language": "python",
   "name": "python3"
  },
  "language_info": {
   "codemirror_mode": {
    "name": "ipython",
    "version": 3
   },
   "file_extension": ".py",
   "mimetype": "text/x-python",
   "name": "python",
   "nbconvert_exporter": "python",
   "pygments_lexer": "ipython3",
   "version": "3.7.3"
  }
 },
 "nbformat": 4,
 "nbformat_minor": 2
}
