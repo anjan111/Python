{
 "cells": [
  {
   "cell_type": "markdown",
   "metadata": {},
   "source": [
    "# membership  operators\n",
    "\n",
    "---> one element is aviable on another group of elements or not\n",
    "\n",
    "    1.  in  \n",
    "                True ---> when the data is avaiable\n",
    "                False --> other wise\n",
    "    \n",
    "    2.  not in    \n",
    "                True ---> when the data is not avaiable                \n",
    "                False ---> other wise"
   ]
  },
  {
   "cell_type": "code",
   "execution_count": 4,
   "metadata": {},
   "outputs": [
    {
     "name": "stdout",
     "output_type": "stream",
     "text": [
      "enter any single character : 7\n",
      "7  is vowel  False\n"
     ]
    }
   ],
   "source": [
    "# wap given character is vowel or not\n",
    "vowel ='aeiouAEIOE'\n",
    "char = input(\"enter any single character : \")\n",
    "print(char,\" is vowel \",char in vowel)"
   ]
  },
  {
   "cell_type": "code",
   "execution_count": 7,
   "metadata": {},
   "outputs": [
    {
     "name": "stdout",
     "output_type": "stream",
     "text": [
      "enter any single character : a\n",
      "a  is consonat  False\n"
     ]
    }
   ],
   "source": [
    "# wap given character is consonat or not\n",
    "vowel ='aeiouAEIOE'\n",
    "char = input(\"enter any single character : \")\n",
    "print(char,\" is consonat \",char  not in vowel)"
   ]
  },
  {
   "cell_type": "markdown",
   "metadata": {},
   "source": [
    "# Identity Operator :\n",
    "\n",
    "----> To check Both the operands are same memory locations\n",
    "\n",
    "1. is \n",
    "\n",
    "        True ----> When both operands are same memory location\n",
    "    \n",
    "        False ----> other wise \n",
    "        \n",
    "2. is not \n",
    "\n",
    "        False----> When both operands are same memory location\n",
    "    \n",
    "        True ----> other wise"
   ]
  },
  {
   "cell_type": "code",
   "execution_count": 3,
   "metadata": {},
   "outputs": [
    {
     "name": "stdout",
     "output_type": "stream",
     "text": [
      "140713271989344\n",
      "140713271989664\n",
      "140713271989344\n",
      "False\n",
      "True\n",
      "True\n",
      "False\n"
     ]
    }
   ],
   "source": [
    "a = 10\n",
    "b = 20\n",
    "c = 10\n",
    "print(id(a));print(id(b));print(id(c))\n",
    "print( a is b)\n",
    "print( a is not b)\n",
    "print( a is c)\n",
    "print (a is not c)"
   ]
  },
  {
   "cell_type": "code",
   "execution_count": null,
   "metadata": {},
   "outputs": [],
   "source": []
  }
 ],
 "metadata": {
  "kernelspec": {
   "display_name": "Python 3",
   "language": "python",
   "name": "python3"
  },
  "language_info": {
   "codemirror_mode": {
    "name": "ipython",
    "version": 3
   },
   "file_extension": ".py",
   "mimetype": "text/x-python",
   "name": "python",
   "nbconvert_exporter": "python",
   "pygments_lexer": "ipython3",
   "version": "3.7.3"
  }
 },
 "nbformat": 4,
 "nbformat_minor": 2
}
