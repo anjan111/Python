{
 "cells": [
  {
   "cell_type": "code",
   "execution_count": 1,
   "metadata": {},
   "outputs": [
    {
     "name": "stdout",
     "output_type": "stream",
     "text": [
      "enter a : 7\n",
      "enter b : 2\n",
      "7  +  2  =  9\n",
      "7  -  2  =  5\n",
      "7  *  2  =  14\n",
      "7  /  2  =  3.5\n",
      "7  //  2  =  3\n",
      "7  %  2  =  1\n",
      "7  **  2  =  49\n"
     ]
    }
   ],
   "source": [
    "a = int(input(\"enter a : \"))\n",
    "b = int(input(\"enter b : \"))\n",
    "print(a,\" + \",b,\" = \",a+b)\n",
    "print(a,\" - \",b,\" = \",a-b)\n",
    "print(a,\" * \",b,\" = \",a*b)\n",
    "print(a,\" / \",b,\" = \",a/b)\n",
    "print(a,\" // \",b,\" = \",a//b)\n",
    "print(a,\" % \",b,\" = \",a%b)\n",
    "print(a,\" ** \",b,\" = \",a**b)"
   ]
  },
  {
   "cell_type": "code",
   "execution_count": 2,
   "metadata": {},
   "outputs": [
    {
     "name": "stdout",
     "output_type": "stream",
     "text": [
      "enter a : 7.0\n",
      "enter b : 2.0\n",
      "7.0  +  2.0  =  9.0\n",
      "7.0  -  2.0  =  5.0\n",
      "7.0  *  2.0  =  14.0\n",
      "7.0  /  2.0  =  3.5\n",
      "7.0  //  2.0  =  3.0\n",
      "7.0  %  2.0  =  1.0\n",
      "7.0  **  2.0  =  49.0\n"
     ]
    }
   ],
   "source": [
    "a = float(input(\"enter a : \"))\n",
    "b = float(input(\"enter b : \"))\n",
    "print(a,\" + \",b,\" = \",a+b)\n",
    "print(a,\" - \",b,\" = \",a-b)\n",
    "print(a,\" * \",b,\" = \",a*b)\n",
    "print(a,\" / \",b,\" = \",a/b)\n",
    "print(a,\" // \",b,\" = \",a//b)\n",
    "print(a,\" % \",b,\" = \",a%b)\n",
    "print(a,\" ** \",b,\" = \",a**b)"
   ]
  },
  {
   "cell_type": "code",
   "execution_count": 4,
   "metadata": {},
   "outputs": [
    {
     "name": "stdout",
     "output_type": "stream",
     "text": [
      "enter radius of the circle in meters: 7\n",
      "area of circle is  154.0  sq.m when radius is  7.0 meters\n",
      "perimeter  of circle is  44.0  meters when radius is  7.0 meters\n"
     ]
    }
   ],
   "source": [
    "# wap find the area of circle ( pi*r*r) and perimeter(2*pi*r)\n",
    "r = float(input(\"enter radius of the circle in meters: \"))\n",
    "pi= 22.0/7\n",
    "area = pi*(r**2)\n",
    "peri = 2*pi*r\n",
    "print(\"area of circle is \",area,\" sq.m when radius is \",r,\"meters\")\n",
    "print(\"perimeter  of circle is \",peri,\" meters when radius is \",r,\"meters\")"
   ]
  },
  {
   "cell_type": "code",
   "execution_count": null,
   "metadata": {},
   "outputs": [],
   "source": [
    "# wap find the area and perimter of square \n"
   ]
  },
  {
   "cell_type": "code",
   "execution_count": null,
   "metadata": {},
   "outputs": [],
   "source": [
    "# wap find the area and perimter of reactangle\n"
   ]
  },
  {
   "cell_type": "code",
   "execution_count": null,
   "metadata": {},
   "outputs": [],
   "source": [
    "# wap find the area and perimter of triangle \n"
   ]
  },
  {
   "cell_type": "code",
   "execution_count": null,
   "metadata": {},
   "outputs": [],
   "source": [
    "# wap find the area and volume of cube \n"
   ]
  },
  {
   "cell_type": "code",
   "execution_count": null,
   "metadata": {},
   "outputs": [],
   "source": [
    "# wap find the area and volume of room \n"
   ]
  },
  {
   "cell_type": "code",
   "execution_count": null,
   "metadata": {},
   "outputs": [],
   "source": [
    "# wap find the area and volume of cylender \n"
   ]
  },
  {
   "cell_type": "code",
   "execution_count": null,
   "metadata": {},
   "outputs": [],
   "source": [
    "# wap find simple intrest and total amount "
   ]
  }
 ],
 "metadata": {
  "kernelspec": {
   "display_name": "Python 3",
   "language": "python",
   "name": "python3"
  },
  "language_info": {
   "codemirror_mode": {
    "name": "ipython",
    "version": 3
   },
   "file_extension": ".py",
   "mimetype": "text/x-python",
   "name": "python",
   "nbconvert_exporter": "python",
   "pygments_lexer": "ipython3",
   "version": "3.7.3"
  }
 },
 "nbformat": 4,
 "nbformat_minor": 2
}
