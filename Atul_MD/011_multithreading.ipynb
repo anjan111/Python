{
 "cells": [
  {
   "cell_type": "code",
   "execution_count": 2,
   "metadata": {},
   "outputs": [
    {
     "name": "stdout",
     "output_type": "stream",
     "text": [
      "start time :  1566261788.5736969\n",
      "hai\n",
      "hai\n",
      "hai\n",
      "hai\n",
      "hai\n",
      "bye\n",
      "bye\n",
      "bye\n",
      "bye\n",
      "bye\n",
      "stop time :  1566261798.5869539\n"
     ]
    }
   ],
   "source": [
    "from time import sleep,time\n",
    "print(\"start time : \",time())\n",
    "def fun(arg = \"hello\"):\n",
    "    for i in range(5):\n",
    "        print(arg)\n",
    "        sleep(1)\n",
    "fun(\"hai\")\n",
    "fun(\"bye\")\n",
    "print(\"stop time : \",time())"
   ]
  },
  {
   "cell_type": "code",
   "execution_count": 4,
   "metadata": {},
   "outputs": [
    {
     "name": "stdout",
     "output_type": "stream",
     "text": [
      "start time :  1566262263.200999\n",
      "hai   anjan\n",
      "byestop time :    apoorva\n",
      " 1566262263.227067\n",
      "hai   anjan\n",
      "bye   apoorva\n",
      "hai   anjan\n",
      "bye   apoorva\n",
      "hai   anjan\n",
      "bye   apoorva\n",
      "hai   anjan\n",
      "bye   apoorva\n"
     ]
    }
   ],
   "source": [
    "from time import sleep,time\n",
    "import threading as th\n",
    "print(\"start time : \",time())\n",
    "def fun(arg1 = \"hello\",arg2 =\"hello\"):\n",
    "    for i in range(5):\n",
    "        print(arg1,\" \",arg2)\n",
    "        sleep(1)\n",
    "t1 = th.Thread(target= fun ,args =(\"hai\",\"anjan\"))\n",
    "t2 = th.Thread(target= fun ,args =(\"bye\",\"apoorva\"))\n",
    "t1.start()\n",
    "t2.start()\n",
    "print(\"stop time : \",time())"
   ]
  }
 ],
 "metadata": {
  "kernelspec": {
   "display_name": "Python 3",
   "language": "python",
   "name": "python3"
  },
  "language_info": {
   "codemirror_mode": {
    "name": "ipython",
    "version": 3
   },
   "file_extension": ".py",
   "mimetype": "text/x-python",
   "name": "python",
   "nbconvert_exporter": "python",
   "pygments_lexer": "ipython3",
   "version": "3.7.3"
  }
 },
 "nbformat": 4,
 "nbformat_minor": 2
}
